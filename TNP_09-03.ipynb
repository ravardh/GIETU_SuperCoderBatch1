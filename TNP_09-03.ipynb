{
 "cells": [
  {
   "cell_type": "code",
   "execution_count": 1,
   "id": "2ba38e31-da7c-4895-a7ed-652597807911",
   "metadata": {},
   "outputs": [
    {
     "name": "stdout",
     "output_type": "stream",
     "text": [
      "Minimum Distance of vertex 1 from 3 is 12\n",
      "Minimum Distance of vertex 2 from 3 is 8\n",
      "Minimum Distance of vertex 8 from 3 is 7\n",
      "Minimum Distance of vertex 3 from 3 is 0\n",
      "Minimum Distance of vertex 4 from 3 is 7\n",
      "Minimum Distance of vertex 6 from 3 is 4\n",
      "Minimum Distance of vertex 9 from 3 is 2\n",
      "Minimum Distance of vertex 5 from 3 is 14\n",
      "Minimum Distance of vertex 7 from 3 is 6\n"
     ]
    }
   ],
   "source": [
    "class Graph:\n",
    "    def __init__(self, vertices):\n",
    "        self.graph_dict = {}\n",
    "        self.num_vertices = vertices\n",
    "\n",
    "    def add_edge(self, vertex1, vertex2, weight):\n",
    "        if vertex1 not in self.graph_dict:\n",
    "            self.graph_dict[vertex1] = {}\n",
    "        self.graph_dict[vertex1][vertex2] = weight\n",
    "\n",
    "        if vertex2 not in self.graph_dict:\n",
    "            self.graph_dict[vertex2] = {}\n",
    "        self.graph_dict[vertex2][vertex1] = weight\n",
    "\n",
    "    def dijkstra(self, start_vertex):\n",
    "        distances = {}\n",
    "        path = [float('inf')] * self.num_vertices\n",
    "        path[start_vertex - 1] = 0\n",
    "        current_vertex = start_vertex\n",
    "\n",
    "        for vertex in self.graph_dict:\n",
    "            distances[vertex] = float('inf')\n",
    "\n",
    "        while distances:\n",
    "            current_distance = path[current_vertex - 1]\n",
    "            for neighbor_vertex in self.graph_dict[current_vertex]:\n",
    "                if neighbor_vertex in distances:\n",
    "                    distances[neighbor_vertex] = min(distances[neighbor_vertex], current_distance + self.graph_dict[current_vertex][neighbor_vertex])\n",
    "                    path[neighbor_vertex - 1] = distances[neighbor_vertex]\n",
    "            del distances[current_vertex]\n",
    "            if distances:\n",
    "                current_vertex = min(distances, key=distances.get)\n",
    "\n",
    "        for vertex in self.graph_dict:\n",
    "            print(f\"Minimum Distance of vertex {vertex} from {start_vertex} is {path[vertex - 1]}\")\n",
    "\n",
    "\n",
    "g = Graph(9)\n",
    "g.add_edge(1, 2, 4)\n",
    "g.add_edge(1, 8, 8)\n",
    "g.add_edge(2, 3, 8)\n",
    "g.add_edge(2, 8, 11)\n",
    "g.add_edge(3, 4, 7)\n",
    "g.add_edge(3, 6, 4)\n",
    "g.add_edge(3, 9, 2)\n",
    "g.add_edge(4, 5, 9)\n",
    "g.add_edge(4, 6, 14)\n",
    "g.add_edge(5, 6, 10)\n",
    "g.add_edge(6, 7, 2)\n",
    "g.add_edge(7, 8, 1)\n",
    "g.add_edge(7, 9, 6)\n",
    "g.add_edge(8, 9, 7)\n",
    "\n",
    "g.dijkstra(3)\n"
   ]
  },
  {
   "cell_type": "code",
   "execution_count": null,
   "id": "0b02b5b6-5d5a-4de6-947a-1f71cda61f46",
   "metadata": {},
   "outputs": [],
   "source": []
  },
  {
   "cell_type": "code",
   "execution_count": null,
   "id": "59afec56-1ac5-4a2e-bbe0-1aef50d3f1ad",
   "metadata": {},
   "outputs": [],
   "source": []
  }
 ],
 "metadata": {
  "kernelspec": {
   "display_name": "Python 3 (ipykernel)",
   "language": "python",
   "name": "python3"
  },
  "language_info": {
   "codemirror_mode": {
    "name": "ipython",
    "version": 3
   },
   "file_extension": ".py",
   "mimetype": "text/x-python",
   "name": "python",
   "nbconvert_exporter": "python",
   "pygments_lexer": "ipython3",
   "version": "3.10.4"
  }
 },
 "nbformat": 4,
 "nbformat_minor": 5
}
