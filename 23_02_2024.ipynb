{
  "nbformat": 4,
  "nbformat_minor": 0,
  "metadata": {
    "colab": {
      "provenance": [],
      "authorship_tag": "ABX9TyMt8/y5NaxagU8HRfHhBS1c",
      "include_colab_link": true
    },
    "kernelspec": {
      "name": "python3",
      "display_name": "Python 3"
    },
    "language_info": {
      "name": "python"
    }
  },
  "cells": [
    {
      "cell_type": "markdown",
      "metadata": {
        "id": "view-in-github",
        "colab_type": "text"
      },
      "source": [
        "<a href=\"https://colab.research.google.com/github/ravardh/GIETU_SuperCoderBatch1/blob/Ashish_21cse101/23_02_2024.ipynb\" target=\"_parent\"><img src=\"https://colab.research.google.com/assets/colab-badge.svg\" alt=\"Open In Colab\"/></a>"
      ]
    },
    {
      "cell_type": "markdown",
      "source": [
        "**Qucik Sort**"
      ],
      "metadata": {
        "id": "ZRSmhomHFXkT"
      }
    },
    {
      "cell_type": "code",
      "execution_count": null,
      "metadata": {
        "colab": {
          "base_uri": "https://localhost:8080/"
        },
        "id": "q33SwzQx9iHj",
        "outputId": "579097b1-62e8-4f79-c1e0-52480b187a32"
      },
      "outputs": [
        {
          "output_type": "stream",
          "name": "stdout",
          "text": [
            "[10, 21, 44, 63, 69, 75, 78, 85, 90]\n"
          ]
        }
      ],
      "source": [
        "def find(arr,s,e):\n",
        "  p=arr[e]\n",
        "  i=s\n",
        "  j=s-1\n",
        "  for i in range(s,e):\n",
        "    if(arr[i]<p):\n",
        "      j=j+1\n",
        "      arr[i],arr[j]=arr[j],arr[i]\n",
        "  j=j+1\n",
        "  arr[j],arr[e]=arr[e],arr[j]\n",
        "  return j\n",
        "\n",
        "def quicksort(arr,s,e):\n",
        "  if s<e:\n",
        "    pi=find(arr,s,e)\n",
        "    quicksort(arr,s,pi-1)\n",
        "    quicksort(arr,pi+1,e)\n",
        "\n",
        "if __name__=='__main__':\n",
        "  arr=[85,75,10,90,44,63,21,78,69]\n",
        "  quicksort(arr,0,len(arr)-1)\n",
        "  print(arr)\n"
      ]
    },
    {
      "cell_type": "markdown",
      "source": [
        "**Merge Sort**"
      ],
      "metadata": {
        "id": "OhcwPlkVFWTr"
      }
    },
    {
      "cell_type": "code",
      "source": [
        "def merge_sort(arr):\n",
        "\n",
        "    if len(arr) <= 1:\n",
        "        return arr\n",
        "    mid = len(arr) // 2\n",
        "    left_half = arr[:mid]\n",
        "    right_half = arr[mid:]\n",
        "\n",
        "    left_half = merge_sort(left_half)\n",
        "    right_half = merge_sort(right_half)\n",
        "    return merge(left_half, right_half)\n",
        "\n",
        "def merge(left, right):\n",
        "    merged = []\n",
        "    left_index, right_index = 0, 0\n",
        "    while left_index < len(left) and right_index < len(right):\n",
        "        if left[left_index] < right[right_index]:\n",
        "            merged.append(left[left_index])\n",
        "            left_index += 1\n",
        "        else:\n",
        "            merged.append(right[right_index])\n",
        "            right_index += 1\n",
        "\n",
        "    while left_index < len(left):\n",
        "        merged.append(left[left_index])\n",
        "        left_index += 1\n",
        "    while right_index < len(right):\n",
        "        merged.append(right[right_index])\n",
        "        right_index += 1\n",
        "\n",
        "    return merged\n",
        "arr = [4, 8, 2, 3, 7, 5, 1, 9, 6]\n",
        "sorted_arr = merge_sort(arr)\n",
        "print(sorted_arr)"
      ],
      "metadata": {
        "colab": {
          "base_uri": "https://localhost:8080/"
        },
        "id": "ogsY5zrDDYgu",
        "outputId": "4b25a5b7-bba8-4b18-d71f-5235445bb39a"
      },
      "execution_count": null,
      "outputs": [
        {
          "output_type": "stream",
          "name": "stdout",
          "text": [
            "Maximum sum of 3 consecutive terms: 24\n"
          ]
        }
      ]
    },
    {
      "cell_type": "markdown",
      "source": [
        "Sum of three consecutive terms and maximize the sum of 3 terms"
      ],
      "metadata": {
        "id": "Ua9YA3EbO2A0"
      }
    },
    {
      "cell_type": "code",
      "source": [
        "arr = [5, 4, 2, 6, 3, 8, 9, 7, 4, 7, 3, 6, 9, 8, 2, 4, 6, 8, 6, 2, 3, 4, 5, 1, 4, 2]\n",
        "sum_of_3 = []\n",
        "for i in range(len(arr)-2):\n",
        "  current_sum = sum(arr[i:i+3])\n",
        "  sum_of_3.append(current_sum)\n",
        "max_sum_of_3 = max(sum_of_3)\n",
        "print(\"Maximum sum of 3 consecutive terms:\", max_sum_of_3)"
      ],
      "metadata": {
        "colab": {
          "base_uri": "https://localhost:8080/"
        },
        "id": "HX11tZQCO03l",
        "outputId": "1c12e527-7a50-4e79-f3a5-d5d5dd71a4a4"
      },
      "execution_count": null,
      "outputs": [
        {
          "output_type": "stream",
          "name": "stdout",
          "text": [
            "Maximum sum of 3 consecutive terms: 24\n"
          ]
        }
      ]
    },
    {
      "cell_type": "markdown",
      "source": [
        "Sum of three consecutive terms and maximize the sum of 3 terms as user input"
      ],
      "metadata": {
        "id": "DjMrebL1UCL5"
      }
    },
    {
      "cell_type": "code",
      "source": [
        "arr_str = input(\"Enter the elements of the array \")\n",
        "arr_str_list = arr_str.split()\n",
        "arr = []\n",
        "\n",
        "for element in arr_str_list:\n",
        "    arr.append(int(element))\n",
        "\n",
        "sum_of_3 = []\n",
        "\n",
        "for i in range(len(arr)-2):\n",
        "    current_sum = sum(arr[i:i+3])\n",
        "    sum_of_3.append(current_sum)\n",
        "\n",
        "max_sum_of_3 = max(sum_of_3)\n",
        "\n",
        "print(\"Maximum sum of 3 consecutive terms:\", max_sum_of_3)\n"
      ],
      "metadata": {
        "colab": {
          "base_uri": "https://localhost:8080/"
        },
        "id": "IKUOzZNCQkTM",
        "outputId": "6327f4f9-2330-43ad-dcd3-4e6475b655f6"
      },
      "execution_count": null,
      "outputs": [
        {
          "output_type": "stream",
          "name": "stdout",
          "text": [
            "Enter the elements of the array separated by spaces: 5 4 2 6 3 8 9 7 4 7 3 6 9 8 2 4 6 8 6 2 3 4 5 1 4 2\n",
            "Maximum sum of 3 consecutive terms: 24\n"
          ]
        }
      ]
    },
    {
      "cell_type": "code",
      "source": [
        "#sliding window\n",
        "arr = [1, 3, 5, 2, 7, 4, 8, 9, 5, 3, 5, 7, 9, 3, 2, 0]\n",
        "k = int(input(\"enter the value of window: \"))\n",
        "sum = 0\n",
        "max = 0\n",
        "for i in range(k):\n",
        "    sum = sum+arr[i]\n",
        "max = sum\n",
        "for i in range(k, len(arr)):\n",
        "    sum = sum-arr[i-k]+arr[i]\n",
        "    if (sum > max):\n",
        "        max = sum\n",
        "print(max)"
      ],
      "metadata": {
        "id": "Afw2bgHmH9G5"
      },
      "execution_count": null,
      "outputs": []
    }
  ]
}