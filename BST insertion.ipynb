{
 "cells": [
  {
   "cell_type": "code",
   "execution_count": 10,
   "id": "594db7b4",
   "metadata": {},
   "outputs": [
    {
     "name": "stdout",
     "output_type": "stream",
     "text": [
      "17 15 14 12 10 9 8 7 5 3 2 "
     ]
    }
   ],
   "source": [
    "class node:\n",
    "    def __init__(self,info):\n",
    "        self.data=info\n",
    "        self.left=None\n",
    "        self.right=None\n",
    "        \n",
    "def insertion(root,ele):\n",
    "    if root.data>ele:\n",
    "        if root.right==None:\n",
    "            root.right=node(ele)\n",
    "            return\n",
    "        insertion(root.right,ele)\n",
    "    elif root.data<ele:\n",
    "        if root.left==None:\n",
    "            root.left=node(ele)\n",
    "            return\n",
    "        insertion(root.left,ele)\n",
    "        \n",
    "        \n",
    "def inorder(root):    \n",
    "    if root:\n",
    "        inorder(root.left)\n",
    "        print(root.data,end=\" \")\n",
    "        inorder(root.right)\n",
    "        \n",
    "\n",
    "\n",
    "list1=[10,14,17,9,5,15,12,7,8,2,3]\n",
    "root=node(list1[0])\n",
    "for i in range(1,len(list1)):\n",
    "    insertion(root,list1[i])\n",
    "inorder(root)       \n",
    "        \n"
   ]
  },
  {
   "cell_type": "code",
   "execution_count": null,
   "id": "fc4663e2",
   "metadata": {},
   "outputs": [],
   "source": []
  }
 ],
 "metadata": {
  "kernelspec": {
   "display_name": "Python 3 (ipykernel)",
   "language": "python",
   "name": "python3"
  },
  "language_info": {
   "codemirror_mode": {
    "name": "ipython",
    "version": 3
   },
   "file_extension": ".py",
   "mimetype": "text/x-python",
   "name": "python",
   "nbconvert_exporter": "python",
   "pygments_lexer": "ipython3",
   "version": "3.11.3"
  }
 },
 "nbformat": 4,
 "nbformat_minor": 5
}
