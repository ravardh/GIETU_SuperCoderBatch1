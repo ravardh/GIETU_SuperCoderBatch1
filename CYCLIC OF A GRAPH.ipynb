{
 "cells": [
  {
   "cell_type": "code",
   "execution_count": 10,
   "id": "a26f81b6",
   "metadata": {},
   "outputs": [
    {
     "name": "stdout",
     "output_type": "stream",
     "text": [
      "Checking for cycles in the graph:\n",
      "No cycle detected in the graph.\n"
     ]
    }
   ],
   "source": [
    "class Graph:\n",
    "    def __init__(self, vertices):\n",
    "        self.graph = [[] for _ in range(vertices)]\n",
    "\n",
    "    def add_edge(self, sn, en):\n",
    "        self.graph[sn].append(en)\n",
    "\n",
    "    def check(self, start, visited=None, track=None):\n",
    "        if visited is None:\n",
    "            visited = set()\n",
    "        if track is None:\n",
    "            track = set()\n",
    "\n",
    "        if start not in visited:\n",
    "            visited.add(start)\n",
    "            track.add(start)\n",
    "\n",
    "            for child in self.graph[start]:\n",
    "                if child in track:\n",
    "                    print(\"Cycle detected\")\n",
    "                    return True\n",
    "                if self.check(child, visited, track):\n",
    "                    return True\n",
    "\n",
    "            track.remove(start)  \n",
    "        return False\n",
    "\n",
    "g = Graph(10)\n",
    "\n",
    "\n",
    "g.add_edge(1,2)\n",
    "g.add_edge(2,4)\n",
    "g.add_edge(4,3)\n",
    "g.add_edge(1,3)\n",
    "g.add_edge(3,5)\n",
    "g.add_edge(5,6)\n",
    "g.add_edge(6,7)\n",
    "\n",
    "\n",
    "\n",
    "print(\"Checking for cycles in the graph:\")\n",
    "has_cycle = g.check(1)\n",
    "if not has_cycle:\n",
    "    print(\"No cycle detected in the graph.\")\n"
   ]
  },
  {
   "cell_type": "code",
   "execution_count": null,
   "id": "d0ed7617",
   "metadata": {},
   "outputs": [],
   "source": []
  },
  {
   "cell_type": "code",
   "execution_count": 17,
   "id": "79d04bba",
   "metadata": {},
   "outputs": [
    {
     "name": "stdout",
     "output_type": "stream",
     "text": [
      "[[(1, 2, 1)], [(2, 1, 1)]]\n",
      "Does the graph contain a cycle? False\n"
     ]
    }
   ],
   "source": [
    "def DFS_cycle(start, graph, visited, parent):\n",
    "    visited[start - 1] = True\n",
    "\n",
    "    for i in graph[start - 1]:\n",
    "        if not visited[i[1] - 1]:\n",
    "            parent[i[1] - 1] = start\n",
    "            if DFS_cycle(i[1], graph, visited, parent):\n",
    "                return True\n",
    "        elif parent[start - 1] != i[1]:\n",
    "            return True\n",
    "\n",
    "    return False\n",
    "\n",
    "\n",
    "def has_cycle(graph):\n",
    "    v = len(graph)\n",
    "    visited = [False] * v\n",
    "    parent = [-1] * v\n",
    "\n",
    "    for i in range(v):\n",
    "        if not visited[i]:\n",
    "            if DFS_cycle(i + 1, graph, visited, parent):\n",
    "                return True\n",
    "\n",
    "    return False\n",
    "\n",
    "def create_graph(graph,source,destination,weight=1):\n",
    "    graph[source-1].append((source,destination,weight))\n",
    "\n",
    "v = 2  #11\n",
    "graph = [[] for _ in range(v)]\n",
    "\n",
    "create_graph(graph, 1, 2)\n",
    "create_graph(graph, 2, 1)\n",
    "\n",
    "# create_graph(graph, 1, 2)\n",
    "# create_graph(graph, 1, 3)\n",
    "# create_graph(graph, 1, 10)\n",
    "# create_graph(graph, 2, 1)\n",
    "# create_graph(graph, 2, 4)\n",
    "# create_graph(graph, 3, 1)\n",
    "# create_graph(graph, 3, 7)\n",
    "# create_graph(graph, 4, 2)\n",
    "# create_graph(graph, 4, 5)\n",
    "# create_graph(graph, 4, 7)\n",
    "# create_graph(graph, 4, 8)\n",
    "# create_graph(graph, 5, 4)\n",
    "# create_graph(graph, 5, 6)\n",
    "# create_graph(graph, 6, 5)\n",
    "# create_graph(graph, 6, 10)\n",
    "# create_graph(graph, 6, 9)\n",
    "# create_graph(graph, 7, 3)\n",
    "# create_graph(graph, 7, 4)\n",
    "# create_graph(graph, 7, 11)\n",
    "# create_graph(graph, 8, 4)\n",
    "# create_graph(graph, 8, 9)\n",
    "# create_graph(graph, 9, 6)\n",
    "# create_graph(graph, 9, 8)\n",
    "# create_graph(graph, 10, 1)\n",
    "# create_graph(graph, 10, 6)\n",
    "# create_graph(graph, 11, 7)\n",
    "\n",
    "print(graph)\n",
    "print(\"Does the graph contain a cycle?\", has_cycle(graph))"
   ]
  },
  {
   "cell_type": "code",
   "execution_count": null,
   "id": "9e46917f",
   "metadata": {},
   "outputs": [],
   "source": []
  }
 ],
 "metadata": {
  "kernelspec": {
   "display_name": "Python 3 (ipykernel)",
   "language": "python",
   "name": "python3"
  },
  "language_info": {
   "codemirror_mode": {
    "name": "ipython",
    "version": 3
   },
   "file_extension": ".py",
   "mimetype": "text/x-python",
   "name": "python",
   "nbconvert_exporter": "python",
   "pygments_lexer": "ipython3",
   "version": "3.11.3"
  }
 },
 "nbformat": 4,
 "nbformat_minor": 5
}
