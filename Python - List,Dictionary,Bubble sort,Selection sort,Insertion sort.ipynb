{
 "cells": [
  {
   "cell_type": "code",
   "execution_count": 5,
   "id": "a25026e3",
   "metadata": {},
   "outputs": [
    {
     "name": "stdout",
     "output_type": "stream",
     "text": [
      "{1: 'aishwarya', 2: 'saswitha'}\n",
      "{1: 'aishwarya', 2: 'saswitha', 3: 'Ruchi'}\n",
      "{1: 'Aeiswarya', 2: 'saswitha', 3: 'Ruchi'}\n"
     ]
    }
   ],
   "source": [
    "#Dictionary\n",
    "\n",
    "#key and value pairs\n",
    "s={1:\"aishwarya\",2:\"saswitha\"}\n",
    "print(s)\n",
    "\n",
    "#update - add new element with new key\n",
    "s.update({3:\"Ruchi\"})\n",
    "print(s)\n",
    "\n",
    "#update - update old element with old key\n",
    "s.update({1:\"Aeiswarya\"})\n",
    "print(s)"
   ]
  },
  {
   "cell_type": "code",
   "execution_count": 13,
   "id": "25939ddb",
   "metadata": {
    "scrolled": true
   },
   "outputs": [
    {
     "name": "stdout",
     "output_type": "stream",
     "text": [
      "1\n",
      "2\n",
      "3\n",
      "aishwarya\n",
      "Ankit\n",
      "Ruchi\n",
      "Enter any key:5\n"
     ]
    },
    {
     "ename": "KeyError",
     "evalue": "5",
     "output_type": "error",
     "traceback": [
      "\u001b[1;31m---------------------------------------------------------------------------\u001b[0m",
      "\u001b[1;31mKeyError\u001b[0m                                  Traceback (most recent call last)",
      "Cell \u001b[1;32mIn[13], line 9\u001b[0m\n\u001b[0;32m      6\u001b[0m     \u001b[38;5;28mprint\u001b[39m(x)\n\u001b[0;32m      8\u001b[0m t \u001b[38;5;241m=\u001b[39m \u001b[38;5;28mint\u001b[39m(\u001b[38;5;28minput\u001b[39m(\u001b[38;5;124m\"\u001b[39m\u001b[38;5;124mEnter any key:\u001b[39m\u001b[38;5;124m\"\u001b[39m))\n\u001b[1;32m----> 9\u001b[0m \u001b[38;5;28mprint\u001b[39m(d[t])\n",
      "\u001b[1;31mKeyError\u001b[0m: 5"
     ]
    }
   ],
   "source": [
    "d = {1:\"aishwarya\" , 2:\"Ankit\" , 3:\"Ruchi\"}\n",
    "for x in d.keys():\n",
    "    print(x)\n",
    "    \n",
    "for x in d.values():\n",
    "    print(x)\n",
    "    \n",
    "t = int(input(\"Enter any key:\"))\n",
    "print(d[t])\n",
    "\n"
   ]
  },
  {
   "cell_type": "code",
   "execution_count": 14,
   "id": "68184e0c",
   "metadata": {},
   "outputs": [
    {
     "name": "stdout",
     "output_type": "stream",
     "text": [
      "Enter any key:4\n",
      "Key not Available\n",
      "Code Executed\n"
     ]
    }
   ],
   "source": [
    "d = {1:\"aishwarya\" , 2:\"Ankit\" , 3:\"Ruchi\"}\n",
    "t = int(input(\"Enter any key:\"))\n",
    "#Exception Handling\n",
    "try:\n",
    "    print(d[t])\n",
    "except:\n",
    "    print(\"Key not Available\")\n",
    "finally:\n",
    "    print(\"Code Executed\")"
   ]
  },
  {
   "cell_type": "code",
   "execution_count": 16,
   "id": "9cd01dd5",
   "metadata": {},
   "outputs": [
    {
     "name": "stdout",
     "output_type": "stream",
     "text": [
      "[1, 34, 72, 5.4, 'Raj', 81, 9.9]\n",
      "<class 'list'>\n",
      "[1, 34, 72, 5.4, 'Raj', 81, 9.9, 'Anurag']\n"
     ]
    }
   ],
   "source": [
    "#LIST(similar to array)\n",
    "'''but the difference is, list can hold any type of data '''\n",
    "''''''\n",
    "a= [1,34,72,5.4,\"Raj\",81,9.9]\n",
    "print(a)\n",
    "print(type(a))\n",
    "\n",
    "a.append(\"Anurag\")\n",
    "print(a)"
   ]
  },
  {
   "cell_type": "code",
   "execution_count": 19,
   "id": "7ade8fe9",
   "metadata": {},
   "outputs": [
    {
     "name": "stdout",
     "output_type": "stream",
     "text": [
      "Sorted array: [11, 12, 22, 25, 34, 64, 90]\n"
     ]
    }
   ],
   "source": [
    "#Bubble Sort\n",
    "def bubble_sort(arr):\n",
    "    n = len(arr)\n",
    "\n",
    "    # Traverse through all array elements\n",
    "    for i in range(n):\n",
    "        # Last i elements are already in place, so we don't need to check them\n",
    "        for j in range(0, n-i-1):\n",
    "            # Swap if the element found is greater than the next element\n",
    "            if arr[j] > arr[j+1]:\n",
    "                arr[j], arr[j+1] = arr[j+1], arr[j]\n",
    "\n",
    "# Example usage:\n",
    "my_list = [64, 34, 25, 12, 22, 11, 90]\n",
    "bubble_sort(my_list)\n",
    "\n",
    "print(\"Sorted array:\", my_list)\n"
   ]
  },
  {
   "cell_type": "code",
   "execution_count": 18,
   "id": "db23566d",
   "metadata": {},
   "outputs": [
    {
     "name": "stdout",
     "output_type": "stream",
     "text": [
      "Sorted array: [11, 12, 22, 25, 64]\n"
     ]
    }
   ],
   "source": [
    "#Selection Sort\n",
    "def selection_sort(arr):\n",
    "    n = len(arr)\n",
    "\n",
    "    # Traverse through all array elements\n",
    "    for i in range(n):\n",
    "        # Find the minimum element in the unsorted part of the array\n",
    "        min_index = i\n",
    "        for j in range(i+1, n):\n",
    "            if arr[j] < arr[min_index]:\n",
    "                min_index = j\n",
    "\n",
    "        # Swap the found minimum element with the first element\n",
    "        arr[i], arr[min_index] = arr[min_index], arr[i]\n",
    "\n",
    "# Example usage:\n",
    "my_list = [64, 25, 12, 22, 11]\n",
    "selection_sort(my_list)\n",
    "\n",
    "print(\"Sorted array:\", my_list)\n"
   ]
  },
  {
   "cell_type": "code",
   "execution_count": 17,
   "id": "e803af20",
   "metadata": {},
   "outputs": [
    {
     "name": "stdout",
     "output_type": "stream",
     "text": [
      "Sorted array: [5, 6, 11, 12, 13]\n"
     ]
    }
   ],
   "source": [
    "#Insertion Sort\n",
    "def insertion_sort(arr):\n",
    "    n = len(arr)\n",
    "\n",
    "    # Traverse through all array elements starting from the second element\n",
    "    for i in range(1, n):\n",
    "        key = arr[i]\n",
    "\n",
    "        # Move elements of arr[0..i-1] that are greater than key to one position ahead of their current position\n",
    "        j = i - 1\n",
    "        while j >= 0 and key < arr[j]:\n",
    "            arr[j + 1] = arr[j]\n",
    "            j -= 1\n",
    "\n",
    "        arr[j + 1] = key\n",
    "\n",
    "# Example usage:\n",
    "my_list = [12, 11, 13, 5, 6]\n",
    "insertion_sort(my_list)\n",
    "\n",
    "print(\"Sorted array:\", my_list)\n"
   ]
  },
  {
   "cell_type": "code",
   "execution_count": null,
   "id": "79863613",
   "metadata": {},
   "outputs": [],
   "source": []
  }
 ],
 "metadata": {
  "kernelspec": {
   "display_name": "Python 3 (ipykernel)",
   "language": "python",
   "name": "python3"
  },
  "language_info": {
   "codemirror_mode": {
    "name": "ipython",
    "version": 3
   },
   "file_extension": ".py",
   "mimetype": "text/x-python",
   "name": "python",
   "nbconvert_exporter": "python",
   "pygments_lexer": "ipython3",
   "version": "3.11.4"
  }
 },
 "nbformat": 4,
 "nbformat_minor": 5
}
