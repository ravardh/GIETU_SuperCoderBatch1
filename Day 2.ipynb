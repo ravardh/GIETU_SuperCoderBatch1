{
 "cells": [
  {
   "cell_type": "code",
   "execution_count": 12,
   "id": "c79924ca",
   "metadata": {},
   "outputs": [
    {
     "name": "stdout",
     "output_type": "stream",
     "text": [
      "[1, 34, 77, 5.4, 'Raj', 82, 9.9]\n",
      "<class 'list'>\n",
      "[1, 34, 77, 5.4, 'Raj', 82, 9.9, 'kumar']\n",
      "{1: 'Jagadish', 2: 'Maya'}\n",
      "{1: 'Jagadish', 2: 'Maya', 3: 'Bhai'}\n",
      "{1: 'Jaggu', 2: 'Maya', 3: 'Bhai'}\n",
      "3\n",
      "Good boy\n"
     ]
    }
   ],
   "source": [
    "a=[1,34,77,5.4,'Raj',82,9.9]\n",
    "print(a)\n",
    "print(type(a))\n",
    "a.append('kumar')\n",
    "print(a)\n",
    "\n",
    "#Dictionary\n",
    "#key and values\n",
    "d={1:\"Jagadish\",2:'Maya'}\n",
    "print(d)\n",
    "d.update({3:\"Bhai\"})\n",
    "print(d)\n",
    "# update odl element with new element\n",
    "d.update({1:'Jaggu'})\n",
    "print(d)\n",
    "\n",
    "\n",
    "d={1:\"Jagadish\",\n",
    "   2:\"is\",\n",
    "   3:\"Good boy\"}\n",
    "i=int(input())\n",
    "# try:\n",
    "#     print(d[s])\n",
    "# except:\n",
    "#     print(\"enter  valid key\")\n",
    "if i in d.keys():\n",
    "    print(d[i])\n",
    "else:\n",
    "    print(\"enter valid key\")"
   ]
  },
  {
   "cell_type": "code",
   "execution_count": 9,
   "id": "b39a9580",
   "metadata": {},
   "outputs": [
    {
     "name": "stdout",
     "output_type": "stream",
     "text": [
      "Enter the number:5\n",
      "7\n",
      "3\n",
      "5\n",
      "10\n",
      "2\n",
      "[7, 3, 5, 10, 2]\n",
      "Sorted array: [2, 3, 5, 7, 10]\n"
     ]
    }
   ],
   "source": [
    "#bubble sort\n",
    "n=int(input(\"Enter the number of elements:\"))\n",
    "list_1 = []\n",
    "for i in range(n):\n",
    "    m=int(input())\n",
    "    list_1.append(m)\n",
    "print(list_1)\n",
    "def bubble_sort(arr):\n",
    "    n = len(arr)\n",
    "    for i in range(n):\n",
    "        for j in range(0, n-i-1):\n",
    "            if arr[j] > arr[j+1]:\n",
    "                arr[j], arr[j+1] = arr[j+1], arr[j]\n",
    "\n",
    "                \n",
    "bubble_sort(list_1)\n",
    "\n",
    "print(\"Sorted array:\", list_1)"
   ]
  },
  {
   "cell_type": "code",
   "execution_count": 15,
   "id": "2283877f",
   "metadata": {},
   "outputs": [
    {
     "name": "stdout",
     "output_type": "stream",
     "text": [
      "Enter the number:5\n",
      "8\n",
      "3\n",
      "5\n",
      "10\n",
      "2\n",
      "[8, 3, 5, 10, 2]\n",
      "Sorted Array= [2, 3, 5, 8, 10]\n"
     ]
    }
   ],
   "source": [
    "#Selection Sort\n",
    "\n",
    "\n",
    "n=int(input(\"Enter the number of elements:\"))\n",
    "list_2=[]\n",
    "for i in range(n):\n",
    "    m=int(input())\n",
    "    list_2.append(m)\n",
    "print(list_2)\n",
    "\n",
    "def selectionSort(array, n):\n",
    "    \n",
    "    for ind in range(n):\n",
    "        min_index = ind\n",
    " \n",
    "        for j in range(ind + 1, n):\n",
    "            if array[j] < array[min_index]:\n",
    "                min_index = j\n",
    "        (array[ind], array[min_index]) = (array[min_index], array[ind])\n",
    "\n",
    "selectionSort(list_2, n)\n",
    "print('Sorted Array=',list_2)"
   ]
  },
  {
   "cell_type": "code",
   "execution_count": null,
   "id": "f67146e9",
   "metadata": {},
   "outputs": [],
   "source": [
    "#Insertion Sort\n",
    "\n",
    "\n",
    "n=int(input(\"Enter the number of elements:\"))\n",
    "list1=[]\n",
    "for i in range(n):\n",
    "    m=int(input())\n",
    "    list1.append(m)\n",
    "print(list1)\n",
    "\n",
    "def insertion_sort(list1):\n",
    "\n",
    "        for i in range(1, len(list1)):\n",
    "            a = list1[i]\n",
    "            j = i - 1\n",
    "            while j >= 0 and a < list1[j]:\n",
    "                list1[j + 1] = list1[j]\n",
    "                j -= 1\n",
    "            list1[j + 1] = a\n",
    "        return list1\n",
    "\n",
    "\n",
    "print(\"The unsorted list is:\", list1)\n",
    "print(\"The sorted new list is:\", insertion_sort(list1))"
   ]
  },
  {
   "cell_type": "code",
   "execution_count": null,
   "id": "35b7e57c",
   "metadata": {},
   "outputs": [],
   "source": []
  }
 ],
 "metadata": {
  "kernelspec": {
   "display_name": "Python 3 (ipykernel)",
   "language": "python",
   "name": "python3"
  },
  "language_info": {
   "codemirror_mode": {
    "name": "ipython",
    "version": 3
   },
   "file_extension": ".py",
   "mimetype": "text/x-python",
   "name": "python",
   "nbconvert_exporter": "python",
   "pygments_lexer": "ipython3",
   "version": "3.11.3"
  }
 },
 "nbformat": 4,
 "nbformat_minor": 5
}
