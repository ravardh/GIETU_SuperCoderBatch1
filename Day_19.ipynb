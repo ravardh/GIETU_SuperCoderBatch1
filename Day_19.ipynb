{
 "cells": [
  {
   "cell_type": "code",
   "execution_count": 1,
   "id": "09e23d7d-ca16-4a77-90aa-7414bfbd1781",
   "metadata": {},
   "outputs": [
    {
     "name": "stdout",
     "output_type": "stream",
     "text": [
      "Cost of the minimum spanning tree: 36\n",
      "Edges in the minimum spanning tree: [(5, 4), (4, 1), (3, 3), (2, 2), (6, 7), (8, 10), (7, 9)]\n"
     ]
    }
   ],
   "source": [
    "import heapq\n",
    "\n",
    "def prim(graph, start):\n",
    "    visited = [False] * (max(graph.keys()) + 1)  # Adjust the size based on the maximum key value\n",
    "    edges = [(0, start)]\n",
    "    mst_cost = 0\n",
    "    mst_edges = []\n",
    "\n",
    "    while edges:\n",
    "        cost, node = heapq.heappop(edges)\n",
    "        if visited[node]:\n",
    "            continue\n",
    "\n",
    "        visited[node] = True\n",
    "        mst_cost += cost\n",
    "        if cost != 0:\n",
    "            mst_edges.append((node, cost))\n",
    "\n",
    "        for to, weight in graph[node].items():\n",
    "            if not visited[to] and weight:\n",
    "                heapq.heappush(edges, (weight, to))\n",
    "\n",
    "    return mst_cost, mst_edges\n",
    "\n",
    "graph = {\n",
    "    1: {2: 6, 3: 5, 5: 4},\n",
    "    2: {1: 6, 3: 2},\n",
    "    3: {1: 5, 2: 2, 4: 3, 7: 11},\n",
    "    4: {3: 3, 5: 1, 6: 7, 8: 10},\n",
    "    5: {1: 4, 4: 1, 6: 8},\n",
    "    6: {4: 7, 5: 8},\n",
    "    7: {3: 11, 8: 9},\n",
    "    8: {4: 10, 7: 9}\n",
    "}\n",
    "\n",
    "start_vertex = 1\n",
    "cost, mst = prim(graph, start_vertex)\n",
    "print(\"Cost of the minimum spanning tree:\", cost)\n",
    "print(\"Edges in the minimum spanning tree:\", mst)\n"
   ]
  },
  {
   "cell_type": "code",
   "execution_count": null,
   "id": "1374a5f5-989d-4c9f-8b5f-35a164e48c3d",
   "metadata": {},
   "outputs": [],
   "source": []
  }
 ],
 "metadata": {
  "kernelspec": {
   "display_name": "Python 3 (ipykernel)",
   "language": "python",
   "name": "python3"
  },
  "language_info": {
   "codemirror_mode": {
    "name": "ipython",
    "version": 3
   },
   "file_extension": ".py",
   "mimetype": "text/x-python",
   "name": "python",
   "nbconvert_exporter": "python",
   "pygments_lexer": "ipython3",
   "version": "3.11.5"
  }
 },
 "nbformat": 4,
 "nbformat_minor": 5
}
