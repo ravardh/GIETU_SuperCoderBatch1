{
 "cells": [
  {
   "cell_type": "code",
   "execution_count": 5,
   "id": "2abd1ef5-4a08-4f5b-af27-25c1abe2f96b",
   "metadata": {},
   "outputs": [
    {
     "name": "stdin",
     "output_type": "stream",
     "text": [
      "Enter the number of terms in Fibonacci series:  3\n"
     ]
    },
    {
     "name": "stdout",
     "output_type": "stream",
     "text": [
      "Fibonacci series:\n",
      "0 1 1 "
     ]
    }
   ],
   "source": [
    "def fib(num):\n",
    "    if num == 0 or num == 1:\n",
    "        return num\n",
    "    else:\n",
    "        return fib(num - 1) + fib(num - 2)\n",
    "\n",
    "num = int(input(\"Enter the number of terms in Fibonacci series: \"))\n",
    "\n",
    "print(\"Fibonacci series:\")\n",
    "for i in range(num):\n",
    "    print(fib(i), end=\" \")\n"
   ]
  },
  {
   "cell_type": "code",
   "execution_count": 14,
   "id": "23605e87-ff2e-441e-ae57-1dbcc5713953",
   "metadata": {},
   "outputs": [
    {
     "name": "stdout",
     "output_type": "stream",
     "text": [
      "max profit is:\n",
      "54\n"
     ]
    }
   ],
   "source": [
    "#Item no: 1   2   3    4    5   6   7\n",
    "#Price:  10   5   15   7    6  18   3\n",
    "#Weight: 2    3   5    7    1   4   1\n",
    "\n",
    "def knapsack(wt, val, W, n, t):\n",
    "    # base conditions\n",
    "    if n == 0 or W == 0:\n",
    "        return 0\n",
    "    if t[n][W] != -1:\n",
    "        return t[n][W]\n",
    "\n",
    "    # choice diagram code\n",
    "    if wt[n-1] <= W:\n",
    "        t[n][W] = max(\n",
    "            val[n-1] + knapsack(wt, val, W-wt[n-1], n-1, t),\n",
    "            knapsack(wt, val, W, n-1, t))\n",
    "        return t[n][W]\n",
    "    elif wt[n-1] > W:\n",
    "        t[n][W] = knapsack(wt, val, W, n-1, t)\n",
    "        return t[n][W]\n",
    "\n",
    "\n",
    "# Driver code\n",
    "if __name__ == '__main__':\n",
    "    profit = [10, 5, 15, 7, 6, 18, 3]\n",
    "    weight = [2, 3, 5, 7, 1, 4, 1]\n",
    "    W = 15\n",
    "    n = len(profit)\n",
    "\n",
    "    \n",
    "    t = [[-1 for i in range(W + 1)] for j in range(n + 1)]\n",
    "    print(\"max profit is:\")\n",
    "    print(knapsack(weight, profit, W, n, t))\n"
   ]
  },
  {
   "cell_type": "code",
   "execution_count": null,
   "id": "e4dc64d5-89e0-42f8-9a6c-cfeddbeacced",
   "metadata": {},
   "outputs": [],
   "source": [
    "      0  1  2  3  4  5  6  7  8  9 10 11 12 13 14 15\n",
    "    -------------------------------------------------\n",
    " 0  | 0  0  0  0  0  0  0  0  0  0  0  0  0  0  0  0\n",
    " 1  | 0  0 10 10 10 10 10 10 10 10 10 10 10 10 10 10\n",
    " 2  | 0  0 10 10 15 15 15 15 15 15 15 15 15 15 15 15\n",
    " 3  | 0  0 10 10 15 15 20 20 25 25 25 25 25 25 25 25\n",
    " 4  | 0  0 10 10 15 15 20 20 25 25 25 25 25 25 32 32\n",
    " 5  | 0  6 10 16 21 21 26 26 31 31 31 31 31 31 37 37\n",
    " 6  | 0  6 10 16 21 24 26 31 36 36 36 39 39 39 44 44\n",
    " 7  | 0  6 10 16 21 24 26 31 36 36 36 39 39 39 44 44\n"
   ]
  }
 ],
 "metadata": {
  "kernelspec": {
   "display_name": "Python 3 (ipykernel)",
   "language": "python",
   "name": "python3"
  },
  "language_info": {
   "codemirror_mode": {
    "name": "ipython",
    "version": 3
   },
   "file_extension": ".py",
   "mimetype": "text/x-python",
   "name": "python",
   "nbconvert_exporter": "python",
   "pygments_lexer": "ipython3",
   "version": "3.10.4"
  }
 },
 "nbformat": 4,
 "nbformat_minor": 5
}
