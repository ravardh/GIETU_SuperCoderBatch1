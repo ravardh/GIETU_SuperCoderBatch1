{
 "cells": [
  {
   "cell_type": "code",
   "execution_count": 4,
   "id": "fa39a270",
   "metadata": {},
   "outputs": [
    {
     "data": {
      "text/plain": [
       "24"
      ]
     },
     "execution_count": 4,
     "metadata": {},
     "output_type": "execute_result"
    }
   ],
   "source": [
    "ar=[5,4,2,6,3,8,9,7,4,7,3,6,9,8,2,4,6,8,6,2,3,4,5,1,4,2]\n",
    "l=[]\n",
    "length=len(ar)\n",
    "for i in range(length-2):\n",
    "    sum=ar[i]+ar[i+1]+ar[i+2]\n",
    "    l.append(sum)\n",
    "max(l)"
   ]
  },
  {
   "cell_type": "code",
   "execution_count": 7,
   "id": "c08fc78d",
   "metadata": {},
   "outputs": [
    {
     "name": "stdout",
     "output_type": "stream",
     "text": [
      "3\n"
     ]
    },
    {
     "data": {
      "text/plain": [
       "24"
      ]
     },
     "execution_count": 7,
     "metadata": {},
     "output_type": "execute_result"
    }
   ],
   "source": [
    "ar=[5,4,2,6,3,8,9,7,4,7,3,6,9,8,2,4,6,8,6,2,3,4,5,1,4,2]\n",
    "k=int(input())\n",
    "sum,s=0,0\n",
    "length=len(ar)\n",
    "for i in range(length-k-1):\n",
    "    for j in range(i,k+i):\n",
    "        sum=sum+ar[j]\n",
    "    if(s<sum):\n",
    "        s=sum\n",
    "    out.append(s)\n",
    "    sum=0\n",
    "s"
   ]
  },
  {
   "cell_type": "code",
   "execution_count": 20,
   "id": "2aa5b555",
   "metadata": {},
   "outputs": [
    {
     "name": "stdout",
     "output_type": "stream",
     "text": [
      "3\n"
     ]
    },
    {
     "data": {
      "text/plain": [
       "25"
      ]
     },
     "execution_count": 20,
     "metadata": {},
     "output_type": "execute_result"
    }
   ],
   "source": [
    "ar=[5,4,2,6,3,8,9,7,4,7,3,6,9,8,2,4,6,8,6,2,3,4,5,1,4,2,11,12]\n",
    "k=int(input())\n",
    "length=len(ar)\n",
    "sum=0\n",
    "for i in range(k):\n",
    "    sum+=ar[i]\n",
    "window=sum\n",
    "for j in range(length-k):\n",
    "    window=window-ar[j]+ar[j+k]\n",
    "    sum=max(sum,window)\n",
    "sum"
   ]
  },
  {
   "cell_type": "code",
   "execution_count": null,
   "id": "822d9a0f",
   "metadata": {},
   "outputs": [],
   "source": []
  }
 ],
 "metadata": {
  "kernelspec": {
   "display_name": "Python 3 (ipykernel)",
   "language": "python",
   "name": "python3"
  },
  "language_info": {
   "codemirror_mode": {
    "name": "ipython",
    "version": 3
   },
   "file_extension": ".py",
   "mimetype": "text/x-python",
   "name": "python",
   "nbconvert_exporter": "python",
   "pygments_lexer": "ipython3",
   "version": "3.11.1"
  }
 },
 "nbformat": 4,
 "nbformat_minor": 5
}
