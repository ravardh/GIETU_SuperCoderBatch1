{
 "cells": [
  {
   "cell_type": "code",
   "execution_count": 3,
   "id": "108035ab",
   "metadata": {},
   "outputs": [
    {
     "name": "stdout",
     "output_type": "stream",
     "text": [
      "Enter a list of elements for sorting: [15,25,16,48,32,21]\n",
      "After Sorting: [15, 16, 21, 25, 32, 48]\n"
     ]
    }
   ],
   "source": [
    "def selectionSort(lst):\n",
    "    for i in range(len(lst)):\n",
    "        min_indx = i\n",
    "        for j in range(i+1, len(lst)):\n",
    "            if lst[min_indx] > lst[j]:\n",
    "                min_indx = j\n",
    "        lst[i],lst[min_indx] = lst[min_indx],lst[i]\n",
    "lst=eval(input(\"Enter a list of elements for sorting: \"))\n",
    "selectionSort(lst)\n",
    "print(\"After Sorting:\",lst)"
   ]
  },
  {
   "cell_type": "code",
   "execution_count": null,
   "id": "3fca41eb",
   "metadata": {},
   "outputs": [],
   "source": []
  }
 ],
 "metadata": {
  "kernelspec": {
   "display_name": "Python 3 (ipykernel)",
   "language": "python",
   "name": "python3"
  },
  "language_info": {
   "codemirror_mode": {
    "name": "ipython",
    "version": 3
   },
   "file_extension": ".py",
   "mimetype": "text/x-python",
   "name": "python",
   "nbconvert_exporter": "python",
   "pygments_lexer": "ipython3",
   "version": "3.11.5"
  }
 },
 "nbformat": 4,
 "nbformat_minor": 5
}
