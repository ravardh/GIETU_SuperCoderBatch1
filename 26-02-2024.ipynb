{
 "cells": [
  {
   "cell_type": "code",
   "execution_count": 3,
   "id": "fb24daaf",
   "metadata": {},
   "outputs": [
    {
     "name": "stdout",
     "output_type": "stream",
     "text": [
      "20 \n",
      "32 20 \n",
      "15 12 8 24 \n",
      "4 5 0 6 16 2 45 34 "
     ]
    }
   ],
   "source": [
    "class Node:\n",
    "    def __init__(self,info):\n",
    "        self.data = info\n",
    "        self.left = None\n",
    "        self.right = None\n",
    "root=Node(20) \n",
    "root.left =Node(32)\n",
    "root.right=Node(20) \n",
    "\n",
    "root.left.left =Node(15)\n",
    "root.left.right =Node(12)\n",
    "root.right.left=Node(8) \n",
    "root.right.right=Node(24)\n",
    "\n",
    "root.left.left.left =Node(4)\n",
    "root.left.left.right =Node(5)\n",
    "root.left.right.left =Node(0)\n",
    "root.left.right.right =Node(6)\n",
    "root.right.left.left=Node(16) \n",
    "root.right.left.right=Node(2) \n",
    "root.right.right.left=Node(45)\n",
    "root.right.right.right=Node(34)\n",
    "\n",
    "\n",
    "def levelorder(root):\n",
    "    queue=[]\n",
    "    queue.append(root)\n",
    "    queue.append(None)\n",
    "    while len(queue)>1:\n",
    "        front=queue.pop(0)\n",
    "        if front is not None:\n",
    "            print(front.data,end=\" \")\n",
    "            if front.left!=None:\n",
    "                queue.append(front.left)\n",
    "            if front.right!=None:\n",
    "                queue.append(front.right)\n",
    "        else:\n",
    "            print()\n",
    "            queue.append(None)\n",
    "levelorder(root)\n",
    "            "
   ]
  },
  {
   "cell_type": "code",
   "execution_count": null,
   "id": "e06d525b",
   "metadata": {},
   "outputs": [],
   "source": []
  }
 ],
 "metadata": {
  "kernelspec": {
   "display_name": "Python 3 (ipykernel)",
   "language": "python",
   "name": "python3"
  },
  "language_info": {
   "codemirror_mode": {
    "name": "ipython",
    "version": 3
   },
   "file_extension": ".py",
   "mimetype": "text/x-python",
   "name": "python",
   "nbconvert_exporter": "python",
   "pygments_lexer": "ipython3",
   "version": "3.9.12"
  }
 },
 "nbformat": 4,
 "nbformat_minor": 5
}
