{
 "cells": [
  {
   "cell_type": "code",
   "execution_count": 1,
   "id": "2d1461a3",
   "metadata": {},
   "outputs": [
    {
     "name": "stdout",
     "output_type": "stream",
     "text": [
      "[1, 34, 77, 5.4, 'Raj', 82, 9.9]\n",
      "<class 'list'>\n",
      "[1, 34, 77, 5.4, 'Raj', 82, 9.9, 'kumar']\n"
     ]
    }
   ],
   "source": [
    "a=[1,34,77,5.4,'Raj',82,9.9]\n",
    "print(a)\n",
    "print(type(a))\n",
    "a.append('kumar')\n",
    "print(a)"
   ]
  },
  {
   "cell_type": "code",
   "execution_count": 2,
   "id": "ff8c9c3a",
   "metadata": {},
   "outputs": [
    {
     "name": "stdout",
     "output_type": "stream",
     "text": [
      "{1: 'Doctor', 2: 'Sai'}\n",
      "{1: 'Doctor', 2: 'Sai', 3: 'Kishna'}\n",
      "{1: 'Dr', 2: 'Sai', 3: 'Kishna'}\n"
     ]
    }
   ],
   "source": [
    "#Dictionary\n",
    "#key and values\n",
    "d={1:\"Doctor\",2:'Sai'}\n",
    "print(d)\n",
    "d.update({3:\"Kishna\"})\n",
    "print(d)\n",
    "# update odl element with new element\n",
    "d.update({1:'Dr'})\n",
    "print(d)"
   ]
  },
  {
   "cell_type": "code",
   "execution_count": 3,
   "id": "7360f8c0",
   "metadata": {},
   "outputs": [
    {
     "name": "stdout",
     "output_type": "stream",
     "text": [
      "Dr\n",
      "Sai\n",
      "Kishna\n",
      "Enter any Key: 1\n",
      "Dr\n"
     ]
    }
   ],
   "source": [
    "d={1: 'Dr', 2: 'Sai', 3: 'Kishna'}\n",
    "for x in d.values():\n",
    "    print(x)\n",
    "s=int(input(\"Enter any Key: \"))\n",
    "if(s in d.keys()):\n",
    "    print(d[s])\n",
    "else:\n",
    "    print(\"Invalid Key Entered\")"
   ]
  },
  {
   "cell_type": "code",
   "execution_count": 5,
   "id": "20c453a2",
   "metadata": {},
   "outputs": [
    {
     "name": "stdout",
     "output_type": "stream",
     "text": [
      "Enter The Key:4\n",
      "Invalid Key\n",
      "Code Executed\n"
     ]
    }
   ],
   "source": [
    "d={1: 'Dr', 2: 'Sai', 3: 'Kishna'}\n",
    "s=int(input('Enter The Key:'))\n",
    "try:\n",
    "    print(d[s])\n",
    "except:\n",
    "    print(\"Invalid Key\")\n",
    "finally:\n",
    "    print(\"Code Executed\")"
   ]
  },
  {
   "cell_type": "code",
   "execution_count": 1,
   "id": "9dc9c4c7",
   "metadata": {},
   "outputs": [
    {
     "name": "stdout",
     "output_type": "stream",
     "text": [
      "Enter the number:4\n",
      "7\n",
      "3\n",
      "1\n",
      "6\n",
      "[7, 3, 1, 6]\n",
      "Sorted Array= [1, 3, 6, 7]\n"
     ]
    }
   ],
   "source": [
    "# Selection Sort\n",
    "n=int(input(\"Enter the number:\"))\n",
    "list_2=[]\n",
    "for i in range(n):\n",
    "    m=int(input())\n",
    "    list_2.append(m)\n",
    "print(list_2)\n",
    "\n",
    "def selectionSort(array, n):\n",
    "    \n",
    "    for ind in range(n):\n",
    "        min_index = ind\n",
    " \n",
    "        for j in range(ind + 1, n):\n",
    "            if array[j] < array[min_index]:\n",
    "                min_index = j\n",
    "        (array[ind], array[min_index]) = (array[min_index], array[ind])\n",
    "\n",
    "selectionSort(list_2, n)\n",
    "print('Sorted Array=',list_2)"
   ]
  },
  {
   "cell_type": "code",
   "execution_count": 5,
   "id": "6fafbb0d",
   "metadata": {},
   "outputs": [
    {
     "name": "stdout",
     "output_type": "stream",
     "text": [
      "Enter the number of elements: 4\n",
      "Enter element 1: 6\n",
      "Enter element 2: 4\n",
      "Enter element 3: 3\n",
      "Enter element 4: 2\n",
      "Original List: [6, 4, 3, 2]\n",
      "Sorted Array: [2, 3, 4, 6]\n"
     ]
    }
   ],
   "source": [
    "# Bubble Sort\n",
    "n = int(input(\"Enter the number of elements: \"))\n",
    "num_list = []\n",
    "\n",
    "for i in range(n):\n",
    "    m = int(input(\"Enter element {}: \".format(i + 1)))\n",
    "    num_list.append(m)\n",
    "\n",
    "print(\"Original List:\", num_list)\n",
    "\n",
    "def bubbleSort(arr):\n",
    "    n = len(arr)\n",
    "\n",
    "    for i in range(n):\n",
    "        for j in range(0, n - i - 1):\n",
    "            if arr[j] > arr[j + 1]:\n",
    "                arr[j], arr[j + 1] = arr[j + 1], arr[j]\n",
    "\n",
    "    return arr\n",
    "\n",
    "sorted_list = bubbleSort(num_list)\n",
    "print('Sorted Array:', sorted_list)\n"
   ]
  },
  {
   "cell_type": "code",
   "execution_count": 6,
   "id": "97fafb77",
   "metadata": {},
   "outputs": [
    {
     "name": "stdout",
     "output_type": "stream",
     "text": [
      "The unsorted list is: [7, 2, 1, 6]\n",
      "The sorted new list is: [1, 2, 6, 7]\n"
     ]
    }
   ],
   "source": [
    "def insertion_sort(list1):\n",
    "\n",
    "        for i in range(1, len(list1)):\n",
    "\n",
    "            a = list1[i]\n",
    "\n",
    "# which are greater to one position ahead of their current position\n",
    "            j = i - 1\n",
    "\n",
    "            while j >= 0 and a < list1[j]:\n",
    "                list1[j + 1] = list1[j]\n",
    "                j -= 1\n",
    "\n",
    "            list1[j + 1] = a\n",
    "\n",
    "        return list1\n",
    "\n",
    "# Driver code\n",
    "list1 = [ 7, 2, 1, 6 ]\n",
    "print(\"The unsorted list is:\", list1)\n",
    "print(\"The sorted new list is:\", insertion_sort(list1))"
   ]
  },
  {
   "cell_type": "code",
   "execution_count": null,
   "id": "f304f92a",
   "metadata": {},
   "outputs": [],
   "source": []
  }
 ],
 "metadata": {
  "kernelspec": {
   "display_name": "Python 3 (ipykernel)",
   "language": "python",
   "name": "python3"
  },
  "language_info": {
   "codemirror_mode": {
    "name": "ipython",
    "version": 3
   },
   "file_extension": ".py",
   "mimetype": "text/x-python",
   "name": "python",
   "nbconvert_exporter": "python",
   "pygments_lexer": "ipython3",
   "version": "3.10.9"
  }
 },
 "nbformat": 4,
 "nbformat_minor": 5
}
