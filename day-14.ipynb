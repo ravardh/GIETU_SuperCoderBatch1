{
 "cells": [
  {
   "cell_type": "code",
   "execution_count": 1,
   "id": "5b141c70",
   "metadata": {},
   "outputs": [
    {
     "name": "stdout",
     "output_type": "stream",
     "text": [
      "Enter the no. of vertices5\n",
      "Adjacency List:\n",
      "0 -> 1, 2\n",
      "1 -> 2\n",
      "2 -> 0, 3\n",
      "3 -> 3\n",
      "4 -> \n"
     ]
    }
   ],
   "source": [
    "num_vertices=int(input(\"Enter the no. of vertices\"))\n",
    "adjacency_list = [[] for i in range(num_vertices)]\n",
    "def add_edge(u, v):\n",
    "    adjacency_list[u].append(v)\n",
    "add_edge(0, 1)\n",
    "add_edge(0, 2)\n",
    "add_edge(1, 2)\n",
    "add_edge(2, 0)\n",
    "add_edge(2, 3)\n",
    "add_edge(3, 3)\n",
    "print(\"Adjacency List:\")\n",
    "for i, adjacent_vertices in enumerate(adjacency_list):\n",
    "    print(f\"{i} -> {', '.join(map(str, adjacent_vertices))}\")"
   ]
  },
  {
   "cell_type": "code",
   "execution_count": 13,
   "id": "bdb03439",
   "metadata": {},
   "outputs": [
    {
     "name": "stdout",
     "output_type": "stream",
     "text": [
      "DFS result starting from vertex 1 : 1 2 0 3 "
     ]
    }
   ],
   "source": [
    "def dfs(start, visited=None):\n",
    "    if visited is None:\n",
    "        visited = set()\n",
    "\n",
    "    visited.add(start)\n",
    "    print(start, end=' ')\n",
    "\n",
    "    for neighbor in adjacency_list[start]:\n",
    "        if neighbor not in visited:\n",
    "            dfs(neighbor, visited)\n",
    "\n",
    "print(\"DFS result starting from vertex\", 1, \": \", end='')\n",
    "dfs(1)\n"
   ]
  },
  {
   "cell_type": "code",
   "execution_count": null,
   "id": "f922eb0a",
   "metadata": {},
   "outputs": [],
   "source": []
  }
 ],
 "metadata": {
  "kernelspec": {
   "display_name": "Python 3 (ipykernel)",
   "language": "python",
   "name": "python3"
  },
  "language_info": {
   "codemirror_mode": {
    "name": "ipython",
    "version": 3
   },
   "file_extension": ".py",
   "mimetype": "text/x-python",
   "name": "python",
   "nbconvert_exporter": "python",
   "pygments_lexer": "ipython3",
   "version": "3.10.9"
  }
 },
 "nbformat": 4,
 "nbformat_minor": 5
}
