{
 "cells": [
  {
   "cell_type": "code",
   "execution_count": 1,
   "id": "fd74234d",
   "metadata": {},
   "outputs": [
    {
     "name": "stdout",
     "output_type": "stream",
     "text": [
      "Enter a string: ABBABABAABB\n",
      "Enter a part: ABB\n",
      "2\n"
     ]
    }
   ],
   "source": [
    "#Solution-1\n",
    "s=input(\"Enter a string: \")\n",
    "p=input(\"Enter a part: \")\n",
    "i,count=0,0\n",
    "while(i<len(s)):\n",
    "    j=0\n",
    "    if s[i]==p[j]:\n",
    "        while(j<len(p)):\n",
    "            if p[j]==s[i]:\n",
    "                j+=1\n",
    "                i+=1\n",
    "                counter=0\n",
    "            else:\n",
    "                counter=1\n",
    "                break\n",
    "        if counter==0:\n",
    "            count+=1\n",
    "    else:\n",
    "        i+=1       \n",
    "print(count)            "
   ]
  },
  {
   "cell_type": "code",
   "execution_count": 2,
   "id": "40eb3036",
   "metadata": {},
   "outputs": [
    {
     "name": "stdout",
     "output_type": "stream",
     "text": [
      "Enter a string: ABAABABCABABABCAABABCABAC\n",
      "Enter a part: ABC\n",
      "3\n"
     ]
    }
   ],
   "source": [
    "#Solution-2\n",
    "s=input(\"Enter a string: \")\n",
    "p=input(\"Enter a part: \")\n",
    "c=s.count(p)\n",
    "print(c)"
   ]
  },
  {
   "cell_type": "code",
   "execution_count": null,
   "id": "98369ef4",
   "metadata": {},
   "outputs": [],
   "source": []
  }
 ],
 "metadata": {
  "kernelspec": {
   "display_name": "Python 3 (ipykernel)",
   "language": "python",
   "name": "python3"
  },
  "language_info": {
   "codemirror_mode": {
    "name": "ipython",
    "version": 3
   },
   "file_extension": ".py",
   "mimetype": "text/x-python",
   "name": "python",
   "nbconvert_exporter": "python",
   "pygments_lexer": "ipython3",
   "version": "3.11.5"
  }
 },
 "nbformat": 4,
 "nbformat_minor": 5
}
