{
 "cells": [
  {
   "cell_type": "code",
   "execution_count": 2,
   "id": "9c707f63",
   "metadata": {},
   "outputs": [
    {
     "name": "stdout",
     "output_type": "stream",
     "text": [
      "Enter the first input: 12\n",
      "Enter the second input: 8\n",
      "Enter the type of operation you want to perform (+, -, *, //, %): +\n",
      "Your answer is:  20\n"
     ]
    }
   ],
   "source": [
    "p = int(input(\"Enter the first input: \"))\n",
    "q = int(input(\"Enter the second input: \"))\n",
    "\n",
    "oper = input(\"Enter the type of operation you want to perform (+, -, *, //, %): \")\n",
    "\n",
    "result = 0\n",
    "if oper == \"+\":\n",
    "    result = p+q \n",
    "elif oper == \"-\":\n",
    "    result = p-q\n",
    "elif oper == \"*\":\n",
    "    result = p*q\n",
    "elif oper == \"/\":\n",
    "    result = p/q # Integer Division\n",
    "elif oper == \"%\":\n",
    "    result = p%q \n",
    "else:\n",
    "    print(\"Invalid Input\")\n",
    "print(\"Your answer is: \",result)"
   ]
  }
 ],
 "metadata": {
  "kernelspec": {
   "display_name": "Python 3 (ipykernel)",
   "language": "python",
   "name": "python3"
  },
  "language_info": {
   "codemirror_mode": {
    "name": "ipython",
    "version": 3
   },
   "file_extension": ".py",
   "mimetype": "text/x-python",
   "name": "python",
   "nbconvert_exporter": "python",
   "pygments_lexer": "ipython3",
   "version": "3.11.4"
  }
 },
 "nbformat": 4,
 "nbformat_minor": 5
}
