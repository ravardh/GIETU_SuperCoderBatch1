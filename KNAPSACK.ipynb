{
 "cells": [
  {
   "cell_type": "code",
   "execution_count": 1,
   "id": "67f531b3",
   "metadata": {},
   "outputs": [
    {
     "name": "stdout",
     "output_type": "stream",
     "text": [
      "enter the capacity of bag: 12\n",
      "43\n"
     ]
    }
   ],
   "source": [
    "wt = [2,3,5,7,1,4,1]\n",
    "p = [10,5,15,7,6,18,3]\n",
    "capacity = int(input(\"enter the capacity of bag: \"))\n",
    "def knapsack(wt,p,mx):\n",
    "    n = len(p)\n",
    "    M = [[0]*(mx+1) for _ in range(n+1)]\n",
    "    for i in range(1,n+1):\n",
    "        for c in range(1,mx+1):\n",
    "            if(wt[i-1]<=c):\n",
    "                M[i][c] = max(M[i-1][c],M[i-1][c-wt[i-1]]+p[i-1])\n",
    "    return M[n][mx]      \n",
    "print(knapsack(wt,p,capacity))\n",
    "        \n",
    "        "
   ]
  },
  {
   "cell_type": "code",
   "execution_count": null,
   "id": "83443376",
   "metadata": {},
   "outputs": [],
   "source": []
  }
 ],
 "metadata": {
  "kernelspec": {
   "display_name": "Python 3 (ipykernel)",
   "language": "python",
   "name": "python3"
  },
  "language_info": {
   "codemirror_mode": {
    "name": "ipython",
    "version": 3
   },
   "file_extension": ".py",
   "mimetype": "text/x-python",
   "name": "python",
   "nbconvert_exporter": "python",
   "pygments_lexer": "ipython3",
   "version": "3.11.3"
  }
 },
 "nbformat": 4,
 "nbformat_minor": 5
}
