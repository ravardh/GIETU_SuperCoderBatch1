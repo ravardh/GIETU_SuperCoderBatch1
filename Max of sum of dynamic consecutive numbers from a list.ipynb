{
 "cells": [
  {
   "cell_type": "code",
   "execution_count": 1,
   "id": "88e3763a",
   "metadata": {},
   "outputs": [
    {
     "name": "stdout",
     "output_type": "stream",
     "text": [
      "Enter list numbers: 5 12 52 69 48 49 -69\n",
      "Enter a number smaller than length of list: 5\n",
      "230\n"
     ]
    }
   ],
   "source": [
    "#Solution-1\n",
    "l=list(map(int,input(\"Enter list numbers: \").split()))\n",
    "l2=[]\n",
    "m=int(input(\"Enter a number smaller than length of list: \"))\n",
    "for i in range(len(l)-m+1):\n",
    "    n=m\n",
    "    sum=0\n",
    "    while(n>0):\n",
    "        sum+=l[i]\n",
    "        i+=1\n",
    "        n-=1\n",
    "    l2.append(sum)\n",
    "print(max(l2)) \n",
    "    "
   ]
  },
  {
   "cell_type": "code",
   "execution_count": 2,
   "id": "8425e896",
   "metadata": {},
   "outputs": [
    {
     "name": "stdout",
     "output_type": "stream",
     "text": [
      "Enter list numbers: 5 12 52 69 48 49 -69\n",
      "Enter a number smaller than length of list: 5\n",
      "230\n"
     ]
    }
   ],
   "source": [
    "#Solution-2\n",
    "l=list(map(int,input(\"Enter list numbers: \").split()))\n",
    "m=int(input(\"Enter a number smaller than length of list: \"))\n",
    "max_num=0\n",
    "for i in range(0,len(l)-m+1):\n",
    "    sum=0\n",
    "    for j in range(m):\n",
    "      sum+=l[j+i]\n",
    "    max_num=max(max_num,sum)\n",
    "print(max_num)    "
   ]
  },
  {
   "cell_type": "code",
   "execution_count": null,
   "id": "dc5f1cb1",
   "metadata": {},
   "outputs": [],
   "source": []
  }
 ],
 "metadata": {
  "kernelspec": {
   "display_name": "Python 3 (ipykernel)",
   "language": "python",
   "name": "python3"
  },
  "language_info": {
   "codemirror_mode": {
    "name": "ipython",
    "version": 3
   },
   "file_extension": ".py",
   "mimetype": "text/x-python",
   "name": "python",
   "nbconvert_exporter": "python",
   "pygments_lexer": "ipython3",
   "version": "3.11.5"
  }
 },
 "nbformat": 4,
 "nbformat_minor": 5
}
