{
 "cells": [
  {
   "cell_type": "code",
   "execution_count": 1,
   "id": "6de4801d",
   "metadata": {},
   "outputs": [
    {
     "name": "stdout",
     "output_type": "stream",
     "text": [
      "[1, 2, 3, 4, 5, 6, 7, 8, 9]\n"
     ]
    }
   ],
   "source": [
    "#quick sort \n",
    "\n",
    "def find(arr,S,E):\n",
    "    p=arr[E]\n",
    "    j=S-1\n",
    "    for i in range(S,E):\n",
    "        if arr[i]<p:\n",
    "            j=j+1\n",
    "            arr[i],arr[j]=arr[j],arr[i]\n",
    "    arr[j+1],arr[E]=arr[E],arr[j+1]\n",
    "    return j+1\n",
    "\n",
    "def quickSort(arr,S,E):\n",
    "    if S<E:\n",
    "        pi=find(arr,S,E)\n",
    "        quickSort(arr,S,pi-1)\n",
    "        quickSort(arr,pi+1,E)\n",
    "        \n",
    "if __name__ == '__main__':\n",
    "    arr=[4,8,2,3,7,5,1,9,6]\n",
    "    quickSort(arr,0,len(arr)-1)\n",
    "    print(arr)"
   ]
  },
  {
   "cell_type": "code",
   "execution_count": 1,
   "id": "42cae01a",
   "metadata": {},
   "outputs": [
    {
     "name": "stdout",
     "output_type": "stream",
     "text": [
      "Given array is\n",
      "4 8 2 3 7 5 1 9 6 \n",
      "\n",
      "Sorted array is \n",
      "1 2 3 4 5 6 7 8 9 \n"
     ]
    }
   ],
   "source": [
    "#merge sort\n",
    "\n",
    "def mergeSort(arr):\n",
    "    if len(arr) > 1:\n",
    "        mid = len(arr)//2\n",
    "        L = arr[:mid]\n",
    "        R = arr[mid:]\n",
    "        mergeSort(L)\n",
    "        mergeSort(R)\n",
    "        i = j = k = 0\n",
    "        while i < len(L) and j < len(R):\n",
    "            if L[i] <= R[j]:\n",
    "                arr[k] = L[i]\n",
    "                i += 1\n",
    "            else:\n",
    "                arr[k] = R[j]\n",
    "                j += 1\n",
    "            k += 1\n",
    "        while i < len(L):\n",
    "            arr[k] = L[i]\n",
    "            i += 1\n",
    "            k += 1\n",
    "        while j < len(R):\n",
    "            arr[k] = R[j]\n",
    "            j += 1\n",
    "            k += 1\n",
    "\n",
    "def printList(arr):\n",
    "    for i in range(len(arr)):\n",
    "        print(arr[i], end=\" \")\n",
    "    print()\n",
    "if __name__ == '__main__':\n",
    "    arr =[4,8,2,3,7,5,1,9,6]\n",
    "    print(\"Given array is\")\n",
    "    printList(arr)\n",
    "    mergeSort(arr)\n",
    "    print(\"\\nSorted array is \")\n",
    "    printList(arr)"
   ]
  },
  {
   "cell_type": "code",
   "execution_count": null,
   "id": "74e5c0ce",
   "metadata": {},
   "outputs": [],
   "source": []
  }
 ],
 "metadata": {
  "kernelspec": {
   "display_name": "Python 3 (ipykernel)",
   "language": "python",
   "name": "python3"
  },
  "language_info": {
   "codemirror_mode": {
    "name": "ipython",
    "version": 3
   },
   "file_extension": ".py",
   "mimetype": "text/x-python",
   "name": "python",
   "nbconvert_exporter": "python",
   "pygments_lexer": "ipython3",
   "version": "3.11.3"
  }
 },
 "nbformat": 4,
 "nbformat_minor": 5
}
