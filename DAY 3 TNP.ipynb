{
 "cells": [
  {
   "cell_type": "markdown",
   "id": "0f35c50d",
   "metadata": {},
   "source": [
    "# Quick sort\n"
   ]
  },
  {
   "cell_type": "code",
   "execution_count": 1,
   "id": "b1174555",
   "metadata": {},
   "outputs": [
    {
     "name": "stdout",
     "output_type": "stream",
     "text": [
      "[1, 2, 3, 4, 5, 6, 7, 8, 9]\n"
     ]
    }
   ],
   "source": [
    "def find(ar,S,E):\n",
    "    P=ar[E]\n",
    "    j=S-1\n",
    "    for i in range(S,E):\n",
    "        if ar[i]<P:\n",
    "            j=j+1\n",
    "            ar[i],ar[j]=ar[j],ar[i]\n",
    "    \n",
    "    j=j+1\n",
    "    ar[j],ar[E]=ar[E],ar[j]\n",
    "    return j\n",
    "\n",
    "def quickSort(ar,S,E):\n",
    "    if S<E:\n",
    "        pi=find(ar,S,E)\n",
    "        quickSort(ar,S,pi-1)\n",
    "        quickSort(ar,pi+1,E)\n",
    "\n",
    "\n",
    "if __name__ == '__main__':\n",
    "    ar=[4,8,2,3,7,5,1,9,6]\n",
    "    quickSort(ar,0,len(ar)-1)\n",
    "    print(ar)"
   ]
  },
  {
   "cell_type": "markdown",
   "id": "2d74c649",
   "metadata": {},
   "source": [
    "# Merge sort"
   ]
  },
  {
   "cell_type": "code",
   "execution_count": 2,
   "id": "b4ddb901",
   "metadata": {},
   "outputs": [
    {
     "name": "stdout",
     "output_type": "stream",
     "text": [
      "Given array is\n",
      "12 11 13 5 6 7 \n",
      "\n",
      "Sorted array is \n",
      "5 6 7 11 12 13 \n"
     ]
    }
   ],
   "source": [
    "def mergeSort(arr):\n",
    "\tif len(arr) > 1:\n",
    "\n",
    "\t\tmid = len(arr)//2\n",
    "\n",
    "\t\tL = arr[:mid]\n",
    "\n",
    "\t\tR = arr[mid:]\n",
    "\n",
    "\t\tmergeSort(L)\n",
    "\n",
    "\t\tmergeSort(R)\n",
    "\n",
    "\t\ti = j = k = 0\n",
    "\n",
    "\t\twhile i < len(L) and j < len(R):\n",
    "\t\t\tif L[i] <= R[j]:\n",
    "\t\t\t\tarr[k] = L[i]\n",
    "\t\t\t\ti += 1\n",
    "\t\t\telse:\n",
    "\t\t\t\tarr[k] = R[j]\n",
    "\t\t\t\tj += 1\n",
    "\t\t\tk += 1\n",
    "\n",
    "\t\twhile i < len(L):\n",
    "\t\t\tarr[k] = L[i]\n",
    "\t\t\ti += 1\n",
    "\t\t\tk += 1\n",
    "\n",
    "\t\twhile j < len(R):\n",
    "\t\t\tarr[k] = R[j]\n",
    "\t\t\tj += 1\n",
    "\t\t\tk += 1\n",
    "\n",
    "def printList(arr):\n",
    "\tfor i in range(len(arr)):\n",
    "\t\tprint(arr[i], end=\" \")\n",
    "\tprint()\n",
    "\n",
    "\n",
    "if __name__ == '__main__':\n",
    "\tarr = [12, 11, 13, 5, 6, 7]\n",
    "\tprint(\"Given array is\")\n",
    "\tprintList(arr)\n",
    "\tmergeSort(arr)\n",
    "\tprint(\"\\nSorted array is \")\n",
    "\tprintList(arr)    "
   ]
  },
  {
   "cell_type": "code",
   "execution_count": 3,
   "id": "94325e1c",
   "metadata": {},
   "outputs": [
    {
     "name": "stdout",
     "output_type": "stream",
     "text": [
      "24\n"
     ]
    }
   ],
   "source": [
    "# ar=[5,4,2,6,3,8,9,7,4,7,3,6,9,8,2,4,6,8,6,2,3,4,5,1,4,2]\n",
    "ar = [5,4,2,6,3,8,9,7,4,7,3,6,9,8,2,4,6,8,6,2,3,4,5,1,4,2]\n",
    "high = 0\n",
    "for i in range(0,len(ar)-2,1):\n",
    "    sum1 = 0\n",
    "    sum1 = ar[i]+ar[i+1]+ar[i+2]\n",
    "    if sum1 > high:\n",
    "        high = sum1\n",
    "print(high)"
   ]
  },
  {
   "cell_type": "code",
   "execution_count": 8,
   "id": "c48ba235",
   "metadata": {},
   "outputs": [
    {
     "name": "stdout",
     "output_type": "stream",
     "text": [
      "Enter number of elements : 3\n",
      "1\n",
      "2\n",
      "3\n",
      "None\n"
     ]
    }
   ],
   "source": [
    "lst = []\n",
    "n = int(input(\"Enter number of elements : \"))\n",
    "for i in range(0, n):\n",
    "    ele = int(input())\n",
    "    lst.append(ele) \n",
    "\n",
    "print(lst)\n"
   ]
  },
  {
   "cell_type": "code",
   "execution_count": 14,
   "id": "0df2daf8",
   "metadata": {},
   "outputs": [
    {
     "name": "stdout",
     "output_type": "stream",
     "text": [
      "Enter number of elements : 6\n",
      "1\n",
      "2\n",
      "3\n",
      "4\n",
      "5\n",
      "6\n",
      "15\n"
     ]
    }
   ],
   "source": [
    "arr = []\n",
    "n = int(input(\"Enter number of elements : \"))\n",
    "for i in range(0, n):\n",
    "    ele = int(input())\n",
    "    arr.append(ele) \n",
    "high = 0\n",
    "for i in range(0,len(arr)-2,1):\n",
    "    sum1 = 0\n",
    "    sum1 = arr[i]+arr[i+1]+arr[i+2]\n",
    "    if sum1 > high:\n",
    "        high = sum1\n",
    "print(high)\n"
   ]
  },
  {
   "cell_type": "code",
   "execution_count": 15,
   "id": "58a38735",
   "metadata": {},
   "outputs": [
    {
     "name": "stdout",
     "output_type": "stream",
     "text": [
      "Enter number of elements: 6\n",
      "1\n",
      "2\n",
      "3\n",
      "4\n",
      "5\n",
      "6\n",
      "15\n"
     ]
    }
   ],
   "source": [
    "arr = []\n",
    "n = int(input(\"Enter number of elements: \"))\n",
    "for i in range(0, n):\n",
    "    ele = int(input())\n",
    "    arr.append(ele)\n",
    "\n",
    "high = 0\n",
    "\n",
    "# Corrected loop range\n",
    "for i in range(0, len(arr)-2, 1):\n",
    "    sum1 = arr[i] + arr[i+1] + arr[i+2]\n",
    "    if sum1 > high:\n",
    "        high = sum1\n",
    "\n",
    "print(high)\n"
   ]
  },
  {
   "cell_type": "code",
   "execution_count": 16,
   "id": "60db1b68",
   "metadata": {},
   "outputs": [
    {
     "name": "stdout",
     "output_type": "stream",
     "text": [
      "Enter the starting number: 5\n",
      "Enter the number of consecutive elements: 4\n",
      "The sum of consecutive numbers starting from 5 is: 26\n"
     ]
    }
   ],
   "source": [
    "n = int(input(\"Enter the starting number: \"))\n",
    "m = int(input(\"Enter the number of consecutive elements: \"))\n",
    "\n",
    "arr = [i for i in range(n, n + m)]\n",
    "sum_consecutive = sum(arr)\n",
    "\n",
    "print(f\"The sum of consecutive numbers starting from {n} is: {sum_consecutive}\")\n"
   ]
  },
  {
   "cell_type": "code",
   "execution_count": null,
   "id": "690a819f",
   "metadata": {},
   "outputs": [],
   "source": []
  }
 ],
 "metadata": {
  "kernelspec": {
   "display_name": "Python 3 (ipykernel)",
   "language": "python",
   "name": "python3"
  },
  "language_info": {
   "codemirror_mode": {
    "name": "ipython",
    "version": 3
   },
   "file_extension": ".py",
   "mimetype": "text/x-python",
   "name": "python",
   "nbconvert_exporter": "python",
   "pygments_lexer": "ipython3",
   "version": "3.11.3"
  }
 },
 "nbformat": 4,
 "nbformat_minor": 5
}
