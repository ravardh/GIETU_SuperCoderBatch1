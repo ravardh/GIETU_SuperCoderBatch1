{
 "cells": [
  {
   "cell_type": "code",
   "execution_count": 11,
   "id": "d6c5b732-d231-44c8-b03f-99aafd767223",
   "metadata": {},
   "outputs": [
    {
     "name": "stdout",
     "output_type": "stream",
     "text": [
      "Left view of the tree is:\n",
      "21 42 15 39 61 "
     ]
    }
   ],
   "source": [
    "class Node:\n",
    "    def __init__(self, Info=None):\n",
    "        self.data = Info\n",
    "        self.left = None\n",
    "        self.right = None\n",
    "\n",
    "def left_view_helper(node, level, max_level):\n",
    "    if node is None:\n",
    "        return\n",
    "\n",
    "\n",
    "    if level > max_level[0]:\n",
    "        print(node.data, end=\" \")\n",
    "        max_level[0] = level\n",
    "\n",
    "    left_view_helper(node.left, level + 1, max_level)\n",
    "    left_view_helper(node.right, level + 1, max_level)\n",
    "\n",
    "def left_view(root):\n",
    "    max_level = [0]\n",
    "    left_view_helper(root, 1, max_level)\n",
    "# Creating the tree\n",
    "root = Node(21)\n",
    "root.left = Node(42)\n",
    "root.right = Node(1)\n",
    "root.left.left = Node(15)\n",
    "root.left.right = Node(13)\n",
    "root.right.left = Node(87)\n",
    "root.right.right = Node(28)\n",
    "root.left.left.left = Node(39)\n",
    "root.left.right.left = Node(50)\n",
    "root.left.right.right = Node(28)\n",
    "root.right.right.left = Node(17)\n",
    "root.right.right.right = Node(45)\n",
    "root.left.right.left.left = Node(61)\n",
    "root.left.right.left.right = Node(65)\n",
    "\n",
    "# Printing the left view\n",
    "print(\"Left view of the tree is:\")\n",
    "left_view(root)\n"
   ]
  },
  {
   "cell_type": "code",
   "execution_count": 15,
   "id": "255d630e-0b6f-4f3a-9b94-9f4378b4d86a",
   "metadata": {},
   "outputs": [
    {
     "name": "stdout",
     "output_type": "stream",
     "text": [
      "Right View of the tree: [21, 1, 28, 45, 65]\n"
     ]
    }
   ],
   "source": [
    "class Node:\n",
    "    def __init__(self, key):\n",
    "        self.val = key\n",
    "        self.left = None\n",
    "        self.right = None\n",
    "\n",
    "def right_view(root):\n",
    "    if root==None:\n",
    "        return []\n",
    "\n",
    "    right_view_list = []\n",
    "\n",
    "    def traverse(node, level):\n",
    "        nonlocal right_view_list\n",
    "        if level == len(right_view_list):\n",
    "            right_view_list.append(node.val)\n",
    "\n",
    "        if node.right:\n",
    "            traverse(node.right, level + 1)\n",
    "        if node.left:\n",
    "            traverse(node.left, level + 1)\n",
    "\n",
    "    traverse(root, 0)\n",
    "    return right_view_list\n",
    "\n",
    "# Creating the tree\n",
    "root = Node(21)\n",
    "root.left = Node(42)\n",
    "root.right = Node(1)\n",
    "root.left.left = Node(15)\n",
    "root.left.right = Node(13)\n",
    "root.right.left = Node(87)\n",
    "root.right.right = Node(28)\n",
    "root.left.left.left = Node(39)\n",
    "root.left.right.left = Node(50)\n",
    "root.left.right.right = Node(28)\n",
    "root.right.right.left = Node(17)\n",
    "root.right.right.right = Node(45)\n",
    "root.left.right.left.left = Node(61\n",
    "root.left.right.left.right = Node(65)\n",
    "\n",
    "# Getting the right view of the tree\n",
    "right_view_nodes = right_view(root)\n",
    "print(\"Right View of the tree:\", right_view_nodes)\n"
   ]
  },
  {
   "cell_type": "code",
   "execution_count": null,
   "id": "1627f220-62f6-4573-baf9-9a6d91213d0d",
   "metadata": {},
   "outputs": [],
   "source": [
    "#BINARY SEARCH TREE\n",
    "\n",
    "\n",
    "\n"
   ]
  }
 ],
 "metadata": {
  "kernelspec": {
   "display_name": "Python 3 (ipykernel)",
   "language": "python",
   "name": "python3"
  },
  "language_info": {
   "codemirror_mode": {
    "name": "ipython",
    "version": 3
   },
   "file_extension": ".py",
   "mimetype": "text/x-python",
   "name": "python",
   "nbconvert_exporter": "python",
   "pygments_lexer": "ipython3",
   "version": "3.10.4"
  }
 },
 "nbformat": 4,
 "nbformat_minor": 5
}
