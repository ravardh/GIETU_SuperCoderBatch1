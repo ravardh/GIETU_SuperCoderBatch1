{
 "cells": [
  {
   "cell_type": "code",
   "execution_count": 1,
   "id": "1fb98b58-374c-4207-a0f5-6d114a151579",
   "metadata": {},
   "outputs": [
    {
     "name": "stdout",
     "output_type": "stream",
     "text": [
      "Depth of the tree: 3\n",
      "Leaf nodes: [4, 5, 6]\n"
     ]
    }
   ],
   "source": [
    "class TreeNode:\n",
    "    def __init__(self, value):\n",
    "        self.value = value\n",
    "        self.children = []\n",
    "\n",
    "def find_depth(node):\n",
    "    if not node:\n",
    "        return 0\n",
    "    if not node.children:\n",
    "        return 1\n",
    "    return 1 + max(find_depth(child) for child in node.children)\n",
    "\n",
    "def find_leaf_nodes(node):\n",
    "    if not node:\n",
    "        return []\n",
    "    if not node.children:\n",
    "        return [node.value]\n",
    "    leaves = []\n",
    "    for child in node.children:\n",
    "        leaves.extend(find_leaf_nodes(child))\n",
    "    return leaves\n",
    "\n",
    "root = TreeNode(1)\n",
    "root.children = [TreeNode(2), TreeNode(3)]\n",
    "root.children[0].children = [TreeNode(4), TreeNode(5)]\n",
    "root.children[1].children = [TreeNode(6)]\n",
    "\n",
    "depth = find_depth(root)\n",
    "print(\"Depth of the tree:\", depth)\n",
    "\n",
    "leaf_nodes = find_leaf_nodes(root)\n",
    "print(\"Leaf nodes:\", leaf_nodes)\n"
   ]
  },
  {
   "cell_type": "code",
   "execution_count": null,
   "id": "d9178243-46f7-4713-8094-6dbbca81f988",
   "metadata": {},
   "outputs": [],
   "source": []
  }
 ],
 "metadata": {
  "kernelspec": {
   "display_name": "Python 3 (ipykernel)",
   "language": "python",
   "name": "python3"
  },
  "language_info": {
   "codemirror_mode": {
    "name": "ipython",
    "version": 3
   },
   "file_extension": ".py",
   "mimetype": "text/x-python",
   "name": "python",
   "nbconvert_exporter": "python",
   "pygments_lexer": "ipython3",
   "version": "3.11.5"
  }
 },
 "nbformat": 4,
 "nbformat_minor": 5
}
