{
 "cells": [
  {
   "cell_type": "code",
   "execution_count": 1,
   "id": "a9543510-9fcf-4b05-9d03-f9d7d7508c62",
   "metadata": {},
   "outputs": [],
   "source": [
    "#Pattern searching\n",
    "#Kmp Searching"
   ]
  },
  {
   "cell_type": "code",
   "execution_count": 2,
   "id": "349d70d9-45ce-4cf0-8c76-fc34d329ec61",
   "metadata": {},
   "outputs": [
    {
     "name": "stdin",
     "output_type": "stream",
     "text": [
      "Enter the pattern to search:  AB\n"
     ]
    },
    {
     "name": "stdout",
     "output_type": "stream",
     "text": [
      "Occurrences found at positions: [0, 2, 5, 11, 14, 16, 19]\n"
     ]
    }
   ],
   "source": [
    "def longestPrefixSuffix(pt):\n",
    "    m = len(pt)\n",
    "    lps = [0]*m\n",
    "    k = 0\n",
    "    for q in range(1, m):\n",
    "        while k > 0 and pt[k] != pt[q]:\n",
    "            k = lps[k - 1]\n",
    "        if pt[k] == pt[q]:\n",
    "            k += 1\n",
    "        lps[q] = k\n",
    "    return lps\n",
    "\n",
    "def kmpSearch(str, pt):\n",
    "    n = len(str)\n",
    "    m = len(pt)\n",
    "    lps = longestPrefixSuffix(pt)\n",
    "    q = 0\n",
    "    oc = []\n",
    "    for i in range(n):\n",
    "        while q > 0 and pt[q] != str[i]:\n",
    "            q = lps[q - 1]\n",
    "        if pt[q] == str[i]:\n",
    "            q += 1\n",
    "        if q == m:\n",
    "            oc.append(i - m + 1)\n",
    "            q = lps[q - 1]\n",
    "    return oc\n",
    "\n",
    "str = \"ABABCABACBCABCABABCABACB\"\n",
    "pt = input(\"Enter the pattern to search: \")\n",
    "n = kmpSearch(str, pt)\n",
    "if n:\n",
    "    print(\"Occurrences found at positions:\", n)\n",
    "else:\n",
    "    print(\"Pattern not found in the text.\")\n"
   ]
  },
  {
   "cell_type": "code",
   "execution_count": 3,
   "id": "2a62b8ad-12f1-48b4-88ec-82d6ee11404c",
   "metadata": {},
   "outputs": [
    {
     "ename": "TypeError",
     "evalue": "'str' object is not callable",
     "output_type": "error",
     "traceback": [
      "\u001b[1;31m---------------------------------------------------------------------------\u001b[0m",
      "\u001b[1;31mTypeError\u001b[0m                                 Traceback (most recent call last)",
      "Cell \u001b[1;32mIn[3], line 48\u001b[0m\n\u001b[0;32m     46\u001b[0m data \u001b[38;5;241m=\u001b[39m \u001b[38;5;124m\"\u001b[39m\u001b[38;5;124mABAABABCABABABCAABABCABAC\u001b[39m\u001b[38;5;124m\"\u001b[39m\n\u001b[0;32m     47\u001b[0m pat \u001b[38;5;241m=\u001b[39m \u001b[38;5;124m\"\u001b[39m\u001b[38;5;124mABABC\u001b[39m\u001b[38;5;124m\"\u001b[39m\n\u001b[1;32m---> 48\u001b[0m \u001b[43mKMPSearch\u001b[49m\u001b[43m(\u001b[49m\u001b[43mpat\u001b[49m\u001b[43m,\u001b[49m\u001b[43m \u001b[49m\u001b[43mdata\u001b[49m\u001b[43m)\u001b[49m\n",
      "Cell \u001b[1;32mIn[3], line 17\u001b[0m, in \u001b[0;36mKMPSearch\u001b[1;34m(pat, data)\u001b[0m\n\u001b[0;32m     14\u001b[0m     j \u001b[38;5;241m+\u001b[39m\u001b[38;5;241m=\u001b[39m \u001b[38;5;241m1\u001b[39m\n\u001b[0;32m     16\u001b[0m \u001b[38;5;28;01mif\u001b[39;00m j \u001b[38;5;241m==\u001b[39m M:\n\u001b[1;32m---> 17\u001b[0m     \u001b[38;5;28mprint\u001b[39m(\u001b[38;5;124m\"\u001b[39m\u001b[38;5;124mFound pattern at index \u001b[39m\u001b[38;5;124m\"\u001b[39m \u001b[38;5;241m+\u001b[39m \u001b[38;5;28;43mstr\u001b[39;49m\u001b[43m(\u001b[49m\u001b[43mi\u001b[49m\u001b[43m \u001b[49m\u001b[38;5;241;43m-\u001b[39;49m\u001b[43m \u001b[49m\u001b[43mj\u001b[49m\u001b[43m)\u001b[49m)\n\u001b[0;32m     18\u001b[0m     j \u001b[38;5;241m=\u001b[39m lps[j \u001b[38;5;241m-\u001b[39m \u001b[38;5;241m1\u001b[39m]\n\u001b[0;32m     20\u001b[0m \u001b[38;5;28;01melif\u001b[39;00m i \u001b[38;5;241m<\u001b[39m N \u001b[38;5;129;01mand\u001b[39;00m pat[j] \u001b[38;5;241m!=\u001b[39m data[i]:\n",
      "\u001b[1;31mTypeError\u001b[0m: 'str' object is not callable"
     ]
    }
   ],
   "source": [
    "def KMPSearch(pat, data):\n",
    "    M = len(pat)\n",
    "    N = len(data)\n",
    "\n",
    "    lps = [0] * M\n",
    "    j = 0\n",
    "\n",
    "    LPS(pat, M, lps)\n",
    "\n",
    "    i = 0\n",
    "    while (N - i) >= (M - j):\n",
    "        if pat[j] == data[i]:\n",
    "            i += 1\n",
    "            j += 1\n",
    "\n",
    "        if j == M:\n",
    "            print(\"Found pattern at index \" + str(i - j))\n",
    "            j = lps[j - 1]\n",
    "\n",
    "        elif i < N and pat[j] != data[i]:\n",
    "            if j != 0:\n",
    "                j = lps[j - 1]\n",
    "            else:\n",
    "                i += 1\n",
    "\n",
    "\n",
    "def LPS(pat, M, lps):\n",
    "    length = 0\n",
    "    lps[0] = 0\n",
    "    i = 1\n",
    "\n",
    "    while i < M:\n",
    "        if pat[i] == pat[length]:\n",
    "            length += 1\n",
    "            lps[i] = length\n",
    "            i += 1\n",
    "        else:\n",
    "            if length != 0:\n",
    "                length = lps[length - 1]\n",
    "            else:\n",
    "                lps[i] = 0\n",
    "                i += 1\n",
    "\n",
    "\n",
    "# Driver code\n",
    "data = \"ABAABABCABABABCAABABCABAC\"\n",
    "pat = \"ABABC\"\n",
    "KMPSearch(pat, data)\n"
   ]
  },
  {
   "cell_type": "code",
   "execution_count": null,
   "id": "989d8741-3500-4ee6-bfde-543e2795b765",
   "metadata": {},
   "outputs": [],
   "source": []
  }
 ],
 "metadata": {
  "kernelspec": {
   "display_name": "Python 3 (ipykernel)",
   "language": "python",
   "name": "python3"
  },
  "language_info": {
   "codemirror_mode": {
    "name": "ipython",
    "version": 3
   },
   "file_extension": ".py",
   "mimetype": "text/x-python",
   "name": "python",
   "nbconvert_exporter": "python",
   "pygments_lexer": "ipython3",
   "version": "3.11.5"
  }
 },
 "nbformat": 4,
 "nbformat_minor": 5
}
