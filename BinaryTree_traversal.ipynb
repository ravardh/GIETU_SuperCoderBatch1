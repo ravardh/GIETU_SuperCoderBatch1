{
 "cells": [
  {
   "cell_type": "code",
   "execution_count": 1,
   "id": "7ba59f64",
   "metadata": {},
   "outputs": [
    {
     "name": "stdout",
     "output_type": "stream",
     "text": [
      "Preorder Traversal:\n",
      "1 2 4 3 5 \n",
      "Inorder Traversal:\n",
      "4 2 1 3 5 \n",
      "Postorder Traversal:\n",
      "4 2 5 3 1 \n",
      "Levelorder Traversal:\n",
      "1 \n",
      "2 3 \n",
      "4 5 "
     ]
    }
   ],
   "source": [
    "class TreeNode:\n",
    "    def __init__(self,data):\n",
    "        self.data=data\n",
    "        self.left=None\n",
    "        self.right=None\n",
    "        \n",
    "def preorder(root):\n",
    "    if root is None:\n",
    "        return None\n",
    "    print(root.data,end=\" \")\n",
    "    preorder(root.left)\n",
    "    preorder(root.right)\n",
    "\n",
    "def inorder(root):\n",
    "    if root is None:\n",
    "        return None\n",
    "    inorder(root.left)\n",
    "    print(root.data,end=\" \")\n",
    "    inorder(root.right)\n",
    "    \n",
    "def postorder(root):\n",
    "    if root is None:\n",
    "        return None\n",
    "    postorder(root.left)\n",
    "    postorder(root.right)\n",
    "    print(root.data,end=\" \")\n",
    "    \n",
    "def levelorder(root):\n",
    "    queue=[]\n",
    "    queue.append(root)\n",
    "    queue.append(None)\n",
    "    while len(queue)>1:\n",
    "        front=queue.pop(0)\n",
    "        if front is not None:\n",
    "            print(front.data,end=\" \")\n",
    "            if front.left!=None:\n",
    "                queue.append(front.left)\n",
    "            if front.right!=None:\n",
    "                queue.append(front.right)\n",
    "        else:\n",
    "            print()\n",
    "            queue.append(None)\n",
    "            \n",
    "root=TreeNode(1)\n",
    "root.left=TreeNode(2)\n",
    "root.right=TreeNode(3)\n",
    "root.left.left=TreeNode(4)\n",
    "root.right.right=TreeNode(5)\n",
    "\n",
    "print(\"Preorder Traversal:\")\n",
    "preorder(root)\n",
    "print()\n",
    "\n",
    "print(\"Inorder Traversal:\")\n",
    "inorder(root)\n",
    "print()\n",
    "\n",
    "print(\"Postorder Traversal:\")\n",
    "postorder(root)\n",
    "print()\n",
    "\n",
    "print(\"Levelorder Traversal:\")\n",
    "levelorder(root)"
   ]
  },
  {
   "cell_type": "code",
   "execution_count": null,
   "id": "b4c195ce",
   "metadata": {},
   "outputs": [],
   "source": []
  }
 ],
 "metadata": {
  "kernelspec": {
   "display_name": "Python 3 (ipykernel)",
   "language": "python",
   "name": "python3"
  },
  "language_info": {
   "codemirror_mode": {
    "name": "ipython",
    "version": 3
   },
   "file_extension": ".py",
   "mimetype": "text/x-python",
   "name": "python",
   "nbconvert_exporter": "python",
   "pygments_lexer": "ipython3",
   "version": "3.11.5"
  }
 },
 "nbformat": 4,
 "nbformat_minor": 5
}
