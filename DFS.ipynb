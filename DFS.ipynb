{
 "cells": [
  {
   "cell_type": "code",
   "execution_count": 9,
   "id": "6328aa95-7e52-4dce-8536-b728856bb579",
   "metadata": {},
   "outputs": [
    {
     "name": "stdout",
     "output_type": "stream",
     "text": [
      "DFS Traversal:\n",
      "4 2 1 3 7 11 10 6 9 8 5 "
     ]
    }
   ],
   "source": [
    "class Graph:\n",
    "    def __init__(self):\n",
    "        self.graph = []\n",
    "\n",
    "    def add_edge(self, u, v):\n",
    "        max_index = max(u, v)\n",
    "        while len(self.graph) <= max_index:\n",
    "            self.graph.append([])\n",
    "        self.graph[u].append(v)\n",
    "\n",
    "    def dfs_util(self, v, visited):\n",
    "        visited[v] = True\n",
    "        print(v, end=' ')\n",
    "\n",
    "        for neighbor in self.graph[v]:\n",
    "            if not visited[neighbor]:\n",
    "                self.dfs_util(neighbor, visited)\n",
    "\n",
    "    def dfs(self, start):\n",
    "        visited = [False] * len(self.graph)\n",
    "        self.dfs_util(start, visited)\n",
    "\n",
    "g = Graph()\n",
    "edges = [(1, 2), (1, 3), (1, 10), (2, 1), (2, 4), (3, 1), (3, 7), (4, 2), (4, 5),(4, 7), (4, 8), (5, 4), (5, 6), (6, 9), (6, 10), (6, 5), (7, 4), (7, 11),(8, 9), (8, 4), (9, 8), (9, 6), (10, 6), (10, 1)]\n",
    "for u, v in edges:\n",
    "    g.add_edge(u, v)\n",
    "\n",
    "print(\"DFS Traversal:\")\n",
    "g.dfs(4)"
   ]
  },
  {
   "cell_type": "code",
   "execution_count": null,
   "id": "248b2bf9-0fdc-4d4a-aaeb-d115d57d1efc",
   "metadata": {},
   "outputs": [],
   "source": []
  }
 ],
 "metadata": {
  "kernelspec": {
   "display_name": "Python 3 (ipykernel)",
   "language": "python",
   "name": "python3"
  },
  "language_info": {
   "codemirror_mode": {
    "name": "ipython",
    "version": 3
   },
   "file_extension": ".py",
   "mimetype": "text/x-python",
   "name": "python",
   "nbconvert_exporter": "python",
   "pygments_lexer": "ipython3",
   "version": "3.11.4"
  }
 },
 "nbformat": 4,
 "nbformat_minor": 5
}
