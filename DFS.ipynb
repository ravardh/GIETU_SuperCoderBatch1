{
 "cells": [
  {
   "cell_type": "code",
   "execution_count": 1,
   "id": "fb6e7ce2",
   "metadata": {},
   "outputs": [
    {
     "name": "stdout",
     "output_type": "stream",
     "text": [
      "Adjacency List:\n",
      "0 -> [1, 2]\n",
      "1 -> [2]\n",
      "2 -> [0, 3]\n",
      "3 -> [3]\n",
      "\n",
      "DFS Traversal:\n",
      "2 0 1 3 "
     ]
    }
   ],
   "source": [
    "class Graph:\n",
    "    def __init__(self, vertices):\n",
    "        self.vertices = vertices\n",
    "        self.adj_list = [[] for _ in range(vertices)]\n",
    "\n",
    "    def add_edge(self, u, v):\n",
    "        self.adj_list[u].append(v)\n",
    "\n",
    "    def dfs_util(self, v, visited):\n",
    "        visited[v] = True\n",
    "        print(v, end=' ')\n",
    "\n",
    "        for i in self.adj_list[v]:\n",
    "            if not visited[i]:\n",
    "                self.dfs_util(i, visited)\n",
    "\n",
    "    def dfs(self, start):\n",
    "        visited = [False] * self.vertices\n",
    "        self.dfs_util(start, visited)\n",
    "\n",
    "\n",
    "graph = Graph(4)\n",
    "graph.add_edge(0, 1)\n",
    "graph.add_edge(0, 2)\n",
    "graph.add_edge(1, 2)\n",
    "graph.add_edge(2, 0)\n",
    "graph.add_edge(2, 3)\n",
    "graph.add_edge(3, 3)\n",
    "\n",
    "print(\"Adjacency List:\")\n",
    "for vertex, neighbors in enumerate(graph.adj_list):\n",
    "    print(f\"{vertex} -> {neighbors}\")\n",
    "\n",
    "print(\"\\nDFS Traversal:\")\n",
    "graph.dfs(2)"
   ]
  },
  {
   "cell_type": "code",
   "execution_count": null,
   "id": "ae874560",
   "metadata": {},
   "outputs": [],
   "source": []
  },
  {
   "cell_type": "code",
   "execution_count": null,
   "id": "e08f4e87",
   "metadata": {},
   "outputs": [],
   "source": []
  }
 ],
 "metadata": {
  "kernelspec": {
   "display_name": "Python 3 (ipykernel)",
   "language": "python",
   "name": "python3"
  },
  "language_info": {
   "codemirror_mode": {
    "name": "ipython",
    "version": 3
   },
   "file_extension": ".py",
   "mimetype": "text/x-python",
   "name": "python",
   "nbconvert_exporter": "python",
   "pygments_lexer": "ipython3",
   "version": "3.11.3"
  }
 },
 "nbformat": 4,
 "nbformat_minor": 5
}
