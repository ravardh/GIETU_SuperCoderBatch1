{
 "cells": [
  {
   "cell_type": "code",
   "execution_count": null,
   "id": "a739335d",
   "metadata": {},
   "outputs": [],
   "source": [
    "L = [[]]*5\n",
    "print(L)\n",
    "def add(s, d, L):\n",
    "    L[s].append(d)\n",
    "def dfs(node, L, visited):\n",
    "    if node not in visited:\n",
    "        print(node, end=\" \")\n",
    "        visited.add(node)\n",
    "        for neighbor in L[node]:\n",
    "            dfs(neighbor, L, visited)\n",
    "def dfs_traversal(start, L):\n",
    "    visited = set()\n",
    "    dfs(start, L, visited)\n",
    "add(0, 1, L)\n",
    "add(0, 3, L)\n",
    "add(0, 4, L)\n",
    "add(1, 0, L)\n",
    "add(1, 2, L)\n",
    "add(2, 1, L)\n",
    "add(2, 4, L)\n",
    "add(3, 0, L)\n",
    "add(4, 0, L)\n",
    "add(4, 2, L)\n",
    "print(\"DFS starting from node 0:\")\n",
    "dfs_traversal(0, L)\n",
    "print(L)"
   ]
  }
 ],
 "metadata": {
  "kernelspec": {
   "display_name": "Python 3 (ipykernel)",
   "language": "python",
   "name": "python3"
  },
  "language_info": {
   "codemirror_mode": {
    "name": "ipython",
    "version": 3
   },
   "file_extension": ".py",
   "mimetype": "text/x-python",
   "name": "python",
   "nbconvert_exporter": "python",
   "pygments_lexer": "ipython3",
   "version": "3.11.5"
  }
 },
 "nbformat": 4,
 "nbformat_minor": 5
}
