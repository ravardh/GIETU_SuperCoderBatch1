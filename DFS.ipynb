{
 "cells": [
  {
   "cell_type": "code",
   "execution_count": 17,
   "id": "1b60310e",
   "metadata": {},
   "outputs": [
    {
     "name": "stdout",
     "output_type": "stream",
     "text": [
      "10\n",
      "8\n",
      "9\n",
      "6\n",
      "5\n",
      "3\n",
      "11\n",
      "7\n",
      "4\n",
      "2\n",
      "1\n"
     ]
    }
   ],
   "source": [
    "def DFS(start , graph , visited):\n",
    "    visited[start-1] = True\n",
    "    for i in graph[start - 1]:\n",
    "        if visited[i[1]-1] == False:\n",
    "            DFS(i[1],graph,visited)\n",
    "    print(start)\n",
    "    \n",
    "    \n",
    "def create_graph(graph,source,destination,weight=1):\n",
    "    graph[source-1].append((source,destination,weight))\n",
    "\n",
    "v = 11\n",
    "graph = [[] for _ in range(v)]\n",
    "for i in range(v):\n",
    "    graph[i] = [ ]\n",
    "\n",
    "create_graph(graph,1,2)\n",
    "create_graph(graph,1,3)\n",
    "create_graph(graph,1,10)\n",
    "create_graph(graph,2,1)\n",
    "create_graph(graph,2,4)\n",
    "create_graph(graph,3,1)\n",
    "create_graph(graph,3,7)\n",
    "create_graph(graph,4,2)\n",
    "create_graph(graph,4,5)\n",
    "create_graph(graph,4,7)\n",
    "create_graph(graph,4,8)\n",
    "create_graph(graph,5,4)\n",
    "create_graph(graph,5,6)\n",
    "create_graph(graph,6,5)\n",
    "create_graph(graph,6,10)\n",
    "create_graph(graph,6,9)\n",
    "create_graph(graph,7,3)\n",
    "create_graph(graph,7,4)\n",
    "create_graph(graph,7,11)\n",
    "create_graph(graph,8,4)\n",
    "create_graph(graph,8,9)\n",
    "create_graph(graph,9,6)\n",
    "create_graph(graph,9,8)\n",
    "create_graph(graph,10,1)\n",
    "create_graph(graph,10,6)\n",
    "create_graph(graph,11,7)\n",
    "\n",
    "visited = [False] * len(graph)\n",
    "\n",
    "DFS(1,graph,visited)"
   ]
  },
  {
   "cell_type": "code",
   "execution_count": null,
   "id": "441d2f30",
   "metadata": {},
   "outputs": [],
   "source": []
  }
 ],
 "metadata": {
  "kernelspec": {
   "display_name": "Python 3 (ipykernel)",
   "language": "python",
   "name": "python3"
  },
  "language_info": {
   "codemirror_mode": {
    "name": "ipython",
    "version": 3
   },
   "file_extension": ".py",
   "mimetype": "text/x-python",
   "name": "python",
   "nbconvert_exporter": "python",
   "pygments_lexer": "ipython3",
   "version": "3.11.3"
  }
 },
 "nbformat": 4,
 "nbformat_minor": 5
}
