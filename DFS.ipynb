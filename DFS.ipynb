{
  "nbformat": 4,
  "nbformat_minor": 0,
  "metadata": {
    "colab": {
      "provenance": [],
      "authorship_tag": "ABX9TyPIQhmdE4kjlJWdzt3EAZRj",
      "include_colab_link": true
    },
    "kernelspec": {
      "name": "python3",
      "display_name": "Python 3"
    },
    "language_info": {
      "name": "python"
    }
  },
  "cells": [
    {
      "cell_type": "markdown",
      "metadata": {
        "id": "view-in-github",
        "colab_type": "text"
      },
      "source": [
        "<a href=\"https://colab.research.google.com/github/ravardh/GIETU_SuperCoderBatch1/blob/Ashish_21cse101/DFS.ipynb\" target=\"_parent\"><img src=\"https://colab.research.google.com/assets/colab-badge.svg\" alt=\"Open In Colab\"/></a>"
      ]
    },
    {
      "cell_type": "code",
      "execution_count": null,
      "metadata": {
        "colab": {
          "base_uri": "https://localhost:8080/"
        },
        "id": "GQF1U89Bx6Mg",
        "outputId": "996f7440-7d40-45f9-f7e8-878fc72f4375"
      },
      "outputs": [
        {
          "output_type": "stream",
          "name": "stdout",
          "text": [
            "Adjacency List:\n",
            "0 -> [1, 2]\n",
            "1 -> [2]\n",
            "2 -> [0, 3]\n",
            "3 -> [3]\n",
            "\n",
            "DFS Traversal:\n",
            "2 0 1 3 "
          ]
        }
      ],
      "source": [
        "class Graph:\n",
        "    def __init__(self, vertices):\n",
        "        self.vertices = vertices\n",
        "        self.adj_list = [[] for _ in range(vertices)]\n",
        "\n",
        "    def add_edge(self, u, v):\n",
        "        self.adj_list[u].append(v)\n",
        "\n",
        "    def dfs_util(self, v, visited):\n",
        "        visited[v] = True\n",
        "        print(v, end=' ')\n",
        "\n",
        "        for i in self.adj_list[v]:\n",
        "            if not visited[i]:\n",
        "                self.dfs_util(i, visited)\n",
        "\n",
        "    def dfs(self, start):\n",
        "        visited = [False] * self.vertices\n",
        "        self.dfs_util(start, visited)\n",
        "\n",
        "\n",
        "graph = Graph(4)\n",
        "graph.add_edge(0, 1)\n",
        "graph.add_edge(0, 2)\n",
        "graph.add_edge(1, 2)\n",
        "graph.add_edge(2, 0)\n",
        "graph.add_edge(2, 3)\n",
        "graph.add_edge(3, 3)\n",
        "\n",
        "print(\"Adjacency List:\")\n",
        "for vertex, neighbors in enumerate(graph.adj_list):\n",
        "    print(f\"{vertex} -> {neighbors}\")\n",
        "\n",
        "print(\"\\nDFS Traversal:\")\n",
        "graph.dfs(2)"
      ]
    },
    {
      "cell_type": "code",
      "source": [],
      "metadata": {
        "id": "39WQp9Ty66qR"
      },
      "execution_count": null,
      "outputs": []
    }
  ]
}