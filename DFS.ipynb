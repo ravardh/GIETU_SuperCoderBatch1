{
 "cells": [
  {
   "cell_type": "code",
   "execution_count": 3,
   "id": "96dbf565-0c53-4a5d-ab55-5c1795f04ce5",
   "metadata": {},
   "outputs": [
    {
     "name": "stdout",
     "output_type": "stream",
     "text": [
      "8 9 10 6 5 4 2 11 7 3 1 "
     ]
    }
   ],
   "source": [
    "class Graph:\n",
    "    def __init__(self,v):\n",
    "        self.v=v\n",
    "        self.graPh=[[] for _ in range(v)]\n",
    "    def add_edge(self,u,v):\n",
    "        self.graPh[u-1].append(v)\n",
    "        self.graPh[v-1].append(u)\n",
    "def DFS(source,graph,visited):\n",
    "    for i in range(len(graph.graPh[source-1])):\n",
    "        if graph.graPh[source-1][i] not in visited:\n",
    "            visited.add(graph.graPh[source-1][i])\n",
    "            DFS(graph.graPh[source-1][i],graph,visited)\n",
    "    print(source,end=\" \")\n",
    "if __name__==\"__main__\":\n",
    "    graph=Graph(11)\n",
    "    graph.add_edge(1,2)\n",
    "    graph.add_edge(1,3)\n",
    "    graph.add_edge(1,10)\n",
    "    graph.add_edge(2,4)\n",
    "    graph.add_edge(3,7)\n",
    "    graph.add_edge(7,11)\n",
    "    graph.add_edge(4,5)\n",
    "    graph.add_edge(4,8)\n",
    "    graph.add_edge(5,6)\n",
    "    graph.add_edge(8,9)\n",
    "    graph.add_edge(6,9)\n",
    "    graph.add_edge(6,10)\n",
    "    source=1\n",
    "    visited=set()\n",
    "    visited.add(source)\n",
    "    DFS(source,graph,visited)\n",
    "    \n",
    "    \n",
    "            \n",
    "        \n",
    "\n",
    "        "
   ]
  },
  {
   "cell_type": "code",
   "execution_count": null,
   "id": "5059b054-f25d-4ca9-94f9-ac653578f1dc",
   "metadata": {},
   "outputs": [],
   "source": []
  },
  {
   "cell_type": "code",
   "execution_count": null,
   "id": "35d4c9b7-9c90-4ab0-af84-2c65c1f4ae36",
   "metadata": {},
   "outputs": [],
   "source": []
  }
 ],
 "metadata": {
  "kernelspec": {
   "display_name": "Python 3 (ipykernel)",
   "language": "python",
   "name": "python3"
  },
  "language_info": {
   "codemirror_mode": {
    "name": "ipython",
    "version": 3
   },
   "file_extension": ".py",
   "mimetype": "text/x-python",
   "name": "python",
   "nbconvert_exporter": "python",
   "pygments_lexer": "ipython3",
   "version": "3.12.1"
  }
 },
 "nbformat": 4,
 "nbformat_minor": 5
}
