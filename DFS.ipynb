{
 "cells": [
  {
   "cell_type": "code",
   "execution_count": 3,
   "id": "3ce4b8b0",
   "metadata": {},
   "outputs": [
    {
     "name": "stdout",
     "output_type": "stream",
     "text": [
      "8 9 10 6 5 4 2 11 7 3 1 "
     ]
    }
   ],
   "source": [
    "class Graph:\n",
    "    def __init__(self,vertices):\n",
    "        self.vertices=vertices\n",
    "        self.gr=[[] for i in range(vertices)]\n",
    "    def add_edge(self,u,v):\n",
    "        self.gr[u-1].append(v)\n",
    "        self.gr[v-1].append(u)\n",
    "    def DFS(self,s,visited):\n",
    "        for i in range(len(self.gr[s-1])):\n",
    "            if self.gr[s-1][i] not in visited:\n",
    "                visited.add(self.gr[s-1][i])\n",
    "                self.DFS(self.gr[s-1][i],visited)\n",
    "        print(s,end=\" \")\n",
    "if __name__==\"__main__\":\n",
    "    graph=Graph(11)\n",
    "    graph.add_edge(1,2)\n",
    "    graph.add_edge(1,3)\n",
    "    graph.add_edge(1,10)\n",
    "    graph.add_edge(2,4)\n",
    "    graph.add_edge(3,7)\n",
    "    graph.add_edge(7,11)\n",
    "    graph.add_edge(4,5)\n",
    "    graph.add_edge(4,8)\n",
    "    graph.add_edge(5,6)\n",
    "    graph.add_edge(8,9)\n",
    "    graph.add_edge(6,9)\n",
    "    graph.add_edge(6,10)\n",
    "    source=1\n",
    "    visited=set()\n",
    "    visited.add(source)\n",
    "    graph.DFS(source,visited)"
   ]
  },
  {
   "cell_type": "code",
   "execution_count": null,
   "id": "2c27ec9b",
   "metadata": {},
   "outputs": [],
   "source": []
  }
 ],
 "metadata": {
  "kernelspec": {
   "display_name": "Python 3 (ipykernel)",
   "language": "python",
   "name": "python3"
  },
  "language_info": {
   "codemirror_mode": {
    "name": "ipython",
    "version": 3
   },
   "file_extension": ".py",
   "mimetype": "text/x-python",
   "name": "python",
   "nbconvert_exporter": "python",
   "pygments_lexer": "ipython3",
   "version": "3.11.8"
  }
 },
 "nbformat": 4,
 "nbformat_minor": 5
}
