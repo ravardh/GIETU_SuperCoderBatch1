{
 "cells": [
  {
   "cell_type": "code",
   "execution_count": 2,
   "id": "b21cdb68",
   "metadata": {},
   "outputs": [
    {
     "name": "stdout",
     "output_type": "stream",
     "text": [
      "[1, 34, 72, 5.4, 'R', 81, 9.9]\n"
     ]
    }
   ],
   "source": [
    "  print([1,34,72,5.4,\"R\",81,9.9])"
   ]
  },
  {
   "cell_type": "code",
   "execution_count": 8,
   "id": "c3bddd23",
   "metadata": {},
   "outputs": [
    {
     "name": "stdout",
     "output_type": "stream",
     "text": [
      "Enter key 5\n",
      "Key not available\n"
     ]
    }
   ],
   "source": [
    "d = {1:\"Rohit\",2:\"Ashmit\",3:\"Dibya\"}\n",
    "\n",
    "key = int(input(\"Enter key \"))\n",
    "\n",
    "if d.get(key):\n",
    "    print(d[key])\n",
    "else:\n",
    "    print(\"Key not available\")"
   ]
  },
  {
   "cell_type": "code",
   "execution_count": 9,
   "id": "4b3a7051",
   "metadata": {},
   "outputs": [
    {
     "name": "stdout",
     "output_type": "stream",
     "text": [
      "Before sorting:  [9, 8, 7, 6, 5, 4, 1]\n",
      "After sorting:  [1, 4, 5, 6, 7, 8, 9]\n"
     ]
    }
   ],
   "source": [
    "def bubble_sort(arr):\n",
    "    n = len(arr)\n",
    "    for i in range(n):\n",
    "        for j in range(0, n-i-1):\n",
    "            if arr[j] > arr[j+1]:\n",
    "                arr[j], arr[j+1] = arr[j+1], arr[j]\n",
    "      \n",
    "    return arr\n",
    "\n",
    "# Test the implementation with an example list\n",
    "arr = [9, 8, 7, 6, 5, 4, 1]\n",
    "print(\"Before sorting: \", arr)\n",
    "arr = bubble_sort(arr)\n",
    "print(\"After sorting: \", arr)"
   ]
  },
  {
   "cell_type": "code",
   "execution_count": 11,
   "id": "4c651202",
   "metadata": {},
   "outputs": [
    {
     "name": "stdout",
     "output_type": "stream",
     "text": [
      "Before sorting [9, 8, 7, 6, 5, 4, 3, 1]\n",
      "After Sorting: [1, 3, 4, 5, 6, 7, 8, 9]\n"
     ]
    }
   ],
   "source": [
    "def selectionSort(n):\n",
    "    for i in range(len(n)):\n",
    "        min_index=i\n",
    "        for j in range(i+1,len(n)):\n",
    "            if n[min_index]>n[j]:\n",
    "                min_index=j\n",
    "        n[i],n[min_index]=n[min_index],n[i]\n",
    "n=[9,8,7,6,5,4,3,1]\n",
    "print(\"Before sorting\",n)\n",
    "selectionSort(n)\n",
    "print(\"After Sorting:\",n)\n"
   ]
  },
  {
   "cell_type": "code",
   "execution_count": null,
   "id": "12ae0c93",
   "metadata": {},
   "outputs": [],
   "source": [
    "#Insertion Sort\n",
    "\n"
   ]
  }
 ],
 "metadata": {
  "kernelspec": {
   "display_name": "Python 3 (ipykernel)",
   "language": "python",
   "name": "python3"
  },
  "language_info": {
   "codemirror_mode": {
    "name": "ipython",
    "version": 3
   },
   "file_extension": ".py",
   "mimetype": "text/x-python",
   "name": "python",
   "nbconvert_exporter": "python",
   "pygments_lexer": "ipython3",
   "version": "3.9.12"
  }
 },
 "nbformat": 4,
 "nbformat_minor": 5
}
