{
  "nbformat": 4,
  "nbformat_minor": 0,
  "metadata": {
    "colab": {
      "provenance": [],
      "authorship_tag": "ABX9TyMLuI4xdFNHjaA3iY/W/uVy",
      "include_colab_link": true
    },
    "kernelspec": {
      "name": "python3",
      "display_name": "Python 3"
    },
    "language_info": {
      "name": "python"
    }
  },
  "cells": [
    {
      "cell_type": "markdown",
      "metadata": {
        "id": "view-in-github",
        "colab_type": "text"
      },
      "source": [
        "<a href=\"https://colab.research.google.com/github/ravardh/GIETU_SuperCoderBatch1/blob/Ashish_21cse101/Tree.ipynb\" target=\"_parent\"><img src=\"https://colab.research.google.com/assets/colab-badge.svg\" alt=\"Open In Colab\"/></a>"
      ]
    },
    {
      "cell_type": "code",
      "execution_count": 8,
      "metadata": {
        "id": "0kWk5Bxs2PMf"
      },
      "outputs": [],
      "source": [
        "class node:\n",
        "    def __init__(self, data, left=None, right=None):\n",
        "        self.data = data\n",
        "        self.left = left\n",
        "        self.right = right\n",
        "        self.key = 0\n",
        "\n",
        "\n",
        "root = node(7)\n",
        "root.left = node(5)\n",
        "root.right = node(4)\n",
        "root.left.left = node(3)\n",
        "root.left.right = node(2)\n",
        "root.right.left = node(1)\n",
        "root.right.right = node(10)\n",
        "\n",
        "#           7\n",
        "#      5        4\n",
        "#    3   2    1   10"
      ]
    },
    {
      "cell_type": "code",
      "source": [
        "#height of the binary tree\n",
        "\n",
        "def height_tree(node):\n",
        "    if node is None:\n",
        "        return 0\n",
        "    else:\n",
        "        left = height_tree(node.left)\n",
        "        right = height_tree(node.right)\n",
        "\n",
        "        height = max(left, right) + 1\n",
        "\n",
        "    return height\n",
        "\n",
        "\n",
        "print(\"height of the tree: \", height_tree(root))"
      ],
      "metadata": {
        "colab": {
          "base_uri": "https://localhost:8080/"
        },
        "id": "Z4VbLleY2u-a",
        "outputId": "b2ab277f-3513-4284-bf4d-557fbca740e0"
      },
      "execution_count": 9,
      "outputs": [
        {
          "output_type": "stream",
          "name": "stdout",
          "text": [
            "height of the tree:  3\n"
          ]
        }
      ]
    },
    {
      "cell_type": "code",
      "source": [
        "#print leaf node of the binary tree\n",
        "def leaf_node(node):\n",
        "    if node is None:\n",
        "        return\n",
        "\n",
        "    if node.left == None and node.right == None:\n",
        "        print(node.data)\n",
        "        return\n",
        "\n",
        "    leaf_node(node.left)\n",
        "    leaf_node(node.right)\n",
        "\n",
        "\n",
        "print(\"leaf node: \")\n",
        "print(leaf_node(root))"
      ],
      "metadata": {
        "colab": {
          "base_uri": "https://localhost:8080/"
        },
        "id": "kZ-z-k334YxR",
        "outputId": "c4bfc3ad-8ae3-477c-ab05-42e20cb60a0b"
      },
      "execution_count": 10,
      "outputs": [
        {
          "output_type": "stream",
          "name": "stdout",
          "text": [
            "leaf node: \n",
            "3\n",
            "2\n",
            "1\n",
            "10\n",
            "None\n"
          ]
        }
      ]
    },
    {
      "cell_type": "code",
      "source": [
        "#print the top view of the binary tree\n",
        "def topview(root):\n",
        "    if root == None:\n",
        "        return\n",
        "\n",
        "    Q = [root]\n",
        "    key = 0\n",
        "    TView = dict()\n",
        "    root.key = key\n",
        "    while len(Q) != 0:\n",
        "        curr = Q.pop(0)\n",
        "        key = curr.key\n",
        "        if key not in TView:\n",
        "            TView[key] = curr.data\n",
        "        if curr.left != None:\n",
        "            Q.append(curr.left)\n",
        "            curr.left.key = key-1\n",
        "        if curr.right != None:\n",
        "            Q.append(curr.right)\n",
        "            curr.right.key = key+1\n",
        "    for x in sorted(TView.keys()):\n",
        "        print(TView[x], end=\" \")\n",
        "\n",
        "\n",
        "print(\"top view: \")\n",
        "topview(root)"
      ],
      "metadata": {
        "colab": {
          "base_uri": "https://localhost:8080/"
        },
        "id": "HjyP66vR51OQ",
        "outputId": "51c77fb3-74bf-4844-ceb9-816a41660145"
      },
      "execution_count": 11,
      "outputs": [
        {
          "output_type": "stream",
          "name": "stdout",
          "text": [
            "top view: \n",
            "3 5 7 4 10 "
          ]
        }
      ]
    }
  ]
}