{
 "cells": [
  {
   "cell_type": "code",
   "execution_count": 2,
   "id": "ed0e8f18",
   "metadata": {},
   "outputs": [],
   "source": [
    "def find(a,s,e):\n",
    "    p=a[e]\n",
    "    i=s\n",
    "    j=s-1\n",
    "    for i in range(s,e):\n",
    "        if(a[i]<p):\n",
    "            j=j+1\n",
    "            a[i],a[j]=a[j],a[i]\n",
    "    j=j+1\n",
    "    a[j],a[e]=a[e],a[j]\n",
    "    return j\n",
    "\n",
    "def quicksort(a,s,e):\n",
    "    if s<e:\n",
    "        pi=find(a,s,e)\n",
    "        quicksort(a, s, pi-1)  # Recursive call for the left subarray\n",
    "        quicksort(a, pi+1, e) \n",
    "\n",
    "\n",
    "if __name__==\"__main__\":\n",
    "    a=[4,8,5,3,7,2,9,1]\n",
    "    quicksort(a,0,len(a)-1)\n",
    "    print(a)"
   ]
  },
  {
   "cell_type": "code",
   "execution_count": null,
   "id": "20c1219c",
   "metadata": {},
   "outputs": [],
   "source": []
  }
 ],
 "metadata": {
  "kernelspec": {
   "display_name": "Python 3 (ipykernel)",
   "language": "python",
   "name": "python3"
  },
  "language_info": {
   "codemirror_mode": {
    "name": "ipython",
    "version": 3
   },
   "file_extension": ".py",
   "mimetype": "text/x-python",
   "name": "python",
   "nbconvert_exporter": "python",
   "pygments_lexer": "ipython3",
   "version": "3.10.9"
  }
 },
 "nbformat": 4,
 "nbformat_minor": 5
}
