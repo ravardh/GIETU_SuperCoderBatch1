{
 "cells": [
  {
   "cell_type": "code",
   "execution_count": 1,
   "id": "e24a8782",
   "metadata": {},
   "outputs": [
    {
     "name": "stdout",
     "output_type": "stream",
     "text": [
      "1\n",
      "2\n",
      "3\n",
      "Gourab\n",
      "Abinash\n",
      "Ashish\n",
      "Enter any key : 1\n",
      "Gourab\n"
     ]
    }
   ],
   "source": [
    "d={1:\"Gourab\",2:\"Abinash\",3:\"Ashish\"}\n",
    "\n",
    "for x in d.keys():\n",
    "    print(x)\n",
    "\n",
    "for x in d.values():\n",
    "    print(x)\n",
    "\n",
    "s=int(input(\"Enter any key : \"))\n",
    "print(d[s])"
   ]
  },
  {
   "cell_type": "code",
   "execution_count": 2,
   "id": "bf8797e9",
   "metadata": {},
   "outputs": [
    {
     "name": "stdout",
     "output_type": "stream",
     "text": [
      "Enter any key : 4\n",
      "Key not available\n",
      "Code Executed\n"
     ]
    }
   ],
   "source": [
    "d={1:\"Gourab\",2:\"Abinash\",3:\"Ashish\"}\n",
    "\n",
    "s=int(input(\"Enter any key : \"))\n",
    "try:\n",
    "    print(d[s])\n",
    "except:\n",
    "    print(\"Key not available\")\n",
    "finally:\n",
    "    print(\"Code Executed\")"
   ]
  },
  {
   "cell_type": "code",
   "execution_count": 3,
   "id": "59c9ab17",
   "metadata": {},
   "outputs": [
    {
     "name": "stdout",
     "output_type": "stream",
     "text": [
      "Unsorted array :  [4, 7, 8, 1, 9, 2, 3, 6, 5]\n",
      "Sorted array :  [1, 2, 3, 4, 5, 6, 7, 8, 9]\n"
     ]
    }
   ],
   "source": [
    "# Bubble Sort\n",
    "\n",
    "def bubblesort(data):\n",
    "  n = len(data)\n",
    "  for i in range(n-1):\n",
    "    for j in range(i,n):\n",
    "      if data[i] > data[j]:\n",
    "        data[i],data[j] = data[j],data[i]\n",
    "  return data\n",
    "\n",
    "data = [4,7,8,1,9,2,3,6,5]\n",
    "print(\"Unsorted array : \", data)\n",
    "print(\"Sorted array : \", bubblesort(data))"
   ]
  },
  {
   "cell_type": "code",
   "execution_count": 4,
   "id": "cd64e78b",
   "metadata": {},
   "outputs": [
    {
     "name": "stdout",
     "output_type": "stream",
     "text": [
      "Unsorted array :  [4, 7, 8, 1, 9, 2, 3, 6, 5]\n",
      "Sorted array :  [1, 2, 3, 4, 5, 6, 7, 8, 9]\n"
     ]
    }
   ],
   "source": [
    "# Selection Sort\n",
    "\n",
    "def selectionsort(data):\n",
    "  n = len(data)\n",
    "  for i in range(n):\n",
    "    min = i\n",
    "    for j in range(i+1,n):\n",
    "      if(data[min] > data[j]):\n",
    "        min = j\n",
    "    if(min != i):\n",
    "      data[i],data[min] = data[min],data[i]\n",
    "  return data\n",
    "\n",
    "data = [4,7,8,1,9,2,3,6,5]\n",
    "print(\"Unsorted array : \", data)\n",
    "print(\"Sorted array : \", selectionsort(data))"
   ]
  },
  {
   "cell_type": "code",
   "execution_count": 5,
   "id": "4e24d69d",
   "metadata": {},
   "outputs": [
    {
     "name": "stdout",
     "output_type": "stream",
     "text": [
      "Unsorted array :  [4, 7, 8, 1, 9, 2, 3, 6, 5]\n",
      "Sorted array :  [1, 2, 3, 4, 5, 6, 7, 8, 9]\n"
     ]
    }
   ],
   "source": [
    "# Insertion Sort\n",
    "\n",
    "def insertionsort(data):\n",
    "  n = len(data)\n",
    "  for i in range(n):\n",
    "    key = data[i]\n",
    "    j = i - 1\n",
    "    while(j >= 0 and data[j] > key):\n",
    "      data[j + 1] = data[j]\n",
    "      j = j - 1\n",
    "    data[j + 1] = key\n",
    "  return data\n",
    "\n",
    "data = [4,7,8,1,9,2,3,6,5]\n",
    "print(\"Unsorted array : \", data)\n",
    "print(\"Sorted array : \", insertionsort(data))"
   ]
  },
  {
   "cell_type": "code",
   "execution_count": null,
   "id": "bad98dbf",
   "metadata": {},
   "outputs": [],
   "source": []
  }
 ],
 "metadata": {
  "kernelspec": {
   "display_name": "Python 3 (ipykernel)",
   "language": "python",
   "name": "python3"
  },
  "language_info": {
   "codemirror_mode": {
    "name": "ipython",
    "version": 3
   },
   "file_extension": ".py",
   "mimetype": "text/x-python",
   "name": "python",
   "nbconvert_exporter": "python",
   "pygments_lexer": "ipython3",
   "version": "3.11.3"
  }
 },
 "nbformat": 4,
 "nbformat_minor": 5
}
