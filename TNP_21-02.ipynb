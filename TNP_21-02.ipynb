{
 "cells": [
  {
   "cell_type": "code",
   "execution_count": null,
   "id": "fb90b8be-6435-41ae-a65b-1fc4eff6d88a",
   "metadata": {},
   "outputs": [],
   "source": [
    "type casting\n",
    "implicit \n",
    "explicit\n",
    "int()\n",
    "float()\n",
    "str()\n"
   ]
  },
  {
   "cell_type": "code",
   "execution_count": 6,
   "id": "cff9f1ce-f2b4-42df-b663-d80e7ebf125e",
   "metadata": {},
   "outputs": [
    {
     "name": "stdout",
     "output_type": "stream",
     "text": [
      "<class 'float'>\n",
      "<class 'int'>\n",
      "15.5\n",
      "<class 'float'>\n"
     ]
    }
   ],
   "source": [
    "a=8.5\n",
    "b=7\n",
    "print(type(a))\n",
    "print(type(b))\n",
    "print(a+b)\n",
    "print(type(a+b))\n"
   ]
  },
  {
   "cell_type": "code",
   "execution_count": null,
   "id": "b1a1c6cf-4bea-457a-830a-b003c334994f",
   "metadata": {},
   "outputs": [],
   "source": [
    "decision making\n",
    "if-else\n",
    "Match case\n",
    "if-else"
   ]
  },
  {
   "cell_type": "code",
   "execution_count": 15,
   "id": "d954a91e-579e-4371-9dd8-d8a77f771f1a",
   "metadata": {},
   "outputs": [
    {
     "name": "stdin",
     "output_type": "stream",
     "text": [
      "enter the ist num: 22\n",
      "enter the 2nd num: 33\n",
      "enter the 3rd num: 44\n"
     ]
    },
    {
     "name": "stdout",
     "output_type": "stream",
     "text": [
      "c is greatest\n"
     ]
    }
   ],
   "source": [
    "\n",
    "a=int(input(\"enter the ist num:\"))\n",
    "b=int(input(\"enter the 2nd num:\"))\n",
    "c=int(input(\"enter the 3rd num:\"))\n",
    "if(a>b):\n",
    "      if(a>c):\n",
    "          print(\"a is greatest\")\n",
    "      else:\n",
    "              print(\"c is greatest\")\n",
    "else:\n",
    "    if b>c:\n",
    "        print(\"b is greatest\")\n",
    "    else:\n",
    "          print(\"c is greatest\")"
   ]
  },
  {
   "cell_type": "code",
   "execution_count": 1,
   "id": "286283d4-265a-4c3a-8af4-32da93d5903c",
   "metadata": {},
   "outputs": [
    {
     "name": "stdin",
     "output_type": "stream",
     "text": [
      "enter the age: 73\n"
     ]
    },
    {
     "name": "stdout",
     "output_type": "stream",
     "text": [
      "wrong input\n"
     ]
    }
   ],
   "source": [
    "age=int(input(\"enter the age:\"))\n",
    "match age:\n",
    "    case 15:\n",
    "        print(\"teenager\")\n",
    "    case 23:\n",
    "         print(\"adult\")\n",
    "    case 60:\n",
    "        print(\"sr citizen\")\n",
    "    case 80:\n",
    "        print(\"aged\")\n",
    "\n",
    "    case _:\n",
    "        print(\"wrong input\")"
   ]
  },
  {
   "cell_type": "code",
   "execution_count": 3,
   "id": "296e276b-cfe9-4bec-bd5e-2060084d2401",
   "metadata": {},
   "outputs": [
    {
     "name": "stdin",
     "output_type": "stream",
     "text": [
      "enter the age: 56\n"
     ]
    },
    {
     "name": "stdout",
     "output_type": "stream",
     "text": [
      " adult\n"
     ]
    }
   ],
   "source": [
    "age=int(input(\"enter the age:\"))\n",
    "match age:\n",
    "    case 19:\n",
    "        print(\"Perfect age\")\n",
    "    case _ if age<18:\n",
    "         print(\" not adult\")\n",
    "    case _ if age>18:\n",
    "         print(\" adult\")"
   ]
  },
  {
   "cell_type": "code",
   "execution_count": 42,
   "id": "404e7398-e25d-4369-9a5d-9afd83a82811",
   "metadata": {},
   "outputs": [
    {
     "name": "stdin",
     "output_type": "stream",
     "text": [
      "enter ist number: 37439438498475490357394078902374890758937484934939478494478048\n",
      "enter the 2nd number: 8383434\n",
      "select the operator: /\n"
     ]
    },
    {
     "name": "stdout",
     "output_type": "stream",
     "text": [
      "4.4658833717156346e+54\n"
     ]
    }
   ],
   "source": [
    "a=int(input(\"enter ist number:\"))\n",
    "b=int(input(\"enter the 2nd number:\"))\n",
    "c=input(\"select the operator:\")\n",
    "match c:\n",
    "    case \"+\":\n",
    "         print(a+b)\n",
    "    case \"-\":\n",
    "         print(a-b)\n",
    "    case \"*\":\n",
    "         print(a*b)\n",
    "    case \"%\":\n",
    "        print(a%b)\n",
    "    \n",
    "    case \"/\":\n",
    "        print(a/b)\n",
    "    case \"//\":\n",
    "         print(a//b)\n",
    "    case _:\n",
    "        print(\"wronginput\")\n",
    "           "
   ]
  },
  {
   "cell_type": "code",
   "execution_count": 37,
   "id": "2f4eeb20-0370-4512-8118-7bdfc9133039",
   "metadata": {},
   "outputs": [
    {
     "name": "stdout",
     "output_type": "stream",
     "text": [
      "['ABDUL', 'SALAM']\n"
     ]
    }
   ],
   "source": [
    "#String #slicing\n",
    "name=\"ABDUL SALAM\"\n",
    "print(name.split())"
   ]
  },
  {
   "cell_type": "code",
   "execution_count": null,
   "id": "555a5306-c30a-47da-a2fb-85d050a3d5c5",
   "metadata": {},
   "outputs": [],
   "source": [
    "#string function\n",
    "#swapcase\n",
    "#upper\n",
    "#lower\n",
    "replace(\"old\",\"new\")\n",
    "split()\n",
    "capitalize()\n",
    "title()\n",
    "startswith()\n",
    "endswith()\n",
    "isalpha\n",
    "isnumeric\n",
    "islower\n",
    "issuper\n"
   ]
  },
  {
   "cell_type": "code",
   "execution_count": null,
   "id": "f3285e18-a59c-460c-8755-1dcdd4db2b74",
   "metadata": {},
   "outputs": [],
   "source": [
    "loops\n",
    "for variable in range(start,end)\n",
    "\n",
    "for each::\n",
    "for variable in list.tuple,dict,set"
   ]
  },
  {
   "cell_type": "code",
   "execution_count": 38,
   "id": "b5471615-98be-46c0-b169-1dde295e4943",
   "metadata": {},
   "outputs": [
    {
     "name": "stdout",
     "output_type": "stream",
     "text": [
      "A\n",
      "b\n",
      "d\n",
      "u\n",
      "l\n",
      " \n",
      "s\n",
      "a\n",
      "l\n",
      "a\n",
      "m\n"
     ]
    }
   ],
   "source": [
    "name=\"Abdul salam\"\n",
    "for x in name:\n",
    "    print(x)"
   ]
  },
  {
   "cell_type": "code",
   "execution_count": 40,
   "id": "35e5a648-a3f7-4a9f-9933-7f214b62aec2",
   "metadata": {},
   "outputs": [
    {
     "name": "stdin",
     "output_type": "stream",
     "text": [
      "enter the number 10\n"
     ]
    },
    {
     "name": "stdout",
     "output_type": "stream",
     "text": [
      "10\n",
      "11\n",
      "12\n",
      "13\n",
      "14\n",
      "15\n",
      "16\n",
      "17\n",
      "18\n",
      "19\n"
     ]
    }
   ],
   "source": [
    "a=int(input(\"enter the number\"))\n",
    "for x in range(0,a):\n",
    "    print(a+x)"
   ]
  },
  {
   "cell_type": "code",
   "execution_count": null,
   "id": "caa9f51f-9ed9-4f7d-8711-1aa254a6aa12",
   "metadata": {},
   "outputs": [],
   "source": [
    "data types\n",
    "inputs\n",
    "if-else\n",
    "match\n",
    "for loop\n",
    "    "
   ]
  },
  {
   "cell_type": "code",
   "execution_count": null,
   "id": "8a49b5fd-58d6-48b9-90f9-91bea1f1683f",
   "metadata": {},
   "outputs": [],
   "source": []
  }
 ],
 "metadata": {
  "kernelspec": {
   "display_name": "Python 3 (ipykernel)",
   "language": "python",
   "name": "python3"
  },
  "language_info": {
   "codemirror_mode": {
    "name": "ipython",
    "version": 3
   },
   "file_extension": ".py",
   "mimetype": "text/x-python",
   "name": "python",
   "nbconvert_exporter": "python",
   "pygments_lexer": "ipython3",
   "version": "3.10.4"
  }
 },
 "nbformat": 4,
 "nbformat_minor": 5
}
