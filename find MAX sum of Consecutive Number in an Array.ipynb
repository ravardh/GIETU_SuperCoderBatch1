{
 "cells": [
  {
   "cell_type": "code",
   "execution_count": 4,
   "id": "dc2c5f89",
   "metadata": {},
   "outputs": [
    {
     "name": "stdout",
     "output_type": "stream",
     "text": [
      "Enter the integers sep by commas:\n",
      "4\n",
      "enter number of elements>=3\n"
     ]
    }
   ],
   "source": [
    "ar=[5,4,2,6,3,8,9,7,4,7,3,6,9,8,2,4,6,8,6,2,3,4,5,1,4,2]\n",
    "ar=[int(x) for x in input(\"Enter the integers sep by commas:\\n\").split(\",\")]\n",
    "temp=min(ar)\n",
    "if(len(ar)>2):\n",
    "    for i in range(len(ar)-2):\n",
    "        if(ar[i]+ar[i+1]+ar[i+2]>temp):\n",
    "            temp=ar[i]+ar[i+1]+ar[i+2]\n",
    "            a=ar[i]\n",
    "            b=ar[i+1]\n",
    "            c=ar[i+2]\n",
    "    print(\"Sum is:\",temp,\"Elements are:\",a,b,c)\n",
    "else:\n",
    "    try:\n",
    "       raise Exception()\n",
    "    except Exception:\n",
    "        print(\"enter number of elements>=3\")"
   ]
  },
  {
   "cell_type": "code",
   "execution_count": 6,
   "id": "a9340ddc",
   "metadata": {},
   "outputs": [
    {
     "name": "stdout",
     "output_type": "stream",
     "text": [
      "((8, 9, 7), 24)\n"
     ]
    }
   ],
   "source": [
    "def max_sum_consecutive_three(arr):\n",
    "    max_sum = float('-inf')\n",
    "    max_triplet = None\n",
    "\n",
    "    for i in range(len(arr) - 2):\n",
    "        current_sum = arr[i] + arr[i+1] + arr[i+2]\n",
    "        if current_sum > max_sum:\n",
    "            max_sum = current_sum\n",
    "            max_triplet = (arr[i], arr[i+1], arr[i+2])\n",
    "\n",
    "    return max_triplet, max_sum\n",
    "\n",
    "ar = [5,4,2,6,3,8,9,7,4,7,3,6,9,8,2,4,6,8,6,2,3,4,5,1,4,2]\n",
    "print(max_sum_consecutive_three(ar))\n"
   ]
  },
  {
   "cell_type": "code",
   "execution_count": 8,
   "id": "2e97d883",
   "metadata": {},
   "outputs": [
    {
     "name": "stdout",
     "output_type": "stream",
     "text": [
      "Enter the array elements separated by space: 5 4 2 6 3 7 9 5 8 0 5 2 4 7 9 5 6 7 9 4 6 9 6 2 1 1 4 7 9 0 5 3 7 8\n",
      "Enter the number of consecutive elements: 6\n",
      "([7, 9, 5, 6, 7, 9], 43)\n"
     ]
    }
   ],
   "source": [
    "#find consecutive 'n' elements with maximum sum with user input array.\n",
    "#ar=[5,4,2,6,3,8,9,7,4,7,3,6,9,8,2,4,6,8,6,2,3,4,5,1,4,2]\n",
    "def max_sum_consecutive_n(arr, n):\n",
    "    if len(arr) < n:\n",
    "        return \"The array is shorter than n.\"\n",
    "\n",
    "    max_sum = float('-inf')\n",
    "    max_elements = None\n",
    "\n",
    "    for i in range(len(arr) - n + 1):\n",
    "        current_sum = sum(arr[i:i+n])\n",
    "        if current_sum > max_sum:\n",
    "            max_sum = current_sum\n",
    "            max_elements = arr[i:i+n]\n",
    "\n",
    "    return max_elements, max_sum\n",
    "\n",
    "# User input array\n",
    "ar = list(map(int, input(\"Enter the array elements separated by space: \").split()))\n",
    "n = int(input(\"Enter the number of consecutive elements: \"))\n",
    "print(max_sum_consecutive_n(ar, n))\n"
   ]
  },
  {
   "cell_type": "code",
   "execution_count": null,
   "id": "6c4a1bbc",
   "metadata": {},
   "outputs": [],
   "source": []
  }
 ],
 "metadata": {
  "kernelspec": {
   "display_name": "Python 3 (ipykernel)",
   "language": "python",
   "name": "python3"
  },
  "language_info": {
   "codemirror_mode": {
    "name": "ipython",
    "version": 3
   },
   "file_extension": ".py",
   "mimetype": "text/x-python",
   "name": "python",
   "nbconvert_exporter": "python",
   "pygments_lexer": "ipython3",
   "version": "3.11.3"
  }
 },
 "nbformat": 4,
 "nbformat_minor": 5
}
