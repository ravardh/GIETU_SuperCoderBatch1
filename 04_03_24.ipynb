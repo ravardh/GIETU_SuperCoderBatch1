{
  "nbformat": 4,
  "nbformat_minor": 0,
  "metadata": {
    "colab": {
      "provenance": []
    },
    "kernelspec": {
      "name": "python3",
      "display_name": "Python 3"
    },
    "language_info": {
      "name": "python"
    }
  },
  "cells": [
    {
      "cell_type": "code",
      "execution_count": 4,
      "metadata": {
        "colab": {
          "base_uri": "https://localhost:8080/"
        },
        "id": "RPban0CNqZGj",
        "outputId": "16bef609-d8c3-485e-e316-1aa8ee9bcdb5"
      },
      "outputs": [
        {
          "output_type": "stream",
          "name": "stdout",
          "text": [
            "BFS traversal starting from vertex 0:\n",
            "0 1 2 3 "
          ]
        }
      ],
      "source": [
        "# BFS - It uses Queue Data Structure\n",
        "class Graph:\n",
        "    def __init__(self):\n",
        "        self.graph = {}\n",
        "\n",
        "    def add_edge(self, u, v):\n",
        "        if u not in self.graph:\n",
        "            self.graph[u] = []\n",
        "        self.graph[u].append(v)\n",
        "\n",
        "    def bfs(self, start):\n",
        "        visited = set()\n",
        "        queue = [start]\n",
        "        visited.add(start)\n",
        "\n",
        "        while queue:\n",
        "            vertex = queue.pop(0)\n",
        "            print(vertex, end=' ')\n",
        "\n",
        "            for neighbor in self.graph[vertex]:\n",
        "                if neighbor not in visited:\n",
        "                    queue.append(neighbor)\n",
        "                    visited.add(neighbor)\n",
        "\n",
        "g = Graph()\n",
        "g.add_edge(0, 1)\n",
        "g.add_edge(0, 2)\n",
        "g.add_edge(1, 2)\n",
        "g.add_edge(2, 0)\n",
        "g.add_edge(2, 3)\n",
        "g.add_edge(3, 3)\n",
        "\n",
        "print(\"BFS traversal starting from vertex 0:\")\n",
        "g.bfs(0)\n"
      ]
    },
    {
      "cell_type": "code",
      "source": [
        "class Graph:\n",
        "    def __init__(self, v):\n",
        "        self.v = v\n",
        "        self.adj_list = [[] for _ in range(v)]\n",
        "\n",
        "    def add_edge(self, s, d):\n",
        "        self.adj_list[s].append(d)\n",
        "\n",
        "    def bfs(self, start):\n",
        "        visited = set()\n",
        "        queue = [start]\n",
        "        visited.add(start)\n",
        "\n",
        "        while queue:\n",
        "            vertex = queue.pop(0)\n",
        "            print(vertex, end=' ')\n",
        "\n",
        "            for neighbor in self.adj_list[vertex]:\n",
        "                if neighbor not in visited:\n",
        "                    queue.append(neighbor)\n",
        "                    visited.add(neighbor)\n",
        "\n",
        "    def display_graph(self):\n",
        "        print(self.adj_list)\n",
        "        for vertex in range(self.v):\n",
        "            neighbors = self.adj_list[vertex]\n",
        "            print(f\"Vertex {vertex}: {neighbors}\")\n",
        "\n",
        "graph = Graph(9)\n",
        "graph.add_edge(0, 1)\n",
        "graph.add_edge(0, 2)\n",
        "graph.add_edge(0, 8)\n",
        "graph.add_edge(1, 0)\n",
        "graph.add_edge(1, 3)\n",
        "graph.add_edge(2, 0)\n",
        "graph.add_edge(2, 7)\n",
        "graph.add_edge(3, 1)\n",
        "graph.add_edge(3, 4)\n",
        "graph.add_edge(3, 5)\n",
        "graph.add_edge(4, 3)\n",
        "graph.add_edge(5, 3)\n",
        "graph.add_edge(5, 6)\n",
        "graph.add_edge(6, 7)\n",
        "graph.add_edge(6, 5)\n",
        "graph.add_edge(7, 2)\n",
        "graph.add_edge(7, 6)\n",
        "graph.add_edge(7, 8)\n",
        "graph.add_edge(8, 0)\n",
        "graph.add_edge(8, 7)\n",
        "graph.display_graph()\n",
        "\n",
        "print(\"BFS traversal starting from vertex 0:\")\n",
        "graph.bfs(0)\n"
      ],
      "metadata": {
        "colab": {
          "base_uri": "https://localhost:8080/"
        },
        "id": "oNStEMBS5CX7",
        "outputId": "04b89757-39ce-4ecb-ae75-0289779daf45"
      },
      "execution_count": 17,
      "outputs": [
        {
          "output_type": "stream",
          "name": "stdout",
          "text": [
            "[[1, 2, 8], [0, 3], [0, 7], [1, 4, 5], [3], [3, 6], [7, 5], [2, 6, 8], [0, 7]]\n",
            "Vertex 0: [1, 2, 8]\n",
            "Vertex 1: [0, 3]\n",
            "Vertex 2: [0, 7]\n",
            "Vertex 3: [1, 4, 5]\n",
            "Vertex 4: [3]\n",
            "Vertex 5: [3, 6]\n",
            "Vertex 6: [7, 5]\n",
            "Vertex 7: [2, 6, 8]\n",
            "Vertex 8: [0, 7]\n",
            "BFS traversal starting from vertex 0:\n",
            "0 1 2 8 3 7 4 5 6 "
          ]
        }
      ]
    },
    {
      "cell_type": "code",
      "source": [
        "class Graph:\n",
        "    def __init__(self, v):\n",
        "        self.v = v\n",
        "        self.adj_list = [[] for _ in range(v)]\n",
        "\n",
        "    def add_edge(self, s, d):\n",
        "        self.adj_list[s].append((s, d))\n",
        "\n",
        "    def bfs(self, start):\n",
        "        visited = set()\n",
        "        queue = [start]\n",
        "        visited.add(start)\n",
        "\n",
        "        while queue:\n",
        "            vertex = queue.pop(0)\n",
        "            print(vertex, end=' ')\n",
        "\n",
        "            for _, neighbor in self.adj_list[vertex]:\n",
        "                if neighbor not in visited:\n",
        "                    queue.append(neighbor)\n",
        "                    visited.add(neighbor)\n",
        "\n",
        "    def display_graph(self):\n",
        "        print(\"[\", end=\"\")\n",
        "        for vertex in range(self.v):\n",
        "            neighbors = self.adj_list[vertex]\n",
        "            print(neighbors, end=\"\")\n",
        "            if vertex != self.v - 1:\n",
        "                print(\",\", end=\"\")\n",
        "        print(\"]\")\n",
        "\n",
        "graph = Graph(9)\n",
        "graph.add_edge(0, 1)\n",
        "graph.add_edge(0, 2)\n",
        "graph.add_edge(0, 8)\n",
        "graph.add_edge(1, 0)\n",
        "graph.add_edge(1, 3)\n",
        "graph.add_edge(2, 0)\n",
        "graph.add_edge(2, 7)\n",
        "graph.add_edge(3, 1)\n",
        "graph.add_edge(3, 4)\n",
        "graph.add_edge(3, 5)\n",
        "graph.add_edge(4, 3)\n",
        "graph.add_edge(5, 3)\n",
        "graph.add_edge(5, 6)\n",
        "graph.add_edge(6, 7)\n",
        "graph.add_edge(6, 5)\n",
        "graph.add_edge(7, 2)\n",
        "graph.add_edge(7, 6)\n",
        "graph.add_edge(7, 8)\n",
        "graph.add_edge(8, 0)\n",
        "graph.add_edge(8, 7)\n",
        "graph.display_graph()\n",
        "\n",
        "print(\"BFS traversal starting from vertex 5:\")\n",
        "graph.bfs(5)\n"
      ],
      "metadata": {
        "colab": {
          "base_uri": "https://localhost:8080/"
        },
        "id": "nOqxE_mk7nGV",
        "outputId": "0bab7337-cbcc-463e-f508-ce95f9a229da"
      },
      "execution_count": 18,
      "outputs": [
        {
          "output_type": "stream",
          "name": "stdout",
          "text": [
            "[[(0, 1), (0, 2), (0, 8)],[(1, 0), (1, 3)],[(2, 0), (2, 7)],[(3, 1), (3, 4), (3, 5)],[(4, 3)],[(5, 3), (5, 6)],[(6, 7), (6, 5)],[(7, 2), (7, 6), (7, 8)],[(8, 0), (8, 7)]]\n",
            "BFS traversal starting from vertex 5:\n",
            "5 3 6 1 4 7 0 2 8 "
          ]
        }
      ]
    },
    {
      "cell_type": "code",
      "source": [],
      "metadata": {
        "id": "oE09urWa-vAh"
      },
      "execution_count": null,
      "outputs": []
    }
  ]
}