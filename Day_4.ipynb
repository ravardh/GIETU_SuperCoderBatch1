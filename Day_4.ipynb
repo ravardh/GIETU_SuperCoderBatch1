{
 "cells": [
  {
   "cell_type": "code",
   "execution_count": 1,
   "id": "79888af8-e4e4-4625-b782-40032d24ce81",
   "metadata": {},
   "outputs": [
    {
     "name": "stdout",
     "output_type": "stream",
     "text": [
      "[1, 2, 3, 4.5, 6.7, 'Hrushi']\n",
      "<class 'list'>\n",
      "None\n"
     ]
    }
   ],
   "source": [
    "#List\n",
    "\n",
    "a = [1, 2, 3, 4.5, 6.7, \"Hrushi\"]\n",
    "print(a)\n",
    "print(type(a))\n",
    "\n",
    "print(a.append(\"Sahu\"))"
   ]
  },
  {
   "cell_type": "code",
   "execution_count": 2,
   "id": "4213298c-3847-4589-9597-82ca6510dc5a",
   "metadata": {},
   "outputs": [
    {
     "name": "stdout",
     "output_type": "stream",
     "text": [
      "{1: 'Hrushi', 2: 'Sambit'}\n",
      "<class 'dict'>\n",
      "{1: 'Hrushi', 2: 'Sambit', 3: 'Auroshis'}\n",
      "1\n",
      "2\n",
      "3\n",
      "Hrushi\n",
      "Sambit\n",
      "Auroshis\n"
     ]
    },
    {
     "name": "stdin",
     "output_type": "stream",
     "text": [
      "Enter key value : 4\n"
     ]
    },
    {
     "name": "stdout",
     "output_type": "stream",
     "text": [
      "Key value is not present.\n",
      "code executed.\n"
     ]
    }
   ],
   "source": [
    "#Dictoionary\n",
    "#- key and value pairs\n",
    "\n",
    "d = {1:\"Hrushi\", 2:\"Sambit\"}\n",
    "print(d)\n",
    "print(type(d))\n",
    "\n",
    "d.update({3:\"Auroshis\"})\n",
    "print(d)\n",
    "\n",
    "for x in d.keys():\n",
    "    print(x)\n",
    "for x in d.values():\n",
    "    print(x)\n",
    "\n",
    "s = int(input(\"Enter key value :\"))\n",
    "try:\n",
    "    print(d[s])\n",
    "except KeyError:\n",
    "    print(\"Key value is not present.\")\n",
    "finally:\n",
    "    print(\"code executed.\")"
   ]
  },
  {
   "cell_type": "code",
   "execution_count": 3,
   "id": "ece4308c-63ba-4e0e-9b47-7d58eeff5de6",
   "metadata": {},
   "outputs": [
    {
     "name": "stdout",
     "output_type": "stream",
     "text": [
      "The array after sorting in Ascending Order by selection sort is: [-202, -97, -9, -2, 0, 11, 45, 88, 747]\n"
     ]
    }
   ],
   "source": [
    "# Selection sort in Python\n",
    "def selectionSort(array, size):\n",
    "\tfor ind in range(size):\n",
    "\t\tmin_index = ind\n",
    "\n",
    "\t\tfor j in range(ind + 1, size):\n",
    "\t\t\tif array[j] < array[min_index]:\n",
    "\t\t\t\tmin_index = j\n",
    "\t\t(array[ind], array[min_index]) = (array[min_index], array[ind])\n",
    "\n",
    "arr = [-2, 45, 0, 11, -9,88,-97,-202,747]\n",
    "size = len(arr)\n",
    "selectionSort(arr, size)\n",
    "print('The array after sorting in Ascending Order by selection sort is:', arr)"
   ]
  },
  {
   "cell_type": "code",
   "execution_count": 4,
   "id": "2ff1310f-7d62-4aae-97c7-0a03f8847028",
   "metadata": {},
   "outputs": [
    {
     "name": "stdout",
     "output_type": "stream",
     "text": [
      "Sorted array is: [11, 12, 22, 25, 34, 64, 90]\n"
     ]
    }
   ],
   "source": [
    "# Bubble sort in Python\n",
    "def bubble_sort(arr):\n",
    "    n = len(arr)\n",
    "    for i in range(n):\n",
    "        for j in range(0, n-i-1):\n",
    "            if arr[j] > arr[j+1]:\n",
    "                arr[j], arr[j+1] = arr[j+1], arr[j]\n",
    "\n",
    "arr = [64, 34, 25, 12, 22, 11, 90]\n",
    "bubble_sort(arr)\n",
    "print(\"Sorted array is:\", arr)\n"
   ]
  },
  {
   "cell_type": "code",
   "execution_count": 5,
   "id": "a4f98d48-6609-4386-bd46-228b0db1bf94",
   "metadata": {},
   "outputs": [
    {
     "name": "stdout",
     "output_type": "stream",
     "text": [
      "Sorted array is: [5, 6, 11, 12, 13]\n"
     ]
    }
   ],
   "source": [
    "# Insertion sort in python\n",
    "def insertion_sort(arr):\n",
    "    for i in range(1, len(arr)):\n",
    "        key = arr[i]\n",
    "        j = i - 1\n",
    "        \n",
    "        while j >= 0 and key < arr[j]:\n",
    "            arr[j + 1] = arr[j]\n",
    "            j -= 1\n",
    "        arr[j + 1] = key\n",
    "\n",
    "arr = [12, 11, 13, 5, 6]\n",
    "insertion_sort(arr)\n",
    "print(\"Sorted array is:\", arr)\n"
   ]
  },
  {
   "cell_type": "code",
   "execution_count": null,
   "id": "c675208d-5079-4289-a869-4852c3168893",
   "metadata": {},
   "outputs": [],
   "source": []
  }
 ],
 "metadata": {
  "kernelspec": {
   "display_name": "Python 3 (ipykernel)",
   "language": "python",
   "name": "python3"
  },
  "language_info": {
   "codemirror_mode": {
    "name": "ipython",
    "version": 3
   },
   "file_extension": ".py",
   "mimetype": "text/x-python",
   "name": "python",
   "nbconvert_exporter": "python",
   "pygments_lexer": "ipython3",
   "version": "3.11.5"
  }
 },
 "nbformat": 4,
 "nbformat_minor": 5
}
