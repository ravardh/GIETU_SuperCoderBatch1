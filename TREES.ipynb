{
 "cells": [
  {
   "cell_type": "markdown",
   "id": "ee537a8f",
   "metadata": {},
   "source": [
    "# Pre-order Tree Traversal"
   ]
  },
  {
   "cell_type": "code",
   "execution_count": 2,
   "id": "01d96214",
   "metadata": {},
   "outputs": [
    {
     "name": "stdout",
     "output_type": "stream",
     "text": [
      "Preorder traversal of binary tree is:\n",
      "19 25 47 50 36 66 "
     ]
    }
   ],
   "source": [
    "class Node:\n",
    "    def __init__(self, v):\n",
    "        self.data = v\n",
    "        self.left = None\n",
    "        self.right = None\n",
    "\n",
    "# Function to print preorder traversal\n",
    "def printPreorder(node):\n",
    "    if node is None:\n",
    "        return\n",
    "\n",
    "    # Deal with the node\n",
    "    print(node.data, end=' ')\n",
    "    printPreorder(node.left)\n",
    "\n",
    "    # Recur on right subtree\n",
    "    printPreorder(node.right)\n",
    "\n",
    "\n",
    "# Driver code\n",
    "if __name__ == '__main__':\n",
    "    root = Node(19)\n",
    "    root.left = Node(25)\n",
    "    root.right = Node(36)\n",
    "    root.left.left = Node(47)\n",
    "    root.left.right = Node(50)\n",
    "    root.right.right = Node(66)\n",
    "\n",
    "    # Function call\n",
    "    print(\"Preorder traversal of binary tree is:\")\n",
    "    printPreorder(root)"
   ]
  },
  {
   "cell_type": "markdown",
   "id": "5c09d345",
   "metadata": {},
   "source": [
    "# In-order Tree Traversal"
   ]
  },
  {
   "cell_type": "code",
   "execution_count": 3,
   "id": "a3e99474",
   "metadata": {},
   "outputs": [
    {
     "name": "stdout",
     "output_type": "stream",
     "text": [
      "Inorder traversal of binary tree is:\n",
      "47 25 50 19 36 66 "
     ]
    }
   ],
   "source": [
    "class Node:\n",
    "    def __init__(self, v):\n",
    "        self.data = v\n",
    "        self.left = None\n",
    "        self.right = None\n",
    "def printInorder(node):\n",
    "    if node is None:\n",
    "        return\n",
    "    printInorder(node.left)\n",
    "    print(node.data, end=' ')\n",
    "    printInorder(node.right)\n",
    "if __name__ == '__main__':\n",
    "    root = Node(19)\n",
    "    root.left = Node(25)\n",
    "    root.right = Node(36)\n",
    "    root.left.left = Node(47)\n",
    "    root.left.right = Node(50)\n",
    "    root.right.right = Node(66)\n",
    "    print(\"Inorder traversal of binary tree is:\")\n",
    "    printInorder(root)"
   ]
  },
  {
   "cell_type": "markdown",
   "id": "bcf698e4",
   "metadata": {},
   "source": [
    "# Post-order Tree Traversal"
   ]
  },
  {
   "cell_type": "code",
   "execution_count": 4,
   "id": "4d427b41",
   "metadata": {},
   "outputs": [
    {
     "name": "stdout",
     "output_type": "stream",
     "text": [
      "Postorder traversal of binary tree is:\n",
      "47 50 25 66 36 19 "
     ]
    }
   ],
   "source": [
    "class Node:\n",
    "    def __init__(self, v):\n",
    "        self.data = v\n",
    "        self.left = None\n",
    "        self.right = None\n",
    "def printPostorder(node):\n",
    "    if node == None:\n",
    "        return\n",
    "    printPostorder(node.left)\n",
    "    printPostorder(node.right)\n",
    "    print(node.data, end=' ')\n",
    "if __name__ == '__main__':\n",
    "    root = Node(19)\n",
    "    root.left = Node(25)\n",
    "    root.right = Node(36)\n",
    "    root.left.left = Node(47)\n",
    "    root.left.right = Node(50)\n",
    "    root.right.right = Node(66)\n",
    "    print(\"Postorder traversal of binary tree is:\")\n",
    "    printPostorder(root)"
   ]
  },
  {
   "cell_type": "code",
   "execution_count": null,
   "id": "c9f24a8e",
   "metadata": {},
   "outputs": [],
   "source": []
  }
 ],
 "metadata": {
  "kernelspec": {
   "display_name": "Python 3 (ipykernel)",
   "language": "python",
   "name": "python3"
  },
  "language_info": {
   "codemirror_mode": {
    "name": "ipython",
    "version": 3
   },
   "file_extension": ".py",
   "mimetype": "text/x-python",
   "name": "python",
   "nbconvert_exporter": "python",
   "pygments_lexer": "ipython3",
   "version": "3.10.9"
  }
 },
 "nbformat": 4,
 "nbformat_minor": 5
}
