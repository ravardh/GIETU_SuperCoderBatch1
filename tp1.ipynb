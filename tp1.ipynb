{
 "cells": [
  {
   "cell_type": "code",
   "execution_count": 1,
   "id": "c0a38c21",
   "metadata": {},
   "outputs": [
    {
     "name": "stdout",
     "output_type": "stream",
     "text": [
      "python\n"
     ]
    }
   ],
   "source": [
    "print(\"python\")"
   ]
  },
  {
   "cell_type": "code",
   "execution_count": 6,
   "id": "b3d23c6c",
   "metadata": {},
   "outputs": [
    {
     "name": "stdout",
     "output_type": "stream",
     "text": [
      "5 saswati 8.6\n"
     ]
    }
   ],
   "source": [
    "#3 locations are created in the memory by the foloowing a,b,c variables\n",
    "a=5\n",
    "b=\"saswati\"\n",
    "c=8.6\n",
    "print(a,b,c)"
   ]
  },
  {
   "cell_type": "code",
   "execution_count": 10,
   "id": "fec3ab54",
   "metadata": {},
   "outputs": [
    {
     "name": "stdout",
     "output_type": "stream",
     "text": [
      "<class 'int'> <class 'str'> <class 'float'>\n"
     ]
    }
   ],
   "source": [
    "#type method helps finding out the data type of the data\n",
    "print(type(a),\n",
    "type(b),\n",
    "type(c))"
   ]
  },
  {
   "cell_type": "markdown",
   "id": "87b93338",
   "metadata": {},
   "source": [
    "# type casting\n"
   ]
  },
  {
   "cell_type": "code",
   "execution_count": 17,
   "id": "ab47ddb8",
   "metadata": {},
   "outputs": [
    {
     "name": "stdout",
     "output_type": "stream",
     "text": [
      "<class 'str'>\n",
      "<class 'float'>\n"
     ]
    }
   ],
   "source": [
    "a=8.5\n",
    "b='7'\n",
    "print(type(b))\n",
    "print(type(int(b)+a))"
   ]
  },
  {
   "cell_type": "markdown",
   "id": "92fed53f",
   "metadata": {},
   "source": [
    "# Decision making"
   ]
  },
  {
   "cell_type": "code",
   "execution_count": 20,
   "id": "e9276ad6",
   "metadata": {},
   "outputs": [
    {
     "name": "stdout",
     "output_type": "stream",
     "text": [
      "rich\n"
     ]
    }
   ],
   "source": [
    "a=20\n",
    "b=30\n",
    "if(a>b):\n",
    "    print(\"bitch\")\n",
    "else:\n",
    "    print(\"rich\")"
   ]
  },
  {
   "cell_type": "code",
   "execution_count": 24,
   "id": "42c8279a",
   "metadata": {},
   "outputs": [
    {
     "name": "stdout",
     "output_type": "stream",
     "text": [
      "i m out\n"
     ]
    }
   ],
   "source": [
    "age=34\n",
    "match age:\n",
    "    case 34:\n",
    "        print(\"i m out\")\n",
    "    case _ if age<34:\n",
    "        print(\"still in\")"
   ]
  },
  {
   "cell_type": "code",
   "execution_count": 2,
   "id": "946b8e31",
   "metadata": {},
   "outputs": [
    {
     "name": "stdout",
     "output_type": "stream",
     "text": [
      "enter the first number48\n",
      "enter the second number12\n",
      "enter the operator/\n",
      "4.0\n"
     ]
    }
   ],
   "source": [
    "num1=int(input(\"enter the first number\"))\n",
    "num2=int(input('enter the second number'))\n",
    "operator=input(\"enter the operator\")\n",
    "match operator:\n",
    "    case \"+\":\n",
    "        print(num1+num2)\n",
    "    case \"-\":\n",
    "        print(num1-num2)\n",
    "    case \"*\":\n",
    "        print(num1*num2)\n",
    "    case \"/\":\n",
    "        print(num1/num2)\n",
    "    case \"%\":\n",
    "        print(num1%num2)"
   ]
  },
  {
   "cell_type": "code",
   "execution_count": null,
   "id": "c347382f",
   "metadata": {},
   "outputs": [],
   "source": []
  },
  {
   "cell_type": "code",
   "execution_count": null,
   "id": "50496dbe",
   "metadata": {},
   "outputs": [],
   "source": []
  },
  {
   "cell_type": "code",
   "execution_count": null,
   "id": "f2f630c3",
   "metadata": {},
   "outputs": [],
   "source": []
  }
 ],
 "metadata": {
  "kernelspec": {
   "display_name": "Python 3 (ipykernel)",
   "language": "python",
   "name": "python3"
  },
  "language_info": {
   "codemirror_mode": {
    "name": "ipython",
    "version": 3
   },
   "file_extension": ".py",
   "mimetype": "text/x-python",
   "name": "python",
   "nbconvert_exporter": "python",
   "pygments_lexer": "ipython3",
   "version": "3.11.5"
  }
 },
 "nbformat": 4,
 "nbformat_minor": 5
}
