{
 "cells": [
  {
   "cell_type": "code",
   "execution_count": 1,
   "id": "08dd0505-7d18-430d-b789-2b023930525a",
   "metadata": {},
   "outputs": [
    {
     "name": "stdout",
     "output_type": "stream",
     "text": [
      "11 7 3 5 8 9 6 10 1 2 4 "
     ]
    }
   ],
   "source": [
    "class Graph:\n",
    "    def __init__(self,v):\n",
    "        self.v=v\n",
    "        self.graPh=[[] for _ in range(v)]\n",
    "    def add_edge(self,u,v):\n",
    "        self.graPh[u-1].append(v)\n",
    "        self.graPh[v-1].append(u)\n",
    "def DFS(source,graph,visited):\n",
    "    for i in range(len(graph.graPh[source-1])):\n",
    "        if graph.graPh[source-1][i] not in visited:\n",
    "            visited.add(graph.graPh[source-1][i])\n",
    "            DFS(graph.graPh[source-1][i],graph,visited)\n",
    "    print(source,end=\" \")\n",
    "if __name__==\"__main__\":\n",
    "    graph=Graph(11)\n",
    "    graph.add_edge(1,2)\n",
    "    graph.add_edge(1,3)\n",
    "    graph.add_edge(1,10)\n",
    "    graph.add_edge(2,4)\n",
    "    graph.add_edge(3,7)\n",
    "    graph.add_edge(7,11)\n",
    "    graph.add_edge(4,5)\n",
    "    graph.add_edge(4,8)\n",
    "    graph.add_edge(5,6)\n",
    "    graph.add_edge(8,9)\n",
    "    graph.add_edge(6,9)\n",
    "    graph.add_edge(6,10)\n",
    "    source=4\n",
    "    visited=set()\n",
    "    visited.add(source)\n",
    "    DFS(source,graph,visited)"
   ]
  },
  {
   "cell_type": "code",
   "execution_count": null,
   "id": "a0861e6d-f7c1-4a72-99ed-7f3219111c0e",
   "metadata": {},
   "outputs": [],
   "source": []
  }
 ],
 "metadata": {
  "kernelspec": {
   "display_name": "Python 3 (ipykernel)",
   "language": "python",
   "name": "python3"
  },
  "language_info": {
   "codemirror_mode": {
    "name": "ipython",
    "version": 3
   },
   "file_extension": ".py",
   "mimetype": "text/x-python",
   "name": "python",
   "nbconvert_exporter": "python",
   "pygments_lexer": "ipython3",
   "version": "3.11.5"
  }
 },
 "nbformat": 4,
 "nbformat_minor": 5
}
