{
 "cells": [
  {
   "cell_type": "markdown",
   "metadata": {},
   "source": [
    "# cyclic and non cyclic"
   ]
  },
  {
   "cell_type": "code",
   "execution_count": 8,
   "metadata": {},
   "outputs": [
    {
     "name": "stdout",
     "output_type": "stream",
     "text": [
      "[[(1, 2, 1), (1, 4, 1)], [(2, 1, 1), (2, 3, 1)], [(3, 2, 1), (3, 4, 1)], [(4, 1, 1), (4, 3, 1), (4, 5, 1)], [(5, 4, 1), (5, 6, 1)], [(6, 5, 1), (6, 7, 1)], [(7, 6, 1)]]\n",
      "Does the graph contain a cycle? True\n"
     ]
    }
   ],
   "source": [
    "def DFS_cycle(start, graph, visited, parent):\n",
    "    visited[start - 1] = True\n",
    "\n",
    "    for i in graph[start - 1]:\n",
    "        if not visited[i[1] - 1]:\n",
    "            parent[i[1] - 1] = start\n",
    "            if DFS_cycle(i[1], graph, visited, parent):\n",
    "                return True\n",
    "        elif parent[start - 1] != i[1]:\n",
    "            return True\n",
    "\n",
    "    return False\n",
    "\n",
    "\n",
    "def has_cycle(graph):\n",
    "    v = len(graph)\n",
    "    visited = [False] * v\n",
    "    parent = [-1] * v\n",
    "\n",
    "    for i in range(v):\n",
    "        if not visited[i]:\n",
    "            if DFS_cycle(i + 1, graph, visited, parent):\n",
    "                return True\n",
    "\n",
    "    return False\n",
    "\n",
    "def create_graph(graph,source,destination,weight=1):\n",
    "    graph[source-1].append((source,destination,weight))\n",
    "\n",
    "v = 7 \n",
    "graph = [[] for _ in range(v)]\n",
    "\n",
    "create_graph(graph, 1, 2)\n",
    "create_graph(graph, 2, 1)\n",
    "\n",
    "create_graph(graph, 1, 4)\n",
    "create_graph(graph, 4, 1)\n",
    "create_graph(graph, 2, 3)\n",
    "create_graph(graph, 3, 2)\n",
    "create_graph(graph, 3, 4)\n",
    "create_graph(graph, 4, 3)\n",
    "create_graph(graph, 4, 5)\n",
    "create_graph(graph, 5, 4)\n",
    "\n",
    "create_graph(graph, 5, 6)\n",
    "create_graph(graph, 6, 5)\n",
    "create_graph(graph, 6, 7)\n",
    "create_graph(graph, 7, 6)\n",
    "\n",
    "print(graph)\n",
    "print(\"Does the graph contain a cycle?\", has_cycle(graph))"
   ]
  },
  {
   "cell_type": "markdown",
   "metadata": {},
   "source": [
    "# Job Sequencing"
   ]
  },
  {
   "cell_type": "code",
   "execution_count": null,
   "metadata": {},
   "outputs": [],
   "source": []
  },
  {
   "cell_type": "code",
   "execution_count": 4,
   "metadata": {},
   "outputs": [
    {
     "name": "stdout",
     "output_type": "stream",
     "text": [
      "['j1', 'j6', 'j5', 'j2']\n"
     ]
    }
   ],
   "source": [
    "arr = [['j1', 2, 20], \n",
    "        ['j2', 4, 30], \n",
    "        ['j3', 3, 13], \n",
    "        ['j4', 1, 12], \n",
    "        ['j5', 3, 35],\n",
    "        ['j6', 4, 25],\n",
    "        ['j7', 2, 5]\n",
    "        ]\n",
    " \n",
    "n = len(arr)\n",
    "\n",
    "for i in range(n):\n",
    "    for j in range(n-1-i):\n",
    "        if arr[j][2]<arr[j+1][2]:\n",
    "            arr[j],arr[j+1]=arr[j+1],arr[j]\n",
    "       \n",
    "visited=[False]*max(job[1] for job in arr)\n",
    "\n",
    "jobs=['-1']*len(visited)\n",
    "\n",
    "for i in range(len(arr)):\n",
    "    for j in range(arr[i][1],-1,-1):\n",
    "        if visited[j-1]==False:\n",
    "            jobs[j-1]=arr[i][0]\n",
    "            visited[j-1]=True\n",
    "            break\n",
    "print(jobs)"
   ]
  },
  {
   "cell_type": "code",
   "execution_count": null,
   "metadata": {},
   "outputs": [],
   "source": []
  },
  {
   "cell_type": "code",
   "execution_count": null,
   "metadata": {},
   "outputs": [],
   "source": []
  }
 ],
 "metadata": {
  "kernelspec": {
   "display_name": "Python 3",
   "language": "python",
   "name": "python3"
  },
  "language_info": {
   "codemirror_mode": {
    "name": "ipython",
    "version": 3
   },
   "file_extension": ".py",
   "mimetype": "text/x-python",
   "name": "python",
   "nbconvert_exporter": "python",
   "pygments_lexer": "ipython3",
   "version": "3.8.5"
  }
 },
 "nbformat": 4,
 "nbformat_minor": 4
}
