{
 "cells": [
  {
   "cell_type": "code",
   "execution_count": 4,
   "id": "c1094069",
   "metadata": {},
   "outputs": [
    {
     "name": "stdout",
     "output_type": "stream",
     "text": [
      "[1, 34, 72, 5.4, 'Raj', 81, 9.9]\n",
      "<class 'list'>\n",
      "[1, 34, 72, 5.4, 'Raj', 81, 9.9, 'Pranab']\n"
     ]
    }
   ],
   "source": [
    "#LIST(similar to array)\n",
    "'''but the difference is, list can hold any type of data '''\n",
    "''''''\n",
    "a= [1,34,72,5.4,\"Raj\",81,9.9]\n",
    "print(a)\n",
    "print(type(a))\n",
    "\n",
    "a.append(\"Pranab\")\n",
    "print(a)"
   ]
  },
  {
   "cell_type": "code",
   "execution_count": 12,
   "id": "090c3188",
   "metadata": {},
   "outputs": [
    {
     "name": "stdout",
     "output_type": "stream",
     "text": [
      "{1: 'dbms', 2: 'mechanics', 3: 'mathematics'}\n",
      "{1: 'dbms', 2: 'EME', 3: 'mathematics', 4: 'Chemistry'}\n",
      "1\n",
      "2\n",
      "3\n",
      "4\n",
      "dbms\n",
      "EME\n",
      "mathematics\n",
      "Chemistry\n"
     ]
    }
   ],
   "source": [
    "#dictionary\n",
    "#key and value pair\n",
    "\n",
    "d = {1:\"dbms\",2:\"mechanics\",3:\"mathematics\"}\n",
    "print(d)\n",
    "\n",
    "#update and add new element with new key\n",
    "d.update({4:\"Chemistry\"})\n",
    "\n",
    "#update old element with old key\n",
    "d.update({2:\"EME\"})\n",
    "print(d)\n",
    "\n",
    "for x in d.keys():\n",
    "    print(x)\n",
    "    \n",
    "for x in d.values():\n",
    "    print(x)\n",
    "    \n"
   ]
  },
  {
   "cell_type": "code",
   "execution_count": null,
   "id": "bf630bc4",
   "metadata": {},
   "outputs": [],
   "source": [
    "#selection sort\n",
    "#bubble sort\n",
    "#insertion sort"
   ]
  },
  {
   "cell_type": "code",
   "execution_count": 13,
   "id": "3b15f81e",
   "metadata": {},
   "outputs": [
    {
     "name": "stdout",
     "output_type": "stream",
     "text": [
      "[1, 2, 5, 7, 9]\n"
     ]
    }
   ],
   "source": [
    "def insertion_sort(data):\n",
    "    \n",
    "\n",
    "    if not isinstance(data, list):\n",
    "        raise TypeError(\"Input data must be a list.\")\n",
    "\n",
    "    # Handle empty or single-element lists as already sorted\n",
    "    if len(data) <= 1:\n",
    "        return data\n",
    "\n",
    "    # Outer loop iterates through each element in the unsorted part\n",
    "    for i in range(1, len(data)):\n",
    "        key = data[i]  # Element to be inserted\n",
    "        j = i - 1      # Index to compare with\n",
    "\n",
    "        # Inner loop shifts elements to make space for key\n",
    "        while j >= 0 and key < data[j]:\n",
    "            data[j + 1] = data[j]\n",
    "            j -= 1\n",
    "\n",
    "        # Insert key in its correct position\n",
    "        data[j + 1] = key\n",
    "\n",
    "    return data\n",
    "\n",
    "# Example usage\n",
    "my_list = [5, 2, 9, 1, 7]\n",
    "sorted_list = insertion_sort(my_list.copy()) \n",
    "print(sorted_list) \n"
   ]
  },
  {
   "cell_type": "code",
   "execution_count": 14,
   "id": "5efc011a",
   "metadata": {},
   "outputs": [
    {
     "name": "stdout",
     "output_type": "stream",
     "text": [
      "Unsorted: [64, 34, 25, 12, 22, 11, 90]\n",
      "Sorted: [11, 12, 22, 25, 34, 64, 90]\n"
     ]
    }
   ],
   "source": [
    "def bubble_sort(data):\n",
    " \n",
    "  \n",
    "  # Create a copy of the list to avoid modifying the original\n",
    "  sorted_data = data.copy()\n",
    "  \n",
    "  # Outer loop to iterate through the list multiple times\n",
    "  for i in range(len(sorted_data) - 1):\n",
    "    swapped = False\n",
    "    \n",
    "    # Inner loop to compare adjacent elements and swap if necessary\n",
    "    for j in range(len(sorted_data) - i - 1):\n",
    "      if sorted_data[j] > sorted_data[j + 1]:\n",
    "        sorted_data[j], sorted_data[j + 1] = sorted_data[j + 1], sorted_data[j]\n",
    "        swapped = True\n",
    "    \n",
    "    # If no swaps occurred in the inner loop, the list is already sorted\n",
    "    if not swapped:\n",
    "      break\n",
    "  \n",
    "  return sorted_data\n",
    "\n",
    "unsorted_data = [64, 34, 25, 12, 22, 11, 90]\n",
    "sorted_data = bubble_sort(unsorted_data)\n",
    "print(f\"Unsorted: {unsorted_data}\")\n",
    "print(f\"Sorted: {sorted_data}\")\n"
   ]
  },
  {
   "cell_type": "code",
   "execution_count": null,
   "id": "0e78ace8",
   "metadata": {},
   "outputs": [],
   "source": [
    "def insertion_sort(arr):\n",
    "    \n",
    "\n",
    "    n = len(arr)\n",
    "    for i in range(1, n):\n",
    "        key = arr[i]\n",
    "        j = i - 1\n",
    "\n",
    "        # Shift elements of arr[0..i-1], that are greater than key, to one position ahead\n",
    "        while j >= 0 and key < arr[j]:\n",
    "            arr[j + 1] = arr[j]\n",
    "            j -= 1\n",
    "\n",
    "        arr[j + 1] = key\n",
    "\n",
    "    return arr\n",
    "\n",
    "# Example usage\n",
    "unsorted_list = [5, 2, 8, 1, 7]\n",
    "sorted_list = insertion_sort(unsorted_list)\n",
    "print(sorted_list)  # Output: [1, 2, 5, 7, 8]\n"
   ]
  }
 ],
 "metadata": {
  "kernelspec": {
   "display_name": "Python 3 (ipykernel)",
   "language": "python",
   "name": "python3"
  },
  "language_info": {
   "codemirror_mode": {
    "name": "ipython",
    "version": 3
   },
   "file_extension": ".py",
   "mimetype": "text/x-python",
   "name": "python",
   "nbconvert_exporter": "python",
   "pygments_lexer": "ipython3",
   "version": "3.10.9"
  }
 },
 "nbformat": 4,
 "nbformat_minor": 5
}
