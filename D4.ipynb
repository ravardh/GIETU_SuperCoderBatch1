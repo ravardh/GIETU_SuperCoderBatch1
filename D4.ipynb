{
 "cells": [
  {
   "cell_type": "code",
   "execution_count": 3,
   "id": "9fc8d608-bcb1-47ae-a25c-0315dbeb7559",
   "metadata": {},
   "outputs": [
    {
     "name": "stdout",
     "output_type": "stream",
     "text": [
      "[3, 3.2, 'shibani', 6, 7.2]\n",
      "<class 'list'>\n"
     ]
    }
   ],
   "source": [
    "#list\n",
    "arr=[3,3.2,\"shibani\",6,7.2]\n",
    "print(arr)\n",
    "print(type(arr))"
   ]
  },
  {
   "cell_type": "code",
   "execution_count": 7,
   "id": "72a500d4-a7ae-47af-a186-8e729d33e4d1",
   "metadata": {},
   "outputs": [
    {
     "name": "stdout",
     "output_type": "stream",
     "text": [
      "{1: 'shibani', 2: 'saswati', 3: 'shibani'}\n",
      "<class 'dict'>\n"
     ]
    }
   ],
   "source": [
    "#dictonary\n",
    "#key & value pair\n",
    "d={1:\"shibani\",2:\"saswati\",3:\"shibani\"}\n",
    "print(d)\n",
    "print(type(d))"
   ]
  },
  {
   "cell_type": "code",
   "execution_count": 9,
   "id": "acd7479b-1267-4b6c-b093-f9ef38fe8588",
   "metadata": {},
   "outputs": [
    {
     "name": "stdout",
     "output_type": "stream",
     "text": [
      "{1: 'shibani', 2: 'saswati', 3: 'shibani', 4: 'ruchi'}\n"
     ]
    }
   ],
   "source": [
    "d.update({4:\"ruchi\"})   #update a new element\n",
    "print(d)"
   ]
  },
  {
   "cell_type": "code",
   "execution_count": 11,
   "id": "0ff10be0-036e-4521-bfd3-08584ca44fea",
   "metadata": {},
   "outputs": [
    {
     "name": "stdout",
     "output_type": "stream",
     "text": [
      "{1: 'shibani', 2: 'saswati', 3: 'aeiswarya', 4: 'ruchi'}\n"
     ]
    }
   ],
   "source": [
    "d.update({3:\"aeiswarya\"})    #update the old element with old key\n",
    "print(d)"
   ]
  },
  {
   "cell_type": "code",
   "execution_count": 12,
   "id": "3ae6aaab-ee37-4d95-a5d0-2cc30f276e19",
   "metadata": {},
   "outputs": [
    {
     "name": "stdout",
     "output_type": "stream",
     "text": [
      "1\n",
      "2\n",
      "3\n",
      "4\n",
      "shibani\n",
      "saswati\n",
      "aeiswarya\n",
      "ruchi\n",
      "1\n",
      "2\n",
      "3\n",
      "4\n"
     ]
    }
   ],
   "source": [
    "for x in d:\n",
    "    print(x)\n",
    "for x in d.values():\n",
    "    print(x)\n",
    "for x in d.keys():\n",
    "    print(x)"
   ]
  },
  {
   "cell_type": "code",
   "execution_count": 44,
   "id": "bc1df8cb-efc9-4909-9de2-a0ba31177d4e",
   "metadata": {},
   "outputs": [
    {
     "name": "stdin",
     "output_type": "stream",
     "text": [
      "enter a key 1\n"
     ]
    },
    {
     "name": "stdout",
     "output_type": "stream",
     "text": [
      "1 : shibani\n"
     ]
    }
   ],
   "source": [
    "s=int(input(\"enter a key\"))\n",
    "if(s<=len(d)):\n",
    "    print(s,\":\",d[s])\n",
    "else:\n",
    "    print(\"Enter a valid key within the range of\",len(d))"
   ]
  },
  {
   "cell_type": "code",
   "execution_count": 40,
   "id": "ab265f04-34a3-4ed2-9616-79fab6649425",
   "metadata": {},
   "outputs": [
    {
     "name": "stdin",
     "output_type": "stream",
     "text": [
      "enter a key 4\n"
     ]
    },
    {
     "name": "stdout",
     "output_type": "stream",
     "text": [
      "ruchi\n",
      "code executed\n"
     ]
    }
   ],
   "source": [
    "    try:\n",
    "        s=int(input(\"enter a key\"))\n",
    "        print(d[s])\n",
    "    except:\n",
    "        print(\"key not available\")\n",
    "    finally:\n",
    "        print(\"code executed\")\n"
   ]
  },
  {
   "cell_type": "code",
   "execution_count": 45,
   "id": "acda9e4c-9f83-470d-9c7f-8b10625d6d63",
   "metadata": {},
   "outputs": [
    {
     "name": "stdout",
     "output_type": "stream",
     "text": [
      "sorted array:\n",
      "[1, 5, 10, 21, 30, 34, 56, 69, 78]\n"
     ]
    }
   ],
   "source": [
    "#selection sort\n",
    "\n",
    "def selectionSort(arr,size):\n",
    "    for i in range(size):\n",
    "        min = i\n",
    "        for j in range(i + 1, size):\n",
    "            if arr[j] < arr[min]:\n",
    "                min = j\n",
    "        arr[i], arr[min] = arr[min], arr[i]\n",
    "\n",
    "arr = [1,10,21,34,56,78,69,5,30]\n",
    "size = len(arr)\n",
    "selectionSort(arr, size)\n",
    "\n",
    "print(\"sorted array:\")\n",
    "print(arr)"
   ]
  },
  {
   "cell_type": "code",
   "execution_count": 67,
   "id": "f2c30a3c-d82a-4f7c-a254-5f76e3b10a8f",
   "metadata": {},
   "outputs": [
    {
     "name": "stdout",
     "output_type": "stream",
     "text": [
      "sorted array:\n",
      "[1, 5, 10, 21, 30, 34, 56, 69, 78]\n"
     ]
    }
   ],
   "source": [
    "#bubble sort\n",
    "\n",
    "def bubbleSort(arr,size):\n",
    "    for i in range(size):\n",
    "        for j in range(size-1):\n",
    "            if(arr[j]>arr[j+1]):\n",
    "                arr[j], arr[j+1] = arr[j+1], arr[j]\n",
    "\n",
    "    print(\"sorted array:\")\n",
    "    print(arr)\n",
    "            \n",
    "arr = [1,10,21,34,56,78,69,5,30]\n",
    "size=len(arr)\n",
    "bubbleSort(arr,size)\n",
    "\n"
   ]
  },
  {
   "cell_type": "code",
   "execution_count": 71,
   "id": "474a35af-2cbe-4e93-8abe-04218170e578",
   "metadata": {},
   "outputs": [
    {
     "name": "stdout",
     "output_type": "stream",
     "text": [
      "sorted array:\n",
      "[1, 5, 10, 21, 30, 34, 56, 69, 78]\n"
     ]
    }
   ],
   "source": [
    "#insertion sort\n",
    "def insertionSort(arr,size):\n",
    "    for i in range(size):\n",
    "        p=arr[i]\n",
    "        j=i-1\n",
    "        while j>=0 and p<arr[j]:\n",
    "            arr[j + 1]=arr[j]\n",
    "            j-=1\n",
    "        arr[j+1]=p \n",
    "\n",
    "    print(\"sorted array:\")\n",
    "    print(arr)\n",
    "            \n",
    "arr = [1,10,21,34,56,78,69,5,30]\n",
    "size=len(arr)\n",
    "insertionSort(arr,size)\n"
   ]
  },
  {
   "cell_type": "code",
   "execution_count": null,
   "id": "3c3fa519-bb1f-45dd-96bd-11d9fa070ff2",
   "metadata": {},
   "outputs": [],
   "source": []
  }
 ],
 "metadata": {
  "kernelspec": {
   "display_name": "Python 3 (ipykernel)",
   "language": "python",
   "name": "python3"
  },
  "language_info": {
   "codemirror_mode": {
    "name": "ipython",
    "version": 3
   },
   "file_extension": ".py",
   "mimetype": "text/x-python",
   "name": "python",
   "nbconvert_exporter": "python",
   "pygments_lexer": "ipython3",
   "version": "3.11.4"
  }
 },
 "nbformat": 4,
 "nbformat_minor": 5
}
