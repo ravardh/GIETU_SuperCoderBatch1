{
 "cells": [
  {
   "cell_type": "code",
   "execution_count": 1,
   "id": "f479fabe",
   "metadata": {},
   "outputs": [
    {
     "name": "stdout",
     "output_type": "stream",
     "text": [
      "Left view of binary tree:\n",
      "1 2 4 7 "
     ]
    }
   ],
   "source": [
    "#LEFTVIEW OF BINARY TREE\n",
    "#METHOD-1\n",
    "class TreeNode:\n",
    "    def __init__(self, key):\n",
    "        self.val = key\n",
    "        self.left = None\n",
    "        self.right = None\n",
    "\n",
    "def left_view(root):\n",
    "    if not root:\n",
    "        return\n",
    "\n",
    "    queue = [root]\n",
    "\n",
    "    while queue:\n",
    "        # Number of nodes at current level\n",
    "        n = len(queue)\n",
    "\n",
    "        # Traverse all nodes at the current level and print the leftmost node\n",
    "        for i in range(1, n + 1):\n",
    "            node = queue.pop(0)\n",
    "\n",
    "            if i == 1:\n",
    "                print(node.val, end=\" \")\n",
    "\n",
    "            # Enqueue the left and right children of the current node\n",
    "            if node.left:\n",
    "                queue.append(node.left)\n",
    "            if node.right:\n",
    "                queue.append(node.right)\n",
    "\n",
    "# Example usage:\n",
    "# Constructing a sample binary tree\n",
    "root = TreeNode(1)\n",
    "root.left = TreeNode(2)\n",
    "root.right = TreeNode(3)\n",
    "root.left.left = TreeNode(4)\n",
    "root.left.right = TreeNode(5)\n",
    "root.right.right = TreeNode(6)\n",
    "root.left.left.left = TreeNode(7)\n",
    "\n",
    "print(\"Left view of binary tree:\")\n",
    "left_view(root)\n"
   ]
  },
  {
   "cell_type": "code",
   "execution_count": 2,
   "id": "bdafdfd4",
   "metadata": {},
   "outputs": [
    {
     "name": "stdout",
     "output_type": "stream",
     "text": [
      "Left view of binary tree:\n",
      "1 2 4 7 "
     ]
    }
   ],
   "source": [
    "#METHOD-2(USING RECURSION)\n",
    "class TreeNode:\n",
    "    def __init__(self, key):\n",
    "        self.val = key\n",
    "        self.left = None\n",
    "        self.right = None\n",
    "\n",
    "def left_view_recursive(root, level, max_level):\n",
    "    if not root:\n",
    "        return\n",
    "\n",
    "    # Check if this is the first node at the current level\n",
    "    if level > max_level[0]:\n",
    "        print(root.val, end=\" \")\n",
    "        max_level[0] = level\n",
    "\n",
    "    # Recur for the left and right subtrees\n",
    "    left_view_recursive(root.left, level + 1, max_level)\n",
    "    left_view_recursive(root.right, level + 1, max_level)\n",
    "\n",
    "def left_view(root):\n",
    "    max_level = [0]  # To store the maximum level reached so far\n",
    "    left_view_recursive(root, 1, max_level)\n",
    "\n",
    "# Example usage:\n",
    "# Constructing a sample binary tree\n",
    "root = TreeNode(1)\n",
    "root.left = TreeNode(2)\n",
    "root.right = TreeNode(3)\n",
    "root.left.left = TreeNode(4)\n",
    "root.left.right = TreeNode(5)\n",
    "root.right.right = TreeNode(6)\n",
    "root.left.left.left = TreeNode(7)\n",
    "\n",
    "print(\"Left view of binary tree:\")\n",
    "left_view(root)\n"
   ]
  },
  {
   "cell_type": "code",
   "execution_count": 3,
   "id": "1f5731ac",
   "metadata": {},
   "outputs": [
    {
     "name": "stdout",
     "output_type": "stream",
     "text": [
      "Right view of binary tree:\n",
      "1 3 6 7 "
     ]
    }
   ],
   "source": [
    "#RIGHTVIEW OF BINARY TREE\n",
    "class TreeNode:\n",
    "    def __init__(self, key):\n",
    "        self.val = key\n",
    "        self.left = None\n",
    "        self.right = None\n",
    "\n",
    "def right_view(root):\n",
    "    if not root:\n",
    "        return\n",
    "\n",
    "    queue = [root]\n",
    "\n",
    "    while queue:\n",
    "        # Number of nodes at current level\n",
    "        n = len(queue)\n",
    "\n",
    "        # Traverse all nodes at the current level and print the rightmost node\n",
    "        for i in range(1, n + 1):\n",
    "            node = queue.pop(0)\n",
    "\n",
    "            if i == n:\n",
    "                print(node.val, end=\" \")\n",
    "\n",
    "            # Enqueue the left and right children of the current node\n",
    "            if node.left:\n",
    "                queue.append(node.left)\n",
    "            if node.right:\n",
    "                queue.append(node.right)\n",
    "\n",
    "# Example usage:\n",
    "# Constructing a sample binary tree\n",
    "root = TreeNode(1)\n",
    "root.left = TreeNode(2)\n",
    "root.right = TreeNode(3)\n",
    "root.left.left = TreeNode(4)\n",
    "root.left.right = TreeNode(5)\n",
    "root.right.right = TreeNode(6)\n",
    "root.left.left.left = TreeNode(7)\n",
    "\n",
    "print(\"Right view of binary tree:\")\n",
    "right_view(root)\n"
   ]
  },
  {
   "cell_type": "code",
   "execution_count": 4,
   "id": "02f70f8a",
   "metadata": {},
   "outputs": [
    {
     "name": "stdout",
     "output_type": "stream",
     "text": [
      "Inorder Traversal of BST:\n",
      "3 5 8 10 12 15 18 "
     ]
    }
   ],
   "source": [
    "#BINARY SEARCH TREE\n",
    "class TreeNode:\n",
    "    def __init__(self, key):\n",
    "        self.val = key\n",
    "        self.left = None\n",
    "        self.right = None\n",
    "\n",
    "class BST:\n",
    "    def __init__(self):\n",
    "        self.root = None\n",
    "\n",
    "    def insert(self, key):\n",
    "        self.root = self._insert(self.root, key)\n",
    "\n",
    "    def _insert(self, root, key):\n",
    "        if not root:\n",
    "            return TreeNode(key)\n",
    "\n",
    "        if key < root.val:\n",
    "            root.left = self._insert(root.left, key)\n",
    "        elif key > root.val:\n",
    "            root.right = self._insert(root.right, key)\n",
    "\n",
    "        return root\n",
    "\n",
    "def inorder_traversal(root):\n",
    "    if root:\n",
    "        inorder_traversal(root.left)\n",
    "        print(root.val, end=\" \")\n",
    "        inorder_traversal(root.right)\n",
    "\n",
    "# Example usage:\n",
    "bst = BST()\n",
    "\n",
    "# Inserting nodes into the BST\n",
    "bst.insert(10)\n",
    "bst.insert(5)\n",
    "bst.insert(15)\n",
    "bst.insert(3)\n",
    "bst.insert(8)\n",
    "bst.insert(12)\n",
    "bst.insert(18)\n",
    "\n",
    "# Performing inorder traversal to display the constructed BST\n",
    "print(\"Inorder Traversal of BST:\")\n",
    "inorder_traversal(bst.root)\n"
   ]
  },
  {
   "cell_type": "code",
   "execution_count": null,
   "id": "c5b582ee",
   "metadata": {},
   "outputs": [],
   "source": []
  }
 ],
 "metadata": {
  "kernelspec": {
   "display_name": "Python 3 (ipykernel)",
   "language": "python",
   "name": "python3"
  },
  "language_info": {
   "codemirror_mode": {
    "name": "ipython",
    "version": 3
   },
   "file_extension": ".py",
   "mimetype": "text/x-python",
   "name": "python",
   "nbconvert_exporter": "python",
   "pygments_lexer": "ipython3",
   "version": "3.11.4"
  }
 },
 "nbformat": 4,
 "nbformat_minor": 5
}
