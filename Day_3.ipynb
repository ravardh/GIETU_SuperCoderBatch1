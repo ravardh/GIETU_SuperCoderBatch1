{
 "cells": [
  {
   "cell_type": "code",
   "execution_count": 9,
   "id": "c46e61e0-b3e6-43e1-a25d-54c0231655cc",
   "metadata": {},
   "outputs": [
    {
     "name": "stdout",
     "output_type": "stream",
     "text": [
      "5\n",
      "5.5\n",
      "A\n"
     ]
    }
   ],
   "source": [
    "a = 5\n",
    "b = 5.5\n",
    "c = 'A'\n",
    "print(a)\n",
    "print(b)\n",
    "print(c)"
   ]
  },
  {
   "cell_type": "code",
   "execution_count": null,
   "id": "9611e0b5-53eb-48e3-96b7-ccb6fb38a39b",
   "metadata": {},
   "outputs": [],
   "source": [
    "Type Casting :\n",
    "1.implicit\n",
    "\n",
    "2.explicit\n",
    "int()\n",
    "float()\n",
    "str()"
   ]
  },
  {
   "cell_type": "code",
   "execution_count": 10,
   "id": "6a1e278e-6b52-44cb-8175-81ceaf40b869",
   "metadata": {},
   "outputs": [
    {
     "name": "stdout",
     "output_type": "stream",
     "text": [
      "12.8\n"
     ]
    }
   ],
   "source": [
    "a = 5.5\n",
    "b = \"7.3\"\n",
    "print(float(b)+a)"
   ]
  },
  {
   "cell_type": "code",
   "execution_count": null,
   "id": "9d555889-ce9e-4bc0-8bad-0a796177cc1d",
   "metadata": {},
   "outputs": [],
   "source": [
    "input() :\n",
    "To take input from user\n",
    "Also to print the message"
   ]
  },
  {
   "cell_type": "code",
   "execution_count": 11,
   "id": "d4d81e5b-8d13-49ce-b605-cc6cc68f7bcb",
   "metadata": {},
   "outputs": [
    {
     "name": "stdin",
     "output_type": "stream",
     "text": [
      "Enter anything 12\n",
      " 13\n"
     ]
    },
    {
     "name": "stdout",
     "output_type": "stream",
     "text": [
      "12\n",
      "<class 'str'>\n"
     ]
    }
   ],
   "source": [
    "a = input(\"Enter anything\")\n",
    "b = input()\n",
    "print(a)\n",
    "print(type(a))"
   ]
  },
  {
   "cell_type": "code",
   "execution_count": null,
   "id": "264e5234-9621-48ad-818c-f908e814e945",
   "metadata": {},
   "outputs": [],
   "source": [
    "Decision Making :\n",
    "1.if-else\n",
    "2.match case"
   ]
  },
  {
   "cell_type": "code",
   "execution_count": 12,
   "id": "f1c7f096-7984-4fcc-a366-1c604f4b7791",
   "metadata": {},
   "outputs": [
    {
     "name": "stdin",
     "output_type": "stream",
     "text": [
      " 1\n"
     ]
    },
    {
     "name": "stdout",
     "output_type": "stream",
     "text": [
      "c is greatest\n"
     ]
    }
   ],
   "source": [
    "a = int(input())\n",
    "b = 2\n",
    "c = 3\n",
    "if a>b :\n",
    "    if a>c :\n",
    "        print(\"a is greatest\")\n",
    "    else :\n",
    "        print(\"c is greatest\")\n",
    "else :\n",
    "    if b>c :\n",
    "        print(\"b is greatest\")\n",
    "    else :\n",
    "        print(\"c is greatest\")"
   ]
  },
  {
   "cell_type": "code",
   "execution_count": 6,
   "id": "204938f2-b82a-482e-bc4d-c9863d858c9e",
   "metadata": {},
   "outputs": [
    {
     "name": "stdin",
     "output_type": "stream",
     "text": [
      " 23\n"
     ]
    },
    {
     "name": "stdout",
     "output_type": "stream",
     "text": [
      "Adult\n"
     ]
    }
   ],
   "source": [
    "age = int(input())\n",
    "\n",
    "match age:\n",
    "    case 15:\n",
    "        print(\"Teenager\")\n",
    "    case 23:\n",
    "        print(\"Adult\")\n",
    "    case 61:\n",
    "        print(\"Sr. Citizen\")\n",
    "    case 80:\n",
    "        print(\"Old\")\n",
    "    case _:\n",
    "        print(\"Wrong input\")"
   ]
  },
  {
   "cell_type": "code",
   "execution_count": 7,
   "id": "53430c8b-7a6f-4af3-a297-3b8cdcea7de7",
   "metadata": {},
   "outputs": [
    {
     "name": "stdin",
     "output_type": "stream",
     "text": [
      " 23\n"
     ]
    },
    {
     "name": "stdout",
     "output_type": "stream",
     "text": [
      "Adult\n"
     ]
    }
   ],
   "source": [
    "age = int(input())\n",
    "\n",
    "match age:\n",
    "    case 18:\n",
    "        print(\"Perfect age\")\n",
    "    case _ if age < 18:\n",
    "        print(\"Not Adult\")\n",
    "    case _ if age > 18:\n",
    "        print(\"Adult\")"
   ]
  },
  {
   "cell_type": "code",
   "execution_count": 9,
   "id": "28a4382d-8e3b-4ff6-9b27-28fcf83523bf",
   "metadata": {},
   "outputs": [
    {
     "name": "stdin",
     "output_type": "stream",
     "text": [
      "Enter a number 12\n",
      "Enter a number 13\n",
      "Enter operator -\n"
     ]
    },
    {
     "name": "stdout",
     "output_type": "stream",
     "text": [
      "-1\n"
     ]
    }
   ],
   "source": [
    "a = int(input(\"Enter a number\"))\n",
    "b = int(input(\"Enter a number\"))\n",
    "c = input(\"Enter operator\")\n",
    "match c:\n",
    "    case \"+\":\n",
    "        print(a+b)\n",
    "    case \"-\":\n",
    "        print(a-b)\n",
    "    case \"*\":\n",
    "        print(a*b)\n",
    "    case \"/\":\n",
    "        print(a/b)\n",
    "    case \"//\":\n",
    "        print(a//b)\n",
    "    case \"%\":\n",
    "        print(a%b)\n",
    "    case _:\n",
    "        print(\"Wrong input\")"
   ]
  },
  {
   "cell_type": "code",
   "execution_count": 13,
   "id": "8d9e06ea-75ec-4b69-af5a-a2d6aa7839c0",
   "metadata": {},
   "outputs": [
    {
     "name": "stdout",
     "output_type": "stream",
     "text": [
      "Hrushikesh \n"
     ]
    }
   ],
   "source": [
    "#String\n",
    "name = \"Hrushikesh Sahu\"\n",
    "print(name[:11])"
   ]
  },
  {
   "cell_type": "code",
   "execution_count": null,
   "id": "bbf19fb5-f363-4517-98cb-50dabb97b3c6",
   "metadata": {},
   "outputs": [],
   "source": [
    "String Function :\n",
    "Swapcase\n",
    "upper\n",
    "lower\n",
    "replace(\"old\", \"new\")\n",
    "split()"
   ]
  },
  {
   "cell_type": "code",
   "execution_count": null,
   "id": "3057634c-bd15-4a60-9726-eee7cfce74a1",
   "metadata": {},
   "outputs": [],
   "source": [
    "Loops :\n",
    "1.for Variable in range(start, end)\n",
    "2.for each:\n",
    "    for Variable in list, tiple, dic, set\n"
   ]
  },
  {
   "cell_type": "code",
   "execution_count": 8,
   "id": "aa71ee4e-2858-4c1c-94e8-7abb1e7dfbc3",
   "metadata": {},
   "outputs": [
    {
     "name": "stdout",
     "output_type": "stream",
     "text": [
      "H\n",
      "r\n",
      "u\n",
      "s\n",
      "h\n",
      "i\n",
      "k\n",
      "e\n",
      "s\n",
      "h\n",
      " \n",
      "S\n",
      "a\n",
      "h\n",
      "u\n",
      "0\n",
      "1\n",
      "2\n",
      "3\n",
      "4\n",
      "5\n",
      "6\n",
      "7\n",
      "8\n",
      "9\n"
     ]
    }
   ],
   "source": [
    "name = \"Hrushikesh Sahu\"\n",
    "for x in name :\n",
    "    print(x)\n",
    "for a in range(10):\n",
    "    print(a)"
   ]
  },
  {
   "cell_type": "code",
   "execution_count": null,
   "id": "20ea4f36-9706-403c-a54d-99b0a330cf0b",
   "metadata": {},
   "outputs": [],
   "source": []
  }
 ],
 "metadata": {
  "kernelspec": {
   "display_name": "Python 3 (ipykernel)",
   "language": "python",
   "name": "python3"
  },
  "language_info": {
   "codemirror_mode": {
    "name": "ipython",
    "version": 3
   },
   "file_extension": ".py",
   "mimetype": "text/x-python",
   "name": "python",
   "nbconvert_exporter": "python",
   "pygments_lexer": "ipython3",
   "version": "3.11.5"
  }
 },
 "nbformat": 4,
 "nbformat_minor": 5
}
