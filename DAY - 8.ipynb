{
 "cells": [
  {
   "cell_type": "code",
   "execution_count": 11,
   "id": "e388358a",
   "metadata": {},
   "outputs": [
    {
     "name": "stdout",
     "output_type": "stream",
     "text": [
      "12 17 7 92 9 84 16 5 "
     ]
    }
   ],
   "source": [
    "class node:\n",
    "    def __init__(self, info=None):\n",
    "        self.data=info\n",
    "        self.left=None\n",
    "        self.right=None\n",
    "\n",
    "def leafnode(root):\n",
    "    if(root == None):\n",
    "        return\n",
    "    if(root.left == None and root.right == None):\n",
    "        print(root.data, end = \" \")\n",
    "    leafnode(root.left)\n",
    "    leafnode(root.right)\n",
    "\n",
    "\n",
    "root = node(2)\n",
    "\n",
    "root.left = node(10)\n",
    "root.right = node(82)\n",
    "\n",
    "root.left.left = node(12)\n",
    "root.left.right = node(4)\n",
    "root.right.left = node(9)\n",
    "root.right.right = node(6)\n",
    "\n",
    "root.left.right.left = node(32)\n",
    "root.left.right.right = node(92)\n",
    "root.right.right.left = node(84)\n",
    "root.right.right.right = node(1)\n",
    "\n",
    "root.left.right.left.left = node(42)\n",
    "root.left.right.left.right = node(7)\n",
    "root.right.right.right.left = node(16)\n",
    "root.right.right.right.right = node(5)\n",
    "\n",
    "root.left.right.left.left.left = node(46)\n",
    "root.left.right.left.left.left = node(17)\n",
    "\n",
    "leafnode(root)\n"
   ]
  },
  {
   "cell_type": "code",
   "execution_count": 15,
   "id": "1b676f9e",
   "metadata": {},
   "outputs": [
    {
     "name": "stdout",
     "output_type": "stream",
     "text": [
      "4 15 32 20 10 24 2 "
     ]
    }
   ],
   "source": [
    "class node:\n",
    "    def __init__(self, info=None):\n",
    "        self.data=info\n",
    "        self.left=None\n",
    "        self.right=None\n",
    "        self.key = 0\n",
    "        \n",
    "def topview(root):\n",
    "    Q = [root]\n",
    "    key = 0\n",
    "    root.key = key\n",
    "    TV = dict()\n",
    "    while len(Q)>0:\n",
    "        cur = Q.pop(0)\n",
    "        key = cur.key\n",
    "        if cur != None:\n",
    "            if key not in TV:\n",
    "                TV[key] = cur.data\n",
    "            if cur.left != None:\n",
    "                Q.append(cur.left)\n",
    "                cur.left.key = key-1\n",
    "            if cur.right != None:\n",
    "                Q.append(cur.right)\n",
    "                cur.right.key = key+1\n",
    "    for x in sorted(TV.keys()):\n",
    "        print(TV[x],end=\" \")\n",
    "\n",
    "root = node(20)\n",
    "\n",
    "root.left = node(32)\n",
    "root.right = node(10)\n",
    "\n",
    "root.left.left = node(15)\n",
    "root.left.right = node(12)\n",
    "root.right.left = node(8)\n",
    "root.right.right = node(24)\n",
    "\n",
    "root.left.left.left = node(4)\n",
    "root.left.right.left = node(50)\n",
    "root.left.right.right = node(6)\n",
    "root.right.right.left = node(16)\n",
    "root.right.right.right = node(2)\n",
    "\n",
    "root.left.right.left.left = node(40)\n",
    "root.left.right.left.right = node(35)\n",
    "\n",
    "topview(root)"
   ]
  },
  {
   "cell_type": "code",
   "execution_count": 19,
   "id": "dffcbc6a",
   "metadata": {},
   "outputs": [
    {
     "data": {
      "text/plain": [
       "5"
      ]
     },
     "execution_count": 19,
     "metadata": {},
     "output_type": "execute_result"
    }
   ],
   "source": [
    "class node:\n",
    "    def __init__(self, info=None):\n",
    "        self.data=info\n",
    "        self.left=None\n",
    "        self.right=None\n",
    "        self.key = 0\n",
    "\n",
    "def height(root):\n",
    "    if root == None:\n",
    "        return 0\n",
    "    else:\n",
    "        l_height = height(root.left)\n",
    "        r_height = height(root.right)\n",
    "        \n",
    "        if(l_height > r_height):\n",
    "            return (l_height+1)\n",
    "        else:\n",
    "            return (r_height+1)\n",
    "\n",
    "root = node(20)\n",
    "\n",
    "root.left = node(32)\n",
    "root.right = node(10)\n",
    "\n",
    "root.left.left = node(15)\n",
    "root.left.right = node(12)\n",
    "root.right.left = node(8)\n",
    "root.right.right = node(24)\n",
    "\n",
    "root.left.left.left = node(4)\n",
    "root.left.right.left = node(50)\n",
    "root.left.right.right = node(6)\n",
    "root.right.right.left = node(16)\n",
    "root.right.right.right = node(2)\n",
    "\n",
    "root.left.right.left.left = node(40)\n",
    "root.left.right.left.right = node(35)\n",
    "\n",
    "height(root)"
   ]
  },
  {
   "cell_type": "code",
   "execution_count": null,
   "id": "9de481b8",
   "metadata": {},
   "outputs": [],
   "source": []
  }
 ],
 "metadata": {
  "kernelspec": {
   "display_name": "Python 3 (ipykernel)",
   "language": "python",
   "name": "python3"
  },
  "language_info": {
   "codemirror_mode": {
    "name": "ipython",
    "version": 3
   },
   "file_extension": ".py",
   "mimetype": "text/x-python",
   "name": "python",
   "nbconvert_exporter": "python",
   "pygments_lexer": "ipython3",
   "version": "3.11.3"
  }
 },
 "nbformat": 4,
 "nbformat_minor": 5
}
