{
 "cells": [
  {
   "cell_type": "code",
   "execution_count": 2,
   "id": "8c08b33c",
   "metadata": {},
   "outputs": [
    {
     "name": "stdout",
     "output_type": "stream",
     "text": [
      "[1, 2, 3, 4, 5, 6, 7, 8, 9]\n"
     ]
    }
   ],
   "source": [
    "#quick sort \n",
    "\n",
    "def find(ar,S,E):\n",
    "    p=ar[E]\n",
    "    j=S-1\n",
    "    for i in range(S,E):\n",
    "        if ar[i]<p:\n",
    "            j=j+1\n",
    "            ar[i],ar[j]=ar[j],ar[i]\n",
    "    ar[j+1],ar[E]=ar[E],ar[j+1]\n",
    "    return j+1\n",
    "def quickSort(ar,S,E):\n",
    "    if S<E:\n",
    "        pi=find(ar,S,E)\n",
    "        quickSort(ar,S,pi-1)\n",
    "        quickSort(ar,pi+1,E)\n",
    "if __name__=='__main__':\n",
    "    arr=[4,8,2,3,7,5,1,9,6]\n",
    "    quickSort(arr,0,len(arr)-1)\n",
    "    print(arr)\n",
    "    "
   ]
  },
  {
   "cell_type": "code",
   "execution_count": 3,
   "id": "04bdd223",
   "metadata": {},
   "outputs": [
    {
     "name": "stdout",
     "output_type": "stream",
     "text": [
      "[1, 2, 3, 4, 5, 6, 7, 8, 9]\n"
     ]
    }
   ],
   "source": [
    "#merge sort\n",
    "def merge_sort(arr):\n",
    "    if len(arr) <= 1:\n",
    "        return arr\n",
    "    mid = len(arr) // 2\n",
    "    left_half = arr[:mid]\n",
    "    right_half = arr[mid:]    \n",
    "    left_half = merge_sort(left_half)\n",
    "    right_half = merge_sort(right_half)\n",
    "    return merge(left_half, right_half)\n",
    "\n",
    "def merge(left, right):\n",
    "    merged = []\n",
    "    left_index = 0\n",
    "    right_index = 0\n",
    "    while left_index < len(left) and right_index < len(right):\n",
    "        if left[left_index] < right[right_index]:\n",
    "            merged.append(left[left_index])\n",
    "            left_index += 1\n",
    "        else:\n",
    "            merged.append(right[right_index])\n",
    "            right_index += 1    \n",
    "    merged.extend(left[left_index:])\n",
    "    merged.extend(right[right_index:])\n",
    "    \n",
    "    return merged\n",
    "arr = [5, 3, 8, 4, 2, 1, 9, 6, 7]\n",
    "sorted_arr = merge_sort(arr)\n",
    "print(sorted_arr)  \n",
    "\n"
   ]
  },
  {
   "cell_type": "code",
   "execution_count": 1,
   "id": "0d27c5d7",
   "metadata": {},
   "outputs": [
    {
     "name": "stdout",
     "output_type": "stream",
     "text": [
      "3\n",
      "24\n"
     ]
    }
   ],
   "source": [
    "def max_sum_element(ar):\n",
    "    k=int(input())\n",
    "    if len(arr)<k:\n",
    "        return None\n",
    "    max_sum=0\n",
    "    for i in range (0,len(arr)-k):\n",
    "        sum=0\n",
    "        for j in range(i,k+1):\n",
    "            sum=sum+ar[j]\n",
    "            max_sum=max(max_sum,sum)\n",
    "        return max_sum\n",
    "arr=[9,4,8,3,1,9,8,7,6,5,6,9,2,1,3,5,9]\n",
    "print(max_sum_element(arr))"
   ]
  },
  {
   "cell_type": "code",
   "execution_count": null,
   "id": "1983deb8",
   "metadata": {},
   "outputs": [],
   "source": []
  },
  {
   "cell_type": "code",
   "execution_count": null,
   "id": "96b9574e",
   "metadata": {},
   "outputs": [],
   "source": []
  }
 ],
 "metadata": {
  "kernelspec": {
   "display_name": "Python 3 (ipykernel)",
   "language": "python",
   "name": "python3"
  },
  "language_info": {
   "codemirror_mode": {
    "name": "ipython",
    "version": 3
   },
   "file_extension": ".py",
   "mimetype": "text/x-python",
   "name": "python",
   "nbconvert_exporter": "python",
   "pygments_lexer": "ipython3",
   "version": "3.11.5"
  }
 },
 "nbformat": 4,
 "nbformat_minor": 5
}
