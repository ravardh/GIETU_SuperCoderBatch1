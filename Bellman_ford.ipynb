{
 "cells": [
  {
   "cell_type": "code",
   "execution_count": 28,
   "id": "5349e384",
   "metadata": {},
   "outputs": [
    {
     "name": "stdout",
     "output_type": "stream",
     "text": [
      "[0, 4, 12, 19, 28, 16, 18, 8, 14]\n"
     ]
    }
   ],
   "source": [
    "def bellman_ford(graph, source):\n",
    "    distance = [float('inf')] * len(graph)\n",
    "    distance[source] = 0\n",
    "\n",
    "    for _ in range(len(graph) - 1):\n",
    "        for u in range(len(graph)):\n",
    "            for v, w in graph[u]:\n",
    "                if distance[u] != float('inf') and distance[u] + w < distance[v]:\n",
    "                    distance[v] = distance[u] + w\n",
    "\n",
    "    for u in range(len(graph)):\n",
    "        for v, w in graph[u]:\n",
    "            if distance[u] != float('inf') and distance[u] + w < distance[v]:\n",
    "                print(\"Graph contains negative weight cycle\")\n",
    "                return\n",
    "\n",
    "    return distance\n",
    "\n",
    "v = 9\n",
    "graph = [[] for _ in range(v)]\n",
    "\n",
    "def add_edge(graph, u, v, w):\n",
    "    graph[u].append((v, w))\n",
    "\n",
    "add_edge(graph, 0, 1, 4)\n",
    "add_edge(graph, 0, 7, 8)\n",
    "add_edge(graph, 1, 2, 8)\n",
    "add_edge(graph, 1, 7, 11)\n",
    "add_edge(graph, 2, 3, 7)\n",
    "add_edge(graph, 2, 8, 2)\n",
    "add_edge(graph, 2, 5, 4)\n",
    "add_edge(graph, 3, 4, 9)\n",
    "add_edge(graph, 3, 5, 14)\n",
    "add_edge(graph, 4, 5, 10)\n",
    "add_edge(graph, 5, 6, 2)\n",
    "add_edge(graph, 6, 7, 1)\n",
    "add_edge(graph, 6, 8, 6)\n",
    "add_edge(graph, 7, 8, 7)\n",
    "\n",
    "distances = bellman_ford(graph, 0)\n",
    "print(distances)\n"
   ]
  }
 ],
 "metadata": {
  "kernelspec": {
   "display_name": "Python 3 (ipykernel)",
   "language": "python",
   "name": "python3"
  },
  "language_info": {
   "codemirror_mode": {
    "name": "ipython",
    "version": 3
   },
   "file_extension": ".py",
   "mimetype": "text/x-python",
   "name": "python",
   "nbconvert_exporter": "python",
   "pygments_lexer": "ipython3",
   "version": "3.11.3"
  }
 },
 "nbformat": 4,
 "nbformat_minor": 5
}
