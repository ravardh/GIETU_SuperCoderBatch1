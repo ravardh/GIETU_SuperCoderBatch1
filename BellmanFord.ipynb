{
  "nbformat": 4,
  "nbformat_minor": 0,
  "metadata": {
    "colab": {
      "provenance": [],
      "authorship_tag": "ABX9TyPpUAADQP4ygCqiGHy19m6T",
      "include_colab_link": true
    },
    "kernelspec": {
      "name": "python3",
      "display_name": "Python 3"
    },
    "language_info": {
      "name": "python"
    }
  },
  "cells": [
    {
      "cell_type": "markdown",
      "metadata": {
        "id": "view-in-github",
        "colab_type": "text"
      },
      "source": [
        "<a href=\"https://colab.research.google.com/github/ravardh/GIETU_SuperCoderBatch1/blob/Ashish_21cse101/BellmanFord.ipynb\" target=\"_parent\"><img src=\"https://colab.research.google.com/assets/colab-badge.svg\" alt=\"Open In Colab\"/></a>"
      ]
    },
    {
      "cell_type": "code",
      "execution_count": 1,
      "metadata": {
        "colab": {
          "base_uri": "https://localhost:8080/"
        },
        "id": "oXh03BHpvl3i",
        "outputId": "484dbc3f-d64c-4ef3-95f6-671575aeb8a8"
      },
      "outputs": [
        {
          "output_type": "stream",
          "name": "stdout",
          "text": [
            "Vertex Distance from Source\n",
            "1\t\t0\n",
            "2\t\t3\n",
            "3\t\t5\n",
            "4\t\t5\n",
            "5\t\t2\n",
            "6\t\t4\n",
            "7\t\t5\n"
          ]
        }
      ],
      "source": [
        "class Graph:\n",
        "    def __init__(self, vertices):\n",
        "        self.V = vertices\n",
        "        self.graph = []\n",
        "\n",
        "    def edge(self, u, v, w):\n",
        "        self.graph.append([u, v, w])\n",
        "\n",
        "    def printArr(self, dist):\n",
        "        print(\"Vertex Distance from Source\")\n",
        "        for i in range(self.V):\n",
        "            print(f\"{i+1}\\t\\t{dist[i]}\")\n",
        "\n",
        "    def BellmanFord(self, src):\n",
        "\n",
        "        dist = [float(\"Inf\")] * self.V\n",
        "        dist[src-1] = 0\n",
        "\n",
        "        for _ in range(self.V - 1):\n",
        "            for u, v, w in self.graph:\n",
        "                if dist[u-1] != float(\"Inf\") and dist[u-1] + w < dist[v-1]:\n",
        "                    dist[v-1] = dist[u-1] + w\n",
        "\n",
        "        self.printArr(dist)\n",
        "\n",
        "\n",
        "\n",
        "g = Graph(7)\n",
        "g.edge(1, 2, 6)\n",
        "g.edge(1, 3, 5)\n",
        "g.edge(1, 4, 5)\n",
        "\n",
        "g.edge(2, 5, -1)\n",
        "\n",
        "g.edge(3, 5, 1)\n",
        "g.edge(3, 2, -2)\n",
        "\n",
        "g.edge(4, 6, -1)\n",
        "\n",
        "g.edge(5, 7, 3)\n",
        "\n",
        "g.edge(6, 7, 3)\n",
        "\n",
        "g.BellmanFord(1)"
      ]
    },
    {
      "cell_type": "code",
      "source": [],
      "metadata": {
        "id": "CBwCDl9ivmuh"
      },
      "execution_count": null,
      "outputs": []
    }
  ]
}