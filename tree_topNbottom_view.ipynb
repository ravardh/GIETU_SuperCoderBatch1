{
 "cells": [
  {
   "cell_type": "code",
   "execution_count": 3,
   "id": "428df177",
   "metadata": {},
   "outputs": [
    {
     "name": "stdout",
     "output_type": "stream",
     "text": [
      "Top View:\n",
      "4 15 32 20 10 24 2 \n",
      "Bottom View:\n",
      "4 40 50 35 16 24 2 "
     ]
    }
   ],
   "source": [
    "class Node:\n",
    "    def __init__(self, data=None):\n",
    "        self.data = data\n",
    "        self.left = None\n",
    "        self.right = None\n",
    "        self.key = 0\n",
    "\n",
    "def top_view(root):\n",
    "    if root is None:\n",
    "        return\n",
    "    \n",
    "    queue = [(root, 0)]\n",
    "    tv = {}\n",
    "\n",
    "    while queue:\n",
    "        cur, key = queue.pop(0)\n",
    "        if key not in tv:\n",
    "            tv[key] = cur.data\n",
    "        \n",
    "        if cur.left:\n",
    "            queue.append((cur.left, key - 1))\n",
    "            cur.left.key = key - 1\n",
    "        if cur.right:\n",
    "            queue.append((cur.right, key + 1))\n",
    "            cur.right.key = key + 1\n",
    "    \n",
    "    for x in sorted(tv.keys()):\n",
    "        print(tv[x], end=\" \")\n",
    "\n",
    "def bot_view(root):\n",
    "    if root is None:\n",
    "        return\n",
    "    \n",
    "    queue = [root]\n",
    "    tv = {}\n",
    "\n",
    "    while queue:\n",
    "        cur = queue.pop(0)\n",
    "        key = cur.key\n",
    "        tv[key] = cur.data\n",
    "\n",
    "        if cur.left:\n",
    "            queue.append(cur.left)\n",
    "            cur.left.key = key - 1\n",
    "        if cur.right:\n",
    "            queue.append(cur.right)\n",
    "            cur.right.key = key + 1\n",
    "    \n",
    "    for x in sorted(tv.keys()):\n",
    "        print(tv[x], end=\" \")\n",
    "\n",
    "r00t = Node(20)\n",
    "r00t.left = Node(32)\n",
    "r00t.left.left = Node(15)\n",
    "r00t.left.right = Node(12)\n",
    "r00t.left.left.left = Node(4)\n",
    "r00t.left.right.left = Node(50)\n",
    "r00t.left.right.right = Node(6)\n",
    "r00t.left.right.left.left = Node(40)\n",
    "r00t.left.right.left.right = Node(35)\n",
    "r00t.right = Node(10)\n",
    "r00t.right.left = Node(8)\n",
    "r00t.right.right = Node(24)\n",
    "r00t.right.right.left = Node(16)\n",
    "r00t.right.right.right = Node(2)\n",
    "\n",
    "print(\"Top View:\")\n",
    "top_view(r00t)\n",
    "print(\"\\nBottom View:\")\n",
    "bot_view(r00t)\n"
   ]
  },
  {
   "cell_type": "code",
   "execution_count": null,
   "id": "8c584878",
   "metadata": {},
   "outputs": [],
   "source": []
  },
  {
   "cell_type": "code",
   "execution_count": null,
   "id": "dd84aa94",
   "metadata": {},
   "outputs": [],
   "source": []
  }
 ],
 "metadata": {
  "kernelspec": {
   "display_name": "Python 3 (ipykernel)",
   "language": "python",
   "name": "python3"
  },
  "language_info": {
   "codemirror_mode": {
    "name": "ipython",
    "version": 3
   },
   "file_extension": ".py",
   "mimetype": "text/x-python",
   "name": "python",
   "nbconvert_exporter": "python",
   "pygments_lexer": "ipython3",
   "version": "3.10.9"
  }
 },
 "nbformat": 4,
 "nbformat_minor": 5
}
