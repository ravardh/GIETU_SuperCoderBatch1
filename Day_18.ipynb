{
 "cells": [
  {
   "cell_type": "code",
   "execution_count": 1,
   "id": "5178c6f7-b32b-4eb2-aed1-428fd132d0d3",
   "metadata": {},
   "outputs": [
    {
     "name": "stdout",
     "output_type": "stream",
     "text": [
      "Graph representation: [[(1, 2, 1), (1, 3, 1)], [(2, 1, 1), (2, 4, 1)], [(3, 1, 1), (3, 4, 1), (3, 5, 1)], [(4, 2, 1), (4, 3, 1)], [(5, 4, 1), (5, 6, 1)], [(6, 5, 1), (6, 7, 1)], [(7, 6, 1)]]\n",
      "Does the graph contain a cycle? True\n"
     ]
    }
   ],
   "source": [
    "def DFS_cycle(start, graph, visited, parent):\n",
    "    visited[start - 1] = True\n",
    "\n",
    "    for i in graph[start - 1]:\n",
    "        if not visited[i[1] - 1]:\n",
    "            parent[i[1] - 1] = start\n",
    "            if DFS_cycle(i[1], graph, visited, parent):\n",
    "                return True\n",
    "        elif parent[start - 1] != i[1]:\n",
    "            return True\n",
    "\n",
    "    return False\n",
    "\n",
    "\n",
    "def has_cycle(graph):\n",
    "    v = len(graph)\n",
    "    visited = [False] * v\n",
    "    parent = [-1] * v\n",
    "\n",
    "    for i in range(v):\n",
    "        if not visited[i]:\n",
    "            if DFS_cycle(i + 1, graph, visited, parent):\n",
    "                return True\n",
    "\n",
    "    return False\n",
    "\n",
    "def create_graph(graph, source, destination, weight=1):\n",
    "    # Ensure that the graph list is large enough to hold all vertices\n",
    "    max_vertex = max(source, destination)\n",
    "    while len(graph) < max_vertex:\n",
    "        graph.append([])\n",
    "    graph[source-1].append((source, destination, weight))\n",
    "\n",
    "# Set the correct number of vertices\n",
    "v = 7  # Updated the number of vertices to match the highest vertex number used in create_graph\n",
    "graph = [[] for _ in range(v)]\n",
    "\n",
    "# Add edges\n",
    "create_graph(graph, 1, 2)\n",
    "create_graph(graph, 1, 3)\n",
    "create_graph(graph, 2, 1)\n",
    "create_graph(graph, 2, 4)\n",
    "create_graph(graph, 3, 1)\n",
    "create_graph(graph, 3, 4)\n",
    "create_graph(graph, 3, 5)\n",
    "create_graph(graph, 4, 2)\n",
    "create_graph(graph, 4, 3)\n",
    "create_graph(graph, 5, 4)\n",
    "create_graph(graph, 5, 6)\n",
    "create_graph(graph, 6, 5)\n",
    "create_graph(graph, 6, 7)\n",
    "create_graph(graph, 7, 6)\n",
    "\n",
    "print(\"Graph representation:\", graph)\n",
    "print(\"Does the graph contain a cycle?\", has_cycle(graph))\n"
   ]
  },
  {
   "cell_type": "code",
   "execution_count": 2,
   "id": "2768b867-6868-42a5-9c5e-4e8f3f496298",
   "metadata": {},
   "outputs": [
    {
     "name": "stdout",
     "output_type": "stream",
     "text": [
      "Maximum Profit: 110\n",
      "Job Sequence: ['j1', 'j6', 'j5', 'j2']\n"
     ]
    }
   ],
   "source": [
    "def job_sequencing(job_code, profit, deadline):\n",
    "    n = len(profit)\n",
    "    max_deadline = max(deadline)\n",
    "    \n",
    "    jobs = [(job_code[i], profit[i], deadline[i]) for i in range(n)]\n",
    "    \n",
    "    jobs.sort(key=lambda x: x[1], reverse=True)\n",
    "\n",
    "    \n",
    "    result = [None] * max_deadline\n",
    "    slots = [False] * max_deadline\n",
    "\n",
    "    \n",
    "    for job in jobs:\n",
    "        for i in range(min(max_deadline - 1, job[2] - 1), -1, -1):\n",
    "            if slots[i] is False:\n",
    "                result[i] = job[0]\n",
    "                slots[i] = True\n",
    "                break\n",
    "\n",
    "    max_profit = 0\n",
    "    job_sequence = []\n",
    "    for i in range(max_deadline):\n",
    "        if result[i] is not None:\n",
    "            max_profit += profit[job_code.index(result[i])]\n",
    "            job_sequence.append(result[i])\n",
    "\n",
    "    return max_profit, job_sequence\n",
    "\n",
    "# Given data\n",
    "job_code = ['j1', 'j2', 'j3', 'j4', 'j5', 'j6', 'j7']\n",
    "profit = [20, 30, 15, 12, 35, 25, 5]\n",
    "deadline = [2, 4, 3, 1, 3, 4, 2]\n",
    "\n",
    "max_profit, job_sequence = job_sequencing(job_code, profit, deadline)\n",
    "print(\"Maximum Profit:\", max_profit)\n",
    "print(\"Job Sequence:\", job_sequence)"
   ]
  }
 ],
 "metadata": {
  "kernelspec": {
   "display_name": "Python 3 (ipykernel)",
   "language": "python",
   "name": "python3"
  },
  "language_info": {
   "codemirror_mode": {
    "name": "ipython",
    "version": 3
   },
   "file_extension": ".py",
   "mimetype": "text/x-python",
   "name": "python",
   "nbconvert_exporter": "python",
   "pygments_lexer": "ipython3",
   "version": "3.11.5"
  }
 },
 "nbformat": 4,
 "nbformat_minor": 5
}
