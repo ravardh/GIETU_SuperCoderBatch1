{
 "cells": [
  {
   "cell_type": "code",
   "execution_count": 29,
   "id": "dce10fb8",
   "metadata": {},
   "outputs": [
    {
     "name": "stdout",
     "output_type": "stream",
     "text": [
      "profit: 54\n"
     ]
    }
   ],
   "source": [
    "def knapsack(pi, wi, c):\n",
    "    n = len(pi)\n",
    "    dp = [[0] * (c + 1) for _ in range(n + 1)]\n",
    "\n",
    "    for i in range(1, n + 1):\n",
    "        for w in range(1, c + 1):\n",
    "            if wi[i - 1] <= w:\n",
    "                dp[i][w] = max(dp[i - 1][w], dp[i - 1][w - wi[i - 1]] + pi[i - 1])\n",
    "            else:\n",
    "                dp[i][w] = dp[i - 1][w]\n",
    "           \n",
    "           \n",
    "    return dp[n][c]\n",
    "\n",
    "pi = [10,5,15,7,6,18,3]\n",
    "wi = [2,3,5,7,1,4,1]\n",
    "c = 15\n",
    "print(\"profit:\", knapsack(pi, wi, c))\n"
   ]
  },
  {
   "cell_type": "code",
   "execution_count": null,
   "id": "1335552a",
   "metadata": {},
   "outputs": [],
   "source": []
  }
 ],
 "metadata": {
  "kernelspec": {
   "display_name": "Python 3 (ipykernel)",
   "language": "python",
   "name": "python3"
  },
  "language_info": {
   "codemirror_mode": {
    "name": "ipython",
    "version": 3
   },
   "file_extension": ".py",
   "mimetype": "text/x-python",
   "name": "python",
   "nbconvert_exporter": "python",
   "pygments_lexer": "ipython3",
   "version": "3.11.3"
  }
 },
 "nbformat": 4,
 "nbformat_minor": 5
}
