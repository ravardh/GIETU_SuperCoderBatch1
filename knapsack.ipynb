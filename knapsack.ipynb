{
  "nbformat": 4,
  "nbformat_minor": 0,
  "metadata": {
    "colab": {
      "provenance": []
    },
    "kernelspec": {
      "name": "python3",
      "display_name": "Python 3"
    },
    "language_info": {
      "name": "python"
    }
  },
  "cells": [
    {
      "cell_type": "markdown",
      "source": [
        "KNAPSACK PROBLEM USING DYNAMIC PROGRAMMING"
      ],
      "metadata": {
        "id": "REjIlJf_GJs1"
      }
    },
    {
      "cell_type": "code",
      "source": [
        "def knapsack(p, w, capacity):\n",
        "    n = len(p)\n",
        "    m = [[0] * (capacity + 1) for _ in range(n + 1)]\n",
        "    for i in range(1, n + 1):\n",
        "        for c in range(1, capacity + 1):\n",
        "            if w[i - 1] <= c:\n",
        "                m[i][c] = max(m[i - 1][c], m[i - 1][c - w[i - 1]] + p[i - 1])\n",
        "            else:\n",
        "                m[i][c] = m[i - 1][c]\n",
        "\n",
        "    return m[n][capacity]\n",
        "p = [10, 5, 15, 7, 6, 18, 3]\n",
        "w = [2, 3, 5, 7, 1, 4, 1]\n",
        "capacity = 15\n",
        "max_value = knapsack(p, w, capacity)\n",
        "print(\"max weight:\", max_value)"
      ],
      "metadata": {
        "colab": {
          "base_uri": "https://localhost:8080/"
        },
        "id": "KjXHDCdEFjll",
        "outputId": "5e4319b0-8d8b-48eb-d063-045ec882741d"
      },
      "execution_count": 3,
      "outputs": [
        {
          "output_type": "stream",
          "name": "stdout",
          "text": [
            "max weight: 54\n"
          ]
        }
      ]
    },
    {
      "cell_type": "code",
      "source": [],
      "metadata": {
        "id": "cAvjfUvMGHjx"
      },
      "execution_count": null,
      "outputs": []
    }
  ]
}