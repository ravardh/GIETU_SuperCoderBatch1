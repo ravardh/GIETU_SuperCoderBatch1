{
 "cells": [
  {
   "cell_type": "code",
   "execution_count": null,
   "id": "80702d2b",
   "metadata": {},
   "outputs": [],
   "source": [
    "#knapsack\n",
    "\n",
    "def knapsack(C, wt, P, n):\n",
    "    dp = [[0] * (C + 1) for _ in range(n + 1)]\n",
    "    \n",
    "    for i in range(n + 1):\n",
    "        for w in range(C + 1):\n",
    "            if i == 0 or w == 0:\n",
    "                dp[i][w] = 0\n",
    "            elif wt[i - 1] <= w:\n",
    "                dp[i][w] = max(P[i - 1] + dp[i - 1][w - wt[i - 1]], dp[i - 1][w])\n",
    "            else:\n",
    "                dp[i][w] = dp[i - 1][w]\n",
    "    \n",
    "    return dp[n][C]\n",
    "\n",
    "# Custom input\n",
    "print(\"Enter the weights of the items:\")\n",
    "w = list(map(int, input().strip().split()))\n",
    "\n",
    "print(\"Enter the prices of the items:\")\n",
    "p = list(map(int, input().strip().split()))\n",
    "\n",
    "C = int(input(\"Enter the knapsack size: \"))\n",
    "\n",
    "print(\"Maximum value:\", knapsack(C, w, p, len(p)))\n"
   ]
  }
 ],
 "metadata": {
  "kernelspec": {
   "display_name": "Python 3 (ipykernel)",
   "language": "python",
   "name": "python3"
  },
  "language_info": {
   "codemirror_mode": {
    "name": "ipython",
    "version": 3
   },
   "file_extension": ".py",
   "mimetype": "text/x-python",
   "name": "python",
   "nbconvert_exporter": "python",
   "pygments_lexer": "ipython3",
   "version": "3.10.9"
  }
 },
 "nbformat": 4,
 "nbformat_minor": 5
}
