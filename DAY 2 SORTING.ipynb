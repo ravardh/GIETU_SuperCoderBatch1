{
 "cells": [
  {
   "cell_type": "code",
   "execution_count": 1,
   "id": "58a6334a",
   "metadata": {},
   "outputs": [
    {
     "name": "stdout",
     "output_type": "stream",
     "text": [
      "num1=2\n",
      "num2=3\n",
      "CHOOSE ANY ONE OPERATION= +,-,*,/,%\n",
      "/\n",
      "0.6666666666666666\n"
     ]
    }
   ],
   "source": [
    "a=int(input(\"num1=\"))\n",
    "b=int(input(\"num2=\"))\n",
    "print(\"CHOOSE ANY ONE OPERATION= +,-,*,/,%\")\n",
    "d=input()\n",
    "match(d):\n",
    "    case '+':\n",
    "        print(a+b)\n",
    "    case '-':\n",
    "        print(a-b)\n",
    "    case '*':\n",
    "        print(a*b)\n",
    "    case '/':\n",
    "        print(a/b)\n",
    "    case '%':\n",
    "        print(a%b)\n",
    "    case'':\n",
    "        print(\"invalid ERROR\")\n",
    "    \n",
    "    \n"
   ]
  },
  {
   "cell_type": "code",
   "execution_count": 5,
   "id": "eeb5149e",
   "metadata": {},
   "outputs": [
    {
     "name": "stdout",
     "output_type": "stream",
     "text": [
      "Enter any key:3\n",
      "RAM\n",
      "Code Executed\n"
     ]
    }
   ],
   "source": [
    "dict={1:\"JAY\",2:\"SRI\",3:\"RAM\"}\n",
    "# for x in dict.keys():\n",
    "#     print(x)\n",
    "# print(\"_______\")\n",
    "# for x in dict.values():\n",
    "#     print(x)\n",
    "# s=int(input(\"Enter any key Value\"))\n",
    "# # print(dict[s])\n",
    "# if s in dict.keys():\n",
    "#     print(dict[s])\n",
    "# else:\n",
    "#     print(\"ENTER A VALID OPTION\")\n",
    "\n",
    "t = int(input(\"Enter any key:\"))\n",
    "try:\n",
    "    print(dict[t])\n",
    "except:\n",
    "    print(\"Key not Available\")\n",
    "finally:\n",
    "    print(\"Code Executed\")"
   ]
  },
  {
   "cell_type": "code",
   "execution_count": 11,
   "id": "682da36d",
   "metadata": {},
   "outputs": [
    {
     "name": "stdout",
     "output_type": "stream",
     "text": [
      "Sorted array: [1, 2, 3, 4, 5, 6, 7, 8, 9]\n"
     ]
    }
   ],
   "source": [
    "#selection sort\n",
    "arr = [4,7,8,1,9,2,3,6,5]\n",
    "n = len(arr)\n",
    "for i in range(n-1):\n",
    "    min_index = i\n",
    "    for j in range(i+1, n):\n",
    "        if arr[j] < arr[min_index]:\n",
    "            min_index = j\n",
    "    arr[i], arr[min_index] = arr[min_index], arr[i]\n",
    "print(\"Sorted array:\", arr)"
   ]
  },
  {
   "cell_type": "code",
   "execution_count": 14,
   "id": "2639fde8",
   "metadata": {},
   "outputs": [
    {
     "name": "stdout",
     "output_type": "stream",
     "text": [
      "Sorted array: [1, 2, 3, 4, 5, 6, 7, 8, 9]\n"
     ]
    }
   ],
   "source": [
    "#insertion sort\n",
    "arr = [4,7,8,1,9,2,3,6,5]\n",
    "for i in range(1, len(arr)):\n",
    "    key = arr[i]\n",
    "    j = i - 1\n",
    "    while j >= 0 and key < arr[j]:\n",
    "        arr[j + 1] = arr[j]\n",
    "        j -= 1\n",
    "    arr[j + 1] = key\n",
    "\n",
    "print(\"Sorted array:\", arr)"
   ]
  },
  {
   "cell_type": "code",
   "execution_count": 15,
   "id": "b97d337f",
   "metadata": {},
   "outputs": [
    {
     "name": "stdout",
     "output_type": "stream",
     "text": [
      "Sorted array: [11, 12, 22, 25, 34, 64, 90]\n"
     ]
    }
   ],
   "source": [
    "#Bubble sort\n",
    "my_array = [64, 34, 25, 12, 22, 11, 90]\n",
    "\n",
    "n = len(my_array)\n",
    "\n",
    "for i in range(n):\n",
    "    \n",
    "    for j in range(0, n-i-1):\n",
    "\n",
    "        if my_array[j] > my_array[j+1]:\n",
    "            my_array[j], my_array[j+1] = my_array[j+1], my_array[j]\n",
    "print(\"Sorted array:\", my_array)"
   ]
  },
  {
   "cell_type": "code",
   "execution_count": null,
   "id": "800ec612",
   "metadata": {},
   "outputs": [],
   "source": []
  }
 ],
 "metadata": {
  "kernelspec": {
   "display_name": "Python 3 (ipykernel)",
   "language": "python",
   "name": "python3"
  },
  "language_info": {
   "codemirror_mode": {
    "name": "ipython",
    "version": 3
   },
   "file_extension": ".py",
   "mimetype": "text/x-python",
   "name": "python",
   "nbconvert_exporter": "python",
   "pygments_lexer": "ipython3",
   "version": "3.11.3"
  }
 },
 "nbformat": 4,
 "nbformat_minor": 5
}
