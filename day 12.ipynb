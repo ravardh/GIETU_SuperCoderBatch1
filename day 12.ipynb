{
 "cells": [
  {
   "cell_type": "code",
   "execution_count": 7,
   "metadata": {},
   "outputs": [
    {
     "name": "stdout",
     "output_type": "stream",
     "text": [
      "{1: [2, 3, 9], 2: [1, 4], 3: [1, 4, 5, 7], 9: [1, 8], 4: [2, 3, 6], 5: [3, 6], 7: [3, 6, 8], 6: [4, 5, 7], 8: [7, 9]}\n"
     ]
    }
   ],
   "source": [
    "def create_adjacency_list(graph):\n",
    "    adjacency_list = {}\n",
    "    \n",
    "    for edge in graph:\n",
    "        if edge[0] in adjacency_list:\n",
    "            adjacency_list[edge[0]].append(edge[1])\n",
    "        else:\n",
    "            adjacency_list[edge[0]] = [edge[1]]\n",
    "        \n",
    "        if edge[1] in adjacency_list:\n",
    "            adjacency_list[edge[1]].append(edge[0])\n",
    "        else:\n",
    "            adjacency_list[edge[1]] = [edge[0]]\n",
    "    \n",
    "    return adjacency_list\n",
    "\n",
    "graph = [(1, 2),(1, 3),(1, 9),(2, 4),(3, 4),(3,5),(3,7),(4,6),(5,6),(6,7),(7,8),(8,9)]\n",
    "\n",
    "# Create the adjacency list for the inputted graph\n",
    "adj_list = create_adjacency_list(graph)\n",
    "\n",
    "# Print the adjacency list\n",
    "print(adj_list)"
   ]
  },
  {
   "cell_type": "code",
   "execution_count": null,
   "metadata": {},
   "outputs": [],
   "source": []
  }
 ],
 "metadata": {
  "kernelspec": {
   "display_name": "Python 3",
   "language": "python",
   "name": "python3"
  },
  "language_info": {
   "codemirror_mode": {
    "name": "ipython",
    "version": 3
   },
   "file_extension": ".py",
   "mimetype": "text/x-python",
   "name": "python",
   "nbconvert_exporter": "python",
   "pygments_lexer": "ipython3",
   "version": "3.8.5"
  }
 },
 "nbformat": 4,
 "nbformat_minor": 4
}
