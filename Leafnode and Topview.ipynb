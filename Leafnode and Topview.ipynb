{
 "cells": [
  {
   "cell_type": "code",
   "execution_count": 11,
   "id": "a1238fa9",
   "metadata": {},
   "outputs": [
    {
     "name": "stdout",
     "output_type": "stream",
     "text": [
      "\n",
      "Leafnode\n",
      "12 17 7 92 9 84 16 5 \n",
      "\n",
      "\n",
      "Topview\n",
      "17 46 12 10 2 82 6 1 5 "
     ]
    }
   ],
   "source": [
    "class node:\n",
    "    def __init__(self,info=None):\n",
    "        self.data=info\n",
    "        self.left=None\n",
    "        self.right=None\n",
    "        self.key=0\n",
    "\n",
    "def topview(root):\n",
    "    Q=[root]\n",
    "    key=0\n",
    "    root.key=key\n",
    "    TV=dict()\n",
    "    while len(Q)>0 :\n",
    "        curr =Q.pop(0)\n",
    "        key=curr.key\n",
    "        if curr != None:\n",
    "            if key not in TV:\n",
    "                TV[key]=curr.data\n",
    "            if curr.left != None:\n",
    "                Q.append(curr.left)\n",
    "                curr.left.key=key-1\n",
    "            if curr.right != None:\n",
    "                Q.append(curr.right)\n",
    "                curr.right.key=key+1\n",
    "    for x in sorted(TV.keys()):\n",
    "        print(TV[x],end=\" \")\n",
    "    \n",
    "def leafnode(root):\n",
    "    if(root==None):\n",
    "        return\n",
    "    if(root.left==None and root.right==None):\n",
    "        print(root.data, end=\" \")\n",
    "    leafnode(root.left)\n",
    "    leafnode(root.right)\n",
    "\n",
    "root = node(2)\n",
    "\n",
    "root.left = node(10)\n",
    "root.right = node(82)\n",
    "\n",
    "root.left.left = node(12)\n",
    "root.left.right = node(4)\n",
    "\n",
    "root.right.left = node(9)\n",
    "root.right.right = node(6)\n",
    "root.right.right.left = node(84)\n",
    "root.right.right.right = node(1)\n",
    "root.right.right.right.left = node(16)\n",
    "root.right.right.right.right = node(5)\n",
    "\n",
    "root.left.right.left = node(32)\n",
    "root.left.right.right = node(92)\n",
    "root.left.right.left.left = node(42)\n",
    "root.left.right.left.right = node(7)\n",
    "\n",
    "root.left.right.left.left.left = node(46)\n",
    "root.left.right.left.left.left.left = node(17)\n",
    "\n",
    "print(\"\\nLeafnode\")\n",
    "leafnode(root)\n",
    "print(\"\\n\")\n",
    "print(\"\\nTopview\")\n",
    "topview(root)"
   ]
  },
  {
   "cell_type": "code",
   "execution_count": null,
   "id": "4b7948ff",
   "metadata": {},
   "outputs": [],
   "source": []
  }
 ],
 "metadata": {
  "kernelspec": {
   "display_name": "Python 3 (ipykernel)",
   "language": "python",
   "name": "python3"
  },
  "language_info": {
   "codemirror_mode": {
    "name": "ipython",
    "version": 3
   },
   "file_extension": ".py",
   "mimetype": "text/x-python",
   "name": "python",
   "nbconvert_exporter": "python",
   "pygments_lexer": "ipython3",
   "version": "3.11.3"
  }
 },
 "nbformat": 4,
 "nbformat_minor": 5
}
