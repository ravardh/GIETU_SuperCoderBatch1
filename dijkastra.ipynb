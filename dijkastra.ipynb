{
  "nbformat": 4,
  "nbformat_minor": 0,
  "metadata": {
    "colab": {
      "provenance": [],
      "authorship_tag": "ABX9TyNSBXtle9xtuht0xfFCUzTb",
      "include_colab_link": true
    },
    "kernelspec": {
      "name": "python3",
      "display_name": "Python 3"
    },
    "language_info": {
      "name": "python"
    }
  },
  "cells": [
    {
      "cell_type": "markdown",
      "metadata": {
        "id": "view-in-github",
        "colab_type": "text"
      },
      "source": [
        "<a href=\"https://colab.research.google.com/github/ravardh/GIETU_SuperCoderBatch1/blob/Ashish_21cse101/dijkastra.ipynb\" target=\"_parent\"><img src=\"https://colab.research.google.com/assets/colab-badge.svg\" alt=\"Open In Colab\"/></a>"
      ]
    },
    {
      "cell_type": "code",
      "execution_count": null,
      "metadata": {
        "colab": {
          "base_uri": "https://localhost:8080/"
        },
        "id": "_Tc72lEfuc-D",
        "outputId": "44f69d47-16fc-4045-838f-b82ba2e4d5bf"
      },
      "outputs": [
        {
          "output_type": "stream",
          "name": "stdout",
          "text": [
            "Shortest distances from A: {'A': 0, 'B': 1, 'C': 3, 'D': 4}\n"
          ]
        }
      ],
      "source": [
        "#dijkastra\n",
        "class Graph:\n",
        "    def init(self,v=None):\n",
        "        self.v=v\n",
        "        self.graph=[[] for _ in range(v)]\n",
        "    def add_edge(self,u,v,W):\n",
        "        self.graph[u-1].append([v,W])\n",
        "        self.graph[v-1].append([u,W])\n",
        "\n",
        "def dijkstra(s,graph):\n",
        "    Dic={}\n",
        "    for i in range(1,len(graph)+1):\n",
        "        Dic[i]=float('inf')\n",
        "    Dic[s]=0\n",
        "    l=[[] for _ in range(len(graph))]\n",
        "\n",
        "    while(len(Dic)>0):\n",
        "        min=float('inf')\n",
        "        k=0\n",
        "        for i in Dic:\n",
        "            if(min>Dic[i]):\n",
        "                min=Dic[i]\n",
        "                k=i\n",
        "        for i in range(len(graph[k-1])):\n",
        "            if(graph[k-1][i][0] in Dic):\n",
        "                if(Dic[graph[k-1][i][0]]>graph[k-1][i][1]+min):\n",
        "                    Dic[graph[k-1][i][0]]=graph[k-1][i][1]+min\n",
        "        Dic.pop(k)\n",
        "        l[k-1]=min\n",
        "\n",
        "    print(l)\n",
        "\n",
        "\n",
        "\n",
        "\n",
        "\n",
        "\n",
        "\n",
        "if name==\"main\":\n",
        "    g=Graph(9)\n",
        "    g.add_edge(1,2,4)\n",
        "    g.add_edge(1,8,8)\n",
        "    g.add_edge(2,3,8)\n",
        "    g.add_edge(2,8,11)\n",
        "    g.add_edge(3,4,7)\n",
        "    g.add_edge(3,6,4)\n",
        "    g.add_edge(3,9,2)\n",
        "    g.add_edge(4,5,9)\n",
        "    g.add_edge(4,6,14)\n",
        "    g.add_edge(5,6,10)\n",
        "    g.add_edge(6,7,2)\n",
        "    g.add_edge(7,9,6)\n",
        "    g.add_edge(8,9,7)\n",
        "    g.add_edge(8,7,1)\n",
        "    s=3\n",
        "    dijkstra(s,g.graph)"
      ]
    }
  ]
}