{
 "cells": [
  {
   "cell_type": "code",
   "execution_count": 16,
   "id": "d116ca96",
   "metadata": {},
   "outputs": [
    {
     "name": "stdout",
     "output_type": "stream",
     "text": [
      "[[(1, 2), (1, 3), (1, 10)], [(2, 1), (2, 4)], [(3, 1), (3, 7)], [(4, 2), (4, 5), (4, 7), (4, 8)], [(5, 4), (5, 6)], [(6, 5), (6, 10), (6, 9)], [(7, 3), (7, 4), (7, 11)], [(8, 4), (8, 9)], [(9, 6), (9, 8)], [(10, 1), (10, 6)], [(11, 7)]]\n",
      "1\n",
      "2\n",
      "4\n",
      "5\n",
      "6\n",
      "10\n",
      "9\n",
      "8\n",
      "7\n",
      "3\n",
      "11\n"
     ]
    }
   ],
   "source": [
    "def dfs(start, visit):\n",
    "    print(start)\n",
    "    visit[start - 1] = True\n",
    "\n",
    "    for n in graph[start - 1]:\n",
    "        if not visit[n[1] - 1]:\n",
    "            dfs(n[1], visit)\n",
    "\n",
    "    \n",
    "def create_graph(graph, src, dst):\n",
    "    graph[src - 1].append((src, dst))\n",
    "\n",
    "v = 11\n",
    "graph = [[] for _ in range(v)]\n",
    "\n",
    "for i in range(v):\n",
    "    graph[i] = []\n",
    "\n",
    "create_graph(graph,1,2)\n",
    "create_graph(graph,1,3)\n",
    "create_graph(graph,1,10)\n",
    "create_graph(graph,2,1)\n",
    "create_graph(graph,2,4)\n",
    "create_graph(graph,3,1)\n",
    "create_graph(graph,3,7)\n",
    "create_graph(graph,4,2)\n",
    "create_graph(graph,4,5)\n",
    "create_graph(graph,4,7)\n",
    "create_graph(graph,4,8)\n",
    "create_graph(graph,5,4)\n",
    "create_graph(graph,5,6)\n",
    "create_graph(graph,6,5)\n",
    "create_graph(graph,6,10)\n",
    "create_graph(graph,6,9)\n",
    "create_graph(graph,7,3)\n",
    "create_graph(graph,7,4)\n",
    "create_graph(graph,7,11)\n",
    "create_graph(graph,8,4)\n",
    "create_graph(graph,8,9)\n",
    "create_graph(graph,9,6)\n",
    "create_graph(graph,9,8)\n",
    "create_graph(graph,10,1)\n",
    "create_graph(graph,10,6)\n",
    "create_graph(graph,11,7)\n",
    "\n",
    "print(graph)\n",
    "\n",
    "visit = [False] * len(graph)\n",
    "dfs(1, visit)"
   ]
  },
  {
   "cell_type": "code",
   "execution_count": null,
   "id": "099728f8",
   "metadata": {},
   "outputs": [],
   "source": []
  }
 ],
 "metadata": {
  "kernelspec": {
   "display_name": "Python 3 (ipykernel)",
   "language": "python",
   "name": "python3"
  },
  "language_info": {
   "codemirror_mode": {
    "name": "ipython",
    "version": 3
   },
   "file_extension": ".py",
   "mimetype": "text/x-python",
   "name": "python",
   "nbconvert_exporter": "python",
   "pygments_lexer": "ipython3",
   "version": "3.11.3"
  }
 },
 "nbformat": 4,
 "nbformat_minor": 5
}
