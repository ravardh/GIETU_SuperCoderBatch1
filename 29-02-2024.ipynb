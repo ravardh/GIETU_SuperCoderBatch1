{
 "cells": [
  {
   "cell_type": "code",
   "execution_count": 2,
   "id": "2c51f9ac",
   "metadata": {},
   "outputs": [
    {
     "name": "stdout",
     "output_type": "stream",
     "text": [
      "10 \n",
      "9 14 \n",
      "5 12 17 \n",
      "2 7 15 \n",
      "3 8 "
     ]
    }
   ],
   "source": [
    "arr = [10, 14, 17, 9, 5, 15, 12, 7, 8, 2, 3]\n",
    "\n",
    "class TreeNode:\n",
    "    def __init__(self, data):\n",
    "        self.data = data\n",
    "        self.left = None\n",
    "        self.right = None\n",
    "\n",
    "def bst_insert(root, data):\n",
    "    if root is None:\n",
    "        return TreeNode(data)\n",
    "\n",
    "    if data < root.data:\n",
    "        root.left = bst_insert(root.left, data)\n",
    "        \n",
    "    elif data > root.data:\n",
    "        root.right = bst_insert(root.right, data)\n",
    "\n",
    "    return root\n",
    "\n",
    "def construct_bst(arr):\n",
    "    if not arr:\n",
    "        return None\n",
    "\n",
    "    root = TreeNode(arr[0])\n",
    "    for i in range(1, len(arr)):\n",
    "        root = bst_insert(root, arr[i])\n",
    "\n",
    "    return root\n",
    "\n",
    "def levelorder(root):\n",
    "    queue=[]\n",
    "    queue.append(root)\n",
    "    queue.append(None)\n",
    "    while len(queue)>1:\n",
    "        front=queue.pop(0)\n",
    "        if front is not None:\n",
    "            print(front.data,end=\" \")\n",
    "            if front.left!=None:\n",
    "                queue.append(front.left)\n",
    "            if front.right!=None:\n",
    "                queue.append(front.right)\n",
    "        else:\n",
    "            print()\n",
    "            queue.append(None)\n",
    "            \n",
    "root = construct_bst(arr)\n",
    "levelorder(root)"
   ]
  },
  {
   "cell_type": "code",
   "execution_count": null,
   "id": "2b2bec6e",
   "metadata": {},
   "outputs": [],
   "source": []
  }
 ],
 "metadata": {
  "kernelspec": {
   "display_name": "Python 3 (ipykernel)",
   "language": "python",
   "name": "python3"
  },
  "language_info": {
   "codemirror_mode": {
    "name": "ipython",
    "version": 3
   },
   "file_extension": ".py",
   "mimetype": "text/x-python",
   "name": "python",
   "nbconvert_exporter": "python",
   "pygments_lexer": "ipython3",
   "version": "3.10.9"
  }
 },
 "nbformat": 4,
 "nbformat_minor": 5
}
