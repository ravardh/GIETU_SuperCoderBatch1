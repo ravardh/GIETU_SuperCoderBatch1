{
 "cells": [
  {
   "cell_type": "markdown",
   "id": "d83a8464",
   "metadata": {},
   "source": [
    "# Graph Traversal"
   ]
  },
  {
   "cell_type": "markdown",
   "id": "0588e30e",
   "metadata": {},
   "source": [
    "BFS algo in pyhton"
   ]
  },
  {
   "cell_type": "code",
   "execution_count": null,
   "id": "57843880",
   "metadata": {},
   "outputs": [],
   "source": [
    "aList = [[]]*5\n",
    "\n",
    "print(aList)\n",
    "\n",
    "def add(s, d, aList):\n",
    "    aList[s].append(d)\n",
    "\n",
    "def dfs(node, aList, visited):\n",
    "    if node not in visited:\n",
    "        print(node, end=\" \")\n",
    "        visited.add(node)\n",
    "        for neighbor in aList[node]:\n",
    "            dfs(neighbor, aList, visited)\n",
    "\n",
    "def dfs_traversal(start, aList):\n",
    "    visited = set()\n",
    "    dfs(start, aList, visited)\n",
    "\n",
    "add(0, 1, aList)\n",
    "add(0, 3, aList)\n",
    "add(0, 4, aList)\n",
    "add(1, 0, aList)\n",
    "add(1, 2, aList)\n",
    "add(2, 1, aList)\n",
    "add(2, 4, aList)\n",
    "add(3, 0, aList)\n",
    "add(4, 0, aList)\n",
    "add(4, 2, aList)\n",
    "\n",
    "print(\"DFS starting from node 0:\")\n",
    "dfs_traversal(0, aList)\n",
    "print(aList)\n"
   ]
  },
  {
   "cell_type": "markdown",
   "id": "cc8e878a",
   "metadata": {},
   "source": [
    "\n",
    "DFS algo in pyhton"
   ]
  },
  {
   "cell_type": "code",
   "execution_count": null,
   "id": "0e93ddb8",
   "metadata": {},
   "outputs": [],
   "source": [
    "aList = [[]]*5\n",
    "\n",
    "print(aList)\n",
    "\n",
    "def add(s, d, aList):\n",
    "    aList[s].append(d)\n",
    "\n",
    "def bfs(s, aList):\n",
    "    queue = list()\n",
    "    visited = set()\n",
    "    queue.append(s)\n",
    "\n",
    "    while queue:\n",
    "        i = queue.pop(0)  # Fix: Pop from the front of the queue\n",
    "        if i not in visited:\n",
    "            print(i, end=\" \")\n",
    "            visited.add(i)\n",
    "            for j in aList[i]:\n",
    "                queue.append(j)\n",
    "\n",
    "add(0, 1, aList)\n",
    "add(0, 3, aList)\n",
    "add(0, 4, aList)\n",
    "add(1, 0, aList)\n",
    "add(1, 2, aList)\n",
    "add(2, 1, aList)\n",
    "add(2, 4, aList)\n",
    "add(3, 0, aList)\n",
    "add(4, 0, aList)\n",
    "add(4, 2, aList)\n",
    "\n",
    "bfs(0, aList)\n",
    "print(aList)\n",
    "\n"
   ]
  },
  {
   "cell_type": "code",
   "execution_count": null,
   "id": "65e6e778",
   "metadata": {},
   "outputs": [],
   "source": []
  }
 ],
 "metadata": {
  "kernelspec": {
   "display_name": "Python 3 (ipykernel)",
   "language": "python",
   "name": "python3"
  },
  "language_info": {
   "codemirror_mode": {
    "name": "ipython",
    "version": 3
   },
   "file_extension": ".py",
   "mimetype": "text/x-python",
   "name": "python",
   "nbconvert_exporter": "python",
   "pygments_lexer": "ipython3",
   "version": "3.10.9"
  }
 },
 "nbformat": 4,
 "nbformat_minor": 5
}
