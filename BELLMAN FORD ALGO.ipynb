{
 "cells": [
  {
   "cell_type": "code",
   "execution_count": 1,
   "id": "0d8f1826",
   "metadata": {},
   "outputs": [],
   "source": [
    "class Graph:\n",
    "    def __init__(self,vertices):\n",
    "        self.V=vertices\n",
    "        self.graph=[]\n",
    "    def edge(self,s,d,w):\n",
    "        self.graph.append([s,d,w])\n",
    "        \n",
    "    def bellman_ford(self, source):\n",
    "        distance = [float(\"inf\")] * self.V\n",
    "        distance[source] = 0\n",
    "        \n",
    "        for _ in range(self.V - 1):\n",
    "            for s, d, w in self.graph:\n",
    "                if distance[s] != float(\"inf\") and distance[s] + w < distance[d]:\n",
    "                    distance[d] = distance[s] + w\n",
    "        \n",
    "        for s, d, w in self.graph:\n",
    "            if distance[s] != float(\"inf\") and distance[s] + w < distance[d]:\n",
    "                print(\"Graph contains a negative cycle\")\n",
    "                return\n",
    "        for i in range(self.V):\n",
    "            print(f\"Vertex {i}: Distance from source = {distance[i]}\")\n",
    "            \n",
    "\n",
    "            \n",
    "g = Graph(6)\n",
    "g.edge(1, 6, 2)\n",
    "g.edge(1,5,3)\n",
    "g.edge(1,5,4)\n",
    "g.edge(3,-1,2)\n",
    "g.edge(2, 3, 1)\n",
    "g.edge(3, 4, -6)\n",
    "\n"
   ]
  },
  {
   "cell_type": "code",
   "execution_count": null,
   "id": "d46887aa",
   "metadata": {},
   "outputs": [],
   "source": []
  }
 ],
 "metadata": {
  "kernelspec": {
   "display_name": "Python 3 (ipykernel)",
   "language": "python",
   "name": "python3"
  },
  "language_info": {
   "codemirror_mode": {
    "name": "ipython",
    "version": 3
   },
   "file_extension": ".py",
   "mimetype": "text/x-python",
   "name": "python",
   "nbconvert_exporter": "python",
   "pygments_lexer": "ipython3",
   "version": "3.11.3"
  }
 },
 "nbformat": 4,
 "nbformat_minor": 5
}
