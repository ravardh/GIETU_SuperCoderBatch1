{
 "cells": [
  {
   "cell_type": "code",
   "execution_count": 1,
   "id": "e0aa6b4f",
   "metadata": {},
   "outputs": [
    {
     "name": "stdout",
     "output_type": "stream",
     "text": [
      "[[], [], [], [], []]\n",
      "DFS starting from node 0:\n",
      "0 1 3 4 2 [[1, 3, 4, 0, 2, 1, 4, 0, 0, 2], [1, 3, 4, 0, 2, 1, 4, 0, 0, 2], [1, 3, 4, 0, 2, 1, 4, 0, 0, 2], [1, 3, 4, 0, 2, 1, 4, 0, 0, 2], [1, 3, 4, 0, 2, 1, 4, 0, 0, 2]]\n"
     ]
    }
   ],
   "source": [
    "aList = [[]]*5\n",
    "\n",
    "print(aList)\n",
    "\n",
    "def add(s, d, aList):\n",
    "    aList[s].append(d)\n",
    "\n",
    "def dfs(node, aList, visited):\n",
    "    if node not in visited:\n",
    "        print(node, end=\" \")\n",
    "        visited.add(node)\n",
    "        for neighbor in aList[node]:\n",
    "            dfs(neighbor, aList, visited)\n",
    "\n",
    "def dfs_traversal(start, aList):\n",
    "    visited = set()\n",
    "    dfs(start, aList, visited)\n",
    "\n",
    "add(0, 1, aList)\n",
    "add(0, 3, aList)\n",
    "add(0, 4, aList)\n",
    "add(1, 0, aList)\n",
    "add(1, 2, aList)\n",
    "add(2, 1, aList)\n",
    "add(2, 4, aList)\n",
    "add(3, 0, aList)\n",
    "add(4, 0, aList)\n",
    "add(4, 2, aList)\n",
    "\n",
    "print(\"DFS starting from node 0:\")\n",
    "dfs_traversal(0, aList)\n",
    "print(aList)\n"
   ]
  },
  {
   "cell_type": "code",
   "execution_count": null,
   "id": "04a253b8",
   "metadata": {},
   "outputs": [],
   "source": []
  }
 ],
 "metadata": {
  "kernelspec": {
   "display_name": "Python 3 (ipykernel)",
   "language": "python",
   "name": "python3"
  },
  "language_info": {
   "codemirror_mode": {
    "name": "ipython",
    "version": 3
   },
   "file_extension": ".py",
   "mimetype": "text/x-python",
   "name": "python",
   "nbconvert_exporter": "python",
   "pygments_lexer": "ipython3",
   "version": "3.10.9"
  }
 },
 "nbformat": 4,
 "nbformat_minor": 5
}
