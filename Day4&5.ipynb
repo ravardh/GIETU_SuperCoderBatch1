{
 "cells": [
  {
   "cell_type": "code",
   "execution_count": 2,
   "id": "600c4edc",
   "metadata": {},
   "outputs": [
    {
     "name": "stdout",
     "output_type": "stream",
     "text": [
      "Maximum sum of 3 consecutive terms: 24\n"
     ]
    }
   ],
   "source": [
    "#maximum sum of three consecutives \n",
    "\n",
    "arr = [5, 4, 2, 6, 3, 8, 9, 7, 4, 7, 3, 6, 9, 8, 2, 4, 6, 8, 6, 2, 3, 4, 5, 1, 4, 2]\n",
    "\n",
    "# Calculate the sum of 3 consecutive terms and store them in a list\n",
    "sum_of_3 = [sum(arr[i:i+3]) for i in range(len(arr)-2)]\n",
    "\n",
    "# Find the maximum value in the list of sums\n",
    "max_sum_of_3 = max(sum_of_3)\n",
    "\n",
    "print(\"Maximum sum of 3 consecutive terms:\",max_sum_of_3)"
   ]
  },
  {
   "cell_type": "code",
   "execution_count": 7,
   "id": "cfed4f74",
   "metadata": {},
   "outputs": [
    {
     "name": "stdout",
     "output_type": "stream",
     "text": [
      "enter the value of window: 5\n",
      "33\n"
     ]
    }
   ],
   "source": [
    "\n",
    "#sliding window\n",
    "arr = [1, 3, 5, 2, 7, 4, 8, 9, 5, 3, 5, 7, 9, 3, 2, 0]\n",
    "k = int(input(\"enter the value of window: \"))\n",
    "sum = 0\n",
    "max = 0\n",
    "for i in range(k):\n",
    "    sum = sum+arr[i]\n",
    "max = sum\n",
    "for i in range(k, len(arr)):\n",
    "    sum = sum-arr[i-k]+arr[i]\n",
    "    if (sum > max):\n",
    "        max = sum\n",
    "print(max)\n",
    "     "
   ]
  },
  {
   "cell_type": "code",
   "execution_count": 6,
   "id": "011274d6",
   "metadata": {},
   "outputs": [
    {
     "name": "stdout",
     "output_type": "stream",
     "text": [
      "Pattern found at positions: [3, 10, 16]\n"
     ]
    }
   ],
   "source": [
    "#kmp algorithm\n",
    "\n",
    "text = \"ABAABABCABABABCAABABCABAC\"\n",
    "pattern = \"ABABC\"\n",
    "\n",
    "failure = [0]\n",
    "for i in range(1, len(pattern)):\n",
    "    j = failure[-1]\n",
    "    while j > 0 and pattern[i] != pattern[j]:\n",
    "        j = failure[j - 1]\n",
    "    failure.append(j + (pattern[i] == pattern[j]))\n",
    "\n",
    "matches = [i for i in range(len(text)) if text[i:i+len(pattern)] == pattern]\n",
    "\n",
    "if matches:\n",
    "    print(\"Pattern found at positions:\", matches)\n",
    "else:\n",
    "    print(\"Pattern not found in the text.\")\n",
    "\n"
   ]
  },
  {
   "cell_type": "code",
   "execution_count": null,
   "id": "ea4dd708",
   "metadata": {},
   "outputs": [],
   "source": []
  }
 ],
 "metadata": {
  "kernelspec": {
   "display_name": "Python 3 (ipykernel)",
   "language": "python",
   "name": "python3"
  },
  "language_info": {
   "codemirror_mode": {
    "name": "ipython",
    "version": 3
   },
   "file_extension": ".py",
   "mimetype": "text/x-python",
   "name": "python",
   "nbconvert_exporter": "python",
   "pygments_lexer": "ipython3",
   "version": "3.10.9"
  }
 },
 "nbformat": 4,
 "nbformat_minor": 5
}
