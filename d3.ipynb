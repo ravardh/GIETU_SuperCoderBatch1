{
 "cells": [
  {
   "cell_type": "code",
   "execution_count": 2,
   "metadata": {},
   "outputs": [
    {
     "name": "stdout",
     "output_type": "stream",
     "text": [
      "{1: 'dog', 2: 'cat'}\n",
      "<class 'dict'>\n",
      "{1: 'dog', 2: 'cat', 3: 'monkey'}\n",
      "1\n",
      "2\n",
      "3\n",
      "dog\n",
      "cat\n",
      "monkey\n",
      "Enter any key :1\n",
      "dog\n"
     ]
    }
   ],
   "source": [
    "d = {1:\"dog\", 2:\"cat\"}\n",
    "print(d)\n",
    "print(type(d))\n",
    "\n",
    "d.update({3:\"monkey\"})\n",
    "print(d)\n",
    "\n",
    "for x in d.keys():\n",
    "    print(x)\n",
    "for x in d.values():\n",
    "    print(x)\n",
    "\n",
    "s = int(input(\"Enter any key :\"))\n",
    "try:\n",
    "    print(d[s])\n",
    "except KeyError:\n",
    "    print(\"Key value is not present.\")"
   ]
  },
  {
   "cell_type": "code",
   "execution_count": 3,
   "metadata": {},
   "outputs": [
    {
     "name": "stdout",
     "output_type": "stream",
     "text": [
      "Enter any key :1\n",
      "dog\n"
     ]
    }
   ],
   "source": [
    "s = int(input(\"Enter any key :\"))\n",
    "try:\n",
    "    print(d[s])\n",
    "except KeyError:\n",
    "    print(\"Key value is not present.\")"
   ]
  },
  {
   "cell_type": "code",
   "execution_count": 5,
   "metadata": {},
   "outputs": [
    {
     "name": "stdout",
     "output_type": "stream",
     "text": [
      "enter the key:2\n",
      "cat\n",
      "code executed\n"
     ]
    }
   ],
   "source": [
    "d = {1:\"dog\", 2:\"cat\",3:\"monkey\"}\n",
    "s=int(input(\"enter the key:\"))\n",
    "try:\n",
    "    print(d[s])\n",
    "except:\n",
    "    print(\"key not available\")\n",
    "finally:\n",
    "    print(\"code executed\")"
   ]
  },
  {
   "cell_type": "code",
   "execution_count": 18,
   "metadata": {},
   "outputs": [
    {
     "name": "stdout",
     "output_type": "stream",
     "text": [
      "Before sorting array elements are - \n",
      "[95, 16, 99, 56, 26]\n",
      "After sorting array elements are - \n",
      "[16, 26, 56, 95, 99]\n"
     ]
    }
   ],
   "source": [
    "#bubble sort\n",
    "a = [95, 16, 99, 56, 26]    \n",
    "print(\"Before sorting array elements are - \")  \n",
    "print(a)\n",
    "for i in range(0,len(a)):    \n",
    "    for j in range(i+1,len(a)):    \n",
    "        if a[j]<a[i]:    \n",
    "            temp = a[j]    \n",
    "            a[j]=a[i]    \n",
    "            a[i]=temp    \n",
    "print(\"After sorting array elements are - \")    \n",
    "print(a)"
   ]
  },
  {
   "cell_type": "code",
   "execution_count": 1,
   "metadata": {},
   "outputs": [
    {
     "name": "stdout",
     "output_type": "stream",
     "text": [
      "Before sorting array elements are - \n",
      "[95, 16, 99, 56, 26]\n",
      "After sorting array elements are - \n",
      "[16, 26, 56, 95, 99]\n"
     ]
    }
   ],
   "source": [
    "#insertion sort\n",
    "a = [95, 16, 99, 56, 26]    \n",
    "print(\"Before sorting array elements are - \")  \n",
    "print(a)\n",
    "for step in range(1, len(a)):\n",
    "        key = a[step]\n",
    "        j = step - 1      \n",
    "        while j >= 0 and key < a[j]:\n",
    "            a[j + 1] = a[j]\n",
    "            j = j - 1\n",
    "        a[j + 1] = key\n",
    "print(\"After sorting array elements are - \")          \n",
    "print(a)        "
   ]
  },
  {
   "cell_type": "code",
   "execution_count": 3,
   "metadata": {},
   "outputs": [
    {
     "name": "stdout",
     "output_type": "stream",
     "text": [
      "Before sorting array elements are - \n",
      "[95, 16, 99, 56, 26]\n",
      "After sorting array elements are - \n",
      "[16, 26, 56, 95, 99]\n"
     ]
    }
   ],
   "source": [
    "#selection sort\n",
    "a = [95, 16, 99, 56, 26]\n",
    "size=len(a)\n",
    "print(\"Before sorting array elements are - \")  \n",
    "print(a)\n",
    "for step in range(size):\n",
    "        min_idx = step\n",
    "        for i in range(step + 1, size):\n",
    "         \n",
    "            if a[i] < a[min_idx]:\n",
    "                min_idx = i\n",
    "         \n",
    "        (a[step], a[min_idx]) = (a[min_idx], a[step])\n",
    "print(\"After sorting array elements are - \")        \n",
    "print(a)        "
   ]
  },
  {
   "cell_type": "code",
   "execution_count": null,
   "metadata": {},
   "outputs": [],
   "source": []
  }
 ],
 "metadata": {
  "kernelspec": {
   "display_name": "Python 3",
   "language": "python",
   "name": "python3"
  },
  "language_info": {
   "codemirror_mode": {
    "name": "ipython",
    "version": 3
   },
   "file_extension": ".py",
   "mimetype": "text/x-python",
   "name": "python",
   "nbconvert_exporter": "python",
   "pygments_lexer": "ipython3",
   "version": "3.8.5"
  }
 },
 "nbformat": 4,
 "nbformat_minor": 4
}
