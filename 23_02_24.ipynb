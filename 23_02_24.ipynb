{
  "nbformat": 4,
  "nbformat_minor": 0,
  "metadata": {
    "colab": {
      "provenance": []
    },
    "kernelspec": {
      "name": "python3",
      "display_name": "Python 3"
    },
    "language_info": {
      "name": "python"
    }
  },
  "cells": [
    {
      "cell_type": "markdown",
      "source": [
        "# Quick Sort"
      ],
      "metadata": {
        "id": "JzwU_8qDE7zE"
      }
    },
    {
      "cell_type": "code",
      "execution_count": 1,
      "metadata": {
        "colab": {
          "base_uri": "https://localhost:8080/"
        },
        "id": "5QZtQXGIBzca",
        "outputId": "d5dd6075-487b-4b0e-cb7b-fc37518356a9"
      },
      "outputs": [
        {
          "output_type": "stream",
          "name": "stdout",
          "text": [
            "Sorted Array in Ascending Order:\n",
            "[-2, 1, 1, 4, 7, 9, 10]\n"
          ]
        }
      ],
      "source": [
        "def quicksort(arr):\n",
        "\tif len(arr) <= 1:\n",
        "\t\treturn arr\n",
        "\telse:\n",
        "\t\tpivot = arr[0]\n",
        "\t\tleft = [x for x in arr[1:] if x < pivot] # list compression\n",
        "\t\tright = [x for x in arr[1:] if x >= pivot]\n",
        "\t\treturn quicksort(left) + [pivot] + quicksort(right)\n",
        "\n",
        "arr = [1, 7, 4, 1, 10, 9, -2]\n",
        "sorted_arr = quicksort(arr)\n",
        "print(\"Sorted Array in Ascending Order:\")\n",
        "print(sorted_arr)\n"
      ]
    },
    {
      "cell_type": "code",
      "source": [
        "def find(a,s,e):\n",
        "    p=a[e]\n",
        "    i=s\n",
        "    j=s-1\n",
        "    for i in range(s,e):\n",
        "        if(a[i]<p):\n",
        "            j=j+1\n",
        "            a[i],a[j]=a[j],a[i]\n",
        "    j=j+1\n",
        "    a[j],a[e]=a[e],a[j]\n",
        "    return j\n",
        "\n",
        "def quicksort(a,s,e):\n",
        "    if s<e:\n",
        "        pi=find(a,s,e)\n",
        "        quicksort(a, s, pi-1)  # Recursive call for the left subarray\n",
        "        quicksort(a, pi+1, e)\n",
        "\n",
        "\n",
        "if __name__==\"__main__\":\n",
        "    a=[4,8,5,3,7,2,9,1]\n",
        "    quicksort(a,0,len(a)-1)\n",
        "    print(a)"
      ],
      "metadata": {
        "colab": {
          "base_uri": "https://localhost:8080/"
        },
        "id": "v9azJK72c74h",
        "outputId": "ff146030-3942-416d-c4b2-039672a3a20c"
      },
      "execution_count": 11,
      "outputs": [
        {
          "output_type": "stream",
          "name": "stdout",
          "text": [
            "[1, 2, 3, 4, 5, 7, 8, 9]\n"
          ]
        }
      ]
    },
    {
      "cell_type": "markdown",
      "source": [
        "# Merge Sort"
      ],
      "metadata": {
        "id": "jI11mt2HFVBc"
      }
    },
    {
      "cell_type": "code",
      "source": [
        "# Merge sort uses divide & conquer\n",
        "def mergeSort(A):\n",
        "    if len(A) < 2:\n",
        "        return A\n",
        "    mid = int(len(A) / 2)\n",
        "    left = mergeSort(A[:mid])\n",
        "    right = mergeSort(A[mid:])\n",
        "\n",
        "    r, l = 0, 0\n",
        "    B = []\n",
        "\n",
        "    while len(B) < len(A):\n",
        "        if r >= len(right) or (l < mid and left[l] < right[r]):\n",
        "            B.append(left[l])\n",
        "            l += 1\n",
        "        elif r < len(right):\n",
        "            B.append(right[r])\n",
        "            r += 1\n",
        "\n",
        "    return B\n",
        "\n",
        "A = input(\"Enter a list of elements for sorting separated by commas: \")\n",
        "A = [int(x) for x in A.split(\" \")]\n",
        "print(mergeSort(A))"
      ],
      "metadata": {
        "colab": {
          "base_uri": "https://localhost:8080/"
        },
        "id": "WTllydwNCLqd",
        "outputId": "34034a01-bd85-4f34-9f88-ff252e2a1498"
      },
      "execution_count": 13,
      "outputs": [
        {
          "output_type": "stream",
          "name": "stdout",
          "text": [
            "Enter a list of elements for sorting separated by commas: 1 2 3 4 0\n",
            "[0, 1, 2, 3, 4]\n"
          ]
        }
      ]
    },
    {
      "cell_type": "markdown",
      "source": [
        "# Sum of three conjuctive sum and find maximum sum and find their index"
      ],
      "metadata": {
        "id": "yd6dkN5rODAn"
      }
    },
    {
      "cell_type": "code",
      "source": [
        "ar = [5,4,2,6,3,8,9,7,4,7,3,6,9,8,2,4,6,8,6,2,3,4,5,1,4,2]\n",
        "\n",
        "max_sum = 0\n",
        "max_indices = None\n",
        "\n",
        "for i in range(len(ar) - 2):\n",
        "    current_sum = ar[i] + ar[i+1] + ar[i+2]\n",
        "    if current_sum > max_sum:\n",
        "        max_sum = current_sum\n",
        "        max_indices = [i, i+1, i+2]\n",
        "\n",
        "print(\"Maximum sum of three consecutive numbers:\", max_sum)\n",
        "print(\"Indices of the numbers with maximum sum:\", max_indices)\n"
      ],
      "metadata": {
        "colab": {
          "base_uri": "https://localhost:8080/"
        },
        "id": "5TCZsA5SOSV5",
        "outputId": "e5dc6fd6-6905-411e-fbdf-4ec96c3d279d"
      },
      "execution_count": 3,
      "outputs": [
        {
          "output_type": "stream",
          "name": "stdout",
          "text": [
            "Maximum sum of three consecutive numbers: 24\n",
            "Indices of the numbers with maximum sum: [5, 6, 7]\n"
          ]
        }
      ]
    },
    {
      "cell_type": "code",
      "source": [
        "# Get user input for the list of numbers and no of consecutive terms\n",
        "ar = [int(x) for x in input(\"Enter a list of numbers separated by spaces: \").split()]\n",
        "n = int(input(\"Enter the number of consecutive terms to consider: \"))\n",
        "\n",
        "max_sum = 0\n",
        "max_indices = None\n",
        "\n",
        "for i in range(len(ar) - n + 1):\n",
        "    current_sum = sum(ar[i:i+n])\n",
        "    if current_sum > max_sum:\n",
        "        max_sum = current_sum\n",
        "        max_indices = list(range(i, i+n))\n",
        "\n",
        "print(\"Maximum sum of\", n, \"consecutive numbers:\", max_sum)\n",
        "print(\"Indices of the numbers with maximum sum:\", max_indices)\n"
      ],
      "metadata": {
        "colab": {
          "base_uri": "https://localhost:8080/"
        },
        "id": "vfwC9VsBQZ-a",
        "outputId": "764fbb4c-76cf-4659-dcce-176136403291"
      },
      "execution_count": 9,
      "outputs": [
        {
          "output_type": "stream",
          "name": "stdout",
          "text": [
            "Enter a list of numbers separated by spaces: 1 2 3 4 5\n",
            "Enter the number of consecutive terms to consider: 3\n",
            "Maximum sum of 3 consecutive numbers: 12\n",
            "Indices of the numbers with maximum sum: [2, 3, 4]\n"
          ]
        }
      ]
    },
    {
      "cell_type": "code",
      "source": [
        "ar = [int(x) for x in input(\"Enter a list of numbers separated by spaces: \").split()]\n",
        "n = int(input(\"Enter the number of consecutive terms to consider: \"))\n",
        "\n",
        "max_sum = 0\n",
        "max_indices = None\n",
        "\n",
        "# Initialize the window sum and indices\n",
        "window_sum = sum(ar[:n])\n",
        "window_indices = list(range(n))\n",
        "\n",
        "# Iterate through the array using the sliding window technique\n",
        "for i in range(n, len(ar)):\n",
        "    # Update the window sum by removing the first element and adding the next element\n",
        "    window_sum = window_sum - ar[i-n] + ar[i]\n",
        "\n",
        "    # Update the window indices\n",
        "    window_indices = window_indices[1:] + [i]\n",
        "\n",
        "    # Update the maximum sum and indices if necessary\n",
        "    if window_sum > max_sum:\n",
        "        max_sum = window_sum\n",
        "        max_indices = window_indices\n",
        "\n",
        "print(\"Maximum sum of\", n, \"consecutive numbers:\", max_sum)\n",
        "print(\"Indices of the numbers with maximum sum:\", max_indices)"
      ],
      "metadata": {
        "colab": {
          "base_uri": "https://localhost:8080/"
        },
        "id": "c5AHX7LtU_4h",
        "outputId": "7accac1b-406a-4cd1-b247-9a7d477d2e0f"
      },
      "execution_count": 10,
      "outputs": [
        {
          "output_type": "stream",
          "name": "stdout",
          "text": [
            "Enter a list of numbers separated by spaces: 1 2 3 4 5\n",
            "Enter the number of consecutive terms to consider: 3\n",
            "Maximum sum of 3 consecutive numbers: 12\n",
            "Indices of the numbers with maximum sum: [2, 3, 4]\n"
          ]
        }
      ]
    },
    {
      "cell_type": "code",
      "source": [],
      "metadata": {
        "id": "XHTOq491YJcz"
      },
      "execution_count": null,
      "outputs": []
    }
  ]
}