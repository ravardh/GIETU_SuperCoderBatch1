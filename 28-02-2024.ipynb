{
 "cells": [
  {
   "cell_type": "code",
   "execution_count": 6,
   "id": "6ef99e51",
   "metadata": {},
   "outputs": [
    {
     "name": "stdout",
     "output_type": "stream",
     "text": [
      "The left view of the tree is: \n",
      "9\n",
      "7\n",
      "6\n",
      "5\n",
      "17\n",
      "The right view of the tree is: \n",
      "9\n",
      "1\n",
      "2\n",
      "12\n",
      "17\n"
     ]
    }
   ],
   "source": [
    "#Left AND Right View of Binary Tree\n",
    "class TreeNode:\n",
    "    def __init__(self, data):\n",
    "        self.data = data\n",
    "        self.left = None\n",
    "        self.right = None\n",
    "        self.key = 0\n",
    "\n",
    "def leftView(root):\n",
    "    q = []\n",
    "    q.append(root)\n",
    "    q.append(None)\n",
    "    print(root.data)\n",
    "    while len(q) > 1:\n",
    "        curr = q.pop(0)\n",
    "        if curr != None:\n",
    "            if curr.left:\n",
    "                q.append(curr.left)\n",
    "            if curr.right:\n",
    "                q.append(curr.right)\n",
    "        if curr == None:\n",
    "            print(q[0].data)\n",
    "            q.append(None)\n",
    "\n",
    "def rightView(root):\n",
    "    q = []\n",
    "    q.append(root)\n",
    "    q.append(None)\n",
    "    print(root.data)\n",
    "    while len(q) > 1:\n",
    "        curr = q.pop(0)\n",
    "        if curr != None:\n",
    "            if curr.left:\n",
    "                q.append(curr.left)\n",
    "            if curr.right:\n",
    "                q.append(curr.right)\n",
    "        if curr == None:\n",
    "            print(q[len(q)-1].data)\n",
    "            q.append(None)           \n",
    "\n",
    "root = TreeNode(9)\n",
    "root.left = TreeNode(7)\n",
    "root.right = TreeNode(1)\n",
    "root.left.left = TreeNode(6)\n",
    "root.left.right = TreeNode(4)\n",
    "root.right.left = TreeNode(3)\n",
    "root.right.right = TreeNode(2)\n",
    "root.left.left.right = TreeNode(5)\n",
    "root.right.left.left = TreeNode(10)\n",
    "root.right.left.right = TreeNode(12)\n",
    "root.right.left.right.right = TreeNode(17)\n",
    "\n",
    "print(\"The left view of the tree is: \")\n",
    "leftView(root)\n",
    "\n",
    "print(\"The right view of the tree is: \")\n",
    "rightView(root)\n"
   ]
  },
  {
   "cell_type": "code",
   "execution_count": null,
   "id": "2b2bec6e",
   "metadata": {},
   "outputs": [],
   "source": []
  }
 ],
 "metadata": {
  "kernelspec": {
   "display_name": "Python 3 (ipykernel)",
   "language": "python",
   "name": "python3"
  },
  "language_info": {
   "codemirror_mode": {
    "name": "ipython",
    "version": 3
   },
   "file_extension": ".py",
   "mimetype": "text/x-python",
   "name": "python",
   "nbconvert_exporter": "python",
   "pygments_lexer": "ipython3",
   "version": "3.10.9"
  }
 },
 "nbformat": 4,
 "nbformat_minor": 5
}
