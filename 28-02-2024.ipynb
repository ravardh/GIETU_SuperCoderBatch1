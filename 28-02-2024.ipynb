{
 "cells": [
  {
   "cell_type": "code",
   "execution_count": null,
   "id": "bccf9e92",
   "metadata": {},
   "outputs": [],
   "source": [
    "#left view\n",
    "class Node:\n",
    "    def __init__(self,info):\n",
    "        self.data = info\n",
    "        self.left = None\n",
    "        self.right = None\n",
    "root=Node(20) \n",
    "root.left =Node(32)\n",
    "root.right=Node(20) \n",
    "\n",
    "root.left.left =Node(15)\n",
    "root.left.right =Node(12)\n",
    "root.right.left=Node(8) \n",
    "root.right.right=Node(24)\n",
    "def leftView(root):\n",
    "    queue=[]\n",
    "    queue.append(root)\n",
    "    queue.append(None)\n",
    "    print(queue[0].data)\n",
    "    while len(queue)>1:\n",
    "        front=queue.pop(0)\n",
    "        if front is not None:\n",
    "#             print(front.data,end=\" \")\n",
    "            if front.left!=None:\n",
    "                queue.append(front.left)\n",
    "            if front.right!=None:\n",
    "                queue.append(front.right)\n",
    "        else:\n",
    "            print(queue[0].data)\n",
    "            queue.append(None)\n",
    "            \n",
    "leftView(root)            \n",
    "            "
   ]
  },
  {
   "cell_type": "code",
   "execution_count": null,
   "id": "c170a837",
   "metadata": {},
   "outputs": [],
   "source": [
    "class Node:\n",
    "    def __init__(self,info):\n",
    "        self.data = info\n",
    "        self.left = None\n",
    "        self.right = None\n",
    "root=Node(20) \n",
    "root.left =Node(32)\n",
    "root.right=Node(20) \n",
    "\n",
    "root.left.left =Node(15)\n",
    "root.left.right =Node(12)\n",
    "root.right.left=Node(8) \n",
    "root.right.right=Node(24)\n",
    "def rightView(root):\n",
    "    queue=[]\n",
    "    queue.append(root)\n",
    "    queue.append(None)\n",
    "    print(queue[0].data)\n",
    "    while len(queue)>1:\n",
    "        front=queue.pop(0)\n",
    "        if front is not None:\n",
    "#             print(front.data,end=\" \")\n",
    "            \n",
    "            if front.right!=None:\n",
    "                queue.append(front.right)\n",
    "            if front.left!=None:\n",
    "                queue.append(front.left)    \n",
    "        else:\n",
    "            print(queue[0].data)\n",
    "            queue.append(None)\n",
    "rightView(root)            "
   ]
  },
  {
   "cell_type": "code",
   "execution_count": 4,
   "id": "f79dd1e5",
   "metadata": {},
   "outputs": [
    {
     "ename": "AttributeError",
     "evalue": "'NoneType' object has no attribute 'data'",
     "output_type": "error",
     "traceback": [
      "\u001b[1;31m---------------------------------------------------------------------------\u001b[0m",
      "\u001b[1;31mAttributeError\u001b[0m                            Traceback (most recent call last)",
      "Input \u001b[1;32mIn [4]\u001b[0m, in \u001b[0;36m<cell line: 27>\u001b[1;34m()\u001b[0m\n\u001b[0;32m     25\u001b[0m root\u001b[38;5;241m=\u001b[39mNode(\u001b[38;5;241m12\u001b[39m)\n\u001b[0;32m     26\u001b[0m insert(root,\u001b[38;5;241m45\u001b[39m)\n\u001b[1;32m---> 27\u001b[0m \u001b[38;5;28mprint\u001b[39m(\u001b[43mroot\u001b[49m\u001b[38;5;241;43m.\u001b[39;49m\u001b[43mright\u001b[49m\u001b[38;5;241;43m.\u001b[39;49m\u001b[43mdata\u001b[49m)\n",
      "\u001b[1;31mAttributeError\u001b[0m: 'NoneType' object has no attribute 'data'"
     ]
    }
   ],
   "source": [
    "#creation of BST\n",
    "\n",
    "\n",
    "class Node:\n",
    "    def __init__(self,info):\n",
    "        self.data = info\n",
    "        self.left = None\n",
    "        self.right = None\n",
    "\n",
    "def insert(root,val):\n",
    "    if root\n",
    "  \n",
    "\n",
    "                \n",
    "root=Node(12)\n",
    "insert(root,45)\n",
    "print(root.right.data)\n"
   ]
  },
  {
   "cell_type": "code",
   "execution_count": null,
   "id": "3520fcf5",
   "metadata": {},
   "outputs": [],
   "source": []
  }
 ],
 "metadata": {
  "kernelspec": {
   "display_name": "Python 3 (ipykernel)",
   "language": "python",
   "name": "python3"
  },
  "language_info": {
   "codemirror_mode": {
    "name": "ipython",
    "version": 3
   },
   "file_extension": ".py",
   "mimetype": "text/x-python",
   "name": "python",
   "nbconvert_exporter": "python",
   "pygments_lexer": "ipython3",
   "version": "3.9.12"
  }
 },
 "nbformat": 4,
 "nbformat_minor": 5
}
