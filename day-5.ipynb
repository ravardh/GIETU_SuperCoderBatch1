{
 "cells": [
  {
   "cell_type": "code",
   "execution_count": 1,
   "id": "968f168f",
   "metadata": {},
   "outputs": [
    {
     "name": "stdout",
     "output_type": "stream",
     "text": [
      "[4, 7, 8, 9]\n"
     ]
    }
   ],
   "source": [
    "#quick_sort->pivot element,small-pivot-greater(swap)\n",
    "def find(ar, s, e):\n",
    "    p = ar[e]\n",
    "    j = s - 1\n",
    "    for i in range(s, e):\n",
    "        if ar[i] < p:\n",
    "            j = j + 1\n",
    "            ar[i], ar[j] = ar[j], ar[i]\n",
    "    ar[j + 1], ar[e] = ar[e], ar[j + 1]\n",
    "    return j + 1\n",
    "def QuickSort(ar, s, e):\n",
    "    if s < e:\n",
    "        pi = find(ar, s, e)\n",
    "        QuickSort(ar, s, pi - 1)\n",
    "        QuickSort(ar, pi + 1, e)\n",
    "if __name__ == '__main__':\n",
    "    ar = [4, 9, 8, 7]\n",
    "    QuickSort(ar, 0, len(ar) - 1)\n",
    "    print(ar)\n",
    "\n",
    "    "
   ]
  },
  {
   "cell_type": "code",
   "execution_count": 2,
   "id": "66baeda5",
   "metadata": {},
   "outputs": [
    {
     "name": "stdout",
     "output_type": "stream",
     "text": [
      "24\n"
     ]
    }
   ],
   "source": [
    "#'3' consecutive terms and print maximum of their sum\n",
    "arr=[5,4,2,6,3,8,9,7,4,7,3,6,9,8,2,4,6,8,6,2,3,4,5,1,4,2]\n",
    "sum=[]\n",
    "for i in range(0,len(arr)-2):\n",
    "    a=arr[i]\n",
    "    b=arr[i+1]\n",
    "    c=arr[i+2]\n",
    "    sum.append(a+b+c)\n",
    "print(max(sum))"
   ]
  },
  {
   "cell_type": "code",
   "execution_count": 12,
   "id": "c73c6f6e",
   "metadata": {},
   "outputs": [
    {
     "name": "stdout",
     "output_type": "stream",
     "text": [
      "enter no. of consecutive terms to be taken=2\n",
      "9\n"
     ]
    }
   ],
   "source": [
    "arr=[1,2,3,4,5]\n",
    "n=int(input(\"enter no. of consecutive terms to be taken=\"))\n",
    "max_sum=float()\n",
    "for i in range(0,len(arr)-n+1):\n",
    "    sum=0\n",
    "    for j in range(i,n+i):\n",
    "        sum+=arr[j]\n",
    "    max_sum=max(max_sum,sum)\n",
    "        \n",
    "print(max_sum)\n",
    "    "
   ]
  },
  {
   "cell_type": "code",
   "execution_count": null,
   "id": "915d9068",
   "metadata": {},
   "outputs": [],
   "source": []
  }
 ],
 "metadata": {
  "kernelspec": {
   "display_name": "Python 3 (ipykernel)",
   "language": "python",
   "name": "python3"
  },
  "language_info": {
   "codemirror_mode": {
    "name": "ipython",
    "version": 3
   },
   "file_extension": ".py",
   "mimetype": "text/x-python",
   "name": "python",
   "nbconvert_exporter": "python",
   "pygments_lexer": "ipython3",
   "version": "3.10.9"
  }
 },
 "nbformat": 4,
 "nbformat_minor": 5
}
