{
 "cells": [
  {
   "cell_type": "markdown",
   "metadata": {},
   "source": [
    "# Bellman-ford algorithm "
   ]
  },
  {
   "cell_type": "code",
   "execution_count": null,
   "metadata": {},
   "outputs": [],
   "source": []
  },
  {
   "cell_type": "code",
   "execution_count": 4,
   "metadata": {},
   "outputs": [
    {
     "name": "stdout",
     "output_type": "stream",
     "text": [
      "from vertex D:\n",
      "Distance from 1 to  1 - 0\n",
      "Distance from 1 to  2 - 0\n",
      "Distance from 1 to  3 - 2\n",
      "Distance from 1 to  4 - 5\n",
      "Distance from 1 to  5 - -1\n",
      "Distance from 1 to  6 - 4\n",
      "Distance from 1 to  7 - 2\n"
     ]
    }
   ],
   "source": [
    "class Graph:\n",
    "    def __init__(self, v):\n",
    "        self.v = v\n",
    "        self.adj_list = [[] for _ in range(v)]\n",
    "        self.vertex_data = [None] * v\n",
    "\n",
    "    def add_edge(self, s, d, w):\n",
    "        self.adj_list[s - 1].append((s, d, w))\n",
    "\n",
    "    def add_vertex_data(self, vertex, data):\n",
    "        if 0 <= vertex < self.v:\n",
    "            self.vertex_data[vertex] = data\n",
    "\n",
    "    def bellmanford(self, start_vertex_data):\n",
    "        start_vertex = self.vertex_data.index(start_vertex_data)\n",
    "        distances = [float('inf')] * self.v\n",
    "        distances[start_vertex] = 0\n",
    "\n",
    "        for _ in range(self.v - 1):\n",
    "            for u in range(self.v):\n",
    "                for s, d, w in self.adj_list[u]:\n",
    "                    if distances[u] != float('inf') and distances[u] + w < distances[d - 1]:\n",
    "                        distances[d - 1] = distances[u] + w\n",
    "\n",
    "        for u in range(self.v):\n",
    "            for s, d, w in self.adj_list[u]:\n",
    "                if distances[u] != float('inf') and distances[u] + w < distances[d - 1]:\n",
    "                    print(\"Graph contains negative weight cycle\")\n",
    "                    return\n",
    "\n",
    "        return distances\n",
    "\n",
    "\n",
    "g = Graph(7)\n",
    "\n",
    "g.add_vertex_data(0, '1')\n",
    "g.add_vertex_data(1, '2')\n",
    "g.add_vertex_data(2, '3')\n",
    "g.add_vertex_data(3, '4')\n",
    "g.add_vertex_data(4, '5')\n",
    "g.add_vertex_data(5, '6')\n",
    "g.add_vertex_data(6, '7')\n",
    "\n",
    "\n",
    "g.add_edge(1, 2, 6)\n",
    "g.add_edge(1, 3, 5)\n",
    "g.add_edge(1, 4, 5)\n",
    "g.add_edge(3, 5, 1)\n",
    "g.add_edge(3, 2, -2)\n",
    "g.add_edge(2, 5, -1)\n",
    "g.add_edge(4, 3, -3)\n",
    "g.add_edge(4, 6, -1)\n",
    "g.add_edge(6, 7, 3)\n",
    "g.add_edge(5, 7, 3)\n",
    "\n",
    "print(\"from vertex D:\")\n",
    "distances = g.bellmanford('1')\n",
    "for i in range(len(distances)):\n",
    "    print(\"Distance from 1 to \",g.vertex_data[i],\"-\",distances[i])\n"
   ]
  },
  {
   "cell_type": "code",
   "execution_count": null,
   "metadata": {},
   "outputs": [],
   "source": []
  },
  {
   "cell_type": "code",
   "execution_count": null,
   "metadata": {},
   "outputs": [],
   "source": []
  }
 ],
 "metadata": {
  "kernelspec": {
   "display_name": "Python 3",
   "language": "python",
   "name": "python3"
  },
  "language_info": {
   "codemirror_mode": {
    "name": "ipython",
    "version": 3
   },
   "file_extension": ".py",
   "mimetype": "text/x-python",
   "name": "python",
   "nbconvert_exporter": "python",
   "pygments_lexer": "ipython3",
   "version": "3.8.5"
  }
 },
 "nbformat": 4,
 "nbformat_minor": 4
}
