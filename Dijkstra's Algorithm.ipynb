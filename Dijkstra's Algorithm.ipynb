{
 "cells": [
  {
   "cell_type": "code",
   "execution_count": 6,
   "id": "b09d4a54",
   "metadata": {},
   "outputs": [
    {
     "name": "stdout",
     "output_type": "stream",
     "text": [
      "Shortest distances from node 3:\n",
      "{'3': 0, '4': 7, '9': 2, '2': 8, '6': 4, '8': 7, '7': 6, '5': 14, '1': 15}\n"
     ]
    }
   ],
   "source": [
    "def dijkstra(graph, start):\n",
    "    visited = {start: 0}\n",
    "    currentNode = start \n",
    "    while currentNode is not None:\n",
    "        for neighbor, distance in graph[currentNode].items():\n",
    "            new_distance = visited[currentNode] + distance\n",
    "            if neighbor not in visited or new_distance < visited[neighbor]:\n",
    "                visited[neighbor] = new_distance\n",
    "        del graph[currentNode]\n",
    "        currentNode = min(graph.keys(), key=lambda node: visited.get(node, float('inf')), default=None) \n",
    "    return visited\n",
    "graph = {\n",
    "    '1': {'2':4, '8':8},\n",
    "    '2': {'3':8, '8':11},\n",
    "    '3': {'4':7, '9':2, '2':8, '6':4},\n",
    "    '4': {'3':7, '5':9, '6':14},\n",
    "    '5': {'4':9, '6':10},\n",
    "    '6': {'5':10, '4':14, '3':4, '7':2},\n",
    "    '7': {'6':2, '9':6, '8':1},\n",
    "    '8': {'7':1, '9':7, '1':8, '2':11},\n",
    "    '9': {'3':2, '8':7, '7':6}\n",
    "}\n",
    "start_node = '3'\n",
    "shortest_distances = dijkstra(graph, start_node)\n",
    "print(\"Shortest distances from node\", start_node + \":\")\n",
    "print(shortest_distances)"
   ]
  },
  {
   "cell_type": "code",
   "execution_count": null,
   "id": "db227e97",
   "metadata": {},
   "outputs": [],
   "source": []
  }
 ],
 "metadata": {
  "kernelspec": {
   "display_name": "Python 3 (ipykernel)",
   "language": "python",
   "name": "python3"
  },
  "language_info": {
   "codemirror_mode": {
    "name": "ipython",
    "version": 3
   },
   "file_extension": ".py",
   "mimetype": "text/x-python",
   "name": "python",
   "nbconvert_exporter": "python",
   "pygments_lexer": "ipython3",
   "version": "3.11.5"
  }
 },
 "nbformat": 4,
 "nbformat_minor": 5
}
