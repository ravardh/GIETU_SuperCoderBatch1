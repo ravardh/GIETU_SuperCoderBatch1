{
  "nbformat": 4,
  "nbformat_minor": 0,
  "metadata": {
    "colab": {
      "provenance": []
    },
    "kernelspec": {
      "name": "python3",
      "display_name": "Python 3"
    },
    "language_info": {
      "name": "python"
    }
  },
  "cells": [
    {
      "cell_type": "code",
      "execution_count": 2,
      "metadata": {
        "id": "EvX9tYYLu4Lf",
        "colab": {
          "base_uri": "https://localhost:8080/"
        },
        "outputId": "01ecf2f5-9f72-4592-9858-284c0cc0086e"
      },
      "outputs": [
        {
          "output_type": "stream",
          "name": "stdout",
          "text": [
            "<__main__.node object at 0x7b2546e1a320>\n",
            "20\n",
            "\n",
            "Preorder Traversal\n",
            "20 32 15 4 12 50 40 35 6 10 8 24 16 2 \n",
            "\n",
            "Inorder Traversal\n",
            "4 15 32 40 50 35 12 6 20 8 10 16 24 2 \n",
            "\n",
            "Postorder Traversal\n",
            "4 15 40 35 50 6 12 32 8 16 2 24 10 20 \n",
            "\n",
            "Levelorder Traversal\n",
            "20 \n",
            "32 10 \n",
            "15 12 8 24 \n",
            "4 50 6 16 2 \n",
            "40 35 \n"
          ]
        }
      ],
      "source": [
        "class node:\n",
        "    def __init__(self, info=None):\n",
        "        self.data = info\n",
        "        self.left = None\n",
        "        self.right = None\n",
        "\n",
        "def preorder(root): #root, left, right\n",
        "    if root==None: #Base case\n",
        "        return\n",
        "    print(root.data, end=\" \") #Executabale Statement to print Root data\n",
        "    preorder(root.left) #recursive Call for left child\n",
        "    preorder(root.right) #recursive Call for right child\n",
        "\n",
        "\n",
        "def inorder(root): #root, left, right\n",
        "    if root==None: #Base case\n",
        "        return\n",
        "    inorder(root.left) #recursive Call for left child\n",
        "    print(root.data, end=\" \") #Executabale Statement to print Root data\n",
        "    inorder(root.right) #recursive Call for right child\n",
        "\n",
        "def postorder(root): #root, left, right\n",
        "    if root==None: #Base case\n",
        "        return\n",
        "    postorder(root.left) #recursive Call for left child\n",
        "    postorder(root.right) #recursive Call for right child\n",
        "    print(root.data, end=\" \") #Executabale Statement to print Root data\n",
        "\n",
        "def levelorder(root):\n",
        "    Q=[root]\n",
        "    Q.append(None)\n",
        "    while len(Q)>0:\n",
        "        cur = Q.pop(0)\n",
        "        if cur == None:\n",
        "            print()\n",
        "            if len(Q)>0:\n",
        "                Q.append(None)\n",
        "        else:\n",
        "            print(cur.data, end = \" \")\n",
        "            if cur.left != None:\n",
        "                Q.append(cur.left)\n",
        "            if cur.right != None:\n",
        "                Q.append(cur.right)\n",
        "\n",
        "\n",
        "\n",
        "root = node(20)\n",
        "\n",
        "root.left = node(32)\n",
        "root.right = node(10)\n",
        "\n",
        "root.left.left = node(15)\n",
        "root.left.right = node(12)\n",
        "root.right.left = node(8)\n",
        "root.right.right = node(24)\n",
        "\n",
        "root.left.left.left = node(4)\n",
        "root.left.right.left = node(50)\n",
        "root.left.right.right = node(6)\n",
        "root.right.right.left = node(16)\n",
        "root.right.right.right = node(2)\n",
        "\n",
        "root.left.right.left.left = node(40)\n",
        "root.left.right.left.right = node(35)\n",
        "\n",
        "print(root)\n",
        "print(root.data)\n",
        "print(\"\\nPreorder Traversal\")\n",
        "preorder(root)\n",
        "print(\"\\n\\nInorder Traversal\")\n",
        "inorder(root)\n",
        "print(\"\\n\\nPostorder Traversal\")\n",
        "postorder(root)\n",
        "\n",
        "print(\"\\n\\nLevelorder Traversal\")\n",
        "levelorder(root)"
      ]
    },
    {
      "cell_type": "code",
      "source": [],
      "metadata": {
        "id": "7KgUQ35Akt8y"
      },
      "execution_count": null,
      "outputs": []
    }
  ]
}