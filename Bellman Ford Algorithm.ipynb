{
 "cells": [
  {
   "cell_type": "code",
   "execution_count": 14,
   "id": "d06ef3a6",
   "metadata": {},
   "outputs": [
    {
     "name": "stdout",
     "output_type": "stream",
     "text": [
      "Shortest distance from 1\n",
      "1 : 0\n",
      "2 : 1\n",
      "3 : 3\n",
      "4 : 5\n",
      "5 : 0\n",
      "6 : 4\n",
      "7 : 3\n"
     ]
    }
   ],
   "source": [
    "def bellman_ford(graph, src):\n",
    "    distance = {}\n",
    "    \n",
    "    for vertex in graph:\n",
    "        distance[vertex] = float('inf')\n",
    "\n",
    "    distance[src] = 0\n",
    "\n",
    "    for i in range(len(graph) - 1):\n",
    "        for u in graph:\n",
    "            for v, weight in graph[u]:\n",
    "                if distance[u] != float('inf') and distance[u] + weight < distance[v]:\n",
    "                    distance[v] = distance[u] + weight\n",
    "\n",
    "    return distance\n",
    "\n",
    "graph = {\n",
    "    1: [(2, 6), (3, 5), (4, 5)],\n",
    "    2: [(5, -1)],\n",
    "    3: [(2, -2), (5, 1)],\n",
    "    4: [(3, -2), (6, -1)],\n",
    "    5: [(7, 3)],\n",
    "    6: [(7, 3)],\n",
    "    7: []\n",
    "}\n",
    "\n",
    "source = 1\n",
    "\n",
    "shortest_distances = bellman_ford(graph, source)\n",
    "print(\"Shortest distance from\", source)\n",
    "\n",
    "for node, distance in shortest_distances.items():\n",
    "    print(node, \":\", distance)"
   ]
  }
 ],
 "metadata": {
  "kernelspec": {
   "display_name": "Python 3 (ipykernel)",
   "language": "python",
   "name": "python3"
  },
  "language_info": {
   "codemirror_mode": {
    "name": "ipython",
    "version": 3
   },
   "file_extension": ".py",
   "mimetype": "text/x-python",
   "name": "python",
   "nbconvert_exporter": "python",
   "pygments_lexer": "ipython3",
   "version": "3.11.3"
  }
 },
 "nbformat": 4,
 "nbformat_minor": 5
}
