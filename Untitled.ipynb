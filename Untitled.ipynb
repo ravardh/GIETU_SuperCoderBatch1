{
 "cells": [
  {
   "cell_type": "code",
   "execution_count": 5,
   "id": "48c34be8",
   "metadata": {},
   "outputs": [
    {
     "name": "stdout",
     "output_type": "stream",
     "text": [
      "45.578\n"
     ]
    }
   ],
   "source": [
    "a=45.578\n",
    "print(a)"
   ]
  },
  {
   "cell_type": "code",
   "execution_count": 6,
   "id": "bf1f7860",
   "metadata": {},
   "outputs": [
    {
     "name": "stdout",
     "output_type": "stream",
     "text": [
      "45\n",
      "<class 'int'>\n"
     ]
    }
   ],
   "source": [
    "b=int(a)\n",
    "print(b)\n",
    "print(type(b))"
   ]
  },
  {
   "cell_type": "code",
   "execution_count": 8,
   "id": "76e37381",
   "metadata": {},
   "outputs": [
    {
     "name": "stdout",
     "output_type": "stream",
     "text": [
      "enter7896\n",
      "<class 'str'>\n"
     ]
    }
   ],
   "source": [
    "a=input(\"enter\")\n",
    "print(type(a))"
   ]
  },
  {
   "cell_type": "code",
   "execution_count": 12,
   "id": "8dc78d40",
   "metadata": {},
   "outputs": [
    {
     "name": "stdout",
     "output_type": "stream",
     "text": [
      "4\n",
      "runs\n"
     ]
    }
   ],
   "source": [
    "#match-case[switch case]\n",
    "no=int(input())\n",
    "match no:\n",
    "    case 6:\n",
    "        print(\"sixer\")\n",
    "    case 4:\n",
    "        print(\"runs\")\n",
    "    case _:\n",
    "        print(\"defaut\")"
   ]
  },
  {
   "cell_type": "code",
   "execution_count": 19,
   "id": "735eb24b",
   "metadata": {},
   "outputs": [
    {
     "name": "stdout",
     "output_type": "stream",
     "text": [
      "x=567.5867\n",
      "y=345\n",
      "operator from[add,sub,div,mul]=div\n",
      "1.64517884057971\n"
     ]
    }
   ],
   "source": [
    "#calculator[match-case]\n",
    "x=float(input(\"x=\"))\n",
    "y=float(input(\"y=\"))\n",
    "operator=str(input(\"operator from[add,sub,div,mul]=\"))\n",
    "match operator:\n",
    "    case \"add\":\n",
    "        print(x+y)\n",
    "    case \"sub\":\n",
    "        print(x-y)\n",
    "    case \"mul\":\n",
    "        print(x*y)\n",
    "    case \"div\":\n",
    "        print(x/y)\n",
    "    case _:\n",
    "        print(\"enter from the following operstor\")\n",
    "        "
   ]
  },
  {
   "cell_type": "code",
   "execution_count": null,
   "id": "08594df5",
   "metadata": {},
   "outputs": [],
   "source": []
  }
 ],
 "metadata": {
  "kernelspec": {
   "display_name": "Python 3 (ipykernel)",
   "language": "python",
   "name": "python3"
  },
  "language_info": {
   "codemirror_mode": {
    "name": "ipython",
    "version": 3
   },
   "file_extension": ".py",
   "mimetype": "text/x-python",
   "name": "python",
   "nbconvert_exporter": "python",
   "pygments_lexer": "ipython3",
   "version": "3.10.9"
  }
 },
 "nbformat": 4,
 "nbformat_minor": 5
}
