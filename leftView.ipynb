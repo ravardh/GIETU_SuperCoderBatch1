{
  "nbformat": 4,
  "nbformat_minor": 0,
  "metadata": {
    "colab": {
      "provenance": []
    },
    "kernelspec": {
      "name": "python3",
      "display_name": "Python 3"
    },
    "language_info": {
      "name": "python"
    }
  },
  "cells": [
    {
      "cell_type": "code",
      "execution_count": null,
      "metadata": {
        "colab": {
          "base_uri": "https://localhost:8080/"
        },
        "id": "QEXJ_cAav6h8",
        "outputId": "d7a5da01-3aba-4ed1-98d4-694bab036909"
      },
      "outputs": [
        {
          "output_type": "stream",
          "name": "stdout",
          "text": [
            "Left view of the tree: [1, 2, 4, 7]\n"
          ]
        }
      ],
      "source": [
        "#Left View of the tree\n",
        "class TreeNode:\n",
        "    def __init__(self, val=0, left=None, right=None):\n",
        "        self.val = val\n",
        "        self.left = left\n",
        "        self.right = right\n",
        "\n",
        "def left_view(root):\n",
        "    if not root:\n",
        "        return []\n",
        "\n",
        "    result = []\n",
        "    queue = [(root, 0)]\n",
        "\n",
        "    while queue:\n",
        "        node, level = queue.pop(0)\n",
        "        if level == len(result):\n",
        "            result.append(node.val)\n",
        "        if node.left:\n",
        "            queue.append((node.left, level + 1))\n",
        "        if node.right:\n",
        "            queue.append((node.right, level + 1))\n",
        "\n",
        "    return result\n",
        "\n",
        "\n",
        "root = TreeNode(1)\n",
        "root.left = TreeNode(2)\n",
        "root.right = TreeNode(9)\n",
        "root.left.right = TreeNode(4)\n",
        "root.right.left = TreeNode(5)\n",
        "root.right.right = TreeNode(6)\n",
        "root.right.left.left = TreeNode(7)\n",
        "\n",
        "print(\"Left view of the tree:\", left_view(root))\n"
      ]
    },
    {
      "cell_type": "code",
      "source": [
        "#Binary search tree\n",
        "class TreeNode:\n",
        "    def __init__(self, val):\n",
        "        self.val = val\n",
        "        self.left = None\n",
        "        self.right = None\n",
        "\n",
        "def insert(root, val):\n",
        "    if root is None:\n",
        "        return TreeNode(val)\n",
        "\n",
        "    if val < root.val:\n",
        "        root.left = insert(root.left, val)\n",
        "    else:\n",
        "        root.right = insert(root.right, val)\n",
        "\n",
        "    return root\n",
        "\n",
        "def arrayToBST(nums):\n",
        "    if not nums:\n",
        "        return None\n",
        "\n",
        "    root = None\n",
        "    for num in nums:\n",
        "        root = insert(root, num)\n",
        "\n",
        "    return root\n",
        "\n",
        "def inorderTraversal(root):\n",
        "    if not root:\n",
        "        return []\n",
        "\n",
        "    result = []\n",
        "    stack = []\n",
        "    current = root\n",
        "\n",
        "    while current or stack:\n",
        "        while current:\n",
        "            stack.append(current)\n",
        "            current = current.left\n",
        "\n",
        "        current = stack.pop()\n",
        "        result.append(current.val)\n",
        "        current = current.right\n",
        "\n",
        "    return result\n",
        "\n",
        "# Example usage:\n",
        "nums = [4, 2, 7, 1, 3, 6, 9]\n",
        "root = arrayToBST(nums)\n",
        "print(\"Inorder Traversal:\", inorderTraversal(root))  # Output: [1, 2, 3, 4, 6, 7, 9]\n"
      ],
      "metadata": {
        "id": "pKfx6Y5bw2Ep"
      },
      "execution_count": null,
      "outputs": []
    }
  ]
}