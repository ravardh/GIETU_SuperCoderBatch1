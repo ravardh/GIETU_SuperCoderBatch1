{
 "cells": [
  {
   "cell_type": "code",
   "execution_count": 3,
   "id": "c26fc000-0f56-4ed0-ad95-d712267e83f3",
   "metadata": {},
   "outputs": [
    {
     "name": "stdout",
     "output_type": "stream",
     "text": [
      "Depth of the tree: 5\n"
     ]
    }
   ],
   "source": [
    "#finding the depth of the tree\n",
    "class Node:\n",
    "    def __init__(self, Info=None):\n",
    "        self.data = Info\n",
    "        self.left = None\n",
    "        self.right = None\n",
    "\n",
    "root = Node(20)\n",
    "\n",
    "def tree_depth(root):\n",
    "    if root is None:\n",
    "        return 0\n",
    "    \n",
    "    max_child_depth = 0\n",
    "    \n",
    "    if root.left:\n",
    "        max_child_depth = max(max_child_depth, tree_depth(root.left))\n",
    "    if root.right:\n",
    "        max_child_depth = max(max_child_depth, tree_depth(root.right))\n",
    "    \n",
    "    return 1 + max_child_depth\n",
    "\n",
    "root.left = Node(32)\n",
    "root.right = Node(10)\n",
    "# level 2\n",
    "root.left.left = Node(15)\n",
    "root.left.right = Node(12)\n",
    "root.right.left = Node(8)\n",
    "root.right.right = Node(24)\n",
    "# level 3\n",
    "root.left.left.left = Node(4)\n",
    "root.left.right.left = Node(50)\n",
    "root.left.right.right = Node(6)\n",
    "root.right.right.left = Node(16)\n",
    "root.right.right.right = Node(16)\n",
    "#level 4\n",
    "root.left.right.left.left = Node(40)\n",
    "root.left.right.left.right = Node(35)\n",
    "\n",
    "print(\"Depth of the tree:\", tree_depth(root))\n"
   ]
  },
  {
   "cell_type": "code",
   "execution_count": 5,
   "id": "66d776c4-1e98-4441-a45d-df51b9e55f2d",
   "metadata": {},
   "outputs": [
    {
     "name": "stdout",
     "output_type": "stream",
     "text": [
      "Leaf nodes in the tree: [4, 40, 35, 6, 8, 16, 16]\n"
     ]
    }
   ],
   "source": [
    "class Node:\n",
    "    def __init__(self, Info=None):\n",
    "        self.data = Info\n",
    "        self.left = None\n",
    "        self.right = None\n",
    "\n",
    "def is_leaf(node):\n",
    "    return node.left is None and node.right is None\n",
    "\n",
    "# Define the root node outside the class\n",
    "root = Node(20)\n",
    "\n",
    "# Construct the tree\n",
    "root.left = Node(32)\n",
    "root.right = Node(10)\n",
    "# level 2\n",
    "root.left.left = Node(15)\n",
    "root.left.right = Node(12)\n",
    "root.right.left = Node(8)\n",
    "root.right.right = Node(24)\n",
    "# level 3\n",
    "root.left.left.left = Node(4)\n",
    "root.left.right.left = Node(50)\n",
    "root.left.right.right = Node(6)\n",
    "root.right.right.left = Node(16)\n",
    "root.right.right.right = Node(16)\n",
    "\n",
    "root.left.right.left.left = Node(40)\n",
    "root.left.right.left.right = Node(35)\n",
    "\n",
    "def find_leaf_nodes(node):\n",
    "    if node is None:\n",
    "        return []\n",
    "    elif is_leaf(node):\n",
    "        return [node.data]\n",
    "    else:\n",
    "        return find_leaf_nodes(node.left) + find_leaf_nodes(node.right)\n",
    "\n",
    "leaf_nodes = find_leaf_nodes(root)\n",
    "print(\"Leaf nodes in the tree:\", leaf_nodes)\n"
   ]
  },
  {
   "cell_type": "code",
   "execution_count": 7,
   "id": "64d3dd08-4847-4cb0-84ca-9a6ecf168bb6",
   "metadata": {},
   "outputs": [
    {
     "name": "stdout",
     "output_type": "stream",
     "text": [
      "\n",
      "Top view of the tree:\n",
      "4 15 32 20 10 24 16 "
     ]
    }
   ],
   "source": [
    "class Node:\n",
    "    def __init__(self, Info=None):\n",
    "        self.data = Info\n",
    "        self.left = None\n",
    "        self.right = None\n",
    "\n",
    "def top_view(root):\n",
    "    if root is None:\n",
    "        return\n",
    "    \n",
    "    hd_dict = {}\n",
    "    # Queue to perform BFS\n",
    "    queue = [(root, 0)]\n",
    "\n",
    "    while queue:\n",
    "        node, hd = queue.pop(0)\n",
    "\n",
    "        if hd not in hd_dict:\n",
    "            hd_dict[hd] = node.data\n",
    "\n",
    "        if node.left:\n",
    "            queue.append((node.left, hd - 1))\n",
    "\n",
    "        if node.right:\n",
    "            queue.append((node.right, hd + 1))\n",
    "\n",
    "    for key in sorted(hd_dict):\n",
    "        print(hd_dict[key], end=' ')\n",
    "\n",
    "\n",
    "# Example usage:\n",
    "root = Node(20)\n",
    "root.left = Node(32)\n",
    "root.right = Node(10)\n",
    "root.left.left = Node(15)\n",
    "root.left.right = Node(12)\n",
    "root.right.left = Node(8)\n",
    "root.right.right = Node(24)\n",
    "root.left.left.left = Node(4)\n",
    "root.left.right.left = Node(50)\n",
    "root.left.right.right = Node(6)\n",
    "root.right.right.left = Node(16)\n",
    "root.right.right.right = Node(16)\n",
    "root.left.right.left.left = Node(40)\n",
    "root.left.right.left.right = Node(35)\n",
    "\n",
    "print(\"\\nTop view of the tree:\")\n",
    "top_view(root)\n"
   ]
  },
  {
   "cell_type": "code",
   "execution_count": null,
   "id": "9c39db6d-081e-4142-a7f4-396e289a343a",
   "metadata": {},
   "outputs": [],
   "source": []
  }
 ],
 "metadata": {
  "kernelspec": {
   "display_name": "Python 3 (ipykernel)",
   "language": "python",
   "name": "python3"
  },
  "language_info": {
   "codemirror_mode": {
    "name": "ipython",
    "version": 3
   },
   "file_extension": ".py",
   "mimetype": "text/x-python",
   "name": "python",
   "nbconvert_exporter": "python",
   "pygments_lexer": "ipython3",
   "version": "3.10.4"
  }
 },
 "nbformat": 4,
 "nbformat_minor": 5
}
