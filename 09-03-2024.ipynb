{
 "cells": [
  {
   "cell_type": "code",
   "execution_count": 1,
   "id": "33465e01",
   "metadata": {},
   "outputs": [
    {
     "name": "stdout",
     "output_type": "stream",
     "text": [
      "[11, 0, 17, 20, 4, 7]\n"
     ]
    }
   ],
   "source": [
    "# Python implementation of Dijkstra Algorithm \n",
    "\n",
    "import heapq \n",
    "\n",
    "class Node: \n",
    "\tdef __init__(self, v, distance): \n",
    "\t\tself.v = v \n",
    "\t\tself.distance = distance \n",
    "\n",
    "\tdef __lt__(self, other): \n",
    "\t\treturn self.distance < other.distance \n",
    "\n",
    "def dijkstra(V, adj, S): \n",
    "\tvisited = [False] * V \n",
    "\tmap = {} \n",
    "\tq = [] \n",
    "\n",
    "\tmap[S] = Node(S, 0) \n",
    "\theapq.heappush(q, Node(S, 0)) \n",
    "\n",
    "\twhile q: \n",
    "\t\tn = heapq.heappop(q) \n",
    "\t\tv = n.v \n",
    "\t\tdistance = n.distance \n",
    "\t\tvisited[v] = True\n",
    "\n",
    "\t\tadjList = adj[v] \n",
    "\t\tfor adjLink in adjList: \n",
    "\t\t\tif not visited[adjLink[0]]: \n",
    "\t\t\t\tif adjLink[0] not in map: \n",
    "\t\t\t\t\tmap[adjLink[0]] = Node(v, distance + adjLink[1]) \n",
    "\t\t\t\telse: \n",
    "\t\t\t\t\tsn = map[adjLink[0]] \n",
    "\t\t\t\t\tif distance + adjLink[1] < sn.distance: \n",
    "\t\t\t\t\t\tsn.v = v \n",
    "\t\t\t\t\t\tsn.distance = distance + adjLink[1] \n",
    "\t\t\t\theapq.heappush(q, Node(adjLink[0], distance + adjLink[1])) \n",
    "\n",
    "\tresult = [0] * V \n",
    "\tfor i in range(V): \n",
    "\t\tresult[i] = map[i].distance \n",
    "\n",
    "\treturn result \n",
    "\n",
    "def main(): \n",
    "\tadj = [[] for _ in range(6)] \n",
    "\n",
    "\tV = 6\n",
    "\tE = 5\n",
    "\tu = [0, 0, 1, 2, 4] \n",
    "\tv = [3, 5, 4, 5, 5] \n",
    "\tw = [9, 4, 4, 10, 3] \n",
    "\n",
    "\tfor i in range(E): \n",
    "\t\tedge = [v[i], w[i]] \n",
    "\t\tadj[u[i]].append(edge) \n",
    "\n",
    "\t\tedge2 = [u[i], w[i]] \n",
    "\t\tadj[v[i]].append(edge2) \n",
    "\n",
    "\tS = 1\n",
    "\n",
    "\tresult = dijkstra(V, adj, S) \n",
    "\tprint(result) \n",
    "\n",
    "if __name__ == \"__main__\": \n",
    "\tmain() \n",
    "\n",
    "# This code is contributed by ragul21\n"
   ]
  },
  {
   "cell_type": "code",
   "execution_count": null,
   "id": "3cc64520",
   "metadata": {},
   "outputs": [],
   "source": []
  }
 ],
 "metadata": {
  "kernelspec": {
   "display_name": "Python 3 (ipykernel)",
   "language": "python",
   "name": "python3"
  },
  "language_info": {
   "codemirror_mode": {
    "name": "ipython",
    "version": 3
   },
   "file_extension": ".py",
   "mimetype": "text/x-python",
   "name": "python",
   "nbconvert_exporter": "python",
   "pygments_lexer": "ipython3",
   "version": "3.9.12"
  }
 },
 "nbformat": 4,
 "nbformat_minor": 5
}
