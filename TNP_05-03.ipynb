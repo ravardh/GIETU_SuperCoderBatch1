{
 "cells": [
  {
   "cell_type": "code",
   "execution_count": 23,
   "id": "d8069a8e-0d53-45d3-a511-6f2a1acef5d1",
   "metadata": {},
   "outputs": [
    {
     "name": "stdout",
     "output_type": "stream",
     "text": [
      "11 7 3 5 8 9 6 10 1 2 4 "
     ]
    }
   ],
   "source": [
    "class Graph:\n",
    "    def __init__(self, v):\n",
    "        self.v = v\n",
    "        self.graph = [[] for _ in range(v)]\n",
    "\n",
    "    def add_edge(self, u, v):\n",
    "        self.graph[u-1].append(v)\n",
    "        self.graph[v-1].append(u)\n",
    "\n",
    "def DFS(source, graph, visited):\n",
    "    for i in range(len(graph.graph[source-1])):\n",
    "        if graph.graph[source-1][i] not in visited:\n",
    "            visited.add(graph.graph[source-1][i])\n",
    "            DFS(graph.graph[source-1][i], graph, visited)\n",
    "    print(source, end=\" \")\n",
    "\n",
    "if __name__ == \"__main__\":\n",
    "    graph = Graph(11)\n",
    "    graph.add_edge(1, 2)\n",
    "    graph.add_edge(1, 3)\n",
    "    graph.add_edge(1, 10)\n",
    "    graph.add_edge(2, 4)\n",
    "    graph.add_edge(3, 7)\n",
    "    graph.add_edge(4, 5)\n",
    "    graph.add_edge(4, 7)\n",
    "    graph.add_edge(4, 8)\n",
    "    graph.add_edge(5, 6)\n",
    "    graph.add_edge(6, 9)\n",
    "    graph.add_edge(6, 10)\n",
    "    graph.add_edge(7, 11)\n",
    "    graph.add_edge(8, 9)\n",
    "    graph.add_edge(9, 8)\n",
    "    graph.add_edge(10, 6)\n",
    "    graph.add_edge(11, 7)\n",
    "\n",
    "    source = 4\n",
    "    visited = set()\n",
    "    visited.add(source)\n",
    "    DFS(source, graph, visited)\n"
   ]
  },
  {
   "cell_type": "code",
   "execution_count": null,
   "id": "003122e5-92ca-4345-8fa1-9043b3cc357c",
   "metadata": {},
   "outputs": [],
   "source": [
    "#Given an unsorted integer array nums. Return the smallest positive integer that is not present in nums.\n",
    "\n",
    "#You must implement an algorithm that runs in O(n) time and uses O(1) auxiliary space.\n",
    "\n",
    " \n",
    "class Solution:\n",
    "    def firstMissingPositive(self, nums: List[int]) -> int:\n",
    "        n = len(nums)\n",
    "        for i in range(n):\n",
    "            while 1 <= nums[i] <= n and nums[nums[i] - 1] != nums[i]:\n",
    "                nums[nums[i] - 1], nums[i] = nums[i], nums[nums[i] - 1]\n",
    "\n",
    "        for i in range(n):\n",
    "            if nums[i] != i + 1:\n",
    "                return i + 1\n",
    "\n",
    "        return n + 1\n"
   ]
  }
 ],
 "metadata": {
  "kernelspec": {
   "display_name": "Python 3 (ipykernel)",
   "language": "python",
   "name": "python3"
  },
  "language_info": {
   "codemirror_mode": {
    "name": "ipython",
    "version": 3
   },
   "file_extension": ".py",
   "mimetype": "text/x-python",
   "name": "python",
   "nbconvert_exporter": "python",
   "pygments_lexer": "ipython3",
   "version": "3.10.4"
  }
 },
 "nbformat": 4,
 "nbformat_minor": 5
}
