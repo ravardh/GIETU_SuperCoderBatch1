{
 "cells": [
  {
   "cell_type": "markdown",
   "id": "d19ebe3b",
   "metadata": {},
   "source": [
    "# Graph"
   ]
  },
  {
   "cell_type": "code",
   "execution_count": 6,
   "id": "4ad7e21e",
   "metadata": {},
   "outputs": [
    {
     "name": "stdout",
     "output_type": "stream",
     "text": [
      "Following are connected components : \n"
     ]
    },
    {
     "ename": "NameError",
     "evalue": "name 'ConnectedComponentsUtil' is not defined",
     "output_type": "error",
     "traceback": [
      "\u001b[1;31m---------------------------------------------------------------------------\u001b[0m",
      "\u001b[1;31mNameError\u001b[0m                                 Traceback (most recent call last)",
      "Cell \u001b[1;32mIn[6], line 36\u001b[0m\n\u001b[0;32m     34\u001b[0m addEdge(g, \u001b[38;5;241m1\u001b[39m,    \u001b[38;5;241m3\u001b[39m)\n\u001b[0;32m     35\u001b[0m \u001b[38;5;28mprint\u001b[39m(\u001b[38;5;124m\"\u001b[39m\u001b[38;5;124mFollowing are connected components : \u001b[39m\u001b[38;5;124m\"\u001b[39m)\n\u001b[1;32m---> 36\u001b[0m \u001b[38;5;28mprint\u001b[39m(ConnectedComponents(g))\n",
      "Cell \u001b[1;32mIn[6], line 30\u001b[0m, in \u001b[0;36mConnectedComponents\u001b[1;34m(g)\u001b[0m\n\u001b[0;32m     28\u001b[0m \u001b[38;5;28;01mfor\u001b[39;00m i \u001b[38;5;129;01min\u001b[39;00m \u001b[38;5;28mrange\u001b[39m(g\u001b[38;5;241m.\u001b[39mV):                         \n\u001b[0;32m     29\u001b[0m     \u001b[38;5;28;01mif\u001b[39;00m \u001b[38;5;129;01mnot\u001b[39;00m visited[i]:                             \n\u001b[1;32m---> 30\u001b[0m         ConnectedComponentsUtil(i,visited,cc)\n",
      "\u001b[1;31mNameError\u001b[0m: name 'ConnectedComponentsUtil' is not defined"
     ]
    }
   ],
   "source": [
    "class Graph:\n",
    "    def __init__(self, vertices):   \n",
    "        self.V = vertices \n",
    "        self.adjList = [[i] for i in range(vertices)]   \n",
    "def addEdge(g, v, w):\n",
    "    g.adjList[v].append(w)\n",
    "    \n",
    "def printConnectedComponentsUtil(v, visited, cc):    \n",
    "    visited[v] = True     \n",
    "    cc += 1            \n",
    "    stack = []          \n",
    "    stack.append(v)          \n",
    "  \n",
    "    while len(stack) > 0:                \n",
    "        node = stack[-1]        \n",
    "        stack.pop()      \n",
    "              \n",
    "        i = 0\n",
    "        while(i < len(g.adjList[node])):                      \n",
    "            if not visited[g.adjList[node][i]]:                              \n",
    "                stack.append(g.adjList[node][i])                          \n",
    "                visited[g.adjList[node][i]] = True                          \n",
    "            i+=1        \n",
    "            \n",
    "def ConnectedComponents(g):                  \n",
    "    visited = [False] * (g.V)                      \n",
    "    cc = 0                                      \n",
    "    for i in range(g.V):                         \n",
    "        if not visited[i]:                             \n",
    "            ConnectedComponentsUtil(i,visited,cc)\n",
    "\n",
    "g = Graph(4);\n",
    "addEdge(g, 0,  2)   \n",
    "addEdge(g, 1,    3)\n",
    "print(\"Following are connected components : \")\n",
    "print(ConnectedComponents(g)) "
   ]
  },
  {
   "cell_type": "code",
   "execution_count": null,
   "id": "c2a0671b",
   "metadata": {},
   "outputs": [],
   "source": []
  }
 ],
 "metadata": {
  "kernelspec": {
   "display_name": "Python 3 (ipykernel)",
   "language": "python",
   "name": "python3"
  },
  "language_info": {
   "codemirror_mode": {
    "name": "ipython",
    "version": 3
   },
   "file_extension": ".py",
   "mimetype": "text/x-python",
   "name": "python",
   "nbconvert_exporter": "python",
   "pygments_lexer": "ipython3",
   "version": "3.11.3"
  }
 },
 "nbformat": 4,
 "nbformat_minor": 5
}
