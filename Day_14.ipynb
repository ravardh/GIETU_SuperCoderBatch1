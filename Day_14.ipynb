{
 "cells": [
  {
   "cell_type": "code",
   "execution_count": 1,
   "id": "48c0e4e4-cce9-4f1f-8672-6ef2dfb888f5",
   "metadata": {},
   "outputs": [
    {
     "name": "stdout",
     "output_type": "stream",
     "text": [
      "Maximum price: 54\n",
      "Included items:\n",
      "Price: 18 \tWeight: 4\n",
      "Price: 6 \tWeight: 1\n",
      "Price: 15 \tWeight: 5\n",
      "Price: 5 \tWeight: 3\n",
      "Price: 10 \tWeight: 2\n"
     ]
    }
   ],
   "source": [
    "#Dynamic programming\n",
    "\n",
    "def knapsack(items, capacity):\n",
    "    n = len(items)\n",
    "    dp = [[0] * (capacity + 1) for _ in range(n + 1)]\n",
    "    for i in range(1, n + 1):\n",
    "        for w in range(1, capacity + 1):\n",
    "            if items[i - 1][1] > w:\n",
    "                dp[i][w] = dp[i - 1][w]\n",
    "            else:\n",
    "                dp[i][w] = max(dp[i - 1][w], items[i - 1][0] + dp[i - 1][w - items[i - 1][1]])\n",
    "    included_items = []\n",
    "    w = capacity\n",
    "    for i in range(n, 0, -1):\n",
    "        if dp[i][w] != dp[i - 1][w]:\n",
    "            included_items.append(items[i - 1])\n",
    "            w -= items[i - 1][1]\n",
    "    return dp[n][capacity], included_items\n",
    "items = [(10, 2), (5, 3), (15, 5), (7, 7), (6, 1), (18, 4), (3, 1)]\n",
    "capacity = 15\n",
    "max_price, included_items = knapsack(items, capacity)\n",
    "print(\"Maximum price:\", max_price)\n",
    "print(\"Included items:\")\n",
    "for price, weight in included_items:\n",
    "    print(\"Price:\", price, \"\\tWeight:\", weight)"
   ]
  },
  {
   "cell_type": "code",
   "execution_count": null,
   "id": "c03b3bbc-1052-46f4-8b3f-5173ad38cf27",
   "metadata": {},
   "outputs": [],
   "source": []
  }
 ],
 "metadata": {
  "kernelspec": {
   "display_name": "Python 3 (ipykernel)",
   "language": "python",
   "name": "python3"
  },
  "language_info": {
   "codemirror_mode": {
    "name": "ipython",
    "version": 3
   },
   "file_extension": ".py",
   "mimetype": "text/x-python",
   "name": "python",
   "nbconvert_exporter": "python",
   "pygments_lexer": "ipython3",
   "version": "3.11.5"
  }
 },
 "nbformat": 4,
 "nbformat_minor": 5
}
