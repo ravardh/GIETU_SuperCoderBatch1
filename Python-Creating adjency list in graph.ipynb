{
 "cells": [
  {
   "cell_type": "code",
   "execution_count": 1,
   "id": "c0a04a2f",
   "metadata": {},
   "outputs": [
    {
     "name": "stdout",
     "output_type": "stream",
     "text": [
      "A: {'C', 'B'}\n",
      "B: {'E', 'D', 'A'}\n",
      "C: {'F', 'A'}\n",
      "D: {'B'}\n",
      "E: {'B'}\n",
      "F: {'C'}\n"
     ]
    }
   ],
   "source": [
    "#creating a adjency list using python in graph\n",
    "class Graph:\n",
    "    def __init__(self):\n",
    "        self.adj_list = {}  # Initialize an empty dictionary\n",
    "\n",
    "    def add_edge(self, u, v):\n",
    "        # Add an edge between vertices u and v\n",
    "        if u not in self.adj_list:\n",
    "            self.adj_list[u] = set()\n",
    "        if v not in self.adj_list:\n",
    "            self.adj_list[v] = set()\n",
    "        self.adj_list[u].add(v)\n",
    "        self.adj_list[v].add(u)  # Since it's an undirected graph\n",
    "\n",
    "# Example usage:\n",
    "if __name__ == \"__main__\":\n",
    "    graph = Graph()\n",
    "    graph.add_edge('A', 'B')\n",
    "    graph.add_edge('A', 'C')\n",
    "    graph.add_edge('B', 'D')\n",
    "    graph.add_edge('B', 'E')\n",
    "    graph.add_edge('C', 'F')\n",
    "\n",
    "    # Print the adjacency list\n",
    "    for vertex, neighbors in graph.adj_list.items():\n",
    "        print(f\"{vertex}: {neighbors}\")"
   ]
  },
  {
   "cell_type": "code",
   "execution_count": null,
   "id": "5105517b",
   "metadata": {},
   "outputs": [],
   "source": []
  }
 ],
 "metadata": {
  "kernelspec": {
   "display_name": "Python 3 (ipykernel)",
   "language": "python",
   "name": "python3"
  },
  "language_info": {
   "codemirror_mode": {
    "name": "ipython",
    "version": 3
   },
   "file_extension": ".py",
   "mimetype": "text/x-python",
   "name": "python",
   "nbconvert_exporter": "python",
   "pygments_lexer": "ipython3",
   "version": "3.11.4"
  }
 },
 "nbformat": 4,
 "nbformat_minor": 5
}
