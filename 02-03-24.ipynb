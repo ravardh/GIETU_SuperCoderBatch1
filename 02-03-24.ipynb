{
 "cells": [
  {
   "cell_type": "markdown",
   "id": "9184e209",
   "metadata": {},
   "source": [
    "# Adjacency list"
   ]
  },
  {
   "cell_type": "code",
   "execution_count": 4,
   "id": "15c12926",
   "metadata": {},
   "outputs": [
    {
     "name": "stdout",
     "output_type": "stream",
     "text": [
      "1 -> 2 -> 3 -> 9\n",
      "2 -> 1 -> 4\n",
      "3 -> 1 -> 4 -> 5 -> 7\n",
      "4 -> 2 -> 6\n",
      "5 -> 3 -> 6\n",
      "6 -> 4 -> 5 -> 7\n",
      "8 -> 7 -> 9\n",
      "9 -> 8 -> 1\n"
     ]
    }
   ],
   "source": [
    "class Graph:\n",
    "    def __init__(self):\n",
    "        self.graph = {}\n",
    "\n",
    "    def add_edge(self, u, v):\n",
    "        if u not in self.graph:\n",
    "            self.graph[u] = []\n",
    "        self.graph[u].append(v)\n",
    "\n",
    "    def print_graph(self):\n",
    "        for vertex in self.graph:\n",
    "            print(vertex, \"->\", \" -> \".join(map(str, self.graph[vertex])))\n",
    "\n",
    "edges = [(1, 2), (1, 3), (1, 9), (2, 1), (2, 4), (3, 1), (3, 4), (3, 5), (3, 7), (4, 2), (4, 6), (5, 3), (5, 6), (6, 4), (6, 5), (6, 7), (8, 7), (8, 9), (9, 8), (9, 1)]\n",
    "\n",
    "g = Graph()\n",
    "for u, v in edges:\n",
    "    g.add_edge(u, v)\n",
    "\n",
    "g.print_graph()"
   ]
  },
  {
   "cell_type": "code",
   "execution_count": 5,
   "id": "1810add0",
   "metadata": {},
   "outputs": [
    {
     "name": "stdout",
     "output_type": "stream",
     "text": [
      "Vertex 1: -> 9 -> 3 -> 2 \n",
      "\n",
      "Vertex 2: -> 4 -> 1 \n",
      "\n",
      "Vertex 3: -> 7 -> 5 -> 4 -> 1 \n",
      "\n",
      "Vertex 4: -> 6 -> 2 \n",
      "\n",
      "Vertex 5: -> 6 -> 3 \n",
      "\n",
      "Vertex 6: -> 7 -> 5 -> 4 \n",
      "\n",
      "Vertex 8: -> 9 -> 7 \n",
      "\n",
      "Vertex 9: -> 1 -> 8 \n",
      "\n"
     ]
    }
   ],
   "source": [
    "class AdjNode:\n",
    "    def __init__(self, value):\n",
    "        self.vertex = value\n",
    "        self.next = None\n",
    "\n",
    "\n",
    "class Graph:\n",
    "    def __init__(self):\n",
    "        self.graph = {}\n",
    "\n",
    "    # Add edges\n",
    "    def add_edge(self, s, d):\n",
    "        if s not in self.graph:\n",
    "            self.graph[s] = AdjNode(d)\n",
    "        else:\n",
    "            node = AdjNode(d)\n",
    "            node.next = self.graph[s]\n",
    "            self.graph[s] = node\n",
    "\n",
    "    # Print the graph\n",
    "    def print_agraph(self):\n",
    "        for vertex in self.graph:\n",
    "            print(\"Vertex \" + str(vertex) + \":\", end=\"\")\n",
    "            temp = self.graph[vertex]\n",
    "            while temp:\n",
    "                print(\" -> {}\".format(temp.vertex), end=\"\")\n",
    "                temp = temp.next\n",
    "            print(\" \\n\")\n",
    "\n",
    "\n",
    "if __name__ == \"__main__\":\n",
    "    edges = [(1, 2), (1, 3), (1, 9), (2, 1), (2, 4), (3, 1), (3, 4), (3, 5), (3, 7), (4, 2), (4, 6), (5, 3), (5, 6), (6, 4), (6, 5), (6, 7), (8, 7), (8, 9), (9, 8), (9, 1)]\n",
    "\n",
    "    # Create graph and add edges\n",
    "    graph = Graph()\n",
    "    for edge in edges:\n",
    "        graph.add_edge(edge[0], edge[1])\n",
    "\n",
    "    graph.print_agraph()\n"
   ]
  },
  {
   "cell_type": "code",
   "execution_count": null,
   "id": "2f55972a",
   "metadata": {},
   "outputs": [],
   "source": []
  }
 ],
 "metadata": {
  "kernelspec": {
   "display_name": "Python 3 (ipykernel)",
   "language": "python",
   "name": "python3"
  },
  "language_info": {
   "codemirror_mode": {
    "name": "ipython",
    "version": 3
   },
   "file_extension": ".py",
   "mimetype": "text/x-python",
   "name": "python",
   "nbconvert_exporter": "python",
   "pygments_lexer": "ipython3",
   "version": "3.7.9"
  }
 },
 "nbformat": 4,
 "nbformat_minor": 5
}
