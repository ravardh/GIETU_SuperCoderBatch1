{
 "cells": [
  {
   "cell_type": "code",
   "execution_count": 1,
   "id": "3f73a564",
   "metadata": {},
   "outputs": [
    {
     "name": "stdout",
     "output_type": "stream",
     "text": [
      "{1: 'aishwarya', 2: 'saswitha'}\n",
      "{1: 'aishwarya', 2: 'saswitha', 3: 'Ruchi'}\n",
      "{1: 'Aeiswarya', 2: 'saswitha', 3: 'Ruchi'}\n"
     ]
    }
   ],
   "source": [
    "#Dictionary\n",
    "\n",
    "#key and value pairs\n",
    "s={1:\"aishwarya\",2:\"saswitha\"}\n",
    "print(s)\n",
    "\n",
    "#update - add new element with new key\n",
    "s.update({3:\"Ruchi\"})\n",
    "print(s)\n",
    "\n",
    "#update - update old element with old key\n",
    "s.update({1:\"Aeiswarya\"})\n",
    "print(s)"
   ]
  },
  {
   "cell_type": "code",
   "execution_count": 2,
   "id": "eb3fa554",
   "metadata": {},
   "outputs": [
    {
     "name": "stdout",
     "output_type": "stream",
     "text": [
      "1\n",
      "2\n",
      "3\n",
      "aishwarya\n",
      "Ankit\n",
      "Ruchi\n",
      "Enter any key:3\n",
      "Ruchi\n"
     ]
    }
   ],
   "source": [
    "d = {1:\"aishwarya\" , 2:\"Ankit\" , 3:\"Ruchi\"}\n",
    "for x in d.keys():\n",
    "    print(x)\n",
    "    \n",
    "for x in d.values():\n",
    "    print(x)\n",
    "    \n",
    "t = int(input(\"Enter any key:\"))\n",
    "print(d[t])"
   ]
  },
  {
   "cell_type": "code",
   "execution_count": 3,
   "id": "fab30682",
   "metadata": {},
   "outputs": [
    {
     "name": "stdout",
     "output_type": "stream",
     "text": [
      "Enter any key:1\n",
      "aishwarya\n",
      "Code Executed\n"
     ]
    }
   ],
   "source": [
    "d = {1:\"aishwarya\" , 2:\"Ankit\" , 3:\"Ruchi\"}\n",
    "t = int(input(\"Enter any key:\"))\n",
    "#Exception Handling\n",
    "try:\n",
    "    print(d[t])\n",
    "except:\n",
    "    print(\"Key not Available\")\n",
    "finally:\n",
    "    print(\"Code Executed\")"
   ]
  },
  {
   "cell_type": "code",
   "execution_count": 4,
   "id": "c40dfc7f",
   "metadata": {},
   "outputs": [
    {
     "name": "stdout",
     "output_type": "stream",
     "text": [
      "[1, 34, 72, 5.4, 'Raj', 81, 9.9]\n",
      "<class 'list'>\n",
      "[1, 34, 72, 5.4, 'Raj', 81, 9.9, 'Anurag']\n"
     ]
    }
   ],
   "source": [
    "#LIST(similar to array)\n",
    "'''but the difference is, list can hold any type of data '''\n",
    "''''''\n",
    "a= [1,34,72,5.4,\"Raj\",81,9.9]\n",
    "print(a)\n",
    "print(type(a))\n",
    "\n",
    "a.append(\"Anurag\")\n",
    "print(a)"
   ]
  },
  {
   "cell_type": "code",
   "execution_count": 7,
   "id": "77f17319",
   "metadata": {},
   "outputs": [
    {
     "name": "stdout",
     "output_type": "stream",
     "text": [
      "Sorted array: [11, 12, 22, 25, 34, 64, 90]\n"
     ]
    }
   ],
   "source": [
    "#Bubble Sort\n",
    "def bubble_sort(arr):\n",
    "    n = len(arr)   \n",
    "    for i in range(n):       \n",
    "        for j in range(0, n-i-1):          \n",
    "            if arr[j] > arr[j+1]:\n",
    "                arr[j], arr[j+1] = arr[j+1], arr[j]\n",
    "my_list = [64, 34, 25, 12, 22, 11, 90]\n",
    "bubble_sort(my_list)\n",
    "\n",
    "print(\"Sorted array:\", my_list)"
   ]
  },
  {
   "cell_type": "code",
   "execution_count": 6,
   "id": "b41c369c",
   "metadata": {},
   "outputs": [
    {
     "name": "stdout",
     "output_type": "stream",
     "text": [
      "Sorted array: [11, 12, 22, 25, 64]\n"
     ]
    }
   ],
   "source": [
    "#Selection Sort\n",
    "def selection_sort(arr):\n",
    "    n = len(arr)\n",
    "\n",
    "    for i in range(n):\n",
    "        min_index = i\n",
    "        for j in range(i+1, n):\n",
    "            if arr[j] < arr[min_index]:\n",
    "                min_index = j\n",
    "        arr[i], arr[min_index] = arr[min_index], arr[i]\n",
    "my_list = [64, 25, 12, 22, 11]\n",
    "selection_sort(my_list)\n",
    "\n",
    "print(\"Sorted array:\", my_list)"
   ]
  },
  {
   "cell_type": "code",
   "execution_count": 8,
   "id": "ad3f4168",
   "metadata": {},
   "outputs": [
    {
     "name": "stdout",
     "output_type": "stream",
     "text": [
      "Sorted array: [5, 6, 11, 12, 13]\n"
     ]
    }
   ],
   "source": [
    "#Insertion Sort\n",
    "def insertion_sort(arr):\n",
    "    n = len(arr)\n",
    "    for i in range(1, n):\n",
    "        key = arr[i]\n",
    "        j = i - 1\n",
    "        while j >= 0 and key < arr[j]:\n",
    "            arr[j + 1] = arr[j]\n",
    "            j -= 1\n",
    "        arr[j + 1] = key\n",
    "my_list = [12, 11, 13, 5, 6]\n",
    "insertion_sort(my_list)\n",
    "print(\"Sorted array:\", my_list)"
   ]
  },
  {
   "cell_type": "code",
   "execution_count": null,
   "id": "c3a35cef",
   "metadata": {},
   "outputs": [],
   "source": []
  }
 ],
 "metadata": {
  "kernelspec": {
   "display_name": "Python 3 (ipykernel)",
   "language": "python",
   "name": "python3"
  },
  "language_info": {
   "codemirror_mode": {
    "name": "ipython",
    "version": 3
   },
   "file_extension": ".py",
   "mimetype": "text/x-python",
   "name": "python",
   "nbconvert_exporter": "python",
   "pygments_lexer": "ipython3",
   "version": "3.11.4"
  }
 },
 "nbformat": 4,
 "nbformat_minor": 5
}
