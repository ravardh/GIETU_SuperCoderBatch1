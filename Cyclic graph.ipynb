{
 "cells": [
  {
   "cell_type": "code",
   "execution_count": 1,
   "id": "9fe6883c",
   "metadata": {},
   "outputs": [
    {
     "name": "stdout",
     "output_type": "stream",
     "text": [
      "Is graph cyclic? True\n"
     ]
    }
   ],
   "source": [
    "class Graph:\n",
    "    def __init__(self, v):\n",
    "        self.v = v\n",
    "        self.adj_list = [[] for _ in range(v)]\n",
    "\n",
    "    def add_edge(self, s, d):\n",
    "        self.adj_list[s - 1].append(d)\n",
    "        self.adj_list[d - 1].append(s)  # Add reverse edge for undirected graph\n",
    "\n",
    "    def dfs(self, vertex, parent, visited):\n",
    "        visited.add(vertex)\n",
    "\n",
    "        for neighbor in self.adj_list[vertex - 1]:\n",
    "            if neighbor == parent:\n",
    "                continue  # Skip visiting the parent\n",
    "            if neighbor in visited or self.dfs(neighbor, vertex, visited):\n",
    "                return True  # Cycle detected\n",
    "\n",
    "        return False\n",
    "\n",
    "    def is_cyclic(self):\n",
    "        visited = set()\n",
    "\n",
    "        for vertex in range(1, self.v + 1):\n",
    "            if vertex not in visited:\n",
    "                if self.dfs(vertex, None, visited):\n",
    "                    return True  # Cycle detected\n",
    "\n",
    "        return False  # No cycle detected\n",
    "\n",
    "graph = Graph(7)\n",
    "graph.add_edge(1, 2)\n",
    "graph.add_edge(1, 3)\n",
    "graph.add_edge(2, 4)\n",
    "graph.add_edge(3, 4)\n",
    "graph.add_edge(3, 5)\n",
    "graph.add_edge(5, 6)\n",
    "graph.add_edge(6, 7)\n",
    "\n",
    "print(\"Is graph cyclic?\", graph.is_cyclic())"
   ]
  },
  {
   "cell_type": "code",
   "execution_count": 2,
   "id": "afc80564",
   "metadata": {},
   "outputs": [
    {
     "ename": "IndexError",
     "evalue": "list index out of range",
     "output_type": "error",
     "traceback": [
      "\u001b[1;31m---------------------------------------------------------------------------\u001b[0m",
      "\u001b[1;31mIndexError\u001b[0m                                Traceback (most recent call last)",
      "Cell \u001b[1;32mIn[2], line 41\u001b[0m\n\u001b[0;32m     39\u001b[0m create_graph(graph, \u001b[38;5;241m2\u001b[39m, \u001b[38;5;241m1\u001b[39m)\n\u001b[0;32m     40\u001b[0m create_graph(graph, \u001b[38;5;241m2\u001b[39m, \u001b[38;5;241m4\u001b[39m)\n\u001b[1;32m---> 41\u001b[0m create_graph(graph, \u001b[38;5;241m3\u001b[39m, \u001b[38;5;241m1\u001b[39m)\n\u001b[0;32m     42\u001b[0m create_graph(graph, \u001b[38;5;241m3\u001b[39m, \u001b[38;5;241m7\u001b[39m)\n\u001b[0;32m     43\u001b[0m create_graph(graph, \u001b[38;5;241m4\u001b[39m, \u001b[38;5;241m2\u001b[39m)\n",
      "Cell \u001b[1;32mIn[2], line 28\u001b[0m, in \u001b[0;36mcreate_graph\u001b[1;34m(graph, source, destination, weight)\u001b[0m\n\u001b[0;32m     27\u001b[0m \u001b[38;5;28;01mdef\u001b[39;00m \u001b[38;5;21mcreate_graph\u001b[39m(graph,source,destination,weight\u001b[38;5;241m=\u001b[39m\u001b[38;5;241m1\u001b[39m):\n\u001b[1;32m---> 28\u001b[0m     graph[source\u001b[38;5;241m-\u001b[39m\u001b[38;5;241m1\u001b[39m]\u001b[38;5;241m.\u001b[39mappend((source,destination,weight))\n",
      "\u001b[1;31mIndexError\u001b[0m: list index out of range"
     ]
    }
   ],
   "source": [
    "def DFS_cycle(start, graph, visited, parent):\n",
    "    visited[start - 1] = True\n",
    "\n",
    "    for i in graph[start - 1]:\n",
    "        if not visited[i[1] - 1]:\n",
    "            parent[i[1] - 1] = start\n",
    "            if DFS_cycle(i[1], graph, visited, parent):\n",
    "                return True\n",
    "        elif parent[start - 1] != i[1]:\n",
    "            return True\n",
    "\n",
    "    return False\n",
    "\n",
    "\n",
    "def has_cycle(graph):\n",
    "    v = len(graph)\n",
    "    visited = [False] * v\n",
    "    parent = [-1] * v\n",
    "\n",
    "    for i in range(v):\n",
    "        if not visited[i]:\n",
    "            if DFS_cycle(i + 1, graph, visited, parent):\n",
    "                return True\n",
    "\n",
    "    return False\n",
    "\n",
    "def create_graph(graph,source,destination,weight=1):\n",
    "    graph[source-1].append((source,destination,weight))\n",
    "\n",
    "v = 2  #11\n",
    "graph = [[] for _ in range(v)]\n",
    "\n",
    "# create_graph(graph, 1, 2)\n",
    "# create_graph(graph, 2, 1)\n",
    "\n",
    "create_graph(graph, 1, 2)\n",
    "create_graph(graph, 1, 3)\n",
    "create_graph(graph, 1, 10)\n",
    "create_graph(graph, 2, 1)\n",
    "create_graph(graph, 2, 4)\n",
    "create_graph(graph, 3, 1)\n",
    "create_graph(graph, 3, 7)\n",
    "create_graph(graph, 4, 2)\n",
    "create_graph(graph, 4, 5)\n",
    "create_graph(graph, 4, 7)\n",
    "create_graph(graph, 4, 8)\n",
    "create_graph(graph, 5, 4)\n",
    "create_graph(graph, 5, 6)\n",
    "create_graph(graph, 6, 5)\n",
    "create_graph(graph, 6, 10)\n",
    "create_graph(graph, 6, 9)\n",
    "create_graph(graph, 7, 3)\n",
    "create_graph(graph, 7, 4)\n",
    "create_graph(graph, 7, 11)\n",
    "create_graph(graph, 8, 4)\n",
    "create_graph(graph, 8, 9)\n",
    "create_graph(graph, 9, 6)\n",
    "create_graph(graph, 9, 8)\n",
    "create_graph(graph, 10, 1)\n",
    "create_graph(graph, 10, 6)\n",
    "create_graph(graph, 11, 7)\n",
    "\n",
    "print(graph)\n",
    "print(\"Does the graph contain a cycle?\", has_cycle(graph))"
   ]
  },
  {
   "cell_type": "code",
   "execution_count": null,
   "id": "f5ba93a2",
   "metadata": {},
   "outputs": [],
   "source": []
  }
 ],
 "metadata": {
  "kernelspec": {
   "display_name": "Python 3 (ipykernel)",
   "language": "python",
   "name": "python3"
  },
  "language_info": {
   "codemirror_mode": {
    "name": "ipython",
    "version": 3
   },
   "file_extension": ".py",
   "mimetype": "text/x-python",
   "name": "python",
   "nbconvert_exporter": "python",
   "pygments_lexer": "ipython3",
   "version": "3.11.3"
  }
 },
 "nbformat": 4,
 "nbformat_minor": 5
}
