{
 "cells": [
  {
   "cell_type": "code",
   "execution_count": 1,
   "id": "9f2f0ccc",
   "metadata": {},
   "outputs": [
    {
     "name": "stdout",
     "output_type": "stream",
     "text": [
      "['j1', 'j6', 'j5', 'j2']\n"
     ]
    }
   ],
   "source": [
    "#job_sequencing\n",
    "arr = [['j1', 2, 20], \n",
    "        ['j2', 4, 30], \n",
    "        ['j3', 3, 13], \n",
    "        ['j4', 1, 12], \n",
    "        ['j5', 3, 35],\n",
    "        ['j6', 4, 25],\n",
    "        ['j7', 2, 5]\n",
    "        ]\n",
    " \n",
    "n = len(arr)\n",
    "\n",
    "for i in range(n):\n",
    "    for j in range(n-1-i):\n",
    "        if arr[j][2]<arr[j+1][2]:\n",
    "            arr[j],arr[j+1]=arr[j+1],arr[j]\n",
    "       \n",
    "visited=[False]*max(job[1] for job in arr)\n",
    "\n",
    "jobs=['-1']*len(visited)\n",
    "\n",
    "for i in range(len(arr)):\n",
    "    for j in range(arr[i][1],-1,-1):\n",
    "        if visited[j-1]==False:\n",
    "            jobs[j-1]=arr[i][0]\n",
    "            visited[j-1]=True\n",
    "            break\n",
    "print(jobs)"
   ]
  },
  {
   "cell_type": "code",
   "execution_count": null,
   "id": "0eab209b",
   "metadata": {},
   "outputs": [],
   "source": []
  }
 ],
 "metadata": {
  "kernelspec": {
   "display_name": "Python 3 (ipykernel)",
   "language": "python",
   "name": "python3"
  },
  "language_info": {
   "codemirror_mode": {
    "name": "ipython",
    "version": 3
   },
   "file_extension": ".py",
   "mimetype": "text/x-python",
   "name": "python",
   "nbconvert_exporter": "python",
   "pygments_lexer": "ipython3",
   "version": "3.10.9"
  }
 },
 "nbformat": 4,
 "nbformat_minor": 5
}
