{
 "cells": [
  {
   "cell_type": "code",
   "execution_count": 1,
   "id": "7034c552",
   "metadata": {},
   "outputs": [
    {
     "name": "stdout",
     "output_type": "stream",
     "text": [
      "Sorted list is: [1, 2, 3, 4, 5, 6, 7, 8, 9]\n"
     ]
    }
   ],
   "source": [
    "#BUBBLE SORT\n",
    "\n",
    "list=[4,7,8,1,9,2,3,6,5]\n",
    "n = len(list)\n",
    "for j in range(1,n):\n",
    "    for i in range(1, n):\n",
    "        if list[i - 1] > list[i]:\n",
    "            list[i - 1], list[i] = list[i], list[i - 1] \n",
    "print(\"Sorted list is:\", list)"
   ]
  },
  {
   "cell_type": "code",
   "execution_count": 5,
   "id": "dd54e3c9",
   "metadata": {},
   "outputs": [
    {
     "name": "stdout",
     "output_type": "stream",
     "text": [
      "Sorted list: [1, 2, 3, 4, 5, 6, 7, 8, 9]\n"
     ]
    }
   ],
   "source": [
    "#INSERTION SORT\n",
    "\n",
    "list=[4,7,8,1,9,2,3,6,5]\n",
    "n = len(list)\n",
    "for i in range(0,n):\n",
    "    for j in range(0,i):\n",
    "        if(list[i]<list[j]):\n",
    "            list[i],list[j]=list[j],list[i]\n",
    "print(\"Sorted list:\", list)"
   ]
  },
  {
   "cell_type": "code",
   "execution_count": 3,
   "id": "73f23de7",
   "metadata": {},
   "outputs": [
    {
     "name": "stdout",
     "output_type": "stream",
     "text": [
      "Sorted List: [1, 2, 3, 4, 5, 6, 7, 8, 9]\n"
     ]
    }
   ],
   "source": [
    "#SELECTION SORT\n",
    "\n",
    "list=[4,7,8,1,9,2,3,6,5]\n",
    "n = len(list)\n",
    "for i in range(0,n):\n",
    "    for j in range(i+1, n):\n",
    "        if list[i] >= list[j]:\n",
    "            list[i], list[j] = list[j],list[i]\n",
    "print(\"Sorted List:\", list)"
   ]
  },
  {
   "cell_type": "code",
   "execution_count": null,
   "id": "4ed71de9",
   "metadata": {},
   "outputs": [],
   "source": []
  }
 ],
 "metadata": {
  "kernelspec": {
   "display_name": "Python 3 (ipykernel)",
   "language": "python",
   "name": "python3"
  },
  "language_info": {
   "codemirror_mode": {
    "name": "ipython",
    "version": 3
   },
   "file_extension": ".py",
   "mimetype": "text/x-python",
   "name": "python",
   "nbconvert_exporter": "python",
   "pygments_lexer": "ipython3",
   "version": "3.11.3"
  }
 },
 "nbformat": 4,
 "nbformat_minor": 5
}
