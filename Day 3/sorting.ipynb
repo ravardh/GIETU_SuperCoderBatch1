{
 "cells": [
  {
   "cell_type": "code",
   "execution_count": 2,
   "metadata": {},
   "outputs": [
    {
     "name": "stdout",
     "output_type": "stream",
     "text": [
      "12 15 9 1 71 77 81 29 70 19 11 83 56 2 57 53 68 99 82 100 22 10 51 40 34 98 80 38 39 89 94 4 26 64 45 8 90 24 93 33 21 7 49 88 5 28 55 67 65 50 32 58 6 37 46 42 20 44 41 3 78 76 73 16 31 85 91 54 60 47 97 43 84 17 35 69 13 30 61 79 72 48 23 66 52 27 62 87 63 18 75 96 14 86 95 74 25 59 36\n",
      "1 2 3 4 5 6 7 8 9 10 11 12 13 14 15 16 17 18 19 20 21 22 23 24 25 26 27 28 29 30 31 32 33 34 35 36 37 38 39 40 41 42 43 44 45 46 47 48 49 50 51 52 53 54 55 56 57 58 59 60 61 62 63 64 65 66 67 68 69 70 71 72 73 74 75 76 77 78 79 80 81 82 83 84 85 86 87 88 89 90 91 93 94 95 96 97 98 99 100\n"
     ]
    }
   ],
   "source": [
    "# Bubble Sort [If current element is greater then the next then swap]\n",
    "\n",
    "arr = list(map(int, input().strip().split()))\n",
    "n = len(arr)\n",
    "print(*arr)\n",
    "for i in range(n):\n",
    "  for j in range(n-i-1):\n",
    "    if arr[j] > arr[j+1]:\n",
    "      arr[j], arr[j+1] = arr[j+1], arr[j]\n",
    "\n",
    "print(*arr)"
   ]
  },
  {
   "cell_type": "code",
   "execution_count": 4,
   "metadata": {},
   "outputs": [
    {
     "name": "stdout",
     "output_type": "stream",
     "text": [
      "12 15 9 1 71 77 81 29 70 19 11 83 56 2 57 53 68 99 82 100 22 10 51 40 34 98 80 38 39 89 94 4 26 64 45 8 90 24 93 33 21 7 49 88 5 28 55 67 65 50 32 58 6 37 46 42 20 44 41 3 78 76 73 16 31 85 91 54 60 47 97 43 84 17 35 69 13 30 61 79 72 48 23 66 52 27 62 87 63 18 75 96 14 86 95 74 25 59 36\n",
      "1 2 3 4 5 6 7 8 9 10 11 12 13 14 15 16 17 18 19 20 21 22 23 24 25 26 27 28 29 30 31 32 33 34 35 36 37 38 39 40 41 42 43 44 45 46 47 48 49 50 51 52 53 54 55 56 57 58 59 60 61 62 63 64 65 66 67 68 69 70 71 72 73 74 75 76 77 78 79 80 81 82 83 84 85 86 87 88 89 90 91 93 94 95 96 97 98 99 100\n"
     ]
    }
   ],
   "source": [
    "# Selection Sort [select the smallest number and swap it to current position]\n",
    "\n",
    "arr = list(map(int, input().strip().split()))\n",
    "n = len(arr)\n",
    "print(*arr)\n",
    "for i in range(n):\n",
    "  for j in range(i+1, n):\n",
    "    if arr[i] > arr[j]:\n",
    "      arr[i], arr[j] = arr[j], arr[i]\n",
    "\n",
    "print(*arr)"
   ]
  },
  {
   "cell_type": "code",
   "execution_count": 1,
   "metadata": {},
   "outputs": [
    {
     "name": "stdout",
     "output_type": "stream",
     "text": [
      "12 15 9 1 71 77 81 29 70 19 11 83 56 2 57 53 68 99 82 100 22 10 51 40 34 98 80 38 39 89 94 4 26 64 45\n",
      "1 2 4 9 10 11 12 15 19 22 26 29 34 38 39 40 45 51 53 56 57 64 68 70 71 77 80 81 82 83 89 94 98 99 100\n"
     ]
    }
   ],
   "source": [
    "'''\n",
    "Insertion Sort\n",
    "i --> 0 to n\n",
    "  temp = arr[i]\n",
    "  j --> i-1 to 0 decrement\n",
    "    if arr[j] > temp:\n",
    "      swap(arr[j], temp)\n",
    "'''\n",
    "\n",
    "arr = list(map(int, input().strip().split()))\n",
    "n = len(arr)\n",
    "print(*arr)\n",
    "\n",
    "for i in range(1, n):\n",
    "  temp = arr[i]\n",
    "  j = i-1\n",
    "  while j>=0 and arr[j] > temp: # pull the values\n",
    "      arr[j+1] = arr[j]\n",
    "      j -= 1\n",
    "  arr[j+1] = temp\n",
    "\n",
    "print(*arr)"
   ]
  }
 ],
 "metadata": {
  "kernelspec": {
   "display_name": "Python 3",
   "language": "python",
   "name": "python3"
  },
  "language_info": {
   "codemirror_mode": {
    "name": "ipython",
    "version": 3
   },
   "file_extension": ".py",
   "mimetype": "text/x-python",
   "name": "python",
   "nbconvert_exporter": "python",
   "pygments_lexer": "ipython3",
   "version": "3.9.13"
  }
 },
 "nbformat": 4,
 "nbformat_minor": 2
}
