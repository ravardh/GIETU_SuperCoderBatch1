{
 "cells": [
  {
   "cell_type": "code",
   "execution_count": 4,
   "metadata": {},
   "outputs": [
    {
     "name": "stdout",
     "output_type": "stream",
     "text": [
      "[1, 2, 3, 'Ankit', 7.7, 34]\n",
      "['append', 'clear', 'copy', 'count', 'extend', 'index', 'insert', 'pop', 'remove', 'reverse', 'sort']\n"
     ]
    }
   ],
   "source": [
    "# List is similar to Union in C\n",
    "\n",
    "arr = [1,2,3,\"Ankit\",7.7,34]  # integers + strings + float\n",
    "print(arr)\n",
    "print([i for i in dir(arr) if i[0] != '_'])\n"
   ]
  },
  {
   "cell_type": "code",
   "execution_count": 1,
   "metadata": {},
   "outputs": [
    {
     "name": "stdout",
     "output_type": "stream",
     "text": [
      "{1: 'Hayabusa'}\n",
      "{1: 'Hayabusa', 2: 'Gladiator'}\n",
      "{1: 'Hayabusa', 2: 'Gladiator', 3: 'Kawasaki Ninja'}\n",
      "{1: 'Hayabusa', 2: 'Gladiator', 3: 'KTM Duke'}\n"
     ]
    }
   ],
   "source": [
    "# Dictionary is similar to HashMap, like key value pair\n",
    "\n",
    "d = {1: \"Hayabusa\"}\n",
    "print(d)  # Output: {1: 'Hayabusa'}\n",
    "\n",
    "d.update({2: \"Gladiator\"})\n",
    "print(d)  # Output: {1: 'Hayabusa', 2: 'Gladiator'}\n",
    "\n",
    "d.update({3: \"Kawasaki Ninja\"})\n",
    "print(d)  # Output: {1: 'Hayabusa', 2: 'Gladiator', 3: 'Kawasaki Ninja'}\n",
    "\n",
    "d.update({3: \"KTM Duke\"})\n",
    "print(d)  # Output: {1: 'Hayabusa', 2: 'Gladiator', 3: 'KTM Duke'}\n",
    "\n"
   ]
  },
  {
   "cell_type": "code",
   "execution_count": 8,
   "metadata": {},
   "outputs": [
    {
     "name": "stdout",
     "output_type": "stream",
     "text": [
      "1 2 3 \n",
      "1 2 3 \n",
      "Hayabusa Gladiator KTM Duke \n"
     ]
    }
   ],
   "source": [
    "for i in d: # only keys\n",
    "  print(i, end=\" \")\n",
    "print()\n",
    "\n",
    "for i in d.keys():  # Keys\n",
    "  print(i, end=\" \")\n",
    "print()\n",
    "\n",
    "for i in d.values():  # Values\n",
    "  print(i, end=\" \")\n",
    "print()\n",
    "\n"
   ]
  },
  {
   "cell_type": "code",
   "execution_count": 14,
   "metadata": {},
   "outputs": [
    {
     "name": "stdout",
     "output_type": "stream",
     "text": [
      "asdas Key is not available in [1, 2, 3]\n",
      "Execution Complete\n"
     ]
    }
   ],
   "source": [
    "s = input(\"Enter any key: \")\n",
    "try:\n",
    "  print(d[s])\n",
    "except KeyError:\n",
    "  print(f\"{s} Key is not available in {list(d.keys())}\")\n",
    "finally:\n",
    "  print(\"Execution Complete\")"
   ]
  }
 ],
 "metadata": {
  "kernelspec": {
   "display_name": "Python 3",
   "language": "python",
   "name": "python3"
  },
  "language_info": {
   "codemirror_mode": {
    "name": "ipython",
    "version": 3
   },
   "file_extension": ".py",
   "mimetype": "text/x-python",
   "name": "python",
   "nbconvert_exporter": "python",
   "pygments_lexer": "ipython3",
   "version": "3.9.13"
  }
 },
 "nbformat": 4,
 "nbformat_minor": 2
}
