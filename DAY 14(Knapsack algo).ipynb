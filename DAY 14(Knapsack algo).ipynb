{
 "cells": [
  {
   "cell_type": "code",
   "execution_count": 1,
   "id": "ef857c8a",
   "metadata": {},
   "outputs": [
    {
     "name": "stdout",
     "output_type": "stream",
     "text": [
      "Enter Item Weight\n",
      "10\n",
      "Enter Item Price\n",
      "23\n",
      "Knapsack Size: 45\n",
      "23\n"
     ]
    }
   ],
   "source": [
    "\n",
    "#KnapSack algo\n",
    "\n",
    "def knapSack(C, wt, P, n):\n",
    "    dp = [[0] * (C + 1) for _ in range(n + 1)]\n",
    "    for i in range(n + 1):\n",
    "        for w in range(C + 1):\n",
    "            if i == 0 or w == 0:\n",
    "                dp[i][w] = 0\n",
    "            elif wt[i - 1] <= w:\n",
    "                dp[i][w] = max(P[i - 1] + dp[i - 1][w - wt[i - 1]], dp[i - 1][w])\n",
    "            else:\n",
    "                dp[i][w] = dp[i - 1][w]\n",
    "    return dp[n][C]\n",
    "\n",
    "w = list(map(int, input(\"Enter Item Weight\\n\").split()))\n",
    "p = list(map(int, input(\"Enter Item Price\\n\").split()))\n",
    "C = int(input(\"Knapsack Size: \"))\n",
    "print(knapSack(C, w, p, len(p)))\n"
   ]
  },
  {
   "cell_type": "code",
   "execution_count": null,
   "id": "19087170",
   "metadata": {},
   "outputs": [],
   "source": []
  }
 ],
 "metadata": {
  "kernelspec": {
   "display_name": "Python 3 (ipykernel)",
   "language": "python",
   "name": "python3"
  },
  "language_info": {
   "codemirror_mode": {
    "name": "ipython",
    "version": 3
   },
   "file_extension": ".py",
   "mimetype": "text/x-python",
   "name": "python",
   "nbconvert_exporter": "python",
   "pygments_lexer": "ipython3",
   "version": "3.10.9"
  }
 },
 "nbformat": 4,
 "nbformat_minor": 5
}
