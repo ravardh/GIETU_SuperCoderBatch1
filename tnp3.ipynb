{
 "cells": [
  {
   "cell_type": "code",
   "execution_count": 1,
   "id": "ce221cd3-8896-4a8d-bc84-4fbcbca9fa92",
   "metadata": {},
   "outputs": [
    {
     "name": "stdout",
     "output_type": "stream",
     "text": [
      "Original array: [3, 6, 8, 10, 1, 2, 1]\n",
      "Sorted array: [1, 1, 2, 3, 6, 8, 10]\n"
     ]
    }
   ],
   "source": [
    "def quick_sort(arr):\n",
    "    if len(arr) <= 1:\n",
    "        return arr\n",
    "    pivot = arr[len(arr) // 2]\n",
    "    left = [x for x in arr if x < pivot]\n",
    "    middle = [x for x in arr if x == pivot]\n",
    "    right = [x for x in arr if x > pivot]\n",
    "    return quick_sort(left) + middle + quick_sort(right)\n",
    "\n",
    "# Example usage:\n",
    "arr = [3, 6, 8, 10, 1, 2, 1]\n",
    "print(\"Original array:\", arr)\n",
    "sorted_arr = quick_sort(arr)\n",
    "print(\"Sorted array:\", sorted_arr)"
   ]
  },
  {
   "cell_type": "code",
   "execution_count": 2,
   "id": "b780ad8e-8747-45ec-b069-87f78744ff00",
   "metadata": {},
   "outputs": [
    {
     "name": "stdout",
     "output_type": "stream",
     "text": [
      "[1, 2, 3, 4, 5, 6, 7, 8, 9]\n"
     ]
    }
   ],
   "source": [
    "def find(ar,S,E):\n",
    "    p=ar[E]\n",
    "    j=S-1\n",
    "    for i in range(S,E):\n",
    "        if ar[i]<p:\n",
    "            j=j+1\n",
    "            ar[i],ar[j]=ar[j],ar[i]\n",
    "    ar[j+1],ar[E]=ar[E],ar[j+1]\n",
    "    return j+1\n",
    "def quickSort(ar,S,E):\n",
    "    if S<E:\n",
    "        pi=find(ar,S,E)\n",
    "        quickSort(ar,S,pi-1)\n",
    "        quickSort(ar,pi+1,E)\n",
    "if __name__=='__main__':\n",
    "    arr=[4,8,2,3,7,5,1,9,6]\n",
    "    quickSort(arr,0,len(arr)-1)\n",
    "    print(arr)"
   ]
  },
  {
   "cell_type": "code",
   "execution_count": 11,
   "id": "19ca81a9-99d3-404e-9665-c48ba24920a0",
   "metadata": {},
   "outputs": [
    {
     "name": "stdout",
     "output_type": "stream",
     "text": [
      "[1, 2, 3, 4, 5, 7, 8]\n"
     ]
    }
   ],
   "source": [
    "def merge_sort(arr):\n",
    "    if len(arr) <= 1:\n",
    "        return arr\n",
    "    mid = len(arr) // 2\n",
    "    left_half = arr[:mid]\n",
    "    right_half = arr[mid:]\n",
    "    left_half = merge_sort(left_half)\n",
    "    right_half = merge_sort(right_half)\n",
    "    sorted_arr = merge(left_half, right_half)\n",
    "    return sorted_arr\n",
    "\n",
    "def merge(left, right):\n",
    "    merged = []\n",
    "    left_idx, right_idx = 0, 0\n",
    "    while left_idx < len(left) and right_idx < len(right):\n",
    "        if left[left_idx] < right[right_idx]:\n",
    "            merged.append(left[left_idx])\n",
    "            left_idx += 1\n",
    "        else:\n",
    "            merged.append(right[right_idx])\n",
    "            right_idx += 1\n",
    "    merged.extend(left[left_idx:])\n",
    "    merged.extend(right[right_idx:])\n",
    "    \n",
    "    return merged\n",
    "arr = [5, 3, 8, 1, 2, 7, 4]\n",
    "sorted_arr = merge_sort(arr)\n",
    "print(sorted_arr)\n",
    "\n",
    "    "
   ]
  },
  {
   "cell_type": "code",
   "execution_count": 4,
   "id": "3ddec451-4667-4001-8cd2-b3dc14bc6f11",
   "metadata": {},
   "outputs": [
    {
     "name": "stdout",
     "output_type": "stream",
     "text": [
      "24\n"
     ]
    }
   ],
   "source": [
    "def max_sum_triplet(ar):\n",
    "    if len(arr)<3:\n",
    "        return None\n",
    "    max_sum=0\n",
    "    for i in range(len(arr)-2):\n",
    "        p=ar[i]+ar[i+1]+ar[i+2]\n",
    "        max_sum=max(max_sum,p)\n",
    "    return max_sum\n",
    "arr=[5,4,2,6,3,8,9,7,4,7,3,6,9,8,2,4,6,8,6,2,3,4,5,1,4,2] \n",
    "print(max_sum_triplet(arr))\n"
   ]
  },
  {
   "cell_type": "code",
   "execution_count": 17,
   "id": "5049c6d7-8a7b-453f-a6c4-2f9a8cc33c56",
   "metadata": {},
   "outputs": [
    {
     "name": "stdin",
     "output_type": "stream",
     "text": [
      " 5\n"
     ]
    },
    {
     "name": "stdout",
     "output_type": "stream",
     "text": [
      "34\n"
     ]
    }
   ],
   "source": [
    "def max_sum_element(ar):\n",
    "    k=int(input())\n",
    "    if len(arr)<k:\n",
    "        return None\n",
    "    max_sum=0\n",
    "    for i in range (0,len(arr)-k):\n",
    "        sum=0\n",
    "        for j in range(i,k+1):\n",
    "            sum=sum+ar[j]\n",
    "            max_sum=max(max_sum,sum)\n",
    "        return max_sum\n",
    "arr=[9,4,8,3,1,9,8,7,6,5,6,9,2,1,3,5,9]\n",
    "print(max_sum_element(arr))"
   ]
  },
  {
   "cell_type": "code",
   "execution_count": null,
   "id": "9622da94-e3b2-4341-a9ce-584986c24d44",
   "metadata": {},
   "outputs": [],
   "source": []
  }
 ],
 "metadata": {
  "kernelspec": {
   "display_name": "Python 3 (ipykernel)",
   "language": "python",
   "name": "python3"
  },
  "language_info": {
   "codemirror_mode": {
    "name": "ipython",
    "version": 3
   },
   "file_extension": ".py",
   "mimetype": "text/x-python",
   "name": "python",
   "nbconvert_exporter": "python",
   "pygments_lexer": "ipython3",
   "version": "3.11.4"
  }
 },
 "nbformat": 4,
 "nbformat_minor": 5
}
