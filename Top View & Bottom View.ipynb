{
 "cells": [
  {
   "cell_type": "code",
   "execution_count": 1,
   "id": "29ba4481",
   "metadata": {},
   "outputs": [
    {
     "name": "stdout",
     "output_type": "stream",
     "text": [
      "Top View : \n",
      "6 7 9 1 2 "
     ]
    }
   ],
   "source": [
    "# Top View\n",
    "\n",
    "class Node:\n",
    "    def __init__(self, data):\n",
    "        self.data = data\n",
    "        self.left = None\n",
    "        self.right = None\n",
    "        self.key = None\n",
    "\n",
    "def topview(root):\n",
    "    if root == None:\n",
    "        return\n",
    "\n",
    "    Q = [root]\n",
    "    key = 0\n",
    "    TV = dict()\n",
    "    root.key = key\n",
    "    \n",
    "    while len(Q) != 0:\n",
    "        curr = Q.pop(0)\n",
    "        key = curr.key\n",
    "        \n",
    "        if key not in TV:\n",
    "            TV[key] = curr.data\n",
    "        \n",
    "        if curr.left != None:\n",
    "            Q.append(curr.left)\n",
    "            curr.left.key = key - 1\n",
    "        \n",
    "        if curr.right != None:\n",
    "            Q.append(curr.right)\n",
    "            curr.right.key = key + 1\n",
    "    \n",
    "    for x in sorted(TV.keys()):\n",
    "        print(TV[x], end = \" \")\n",
    "            \n",
    "root = Node(9)\n",
    "\n",
    "root.left = Node(7)\n",
    "root.right = Node(1)\n",
    "\n",
    "root.left.left = Node(6)\n",
    "root.left.right = Node(4)\n",
    "root.right.left = Node(3)\n",
    "root.right.right = Node(2)\n",
    "\n",
    "root.left.left.right = Node(5)\n",
    "root.right.left.left = Node(11)\n",
    "root.right.left.right = Node(12)\n",
    "\n",
    "root.right.left.right.right = Node(17)\n",
    "\n",
    "print(\"Top View : \")\n",
    "topview(root)"
   ]
  },
  {
   "cell_type": "code",
   "execution_count": 2,
   "id": "fa233bec",
   "metadata": {},
   "outputs": [
    {
     "name": "stdout",
     "output_type": "stream",
     "text": [
      "Bottom View :\n",
      "6 11 3 12 17 "
     ]
    }
   ],
   "source": [
    "# Bottom View\n",
    "\n",
    "class Node:\n",
    "    def __init__(self, data):\n",
    "        self.data = data\n",
    "        self.left = None\n",
    "        self.right = None\n",
    "        self.key = None\n",
    "\n",
    "def bottomView(root):\n",
    "    if root == None:\n",
    "        return\n",
    "    \n",
    "    Q = [root]\n",
    "    key = 0\n",
    "    BV = dict()\n",
    "    root.key = key\n",
    "    \n",
    "    while len(Q) != 0:\n",
    "        cur = Q.pop(0)\n",
    "        key = cur.key\n",
    "        BV[key] = cur.data\n",
    "        \n",
    "        if cur.left != None:\n",
    "            Q.append(cur.left)\n",
    "            cur.left.key = key - 1\n",
    "        \n",
    "        if cur.right != None:\n",
    "            Q.append(cur.right)\n",
    "            cur.right.key = key + 1\n",
    "    \n",
    "    for i in sorted(BV.keys()):\n",
    "        print(BV[i], end = \" \")\n",
    "\n",
    "root = Node(9)\n",
    "\n",
    "root.left = Node(7)\n",
    "root.right = Node(1)\n",
    "\n",
    "root.left.left = Node(6)\n",
    "root.left.right = Node(4)\n",
    "root.right.left = Node(3)\n",
    "root.right.right = Node(2)\n",
    "\n",
    "root.left.left.right = Node(5)\n",
    "root.right.left.left = Node(11)\n",
    "root.right.left.right = Node(12)\n",
    "\n",
    "root.right.left.right.right = Node(17)\n",
    "\n",
    "print(\"Bottom View :\")\n",
    "bottomView(root)"
   ]
  }
 ],
 "metadata": {
  "kernelspec": {
   "display_name": "Python 3 (ipykernel)",
   "language": "python",
   "name": "python3"
  },
  "language_info": {
   "codemirror_mode": {
    "name": "ipython",
    "version": 3
   },
   "file_extension": ".py",
   "mimetype": "text/x-python",
   "name": "python",
   "nbconvert_exporter": "python",
   "pygments_lexer": "ipython3",
   "version": "3.11.3"
  }
 },
 "nbformat": 4,
 "nbformat_minor": 5
}
