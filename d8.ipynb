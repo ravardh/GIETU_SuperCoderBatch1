{
 "cells": [
  {
   "cell_type": "code",
   "execution_count": 9,
   "metadata": {},
   "outputs": [
    {
     "name": "stdout",
     "output_type": "stream",
     "text": [
      "\n",
      "\n",
      "top view\n",
      "4 15 32 20 10 24 2 "
     ]
    }
   ],
   "source": [
    "class node:\n",
    "    def __init__(self,key):\n",
    "        self.data = 0\n",
    "        self.left = None\n",
    "        self.right = None\n",
    "        self.key=key\n",
    "        \n",
    "def topview(root):\n",
    "    if root == None:\n",
    "        return\n",
    "    pos={}\n",
    "    queue = [(root,0)]\n",
    "    while queue:\n",
    "        current,i=queue.pop(0)\n",
    "        if i not in pos:\n",
    "            pos[i]=current.key\n",
    "        if current.left:\n",
    "            queue.append((current.left,i-1))\n",
    "        if current.right:\n",
    "            queue.append((current.right,i+1))    \n",
    "    for key in sorted(pos.keys()):\n",
    "        print(pos[key],end=\" \")\n",
    "            \n",
    "root = node(20)\n",
    "\n",
    "root.left = node(32)\n",
    "root.right = node(10)\n",
    "\n",
    "root.left.left = node(15)\n",
    "root.left.right = node(12)\n",
    "root.right.left = node(8)\n",
    "root.right.right = node(24)\n",
    "\n",
    "root.left.left.left = node(4)\n",
    "root.left.right.left = node(50)\n",
    "root.left.right.right = node(6)\n",
    "root.right.right.left = node(16)\n",
    "root.right.right.right = node(2)\n",
    "\n",
    "root.left.right.left.left = node(40)\n",
    "root.left.right.left.right = node(35)\n",
    "\n",
    "print(\"\\n\\ntop view\")\n",
    "topview(root)"
   ]
  },
  {
   "cell_type": "code",
   "execution_count": null,
   "metadata": {},
   "outputs": [],
   "source": []
  },
  {
   "cell_type": "code",
   "execution_count": null,
   "metadata": {},
   "outputs": [],
   "source": []
  }
 ],
 "metadata": {
  "kernelspec": {
   "display_name": "Python 3",
   "language": "python",
   "name": "python3"
  },
  "language_info": {
   "codemirror_mode": {
    "name": "ipython",
    "version": 3
   },
   "file_extension": ".py",
   "mimetype": "text/x-python",
   "name": "python",
   "nbconvert_exporter": "python",
   "pygments_lexer": "ipython3",
   "version": "3.8.5"
  }
 },
 "nbformat": 4,
 "nbformat_minor": 4
}
