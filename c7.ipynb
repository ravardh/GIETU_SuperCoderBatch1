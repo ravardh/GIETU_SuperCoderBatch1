{
 "cells": [
  {
   "cell_type": "code",
   "execution_count": null,
   "id": "9a7817b4",
   "metadata": {},
   "outputs": [],
   "source": [
    "class Node:\n",
    " \n",
    "    def __init__(self):\n",
    "        self.key = 0\n",
    "        self.left, self.right = None, None\n",
    "        self.key=None\n",
    "        \n",
    "def levelorder(root):\n",
    "    Q=[root]\n",
    "    key=0\n",
    "    root.key=key\n",
    "    TV=Dict()\n",
    "    \n",
    "    while len(Q)>0:\n",
    "        cur=Q.pop(0)\n",
    "        key=cur.key\n",
    "        if cur !=None:\n",
    "            if key not in TV:\n",
    "                TV[key]=cur.data\n",
    "            if cur.left != None:\n",
    "                Q.append(cur.left)\n",
    "                cur.left.key=key-1\n",
    "            if cur.right != None:\n",
    "                Q.append(cur.right)\n",
    "                cur.left.key=key+1\n",
    "    for x in sorted(TV)\n",
    "            \n",
    " "
   ]
  }
 ],
 "metadata": {
  "kernelspec": {
   "display_name": "Python 3 (ipykernel)",
   "language": "python",
   "name": "python3"
  },
  "language_info": {
   "codemirror_mode": {
    "name": "ipython",
    "version": 3
   },
   "file_extension": ".py",
   "mimetype": "text/x-python",
   "name": "python",
   "nbconvert_exporter": "python",
   "pygments_lexer": "ipython3",
   "version": "3.11.4"
  }
 },
 "nbformat": 4,
 "nbformat_minor": 5
}
