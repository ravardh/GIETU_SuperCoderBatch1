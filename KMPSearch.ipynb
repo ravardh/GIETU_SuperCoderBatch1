{
 "cells": [
  {
   "cell_type": "code",
   "execution_count": 1,
   "id": "ef214f5a",
   "metadata": {},
   "outputs": [
    {
     "name": "stdout",
     "output_type": "stream",
     "text": [
      "Enter the data: 'ABBCABAACBABCCBABCBCABCAA'\n",
      "Enter the pattern: 'ABC'\n"
     ]
    }
   ],
   "source": [
    "def KMPSearch(pat, data):\n",
    "    M = len(pat)\n",
    "    N = len(data)\n",
    "    lps = [0]*M\n",
    "    j = 0 \n",
    "\n",
    "    LPS(pat, M, lps)\n",
    "\n",
    "    i = 0 \n",
    "    while (N - i) >= (M - j):\n",
    "        if pat[j] == data[i]:\n",
    "            i += 1\n",
    "            j += 1\n",
    "\n",
    "        if j == M:\n",
    "            print(\"Found pattern at index \" + str(i-j))\n",
    "            j = lps[j-1]\n",
    "\n",
    "        elif i < N and pat[j] != data[i]:\n",
    "            if j != 0:\n",
    "                j = lps[j-1]\n",
    "            else:\n",
    "                i += 1\n",
    "\n",
    "\n",
    "def LPS(pat, M, lps):\n",
    "    len = 0\n",
    "    lps[0] = 0 \n",
    "    i = 1\n",
    "\n",
    "    while i < M:\n",
    "        if pat[i] == pat[len]:\n",
    "            len += 1\n",
    "            lps[i] = len\n",
    "            i += 1'\n",
    "        else:\n",
    "            if len != 0:\n",
    "                len = lps[len-1]\n",
    "            else:\n",
    "                lps[i] = 0\n",
    "                i += 1\n",
    "\n",
    "\n",
    "# Driver code\n",
    "if __name__ == '__main__':\n",
    "    data=input(\"Enter the data: \")\n",
    "    pat=input(\"Enter the pattern: \")\n",
    "    KMPSearch(pat, data)"
   ]
  },
  {
   "cell_type": "code",
   "execution_count": null,
   "id": "e85b0621",
   "metadata": {},
   "outputs": [],
   "source": []
  }
 ],
 "metadata": {
  "kernelspec": {
   "display_name": "Python 3 (ipykernel)",
   "language": "python",
   "name": "python3"
  },
  "language_info": {
   "codemirror_mode": {
    "name": "ipython",
    "version": 3
   },
   "file_extension": ".py",
   "mimetype": "text/x-python",
   "name": "python",
   "nbconvert_exporter": "python",
   "pygments_lexer": "ipython3",
   "version": "3.11.5"
  }
 },
 "nbformat": 4,
 "nbformat_minor": 5
}
