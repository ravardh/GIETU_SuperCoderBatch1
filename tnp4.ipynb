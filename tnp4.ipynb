{
 "cells": [
  {
   "cell_type": "code",
   "execution_count": 1,
   "id": "d894077d-ffa1-45a0-afd1-63574e2eb3c9",
   "metadata": {},
   "outputs": [
    {
     "name": "stdout",
     "output_type": "stream",
     "text": [
      "Found pattern at index 3\n",
      "Found pattern at index 10\n",
      "Found pattern at index 16\n"
     ]
    }
   ],
   "source": [
    "#KMP Algorithm\n",
    "\n",
    "\n",
    "def KMPSearch(pat, data):\n",
    "\tM = len(pat)\n",
    "\tN = len(data)\n",
    "\t\n",
    "\tlps = [0]*M\n",
    "\tj = 0 \n",
    "\t\n",
    "\tLPS(pat, M, lps)\n",
    "\n",
    "\ti = 0 \n",
    "\twhile (N - i) >= (M - j):\n",
    "\t\tif pat[j] == data[i]:\n",
    "\t\t\ti += 1\n",
    "\t\t\tj += 1\n",
    "\n",
    "\t\tif j == M:\n",
    "\t\t\tprint(\"Found pattern at index \" + str(i-j))\n",
    "\t\t\tj = lps[j-1]\n",
    "\n",
    "\t\telif i < N and pat[j] != data[i]:\n",
    "\t\t\tif j != 0:\n",
    "\t\t\t\tj = lps[j-1]\n",
    "\t\t\telse:\n",
    "\t\t\t\ti += 1\n",
    "\n",
    "\n",
    "\n",
    "def LPS(pat, M, lps):\n",
    "\tlen = 0 \n",
    "\n",
    "\tlps[0] = 0 \n",
    "\ti = 1\n",
    "\n",
    "\t\n",
    "\twhile i < M:\n",
    "\t\tif pat[i] == pat[len]:\n",
    "\t\t\tlen += 1\n",
    "\t\t\tlps[i] = len\n",
    "\t\t\ti += 1\n",
    "\t\telse:\n",
    "\t\t\tif len != 0:\n",
    "\t\t\t\tlen = lps[len-1]\n",
    "\t\t\telse:\n",
    "\t\t\t\tlps[i] = 0\n",
    "\t\t\t\ti += 1\n",
    "if __name__ == '__main__':\n",
    "\tdata = \"ABAABABCABABABCAABABCABAC\"\n",
    "\tpat = \"ABABC\"\n",
    "\tKMPSearch(pat, data)\n"
   ]
  },
  {
   "cell_type": "code",
   "execution_count": 2,
   "id": "ad5ad16f-015d-41a5-90aa-d6a73d599e00",
   "metadata": {},
   "outputs": [
    {
     "name": "stdout",
     "output_type": "stream",
     "text": [
      "2\n",
      "11\n",
      "16\n"
     ]
    }
   ],
   "source": [
    "str=\"ABABCABACBCABCABABCABACB\"\n",
    "pat=\"ABC\"\n",
    "for i in range (len(str)-3):\n",
    "    if(str[i:i+3]==pat):\n",
    "        print(i)\n",
    "    "
   ]
  },
  {
   "cell_type": "code",
   "execution_count": 3,
   "id": "4812e5e8-fc88-433b-af1b-42d62125b306",
   "metadata": {},
   "outputs": [
    {
     "name": "stdout",
     "output_type": "stream",
     "text": [
      "<__main__.node object at 0x0000020E7CA0CCD0>\n",
      "1\n",
      "<__main__.node object at 0x0000020E7CA0E350>\n",
      "2\n",
      "<__main__.node object at 0x0000020E7CA0DDD0>\n",
      "3\n",
      "<__main__.node object at 0x0000020E7CA0EC90>\n",
      "4\n",
      "<__main__.node object at 0x0000020E7CA0F150>\n",
      "5\n",
      "<__main__.node object at 0x0000020E7CA0E850>\n",
      "6\n",
      "None\n"
     ]
    }
   ],
   "source": [
    "#linked list\n",
    "class node:\n",
    "    def __init__(self,data=None):\n",
    "        self.data=data\n",
    "        self.next=None\n",
    "n1=node(1)\n",
    "n2=node(2)\n",
    "n3=node(3)\n",
    "n4=node(4)\n",
    "n5=node(5)\n",
    "n6=node(6)\n",
    "start=n1\n",
    "n1.next=n2\n",
    "n2.next=n3\n",
    "n3.next=n4\n",
    "n4.next=n5\n",
    "n5.next=n6\n",
    "print(start)\n",
    "cur=start\n",
    "while cur:\n",
    "    print(cur.data)\n",
    "    cur=cur.next\n",
    "    print(cur)\n",
    "\n"
   ]
  },
  {
   "cell_type": "code",
   "execution_count": 11,
   "id": "a4782e6b-022c-4b8c-a9c4-770ac5888ae8",
   "metadata": {},
   "outputs": [
    {
     "name": "stdout",
     "output_type": "stream",
     "text": [
      "7,5,9,3,"
     ]
    }
   ],
   "source": [
    "#insert at begin\n",
    "class Node:\n",
    "    def __init__(self, data):\n",
    "        self.data = data\n",
    "        self.next = None\n",
    "\n",
    "class LinkedList:\n",
    "    def __init__(self):\n",
    "        self.head = None\n",
    "\n",
    "    def insert_at_beginning(self, data):\n",
    "        new_node = Node(data)\n",
    "        new_node.next = self.head\n",
    "        self.head = new_node\n",
    "\n",
    "    def display(self):\n",
    "        current = self.head\n",
    "        while current:\n",
    "            print(current.data,end=\",\")\n",
    "            current = current.next\n",
    "ll = LinkedList()\n",
    "ll.insert_at_beginning(3)\n",
    "ll.insert_at_beginning(9)\n",
    "ll.insert_at_beginning(5)\n",
    "ll.insert_at_beginning(7)\n",
    "ll.display()"
   ]
  },
  {
   "cell_type": "code",
   "execution_count": 13,
   "id": "d3b19e64-58eb-409a-b904-5cdea926dc48",
   "metadata": {},
   "outputs": [
    {
     "name": "stdout",
     "output_type": "stream",
     "text": [
      "1 , 2 , 3 , "
     ]
    }
   ],
   "source": [
    "#at end\n",
    "class LinkedList:\n",
    "    def __init__(self):\n",
    "        self.head = None\n",
    "\n",
    "    def append(self, data):\n",
    "        new_node = Node(data)\n",
    "        if self.head is None:\n",
    "            self.head = new_node\n",
    "            return\n",
    "        last_node = self.head\n",
    "        while last_node.next:\n",
    "            last_node = last_node.next\n",
    "        last_node.next = new_node\n",
    "\n",
    "    def display(self):\n",
    "        current = self.head\n",
    "        while current:\n",
    "            print(current.data, end=\" , \")\n",
    "            current = current.next\n",
    "llist = LinkedList()\n",
    "llist.append(1)\n",
    "llist.append(2)\n",
    "llist.append(3)\n",
    "llist.display()"
   ]
  },
  {
   "cell_type": "code",
   "execution_count": 14,
   "id": "69e23aac-6d26-401e-8515-72d78f46e8cf",
   "metadata": {},
   "outputs": [
    {
     "name": "stdin",
     "output_type": "stream",
     "text": [
      "Enter the number of elements to append:  3\n",
      "Enter data:  1\n",
      "Enter data:  2\n",
      "Enter data:  3\n",
      "Enter the position to insert at:  1\n",
      "Enter the data to insert:  4\n"
     ]
    },
    {
     "name": "stdout",
     "output_type": "stream",
     "text": [
      "Linked list after insertion:\n",
      "1 -> 4 -> 2 -> 3 -> None\n"
     ]
    }
   ],
   "source": [
    "class Node:\n",
    "    def __init__(self, data):\n",
    "        self.data = data\n",
    "        self.next = None\n",
    "\n",
    "class LinkedList:\n",
    "    def __init__(self):\n",
    "        self.head = None\n",
    "\n",
    "    def append(self, data):\n",
    "        new_node = Node(data)\n",
    "        if self.head is None:\n",
    "            self.head = new_node\n",
    "            return\n",
    "        last_node = self.head\n",
    "        while last_node.next:\n",
    "            last_node = last_node.next\n",
    "        last_node.next = new_node\n",
    "\n",
    "    def insert_at_position(self, data, position):\n",
    "        if position < 0:\n",
    "            print(\"Invalid position\")\n",
    "            return\n",
    "        new_node = Node(data)\n",
    "        if position == 0:\n",
    "            new_node.next = self.head\n",
    "            self.head = new_node\n",
    "            return\n",
    "        current = self.head\n",
    "        for _ in range(position - 1):\n",
    "            if current is None:\n",
    "                print(\"Position out of bounds\")\n",
    "                return\n",
    "            current = current.next\n",
    "        if current is None:\n",
    "            print(\"Position out of bounds\")\n",
    "            return\n",
    "        new_node.next = current.next\n",
    "        current.next = new_node\n",
    "\n",
    "    def display(self):\n",
    "        current = self.head\n",
    "        while current:\n",
    "            print(current.data, end=\" , \")\n",
    "            current = current.next\n",
    "        print(\"None\")\n",
    "llist = LinkedList()\n",
    "n = int(input(\"Enter the number of elements to append: \"))\n",
    "for _ in range(n):\n",
    "    data = int(input(\"Enter data: \"))\n",
    "    llist.append(data)\n",
    "\n",
    "position = int(input(\"Enter the position to insert at: \"))\n",
    "data = int(input(\"Enter the data to insert: \"))\n",
    "llist.insert_at_position(data, position)\n",
    "\n",
    "print(\"Linked list after insertion:\")\n",
    "llist.display()\n"
   ]
  },
  {
   "cell_type": "code",
   "execution_count": null,
   "id": "2cd01a7b-45c3-47d4-839e-6e6addcc3b3f",
   "metadata": {},
   "outputs": [],
   "source": []
  }
 ],
 "metadata": {
  "kernelspec": {
   "display_name": "Python 3 (ipykernel)",
   "language": "python",
   "name": "python3"
  },
  "language_info": {
   "codemirror_mode": {
    "name": "ipython",
    "version": 3
   },
   "file_extension": ".py",
   "mimetype": "text/x-python",
   "name": "python",
   "nbconvert_exporter": "python",
   "pygments_lexer": "ipython3",
   "version": "3.11.4"
  }
 },
 "nbformat": 4,
 "nbformat_minor": 5
}
