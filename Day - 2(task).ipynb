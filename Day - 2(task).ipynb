{
 "cells": [
  {
   "cell_type": "code",
   "execution_count": null,
   "metadata": {},
   "outputs": [],
   "source": [
    "a=float(input(\"enter a no.\"))\n",
    "b=float(input(\"enter a no.\"))\n",
    "print(\"what kind of operation\")\n",
    "print(\"addition/subtraction/floor division/multiplication/modulas/division\")\n",
    "c=input()\n",
    "\n",
    "if(c==\"addition\"):\n",
    "    print(a+b)\n",
    "elif(c==\"subtraction\"):\n",
    "    print(a-b)\n",
    "elif(c==\"floor division\"):\n",
    "    print(a//b)\n",
    "elif(c==\"multiplication\"):\n",
    "    print(a*b)\n",
    "elif(c==\"modulas\"):\n",
    "    print(a%b)\n",
    "elif(c==\"division\"):\n",
    "    print(a/b)\n",
    "else:\n",
    "    print(\"correct option\")"
   ]
  },
  {
   "cell_type": "code",
   "execution_count": null,
   "metadata": {},
   "outputs": [],
   "source": []
  },
  {
   "cell_type": "code",
   "execution_count": null,
   "metadata": {},
   "outputs": [],
   "source": []
  }
 ],
 "metadata": {
  "kernelspec": {
   "display_name": "Python 3",
   "language": "python",
   "name": "python3"
  },
  "language_info": {
   "codemirror_mode": {
    "name": "ipython",
    "version": 3
   },
   "file_extension": ".py",
   "mimetype": "text/x-python",
   "name": "python",
   "nbconvert_exporter": "python",
   "pygments_lexer": "ipython3",
   "version": "3.8.5"
  }
 },
 "nbformat": 4,
 "nbformat_minor": 4
}
