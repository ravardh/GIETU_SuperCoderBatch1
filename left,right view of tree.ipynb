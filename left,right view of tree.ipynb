{
 "cells": [
  {
   "cell_type": "code",
   "execution_count": 1,
   "id": "e3a649b8",
   "metadata": {},
   "outputs": [
    {
     "ename": "NameError",
     "evalue": "name 'data' is not defined",
     "output_type": "error",
     "traceback": [
      "\u001b[1;31m---------------------------------------------------------------------------\u001b[0m",
      "\u001b[1;31mNameError\u001b[0m                                 Traceback (most recent call last)",
      "Cell \u001b[1;32mIn[1], line 58\u001b[0m\n\u001b[0;32m     52\u001b[0m     dfs(root, \u001b[38;5;241m0\u001b[39m)\n\u001b[0;32m     53\u001b[0m     \u001b[38;5;28;01mreturn\u001b[39;00m result\n\u001b[1;32m---> 58\u001b[0m root\u001b[38;5;241m=\u001b[39mnode(\u001b[38;5;241m20\u001b[39m)\n\u001b[0;32m     59\u001b[0m root\u001b[38;5;241m.\u001b[39mleft \u001b[38;5;241m=\u001b[39m node(\u001b[38;5;241m32\u001b[39m)\n\u001b[0;32m     60\u001b[0m root\u001b[38;5;241m.\u001b[39mright \u001b[38;5;241m=\u001b[39m node(\u001b[38;5;241m10\u001b[39m)\n",
      "Cell \u001b[1;32mIn[1], line 3\u001b[0m, in \u001b[0;36mnode.__init__\u001b[1;34m(self, info)\u001b[0m\n\u001b[0;32m      2\u001b[0m \u001b[38;5;28;01mdef\u001b[39;00m \u001b[38;5;21m__init__\u001b[39m(\u001b[38;5;28mself\u001b[39m,info):\n\u001b[1;32m----> 3\u001b[0m     \u001b[38;5;28mself\u001b[39m\u001b[38;5;241m.\u001b[39minfo\u001b[38;5;241m=\u001b[39mdata\n\u001b[0;32m      4\u001b[0m     \u001b[38;5;28mself\u001b[39m\u001b[38;5;241m.\u001b[39mleft\u001b[38;5;241m=\u001b[39m\u001b[38;5;28;01mNone\u001b[39;00m\n\u001b[0;32m      5\u001b[0m     \u001b[38;5;28mself\u001b[39m\u001b[38;5;241m.\u001b[39mright\u001b[38;5;241m=\u001b[39m\u001b[38;5;28;01mNone\u001b[39;00m\n",
      "\u001b[1;31mNameError\u001b[0m: name 'data' is not defined"
     ]
    }
   ],
   "source": [
    "class node:\n",
    "    def __init__(self,info):\n",
    "        self.info=data\n",
    "        self.left=None\n",
    "        self.right=None\n",
    "\n",
    "def levelorder(root):\n",
    "    Q=[root]\n",
    "    Q.append(None)\n",
    "    while len(Q)>0:\n",
    "        cur = Q.pop(0)\n",
    "        if cur == None:\n",
    "            print()\n",
    "            if len(Q)>0:\n",
    "                Q.append(None)\n",
    "        else:\n",
    "            print(cur.data, end = \" \")\n",
    "            if cur.left != None:\n",
    "                Q.append(cur.left)\n",
    "            if cur.right != None:\n",
    "                Q.append(cur.right)       \n",
    "        \n",
    "def left_view(root):\n",
    "    result = []\n",
    "    def dfs(node, level):\n",
    "        nonlocal result\n",
    "        if not node:\n",
    "            return\n",
    "        if level == len(result):\n",
    "            result.append(node.data)\n",
    "        dfs(node.left, level + 1)\n",
    "        dfs(node.right, level + 1)\n",
    "    \n",
    "    dfs(root, 0)\n",
    "    return result        \n",
    "\n",
    "\n",
    "\n",
    "def right_view(root):\n",
    "    result = []\n",
    "\n",
    "    def dfs(node, level):\n",
    "        nonlocal result\n",
    "        if node is None:\n",
    "            return\n",
    "        if level == len(result):\n",
    "            result.append(node.info)\n",
    "        # Traverse right child first for the right view\n",
    "        dfs(node.right, level + 1)\n",
    "        dfs(node.left, level + 1)\n",
    "\n",
    "    dfs(root, 0)\n",
    "    return result\n",
    "    \n",
    "        \n",
    "        \n",
    "        \n",
    "root=node(20)\n",
    "root.left = node(32)\n",
    "root.right = node(10)\n",
    "\n",
    "root.left.left = node(15)\n",
    "root.left.right = node(12)\n",
    "root.right.left = node(8)\n",
    "root.right.right = node(24)\n",
    "\n",
    "root.left.left.left = node(4)\n",
    "root.left.right.left = node(50)\n",
    "root.left.right.right = node(6)\n",
    "root.right.right.left = node(16)\n",
    "root.right.right.right = node(2)\n",
    "\n",
    "root.left.right.left.left = node(40)\n",
    "root.left.right.left.right = node(35)\n"
   ]
  },
  {
   "cell_type": "code",
   "execution_count": null,
   "id": "d1bd8241",
   "metadata": {},
   "outputs": [],
   "source": []
  }
 ],
 "metadata": {
  "kernelspec": {
   "display_name": "Python 3 (ipykernel)",
   "language": "python",
   "name": "python3"
  },
  "language_info": {
   "codemirror_mode": {
    "name": "ipython",
    "version": 3
   },
   "file_extension": ".py",
   "mimetype": "text/x-python",
   "name": "python",
   "nbconvert_exporter": "python",
   "pygments_lexer": "ipython3",
   "version": "3.11.3"
  }
 },
 "nbformat": 4,
 "nbformat_minor": 5
}
