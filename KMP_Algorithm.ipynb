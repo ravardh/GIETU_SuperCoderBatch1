{
 "cells": [
  {
   "cell_type": "code",
   "execution_count": 15,
   "id": "056d00dd-238d-4850-a52b-ba32b2c98e0c",
   "metadata": {},
   "outputs": [
    {
     "name": "stdout",
     "output_type": "stream",
     "text": [
      "2\n"
     ]
    }
   ],
   "source": [
    "if __name__==\"__main__\":\n",
    "    S=\"ABABCABACBCABCABABCABACB\"\n",
    "    p=\"ABCA\"\n",
    "    if p not in S:\n",
    "        print(\"No Match\")\n",
    "    else:\n",
    "        for i in range(len(S)-len(p)):\n",
    "            if(S[i:(i+len(p))]==p):\n",
    "                print(i)\n",
    "                break\n",
    "            "
   ]
  },
  {
   "cell_type": "code",
   "execution_count": 20,
   "id": "50bd5787-c9ca-460e-b73e-f683511bffe5",
   "metadata": {},
   "outputs": [
    {
     "name": "stdout",
     "output_type": "stream",
     "text": [
      "Found pattern at index 2\n",
      "Found pattern at index 11\n",
      "Found pattern at index 16\n"
     ]
    }
   ],
   "source": [
    "#KMP Algorithm\n",
    "\n",
    "\n",
    "def KMPSearch(pat, data):\n",
    "\tM = len(pat)\n",
    "\tN = len(data)\n",
    "\t\n",
    "\tlps = [0]*M\n",
    "\tj = 0 \n",
    "\t\n",
    "\tLPS(pat, M, lps)\n",
    "\n",
    "\ti = 0 \n",
    "\twhile (N - i) >= (M - j):\n",
    "\t\tif pat[j] == data[i]:\n",
    "\t\t\ti += 1\n",
    "\t\t\tj += 1\n",
    "        \n",
    "\t\tif j == M:\n",
    "\t\t\tprint(\"Found pattern at index \" + str(i-j))\n",
    "\t\t\tj = lps[j-1]\n",
    "\n",
    "\t\telif i < N and pat[j] != data[i]:\n",
    "\t\t\tif j != 0:\n",
    "\t\t\t\tj = lps[j-1]\n",
    "\t\t\telse:\n",
    "\t\t\t\ti += 1\n",
    "\n",
    "\n",
    "\n",
    "def LPS(pat, M, lps):\n",
    "\tlen = 0 \n",
    "\n",
    "\tlps[0] = 0 \n",
    "\ti = 1\n",
    "\n",
    "\t\n",
    "\twhile i < M:\n",
    "\t\tif pat[i] == pat[len]:\n",
    "\t\t\tlen += 1\n",
    "\t\t\tlps[i] = len\n",
    "\t\t\ti += 1\n",
    "\t\telse:\n",
    "\t\t\tif len != 0:\n",
    "\t\t\t\tlen = lps[len-1]\n",
    "\t\t\telse:\n",
    "\t\t\t\tlps[i] = 0\n",
    "\t\t\t\ti += 1\n",
    "\n",
    "\n",
    "# Driver code\n",
    "if __name__ == '__main__':\n",
    "\tdata = \"ABABCABACBCABCABABCABACB\"\n",
    "\tpat = \"ABCA\"\n",
    "\tKMPSearch(pat, data)"
   ]
  },
  {
   "cell_type": "code",
   "execution_count": null,
   "id": "84e52b5d-937b-4347-8ffe-8509bd60b86c",
   "metadata": {},
   "outputs": [],
   "source": []
  }
 ],
 "metadata": {
  "kernelspec": {
   "display_name": "Python 3 (ipykernel)",
   "language": "python",
   "name": "python3"
  },
  "language_info": {
   "codemirror_mode": {
    "name": "ipython",
    "version": 3
   },
   "file_extension": ".py",
   "mimetype": "text/x-python",
   "name": "python",
   "nbconvert_exporter": "python",
   "pygments_lexer": "ipython3",
   "version": "3.12.1"
  }
 },
 "nbformat": 4,
 "nbformat_minor": 5
}
