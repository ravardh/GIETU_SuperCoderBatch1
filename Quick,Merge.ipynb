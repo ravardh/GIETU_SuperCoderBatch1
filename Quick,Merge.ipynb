{
  "nbformat": 4,
  "nbformat_minor": 0,
  "metadata": {
    "colab": {
      "provenance": [],
      "authorship_tag": "ABX9TyNV1qoRj2T2HiVGXVBUQT9N",
      "include_colab_link": true
    },
    "kernelspec": {
      "name": "python3",
      "display_name": "Python 3"
    },
    "language_info": {
      "name": "python"
    }
  },
  "cells": [
    {
      "cell_type": "markdown",
      "metadata": {
        "id": "view-in-github",
        "colab_type": "text"
      },
      "source": [
        "<a href=\"https://colab.research.google.com/github/ravardh/GIETU_SuperCoderBatch1/blob/Mousumi_21cseaiml026/Quick%2CMerge.ipynb\" target=\"_parent\"><img src=\"https://colab.research.google.com/assets/colab-badge.svg\" alt=\"Open In Colab\"/></a>"
      ]
    },
    {
      "cell_type": "code",
      "execution_count": null,
      "metadata": {
        "id": "r2rN-gTrj2Hx"
      },
      "outputs": [],
      "source": [
        "#QuickSort\n",
        "def partition(arr, start, end):\n",
        "    j = start - 1\n",
        "    ele = arr[end]\n",
        "    for i in range(start, end):\n",
        "        if arr[i] <= ele:\n",
        "            j = j + 1\n",
        "            arr[i], arr[j] = arr[j], arr[i]\n",
        "    arr[j + 1], arr[end]= arr[end], arr[j + 1]\n",
        "    return j + 1\n",
        "\n",
        "def quickSort(arr, start, end):\n",
        "    if start < end:\n",
        "        pidx = partition(arr, start, end)\n",
        "        quickSort(arr, start, pidx - 1)\n",
        "        quickSort(arr, pidx + 1, end)\n",
        "\n",
        "n = eval(input(\"Enter a list of elements for sorting: \"))\n",
        "quickSort(n, 0, len(n) - 1)\n",
        "print(\"After Sorting:\", n)"
      ]
    },
    {
      "cell_type": "code",
      "source": [
        "#MergeSort\n",
        "def mergeSort(arr, low, high):\n",
        "    if low < high:\n",
        "        mid = (low + high) // 2\n",
        "        mergeSort(arr, low, mid)\n",
        "        mergeSort(arr, mid + 1, high)\n",
        "        merge(arr, low, mid, high)\n",
        "\n",
        "def merge(arr, low, mid, high):\n",
        "    i = low\n",
        "    j = mid + 1\n",
        "    k = low\n",
        "    arr1 = []\n",
        "\n",
        "    while i <= mid and j <= high:\n",
        "        if arr[i] < arr[j]:\n",
        "            arr1.append(arr[i])\n",
        "            i = i + 1\n",
        "        else:\n",
        "            arr1.append(arr[j])\n",
        "            j = j + 1\n",
        "\n",
        "    while i <= mid:\n",
        "        arr1.append(arr[i])\n",
        "        i = i + 1\n",
        "\n",
        "    while j <= high:\n",
        "        arr1.append(arr[j])\n",
        "        j = j + 1\n",
        "\n",
        "    for i in range(len(arr1)):\n",
        "        arr[low + i] = arr1[i]\n",
        "\n",
        "\n",
        "arr = eval(input(\"Enter a list of elements for sorting: \"))\n",
        "mergeSort(arr, 0, len(arr) - 1)\n",
        "print(\"After Sorting:\", arr)"
      ],
      "metadata": {
        "colab": {
          "base_uri": "https://localhost:8080/",
          "height": 263
        },
        "id": "9rVCr2Cpj6iK",
        "outputId": "074495aa-aa2d-4e2b-93a0-cc8bf40c5127"
      },
      "execution_count": 3,
      "outputs": [
        {
          "name": "stdout",
          "output_type": "stream",
          "text": [
            "Enter a list of elements for sorting: 3 2 4 5\n"
          ]
        },
        {
          "output_type": "error",
          "ename": "SyntaxError",
          "evalue": "invalid syntax (<string>, line 1)",
          "traceback": [
            "Traceback \u001b[0;36m(most recent call last)\u001b[0m:\n",
            "  File \u001b[1;32m\"/usr/local/lib/python3.10/dist-packages/IPython/core/interactiveshell.py\"\u001b[0m, line \u001b[1;32m3553\u001b[0m, in \u001b[1;35mrun_code\u001b[0m\n    exec(code_obj, self.user_global_ns, self.user_ns)\n",
            "\u001b[0;36m  File \u001b[0;32m\"<ipython-input-3-e2f672fb2abc>\"\u001b[0;36m, line \u001b[0;32m35\u001b[0;36m, in \u001b[0;35m<cell line: 35>\u001b[0;36m\u001b[0m\n\u001b[0;31m    arr = eval(input(\"Enter a list of elements for sorting: \"))\u001b[0m\n",
            "\u001b[0;36m  File \u001b[0;32m\"<string>\"\u001b[0;36m, line \u001b[0;32m1\u001b[0m\n\u001b[0;31m    3 2 4 5\u001b[0m\n\u001b[0m      ^\u001b[0m\n\u001b[0;31mSyntaxError\u001b[0m\u001b[0;31m:\u001b[0m invalid syntax\n"
          ]
        }
      ]
    },
    {
      "cell_type": "code",
      "source": [],
      "metadata": {
        "id": "UroQHzE8kWD2"
      },
      "execution_count": null,
      "outputs": []
    }
  ]
}