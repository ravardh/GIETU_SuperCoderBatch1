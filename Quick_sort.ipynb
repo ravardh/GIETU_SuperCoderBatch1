{
 "cells": [
  {
   "cell_type": "code",
   "execution_count": 1,
   "id": "6547a9e9-0041-40d2-b4fc-54af2c68f83b",
   "metadata": {},
   "outputs": [
    {
     "data": {
      "text/plain": [
       "[1, 2, 3, 4, 5, 6, 7, 8, 9]"
      ]
     },
     "execution_count": 1,
     "metadata": {},
     "output_type": "execute_result"
    }
   ],
   "source": [
    "#quick sort\n",
    "def partition(l,p,r):\n",
    "    piv=l[r]\n",
    "    i=p-1;\n",
    "    for j in range(p,r):\n",
    "        if(piv>=l[j]):\n",
    "            i+=1\n",
    "            l[j],l[i]=l[i],l[j]\n",
    "    i+=1\n",
    "    l[i],l[r]=l[r],l[i];\n",
    "    return i\n",
    "def quick_sort(l,p,r):\n",
    "    if(p<r):\n",
    "        q=partition(l,p,r)\n",
    "        quick_sort(l,p,q-1)\n",
    "        quick_sort(l,q+1,r)\n",
    "l=[4,8,7,1,9,2,3,6,5]\n",
    "quick_sort(l,0,len(l)-1)\n",
    "l  "
   ]
  },
  {
   "cell_type": "code",
   "execution_count": null,
   "id": "2bf058b5-f653-425a-8d49-9f483d24aacd",
   "metadata": {},
   "outputs": [],
   "source": []
  }
 ],
 "metadata": {
  "kernelspec": {
   "display_name": "Python 3 (ipykernel)",
   "language": "python",
   "name": "python3"
  },
  "language_info": {
   "codemirror_mode": {
    "name": "ipython",
    "version": 3
   },
   "file_extension": ".py",
   "mimetype": "text/x-python",
   "name": "python",
   "nbconvert_exporter": "python",
   "pygments_lexer": "ipython3",
   "version": "3.12.1"
  }
 },
 "nbformat": 4,
 "nbformat_minor": 5
}
