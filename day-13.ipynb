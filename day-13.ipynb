{
 "cells": [
  {
   "cell_type": "code",
   "execution_count": 3,
   "id": "693e38d2",
   "metadata": {},
   "outputs": [
    {
     "name": "stdout",
     "output_type": "stream",
     "text": [
      "{1: [2, 3], 2: [1, 6], 3: [1, 5, 4], 6: [2, 4], 5: [3], 4: [3, 6]}\n"
     ]
    }
   ],
   "source": [
    "#graph\n",
    "def create_adjacency_list(graph):\n",
    "    adjacency_list = {}\n",
    "    \n",
    "    for edge in graph:\n",
    "        if edge[0] in adjacency_list:\n",
    "            adjacency_list[edge[0]].append(edge[1])\n",
    "        else:\n",
    "            adjacency_list[edge[0]] = [edge[1]]\n",
    "        \n",
    "        if edge[1] in adjacency_list:\n",
    "            adjacency_list[edge[1]].append(edge[0])\n",
    "        else:\n",
    "            adjacency_list[edge[1]] = [edge[0]]\n",
    "    \n",
    "    return adjacency_list\n",
    "\n",
    "graph = [(1, 2),(1, 3),(2, 6),(3,5),(3,4),(4,6)]\n",
    "adj_list = create_adjacency_list(graph)\n",
    "print(adj_list)"
   ]
  },
  {
   "cell_type": "code",
   "execution_count": 4,
   "id": "be05be17",
   "metadata": {},
   "outputs": [
    {
     "name": "stdout",
     "output_type": "stream",
     "text": [
      "BFS result starting from vertex 1: [1, 2, 3, 6, 5, 4]\n"
     ]
    }
   ],
   "source": [
    "#breadth_first_search\n",
    "from collections import deque\n",
    "def bfs(adj_list, start):\n",
    "    visited = set ()\n",
    "    result = []\n",
    "    queue = deque([start])\n",
    "     \n",
    "\n",
    "    while queue:\n",
    "        current_vertex = queue.popleft()\n",
    "        if current_vertex not in visited:\n",
    "            visited.add(current_vertex)\n",
    "            result.append(current_vertex)\n",
    "            queue.extend(adj_list.get(current_vertex, []))\n",
    "\n",
    "    return result\n",
    "\n",
    "bfs_result = bfs(adj_list, 1)\n",
    "print(\"BFS result starting from vertex 1:\", bfs_result)"
   ]
  },
  {
   "cell_type": "code",
   "execution_count": 49,
   "id": "09ed1072",
   "metadata": {},
   "outputs": [
    {
     "name": "stdout",
     "output_type": "stream",
     "text": [
      "edge:(0, 1, 0)\n",
      "edge:(1, 0, 0)\n",
      "edge:(1, 2, 0)\n",
      "edge:(2, 1, 0)\n",
      "edge:(2, 3, 0)\n",
      "edge:(3, 2, 0)\n",
      "edge:(3, 0, 0)\n",
      "edge:(0, 3, 0)\n",
      "edge:(1, 3, 0)\n",
      "edge:(3, 1, 0)\n"
     ]
    }
   ],
   "source": [
    "class Graph:\n",
    "    def __init__(self,vertices):\n",
    "        self.vertices = vertices\n",
    "        self.adj_matrix = [[0] * vertices for i in range(vertices)]\n",
    "        self.edge_weights = []\n",
    "    def add_edge(self, source, destination, weight):\n",
    "        self.adj_matrix[source][destination] = weight\n",
    "        self.adj_matrix[destination][source] = weight\n",
    "        self.edge_weights.append((source, destination, weight))\n",
    "        self.edge_weights.append((destination, source, weight))\n",
    "    def print_edges(self):\n",
    "        for edge in self.edge_weights :\n",
    "            print(f\"edge:{edge}\")\n",
    "graph = Graph(4)\n",
    "\n",
    "graph.add_edge(0, 1, 0)\n",
    "graph.add_edge(1, 2,0)\n",
    "graph.add_edge(2, 3,0)\n",
    "graph.add_edge(3, 0,0)\n",
    "graph.add_edge(1, 3,0)\n",
    "\n",
    "graph.print_edges()"
   ]
  },
  {
   "cell_type": "code",
   "execution_count": 9,
   "id": "32cde1a0",
   "metadata": {},
   "outputs": [
    {
     "name": "stdout",
     "output_type": "stream",
     "text": [
      "BFS result starting from vertex 0: [0, 1, 3, 2]\n"
     ]
    }
   ],
   "source": [
    "from collections import deque\n",
    "\n",
    "\n",
    "def bfs(self, start):\n",
    "    visited = set()\n",
    "    result = []\n",
    "    queue = deque([start])\n",
    "\n",
    "    while queue:\n",
    "        current_vertex = queue.popleft()\n",
    "        if current_vertex not in visited:\n",
    "            visited.add(current_vertex)\n",
    "            result.append(current_vertex)\n",
    "            queue.extend(self.adj_list[current_vertex])\n",
    "\n",
    "    return result\n",
    "\n",
    "\n",
    "bfs_result = graph.bfs(0)  \n",
    "print(\"BFS result starting from vertex 0:\", bfs_result)\n"
   ]
  },
  {
   "cell_type": "code",
   "execution_count": null,
   "id": "b6792da5",
   "metadata": {},
   "outputs": [],
   "source": []
  }
 ],
 "metadata": {
  "kernelspec": {
   "display_name": "Python 3 (ipykernel)",
   "language": "python",
   "name": "python3"
  },
  "language_info": {
   "codemirror_mode": {
    "name": "ipython",
    "version": 3
   },
   "file_extension": ".py",
   "mimetype": "text/x-python",
   "name": "python",
   "nbconvert_exporter": "python",
   "pygments_lexer": "ipython3",
   "version": "3.10.9"
  }
 },
 "nbformat": 4,
 "nbformat_minor": 5
}
