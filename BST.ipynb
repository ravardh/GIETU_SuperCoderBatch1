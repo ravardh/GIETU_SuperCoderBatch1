{
 "cells": [
  {
   "cell_type": "code",
   "execution_count": 4,
   "id": "6a141159-6e54-40d7-bde6-0ca0e689a771",
   "metadata": {},
   "outputs": [
    {
     "name": "stdout",
     "output_type": "stream",
     "text": [
      "10 \n",
      "9 14 \n",
      "5 12 17 \n",
      "2 7 15 \n",
      "3 8 \n"
     ]
    }
   ],
   "source": [
    "class Node:\n",
    "    def __init__(self,data=None):\n",
    "        self.data=data\n",
    "        self.left=None\n",
    "        self.right=None\n",
    "def create_BST(root,l):\n",
    "    length=len(l)\n",
    "    for i in range(length):\n",
    "        temp=root\n",
    "        par=None\n",
    "        while(temp):\n",
    "            par=temp\n",
    "            if(l[i]<=temp.data):\n",
    "                temp=temp.left\n",
    "            else:\n",
    "                temp=temp.right\n",
    "        if(par==None):\n",
    "            root=Node(l[i])\n",
    "        elif(l[i]<par.data):\n",
    "            par.left=Node(l[i])\n",
    "        else:\n",
    "            par.right=Node(l[i])\n",
    "    return root\n",
    "def levelorder(root):\n",
    "    Q=[root]\n",
    "    Q.append(None)\n",
    "    while len(Q)>0:\n",
    "        cur = Q.pop(0)\n",
    "        if cur == None:\n",
    "            print()\n",
    "            if len(Q)>0:\n",
    "                Q.append(None)\n",
    "        else:\n",
    "            print(cur.data, end = \" \")\n",
    "            if cur.left != None:\n",
    "                Q.append(cur.left)\n",
    "            if cur.right != None:\n",
    "                Q.append(cur.right)\n",
    "if __name__==\"__main__\":\n",
    "    l=[10,14,17,9,5,15,12,7,8,2,3]\n",
    "    root=Node(l[0])\n",
    "    create_BST(root,l[1:])\n",
    "    levelorder(root)"
   ]
  },
  {
   "cell_type": "code",
   "execution_count": 5,
   "id": "4d158c50-39b9-49ec-8c4c-40f8acde2a44",
   "metadata": {},
   "outputs": [
    {
     "name": "stdout",
     "output_type": "stream",
     "text": [
      "10 \n",
      "9 14 \n",
      "5 12 17 \n",
      "2 7 15 \n",
      "3 8 \n"
     ]
    }
   ],
   "source": [
    "class Node:\n",
    "    def __init__(self,data=None):\n",
    "        self.data=data\n",
    "        self.left=None\n",
    "        self.right=None\n",
    "def insertion(root,data):\n",
    "    if(root is None):\n",
    "        return Node(data)\n",
    "    if(root.data<data):\n",
    "        root.right=insertion(root.right,data)\n",
    "    else:\n",
    "        root.left=insertion(root.left,data)\n",
    "    return root\n",
    "def levelorder(root):\n",
    "    Q=[root]\n",
    "    Q.append(None)\n",
    "    while len(Q)>0:\n",
    "        cur = Q.pop(0)\n",
    "        if cur == None:\n",
    "            print()\n",
    "            if len(Q)>0:\n",
    "                Q.append(None)\n",
    "        else:\n",
    "            print(cur.data, end = \" \")\n",
    "            if cur.left != None:\n",
    "                Q.append(cur.left)\n",
    "            if cur.right != None:\n",
    "                Q.append(cur.right)\n",
    "if __name__==\"__main__\":\n",
    "    l=[10,14,17,9,5,15,12,7,8,2,3]\n",
    "    root=None\n",
    "    for i in range(len(l)):\n",
    "        root=insertion(root,l[i])\n",
    "    levelorder(root)"
   ]
  },
  {
   "cell_type": "code",
   "execution_count": null,
   "id": "1ff9e04c-6d12-401a-b81b-dfe8777ab87e",
   "metadata": {},
   "outputs": [],
   "source": []
  }
 ],
 "metadata": {
  "kernelspec": {
   "display_name": "Python 3 (ipykernel)",
   "language": "python",
   "name": "python3"
  },
  "language_info": {
   "codemirror_mode": {
    "name": "ipython",
    "version": 3
   },
   "file_extension": ".py",
   "mimetype": "text/x-python",
   "name": "python",
   "nbconvert_exporter": "python",
   "pygments_lexer": "ipython3",
   "version": "3.10.0"
  }
 },
 "nbformat": 4,
 "nbformat_minor": 5
}
