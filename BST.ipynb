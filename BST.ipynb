{
 "cells": [
  {
   "cell_type": "code",
   "execution_count": 5,
   "id": "f0931a0f-8a92-47f0-bd45-bfb8831199e2",
   "metadata": {},
   "outputs": [
    {
     "name": "stdout",
     "output_type": "stream",
     "text": [
      "10\n",
      "\n",
      "14\n",
      "\n",
      "17\n",
      "\n",
      "15\n",
      "\n",
      "8\n"
     ]
    },
    {
     "ename": "IndexError",
     "evalue": "list index out of range",
     "output_type": "error",
     "traceback": [
      "\u001b[1;31m---------------------------------------------------------------------------\u001b[0m",
      "\u001b[1;31mIndexError\u001b[0m                                Traceback (most recent call last)",
      "Cell \u001b[1;32mIn[5], line 43\u001b[0m\n\u001b[0;32m     41\u001b[0m Root\u001b[38;5;241m=\u001b[39mNode(l[\u001b[38;5;241m0\u001b[39m])\n\u001b[0;32m     42\u001b[0m create_Binarytree(Root,l)\n\u001b[1;32m---> 43\u001b[0m \u001b[43mlevelorder\u001b[49m\u001b[43m(\u001b[49m\u001b[43mRoot\u001b[49m\u001b[43m)\u001b[49m\n",
      "Cell \u001b[1;32mIn[5], line 26\u001b[0m, in \u001b[0;36mlevelorder\u001b[1;34m(root)\u001b[0m\n\u001b[0;32m     24\u001b[0m Q\u001b[38;5;241m.\u001b[39mappend(\u001b[38;5;28;01mNone\u001b[39;00m)\n\u001b[0;32m     25\u001b[0m \u001b[38;5;28;01mwhile\u001b[39;00m \u001b[38;5;28mlen\u001b[39m(Q)\u001b[38;5;241m>\u001b[39m\u001b[38;5;241m0\u001b[39m:\n\u001b[1;32m---> 26\u001b[0m     \u001b[38;5;28;01mif\u001b[39;00m(\u001b[43mQ\u001b[49m\u001b[43m[\u001b[49m\u001b[38;5;241;43m1\u001b[39;49m\u001b[43m]\u001b[49m\u001b[38;5;241m==\u001b[39m\u001b[38;5;28;01mNone\u001b[39;00m):\n\u001b[0;32m     27\u001b[0m         \u001b[38;5;28mprint\u001b[39m(Q[\u001b[38;5;241m0\u001b[39m]\u001b[38;5;241m.\u001b[39mdata)\n\u001b[0;32m     28\u001b[0m     cur \u001b[38;5;241m=\u001b[39m Q\u001b[38;5;241m.\u001b[39mpop(\u001b[38;5;241m0\u001b[39m)\n",
      "\u001b[1;31mIndexError\u001b[0m: list index out of range"
     ]
    }
   ],
   "source": [
    "class Node:\n",
    "    def __init__(self,data=None):\n",
    "        self.data=data\n",
    "        self.left=None\n",
    "        self.right=None\n",
    "def create_Binarytree(Root, l):\n",
    "    for i in range(1, len(l)):\n",
    "        temp = Root\n",
    "        while temp:\n",
    "            if l[i] < temp.data:\n",
    "                if temp.left is None:\n",
    "                    temp.left = Node(l[i])\n",
    "                    break\n",
    "                else:\n",
    "                    temp = temp.left\n",
    "            else:\n",
    "                if temp.right is None:\n",
    "                    temp.right = Node(l[i])\n",
    "                    break\n",
    "                else:\n",
    "                    temp = temp.right\n",
    "def levelorder(root):\n",
    "    Q=[root]\n",
    "    Q.append(None)\n",
    "    while len(Q)>0:\n",
    "        if(Q[1]==None):\n",
    "            print(Q[0].data)\n",
    "        cur = Q.pop(0)\n",
    "        if cur == None:\n",
    "            print()\n",
    "            if len(Q)>0:\n",
    "                Q.append(None)\n",
    "        else:\n",
    "            if cur.left != None:\n",
    "                Q.append(cur.left)\n",
    "            if cur.right != None:\n",
    "                Q.append(cur.right)\n",
    "\n",
    "if __name__==\"__main__\":\n",
    "    l=[10,14,17,9,5,15,12,7,8,2,3]\n",
    "    Root=Node(l[0])\n",
    "    create_Binarytree(Root,l)\n",
    "    levelorder(Root)\n",
    "    \n",
    "    \n",
    "        "
   ]
  },
  {
   "cell_type": "code",
   "execution_count": 3,
   "id": "beb3df24-9994-494a-9dfa-b1a701643f3a",
   "metadata": {},
   "outputs": [
    {
     "name": "stdout",
     "output_type": "stream",
     "text": [
      "10 \n",
      "9 14 \n",
      "5 12 17 \n",
      "2 7 15 \n",
      "3 8 \n"
     ]
    }
   ],
   "source": [
    "class Node:\n",
    "    def __init__(self,data=None):\n",
    "        self.data=data\n",
    "        self.left=None\n",
    "        self.right=None\n",
    "def _insert(root,item):\n",
    "    if root is None:\n",
    "        return Node(item)\n",
    "    if root.data>item:\n",
    "        root.left=_insert(root.left,item)\n",
    "    else:\n",
    "        root.right=_insert(root.right,item)\n",
    "    return root\n",
    "    \n",
    "def levelorder(root):\n",
    "    Q=[root]\n",
    "    Q.append(None)\n",
    "    while len(Q)>0:\n",
    "        cur = Q.pop(0)\n",
    "        if cur == None:\n",
    "            print()\n",
    "            if len(Q)>0:\n",
    "                Q.append(None)\n",
    "        else:\n",
    "            print(cur.data, end = \" \")\n",
    "            if cur.left != None:\n",
    "                Q.append(cur.left)\n",
    "            if cur.right != None:\n",
    "                Q.append(cur.right)\n",
    "if __name__==\"__main__\":\n",
    "    l=[10,14,17,9,5,15,12,7,8,2,3]\n",
    "    root=None\n",
    "    for i in range(len(l)):\n",
    "        root=_insert(root,l[i])\n",
    "      \n",
    "    levelorder(root)\n",
    "    \n",
    "        "
   ]
  },
  {
   "cell_type": "code",
   "execution_count": null,
   "id": "75662bd6-8c30-4b74-b403-002909592486",
   "metadata": {},
   "outputs": [],
   "source": []
  }
 ],
 "metadata": {
  "kernelspec": {
   "display_name": "Python 3 (ipykernel)",
   "language": "python",
   "name": "python3"
  },
  "language_info": {
   "codemirror_mode": {
    "name": "ipython",
    "version": 3
   },
   "file_extension": ".py",
   "mimetype": "text/x-python",
   "name": "python",
   "nbconvert_exporter": "python",
   "pygments_lexer": "ipython3",
   "version": "3.12.1"
  }
 },
 "nbformat": 4,
 "nbformat_minor": 5
}
