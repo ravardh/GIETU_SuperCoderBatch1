{
 "cells": [
  {
   "cell_type": "code",
   "execution_count": 12,
   "id": "3b2c35b7",
   "metadata": {},
   "outputs": [
    {
     "name": "stdout",
     "output_type": "stream",
     "text": [
      "2 3 5 7 8 9 10 12 14 15 17 "
     ]
    }
   ],
   "source": [
    "class Node: \n",
    "    def __init__(self, data):  \n",
    "        self.data = data  \n",
    "        self.right = None\n",
    "        self.left = None\n",
    "\n",
    "def insertion(root, ele):\n",
    "    if root is None:  \n",
    "        return Node(ele)  \n",
    "    if ele > root.data:\n",
    "        root.right = insertion(root.right, ele)\n",
    "    else:\n",
    "        root.left = insertion(root.left, ele)\n",
    "    return root\n",
    "\n",
    "def inorder(root):\n",
    "    if root:\n",
    "        inorder(root.left)\n",
    "        print(root.data, end=\" \")\n",
    "        inorder(root.right)\n",
    "\n",
    "my_list = [10, 14, 17, 9, 5, 15, 12, 7, 8, 2, 3]  \n",
    "root = Node(my_list[0])\n",
    "for i in range(1, len(my_list)):  \n",
    "    insertion(root, my_list[i])\n",
    "inorder(root)\n"
   ]
  },
  {
   "cell_type": "code",
   "execution_count": null,
   "id": "673a8d4c",
   "metadata": {},
   "outputs": [],
   "source": [
    " "
   ]
  }
 ],
 "metadata": {
  "kernelspec": {
   "display_name": "Python 3 (ipykernel)",
   "language": "python",
   "name": "python3"
  },
  "language_info": {
   "codemirror_mode": {
    "name": "ipython",
    "version": 3
   },
   "file_extension": ".py",
   "mimetype": "text/x-python",
   "name": "python",
   "nbconvert_exporter": "python",
   "pygments_lexer": "ipython3",
   "version": "3.11.3"
  }
 },
 "nbformat": 4,
 "nbformat_minor": 5
}
