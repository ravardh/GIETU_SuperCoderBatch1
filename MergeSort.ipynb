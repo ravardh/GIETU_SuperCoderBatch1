{
 "cells": [
  {
   "cell_type": "code",
   "execution_count": 2,
   "id": "31287418",
   "metadata": {},
   "outputs": [
    {
     "name": "stdout",
     "output_type": "stream",
     "text": [
      "Enter a list of elements for sorting: [15,9,17,23,14,28]\n",
      "After Sorting: [9, 14, 15, 17, 23, 28]\n"
     ]
    }
   ],
   "source": [
    "def mergeSort(arr, low, high):\n",
    "    if low < high:\n",
    "        mid = (low + high) // 2\n",
    "        mergeSort(arr, low, mid)\n",
    "        mergeSort(arr, mid + 1, high)\n",
    "        merge(arr, low, mid, high)\n",
    "\n",
    "def merge(arr, low, mid, high):\n",
    "    i = low\n",
    "    j = mid + 1\n",
    "    k = low\n",
    "    arr1 = []\n",
    "\n",
    "    while i <= mid and j <= high:\n",
    "        if arr[i] < arr[j]:\n",
    "            arr1.append(arr[i])\n",
    "            i = i + 1\n",
    "        else:\n",
    "            arr1.append(arr[j])\n",
    "            j = j + 1\n",
    "\n",
    "    while i <= mid:\n",
    "        arr1.append(arr[i])\n",
    "        i = i + 1\n",
    "\n",
    "    while j <= high:\n",
    "        arr1.append(arr[j])\n",
    "        j = j + 1\n",
    "\n",
    "    for i in range(len(arr1)):\n",
    "        arr[low + i] = arr1[i]\n",
    "\n",
    "\n",
    "arr = eval(input(\"Enter a list of elements for sorting: \"))\n",
    "mergeSort(arr, 0, len(arr) - 1)\n",
    "print(\"After Sorting:\", arr)"
   ]
  },
  {
   "cell_type": "code",
   "execution_count": null,
   "id": "56f18eb1",
   "metadata": {},
   "outputs": [],
   "source": []
  }
 ],
 "metadata": {
  "kernelspec": {
   "display_name": "Python 3 (ipykernel)",
   "language": "python",
   "name": "python3"
  },
  "language_info": {
   "codemirror_mode": {
    "name": "ipython",
    "version": 3
   },
   "file_extension": ".py",
   "mimetype": "text/x-python",
   "name": "python",
   "nbconvert_exporter": "python",
   "pygments_lexer": "ipython3",
   "version": "3.11.5"
  }
 },
 "nbformat": 4,
 "nbformat_minor": 5
}
