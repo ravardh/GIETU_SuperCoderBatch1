{
 "cells": [
  {
   "cell_type": "code",
   "execution_count": 1,
   "id": "fed7bbec-1cd3-40d1-bcd8-7aea67786d56",
   "metadata": {},
   "outputs": [
    {
     "name": "stdout",
     "output_type": "stream",
     "text": [
      "[1, 2, 4, 5, 8, 9]\n"
     ]
    }
   ],
   "source": [
    "def merge_sort(l,p,r):\n",
    "    if(p<r):\n",
    "        q=(p+r)//2\n",
    "        merge_sort(l,p,q)\n",
    "        merge_sort(l,q+1,r)\n",
    "        merge(l,p,q,r)\n",
    "def merge(l,p,q,r):\n",
    "    l1,l2=[],[]\n",
    "    n1=q-p+1\n",
    "    n2=r-q\n",
    "    for i in range(n1):\n",
    "        l1.append(l[p+i])\n",
    "    for j in range(n2):\n",
    "        l2.append(l[q+j+1])\n",
    "    l1.append(9999999)\n",
    "    l2.append(9999999)\n",
    "    i,j=0,0\n",
    "    for k in range(p,r+1):\n",
    "        if(l1[i]<=l2[j]):\n",
    "            l[k]=l1[i]\n",
    "            i+=1\n",
    "        else:\n",
    "            l[k]=l2[j]\n",
    "            j+=1\n",
    "l=[4,8,2,5,9,1]\n",
    "merge_sort(l,0,len(l)-1)\n",
    "print(l)"
   ]
  },
  {
   "cell_type": "code",
   "execution_count": null,
   "id": "722c4f41-d727-4c9d-b5a9-c9d4024efe5f",
   "metadata": {},
   "outputs": [],
   "source": []
  }
 ],
 "metadata": {
  "kernelspec": {
   "display_name": "Python 3 (ipykernel)",
   "language": "python",
   "name": "python3"
  },
  "language_info": {
   "codemirror_mode": {
    "name": "ipython",
    "version": 3
   },
   "file_extension": ".py",
   "mimetype": "text/x-python",
   "name": "python",
   "nbconvert_exporter": "python",
   "pygments_lexer": "ipython3",
   "version": "3.10.0"
  }
 },
 "nbformat": 4,
 "nbformat_minor": 5
}
