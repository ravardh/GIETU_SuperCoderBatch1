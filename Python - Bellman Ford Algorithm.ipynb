{
 "cells": [
  {
   "cell_type": "code",
   "execution_count": 1,
   "id": "81b68b37",
   "metadata": {},
   "outputs": [
    {
     "name": "stdout",
     "output_type": "stream",
     "text": [
      "[[(1, 2, 6)], [], [], [], [], [], []]\n",
      "[[(1, 2, 6), (1, 3, 5)], [], [], [], [], [], []]\n",
      "[[(1, 2, 6), (1, 3, 5), (1, 4, 5)], [], [], [], [], [], []]\n",
      "[[(1, 2, 6), (1, 3, 5), (1, 4, 5)], [(2, 5, -1)], [], [], [], [], []]\n",
      "[[(1, 2, 6), (1, 3, 5), (1, 4, 5)], [(2, 5, -1)], [(3, 2, -2)], [], [], [], []]\n",
      "[[(1, 2, 6), (1, 3, 5), (1, 4, 5)], [(2, 5, -1)], [(3, 2, -2), (3, 5, 1)], [], [], [], []]\n",
      "[[(1, 2, 6), (1, 3, 5), (1, 4, 5)], [(2, 5, -1)], [(3, 2, -2), (3, 5, 1)], [(4, 3, -2)], [], [], []]\n",
      "[[(1, 2, 6), (1, 3, 5), (1, 4, 5)], [(2, 5, -1)], [(3, 2, -2), (3, 5, 1)], [(4, 3, -2), (4, 6, -1)], [], [], []]\n",
      "[[(1, 2, 6), (1, 3, 5), (1, 4, 5)], [(2, 5, -1)], [(3, 2, -2), (3, 5, 1)], [(4, 3, -2), (4, 6, -1)], [(5, 7, 3)], [], []]\n",
      "[[(1, 2, 6), (1, 3, 5), (1, 4, 5)], [(2, 5, -1)], [(3, 2, -2), (3, 5, 1)], [(4, 3, -2), (4, 6, -1)], [(5, 7, 3)], [(6, 7, 3)], []]\n",
      "{1: 0, 2: 3, 3: 3, 4: 5, 5: 5, 6: 4, 7: 7}\n"
     ]
    }
   ],
   "source": [
    "class Graph:\n",
    "    def __init__(self,v):\n",
    "        self.v = v\n",
    "        self.adj_list = [[] for _ in range(v)]\n",
    "        self.dict={}\n",
    "        for i in range(1,v+1):\n",
    "            self.dict[i]=float('inf')\n",
    "        \n",
    "    def add_edge(self,s,d,w):\n",
    "        self.adj_list[s-1].append((s,d,w))\n",
    "        print(self.adj_list)\n",
    "        \n",
    "    def bellman_ford(self,source):\n",
    "        self.dict[source]=0\n",
    "        for i in range(self.v-1):\n",
    "            for s,d,w in self.adj_list[i]:\n",
    "                if self.dict[s]!=float('inf') and self.dict[d]>self.dict[s]+w:\n",
    "                    self.dict[d]=self.dict[s] + w\n",
    "        print(self.dict)\n",
    "               \n",
    "graph = Graph(7)\n",
    "graph.add_edge(1,2,6)\n",
    "graph.add_edge(1,3,5)\n",
    "graph.add_edge(1,4,5)\n",
    "graph.add_edge(2,5,-1)\n",
    "graph.add_edge(3,2,-2)\n",
    "graph.add_edge(3,5,1)\n",
    "graph.add_edge(4,3,-2)\n",
    "graph.add_edge(4,6,-1)\n",
    "graph.add_edge(5,7,3)\n",
    "graph.add_edge(6,7,3)\n",
    "graph.bellman_ford(1)"
   ]
  }
 ],
 "metadata": {
  "kernelspec": {
   "display_name": "Python 3 (ipykernel)",
   "language": "python",
   "name": "python3"
  },
  "language_info": {
   "codemirror_mode": {
    "name": "ipython",
    "version": 3
   },
   "file_extension": ".py",
   "mimetype": "text/x-python",
   "name": "python",
   "nbconvert_exporter": "python",
   "pygments_lexer": "ipython3",
   "version": "3.11.4"
  }
 },
 "nbformat": 4,
 "nbformat_minor": 5
}
