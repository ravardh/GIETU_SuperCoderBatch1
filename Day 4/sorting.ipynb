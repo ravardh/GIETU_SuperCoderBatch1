{
 "cells": [
  {
   "cell_type": "markdown",
   "metadata": {},
   "source": [
    "## Quick Sort\n",
    "- Target an element  \n",
    "- Put that element to its place  \n",
    "  All the elements before the target element must be smaller  \n",
    "- To divide the array w.r.t. the target element  "
   ]
  },
  {
   "cell_type": "markdown",
   "metadata": {},
   "source": [
    "## PseudoCode:\n",
    "```Pi=n-1\n",
    "i=0\n",
    "j=-1\n",
    "for i=0 to len-1-1\n",
    "  if arr[i] < arr[pi]\n",
    "    j++\n",
    "    swap(arr[i], arr[j])```"
   ]
  },
  {
   "cell_type": "code",
   "execution_count": 2,
   "metadata": {},
   "outputs": [],
   "source": [
    "def partition(arr, s, e):\n",
    "  pi=arr[e]\n",
    "  i=s\n",
    "  j=s-1\n",
    "  while(i<=(e-1)):\n",
    "    if arr[i] < pi:\n",
    "      j+=1\n",
    "      arr[i], arr[j] = arr[j], arr[i]\n",
    "    i+=1\n",
    "  arr[j+1], arr[e] = arr[e], arr[j+1]\n",
    "  return j+1\n"
   ]
  },
  {
   "cell_type": "code",
   "execution_count": 3,
   "metadata": {},
   "outputs": [],
   "source": [
    "def quick_sort(arr, s, e):\n",
    "  if s<=e:\n",
    "    pi=partition(arr, s, e)\n",
    "\n",
    "    quick_sort(arr, 0, pi-1)\n",
    "    quick_sort(arr, pi+1, e)"
   ]
  },
  {
   "cell_type": "code",
   "execution_count": 4,
   "metadata": {},
   "outputs": [
    {
     "name": "stdout",
     "output_type": "stream",
     "text": [
      "12 15 9 1 71 77 81 29 70 19 11 83 56 2 57 53 68 99 82 100 22 10 51 40 34 98 80 38 39 89 94 4 26 64 45\n",
      "1 2 4 9 10 11 12 15 19 22 26 29 34 38 39 40 45 51 53 56 57 64 68 70 71 77 80 81 82 83 89 94 98 99 100\n"
     ]
    }
   ],
   "source": [
    "arr = list(map(int, input().strip().split()))\n",
    "n = len(arr)\n",
    "print(*arr)\n",
    "quick_sort(arr, 0, n-1)\n",
    "print(*arr)"
   ]
  },
  {
   "cell_type": "markdown",
   "metadata": {},
   "source": [
    "![image.png](https://media.geeksforgeeks.org/wp-content/uploads/20230706153706/Merge-Sort-Algorithm-(1).png)"
   ]
  },
  {
   "cell_type": "markdown",
   "metadata": {},
   "source": [
    "`TC: T(n) = 2T(n/2) + θ(n)`\n",
    "## Merge Sort\n",
    "- Keep Dividing the array into halves until it can't be divided any further  \n",
    "- While combining sort it using two pointer concept "
   ]
  },
  {
   "cell_type": "markdown",
   "metadata": {},
   "source": [
    "## Pseudocode\n",
    "```\n",
    "merge(left, right):\n",
    "  l=length(left), r=length(right)\n",
    "  temp=int_array(l+r)\n",
    "  idx=0, le=0, ri=0\n",
    "\n",
    "  while le<l and ri<r:\n",
    "    if left[le] <= right[ri]:\n",
    "      temp[idx]=left[le]\n",
    "      le++\n",
    "    else:\n",
    "      temp[idx]=right[ri]\n",
    "      ri++\n",
    "    idx++\n",
    "  \n",
    "  while le<l:\n",
    "    temp[idx]=left[le]\n",
    "    le++, idx++\n",
    "\n",
    "  while ri<r:\n",
    "    temp[idx]=right[ri]\n",
    "    ri++, idx++\n",
    "  \n",
    "  return temp\n",
    "```"
   ]
  },
  {
   "cell_type": "code",
   "execution_count": 1,
   "metadata": {},
   "outputs": [],
   "source": [
    "def merge(arr1, arr2):\n",
    "  n1, n2 = len(arr1), len(arr2)\n",
    "  temp = [0]*(n1+n2)\n",
    "  idx = 0\n",
    "  i, j = 0, 0\n",
    "  while(i<n1 and j<n2):\n",
    "    if arr1[i]<=arr2[j]:\n",
    "      temp[idx] = arr1[i]\n",
    "      i+=1\n",
    "    else:\n",
    "      temp[idx] = arr2[j]\n",
    "      j+=1\n",
    "    idx+=1\n",
    "  \n",
    "  while(i<n1):\n",
    "    temp[idx] = arr1[i]\n",
    "    i+=1\n",
    "    idx+=1\n",
    "\n",
    "  while(j<n2):\n",
    "    temp[idx] = arr2[j]\n",
    "    j+=1\n",
    "    idx+=1\n",
    "\n",
    "  return temp"
   ]
  },
  {
   "cell_type": "code",
   "execution_count": 4,
   "metadata": {},
   "outputs": [],
   "source": [
    "def merge_sort(arr, lo, hi):\n",
    "  if lo == hi:\n",
    "    return [arr[lo]]\n",
    "  mid = lo + (hi-lo) // 2\n",
    "\n",
    "  left = merge_sort(arr, lo, mid)\n",
    "  right = merge_sort(arr, mid+1, hi)\n",
    "\n",
    "  return merge(left, right)"
   ]
  },
  {
   "cell_type": "code",
   "execution_count": 6,
   "metadata": {},
   "outputs": [
    {
     "name": "stdout",
     "output_type": "stream",
     "text": [
      "12 15 9 1 71 77 81 29 70 19 11 83 56 2 57 53 68 99 82 100 22 10 51 40 34 98 80 38 39 89 94 4 26 64 45\n",
      "1 2 4 9 10 11 12 15 19 22 26 29 34 38 39 40 45 51 53 56 57 64 68 70 71 77 80 81 82 83 89 94 98 99 100\n"
     ]
    }
   ],
   "source": [
    "arr = list(map(int, input().strip().split()))\n",
    "n = len(arr)\n",
    "print(*arr)\n",
    "a=merge_sort(arr, 0, n-1)\n",
    "print(*a)"
   ]
  },
  {
   "cell_type": "code",
   "execution_count": 7,
   "metadata": {},
   "outputs": [
    {
     "name": "stdout",
     "output_type": "stream",
     "text": [
      "1 3 4 5 66 7 8 8 9 9 9 9\n",
      "1 3 4 5 7 8 8 9 9 9 9 66\n"
     ]
    }
   ],
   "source": [
    "arr = list(map(int, input().strip().split()))\n",
    "n = len(arr)\n",
    "print(*arr)\n",
    "a=merge_sort(arr, 0, n-1)\n",
    "print(*a)"
   ]
  }
 ],
 "metadata": {
  "kernelspec": {
   "display_name": "Python 3",
   "language": "python",
   "name": "python3"
  },
  "language_info": {
   "codemirror_mode": {
    "name": "ipython",
    "version": 3
   },
   "file_extension": ".py",
   "mimetype": "text/x-python",
   "name": "python",
   "nbconvert_exporter": "python",
   "pygments_lexer": "ipython3",
   "version": "3.9.13"
  }
 },
 "nbformat": 4,
 "nbformat_minor": 2
}
