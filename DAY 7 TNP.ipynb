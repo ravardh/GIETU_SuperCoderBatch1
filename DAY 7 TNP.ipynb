{
 "cells": [
  {
   "cell_type": "code",
   "execution_count": 2,
   "id": "9d373072",
   "metadata": {},
   "outputs": [
    {
     "name": "stdout",
     "output_type": "stream",
     "text": [
      "\n",
      "Left View:\n",
      "20 \n",
      "32 \n",
      "15 \n",
      "4 \n",
      "48 \n"
     ]
    }
   ],
   "source": [
    "class Node:\n",
    "    def __init__(self, data=None):\n",
    "        self.data = data\n",
    "        self.left = None\n",
    "        self.right = None\n",
    "        self.key = 0\n",
    "\n",
    "\n",
    "def leftview(root):\n",
    "    if not root:\n",
    "        return\n",
    "\n",
    "    Q = [root]\n",
    "    while Q:\n",
    "        size = len(Q)\n",
    "        for i in range(size):\n",
    "            node = Q.pop(0)\n",
    "\n",
    "            if i == 0:\n",
    "                print(node.data, end=\" \")\n",
    "\n",
    "            if node.left:\n",
    "                Q.append(node.left)\n",
    "            if node.right:\n",
    "                Q.append(node.right)\n",
    "\n",
    "        print()\n",
    "\n",
    "\n",
    "root = Node(20)\n",
    "root.left = Node(32)\n",
    "root.right = Node(10)\n",
    "root.left.left = Node(15)\n",
    "root.left.right = Node(12)\n",
    "root.right.left = Node(8)\n",
    "root.right.right = Node(24)\n",
    "root.left.left.left = Node(4)\n",
    "root.left.right.left = Node(50)\n",
    "root.left.right.right = Node(6)\n",
    "root.right.right.left = Node(16)\n",
    "root.right.right.right = Node(2)\n",
    "root.left.right.left.left = Node(48)\n",
    "root.left.right.left.right = Node(35)\n",
    "\n",
    "print(\"\\nLeft View:\")\n",
    "leftview(root)"
   ]
  },
  {
   "cell_type": "markdown",
   "id": "4f4fad60",
   "metadata": {},
   "source": [
    "# BST"
   ]
  },
  {
   "cell_type": "code",
   "execution_count": 10,
   "id": "d9787da4",
   "metadata": {},
   "outputs": [
    {
     "name": "stdout",
     "output_type": "stream",
     "text": [
      "Inorder Traversal= \n",
      "2 3 4 5 7 9 10 14 15 17 "
     ]
    }
   ],
   "source": [
    "class node:\n",
    "    def __init__(self, data=None):\n",
    "        self.data = data\n",
    "        self.left = None\n",
    "        self.right = None\n",
    "        self.key = 0\n",
    "\n",
    "        \n",
    "def insertion(root,ele):\n",
    "    if root == None:\n",
    "        return node(ele)\n",
    "    if (ele>=root.data):\n",
    "        root.right = insertion(root.right,ele)\n",
    "    else:\n",
    "        root.left = insertion(root.left,ele)\n",
    "    return root\n",
    "\n",
    "\n",
    "def inorder(root):\n",
    "    if root :\n",
    "        inorder(root.left)\n",
    "        print(root.data,end=\" \")\n",
    "        inorder(root.right)\n",
    "lst=[10,14,17,9,5,15,7,2,3,4]\n",
    "root=None\n",
    "for i in  lst:\n",
    "    root = insertion(root,i)\n",
    "print (\"Inorder Traversal= \")\n",
    "\n",
    "inorder(root)        \n",
    "    \n",
    "        \n",
    "    "
   ]
  },
  {
   "cell_type": "code",
   "execution_count": null,
   "id": "720fce3a",
   "metadata": {},
   "outputs": [],
   "source": []
  }
 ],
 "metadata": {
  "kernelspec": {
   "display_name": "Python 3 (ipykernel)",
   "language": "python",
   "name": "python3"
  },
  "language_info": {
   "codemirror_mode": {
    "name": "ipython",
    "version": 3
   },
   "file_extension": ".py",
   "mimetype": "text/x-python",
   "name": "python",
   "nbconvert_exporter": "python",
   "pygments_lexer": "ipython3",
   "version": "3.11.3"
  }
 },
 "nbformat": 4,
 "nbformat_minor": 5
}
