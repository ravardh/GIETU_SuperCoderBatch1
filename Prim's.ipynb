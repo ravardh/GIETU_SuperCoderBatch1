{
 "cells": [
  {
   "cell_type": "code",
   "execution_count": null,
   "id": "7273d6b8",
   "metadata": {},
   "outputs": [],
   "source": [
    "#prim's\n",
    "\n",
    "class Graph:\n",
    "    def __init__(self, vertices):\n",
    "        self.vertices = vertices\n",
    "        self.graph = [[0] * vertices for _ in range(vertices)]\n",
    "\n",
    "    def add_edge(self, u, v, weight):\n",
    "        self.graph[u][v] = weight\n",
    "        self.graph[v][u] = weight  # Undirected graph\n",
    "\n",
    "    def min_key(self, key, mst_set):\n",
    "        min_val = float('inf')\n",
    "        min_index = -1\n",
    "        for v in range(self.vertices):\n",
    "            if key[v] < min_val and not mst_set[v]:\n",
    "                min_val = key[v]\n",
    "                min_index = v\n",
    "        return min_index\n",
    "\n",
    "    def print_mst(self, parent):\n",
    "        print(\"Edge \\tWeight\")\n",
    "        for i in range(1, self.vertices):\n",
    "            print(parent[i], \"-\", i, \"\\t\", self.graph[i][parent[i]])\n",
    "\n",
    "    def prim_mst(self):\n",
    "        key = [float('inf')] * self.vertices\n",
    "        parent = [-1] * self.vertices\n",
    "        key[0] = 0\n",
    "        mst_set = [False] * self.vertices\n",
    "\n",
    "        for _ in range(self.vertices):\n",
    "            u = self.min_key(key, mst_set)\n",
    "            mst_set[u] = True\n",
    "            for v in range(self.vertices):\n",
    "                if 0 < self.graph[u][v] < key[v] and not mst_set[v]:\n",
    "                    key[v] = self.graph[u][v]\n",
    "                    parent[v] = u\n",
    "\n",
    "        self.print_mst(parent)\n",
    "\n",
    "# Example usage:\n",
    "g = Graph(5)\n",
    "g.add_edge(0, 1, 2)\n",
    "g.add_edge(0, 3, 6)\n",
    "g.add_edge(1, 2, 3)\n",
    "g.add_edge(1, 3, 8)\n",
    "g.add_edge(1, 4, 5)\n",
    "g.add_edge(2, 4, 7)\n",
    "g.add_edge(3, 4, 9)\n",
    "\n",
    "g.prim_mst()\n"
   ]
  }
 ],
 "metadata": {
  "kernelspec": {
   "display_name": "Python 3 (ipykernel)",
   "language": "python",
   "name": "python3"
  },
  "language_info": {
   "codemirror_mode": {
    "name": "ipython",
    "version": 3
   },
   "file_extension": ".py",
   "mimetype": "text/x-python",
   "name": "python",
   "nbconvert_exporter": "python",
   "pygments_lexer": "ipython3",
   "version": "3.10.9"
  }
 },
 "nbformat": 4,
 "nbformat_minor": 5
}
