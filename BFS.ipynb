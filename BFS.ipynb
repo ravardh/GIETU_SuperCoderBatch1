{
 "cells": [
  {
   "cell_type": "code",
   "execution_count": 1,
   "id": "66c9726c",
   "metadata": {},
   "outputs": [
    {
     "name": "stdout",
     "output_type": "stream",
     "text": [
      "bfs traversal starting from vertex:\n",
      "0 1 2 3 "
     ]
    }
   ],
   "source": [
    "class graph:\n",
    "    def __init__(self):\n",
    "        self.graph={}\n",
    "    def add_edge(self,u,v):\n",
    "        if u not in self.graph:\n",
    "            self.graph[u]=[]\n",
    "        self.graph[u].append(v)\n",
    "    def bfs(self,start):\n",
    "        visited=set()\n",
    "        queue=[start]\n",
    "        visited.add(start)\n",
    "        \n",
    "        while queue:\n",
    "            vertex=queue.pop(0)\n",
    "            print(vertex,end=\" \")\n",
    "            \n",
    "            for neighbour in self.graph[vertex]:\n",
    "                if neighbour not in visited:\n",
    "                    queue.append(neighbour)\n",
    "                    visited.add(neighbour)\n",
    "\n",
    "g=graph()\n",
    "g.add_edge(0,1)\n",
    "g.add_edge(0,2)\n",
    "g.add_edge(1,3)\n",
    "g.add_edge(2,0)\n",
    "g.add_edge(2,3)\n",
    "g.add_edge(3,3)\n",
    "print(\"bfs traversal starting from vertex:\")\n",
    "g.bfs(0)"
   ]
  },
  {
   "cell_type": "code",
   "execution_count": 2,
   "id": "2e9af45d",
   "metadata": {},
   "outputs": [
    {
     "name": "stdout",
     "output_type": "stream",
     "text": [
      "[[], [], [], [], []]\n",
      "0[[1, 3, 4, 0, 2, 1, 4, 0, 0, 2], [1, 3, 4, 0, 2, 1, 4, 0, 0, 2], [1, 3, 4, 0, 2, 1, 4, 0, 0, 2], [1, 3, 4, 0, 2, 1, 4, 0, 0, 2], [1, 3, 4, 0, 2, 1, 4, 0, 0, 2]]\n"
     ]
    }
   ],
   "source": [
    "aList = [[]]*5\n",
    "print(aList)\n",
    "\n",
    "def add(s,d,aList):\n",
    "    aList[s].append(d)\n",
    "    \n",
    "def bfs(s,aList):\n",
    "    queue=list()\n",
    "    visited = set()\n",
    "    queue.append(s)\n",
    "    \n",
    "    for i in queue:\n",
    "        if i not in visited:\n",
    "                \n",
    "            print(i,end=\"\")\n",
    "            visited.add(i)\n",
    "            for j in aList[i]:\n",
    "                queue.append(j)\n",
    "                queue.pop() \n",
    "      \n",
    "        \n",
    "add(0,1,aList)\n",
    "add(0,3,aList)\n",
    "add(0,4,aList)\n",
    "add(1,0,aList)\n",
    "add(1,2,aList)\n",
    "\n",
    "add(2,1,aList)\n",
    "\n",
    "add(2,4,aList)\n",
    "add(3,0,aList)\n",
    "add(4,0,aList)\n",
    "\n",
    "add(4,2,aList)\n",
    "\n",
    "bfs(0,aList)\n",
    "print(aList)"
   ]
  },
  {
   "cell_type": "code",
   "execution_count": 3,
   "id": "26990a02",
   "metadata": {},
   "outputs": [
    {
     "name": "stdout",
     "output_type": "stream",
     "text": [
      "[[2], [0, 3], [1, 2, 3]]\n",
      "Vertex 1: [2]\n",
      "Vertex 2: [0, 3]\n",
      "Vertex 3: [1, 2, 3]\n",
      "BFS traversal starting from vertex 0:\n",
      "0 1 2 3 "
     ]
    }
   ],
   "source": [
    "class Graph:\n",
    "    def __init__(self, v):\n",
    "        self.v = v\n",
    "        self.adj_list = [[] for _ in range(v)]\n",
    "\n",
    "    def add_edge(self, s, d):\n",
    "        self.adj_list[s-1].append(d)\n",
    "\n",
    "    def bfs(self, start):\n",
    "        visited = set()\n",
    "        queue = [start]\n",
    "        visited.add(start)\n",
    "\n",
    "        while queue:\n",
    "            vertex = queue.pop(0)\n",
    "            print(vertex, end=' ')\n",
    "\n",
    "            for neighbor in self.adj_list[vertex-1]:\n",
    "                if neighbor not in visited:\n",
    "                    queue.append(neighbor)\n",
    "                    visited.add(neighbor)\n",
    "\n",
    "    def display_graph(self):\n",
    "        print(self.adj_list)\n",
    "        for vertex in range(self.v):\n",
    "            neighbors = self.adj_list[vertex]\n",
    "            print(f\"Vertex {vertex + 1}: {neighbors}\")\n",
    "\n",
    "graph = Graph(3)\n",
    "graph.add_edge(0, 1)\n",
    "graph.add_edge(0, 2)\n",
    "graph.add_edge(1, 2)\n",
    "graph.add_edge(2, 0)\n",
    "graph.add_edge(2, 3)\n",
    "graph.add_edge(3, 3)\n",
    "graph.display_graph()\n",
    "\n",
    "print(\"BFS traversal starting from vertex 0:\")\n",
    "graph.bfs(0)"
   ]
  },
  {
   "cell_type": "code",
   "execution_count": 4,
   "id": "98df662d",
   "metadata": {},
   "outputs": [
    {
     "name": "stdout",
     "output_type": "stream",
     "text": [
      "[[1, 2, 8], [0, 3], [0, 7], [1, 4, 5], [3], [3, 6], [7, 5], [2, 6, 8], [0, 7]]\n",
      "Vertex 0: [1, 2, 8]\n",
      "Vertex 1: [0, 3]\n",
      "Vertex 2: [0, 7]\n",
      "Vertex 3: [1, 4, 5]\n",
      "Vertex 4: [3]\n",
      "Vertex 5: [3, 6]\n",
      "Vertex 6: [7, 5]\n",
      "Vertex 7: [2, 6, 8]\n",
      "Vertex 8: [0, 7]\n",
      "BFS traversal\n",
      "0 1 2 8 3 7 4 5 6 "
     ]
    }
   ],
   "source": [
    "class Graph:\n",
    "    def __init__(self, v):\n",
    "        self.v = v\n",
    "        self.adj_list = [[] for _ in range(v)]\n",
    "\n",
    "    def add_edge(self, s, d):\n",
    "        self.adj_list[s].append(d)\n",
    "\n",
    "    def bfs(self, start):\n",
    "        visited = set()\n",
    "        queue = [start]\n",
    "        visited.add(start)\n",
    "\n",
    "        while queue:\n",
    "            vertex = queue.pop(0)\n",
    "            print(vertex, end=' ')\n",
    "\n",
    "            for neighbour in self.adj_list[vertex]:\n",
    "                if neighbour not in visited:\n",
    "                    queue.append(neighbour)\n",
    "                    visited.add(neighbour)\n",
    "\n",
    "    def display_graph(self):\n",
    "        print(self.adj_list)\n",
    "        for vertex in range(self.v):\n",
    "            neighbors = self.adj_list[vertex]\n",
    "            print(f\"Vertex {vertex}: {neighbors}\")\n",
    "\n",
    "graph = Graph(9)\n",
    "graph.add_edge(0, 1)\n",
    "graph.add_edge(0, 2)\n",
    "graph.add_edge(0, 8)\n",
    "graph.add_edge(1, 0)\n",
    "graph.add_edge(1, 3)\n",
    "graph.add_edge(2, 0)\n",
    "graph.add_edge(2, 7)\n",
    "graph.add_edge(3, 1)\n",
    "graph.add_edge(3, 4)\n",
    "graph.add_edge(3, 5)\n",
    "graph.add_edge(4, 3)\n",
    "graph.add_edge(5, 3)\n",
    "graph.add_edge(5, 6)\n",
    "graph.add_edge(6, 7)\n",
    "graph.add_edge(6, 5)\n",
    "graph.add_edge(7, 2)\n",
    "graph.add_edge(7, 6)\n",
    "graph.add_edge(7, 8)\n",
    "graph.add_edge(8, 0)\n",
    "graph.add_edge(8, 7)\n",
    "graph.display_graph()\n",
    "\n",
    "print(\"BFS traversal\")\n",
    "graph.bfs(0)"
   ]
  },
  {
   "cell_type": "code",
   "execution_count": null,
   "id": "9daee4cb",
   "metadata": {},
   "outputs": [],
   "source": []
  }
 ],
 "metadata": {
  "kernelspec": {
   "display_name": "Python 3 (ipykernel)",
   "language": "python",
   "name": "python3"
  },
  "language_info": {
   "codemirror_mode": {
    "name": "ipython",
    "version": 3
   },
   "file_extension": ".py",
   "mimetype": "text/x-python",
   "name": "python",
   "nbconvert_exporter": "python",
   "pygments_lexer": "ipython3",
   "version": "3.11.3"
  }
 },
 "nbformat": 4,
 "nbformat_minor": 5
}
