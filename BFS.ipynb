{
 "cells": [
  {
   "cell_type": "code",
   "execution_count": 6,
   "id": "e2229136-ba0b-4607-9ee4-24ecaf2e4a32",
   "metadata": {},
   "outputs": [
    {
     "name": "stdout",
     "output_type": "stream",
     "text": [
      "1 2 3 9 4 8 5 6 7 "
     ]
    }
   ],
   "source": [
    "#BFS\n",
    "def BFS(s,graph):\n",
    "    q=[]\n",
    "    q.append(s)\n",
    "    Dic={}\n",
    "    for j in range(len(graph)):\n",
    "            Dic[graph[j][0][0]]=False\n",
    "    Dic[s]=True\n",
    "    while (len(q)!=0):\n",
    "        x=q.pop(0)\n",
    "        print(x,end=\" \") \n",
    "        for j in range(len(graph)):\n",
    "            for i  in range(len(graph[j])):\n",
    "                if x == graph[j][i][0]:\n",
    "                    if(Dic[graph[j][i][1]]==False):\n",
    "                        Dic[graph[j][i][1]]=True\n",
    "                        q.append(graph[j][i][1])\n",
    "                else:\n",
    "                    break\n",
    "                    \n",
    "                    \n",
    "                        \n",
    "            \n",
    "            \n",
    "        \n",
    "if __name__==\"__main__\":\n",
    "    graph=[[(1,2),(1,3),(1,9)],[(2,1),(2,4)],[(3,1),(3,8)],[(4,2),(4,5),(4,6)],[(5,4)],[(6,4),(6,7)],[(7,6),(7,8)],[(8,3),(8,9)],[(9,8),(9,1)]]\n",
    "    s=1\n",
    "    BFS(s,graph)"
   ]
  },
  {
   "cell_type": "code",
   "execution_count": null,
   "id": "4a59b796-9ace-4a26-9cb4-2d00e062124e",
   "metadata": {},
   "outputs": [],
   "source": []
  }
 ],
 "metadata": {
  "kernelspec": {
   "display_name": "Python 3 (ipykernel)",
   "language": "python",
   "name": "python3"
  },
  "language_info": {
   "codemirror_mode": {
    "name": "ipython",
    "version": 3
   },
   "file_extension": ".py",
   "mimetype": "text/x-python",
   "name": "python",
   "nbconvert_exporter": "python",
   "pygments_lexer": "ipython3",
   "version": "3.12.1"
  }
 },
 "nbformat": 4,
 "nbformat_minor": 5
}
