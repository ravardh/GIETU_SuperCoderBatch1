{
 "cells": [
  {
   "cell_type": "code",
   "execution_count": 3,
   "id": "823c0260",
   "metadata": {},
   "outputs": [
    {
     "name": "stdout",
     "output_type": "stream",
     "text": [
      "1 2 3 9 4 8 5 6 7 "
     ]
    }
   ],
   "source": [
    "class Graph:\n",
    "    def __init__(self,v):\n",
    "        self.v = v\n",
    "        self.adj_list = [[] for _ in range(v)]\n",
    "        self.visited = [] \n",
    "\n",
    "    def add_edge(self,s,d,w):\n",
    "        self.adj_list[s-1].append((s,d,w))\n",
    "        \n",
    "    def bfs(self, start):\n",
    "        visited = set()\n",
    "        queue = [start]\n",
    "        while queue:\n",
    "            node = queue.pop(0)\n",
    "            if node not in visited:\n",
    "                print(node, end=\" \")\n",
    "                visited.add(node)\n",
    "                for i in range(len(self.adj_list[node-1])):\n",
    "                    x=self.adj_list[node-1][i][1]\n",
    "                    if x not in visited:\n",
    "                        queue.append(x)\n",
    "       \n",
    "graph = Graph(9)\n",
    "graph.add_edge(1,2,1)\n",
    "graph.add_edge(1,3,1)\n",
    "graph.add_edge(1,9,1)\n",
    "graph.add_edge(2,4,1)\n",
    "graph.add_edge(2,1,1)\n",
    "graph.add_edge(3,1,1)\n",
    "graph.add_edge(3,8,1)\n",
    "graph.add_edge(4,5,1)\n",
    "graph.add_edge(4,6,1)\n",
    "graph.add_edge(4,2,1)\n",
    "graph.add_edge(5,4,1)\n",
    "graph.add_edge(6,4,1)\n",
    "graph.add_edge(6,7,1)\n",
    "graph.add_edge(7,6,1)\n",
    "graph.add_edge(7,8,1)\n",
    "graph.add_edge(8,3,1)\n",
    "graph.add_edge(8,9,1)\n",
    "graph.add_edge(9,1,1)\n",
    "graph.add_edge(9,8,1)\n",
    "\n",
    "graph.bfs(1)"
   ]
  },
  {
   "cell_type": "code",
   "execution_count": null,
   "id": "06a62937",
   "metadata": {},
   "outputs": [],
   "source": []
  }
 ],
 "metadata": {
  "kernelspec": {
   "display_name": "Python 3 (ipykernel)",
   "language": "python",
   "name": "python3"
  },
  "language_info": {
   "codemirror_mode": {
    "name": "ipython",
    "version": 3
   },
   "file_extension": ".py",
   "mimetype": "text/x-python",
   "name": "python",
   "nbconvert_exporter": "python",
   "pygments_lexer": "ipython3",
   "version": "3.11.5"
  }
 },
 "nbformat": 4,
 "nbformat_minor": 5
}
