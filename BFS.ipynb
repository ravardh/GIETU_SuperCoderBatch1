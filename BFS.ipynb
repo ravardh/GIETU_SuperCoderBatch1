{
 "cells": [
  {
   "cell_type": "code",
   "execution_count": 1,
   "id": "b180af83-6695-4f39-b357-ec765c8bbed1",
   "metadata": {},
   "outputs": [
    {
     "name": "stdout",
     "output_type": "stream",
     "text": [
      "BFS traversal starting from node 0:\n",
      "4 3 2 0 1 "
     ]
    }
   ],
   "source": [
    "class Graph:\n",
    "    def __init__(self, vertices):\n",
    "        self.V = vertices\n",
    "        self.graph = [[] for _ in range(vertices)]\n",
    "\n",
    "    def add_edge(self, u, v):\n",
    "        self.graph[u].append(v)\n",
    "        self.graph[v].append(u)\n",
    "\n",
    "    def bfs(self, start_node):\n",
    "        visited = [False] * self.V\n",
    "        queue = [start_node]\n",
    "        visited[start_node] = True\n",
    "\n",
    "        while queue:\n",
    "            current_node = queue.pop(0)\n",
    "            print(current_node, end=\" \")\n",
    "            for neighbor in self.graph[current_node]:\n",
    "                if not visited[neighbor]:\n",
    "                    queue.append(neighbor)\n",
    "                    visited[neighbor] = True\n",
    "\n",
    "vertices = 5\n",
    "g = Graph(vertices)\n",
    "g.add_edge(0, 1)\n",
    "g.add_edge(0, 2)\n",
    "g.add_edge(1, 2)\n",
    "g.add_edge(2, 3)\n",
    "g.add_edge(3, 4)\n",
    "\n",
    "print(\"BFS traversal starting from node 0:\")\n",
    "g.bfs(4)"
   ]
  },
  {
   "cell_type": "code",
   "execution_count": null,
   "id": "5ec7bdaa-c296-41f0-bdaf-ce40331564f4",
   "metadata": {},
   "outputs": [],
   "source": []
  }
 ],
 "metadata": {
  "kernelspec": {
   "display_name": "Python 3 (ipykernel)",
   "language": "python",
   "name": "python3"
  },
  "language_info": {
   "codemirror_mode": {
    "name": "ipython",
    "version": 3
   },
   "file_extension": ".py",
   "mimetype": "text/x-python",
   "name": "python",
   "nbconvert_exporter": "python",
   "pygments_lexer": "ipython3",
   "version": "3.10.0"
  }
 },
 "nbformat": 4,
 "nbformat_minor": 5
}
