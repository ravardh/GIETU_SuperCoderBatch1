{
  "nbformat": 4,
  "nbformat_minor": 0,
  "metadata": {
    "colab": {
      "provenance": [],
      "authorship_tag": "ABX9TyNGF3eK1mjn2FnT6/1CB1WL",
      "include_colab_link": true
    },
    "kernelspec": {
      "name": "python3",
      "display_name": "Python 3"
    },
    "language_info": {
      "name": "python"
    }
  },
  "cells": [
    {
      "cell_type": "markdown",
      "metadata": {
        "id": "view-in-github",
        "colab_type": "text"
      },
      "source": [
        "<a href=\"https://colab.research.google.com/github/ravardh/GIETU_SuperCoderBatch1/blob/Ashish_21cse101/BFS.ipynb\" target=\"_parent\"><img src=\"https://colab.research.google.com/assets/colab-badge.svg\" alt=\"Open In Colab\"/></a>"
      ]
    },
    {
      "cell_type": "code",
      "execution_count": null,
      "metadata": {
        "colab": {
          "base_uri": "https://localhost:8080/"
        },
        "id": "2-MQf2S8De7W",
        "outputId": "c580f7d4-e1e6-4ee4-822d-db92ae0be8cb"
      },
      "outputs": [
        {
          "output_type": "stream",
          "name": "stdout",
          "text": [
            "BFS traversal starting from node 0:\n",
            "4 0 3 1 "
          ]
        }
      ],
      "source": [
        "class Graph:\n",
        "    def __init__(self, vertices):\n",
        "        self.V = vertices\n",
        "        self.graph = [[] for _ in range(vertices)]\n",
        "\n",
        "    def add_edge(self, u, v):\n",
        "        self.graph[u].append(v)\n",
        "        self.graph[v].append(u)\n",
        "\n",
        "    def bfs(self, start_node):\n",
        "        visited = [False] * self.V\n",
        "        queue = [start_node]\n",
        "        visited[start_node] = True\n",
        "\n",
        "        while queue:\n",
        "            current_node = queue.pop(0)\n",
        "            print(current_node, end=\" \")\n",
        "            for neighbor in self.graph[current_node]:\n",
        "                if not visited[neighbor]:\n",
        "                    queue.append(neighbor)\n",
        "                    visited[neighbor] = True\n",
        "\n",
        "vertices = 5\n",
        "g = Graph(vertices)\n",
        "g.add_edge(0, 4)\n",
        "g.add_edge(0, 3)\n",
        "g.add_edge(1, 3)\n",
        "g.add_edge(2, 2)\n",
        "g.add_edge(3, 1)\n",
        "\n",
        "print(\"BFS traversal starting from node 0:\")\n",
        "g.bfs(4)"
      ]
    }
  ]
}