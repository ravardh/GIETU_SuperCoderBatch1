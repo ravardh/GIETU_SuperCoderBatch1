{
 "cells": [
  {
   "cell_type": "markdown",
   "metadata": {},
   "source": [
    "Knap-sack problem"
   ]
  },
  {
   "cell_type": "code",
   "execution_count": 1,
   "metadata": {},
   "outputs": [
    {
     "name": "stdout",
     "output_type": "stream",
     "text": [
      "Maximum value: 7\n"
     ]
    }
   ],
   "source": [
    "def knapsack(weights, values, capacity):\n",
    "    n = len(weights)\n",
    "    memo = {}\n",
    "\n",
    "    def knapsack_recursive(index, remaining_capacity):\n",
    "        if index < 0 or remaining_capacity <= 0:\n",
    "            return 0\n",
    "\n",
    "        if (index, remaining_capacity) in memo:\n",
    "            return memo[(index, remaining_capacity)]\n",
    "\n",
    "        if weights[index] <= remaining_capacity:\n",
    "            include_current = values[index] + knapsack_recursive(index - 1, remaining_capacity - weights[index])\n",
    "        else:\n",
    "            include_current = 0\n",
    "\n",
    "        exclude_current = knapsack_recursive(index - 1, remaining_capacity)\n",
    "\n",
    "        max_value = max(include_current, exclude_current)\n",
    "\n",
    "\n",
    "        memo[(index, remaining_capacity)] = max_value\n",
    "\n",
    "        return max_value\n",
    "\n",
    "    return knapsack_recursive(n - 1, capacity)\n",
    "\n",
    "\n",
    "# Example usage:\n",
    "\n"
   ]
  },
  {
   "cell_type": "code",
   "execution_count": null,
   "metadata": {},
   "outputs": [],
   "source": []
  },
  {
   "cell_type": "code",
   "execution_count": null,
   "metadata": {},
   "outputs": [],
   "source": []
  },
  {
   "cell_type": "code",
   "execution_count": null,
   "metadata": {},
   "outputs": [],
   "source": []
  },
  {
   "cell_type": "code",
   "execution_count": null,
   "metadata": {},
   "outputs": [],
   "source": []
  },
  {
   "cell_type": "code",
   "execution_count": null,
   "metadata": {},
   "outputs": [],
   "source": []
  },
  {
   "cell_type": "code",
   "execution_count": null,
   "metadata": {},
   "outputs": [],
   "source": []
  },
  {
   "cell_type": "code",
   "execution_count": null,
   "metadata": {},
   "outputs": [],
   "source": [
    "\n"
   ]
  }
 ],
 "metadata": {
  "kernelspec": {
   "display_name": "Python 3",
   "language": "python",
   "name": "python3"
  },
  "language_info": {
   "codemirror_mode": {
    "name": "ipython",
    "version": 3
   },
   "file_extension": ".py",
   "mimetype": "text/x-python",
   "name": "python",
   "nbconvert_exporter": "python",
   "pygments_lexer": "ipython3",
   "version": "3.8.5"
  }
 },
 "nbformat": 4,
 "nbformat_minor": 4
}
