{
 "cells": [
  {
   "cell_type": "code",
   "execution_count": null,
   "id": "af39c621",
   "metadata": {},
   "outputs": [],
   "source": [
    "#sliding window technique(without slicing)\n",
    "l=list(map(int,input(\"Enter list numbers: \").split()))\n",
    "l2=[]\n",
    "sum=0\n",
    "m=int(input(\"Enter a number smaller than length of list: \"))\n",
    "n=m\n",
    "for i in range(len(l)-m+1):\n",
    "    while(m>0):\n",
    "        sum+=l[i]\n",
    "        i+=1\n",
    "        m-=1\n",
    "    l2.append(sum)\n",
    "    sum=0\n",
    "    m=n\n",
    "print(max(l2))"
   ]
  }
 ],
 "metadata": {
  "kernelspec": {
   "display_name": "Python 3 (ipykernel)",
   "language": "python",
   "name": "python3"
  },
  "language_info": {
   "codemirror_mode": {
    "name": "ipython",
    "version": 3
   },
   "file_extension": ".py",
   "mimetype": "text/x-python",
   "name": "python",
   "nbconvert_exporter": "python",
   "pygments_lexer": "ipython3",
   "version": "3.10.9"
  }
 },
 "nbformat": 4,
 "nbformat_minor": 5
}
