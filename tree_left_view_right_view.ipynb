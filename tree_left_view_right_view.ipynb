{
  "nbformat": 4,
  "nbformat_minor": 0,
  "metadata": {
    "colab": {
      "provenance": []
    },
    "kernelspec": {
      "name": "python3",
      "display_name": "Python 3"
    },
    "language_info": {
      "name": "python"
    }
  },
  "cells": [
    {
      "cell_type": "code",
      "execution_count": 1,
      "metadata": {
        "colab": {
          "base_uri": "https://localhost:8080/"
        },
        "id": "J_fqQQtB9upf",
        "outputId": "43c83772-3e32-451e-a7a3-518251bbe892"
      },
      "outputs": [
        {
          "output_type": "stream",
          "name": "stdout",
          "text": [
            "20 \n",
            "32 10 \n",
            "15 12 8 24 \n",
            "4 50 6 16 16 \n",
            "40 35 \n",
            "Left view: [20, 32, 15, 4, 40]\n"
          ]
        }
      ],
      "source": [
        "#Left view\n",
        "class Node:\n",
        "    def __init__(self, info):\n",
        "        self.info = info\n",
        "        self.left = None\n",
        "        self.right = None\n",
        "\n",
        "def levelorder(root):\n",
        "    Q = [root]\n",
        "    Q.append(None)\n",
        "    while len(Q) > 0:\n",
        "        cur = Q.pop(0)\n",
        "        if cur == None:\n",
        "            print()\n",
        "            if len(Q) > 0:\n",
        "                Q.append(None)\n",
        "        else:\n",
        "            print(cur.info, end=' ')\n",
        "            if cur.left != None:\n",
        "                Q.append(cur.left)\n",
        "            if cur.right != None:\n",
        "                Q.append(cur.right)\n",
        "\n",
        "def left_view(root):\n",
        "    result = []\n",
        "\n",
        "    def dfs(node, level):\n",
        "        nonlocal result\n",
        "        if node is None:\n",
        "            return\n",
        "        if level == len(result):\n",
        "            result.append(node.info)\n",
        "        dfs(node.left, level + 1)\n",
        "        dfs(node.right, level + 1)\n",
        "\n",
        "    dfs(root, 0)\n",
        "    return result\n",
        "\n",
        "root = Node(20)\n",
        "root.left = Node(32)\n",
        "root.right = Node(10)\n",
        "# level2\n",
        "root.left.left = Node(15)\n",
        "root.left.right = Node(12)\n",
        "root.right.left = Node(8)\n",
        "root.right.right = Node(24)\n",
        "# level3\n",
        "root.left.left.left = Node(4)\n",
        "root.left.right.left = Node(50)\n",
        "root.left.right.right = Node(6)\n",
        "root.right.right.left = Node(16)\n",
        "root.right.right.right = Node(16)\n",
        "root.left.right.left.left = Node(40)\n",
        "root.left.right.left.right = Node(35)\n",
        "\n",
        "levelorder(root)\n",
        "print(\"Left view:\", left_view(root))"
      ]
    },
    {
      "cell_type": "code",
      "source": [
        "#Right view\n",
        "class Node:\n",
        "    def __init__(self, info):\n",
        "        self.info = info\n",
        "        self.left = None\n",
        "        self.right = None\n",
        "\n",
        "def levelorder(root):\n",
        "    Q = [root]\n",
        "    Q.append(None)\n",
        "    while len(Q) > 0:\n",
        "        cur = Q.pop(0)\n",
        "        if cur == None:\n",
        "            print()\n",
        "            if len(Q) > 0:\n",
        "                Q.append(None)\n",
        "        else:\n",
        "            print(cur.info, end=' ')\n",
        "            if cur.left != None:\n",
        "                Q.append(cur.left)\n",
        "            if cur.right != None:\n",
        "                Q.append(cur.right)\n",
        "\n",
        "def right_view(root):\n",
        "    result = []\n",
        "\n",
        "    def dfs(node, level):\n",
        "        nonlocal result\n",
        "        if node is None:\n",
        "            return\n",
        "        if level == len(result):\n",
        "            result.append(node.info)\n",
        "        # Traverse right child first for the right view\n",
        "        dfs(node.right, level + 1)\n",
        "        dfs(node.left, level + 1)\n",
        "\n",
        "    dfs(root, 0)\n",
        "    return result\n",
        "\n",
        "root = Node(20)\n",
        "root.left = Node(32)\n",
        "root.right = Node(10)\n",
        "# level2\n",
        "root.left.left = Node(15)\n",
        "root.left.right = Node(12)\n",
        "root.right.left = Node(8)\n",
        "root.right.right = Node(24)\n",
        "# level3\n",
        "root.left.left.left = Node(4)\n",
        "root.left.right.left = Node(50)\n",
        "root.left.right.right = Node(6)\n",
        "root.right.right.left = Node(16)\n",
        "root.right.right.right = Node(16)\n",
        "root.left.right.left.left = Node(40)\n",
        "root.left.right.left.right = Node(35)\n",
        "\n",
        "levelorder(root)\n",
        "print(\"Right view:\", right_view(root))"
      ],
      "metadata": {
        "colab": {
          "base_uri": "https://localhost:8080/"
        },
        "id": "_zvJ-Fut96lh",
        "outputId": "d2cfa0e9-7fc3-4038-c22f-6688d1f3e77b"
      },
      "execution_count": 2,
      "outputs": [
        {
          "output_type": "stream",
          "name": "stdout",
          "text": [
            "20 \n",
            "32 10 \n",
            "15 12 8 24 \n",
            "4 50 6 16 16 \n",
            "40 35 \n",
            "Right view: [20, 10, 24, 16, 35]\n"
          ]
        }
      ]
    },
    {
      "cell_type": "code",
      "source": [],
      "metadata": {
        "id": "6Yp3FCET-AbT"
      },
      "execution_count": null,
      "outputs": []
    }
  ]
}