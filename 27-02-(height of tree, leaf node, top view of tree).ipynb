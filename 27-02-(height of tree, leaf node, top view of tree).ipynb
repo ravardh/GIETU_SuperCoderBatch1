{
 "cells": [
  {
   "cell_type": "code",
   "execution_count": 1,
   "id": "56a29c35",
   "metadata": {},
   "outputs": [
    {
     "name": "stdout",
     "output_type": "stream",
     "text": [
      "Height of the tree: 5\n"
     ]
    }
   ],
   "source": [
    "#HEIGHT OF THE TREE\n",
    "\n",
    "class TreeNode:\n",
    "    def __init__(self,data):\n",
    "        self.data=data\n",
    "        self.left=None\n",
    "        self.right=None\n",
    "      \n",
    "def findHeight(root):\n",
    "    if(root==None):\n",
    "        return 0\n",
    "    leftHeight=findHeight(root.left)\n",
    "    rightHeight=findHeight(root.right)\n",
    "    return max(leftHeight,rightHeight)+1\n",
    "\n",
    "root=TreeNode(1)\n",
    "root.left=TreeNode(2)\n",
    "root.right=TreeNode(3)\n",
    "root.left.right=TreeNode(4)\n",
    "root.left.right.right=TreeNode(5)\n",
    "root.left.right.right.right=TreeNode(6)\n",
    "\n",
    "height=findHeight(root)\n",
    "print(\"Height of the tree:\",height)"
   ]
  },
  {
   "cell_type": "code",
   "execution_count": 2,
   "id": "1f9ce88c",
   "metadata": {},
   "outputs": [
    {
     "name": "stdout",
     "output_type": "stream",
     "text": [
      "The Leaf Nodes are\n",
      "6 3 "
     ]
    }
   ],
   "source": [
    "#LEAF NODE\n",
    "\n",
    "class TreeNode:\n",
    "    def __init__(self,data):\n",
    "        self.data=data\n",
    "        self.left=None\n",
    "        self.right=None\n",
    "      \n",
    "def leafNode(root):\n",
    "    if root == None :\n",
    "        return\n",
    "    if root.left==None and root.right==None :\n",
    "        print(root.data,end=\" \")\n",
    "    leafNode(root.left)\n",
    "    leafNode(root.right)\n",
    "\n",
    "root=TreeNode(1)\n",
    "root.left=TreeNode(2)\n",
    "root.right=TreeNode(3)\n",
    "root.left.right=TreeNode(4)\n",
    "root.left.right.right=TreeNode(5)\n",
    "root.left.right.right.right=TreeNode(6)\n",
    "\n",
    "print(\"The Leaf Nodes are\")\n",
    "leafNode(root)"
   ]
  },
  {
   "cell_type": "code",
   "execution_count": 3,
   "id": "7a7ba364",
   "metadata": {},
   "outputs": [
    {
     "name": "stdout",
     "output_type": "stream",
     "text": [
      "The top view of the tree is: \n",
      "2 1 3 6 "
     ]
    }
   ],
   "source": [
    "#TOP VIEW OF TREE\n",
    "\n",
    "class TreeNode:\n",
    "    def __init__(self,data):\n",
    "        self.data=data\n",
    "        self.left=None\n",
    "        self.right=None\n",
    "        self.key=0\n",
    "        \n",
    "def topView(root):\n",
    "    q=[root]\n",
    "    key=0\n",
    "    root.key=key\n",
    "    tv=dict()\n",
    "    while len(q)>0:\n",
    "        cur=q.pop(0)\n",
    "        key=cur.key\n",
    "        if key not in tv:\n",
    "            tv[key]=cur.data\n",
    "        if cur.left:\n",
    "            q.append(cur.left)\n",
    "            cur.left.key=key-1\n",
    "        if cur.right:\n",
    "            q.append(cur.right)\n",
    "            cur.right.key=key+1\n",
    "    for x in sorted(tv):\n",
    "        print(tv[x],end=\" \")\n",
    "        \n",
    "root=TreeNode(1)\n",
    "root.left=TreeNode(2)\n",
    "root.right=TreeNode(3)\n",
    "root.left.right=TreeNode(4)\n",
    "root.left.right.right=TreeNode(5)\n",
    "root.left.right.right.right=TreeNode(6)\n",
    "\n",
    "print(\"The top view of the tree is: \")\n",
    "topView(root)"
   ]
  },
  {
   "cell_type": "code",
   "execution_count": null,
   "id": "b9092796",
   "metadata": {},
   "outputs": [],
   "source": []
  }
 ],
 "metadata": {
  "kernelspec": {
   "display_name": "Python 3 (ipykernel)",
   "language": "python",
   "name": "python3"
  },
  "language_info": {
   "codemirror_mode": {
    "name": "ipython",
    "version": 3
   },
   "file_extension": ".py",
   "mimetype": "text/x-python",
   "name": "python",
   "nbconvert_exporter": "python",
   "pygments_lexer": "ipython3",
   "version": "3.11.5"
  }
 },
 "nbformat": 4,
 "nbformat_minor": 5
}
