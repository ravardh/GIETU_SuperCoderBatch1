{
 "cells": [
  {
   "cell_type": "code",
   "execution_count": 1,
   "id": "eefc5e7b",
   "metadata": {},
   "outputs": [
    {
     "name": "stdout",
     "output_type": "stream",
     "text": [
      "Cycle detected.\n",
      "Number of cycles: 2\n"
     ]
    }
   ],
   "source": [
    "class Graph:\n",
    "    def __init__(self):\n",
    "        self.graph = {}\n",
    "\n",
    "    def add_edge(self, u, v):\n",
    "        if u in self.graph:\n",
    "            self.graph[u].append(v)\n",
    "        else:\n",
    "            self.graph[u] = [v]\n",
    "\n",
    "    def is_cyclic_util(self, v, visited, recursion_stack):\n",
    "        visited[v] = True\n",
    "        recursion_stack[v] = True\n",
    "\n",
    "        if v in self.graph:\n",
    "            for neighbor in self.graph[v]:\n",
    "                if not visited[neighbor]:\n",
    "                    if self.is_cyclic_util(neighbor, visited, recursion_stack):\n",
    "                        return True\n",
    "                elif recursion_stack[neighbor]:\n",
    "                    return True\n",
    "\n",
    "        recursion_stack[v] = False\n",
    "        return False\n",
    "\n",
    "    def is_cyclic(self):\n",
    "        num_cycles = 0\n",
    "        visited = {node: False for node in self.graph}\n",
    "        recursion_stack = {node: False for node in self.graph}\n",
    "\n",
    "        for node in self.graph:\n",
    "            if not visited[node]:\n",
    "                if self.is_cyclic_util(node, visited, recursion_stack):\n",
    "                    num_cycles += 1\n",
    "\n",
    "        if num_cycles > 0:\n",
    "            print(\"Cycle detected.\")\n",
    "            print(\"Number of cycles:\", num_cycles)\n",
    "        else:\n",
    "            print(\"Cycle not detected.\")\n",
    "\n",
    "g = Graph()\n",
    "g.add_edge(0, 1)\n",
    "g.add_edge(0, 2)\n",
    "g.add_edge(1, 2)\n",
    "g.add_edge(2, 0)\n",
    "g.add_edge(2, 3)\n",
    "g.add_edge(3, 3)\n",
    "\n",
    "g.is_cyclic()\n"
   ]
  },
  {
   "cell_type": "code",
   "execution_count": 2,
   "id": "1b6b6c06",
   "metadata": {},
   "outputs": [
    {
     "name": "stdout",
     "output_type": "stream",
     "text": [
      "Scheduled Jobs:\n",
      "Job j5 with profit 35 is scheduled at deadline 3\n",
      "Job j2 with profit 30 is scheduled at deadline 4\n",
      "Job j6 with profit 25 is scheduled at deadline 2\n",
      "Job j1 with profit 20 is scheduled at deadline 1\n"
     ]
    }
   ],
   "source": [
    "class Job:\n",
    "    def __init__(self, name, profit, deadline):\n",
    "        self.name = name\n",
    "        self.profit = profit\n",
    "        self.deadline = deadline\n",
    "\n",
    "def job_sequencing_with_graph(jobs):\n",
    "\n",
    "    sorted_jobs = sorted(jobs, key=lambda x: x.profit, reverse=True)\n",
    "    \n",
    "    \n",
    "    slots = [False] * (max(job.deadline for job in jobs) + 1)\n",
    "    \n",
    "    \n",
    "    result = []\n",
    "    \n",
    "    \n",
    "    for job in sorted_jobs:\n",
    "    \n",
    "        for i in range(job.deadline, 0, -1):\n",
    "            if slots[i] is False:\n",
    "                result.append((job.name, job.profit, i))\n",
    "                slots[i] = True\n",
    "                break\n",
    "    \n",
    "    return result\n",
    "\n",
    "jobs = [\n",
    "    Job(\"j1\", 20, 2),\n",
    "    Job(\"j2\", 30, 4),\n",
    "    Job(\"j3\", 15, 3),\n",
    "    Job(\"j4\", 12, 1),\n",
    "    Job(\"j5\", 35, 3),\n",
    "    Job(\"j6\", 25, 4),\n",
    "    Job(\"j7\", 5, 2)\n",
    "]\n",
    "\n",
    "scheduled_jobs = job_sequencing_with_graph(jobs)\n",
    "\n",
    "print(\"Scheduled Jobs:\")\n",
    "for job in scheduled_jobs:\n",
    "    print(f\"Job {job[0]} with profit {job[1]} is scheduled at deadline {job[2]}\")\n"
   ]
  },
  {
   "cell_type": "code",
   "execution_count": null,
   "id": "39b05c59",
   "metadata": {},
   "outputs": [],
   "source": []
  }
 ],
 "metadata": {
  "kernelspec": {
   "display_name": "Python 3 (ipykernel)",
   "language": "python",
   "name": "python3"
  },
  "language_info": {
   "codemirror_mode": {
    "name": "ipython",
    "version": 3
   },
   "file_extension": ".py",
   "mimetype": "text/x-python",
   "name": "python",
   "nbconvert_exporter": "python",
   "pygments_lexer": "ipython3",
   "version": "3.10.9"
  }
 },
 "nbformat": 4,
 "nbformat_minor": 5
}
