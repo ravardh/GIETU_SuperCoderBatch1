{
 "cells": [
  {
   "cell_type": "markdown",
   "metadata": {},
   "source": [
    "Dijkstra's Algorithm"
   ]
  },
  {
   "cell_type": "code",
   "execution_count": 1,
   "metadata": {},
   "outputs": [
    {
     "name": "stdout",
     "output_type": "stream",
     "text": [
      "[12, 8, 0, 7, 14, 4, 6, 7, 2]\n"
     ]
    }
   ],
   "source": [
    "class Graph:\n",
    "    def __init__(self,v):\n",
    "        self.v = v\n",
    "        self.adj_list = [[] for _ in range(v)]\n",
    "        self.list=[float('inf') for _ in range(v)]\n",
    "        self.dict={}\n",
    "        for i in range(1,v+1):\n",
    "            self.dict[i]=float('inf')\n",
    "        \n",
    "    def add_edge(self,s,d,w):\n",
    "        self.adj_list[s-1].append((s,d,w))\n",
    "        \n",
    "    def dijkstra(self,s):\n",
    "        self.dict[s]=0\n",
    "        while len(self.dict)!=0:\n",
    "            value=min(self.dict.values())\n",
    "            keys=[i for i in self.dict if self.dict[i]==value]\n",
    "            key=keys[0]\n",
    "            self.dict.pop(key)\n",
    "            self.list[key-1]=value\n",
    "            for i in range(len(self.adj_list[key-1])):\n",
    "                x=self.adj_list[key-1][i][1]\n",
    "                d=self.adj_list[key-1][i][2]\n",
    "                if x in self.dict.keys():\n",
    "                    if self.dict[x]>value+d:\n",
    "                        self.dict[x]=value+d\n",
    "            \n",
    "        print(self.list)\n",
    "\n",
    "graph = Graph(9)\n",
    "graph.add_edge(1,2,4)\n",
    "graph.add_edge(1,8,8)\n",
    "graph.add_edge(2,3,8)\n",
    "graph.add_edge(2,8,11)\n",
    "graph.add_edge(2,1,4)\n",
    "graph.add_edge(3,2,8)\n",
    "graph.add_edge(3,4,7)\n",
    "graph.add_edge(3,9,2)\n",
    "graph.add_edge(3,6,4)\n",
    "graph.add_edge(4,3,7)\n",
    "graph.add_edge(4,5,9)\n",
    "graph.add_edge(4,6,14)\n",
    "graph.add_edge(5,4,9)\n",
    "graph.add_edge(5,6,10)\n",
    "graph.add_edge(6,4,14)\n",
    "graph.add_edge(6,5,10)\n",
    "graph.add_edge(6,3,4)\n",
    "graph.add_edge(6,7,2)\n",
    "graph.add_edge(7,6,2)\n",
    "graph.add_edge(7,9,6)\n",
    "graph.add_edge(7,8,1)\n",
    "graph.add_edge(8,9,7)\n",
    "graph.add_edge(8,7,1)\n",
    "graph.add_edge(8,2,11)\n",
    "graph.add_edge(8,1,8)\n",
    "graph.add_edge(9,3,2)\n",
    "graph.add_edge(9,7,6)\n",
    "graph.add_edge(9,8,7)\n",
    "\n",
    "\n",
    "graph.dijkstra(3)"
   ]
  },
  {
   "cell_type": "code",
   "execution_count": null,
   "metadata": {},
   "outputs": [],
   "source": []
  }
 ],
 "metadata": {
  "kernelspec": {
   "display_name": "Python 3",
   "language": "python",
   "name": "python3"
  },
  "language_info": {
   "codemirror_mode": {
    "name": "ipython",
    "version": 3
   },
   "file_extension": ".py",
   "mimetype": "text/x-python",
   "name": "python",
   "nbconvert_exporter": "python",
   "pygments_lexer": "ipython3",
   "version": "3.8.5"
  }
 },
 "nbformat": 4,
 "nbformat_minor": 4
}
