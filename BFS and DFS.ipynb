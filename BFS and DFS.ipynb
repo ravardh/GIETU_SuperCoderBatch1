{
 "cells": [
  {
   "cell_type": "code",
   "execution_count": 7,
   "id": "882e7898",
   "metadata": {},
   "outputs": [
    {
     "name": "stdout",
     "output_type": "stream",
     "text": [
      "[[(1, 3, 2), (2, 1, 3), (4, 2, 1), (3, 2, 4)]]\n"
     ]
    }
   ],
   "source": [
    "l1=[]\n",
    "l2=[(1,3,2),(2,1,3),(4,2,1),(3,2,4)]\n",
    "l1.append(l2)\n",
    "print(l1)"
   ]
  },
  {
   "cell_type": "code",
   "execution_count": 11,
   "id": "495512c9",
   "metadata": {},
   "outputs": [
    {
     "name": "stdout",
     "output_type": "stream",
     "text": [
      "[[1, 2, 8], [0, 3], [0, 7], [1, 4, 5], [3], [3, 6], [7, 5], [2, 6, 8], [0, 7]]\n",
      "Vertex 0: [1, 2, 8]\n",
      "Vertex 1: [0, 3]\n",
      "Vertex 2: [0, 7]\n",
      "Vertex 3: [1, 4, 5]\n",
      "Vertex 4: [3]\n",
      "Vertex 5: [3, 6]\n",
      "Vertex 6: [7, 5]\n",
      "Vertex 7: [2, 6, 8]\n",
      "Vertex 8: [0, 7]\n",
      "BFS traversal starting from vertex 0:\n",
      "0 1 2 8 3 7 4 5 6 "
     ]
    }
   ],
   "source": [
    "class Graph:\n",
    "    def __init__(self, v):\n",
    "        self.v = v\n",
    "        self.adj_list = [[] for _ in range(v)]\n",
    "\n",
    "    def add_edge(self, s, d):\n",
    "        self.adj_list[s].append(d)\n",
    "\n",
    "    def bfs(self, start):\n",
    "        visited = set()\n",
    "        queue = [start]\n",
    "        visited.add(start)\n",
    "\n",
    "        while queue:\n",
    "            vertex = queue.pop(0)\n",
    "            print(vertex, end=' ')\n",
    "\n",
    "            for neighbor in self.adj_list[vertex]:\n",
    "                if neighbor not in visited:\n",
    "                    queue.append(neighbor)\n",
    "                    visited.add(neighbor)\n",
    "\n",
    "    def display_graph(self):\n",
    "        print(self.adj_list)\n",
    "        for vertex in range(self.v):\n",
    "            neighbors = self.adj_list[vertex]\n",
    "            print(f\"Vertex {vertex}: {neighbors}\")\n",
    "\n",
    "graph = Graph(9)\n",
    "graph.add_edge(0, 1)\n",
    "graph.add_edge(0, 2)\n",
    "graph.add_edge(0, 8)\n",
    "graph.add_edge(1, 0)\n",
    "graph.add_edge(1, 3)\n",
    "graph.add_edge(2, 0)\n",
    "graph.add_edge(2, 7)\n",
    "graph.add_edge(3, 1)\n",
    "graph.add_edge(3, 4)\n",
    "graph.add_edge(3, 5)\n",
    "graph.add_edge(4, 3)\n",
    "graph.add_edge(5, 3)\n",
    "graph.add_edge(5, 6)\n",
    "graph.add_edge(6, 7)\n",
    "graph.add_edge(6, 5)\n",
    "graph.add_edge(7, 2)\n",
    "graph.add_edge(7, 6)\n",
    "graph.add_edge(7, 8)\n",
    "graph.add_edge(8, 0)\n",
    "graph.add_edge(8, 7)\n",
    "graph.display_graph()\n",
    "\n",
    "print(\"BFS traversal starting from vertex 0:\")\n",
    "graph.bfs(0)"
   ]
  },
  {
   "cell_type": "code",
   "execution_count": 14,
   "id": "62b3a10c",
   "metadata": {},
   "outputs": [
    {
     "name": "stdout",
     "output_type": "stream",
     "text": [
      "edge:(0, 1, 0)\n",
      "edge:(1, 0, 0)\n",
      "edge:(1, 2, 0)\n",
      "edge:(2, 1, 0)\n",
      "edge:(2, 3, 0)\n",
      "edge:(3, 2, 0)\n",
      "edge:(3, 0, 0)\n",
      "edge:(0, 3, 0)\n",
      "edge:(1, 3, 0)\n",
      "edge:(3, 1, 0)\n"
     ]
    }
   ],
   "source": [
    "class Graph:\n",
    "    def __init__(self,vertices):\n",
    "        self.vertices = vertices\n",
    "        self.adj_matrix = [[0] * vertices for i in range(vertices)]\n",
    "        self.edge_weights = []\n",
    "    def add_edge(self, source, destination, weight):\n",
    "        self.adj_matrix[source][destination] = weight\n",
    "        self.adj_matrix[destination][source] = weight\n",
    "        self.edge_weights.append((source, destination, weight))\n",
    "        self.edge_weights.append((destination, source, weight))\n",
    "    def print_edges(self):\n",
    "        for edge in self.edge_weights :\n",
    "            print(f\"edge:{edge}\")\n",
    "graph = Graph(4)\n",
    "\n",
    "graph.add_edge(0, 1, 0)\n",
    "graph.add_edge(1, 2,0)\n",
    "graph.add_edge(2, 3,0)\n",
    "graph.add_edge(3, 0,0)\n",
    "graph.add_edge(1, 3,0)\n",
    "\n",
    "graph.print_edges()"
   ]
  },
  {
   "cell_type": "code",
   "execution_count": null,
   "id": "f80ca53d",
   "metadata": {},
   "outputs": [],
   "source": []
  },
  {
   "cell_type": "code",
   "execution_count": 23,
   "id": "7e95c69b",
   "metadata": {},
   "outputs": [
    {
     "name": "stdout",
     "output_type": "stream",
     "text": [
      "Following is Depth First Traversal\n",
      "1 2 0 3 "
     ]
    }
   ],
   "source": [
    "from collections import defaultdict\n",
    "class Graph:\n",
    "    def __init__(self):\n",
    "        self.graph = defaultdict(list)\n",
    "    def addEdge(self, u, v):\n",
    "        self.graph[u].append(v)\n",
    "    def DFSUtil(self, v, visited):\n",
    "        visited.add(v)\n",
    "        print(v, end=' ')\n",
    "        for neighbour in self.graph[v]:\n",
    "            if neighbour not in visited:\n",
    "                self.DFSUtil(neighbour, visited)\n",
    "    def DFS(self, v):\n",
    "        visited = set()\n",
    "        self.DFSUtil(v, visited)\n",
    "if __name__ == \"__main__\":\n",
    "    g = Graph()\n",
    "    g.addEdge(0, 1)\n",
    "    g.addEdge(0, 2)\n",
    "    g.addEdge(1, 2)\n",
    "    g.addEdge(2, 0)\n",
    "    g.addEdge(2, 3)\n",
    "    g.addEdge(3, 3)\n",
    "    print(\"Following is Depth First Traversal\")\n",
    "    g.DFS(1)\n"
   ]
  },
  {
   "cell_type": "code",
   "execution_count": 28,
   "id": "7748a921",
   "metadata": {},
   "outputs": [
    {
     "name": "stdout",
     "output_type": "stream",
     "text": [
      "DFS result starting from vertex 2 : 2 0 1 3 "
     ]
    }
   ],
   "source": [
    "def dfs(start, visited=None):\n",
    "    if visited is None:\n",
    "        visited = set()\n",
    "\n",
    "    visited.add(start)\n",
    "    print(start, end=' ')\n",
    "\n",
    "    for neighbor in adjacency_list[start]:\n",
    "        if neighbor not in visited:\n",
    "            dfs(neighbor, visited)\n",
    "\n",
    "print(\"DFS result starting from vertex\", 2, \": \", end='')\n",
    "dfs(2)"
   ]
  },
  {
   "cell_type": "code",
   "execution_count": null,
   "id": "6e0009d7",
   "metadata": {},
   "outputs": [],
   "source": []
  }
 ],
 "metadata": {
  "kernelspec": {
   "display_name": "Python 3 (ipykernel)",
   "language": "python",
   "name": "python3"
  },
  "language_info": {
   "codemirror_mode": {
    "name": "ipython",
    "version": 3
   },
   "file_extension": ".py",
   "mimetype": "text/x-python",
   "name": "python",
   "nbconvert_exporter": "python",
   "pygments_lexer": "ipython3",
   "version": "3.10.9"
  }
 },
 "nbformat": 4,
 "nbformat_minor": 5
}
