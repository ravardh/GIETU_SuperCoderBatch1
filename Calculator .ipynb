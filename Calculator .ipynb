{
 "cells": [
  {
   "cell_type": "code",
   "execution_count": 16,
   "id": "f0830a9f",
   "metadata": {},
   "outputs": [
    {
     "name": "stdout",
     "output_type": "stream",
     "text": [
      "<class 'float'>\n",
      "<class 'str'>\n",
      "<class 'int'>\n",
      "Enter anything12\n",
      "12.0\n",
      "<class 'float'>\n"
     ]
    }
   ],
   "source": [
    "#Program 1\n",
    "a=12.5\n",
    "b='Mefee'\n",
    "d=123\n",
    "print(type(a))\n",
    "print(type(b))\n",
    "print(type(d))\n",
    "x=float(input(\"Enter anything\"))\n",
    "print(x)\n",
    "print(type(x))"
   ]
  },
  {
   "cell_type": "code",
   "execution_count": 19,
   "id": "a2e5d551",
   "metadata": {},
   "outputs": [
    {
     "name": "stdout",
     "output_type": "stream",
     "text": [
      "Enter age27\n",
      "Adult\n"
     ]
    }
   ],
   "source": [
    "age=int(input(\"Enter age\"))\n",
    "match age:\n",
    "    case 18:\n",
    "        print(\"Perfect age\")\n",
    "    case _ if age>18:\n",
    "        print(\"Adult\")\n",
    "    case _ if age<18:\n",
    "        print(\"Teen\")"
   ]
  },
  {
   "cell_type": "code",
   "execution_count": null,
   "id": "3deb45b0",
   "metadata": {},
   "outputs": [],
   "source": [
    "a=int(input(\"Enter first number\"))\n",
    "b=int(input(\"Enter second number\"))\n",
    "ans=int(input(\"Choose option\"))\n",
    "print(\"1. Add\\n2. Subtract\\n3. Multiply\\n4. Divide\")\n",
    "match ans:\n",
    "    case 1:\n",
    "        print(a+b)\n",
    "    case 2:\n",
    "        print(a-b)\n",
    "    case 3:\n",
    "        print(a*b)\n",
    "    case 4:\n",
    "        print(a/b)"
   ]
  },
  {
   "cell_type": "code",
   "execution_count": null,
   "id": "d5d30196",
   "metadata": {},
   "outputs": [
    {
     "name": "stdout",
     "output_type": "stream",
     "text": [
      "Enter first number: 5\n",
      "Enter second number: 0\n",
      "1. Add\n",
      "2. Subtract\n",
      "3. Multiply\n",
      "4. Divide\n",
      "5. Remainder\n",
      "Choose option: 5\n",
      "Can't divisible by Zero\n"
     ]
    }
   ],
   "source": [
    "while True:\n",
    "    a=int(input(\"Enter first number: \"))\n",
    "    b=int(input(\"Enter second number: \"))\n",
    "    print(\"1. Add\\n2. Subtract\\n3. Multiply\\n4. Divide\\n5. Remainder\")\n",
    "    ans=int(input(\"Choose option: \"))\n",
    "    match ans:\n",
    "        case 1:\n",
    "            print(\"Addition is = \",a+b)\n",
    "        case 2:\n",
    "            print(\"Subtraction is = \",a-b)\n",
    "        case 3:\n",
    "            print(\"Multiplication is = \",a*b)\n",
    "        case 4:\n",
    "            print(\"Division is = \",a/b) if b!=0 else print(\"Can't divisible by Zero\")\n",
    "        case 5:\n",
    "            print(\"Remainder is = \",a%b) if b!=0 else print(\"Can't divisible by Zero\")\n",
    "        case _:\n",
    "            print(\"Invalid input\")\n",
    "    x=input(\"If you want to do next calculation enter Yes/No: \")\n",
    "    if x.lower()==\"no\":\n",
    "        break\n",
    "        \n",
    "    "
   ]
  },
  {
   "cell_type": "code",
   "execution_count": 9,
   "id": "b9bec219",
   "metadata": {},
   "outputs": [
    {
     "name": "stdout",
     "output_type": "stream",
     "text": [
      "waQWW\n",
      "False\n"
     ]
    }
   ],
   "source": [
    "a=input()\n",
    "print(a.islower())"
   ]
  },
  {
   "cell_type": "code",
   "execution_count": 5,
   "id": "79352a72",
   "metadata": {},
   "outputs": [
    {
     "name": "stdout",
     "output_type": "stream",
     "text": [
      "True\n"
     ]
    }
   ],
   "source": [
    "a=\"no\"\n",
    "b=\"no\"\n",
    "print(a==b)"
   ]
  },
  {
   "cell_type": "code",
   "execution_count": null,
   "id": "d1e59836",
   "metadata": {},
   "outputs": [],
   "source": []
  }
 ],
 "metadata": {
  "kernelspec": {
   "display_name": "Python 3 (ipykernel)",
   "language": "python",
   "name": "python3"
  },
  "language_info": {
   "codemirror_mode": {
    "name": "ipython",
    "version": 3
   },
   "file_extension": ".py",
   "mimetype": "text/x-python",
   "name": "python",
   "nbconvert_exporter": "python",
   "pygments_lexer": "ipython3",
   "version": "3.10.9"
  }
 },
 "nbformat": 4,
 "nbformat_minor": 5
}
