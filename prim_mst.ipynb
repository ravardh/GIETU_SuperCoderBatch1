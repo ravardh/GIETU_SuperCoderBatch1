{
  "nbformat": 4,
  "nbformat_minor": 0,
  "metadata": {
    "colab": {
      "provenance": [],
      "authorship_tag": "ABX9TyNFEZRX7oQ6g/SyV5FPYw15",
      "include_colab_link": true
    },
    "kernelspec": {
      "name": "python3",
      "display_name": "Python 3"
    },
    "language_info": {
      "name": "python"
    }
  },
  "cells": [
    {
      "cell_type": "markdown",
      "metadata": {
        "id": "view-in-github",
        "colab_type": "text"
      },
      "source": [
        "<a href=\"https://colab.research.google.com/github/ravardh/GIETU_SuperCoderBatch1/blob/Ashish_21cse101/prim_mst.ipynb\" target=\"_parent\"><img src=\"https://colab.research.google.com/assets/colab-badge.svg\" alt=\"Open In Colab\"/></a>"
      ]
    },
    {
      "cell_type": "code",
      "execution_count": 1,
      "metadata": {
        "colab": {
          "base_uri": "https://localhost:8080/"
        },
        "id": "fm_uyg6KxcDp",
        "outputId": "28f7aff9-4053-4b15-faf4-5b8872c2277a"
      },
      "outputs": [
        {
          "output_type": "stream",
          "name": "stdout",
          "text": [
            "Minimum Spanning Tree Weight: 6\n",
            "Minimum Spanning Tree Edges:\n",
            "('A', 'B', 4)\n",
            "('A', 'C', 1)\n",
            "('C', 'B', 2)\n",
            "('C', 'D', 3)\n",
            "('B', 'D', 5)\n"
          ]
        }
      ],
      "source": [
        "from collections import defaultdict\n",
        "import heapq\n",
        "\n",
        "class Graph:\n",
        "    def __init__(self):\n",
        "        self.adj_list = defaultdict(list)\n",
        "\n",
        "    def add_edge(self, u, v, weight):\n",
        "        self.adj_list[u].append((v, weight))\n",
        "        self.adj_list[v].append((u, weight))  # Undirected graph\n",
        "\n",
        "    def prim_mst(self, start):\n",
        "        visited = set()\n",
        "        min_heap = [(0, start)]  # (weight, node)\n",
        "        mst_weight = 0\n",
        "        mst_edges = []\n",
        "\n",
        "        while min_heap:\n",
        "            weight, node = heapq.heappop(min_heap)\n",
        "            if node not in visited:\n",
        "                visited.add(node)\n",
        "                mst_weight += weight\n",
        "                for neighbor, neighbor_weight in self.adj_list[node]:\n",
        "                    if neighbor not in visited:\n",
        "                        heapq.heappush(min_heap, (neighbor_weight, neighbor))\n",
        "                        mst_edges.append((node, neighbor, neighbor_weight))\n",
        "\n",
        "        return mst_weight, mst_edges\n",
        "\n",
        "# Example usage:\n",
        "g = Graph()\n",
        "g.add_edge('A', 'B', 4)\n",
        "g.add_edge('A', 'C', 1)\n",
        "g.add_edge('B', 'C', 2)\n",
        "g.add_edge('B', 'D', 5)\n",
        "g.add_edge('C', 'D', 3)\n",
        "\n",
        "start_node = 'A'\n",
        "mst_weight, mst_edges = g.prim_mst(start_node)\n",
        "print(\"Minimum Spanning Tree Weight:\", mst_weight)\n",
        "print(\"Minimum Spanning Tree Edges:\")\n",
        "for edge in mst_edges:\n",
        "    print(edge)"
      ]
    },
    {
      "cell_type": "code",
      "source": [],
      "metadata": {
        "id": "uYgkI-OixdFe"
      },
      "execution_count": null,
      "outputs": []
    }
  ]
}