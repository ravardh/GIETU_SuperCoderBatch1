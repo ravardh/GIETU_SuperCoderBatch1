{
 "cells": [
  {
   "cell_type": "code",
   "execution_count": 6,
   "id": "91069406-442f-4d9d-bb35-bf9ea9c1de36",
   "metadata": {},
   "outputs": [
    {
     "name": "stdout",
     "output_type": "stream",
     "text": [
      "<class 'float'>\n",
      "<class 'str'>\n",
      "<class 'int'>\n"
     ]
    }
   ],
   "source": [
    "a=5\n",
    "b='R'\n",
    "c=8.6\n",
    "print(type(c))\n",
    "print(type(b))\n",
    "print(type(a))\n",
    "\n"
   ]
  },
  {
   "cell_type": "code",
   "execution_count": null,
   "id": "cbf7666e-4ef7-4aea-a070-ab8681fc1ffd",
   "metadata": {},
   "outputs": [],
   "source": [
    "operators\n",
    "+ add\n",
    "- sub\n",
    "* mul\n",
    "/ divide (5/2 = 2.5)\n",
    "// floor division (5//2 = 2)\n",
    "% modulus (5%2 = 1)"
   ]
  },
  {
   "cell_type": "code",
   "execution_count": null,
   "id": "15dbe6b7-f19a-47e6-8362-a13d6be83a7b",
   "metadata": {},
   "outputs": [],
   "source": [
    "type casting\n",
    "\n",
    "implicit\n",
    "\n",
    "\n",
    "explicit\n",
    "int()\n",
    "float()\n",
    "str()\n"
   ]
  },
  {
   "cell_type": "code",
   "execution_count": 16,
   "id": "f0db2665-b15b-4842-832a-ed98ac2d1ced",
   "metadata": {},
   "outputs": [
    {
     "name": "stdout",
     "output_type": "stream",
     "text": [
      "<class 'int'>\n",
      "<class 'str'>\n",
      "15\n",
      "<class 'int'>\n"
     ]
    }
   ],
   "source": [
    "a = 8\n",
    "b = \"7\"\n",
    "print(type(a))\n",
    "print(type(b))\n",
    "\n",
    "print(int(b)+a)\n",
    "print(type(int(b)+a))\n",
    "\n",
    "#print(type(float(b)))"
   ]
  },
  {
   "cell_type": "code",
   "execution_count": null,
   "id": "5f20468e-ffa5-4349-8d12-1f9d1b9c4d6f",
   "metadata": {},
   "outputs": [],
   "source": [
    "input()\n",
    "to take input form user\n",
    "also to print the message"
   ]
  },
  {
   "cell_type": "code",
   "execution_count": 20,
   "id": "183e5a5c-3714-4e39-9aa4-cc7aa19394bc",
   "metadata": {},
   "outputs": [
    {
     "name": "stdin",
     "output_type": "stream",
     "text": [
      "Enter anything 1234\n",
      " \n"
     ]
    },
    {
     "name": "stdout",
     "output_type": "stream",
     "text": [
      "1234\n",
      "<class 'int'>\n"
     ]
    }
   ],
   "source": [
    "a=int(input(\"Enter anything\"))\n",
    "b=input()\n",
    "print(a)\n",
    "print(type(a))"
   ]
  },
  {
   "cell_type": "code",
   "execution_count": null,
   "id": "43d38a15-2177-414d-9573-1a76c28994b2",
   "metadata": {},
   "outputs": [],
   "source": [
    "Decision Making\n",
    "if-else\n",
    "Match case\n",
    "\n",
    "if-else"
   ]
  },
  {
   "cell_type": "code",
   "execution_count": 21,
   "id": "224beee4-b5bf-478c-9a06-db808ae4edb2",
   "metadata": {},
   "outputs": [
    {
     "name": "stdin",
     "output_type": "stream",
     "text": [
      " 4\n",
      " 5\n",
      " 6\n"
     ]
    },
    {
     "name": "stdout",
     "output_type": "stream",
     "text": [
      "c is larger\n"
     ]
    }
   ],
   "source": [
    "a=int(input())\n",
    "b=int(input())\n",
    "c=int(input())\n",
    "\n",
    "if(a>b):\n",
    "    if(a>c):\n",
    "        print(\"a is larger\")\n",
    "    else:\n",
    "        print(\"c is larger\")\n",
    "else:\n",
    "    if(b>c):\n",
    "        print(\"b is larger\")\n",
    "    else:\n",
    "        print(\"c is larger\")"
   ]
  },
  {
   "cell_type": "code",
   "execution_count": 23,
   "id": "a676c44b-6ac8-4628-9db0-33abe3124961",
   "metadata": {},
   "outputs": [
    {
     "ename": "SyntaxError",
     "evalue": "invalid syntax (2977576885.py, line 1)",
     "output_type": "error",
     "traceback": [
      "\u001b[1;36m  Cell \u001b[1;32mIn[23], line 1\u001b[1;36m\u001b[0m\n\u001b[1;33m    Match Case\u001b[0m\n\u001b[1;37m          ^\u001b[0m\n\u001b[1;31mSyntaxError\u001b[0m\u001b[1;31m:\u001b[0m invalid syntax\n"
     ]
    }
   ],
   "source": [
    "Match Case"
   ]
  },
  {
   "cell_type": "code",
   "execution_count": 25,
   "id": "de5096ce-d633-458f-8b5c-a8c5aa03dbc5",
   "metadata": {},
   "outputs": [
    {
     "name": "stdin",
     "output_type": "stream",
     "text": [
      " 12\n"
     ]
    },
    {
     "name": "stdout",
     "output_type": "stream",
     "text": [
      "wrong input\n"
     ]
    }
   ],
   "source": [
    "age=int(input())\n",
    "\n",
    "match age:\n",
    "    case 15:\n",
    "        print(\"Teenager\")\n",
    "    case 23:\n",
    "        print(\"Adult\")\n",
    "    case 61:\n",
    "        print(\"Sr. Citizen\")\n",
    "    case 80:\n",
    "        print(\"Old\")\n",
    "    case _:\n",
    "        print(\"wrong input\")\n",
    "        "
   ]
  },
  {
   "cell_type": "code",
   "execution_count": 29,
   "id": "32496634-81cd-4657-8393-0b9ab3682df5",
   "metadata": {},
   "outputs": [
    {
     "name": "stdin",
     "output_type": "stream",
     "text": [
      " 3\n"
     ]
    },
    {
     "name": "stdout",
     "output_type": "stream",
     "text": [
      "Not Adult\n"
     ]
    }
   ],
   "source": [
    "age=int(input())\n",
    "\n",
    "match age:\n",
    "    case 18:\n",
    "        print(\"Perfect Age\")\n",
    "    case _ if age < 18:\n",
    "        print(\"Not Adult\")\n",
    "    case _ if age > 18:\n",
    "        print(\"Adult\")\n",
    "        "
   ]
  },
  {
   "cell_type": "code",
   "execution_count": 39,
   "id": "ebe5d42e-948b-465b-82eb-9f26cde4ff1e",
   "metadata": {},
   "outputs": [
    {
     "name": "stdout",
     "output_type": "stream",
     "text": [
      "['Raj', 'Vardhan']\n"
     ]
    }
   ],
   "source": [
    "#String Slicing\n",
    "\n",
    "name = \"Raj Vardhan\"\n",
    "print(name.split(\" \"))\n"
   ]
  },
  {
   "cell_type": "code",
   "execution_count": null,
   "id": "5082edd0-cf8f-4840-8094-18247a2528fe",
   "metadata": {},
   "outputs": [],
   "source": [
    "Swapcase\n",
    "upper\n",
    "lower\n",
    "replace(\"Old\",\"New\")\n",
    "split()\n",
    "capitalize()\n",
    "title()\n",
    "\n",
    "startswith\n",
    "endswith\n",
    "isupper\n",
    "islower\n",
    "isalpha\n",
    "isnumber"
   ]
  },
  {
   "cell_type": "code",
   "execution_count": 40,
   "id": "78ede1a2-a9d5-4321-9929-79a74c8de6c0",
   "metadata": {},
   "outputs": [
    {
     "ename": "SyntaxError",
     "evalue": "invalid syntax (2566279280.py, line 3)",
     "output_type": "error",
     "traceback": [
      "\u001b[1;36m  Cell \u001b[1;32mIn[40], line 3\u001b[1;36m\u001b[0m\n\u001b[1;33m    For Variable in range(Start,end) upper limit not included\u001b[0m\n\u001b[1;37m        ^\u001b[0m\n\u001b[1;31mSyntaxError\u001b[0m\u001b[1;31m:\u001b[0m invalid syntax\n"
     ]
    }
   ],
   "source": [
    "Loops\n",
    "\n",
    "For Variable in range(Start,end) upper limit not included\n",
    "\n",
    "for each \n",
    "\n",
    "For variable in list,tuple, dic,string"
   ]
  },
  {
   "cell_type": "code",
   "execution_count": 41,
   "id": "754362b5-1401-4649-a3b6-bce4b7897188",
   "metadata": {},
   "outputs": [
    {
     "name": "stdout",
     "output_type": "stream",
     "text": [
      "R\n",
      "a\n",
      "j\n",
      " \n",
      "v\n",
      "a\n",
      "r\n",
      "d\n",
      "h\n",
      "a\n",
      "n\n"
     ]
    }
   ],
   "source": [
    "name = \"Raj vardhan\"\n",
    "\n",
    "for x in name:\n",
    "    print(x)"
   ]
  },
  {
   "cell_type": "code",
   "execution_count": 42,
   "id": "cf10bf04-01c0-44fc-b204-7d723e985be8",
   "metadata": {},
   "outputs": [
    {
     "name": "stdin",
     "output_type": "stream",
     "text": [
      " 10\n"
     ]
    },
    {
     "name": "stdout",
     "output_type": "stream",
     "text": [
      "10\n",
      "11\n",
      "12\n",
      "13\n",
      "14\n",
      "15\n",
      "16\n",
      "17\n",
      "18\n",
      "19\n"
     ]
    }
   ],
   "source": [
    "a= int(input())\n",
    "\n",
    "for x in range(0,a):\n",
    "    print(a+x)\n",
    "    "
   ]
  },
  {
   "cell_type": "code",
   "execution_count": null,
   "id": "459577aa-7822-4c9c-b5bc-556998be5ed3",
   "metadata": {},
   "outputs": [],
   "source": [
    "\n",
    "Data types\n",
    "\n",
    "input\n",
    "\n",
    "ifelse\n",
    "\n",
    "for loop\n"
   ]
  }
 ],
 "metadata": {
  "kernelspec": {
   "display_name": "Python 3 (ipykernel)",
   "language": "python",
   "name": "python3"
  },
  "language_info": {
   "codemirror_mode": {
    "name": "ipython",
    "version": 3
   },
   "file_extension": ".py",
   "mimetype": "text/x-python",
   "name": "python",
   "nbconvert_exporter": "python",
   "pygments_lexer": "ipython3",
   "version": "3.12.1"
  }
 },
 "nbformat": 4,
 "nbformat_minor": 5
}
