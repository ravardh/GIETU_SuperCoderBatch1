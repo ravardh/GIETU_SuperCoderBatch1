{
 "cells": [
  {
   "cell_type": "markdown",
   "metadata": {},
   "source": [
    "<img src=\"./Tree.jpg\">"
   ]
  },
  {
   "cell_type": "code",
   "execution_count": 14,
   "metadata": {},
   "outputs": [
    {
     "name": "stdout",
     "output_type": "stream",
     "text": [
      "PreOrder :\n",
      "20 32 15 4 12 50 40 35 6 10 8 24 16 2 \n",
      "PostOrder :\n",
      "4 15 40 35 50 6 12 32 8 16 2 24 10 20 \n",
      "InOrder : \n",
      "4 15 32 40 50 35 12 6 20 8 10 16 24 2 \n",
      "Level Traversal : \n",
      "20 \n",
      "\n",
      "32 10 \n",
      "\n",
      "15 12 8 24 \n",
      "\n",
      "4 50 6 16 2 \n",
      "\n",
      "40 35 \n"
     ]
    }
   ],
   "source": [
    "class Node:\n",
    "    def __init__(self,info=None):\n",
    "        self.data = info\n",
    "        self.left = None\n",
    "        self.right = None\n",
    "\n",
    "def print_InOrder(root):\n",
    " \n",
    "    if root==None:\n",
    "        return \n",
    " \n",
    "    print_InOrder(root.left)\n",
    "    print(root.data, end=\" \")\n",
    "    print_InOrder(root.right)\n",
    "\n",
    "def print_preOrder(root):\n",
    "    if root == None:\n",
    "        return\n",
    "    print(root.data, end=' ')\n",
    "    print_preOrder(root.left)\n",
    "    print_preOrder(root.right)\n",
    "\n",
    "def print_postOrder(root):\n",
    "    if root == None:\n",
    "        return\n",
    "    print_postOrder(root.left)\n",
    "    print_postOrder(root.right)\n",
    "    print(root.data, end=' ')\n",
    "\n",
    "def print_levelOrder(root):\n",
    "    Q=[root]\n",
    "    Q.append(None)\n",
    "\n",
    "    while len(Q)>0:\n",
    "        curr = Q.pop(0)\n",
    "        if curr is not None:\n",
    "            print(curr.data,end=\" \")\n",
    "            if curr.left is not None:\n",
    "                Q.append(curr.left)\n",
    "            \n",
    "            if curr.right is not None:\n",
    "                Q.append(curr.right)\n",
    "        else:\n",
    "            print()\n",
    "            if  len(Q) > 0:\n",
    "                print()\n",
    "                if len(Q)>0:\n",
    "                    Q.append(None)\n",
    "    \n",
    "\n",
    "\n",
    "root = Node(20)\n",
    "\n",
    "#1\n",
    "root.left = Node(32)\n",
    "root.right = Node(10)\n",
    "\n",
    "#2\n",
    "root.left.left = Node(15)\n",
    "root.left.right = Node(12)\n",
    "root.right.left = Node(8)\n",
    "root.right.right = Node(24)\n",
    "\n",
    "#3\n",
    "root.left.left.left = Node(4)\n",
    "\n",
    "root.left.right.left = Node(50)\n",
    "root.left.right.right = Node(6)\n",
    "\n",
    "root.right.right.left = Node(16)\n",
    "root.right.right.right = Node(2)\n",
    "\n",
    "#4\n",
    "root.left.right.left.left = Node(40)\n",
    "root.left.right.left.right = Node(35)\n",
    "\n",
    "print(\"PreOrder :\")\n",
    "print_preOrder(root)\n",
    "print(\"\\nPostOrder :\")\n",
    "print_postOrder(root)\n",
    "print( \"\\nInOrder : \")\n",
    "print_InOrder(root)\n",
    "print(\"\\nLevel Traversal : \")\n",
    "print_levelOrder(root)"
   ]
  },
  {
   "cell_type": "markdown",
   "metadata": {},
   "source": []
  },
  {
   "cell_type": "markdown",
   "metadata": {},
   "source": []
  },
  {
   "cell_type": "code",
   "execution_count": 28,
   "metadata": {},
   "outputs": [
    {
     "name": "stdout",
     "output_type": "stream",
     "text": [
      "<__main__.Node object at 0x000001D6A267AEF0>\n",
      "<__main__.Node object at 0x000001D6A267B130>\n",
      "<__main__.Node object at 0x000001D6A3A43FD0>\n",
      "<__main__.Node object at 0x000001D6A381E380>\n",
      "None\n",
      "None\n",
      "None\n",
      "<__main__.Node object at 0x000001D6A381E230>\n",
      "<__main__.Node object at 0x000001D6A381E3E0>\n",
      "<__main__.Node object at 0x000001D6A381F160>\n",
      "None\n",
      "None\n",
      "<__main__.Node object at 0x000001D6A381F1C0>\n",
      "None\n",
      "None\n",
      "<__main__.Node object at 0x000001D6A381F040>\n",
      "None\n",
      "None\n",
      "<__main__.Node object at 0x000001D6A3A423B0>\n",
      "<__main__.Node object at 0x000001D6A381E290>\n",
      "None\n",
      "None\n",
      "<__main__.Node object at 0x000001D6A381E320>\n",
      "<__main__.Node object at 0x000001D6A381F0A0>\n",
      "None\n",
      "None\n",
      "<__main__.Node object at 0x000001D6A381F100>\n",
      "None\n",
      "None\n"
     ]
    },
    {
     "data": {
      "text/plain": [
       "5"
      ]
     },
     "execution_count": 28,
     "metadata": {},
     "output_type": "execute_result"
    }
   ],
   "source": [
    "def height(root):\n",
    "    if root == None:\n",
    "        return 0\n",
    "    \n",
    "    left_height = height(root.left)\n",
    "    right_height = height(root.right) \n",
    "\n",
    "    maxxxx = max(left_height, right_height) + 1\n",
    "\n",
    "    return maxxxx\n",
    "\n",
    "height(root)"
   ]
  },
  {
   "cell_type": "code",
   "execution_count": 29,
   "metadata": {},
   "outputs": [],
   "source": [
    "def topView(root):\n",
    "\n",
    "    # Create a dictionary to store the nodes at each horizontal level\n",
    "    level_order_dict = {}\n",
    "    \n",
    "    # Perform level order traversal using a queue\n",
    "    queue = [(root, 0)]\n",
    "    while queue:\n",
    "        node, level = queue.pop(0)\n",
    "        \n",
    "        # If the node is not present in the dictionary, add it\n",
    "        if level not in level_order_dict:\n",
    "            level_order_dict[level] = node.data\n",
    "        \n",
    "        # Add the left and right children to the queue\n",
    "        if node.left:\n",
    "            queue.append((node.left, level - 1))\n",
    "        if node.right:\n",
    "            queue.append((node.right, level + 1))\n",
    "    \n",
    "    # Extract the nodes from the dictionary and store them in a list\n",
    "    result = []\n",
    "    for level in sorted(level_order_dict):\n",
    "        result.append(level_order_dict[level])\n",
    "    \n",
    "    # Return the list of nodes in top view\n",
    "    return result\n",
    "topView(root)"
   ]
  }
 ],
 "metadata": {
  "kernelspec": {
   "display_name": "Python 3",
   "language": "python",
   "name": "python3"
  },
  "language_info": {
   "codemirror_mode": {
    "name": "ipython",
    "version": 3
   },
   "file_extension": ".py",
   "mimetype": "text/x-python",
   "name": "python",
   "nbconvert_exporter": "python",
   "pygments_lexer": "ipython3",
   "version": "3.10.4"
  }
 },
 "nbformat": 4,
 "nbformat_minor": 2
}
