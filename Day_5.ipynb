{
 "cells": [
  {
   "cell_type": "code",
   "execution_count": 1,
   "id": "74388699-de93-4eaa-bff6-5b1ec296d96a",
   "metadata": {},
   "outputs": [
    {
     "name": "stdout",
     "output_type": "stream",
     "text": [
      "[1, 2, 3, 4, 5, 6, 7, 8, 9]\n"
     ]
    }
   ],
   "source": [
    "# Quick sort in pyhton\n",
    "def find(arr, S, E):\n",
    "    p = arr[E]\n",
    "    i = S\n",
    "    j = S - 1\n",
    "    for i in range(S, E):\n",
    "        if arr[i] < p:\n",
    "            j = j + 1\n",
    "            arr[i], arr[j] = arr[j], arr[i]\n",
    "    j = j + 1\n",
    "    arr[j], arr[E] = arr[E], arr[j]\n",
    "    return j\n",
    "\n",
    "def quicksort(arr, S, E):\n",
    "    if S < E:\n",
    "        pi = find(arr, S, E)\n",
    "        quicksort(arr, S, pi - 1)\n",
    "        quicksort(arr, pi + 1, E)\n",
    "\n",
    "if __name__ == '__main__':\n",
    "    arr = [4, 8, 2, 3, 7, 5, 1, 9, 6]\n",
    "    quicksort(arr, 0, len(arr) - 1)\n",
    "    print(arr)"
   ]
  },
  {
   "cell_type": "code",
   "execution_count": 2,
   "id": "9e41f598-363d-470a-8899-c73ee9e711a1",
   "metadata": {},
   "outputs": [
    {
     "name": "stdout",
     "output_type": "stream",
     "text": [
      "[1, 2, 3, 4, 5, 6, 7, 8, 9]\n"
     ]
    }
   ],
   "source": [
    "# Merge sort in pyhton\n",
    "def mergeSort(arr):\n",
    "    if len(arr) <= 1:\n",
    "        return arr\n",
    "\n",
    "    m = len(arr) // 2\n",
    "    lh = arr[:m]\n",
    "    rh = arr[m:]\n",
    "\n",
    "    return merge( mergeSort(lh),  mergeSort(rh))\n",
    "\n",
    "def merge(l, r):\n",
    "    med = []\n",
    "    li = 0\n",
    "    ri = 0\n",
    "\n",
    "    while li < len(l) and ri < len(r):\n",
    "        if l[li] <= r[ri]:\n",
    "            med.append(l[li])\n",
    "            li += 1\n",
    "        else:\n",
    "            med.append(r[ri])\n",
    "            ri += 1\n",
    "\n",
    "    med.extend(l[li:])\n",
    "    med.extend(r[ri:])\n",
    "\n",
    "    return med\n",
    "\n",
    "arr = [4, 8, 2, 3, 7, 5, 1, 9, 6]\n",
    "n = mergeSort(arr)\n",
    "\n",
    "print(n)\n"
   ]
  },
  {
   "cell_type": "code",
   "execution_count": 11,
   "id": "5c42fbd0-f8aa-412d-b507-b0f956c2a4f4",
   "metadata": {},
   "outputs": [
    {
     "name": "stdin",
     "output_type": "stream",
     "text": [
      "Enter how many number of sequence you need: 2\n"
     ]
    },
    {
     "name": "stdout",
     "output_type": "stream",
     "text": [
      "Maximum sum: 17\n"
     ]
    }
   ],
   "source": [
    "def maxSum(arr, a):\n",
    "    ms = 0\n",
    "    n = len(arr)\n",
    "    for i in range(n-a+1):\n",
    "        cs = sum(arr[i:i+a])\n",
    "        ms = max(ms, cs)\n",
    "    return ms\n",
    "    \n",
    "arr = [5, 4, 2, 6, 3, 8, 9, 7, 4, 7, 3, 6, 9, 8, 2, 4, 6, 8, 6, 2, 3, 4, 5, 1, 4, 2]\n",
    "a = int(input(\"Enter how many number of sequence you need:\"))\n",
    "result = maxSum(arr, a)\n",
    "print(\"Maximum sum:\", result)\n"
   ]
  },
  {
   "cell_type": "code",
   "execution_count": null,
   "id": "2f43e225-d848-4f06-903a-4a338bcd8c0d",
   "metadata": {},
   "outputs": [],
   "source": []
  }
 ],
 "metadata": {
  "kernelspec": {
   "display_name": "Python 3 (ipykernel)",
   "language": "python",
   "name": "python3"
  },
  "language_info": {
   "codemirror_mode": {
    "name": "ipython",
    "version": 3
   },
   "file_extension": ".py",
   "mimetype": "text/x-python",
   "name": "python",
   "nbconvert_exporter": "python",
   "pygments_lexer": "ipython3",
   "version": "3.11.5"
  }
 },
 "nbformat": 4,
 "nbformat_minor": 5
}
