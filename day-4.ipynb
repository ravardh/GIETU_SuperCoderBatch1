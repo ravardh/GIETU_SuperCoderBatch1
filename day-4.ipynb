{
 "cells": [
  {
   "cell_type": "code",
   "execution_count": 5,
   "id": "d33ecb52",
   "metadata": {},
   "outputs": [
    {
     "name": "stdout",
     "output_type": "stream",
     "text": [
      "<class 'array.array'>\n"
     ]
    }
   ],
   "source": [
    "#array\n",
    "import array as arr\n",
    "a=arr.array('i',[1,3])\n",
    "print(type(a ))"
   ]
  },
  {
   "cell_type": "code",
   "execution_count": 10,
   "id": "51ea9c37",
   "metadata": {},
   "outputs": [
    {
     "name": "stdout",
     "output_type": "stream",
     "text": [
      "{1: 'apple', 2: 'ball', 3: 'cat'}\n"
     ]
    }
   ],
   "source": [
    "#dictionary\n",
    "dict={1:'apple',2:'ball',3:'cat'}\n",
    "print(dict)"
   ]
  },
  {
   "cell_type": "code",
   "execution_count": 14,
   "id": "8e6478d4",
   "metadata": {},
   "outputs": [
    {
     "name": "stdout",
     "output_type": "stream",
     "text": [
      "apple\n",
      "ball\n",
      "cat\n"
     ]
    }
   ],
   "source": [
    "#find_key\n",
    "for key in dict.keys():\n",
    "    print(dict[key])"
   ]
  },
  {
   "cell_type": "code",
   "execution_count": 17,
   "id": "08b6dcfd",
   "metadata": {},
   "outputs": [
    {
     "name": "stdout",
     "output_type": "stream",
     "text": [
      "enter key=5\n",
      "not found\n"
     ]
    }
   ],
   "source": [
    "#key_error\n",
    "key=int(input(\"enter key=\"))\n",
    "if key in dict.keys():\n",
    "    print(key)\n",
    "else:\n",
    "    print('not found')"
   ]
  },
  {
   "cell_type": "code",
   "execution_count": 21,
   "id": "1fb9292a",
   "metadata": {},
   "outputs": [
    {
     "name": "stdout",
     "output_type": "stream",
     "text": [
      "{1: 'apple', 2: 'bat', 3: 'cat'}\n"
     ]
    }
   ],
   "source": [
    "dict.update({2:'bat'})\n",
    "print(dict)"
   ]
  },
  {
   "cell_type": "code",
   "execution_count": 18,
   "id": "988cc02d",
   "metadata": {},
   "outputs": [
    {
     "name": "stdout",
     "output_type": "stream",
     "text": [
      "error ayega re baba\n",
      "code executed without any error\n"
     ]
    }
   ],
   "source": [
    "#try_except_finally\n",
    "try:\n",
    "    r=78//0\n",
    "except:\n",
    "    print(\"error ayega re baba\")\n",
    "finally:\n",
    "    print(\"code executed without any error\")"
   ]
  },
  {
   "cell_type": "code",
   "execution_count": 4,
   "id": "9269e16c",
   "metadata": {},
   "outputs": [
    {
     "name": "stdout",
     "output_type": "stream",
     "text": [
      "[4, 7, 8, 9]\n"
     ]
    }
   ],
   "source": [
    "#bubble_sort->from i to m , compare i,i+1 , lighter to higher elements with swapping\n",
    "arr = [4, 9, 8, 7]\n",
    "\n",
    "for i in range(len(arr) - 1):\n",
    "    for j in range(len(arr) - 1 - i):\n",
    "        if arr[j] > arr[j + 1]:\n",
    "            arr[j], arr[j + 1] = arr[j + 1], arr[j]\n",
    "\n",
    "print(arr)\n",
    "\n",
    "\n"
   ]
  },
  {
   "cell_type": "code",
   "execution_count": 22,
   "id": "13f3f345",
   "metadata": {},
   "outputs": [
    {
     "name": "stdout",
     "output_type": "stream",
     "text": [
      "[4, 7, 8, 9]\n"
     ]
    }
   ],
   "source": [
    "#insertion_sort->swap high element when found\n",
    "arr=[4,9,8,7]\n",
    "for i in range(1,len(arr)):\n",
    "    for j in range(i-1,-1,-1):\n",
    "        if arr[i]<arr[j]:\n",
    "            arr[i],arr[j]=arr[j],arr[i]\n",
    "            i-=1\n",
    "            j-=1\n",
    "print(arr)"
   ]
  },
  {
   "cell_type": "code",
   "execution_count": 5,
   "id": "67730189",
   "metadata": {},
   "outputs": [
    {
     "name": "stdout",
     "output_type": "stream",
     "text": [
      "[4, 7, 8, 9]\n"
     ]
    }
   ],
   "source": [
    "#selection_sort->find small element , ignore the settled element , again small..\n",
    "arr=[4,9,8,7]\n",
    "new_arr=[]\n",
    "for i in range(len(arr)):\n",
    "    mins=min(arr)\n",
    "    arr.remove(mins)\n",
    "    new_arr.append(mins)\n",
    "print(new_arr)"
   ]
  },
  {
   "cell_type": "code",
   "execution_count": null,
   "id": "0cb9df35",
   "metadata": {},
   "outputs": [],
   "source": []
  }
 ],
 "metadata": {
  "kernelspec": {
   "display_name": "Python 3 (ipykernel)",
   "language": "python",
   "name": "python3"
  },
  "language_info": {
   "codemirror_mode": {
    "name": "ipython",
    "version": 3
   },
   "file_extension": ".py",
   "mimetype": "text/x-python",
   "name": "python",
   "nbconvert_exporter": "python",
   "pygments_lexer": "ipython3",
   "version": "3.10.9"
  }
 },
 "nbformat": 4,
 "nbformat_minor": 5
}
