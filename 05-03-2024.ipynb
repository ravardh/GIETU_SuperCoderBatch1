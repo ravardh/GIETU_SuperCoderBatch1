{
 "cells": [
  {
   "cell_type": "code",
   "execution_count": 1,
   "id": "60b25737",
   "metadata": {},
   "outputs": [
    {
     "name": "stdout",
     "output_type": "stream",
     "text": [
      "[[(1, 2, 0), (1, 5, 0), (1, 3, 0)], [(2, 1, 0), (2, 4, 0)], [(3, 1, 0)], [(4, 2, 0)], [(5, 1, 0)]]\n",
      "Vertex 1: [(1, 2, 0), (1, 5, 0), (1, 3, 0)]\n",
      "Vertex 2: [(2, 1, 0), (2, 4, 0)]\n",
      "Vertex 3: [(3, 1, 0)]\n",
      "Vertex 4: [(4, 2, 0)]\n",
      "Vertex 5: [(5, 1, 0)]\n",
      "4 2 5 3 1 "
     ]
    }
   ],
   "source": [
    "class Graph:\n",
    "    def __init__(self, v):\n",
    "        self.v = v\n",
    "        self.adj_list = [[] for _ in range(v)]\n",
    "\n",
    "    def add_edge(self, s, d, w):\n",
    "        self.adj_list[s - 1].append((s, d, w))\n",
    "\n",
    "    def display_graph(self):\n",
    "        print(self.adj_list)\n",
    "        for vertex in range(self.v):\n",
    "            neighbors = self.adj_list[vertex]\n",
    "            print(f\"Vertex {vertex + 1}: {neighbors}\")\n",
    "\n",
    "    def dfs(self, vertex, visited):\n",
    "        visited.add(vertex)\n",
    "        list1 = [edge[1] for edge in self.adj_list[vertex - 1] if edge[1] not in visited]\n",
    "        for i in list1:\n",
    "            self.dfs(i, visited)\n",
    "        print(vertex, end=\" \")\n",
    "\n",
    "graph = Graph(5)\n",
    "graph.add_edge(1, 2, 0)\n",
    "graph.add_edge(1, 5, 0)\n",
    "graph.add_edge(1, 3, 0)\n",
    "graph.add_edge(2, 1, 0)\n",
    "graph.add_edge(2, 4, 0)\n",
    "graph.add_edge(3, 1, 0)\n",
    "graph.add_edge(4, 2, 0)\n",
    "graph.add_edge(5, 1, 0)\n",
    "\n",
    "graph.display_graph()\n",
    "\n",
    "visited = set()\n",
    "graph.dfs(1, visited)\n"
   ]
  },
  {
   "cell_type": "code",
   "execution_count": null,
   "id": "75497081",
   "metadata": {},
   "outputs": [],
   "source": []
  }
 ],
 "metadata": {
  "kernelspec": {
   "display_name": "Python 3 (ipykernel)",
   "language": "python",
   "name": "python3"
  },
  "language_info": {
   "codemirror_mode": {
    "name": "ipython",
    "version": 3
   },
   "file_extension": ".py",
   "mimetype": "text/x-python",
   "name": "python",
   "nbconvert_exporter": "python",
   "pygments_lexer": "ipython3",
   "version": "3.9.12"
  }
 },
 "nbformat": 4,
 "nbformat_minor": 5
}
