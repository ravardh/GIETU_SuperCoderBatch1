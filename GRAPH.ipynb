{
 "cells": [
  {
   "cell_type": "code",
   "execution_count": 28,
   "id": "74c5ef66",
   "metadata": {
    "scrolled": true
   },
   "outputs": [
    {
     "name": "stdout",
     "output_type": "stream",
     "text": [
      "[[(1, 2, 1), (1, 3, 1), (1, 9, 1)], [(2, 4, 1)], [(3, 5, 1), (3, 7, 1)], [(4, 1, 1), (4, 2, 1)], [(5, 3, 1)]]\n"
     ]
    }
   ],
   "source": [
    "def create_graph(graph,src,dst,wt=1):\n",
    "    graph[src-1].append((src,dst,wt))\n",
    "v=5\n",
    "graph=[[] for _ in range (v)]\n",
    "for i in range (v):\n",
    "    graph[i]=[]\n",
    "\n",
    "create_graph(graph,1,2)\n",
    "create_graph(graph,1,3)\n",
    "create_graph(graph,1,9)\n",
    "create_graph(graph,2,4)\n",
    "create_graph(graph,3,5)\n",
    "create_graph(graph,3,7)\n",
    "create_graph(graph,4,1)\n",
    "create_graph(graph,4,2)\n",
    "create_graph(graph,5,3)\n",
    "\n",
    "print(graph)\n"
   ]
  },
  {
   "cell_type": "code",
   "execution_count": 19,
   "id": "6c5c0ca5",
   "metadata": {},
   "outputs": [
    {
     "name": "stdout",
     "output_type": "stream",
     "text": [
      "[(1, 2, 1), (1, 3, 1), (1, 4, 1)]\n",
      "[(2, 4, 1)]\n",
      "[(3, 5, 1), (3, 2, 1)]\n",
      "[(4, 1, 1), (4, 2, 1)]\n",
      "[(5, 3, 1)]\n"
     ]
    }
   ],
   "source": [
    "def create_graph(graph, src, dst, wt=1):\n",
    "    graph[src - 1].append((src, dst, wt))\n",
    "\n",
    "v = 5\n",
    "graph = [[] for _ in range(v)]\n",
    "\n",
    "create_graph(graph, 1, 2)\n",
    "create_graph(graph, 1, 3)\n",
    "create_graph(graph, 1, 4)\n",
    "create_graph(graph, 2, 4)\n",
    "create_graph(graph, 3, 5)\n",
    "create_graph(graph, 3, 2)\n",
    "create_graph(graph, 4, 1)\n",
    "create_graph(graph, 4, 2)\n",
    "create_graph(graph, 5, 3)\n",
    "\n",
    "for i in range(v):\n",
    "    print(graph[i])"
   ]
  },
  {
   "cell_type": "code",
   "execution_count": null,
   "id": "020bfbed",
   "metadata": {},
   "outputs": [],
   "source": []
  }
 ],
 "metadata": {
  "kernelspec": {
   "display_name": "Python 3 (ipykernel)",
   "language": "python",
   "name": "python3"
  },
  "language_info": {
   "codemirror_mode": {
    "name": "ipython",
    "version": 3
   },
   "file_extension": ".py",
   "mimetype": "text/x-python",
   "name": "python",
   "nbconvert_exporter": "python",
   "pygments_lexer": "ipython3",
   "version": "3.11.3"
  }
 },
 "nbformat": 4,
 "nbformat_minor": 5
}
