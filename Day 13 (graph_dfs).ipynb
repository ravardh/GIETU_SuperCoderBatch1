{
 "cells": [
  {
   "cell_type": "code",
   "execution_count": 1,
   "id": "80fba075",
   "metadata": {},
   "outputs": [
    {
     "name": "stdout",
     "output_type": "stream",
     "text": [
      "1: [2, 3, 10]\n",
      "2: [1, 4]\n",
      "3: [1, 7]\n",
      "4: [2, 5, 7, 8]\n",
      "5: [4, 6]\n",
      "6: [5, 9, 10]\n",
      "7: [3, 4, 11]\n",
      "8: [4, 9]\n",
      "9: [6, 8]\n",
      "10: [1, 6]\n",
      "11: [7]\n",
      "1 2 4 5 6 9 8 10 7 3 11 "
     ]
    }
   ],
   "source": [
    "class Graph:\n",
    "    def __init__(self):\n",
    "        self.graph = {}\n",
    "\n",
    "    def add_edge(self, u, v):\n",
    "        self.graph.setdefault(u, []).append(v)\n",
    "\n",
    "    def print_adjacency_list(self):\n",
    "        for i in self.graph:\n",
    "            print(f\"{i}: {self.graph[i]}\")\n",
    "\n",
    "    def dfs(self, start_vertex, visited=None):\n",
    "        if visited is None:\n",
    "            visited = set()\n",
    "\n",
    "        if start_vertex not in visited:\n",
    "            visited.add(start_vertex)\n",
    "            print(start_vertex, end=\" \")\n",
    "            for neighbour in self.graph[start_vertex]:\n",
    "                self.dfs(neighbour, visited)\n",
    "\n",
    "g = Graph()\n",
    "edges = [(1, 2), (1, 3), (1, 10), (2, 1), (2, 4), (3, 1), (3, 7), (4, 2), (4, 5),\n",
    "         (4, 7), (4, 8), (5, 4), (5, 6), (6, 5), (6, 9), (6, 10), (7, 3), (7, 4),\n",
    "         (7, 11), (8, 4), (8, 9), (9, 6), (9, 8), (10, 1), (10, 6), (11, 7)]\n",
    "for u, v in edges:\n",
    "    g.add_edge(u, v)\n",
    "\n",
    "g.print_adjacency_list()\n",
    "g.dfs(next(iter(g.graph.keys())))\n"
   ]
  },
  {
   "cell_type": "code",
   "execution_count": null,
   "id": "324af4b9",
   "metadata": {},
   "outputs": [],
   "source": []
  }
 ],
 "metadata": {
  "kernelspec": {
   "display_name": "Python 3 (ipykernel)",
   "language": "python",
   "name": "python3"
  },
  "language_info": {
   "codemirror_mode": {
    "name": "ipython",
    "version": 3
   },
   "file_extension": ".py",
   "mimetype": "text/x-python",
   "name": "python",
   "nbconvert_exporter": "python",
   "pygments_lexer": "ipython3",
   "version": "3.10.9"
  }
 },
 "nbformat": 4,
 "nbformat_minor": 5
}
