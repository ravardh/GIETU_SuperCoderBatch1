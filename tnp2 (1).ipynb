{
 "cells": [
  {
   "cell_type": "code",
   "execution_count": 1,
   "id": "d452b02d-0e31-4f42-a48d-58417c1afa8f",
   "metadata": {},
   "outputs": [
    {
     "name": "stdout",
     "output_type": "stream",
     "text": [
      "[1, 2, 344, 'aeish', 23.4]\n",
      "<class 'list'>\n",
      "[1, 2, 344, 'aeish', 23.4, 'panigrahi']\n"
     ]
    }
   ],
   "source": [
    "#LIST\n",
    "a=[1,2,344,\"aeish\",23.4]\n",
    "print(a)\n",
    "print(type(a))\n",
    "a.append(\"panigrahi\")\n",
    "print(a)"
   ]
  },
  {
   "cell_type": "code",
   "execution_count": 2,
   "id": "24e94e47-e6d6-46e3-bf82-3fc7d0aed0d0",
   "metadata": {},
   "outputs": [
    {
     "name": "stdout",
     "output_type": "stream",
     "text": [
      "{1: 'aeish', 2: 'dipti'}\n",
      "{1: 'aeish', 2: 'dipti', 3: 'tripti'}\n",
      "{1: 'aeiswariya', 2: 'dipti', 3: 'tripti'}\n"
     ]
    }
   ],
   "source": [
    "#dict\n",
    "d={1:\"aeish\",2:\"dipti\"}\n",
    "print(d)\n",
    "d.update({3:\"tripti\"})\n",
    "print(d)\n",
    "d.update({1:\"aeiswariya\"})\n",
    "print(d)"
   ]
  },
  {
   "cell_type": "code",
   "execution_count": 3,
   "id": "bac68fb6-582a-4002-8a0d-db7540baa7ff",
   "metadata": {},
   "outputs": [
    {
     "name": "stdout",
     "output_type": "stream",
     "text": [
      "1\n",
      "2\n",
      "3\n",
      "aeiswariya\n",
      "dipti\n",
      "tripti\n"
     ]
    },
    {
     "name": "stdin",
     "output_type": "stream",
     "text": [
      " 1\n"
     ]
    },
    {
     "name": "stdout",
     "output_type": "stream",
     "text": [
      "aeiswariya\n"
     ]
    }
   ],
   "source": [
    "d={1: 'aeiswariya', 2: 'dipti', 3: 'tripti'}\n",
    "for x in d.keys():\n",
    "    print(x)\n",
    "for x in d.values():\n",
    "    print(x)\n",
    "s=int(input())\n",
    "print(d[s])"
   ]
  },
  {
   "cell_type": "code",
   "execution_count": 4,
   "id": "cffb9e4f-9daa-4023-ac6d-91944de53efb",
   "metadata": {},
   "outputs": [
    {
     "name": "stdin",
     "output_type": "stream",
     "text": [
      " 4\n"
     ]
    },
    {
     "name": "stdout",
     "output_type": "stream",
     "text": [
      "key not found\n"
     ]
    }
   ],
   "source": [
    "d={1: 'aeiswariya', 2: 'dipti', 3: 'tripti'}\n",
    "s=int(input())\n",
    "if s in d:\n",
    "    print({d[s]})\n",
    "else:\n",
    "    print(\"key not found\")"
   ]
  },
  {
   "cell_type": "code",
   "execution_count": 5,
   "id": "a13ce35f-5117-4584-a119-4fbdf9200c19",
   "metadata": {},
   "outputs": [
    {
     "name": "stdin",
     "output_type": "stream",
     "text": [
      " 2\n"
     ]
    },
    {
     "name": "stdout",
     "output_type": "stream",
     "text": [
      "dipti\n",
      "executed\n"
     ]
    }
   ],
   "source": [
    "d={1: 'aeiswariya', 2: 'dipti', 3: 'tripti'}\n",
    "s=int(input())\n",
    "try:\n",
    "    print(d[s])\n",
    "except:\n",
    "    print(\"key not available\")\n",
    "finally:\n",
    "    print(\"executed\")"
   ]
  },
  {
   "cell_type": "code",
   "execution_count": null,
   "id": "c5d4a8cf-613d-482e-bcdf-ca06294713cb",
   "metadata": {},
   "outputs": [],
   "source": [
    "#insertion sort\n",
    "arr = [5, 2, 4, 6, 1, 3]\n",
    "for i in range(1, len(arr)):\n",
    "    key = arr[i]\n",
    "    j = i - 1    \n",
    "    while j >= 0 and arr[j] > key:\n",
    "        arr[j + 1] = arr[j]\n",
    "        j -= 1               \n",
    "    arr[j + 1] = key        \n",
    "print(arr)"
   ]
  },
  {
   "cell_type": "code",
   "execution_count": 2,
   "id": "84c13ad0-8b72-41a6-bb75-313839d646f4",
   "metadata": {},
   "outputs": [
    {
     "name": "stdout",
     "output_type": "stream",
     "text": [
      "Sorted array:\n",
      "11\n",
      "12\n",
      "22\n",
      "25\n",
      "64\n"
     ]
    }
   ],
   "source": [
    "#selection sort\n",
    "arr = [64, 25, 12, 22, 11]\n",
    "for i in range(len(arr)):\n",
    "    min_index = i\n",
    "    for j in range(i+1, len(arr)):\n",
    "        if arr[min_index] > arr[j]:\n",
    "            min_index = j\n",
    "    arr[i], arr[min_index] = arr[min_index], arr[i]\n",
    "print(\"Sorted array:\")\n",
    "for i in range(len(arr)):\n",
    "    print(\"%d\" %arr[i])"
   ]
  },
  {
   "cell_type": "code",
   "execution_count": 3,
   "id": "3eec7cd8-f511-4e5d-bad2-8dd9008ecbc5",
   "metadata": {},
   "outputs": [
    {
     "name": "stdout",
     "output_type": "stream",
     "text": [
      "Sorted array:\n",
      "11\n",
      "12\n",
      "22\n",
      "25\n",
      "64\n"
     ]
    }
   ],
   "source": [
    "#bubble sort\n",
    "arr = [64, 25, 12, 22, 11]\n",
    "n = len(arr)\n",
    "for i in range(n):\n",
    "    for j in range(0, n-i-1):\n",
    "        if arr[j] > arr[j+1]:\n",
    "            arr[j], arr[j+1] = arr[j+1], arr[j]\n",
    "print(\"Sorted array:\")\n",
    "for i in range(len(arr)):\n",
    "    print(\"%d\" % arr[i]),"
   ]
  },
  {
   "cell_type": "code",
   "execution_count": null,
   "id": "20a8d300-e806-4194-b5e2-7eac699a894f",
   "metadata": {},
   "outputs": [],
   "source": []
  }
 ],
 "metadata": {
  "kernelspec": {
   "display_name": "Python 3 (ipykernel)",
   "language": "python",
   "name": "python3"
  },
  "language_info": {
   "codemirror_mode": {
    "name": "ipython",
    "version": 3
   },
   "file_extension": ".py",
   "mimetype": "text/x-python",
   "name": "python",
   "nbconvert_exporter": "python",
   "pygments_lexer": "ipython3",
   "version": "3.11.4"
  }
 },
 "nbformat": 4,
 "nbformat_minor": 5
}
