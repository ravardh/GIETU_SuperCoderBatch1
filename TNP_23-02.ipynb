{
 "cells": [
  {
   "cell_type": "code",
   "execution_count": 20,
   "id": "dfd2aac9-966f-48b3-8758-347d5abaa5c6",
   "metadata": {},
   "outputs": [
    {
     "name": "stdout",
     "output_type": "stream",
     "text": [
      "[1, 2, 3, 4, 5, 6, 7, 8, 9]\n"
     ]
    }
   ],
   "source": [
    "#QUICK_SORT algorithm\n",
    "def find(arr, S, E):\n",
    "    p = arr[E]\n",
    "    i = S\n",
    "    j = S - 1\n",
    "    for i in range(S, E):\n",
    "        if arr[i] < p:\n",
    "            j = j + 1\n",
    "            arr[i], arr[j] = arr[j], arr[i]\n",
    "    j = j + 1\n",
    "    arr[j], arr[E] = arr[E], arr[j]\n",
    "    return j\n",
    "\n",
    "def quicksort(arr, S, E):\n",
    "    if S < E:\n",
    "        pi = find(arr, S, E)\n",
    "        quicksort(arr, S, pi - 1)\n",
    "        quicksort(arr, pi + 1, E)\n",
    "\n",
    "if __name__ == '__main__':\n",
    "    arr = [4, 8, 2, 3, 7, 5, 1, 9, 6]\n",
    "    quicksort(arr, 0, len(arr) - 1)\n",
    "    print(arr)\n"
   ]
  },
  {
   "cell_type": "code",
   "execution_count": 25,
   "id": "6c0a78c4-2cd9-4390-8fc4-8adf6692c05e",
   "metadata": {},
   "outputs": [
    {
     "name": "stdout",
     "output_type": "stream",
     "text": [
      "[-4594, 0, 4, 5, 22, 34, 44, 443, 44874, 4444467]\n"
     ]
    }
   ],
   "source": [
    "a=[34,44,4444467,-4594,0,5,443,22,4,44874]\n",
    "a.sort()\n",
    "print(a)"
   ]
  },
  {
   "cell_type": "code",
   "execution_count": 26,
   "id": "b03d3c27-cdb1-4abc-9059-caeed5def526",
   "metadata": {},
   "outputs": [
    {
     "name": "stdout",
     "output_type": "stream",
     "text": [
      "[1, 2, 3, 4, 5, 6, 7, 8, 9]\n"
     ]
    }
   ],
   "source": [
    "# Merge sort in pyhton\n",
    "def mergeSort(arr):\n",
    "    if len(arr) <= 1:\n",
    "        return arr\n",
    "\n",
    "    mid = len(arr) // 2\n",
    "    left_half = arr[:mid]\n",
    "    right_half = arr[mid:]\n",
    "\n",
    "    return merge( mergeSort(left_half),  mergeSort(right_half))\n",
    "\n",
    "def merge(left, right):\n",
    "    merged = []\n",
    "    left_index = 0\n",
    "    right_index = 0\n",
    "\n",
    "    while left_index < len(left) and right_index < len(right):\n",
    "        if left[left_index] <= right[right_index]:\n",
    "            merged.append(left[left_index])\n",
    "            left_index += 1\n",
    "        else:\n",
    "            merged.append(right[right_index])\n",
    "            right_index += 1\n",
    "\n",
    "    merged.extend(left[left_index:])\n",
    "    merged.extend(right[right_index:])\n",
    "\n",
    "    return merged\n",
    "\n",
    "arr = [4, 8, 2, 3, 7, 5, 1, 9, 6]\n",
    "sorted_numbers = mergeSort(arr)\n",
    "\n",
    "print(sorted_numbers)"
   ]
  },
  {
   "cell_type": "code",
   "execution_count": 27,
   "id": "4654e54e-04dd-42ec-8ca5-8616572ec7bf",
   "metadata": {},
   "outputs": [
    {
     "name": "stdout",
     "output_type": "stream",
     "text": [
      "Maximum sum of triplets: 24\n",
      "Triplet with maximum sum: (8, 9, 7)\n"
     ]
    }
   ],
   "source": [
    "#arr=[5,4,2,6,3,8,9,7,4,7,3,6,9,8,2,4,6,8,6,2,3,4,5,1,4,2]\n",
    "def max_sum_of_triplets(arr):\n",
    "    max_sum = float('-inf') \n",
    "    max_triplet = None \n",
    "    \n",
    "    for i in range(len(arr) - 2):\n",
    "        # Calculate the sum of the current triplet\n",
    "        triplet_sum = arr[i] + arr[i + 1] + arr[i + 2]\n",
    "        \n",
    "        if triplet_sum > max_sum:\n",
    "            max_sum = triplet_sum\n",
    "            max_triplet = (arr[i], arr[i + 1], arr[i + 2])  # Update the max triplet\n",
    "    \n",
    "    return max_sum, max_triplet\n",
    "\n",
    "# Example usage:\n",
    "array=[5,4,2,6,3,8,9,7,4,7,3,6,9,8,2,4,6,8,6,2,3,4,5,1,4,2]\n",
    "max_sum, max_triplet = max_sum_of_triplets(array)\n",
    "print(\"Maximum sum of triplets:\", max_sum)\n",
    "print(\"Triplet with maximum sum:\", max_triplet)\n"
   ]
  },
  {
   "cell_type": "code",
   "execution_count": 33,
   "id": "92957c51-87d0-488b-acb1-0829baf6d7c6",
   "metadata": {},
   "outputs": [
    {
     "name": "stdin",
     "output_type": "stream",
     "text": [
      "Enter the total number of terms in the array:  4\n",
      "Enter term 1:  4\n",
      "Enter term 2:  3\n",
      "Enter term 3:  3\n",
      "Enter term 4:  2\n",
      "Enter the number of terms to consider for sum:  4\n"
     ]
    },
    {
     "name": "stdout",
     "output_type": "stream",
     "text": [
      "Maximum sum of terms: 12\n",
      "Terms with maximum sum: (4, 3, 3, 2)\n"
     ]
    }
   ],
   "source": [
    "def max_sum_of_triplets(arr, num_terms_to_sum):\n",
    "    max_sum = float('-inf') \n",
    "    max_triplet = None  \n",
    "\n",
    "    for i in range(len(arr) - num_terms_to_sum + 1):\n",
    "        terms_sum = sum(arr[i:i+num_terms_to_sum])  # Add closing parenthesis here\n",
    "        if terms_sum > max_sum:\n",
    "            max_sum = terms_sum\n",
    "            max_triplet = tuple(arr[i:i+num_terms_to_sum]) \n",
    "    \n",
    "    return max_sum, max_triplet\n",
    "\n",
    "num_terms_total = int(input(\"Enter the total number of terms in the array: \"))\n",
    "array = []\n",
    "\n",
    "\n",
    "for i in range(num_terms_total):\n",
    "    term = int(input(f\"Enter term {i + 1}: \"))\n",
    "    array.append(term)\n",
    "\n",
    "num_terms_to_sum = int(input(\"Enter the number of terms to consider for sum: \"))\n",
    "\n",
    "max_sum, max_terms = max_sum_of_triplets(array, num_terms_to_sum)\n",
    "\n",
    "print(\"Maximum sum of terms:\", max_sum)\n",
    "print(\"Terms with maximum sum:\", max_terms)\n"
   ]
  },
  {
   "cell_type": "code",
   "execution_count": null,
   "id": "1eb7ba6f-48f0-49db-a35e-e6f269f90ea4",
   "metadata": {},
   "outputs": [],
   "source": [
    "\n",
    "\n",
    "\n",
    "\n",
    "\n",
    "\n",
    "\n",
    "\n",
    "\n",
    "\n",
    "\n",
    "\n"
   ]
  }
 ],
 "metadata": {
  "kernelspec": {
   "display_name": "Python 3 (ipykernel)",
   "language": "python",
   "name": "python3"
  },
  "language_info": {
   "codemirror_mode": {
    "name": "ipython",
    "version": 3
   },
   "file_extension": ".py",
   "mimetype": "text/x-python",
   "name": "python",
   "nbconvert_exporter": "python",
   "pygments_lexer": "ipython3",
   "version": "3.10.4"
  }
 },
 "nbformat": 4,
 "nbformat_minor": 5
}
