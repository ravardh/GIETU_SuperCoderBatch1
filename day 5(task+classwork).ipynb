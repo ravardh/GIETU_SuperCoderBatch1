{
 "cells": [
  {
   "cell_type": "markdown",
   "metadata": {},
   "source": [
    "# Quick sort"
   ]
  },
  {
   "cell_type": "code",
   "execution_count": 18,
   "metadata": {},
   "outputs": [
    {
     "name": "stdout",
     "output_type": "stream",
     "text": [
      "the unsorted arr is \n",
      ": [99, 8, 6, 55, 4, 9, 87, 5]\n",
      "the sorted arr is \n",
      ": [4, 5, 6, 8, 9, 55, 87, 99]\n"
     ]
    }
   ],
   "source": [
    "def find(arr,s,e):\n",
    "    pi=arr[e]\n",
    "    j=s-1\n",
    "    for i in range(s,e):\n",
    "        if(arr[i]<pi):\n",
    "            j=j+1\n",
    "            arr[i],arr[j]=arr[j],arr[i]\n",
    "    j=j+1            \n",
    "    arr[j],arr[e]=arr[e],arr[j]\n",
    "    return j\n",
    "\n",
    "\n",
    "def quicksort(arr,s,e):\n",
    "    if(s<e):\n",
    "        pi=find(arr,s,e)\n",
    "        quicksort(arr,s,pi-1)\n",
    "        quicksort(arr,pi+1,e)\n",
    "\n",
    "\n",
    "if __name__=='__main__':\n",
    "    arr=[99,8,6,55,4,9,87,5]\n",
    "    print(\"the unsorted arr is \\n:\",arr)\n",
    "    quicksort(arr,0,len(arr)-1)\n",
    "    print(\"the sorted arr is \\n:\", arr)"
   ]
  },
  {
   "cell_type": "markdown",
   "metadata": {},
   "source": [
    "# Merge Sort"
   ]
  },
  {
   "cell_type": "code",
   "execution_count": null,
   "metadata": {},
   "outputs": [],
   "source": [
    "def mergeSort(array):\n",
    "    if len(array) > 1:\n",
    "        r = len(array)//2\n",
    "        L = array[:r]\n",
    "        M = array[r:]\n",
    "\n",
    "        mergeSort(L)\n",
    "        mergeSort(M)\n",
    "\n",
    "        i = j = k = 0\n",
    "\n",
    "        while i < len(L) and j < len(M):\n",
    "            if L[i] < M[j]:\n",
    "                array[k] = L[i]\n",
    "                i += 1\n",
    "            else:\n",
    "                array[k] = M[j]\n",
    "                j += 1\n",
    "            k += 1\n",
    "\n",
    "        while i < len(L):\n",
    "            array[k] = L[i]\n",
    "            i += 1\n",
    "            k += 1\n",
    "\n",
    "        while j < len(M):\n",
    "            array[k] = M[j]\n",
    "            j += 1\n",
    "            k += 1\n",
    "\n",
    "def printList(array):\n",
    "    for i in range(len(array)):\n",
    "        print(array[i], end=\" \")\n",
    "    print()\n",
    "\n",
    "if __name__ == '__main__':\n",
    "    arr=[99,8,6,55,4,9,87,5]\n",
    "\n",
    "    mergeSort(array)\n",
    "\n",
    "    print(\"Sorted array is: \")\n",
    "    printList(array)"
   ]
  },
  {
   "cell_type": "code",
   "execution_count": null,
   "metadata": {},
   "outputs": [],
   "source": [
    "arr=[5,4,2,6,3,8,9,7,4,7,3,6,9,8,2,4,6,8,6,2,3,4,5,1,4,2]\n",
    "sol=[]\n",
    "for i in range(0,len(arr)-2):\n",
    "    sum1=0\n",
    "    sum1=arr[i]+arr[i+1]+arr[i+2]\n",
    "    sol.append(sum1)\n",
    "print(max(sol))\n"
   ]
  },
  {
   "cell_type": "code",
   "execution_count": 1,
   "metadata": {},
   "outputs": [
    {
     "name": "stdout",
     "output_type": "stream",
     "text": [
      "24\n"
     ]
    }
   ],
   "source": [
    "arr = [5, 4, 2, 6, 3, 8, 9, 7, 4, 7, 3, 6, 9, 8, 2, 4, 6, 8, 6, 2, 3, 4, 5, 1, 4, 2]\n",
    "sol = []\n",
    "\n",
    "for i in range(0, len(arr) - 2):\n",
    "    s = sum(arr[i:i+3]) \n",
    "    sol.append(s)\n",
    "\n",
    "print(max(sol))\n"
   ]
  },
  {
   "cell_type": "code",
   "execution_count": 17,
   "metadata": {},
   "outputs": [
    {
     "ename": "SyntaxError",
     "evalue": "invalid syntax (<ipython-input-17-c923e0bdca35>, line 3)",
     "output_type": "error",
     "traceback": [
      "\u001b[1;36m  File \u001b[1;32m\"<ipython-input-17-c923e0bdca35>\"\u001b[1;36m, line \u001b[1;32m3\u001b[0m\n\u001b[1;33m    s1=0 'finds sum'\u001b[0m\n\u001b[1;37m         ^\u001b[0m\n\u001b[1;31mSyntaxError\u001b[0m\u001b[1;31m:\u001b[0m invalid syntax\n"
     ]
    }
   ],
   "source": [
    "arr = [5, 4, 2, 6, 3, 8, 9, 7, 4, 7, 3, 6, 9, 8, 2, 4, 6, 8, 6, 2, 3, 4, 5, 1, 4, 2]\n",
    "sol = []\n",
    "s1=0 #finds sum\n",
    "k=int(input())\n",
    "for i in range(0,k):\n",
    "    s1=s1+arr[i]\n",
    "window=s1\n",
    "for i in range(0,len(arr)-k):\n",
    "#     window = window-arr[i]+arr[i+k]\n",
    "    if(window>s1):\n",
    "        s1=window\n",
    "    window = window-arr[i]+arr[i+k]\n",
    "print(s1)"
   ]
  },
  {
   "cell_type": "code",
   "execution_count": null,
   "metadata": {},
   "outputs": [],
   "source": []
  },
  {
   "cell_type": "code",
   "execution_count": null,
   "metadata": {},
   "outputs": [],
   "source": []
  }
 ],
 "metadata": {
  "kernelspec": {
   "display_name": "Python 3",
   "language": "python",
   "name": "python3"
  },
  "language_info": {
   "codemirror_mode": {
    "name": "ipython",
    "version": 3
   },
   "file_extension": ".py",
   "mimetype": "text/x-python",
   "name": "python",
   "nbconvert_exporter": "python",
   "pygments_lexer": "ipython3",
   "version": "3.8.5"
  }
 },
 "nbformat": 4,
 "nbformat_minor": 4
}
