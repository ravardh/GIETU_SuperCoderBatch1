{
 "cells": [
  {
   "cell_type": "code",
   "execution_count": 1,
   "id": "d9e2b628",
   "metadata": {},
   "outputs": [
    {
     "name": "stdout",
     "output_type": "stream",
     "text": [
      "Preorder Traversal:\n",
      "20 32 15 4 12 50 40 35 6 10 8 24 16 16 \n",
      "Postorder Traversal:\n",
      "4 15 40 35 50 6 12 32 8 16 16 24 10 20 \n",
      "Levelorder Traversal:\n",
      "20 \n",
      "32 10 \n",
      "15 12 8 24 \n",
      "4 50 6 16 16 \n",
      "40 35 \n"
     ]
    }
   ],
   "source": [
    "class Node:\n",
    "    def __init__(self, Info=None):\n",
    "        self.data = Info\n",
    "        self.left = None\n",
    "        self.right = None\n",
    "\n",
    "def postorder(root):\n",
    "    if root is None:\n",
    "        return\n",
    "    postorder(root.left)\n",
    "    postorder(root.right)\n",
    "    print(root.data, end=' ')\n",
    "\n",
    "def preorder(root):\n",
    "    if root is None:\n",
    "        return\n",
    "    print(root.data, end=' ')\n",
    "    preorder(root.left)\n",
    "    preorder(root.right)\n",
    "\n",
    "def levelorder(root):\n",
    "    q = [root]\n",
    "    q.append(None)\n",
    "    while len(q) > 0:\n",
    "        cur = q.pop(0)\n",
    "        if cur == None:\n",
    "            print()\n",
    "            if len(q) > 0:\n",
    "                q.append(None)\n",
    "        else:\n",
    "            print(cur.data, end=' ')\n",
    "            if cur.left != None:\n",
    "                q.append(cur.left)\n",
    "            if cur.right != None:\n",
    "                q.append(cur.right)\n",
    "\n",
    "root = Node(20)\n",
    "root.left = Node(32)\n",
    "root.right = Node(10) \n",
    "# level2\n",
    "root.left.left = Node(15)\n",
    "root.left.right = Node(12)\n",
    "root.right.left = Node(8)\n",
    "root.right.right = Node(24)\n",
    "# level3\n",
    "root.left.left.left = Node(4)\n",
    "root.left.right.left = Node(50)\n",
    "root.left.right.right = Node(6)\n",
    "root.right.right.left = Node(16)\n",
    "root.right.right.right = Node(16)\n",
    "root.left.right.left.left = Node(40)\n",
    "root.left.right.left.right = Node(35)\n",
    "\n",
    "# Calling the traversal functions\n",
    "print(\"Preorder Traversal:\")\n",
    "preorder(root)\n",
    "print(\"\\nPostorder Traversal:\")\n",
    "postorder(root)\n",
    "print(\"\\nLevelorder Traversal:\")\n",
    "levelorder(root)"
   ]
  },
  {
   "cell_type": "code",
   "execution_count": null,
   "id": "6b0b5b64",
   "metadata": {},
   "outputs": [],
   "source": []
  }
 ],
 "metadata": {
  "kernelspec": {
   "display_name": "Python 3 (ipykernel)",
   "language": "python",
   "name": "python3"
  },
  "language_info": {
   "codemirror_mode": {
    "name": "ipython",
    "version": 3
   },
   "file_extension": ".py",
   "mimetype": "text/x-python",
   "name": "python",
   "nbconvert_exporter": "python",
   "pygments_lexer": "ipython3",
   "version": "3.11.3"
  }
 },
 "nbformat": 4,
 "nbformat_minor": 5
}
