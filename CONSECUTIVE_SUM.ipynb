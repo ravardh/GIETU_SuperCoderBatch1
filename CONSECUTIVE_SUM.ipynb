{
 "cells": [
  {
   "cell_type": "code",
   "execution_count": 4,
   "id": "4b8c4054",
   "metadata": {},
   "outputs": [
    {
     "name": "stdout",
     "output_type": "stream",
     "text": [
      "[11, 12, 11, 17, 20, 24, 20, 18, 14, 16, 18, 23, 19, 14, 12, 18, 20, 16, 11, 9, 12, 10, 10, 7]\n",
      "24\n"
     ]
    }
   ],
   "source": [
    "arr=[5,4,2,6,3,8,9,7,4,7,3,6,9,8,2,4,6,8,6,2,3,4,5,1,4,2]\n",
    "n=len(arr)\n",
    "b=[]\n",
    "sum=0\n",
    "for i in range(n-2):\n",
    "    sum=arr[i]+arr[i+1]+arr[i+2]\n",
    "    b.append(sum)\n",
    "    sum=0\n",
    "print(b)\n",
    "print(max(b))"
   ]
  },
  {
   "cell_type": "code",
   "execution_count": 8,
   "id": "cbf85b6f",
   "metadata": {},
   "outputs": [
    {
     "name": "stdout",
     "output_type": "stream",
     "text": [
      "Enter a list: 5,4,2,6,3,8,9,7,4,7,3,6,9,8,2,4,6,8,6,2,3,4,5,1,4,2\n",
      "Enter the number of consecutive terms: 5\n",
      "[20, 23, 28, 33, 31, 35, 30, 27, 29, 33, 28, 29, 29, 28, 26, 26, 25, 23, 20, 15, 17, 16]\n",
      "35\n"
     ]
    }
   ],
   "source": [
    "arr=eval(input(\"Enter a list: \"))\n",
    "n=len(arr)\n",
    "b=[]\n",
    "c=int(input(\"Enter the number of consecutive terms: \"))\n",
    "for i in range(n-(c-1)):\n",
    "    sum=0\n",
    "    for j in range(i,i+c):\n",
    "        sum=sum+arr[j]\n",
    "    b.append(sum)\n",
    "print(b)\n",
    "print(max(b))"
   ]
  },
  {
   "cell_type": "code",
   "execution_count": null,
   "id": "a8eef217",
   "metadata": {},
   "outputs": [],
   "source": []
  }
 ],
 "metadata": {
  "kernelspec": {
   "display_name": "Python 3 (ipykernel)",
   "language": "python",
   "name": "python3"
  },
  "language_info": {
   "codemirror_mode": {
    "name": "ipython",
    "version": 3
   },
   "file_extension": ".py",
   "mimetype": "text/x-python",
   "name": "python",
   "nbconvert_exporter": "python",
   "pygments_lexer": "ipython3",
   "version": "3.11.3"
  }
 },
 "nbformat": 4,
 "nbformat_minor": 5
}
