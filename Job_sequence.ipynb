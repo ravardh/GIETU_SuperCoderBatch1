{
 "cells": [
  {
   "cell_type": "code",
   "execution_count": 2,
   "id": "9a7ccdd8",
   "metadata": {},
   "outputs": [
    {
     "name": "stdout",
     "output_type": "stream",
     "text": [
      "Scheduled Jobs: {1: 1, 2: 6, 3: 5, 4: 2}\n",
      "Total Profit: 110\n"
     ]
    }
   ],
   "source": [
    "def job_sequence(jobs):\n",
    "    sorted_jobs = sorted(jobs.items(), key=lambda x: x[1][1], reverse=True)\n",
    "    max_deadline = max(jobs.values(), key=lambda x: x[1])[1]\n",
    "    schedule = {i: -1 for i in range(1, max_deadline + 1)}\n",
    "    total_profit = 0\n",
    "    for job_id, (deadline, profit) in sorted_jobs:\n",
    "        while deadline > 0:\n",
    "            if schedule[deadline] == -1:\n",
    "                schedule[deadline] = job_id\n",
    "                total_profit += profit\n",
    "                break\n",
    "            deadline -= 1\n",
    "    scheduled_jobs = {deadline: job_id for deadline, job_id in schedule.items() if job_id != -1}\n",
    "    return scheduled_jobs, total_profit\n",
    "jobs = {\n",
    "    1: (2, 20),\n",
    "    2: (4, 30),\n",
    "    3: (3, 15),\n",
    "    4: (1, 12),\n",
    "    5: (3, 35),\n",
    "    6: (4, 25),\n",
    "    7: (2, 5)\n",
    "}\n",
    "schedule, total_profit = job_sequence(jobs)\n",
    "print(\"Scheduled Jobs:\", schedule)\n",
    "print(\"Total Profit:\", total_profit)\n"
   ]
  },
  {
   "cell_type": "code",
   "execution_count": null,
   "id": "9c4fce69",
   "metadata": {},
   "outputs": [],
   "source": []
  }
 ],
 "metadata": {
  "kernelspec": {
   "display_name": "Python 3 (ipykernel)",
   "language": "python",
   "name": "python3"
  },
  "language_info": {
   "codemirror_mode": {
    "name": "ipython",
    "version": 3
   },
   "file_extension": ".py",
   "mimetype": "text/x-python",
   "name": "python",
   "nbconvert_exporter": "python",
   "pygments_lexer": "ipython3",
   "version": "3.11.3"
  }
 },
 "nbformat": 4,
 "nbformat_minor": 5
}
