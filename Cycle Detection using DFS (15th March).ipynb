{
 "cells": [
  {
   "cell_type": "code",
   "execution_count": 3,
   "id": "9881818a",
   "metadata": {},
   "outputs": [
    {
     "name": "stdout",
     "output_type": "stream",
     "text": [
      "Cycle detected.\n"
     ]
    }
   ],
   "source": [
    "class Graph:\n",
    "    def __init__(self):\n",
    "        self.graph = {}\n",
    "\n",
    "    def add_edge(self, u, v):\n",
    "        if u not in self.graph:\n",
    "            self.graph[u] = []\n",
    "        self.graph[u].append(v)\n",
    "\n",
    "    def dfs(self, start, visited=None, traversal=None):\n",
    "        if visited is None:\n",
    "            visited = set()\n",
    "        if traversal is None:\n",
    "            traversal = []\n",
    "\n",
    "        visited.add(start)\n",
    "        traversal.append(start)\n",
    "\n",
    "        if start in self.graph:\n",
    "            for neighbor in self.graph[start]:\n",
    "                if neighbor not in visited:\n",
    "                    if self.dfs(neighbor, visited, traversal):\n",
    "                        return True\n",
    "                elif neighbor in traversal:\n",
    "                    return True\n",
    "\n",
    "        traversal.pop()\n",
    "        return False\n",
    "\n",
    "g = Graph()\n",
    "\n",
    "g.add_edge(1, 2)\n",
    "g.add_edge(1, 3)\n",
    "g.add_edge(2, 1)\n",
    "g.add_edge(2, 4)\n",
    "g.add_edge(3, 1)\n",
    "g.add_edge(3, 4)\n",
    "g.add_edge(3, 5)\n",
    "g.add_edge(4, 2)\n",
    "g.add_edge(4, 3)\n",
    "g.add_edge(5, 3)\n",
    "g.add_edge(5, 6)\n",
    "g.add_edge(6, 5)\n",
    "g.add_edge(6, 7)\n",
    "g.add_edge(7, 6)\n",
    "\n",
    "cycle_detected = False\n",
    "for node in g.graph:\n",
    "    if g.dfs(node):\n",
    "        cycle_detected = True\n",
    "        break\n",
    "\n",
    "if cycle_detected:\n",
    "    print(\"Cycle detected\")\n",
    "else:\n",
    "    print(\"No cycle detected\")"
   ]
  }
 ],
 "metadata": {
  "kernelspec": {
   "display_name": "Python 3 (ipykernel)",
   "language": "python",
   "name": "python3"
  },
  "language_info": {
   "codemirror_mode": {
    "name": "ipython",
    "version": 3
   },
   "file_extension": ".py",
   "mimetype": "text/x-python",
   "name": "python",
   "nbconvert_exporter": "python",
   "pygments_lexer": "ipython3",
   "version": "3.11.3"
  }
 },
 "nbformat": 4,
 "nbformat_minor": 5
}
