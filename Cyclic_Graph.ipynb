{
  "nbformat": 4,
  "nbformat_minor": 0,
  "metadata": {
    "colab": {
      "provenance": [],
      "authorship_tag": "ABX9TyMa3ZNM1fhbgP5MjDhsp2KY",
      "include_colab_link": true
    },
    "kernelspec": {
      "name": "python3",
      "display_name": "Python 3"
    },
    "language_info": {
      "name": "python"
    }
  },
  "cells": [
    {
      "cell_type": "markdown",
      "metadata": {
        "id": "view-in-github",
        "colab_type": "text"
      },
      "source": [
        "<a href=\"https://colab.research.google.com/github/ravardh/GIETU_SuperCoderBatch1/blob/Ashish_21cse101/Cyclic_Graph.ipynb\" target=\"_parent\"><img src=\"https://colab.research.google.com/assets/colab-badge.svg\" alt=\"Open In Colab\"/></a>"
      ]
    },
    {
      "cell_type": "code",
      "execution_count": null,
      "metadata": {
        "id": "a39Copd3R3sh",
        "colab": {
          "base_uri": "https://localhost:8080/"
        },
        "outputId": "7d8caba5-9134-4828-ccb3-14a44b5f5b18"
      },
      "outputs": [
        {
          "output_type": "stream",
          "name": "stdout",
          "text": [
            "[[(1, 2, 1)], [(2, 1, 1)]]\n",
            "Does the graph contain a cycle? False\n"
          ]
        }
      ],
      "source": [
        "def DFS_cycle(start, graph, visited, parent):\n",
        "    visited[start - 1] = True\n",
        "\n",
        "    for i in graph[start - 1]:\n",
        "        if not visited[i[1] - 1]:\n",
        "            parent[i[1] - 1] = start\n",
        "            if DFS_cycle(i[1], graph, visited, parent):\n",
        "                return True\n",
        "        elif parent[start - 1] != i[1]:\n",
        "            return True\n",
        "\n",
        "    return False\n",
        "\n",
        "\n",
        "def has_cycle(graph):\n",
        "    v = len(graph)\n",
        "    visited = [False] * v\n",
        "    parent = [-1] * v\n",
        "\n",
        "    for i in range(v):\n",
        "        if not visited[i]:\n",
        "            if DFS_cycle(i + 1, graph, visited, parent):\n",
        "                return True\n",
        "\n",
        "    return False\n",
        "\n",
        "def create_graph(graph,source,destination,weight=1):\n",
        "    graph[source-1].append((source,destination,weight))\n",
        "\n",
        "v = 2  #11\n",
        "graph = [[] for _ in range(v)]\n",
        "\n",
        "create_graph(graph, 1, 2)\n",
        "create_graph(graph, 2, 1)\n",
        "\n",
        "\n",
        "\n",
        "print(graph)\n",
        "print(\"Does the graph contain a cycle?\", has_cycle(graph))"
      ]
    }
  ]
}