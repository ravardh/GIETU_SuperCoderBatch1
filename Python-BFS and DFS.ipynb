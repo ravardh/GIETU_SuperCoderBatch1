{
 "cells": [
  {
   "cell_type": "code",
   "execution_count": 7,
   "id": "2b69ffe7",
   "metadata": {},
   "outputs": [
    {
     "name": "stdout",
     "output_type": "stream",
     "text": [
      "BFS starting from vertex 1\n",
      "1 3 2 10 7 4 6 11 8 5 9 "
     ]
    }
   ],
   "source": [
    "#Breadth First Search(BFS)\n",
    "def bfs(graph, start):\n",
    "    visited = set()\n",
    "    queue = [start]\n",
    "\n",
    "    while queue:\n",
    "        vertex = queue.pop(0)\n",
    "\n",
    "        if vertex not in visited:\n",
    "            print(vertex, end=' ')\n",
    "            visited.add(vertex)\n",
    "            queue.extend(neighbor for neighbor in graph[vertex] if neighbor not in visited)\n",
    "\n",
    "# Example usage:\n",
    "# Define an adjacency list representation of the graph\n",
    "graph = {\n",
    "    '1': {'2', '3','10'},\n",
    "    '2': {'4'},\n",
    "    '3': {'7'},\n",
    "    '4': {'2','5','7','8'},\n",
    "    '5': {'4', '6','8','9'},\n",
    "    '6': {'5','9','10'},\n",
    "    '7': {'3','4','11'},\n",
    "    '8': {'4','9'},\n",
    "    '9': {'6','8'},\n",
    "    '10': {'1','6'},\n",
    "    '11': {'7'}\n",
    "}\n",
    "\n",
    "\n",
    "start_vertex = '1'\n",
    "print(\"BFS starting from vertex\", start_vertex)\n",
    "bfs(graph, start_vertex)\n"
   ]
  },
  {
   "cell_type": "code",
   "execution_count": 8,
   "id": "edb51d92",
   "metadata": {},
   "outputs": [
    {
     "name": "stdout",
     "output_type": "stream",
     "text": [
      "DFS starting from vertex 1\n",
      "1 3 7 4 8 9 6 10 5 2 5 11 2 10 "
     ]
    }
   ],
   "source": [
    "#Depth First Search(DFS)\n",
    "def dfs(graph, start, visited=None):\n",
    "    if visited is None:\n",
    "        visited = set()\n",
    "\n",
    "    print(start, end=' ')\n",
    "    visited.add(start)\n",
    "\n",
    "    for neighbor in graph[start] - visited:\n",
    "        dfs(graph, neighbor, visited)\n",
    "\n",
    "# Example usage:\n",
    "# Define an adjacency list representation of the graph\n",
    "graph = {\n",
    "    '1': {'2', '3', '10'},\n",
    "    '2': {'4'},\n",
    "    '3': {'7'},\n",
    "    '4': {'2', '5', '7', '8'},\n",
    "    '5': {'4', '6', '8', '9'},\n",
    "    '6': {'5', '9', '10'},\n",
    "    '7': {'3', '4', '11'},\n",
    "    '8': {'4', '9'},\n",
    "    '9': {'6', '8'},\n",
    "    '10': {'1', '6'},\n",
    "    '11': {'7'}\n",
    "}\n",
    "\n",
    "start_vertex = '1'\n",
    "print(\"DFS starting from vertex\", start_vertex)\n",
    "dfs(graph, start_vertex)\n"
   ]
  },
  {
   "cell_type": "code",
   "execution_count": null,
   "id": "63ec2112",
   "metadata": {},
   "outputs": [],
   "source": []
  }
 ],
 "metadata": {
  "kernelspec": {
   "display_name": "Python 3 (ipykernel)",
   "language": "python",
   "name": "python3"
  },
  "language_info": {
   "codemirror_mode": {
    "name": "ipython",
    "version": 3
   },
   "file_extension": ".py",
   "mimetype": "text/x-python",
   "name": "python",
   "nbconvert_exporter": "python",
   "pygments_lexer": "ipython3",
   "version": "3.11.4"
  }
 },
 "nbformat": 4,
 "nbformat_minor": 5
}
