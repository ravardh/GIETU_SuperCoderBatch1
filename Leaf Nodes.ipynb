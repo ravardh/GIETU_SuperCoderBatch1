{
 "cells": [
  {
   "cell_type": "code",
   "execution_count": 1,
   "id": "a17beb2e",
   "metadata": {},
   "outputs": [
    {
     "name": "stdout",
     "output_type": "stream",
     "text": [
      "Leaf Nodes : \n",
      "5 4 11 17 2 "
     ]
    }
   ],
   "source": [
    "# Leaf Nodes\n",
    "\n",
    "class Node:\n",
    "    def __init__(self,data):\n",
    "        self.data = data\n",
    "        self.left = None\n",
    "        self.right = None\n",
    "\n",
    "def printLeafNodes(root):\n",
    "    if root == None:\n",
    "        return 0\n",
    "\n",
    "    if root.left == None and root.right == None:\n",
    "        print(root.data,end = \" \")\n",
    "        return\n",
    "\n",
    "    if root.left:\n",
    "        printLeafNodes(root.left)\n",
    "\n",
    "    if root.right:\n",
    "        printLeafNodes(root.right)\n",
    "\n",
    "root = Node(9)\n",
    "\n",
    "root.left = Node(7)\n",
    "root.right = Node(1)\n",
    "\n",
    "root.left.left = Node(6)\n",
    "root.left.right = Node(4)\n",
    "root.right.left = Node(3)\n",
    "root.right.right = Node(2)\n",
    "\n",
    "root.left.left.right = Node(5)\n",
    "root.right.left.left = Node(11)\n",
    "root.right.left.right = Node(12)\n",
    "\n",
    "root.right.left.right.right = Node(17)\n",
    "\n",
    "print(\"Leaf Nodes : \")\n",
    "printLeafNodes(root)"
   ]
  }
 ],
 "metadata": {
  "kernelspec": {
   "display_name": "Python 3 (ipykernel)",
   "language": "python",
   "name": "python3"
  },
  "language_info": {
   "codemirror_mode": {
    "name": "ipython",
    "version": 3
   },
   "file_extension": ".py",
   "mimetype": "text/x-python",
   "name": "python",
   "nbconvert_exporter": "python",
   "pygments_lexer": "ipython3",
   "version": "3.11.3"
  }
 },
 "nbformat": 4,
 "nbformat_minor": 5
}
