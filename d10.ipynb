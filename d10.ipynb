{
 "cells": [
  {
   "cell_type": "code",
   "execution_count": 3,
   "metadata": {},
   "outputs": [
    {
     "name": "stdout",
     "output_type": "stream",
     "text": [
      "1\n"
     ]
    }
   ],
   "source": [
    "class Node:\n",
    "    def __init__(self,data):\n",
    "        self.data=data\n",
    "        self.left=None\n",
    "        self.right=None\n",
    "root=Node(1)\n",
    "root.left=Node(2)\n",
    "root.right=Node(3)\n",
    "print(root.data)"
   ]
  },
  {
   "cell_type": "code",
   "execution_count": 4,
   "metadata": {},
   "outputs": [
    {
     "data": {
      "text/plain": [
       "[1, 2, 3, 4, 10, 5]"
      ]
     },
     "execution_count": 4,
     "metadata": {},
     "output_type": "execute_result"
    }
   ],
   "source": [
    "def Insertion(root,ele):\n",
    "    if root == None:\n",
    "        return Node(ele)\n",
    "    if root.data>ele:\n",
    "        root.left=Insertion(root.left,ele)\n",
    "    else:\n",
    "        root.right=Insertion(root.right,ele)\n",
    "    return root\n",
    "\n",
    "from collections import deque\n",
    "def level_order_traversal(root):\n",
    "    if root is None:\n",
    "        return []\n",
    "\n",
    "    result = []\n",
    "    queue = deque([root])\n",
    "\n",
    "    while queue:\n",
    "        current_node = queue.popleft()\n",
    "        result.append(current_node.data)\n",
    "\n",
    "        if current_node.left:\n",
    "            queue.append(current_node.left)\n",
    "\n",
    "        if current_node.right:\n",
    "            queue.append(current_node.right)\n",
    "\n",
    "    return result\n",
    "Insertion(root,4)\n",
    "Insertion(root,10)\n",
    "Insertion(root,5)\n",
    "level_order_traversal(root)"
   ]
  },
  {
   "cell_type": "code",
   "execution_count": null,
   "metadata": {},
   "outputs": [],
   "source": []
  }
 ],
 "metadata": {
  "kernelspec": {
   "display_name": "Python 3",
   "language": "python",
   "name": "python3"
  },
  "language_info": {
   "codemirror_mode": {
    "name": "ipython",
    "version": 3
   },
   "file_extension": ".py",
   "mimetype": "text/x-python",
   "name": "python",
   "nbconvert_exporter": "python",
   "pygments_lexer": "ipython3",
   "version": "3.8.5"
  }
 },
 "nbformat": 4,
 "nbformat_minor": 4
}
