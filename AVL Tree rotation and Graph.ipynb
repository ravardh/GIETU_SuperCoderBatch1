{
 "cells": [
  {
   "cell_type": "code",
   "execution_count": 1,
   "id": "5b5bac08",
   "metadata": {},
   "outputs": [
    {
     "name": "stdout",
     "output_type": "stream",
     "text": [
      "<__main__.node object at 0x0000024DA01F4130>\n",
      "12 18 20 36 44 50 52 76 90 "
     ]
    }
   ],
   "source": [
    "class node:\n",
    "    def __init__(self,value):\n",
    "        self.data = value\n",
    "        self.left = None\n",
    "        self.right = None\n",
    "        self.height = 1\n",
    "\n",
    "class AVLTree(object):\n",
    "\n",
    "    def insert(self,root,value):\n",
    "        if root == None:\n",
    "            return node(value)\n",
    "        if(value<root.data):\n",
    "            root.left = self.insert(root.left,value)\n",
    "        elif value>root.data:\n",
    "            root.right = self.insert(root.right,value)\n",
    "        \n",
    "        root.height = 1 + max(self.ght(root.left),\n",
    "                              self.ght(root.right))\n",
    "\n",
    "\n",
    "        bl = self.bal(root)\n",
    "\n",
    "        if bl > 1 and value < root.left.data:\n",
    "            return self.leftrotate(root)\n",
    "\n",
    "        if bl > 1 and value > root.left.data:\n",
    "            root.left = self.rightrotate(root.left)\n",
    "            return self.leftrotate(root)\n",
    "\n",
    "        if bl < -1 and value > root.right.data:\n",
    "            return self.rightrotate(root)\n",
    "\n",
    "        if bl < -1 and value < root.right.data:\n",
    "            root.right = self.leftrotate(root.right)\n",
    "            return self.rightrotate(root)\n",
    "        return root\n",
    "\n",
    "    def ght(self,root):\n",
    "        if root == None:\n",
    "            return 0\n",
    "        return root.height\n",
    "\n",
    "    def bal(self,root):\n",
    "        if root == None:\n",
    "            return 0\n",
    "        return self.ght(root.left)-self.ght(root.right)\n",
    "\n",
    "    def leftrotate(self,A):\n",
    "        B = A.left\n",
    "        temp = B.right\n",
    "        B.right = A\n",
    "        A.left = temp\n",
    "\n",
    "        A.height = 1 + max(self.ght(root.left),\n",
    "                              self.ght(root.right))\n",
    "        B.height = 1 + max(self.ght(root.left),\n",
    "                              self.ght(root.right))\n",
    "        return B\n",
    "\n",
    "    def rightrotate(self,A):\n",
    "        B = A.right\n",
    "        temp = B.left\n",
    "        B.left = A\n",
    "        A.right = temp\n",
    "\n",
    "        A.height = 1 + max(self.ght(root.left),\n",
    "                              self.ght(root.right))\n",
    "        B.height = 1 + max(self.ght(root.left),\n",
    "                              self.ght(root.right))\n",
    "        return B\n",
    "\n",
    "    def inorder(self,root):\n",
    "        if root == None:\n",
    "            return\n",
    "        self.inorder(root.left)\n",
    "        print(root.data, end=\" \")\n",
    "        self.inorder(root.right)\n",
    "    \n",
    "\n",
    "tree = AVLTree()\n",
    "\n",
    "root = None\n",
    "V_L = [50 , 36, 12, 20, 76, 18, 44, 52, 90]\n",
    "for x in V_L:\n",
    "    root = tree.insert(root,x)\n",
    "\n",
    "print(root)\n",
    "\n",
    "tree.inorder(root)"
   ]
  },
  {
   "cell_type": "code",
   "execution_count": 4,
   "id": "f7f84779",
   "metadata": {},
   "outputs": [
    {
     "name": "stdout",
     "output_type": "stream",
     "text": [
      "Enter the no. of vertices5\n",
      "Adjacency List:\n",
      "0 -> 1, 2\n",
      "1 -> 2\n",
      "2 -> 0, 3\n",
      "3 -> 3\n",
      "4 -> \n"
     ]
    }
   ],
   "source": [
    "num_vertices=int(input(\"Enter the no. of vertices\"))\n",
    "adjacency_list = [[] for _ in range(num_vertices)]\n",
    "def add_edge(u, v):\n",
    "    adjacency_list[u].append(v)\n",
    "add_edge(0, 1)\n",
    "add_edge(0, 2)\n",
    "add_edge(1, 2)\n",
    "add_edge(2, 0)\n",
    "add_edge(2, 3)\n",
    "add_edge(3, 3)\n",
    "print(\"Adjacency List:\")\n",
    "for i, adjacent_vertices in enumerate(adjacency_list):\n",
    "    print(f\"{i} -> {', '.join(map(str, adjacent_vertices))}\")\n"
   ]
  },
  {
   "cell_type": "code",
   "execution_count": null,
   "id": "1b705743",
   "metadata": {},
   "outputs": [],
   "source": []
  }
 ],
 "metadata": {
  "kernelspec": {
   "display_name": "Python 3 (ipykernel)",
   "language": "python",
   "name": "python3"
  },
  "language_info": {
   "codemirror_mode": {
    "name": "ipython",
    "version": 3
   },
   "file_extension": ".py",
   "mimetype": "text/x-python",
   "name": "python",
   "nbconvert_exporter": "python",
   "pygments_lexer": "ipython3",
   "version": "3.10.9"
  }
 },
 "nbformat": 4,
 "nbformat_minor": 5
}
