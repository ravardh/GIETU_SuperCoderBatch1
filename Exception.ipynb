{
 "cells": [
  {
   "cell_type": "code",
   "execution_count": 2,
   "id": "8dec9691-fcc7-4901-963f-1509d3caeb84",
   "metadata": {},
   "outputs": [
    {
     "name": "stdin",
     "output_type": "stream",
     "text": [
      " 2\n"
     ]
    },
    {
     "name": "stdout",
     "output_type": "stream",
     "text": [
      "Invalid index\n",
      "Code Executed\n"
     ]
    }
   ],
   "source": [
    "d={1:\"Satya\"}\n",
    "try:\n",
    "    s=int(input())\n",
    "    print(d[s])\n",
    "except Exception:\n",
    "    print(\"Invalid index\")\n",
    "finally:\n",
    "    print(\"Code Executed\")  "
   ]
  }
 ],
 "metadata": {
  "kernelspec": {
   "display_name": "Python 3 (ipykernel)",
   "language": "python",
   "name": "python3"
  },
  "language_info": {
   "codemirror_mode": {
    "name": "ipython",
    "version": 3
   },
   "file_extension": ".py",
   "mimetype": "text/x-python",
   "name": "python",
   "nbconvert_exporter": "python",
   "pygments_lexer": "ipython3",
   "version": "3.12.1"
  }
 },
 "nbformat": 4,
 "nbformat_minor": 5
}
