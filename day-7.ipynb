{
 "cells": [
  {
   "cell_type": "code",
   "execution_count": 1,
   "id": "2ceb3548",
   "metadata": {},
   "outputs": [
    {
     "name": "stdout",
     "output_type": "stream",
     "text": [
      "<__main__.Node object at 0x00000214A8BD51B0>\n"
     ]
    }
   ],
   "source": [
    "#Tree-(binary,n-ary tree)-2 types\n",
    "#binary_Tree-(binary search,AV,Red-Black)-3 types\n",
    "#traversalmethods=(Inorder,preorder,postorder,levelorder)\n",
    "\n",
    "class Node:\n",
    "    def __init__(self,data):\n",
    "        self.data=data\n",
    "        self.left=None\n",
    "        self.right=None\n",
    "root=Node(1)\n",
    "root.left=Node(2)\n",
    "root.right=Node(3)\n",
    "print(root)"
   ]
  },
  {
   "cell_type": "code",
   "execution_count": 19,
   "id": "af4a9094",
   "metadata": {},
   "outputs": [
    {
     "name": "stdout",
     "output_type": "stream",
     "text": [
      "1->2->3->preorder\n",
      "2->3->1->postorder\n",
      "2->1->3->inorder\n"
     ]
    }
   ],
   "source": [
    "def PreOrder(root):#root-left-right\n",
    "    if root==None:\n",
    "        return\n",
    "    print(root.data,end=\"->\")\n",
    "    PreOrder(root.left)\n",
    "    PreOrder(root.right)\n",
    "    \n",
    "            \n",
    "def PostOrder(root):#left-right-root\n",
    "    if root==None:\n",
    "        return\n",
    "    PostOrder(root.left)\n",
    "    PostOrder(root.right)\n",
    "    print(root.data,end=\"->\")\n",
    "    \n",
    "def InOrder(root):#left-root-right\n",
    "    if root==None:\n",
    "        return\n",
    "    InOrder(root.left)\n",
    "    print(root.data,end=\"->\")\n",
    "    InOrder(root.right)\n",
    "     \n",
    "\n",
    "PreOrder(root) \n",
    "print(\"preorder\")\n",
    "PostOrder(root)\n",
    "print(\"postorder\")\n",
    "InOrder(root)\n",
    "print(\"inorder\")"
   ]
  },
  {
   "cell_type": "code",
   "execution_count": null,
   "id": "b11af152",
   "metadata": {},
   "outputs": [],
   "source": []
  },
  {
   "cell_type": "code",
   "execution_count": null,
   "id": "6b931930",
   "metadata": {},
   "outputs": [],
   "source": []
  }
 ],
 "metadata": {
  "kernelspec": {
   "display_name": "Python 3 (ipykernel)",
   "language": "python",
   "name": "python3"
  },
  "language_info": {
   "codemirror_mode": {
    "name": "ipython",
    "version": 3
   },
   "file_extension": ".py",
   "mimetype": "text/x-python",
   "name": "python",
   "nbconvert_exporter": "python",
   "pygments_lexer": "ipython3",
   "version": "3.10.9"
  }
 },
 "nbformat": 4,
 "nbformat_minor": 5
}
