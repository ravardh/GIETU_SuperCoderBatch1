{
 "cells": [
  {
   "cell_type": "code",
   "execution_count": 1,
   "id": "d6d050b7-5438-4ca1-bae2-a9cafb22ea69",
   "metadata": {},
   "outputs": [
    {
     "name": "stdout",
     "output_type": "stream",
     "text": [
      "BFS Traversal:\n",
      "1 2 3 9 4 8 5 6 7 "
     ]
    }
   ],
   "source": [
    "class Graph:\n",
    "    def __init__(self):\n",
    "        self.graph = {}\n",
    "\n",
    "    def add_edge(self, u, v):\n",
    "        if u not in self.graph:\n",
    "            self.graph[u] = []\n",
    "        self.graph[u].append(v)\n",
    "\n",
    "    def bfs(self, start):\n",
    "        visited = [False]*(max(self.graph) + 1)\n",
    "        queue = []\n",
    "\n",
    "        queue.append(start)\n",
    "        visited[start] = True\n",
    "\n",
    "        while queue:\n",
    "            current_vertex = queue.pop(0)\n",
    "            print(current_vertex, end=' ')\n",
    "\n",
    "            neighbors = self.graph.get(current_vertex, [])\n",
    "            for neighbor in neighbors:\n",
    "                if not visited[neighbor]:\n",
    "                    queue.append(neighbor)\n",
    "                    visited[neighbor] = True\n",
    "\n",
    "g = Graph()\n",
    "g.add_edge(1, 2)\n",
    "g.add_edge(1, 3)\n",
    "g.add_edge(1, 9)\n",
    "g.add_edge(2, 1)\n",
    "g.add_edge(2, 4)\n",
    "g.add_edge(3, 1)\n",
    "g.add_edge(3, 8)\n",
    "g.add_edge(4, 2)\n",
    "g.add_edge(4, 5)\n",
    "g.add_edge(4, 6)\n",
    "g.add_edge(5, 4)\n",
    "g.add_edge(6, 4)\n",
    "g.add_edge(6, 7)\n",
    "g.add_edge(7, 6)\n",
    "g.add_edge(7, 8)\n",
    "g.add_edge(8, 7)\n",
    "g.add_edge(8, 9)\n",
    "g.add_edge(8, 3)\n",
    "g.add_edge(9, 8)\n",
    "g.add_edge(9, 1)\n",
    "\n",
    "print(\"BFS Traversal:\")\n",
    "g.bfs(1)\n"
   ]
  },
  {
   "cell_type": "code",
   "execution_count": 2,
   "id": "dcfb4d3d-1697-4367-a8fc-07a618c6fe18",
   "metadata": {},
   "outputs": [
    {
     "name": "stdout",
     "output_type": "stream",
     "text": [
      "DFS Traversal:\n",
      "1 2 4 5 6 7 8 9 3 "
     ]
    }
   ],
   "source": [
    "class Graph:\n",
    "    def __init__(self):\n",
    "        self.graph = {}\n",
    "\n",
    "    def add_edge(self, u, v):\n",
    "        if u not in self.graph:\n",
    "            self.graph[u] = []\n",
    "        self.graph[u].append(v)\n",
    "\n",
    "    def dfs_util(self, v, visited):\n",
    "        visited[v] = True\n",
    "        print(v, end=' ')\n",
    "\n",
    "        neighbors = self.graph.get(v, [])\n",
    "        for neighbor in neighbors:\n",
    "            if neighbor not in visited:\n",
    "                self.dfs_util(neighbor, visited)\n",
    "\n",
    "    def dfs(self, start):\n",
    "        visited = {}\n",
    "        self.dfs_util(start, visited)\n",
    "\n",
    "g = Graph()\n",
    "g.add_edge(1, 2)\n",
    "g.add_edge(1, 3)\n",
    "g.add_edge(1, 9)\n",
    "g.add_edge(2, 1)\n",
    "g.add_edge(2, 4)\n",
    "g.add_edge(3, 1)\n",
    "g.add_edge(3, 8)\n",
    "g.add_edge(4, 2)\n",
    "g.add_edge(4, 5)\n",
    "g.add_edge(4, 6)\n",
    "g.add_edge(5, 4)\n",
    "g.add_edge(6, 4)\n",
    "g.add_edge(6, 7)\n",
    "g.add_edge(7, 6)\n",
    "g.add_edge(7, 8)\n",
    "g.add_edge(8, 7)\n",
    "g.add_edge(8, 9)\n",
    "g.add_edge(8, 3)\n",
    "g.add_edge(9, 8)\n",
    "g.add_edge(9, 1)\n",
    "\n",
    "print(\"DFS Traversal:\")\n",
    "g.dfs(1)"
   ]
  },
  {
   "cell_type": "code",
   "execution_count": null,
   "id": "efdcfc7e-b3f7-4e02-8376-f135481b468d",
   "metadata": {},
   "outputs": [],
   "source": []
  }
 ],
 "metadata": {
  "kernelspec": {
   "display_name": "Python 3 (ipykernel)",
   "language": "python",
   "name": "python3"
  },
  "language_info": {
   "codemirror_mode": {
    "name": "ipython",
    "version": 3
   },
   "file_extension": ".py",
   "mimetype": "text/x-python",
   "name": "python",
   "nbconvert_exporter": "python",
   "pygments_lexer": "ipython3",
   "version": "3.11.5"
  }
 },
 "nbformat": 4,
 "nbformat_minor": 5
}
