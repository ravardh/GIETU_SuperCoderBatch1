{
 "cells": [
  {
   "cell_type": "code",
   "execution_count": 6,
   "id": "771a1292",
   "metadata": {},
   "outputs": [
    {
     "name": "stdout",
     "output_type": "stream",
     "text": [
      "None\n"
     ]
    }
   ],
   "source": [
    "#finding the leaf node\n",
    "class Node:\n",
    "    def __init__(self,data):\n",
    "        self.data=data\n",
    "        self.left=None\n",
    "        self.right=None\n",
    "        \n",
    "        \n",
    "def FindLeafNode(root):\n",
    "    if root==None:\n",
    "        return\n",
    "    if (root.left==None and root.right==None):\n",
    "        return (root.data)\n",
    "    \n",
    "\n",
    "root=Node(1)\n",
    "root.left=Node(2)\n",
    "root.right=Node(3)\n",
    "a=FindLeafNode(root)\n",
    "print(a)"
   ]
  },
  {
   "cell_type": "code",
   "execution_count": 11,
   "id": "c67c5d33",
   "metadata": {},
   "outputs": [
    {
     "name": "stdout",
     "output_type": "stream",
     "text": [
      "Height of the tree: 4\n"
     ]
    }
   ],
   "source": [
    "#height of tree\n",
    "def Height(root):\n",
    "    if root==None:\n",
    "        return -1\n",
    "    leftheight=Height(root.left)\n",
    "    rightheight=Height(root.right)\n",
    "    return max(leftheight,rightheight)+1\n",
    "height_of_tree = Height(root)\n",
    "print(\"Height of the tree:\", height_of_tree)\n",
    "    "
   ]
  },
  {
   "cell_type": "code",
   "execution_count": 13,
   "id": "2370a088",
   "metadata": {},
   "outputs": [
    {
     "name": "stdout",
     "output_type": "stream",
     "text": [
      "2 1 3 6 "
     ]
    }
   ],
   "source": [
    "#printing the top view\n",
    "class TreeNode:\n",
    "    def __init__(self, key):\n",
    "        self.left = None\n",
    "        self.right = None\n",
    "        self.key = key\n",
    "        self.label = 0\n",
    "def TopView(root):\n",
    "    if root==None:\n",
    "        return \n",
    "    position={}\n",
    "    queue=[(root,0)]\n",
    "    while queue:\n",
    "        current,i=queue.pop(0)\n",
    "        if i not in position:\n",
    "            position[i]=current.key\n",
    "        if current.left:\n",
    "            queue.append((current.left, i - 1))\n",
    "        if current.right:\n",
    "            queue.append((current.right, i + 1))\n",
    "    for key in sorted(position.keys()):\n",
    "        print(position[key], end=\" \")\n",
    "root = TreeNode(1)\n",
    "root.left = TreeNode(2)\n",
    "root.right = TreeNode(3)\n",
    "root.left.right = TreeNode(4)\n",
    "root.left.right.right = TreeNode(5)\n",
    "root.left.right.right.right = TreeNode(6)\n",
    "\n",
    "TopView(root)"
   ]
  },
  {
   "cell_type": "code",
   "execution_count": null,
   "id": "dec0cec5",
   "metadata": {},
   "outputs": [],
   "source": []
  }
 ],
 "metadata": {
  "kernelspec": {
   "display_name": "Python 3 (ipykernel)",
   "language": "python",
   "name": "python3"
  },
  "language_info": {
   "codemirror_mode": {
    "name": "ipython",
    "version": 3
   },
   "file_extension": ".py",
   "mimetype": "text/x-python",
   "name": "python",
   "nbconvert_exporter": "python",
   "pygments_lexer": "ipython3",
   "version": "3.10.9"
  }
 },
 "nbformat": 4,
 "nbformat_minor": 5
}
