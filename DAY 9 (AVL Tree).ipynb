{
 "cells": [
  {
   "cell_type": "markdown",
   "id": "1d16ee5e",
   "metadata": {},
   "source": [
    "AVL Tree"
   ]
  },
  {
   "cell_type": "code",
   "execution_count": 1,
   "id": "ad8d8880",
   "metadata": {},
   "outputs": [
    {
     "name": "stdout",
     "output_type": "stream",
     "text": [
      "10 20 25 30 40 50 "
     ]
    }
   ],
   "source": [
    "class TreeNode:\n",
    "    def __init__(self, key):\n",
    "        self.key = key\n",
    "        self.left = None\n",
    "        self.right = None\n",
    "        self.height = 1\n",
    "\n",
    "def height(node):\n",
    "    return node.height if node else 0\n",
    "\n",
    "def balance(node):\n",
    "    return height(node.left) - height(node.right) if node else 0\n",
    "\n",
    "def rotate_right(y):\n",
    "    x, T2 = y.left, y.left.right\n",
    "    x.right, y.left = y, T2\n",
    "    y.height, x.height = 1 + max(height(y.left), height(y.right)), 1 + max(height(x.left), height(x.right))\n",
    "    return x\n",
    "\n",
    "def rotate_left(x):\n",
    "    y, T2 = x.right, x.right.left\n",
    "    y.left, x.right = x, T2\n",
    "    x.height, y.height = 1 + max(height(x.left), height(x.right)), 1 + max(height(y.left), height(y.right))\n",
    "    return y\n",
    "\n",
    "def insert(node, key):\n",
    "    if not node:\n",
    "        return TreeNode(key)\n",
    "    if key < node.key:\n",
    "        node.left = insert(node.left, key)\n",
    "    else:\n",
    "        node.right = insert(node.right, key)\n",
    "    node.height = 1 + max(height(node.left), height(node.right))\n",
    "    balance_factor = balance(node)\n",
    "    if balance_factor > 1 and key < node.left.key:\n",
    "        return rotate_right(node)\n",
    "    if balance_factor < -1 and key > node.right.key:\n",
    "        return rotate_left(node)\n",
    "    if balance_factor > 1 and key > node.left.key:\n",
    "        node.left = rotate_left(node.left)\n",
    "        return rotate_right(node)\n",
    "    if balance_factor < -1 and key < node.right.key:\n",
    "        node.right = rotate_right(node.right)\n",
    "        return rotate_left(node)\n",
    "    return node\n",
    "\n",
    "def inorder_traversal(node):\n",
    "    if node:\n",
    "        inorder_traversal(node.left)\n",
    "        print(node.key, end=\" \")\n",
    "        inorder_traversal(node.right)\n",
    "\n",
    "root = None\n",
    "keys = [10, 20, 30, 40, 50, 25]\n",
    "for key in keys:\n",
    "    root = insert(root, key)\n",
    "inorder_traversal(root)\n"
   ]
  },
  {
   "cell_type": "code",
   "execution_count": null,
   "id": "f871208e",
   "metadata": {},
   "outputs": [],
   "source": []
  }
 ],
 "metadata": {
  "kernelspec": {
   "display_name": "Python 3 (ipykernel)",
   "language": "python",
   "name": "python3"
  },
  "language_info": {
   "codemirror_mode": {
    "name": "ipython",
    "version": 3
   },
   "file_extension": ".py",
   "mimetype": "text/x-python",
   "name": "python",
   "nbconvert_exporter": "python",
   "pygments_lexer": "ipython3",
   "version": "3.10.9"
  }
 },
 "nbformat": 4,
 "nbformat_minor": 5
}
