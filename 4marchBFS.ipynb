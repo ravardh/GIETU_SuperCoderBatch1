{
 "cells": [
  {
   "cell_type": "code",
   "execution_count": 1,
   "id": "7f9006c4",
   "metadata": {},
   "outputs": [
    {
     "name": "stdout",
     "output_type": "stream",
     "text": [
      "[[], [], [], [], []]\n",
      "0 1 3 4 2 [[1, 3, 4, 0, 2, 1, 4, 0, 0, 2], [1, 3, 4, 0, 2, 1, 4, 0, 0, 2], [1, 3, 4, 0, 2, 1, 4, 0, 0, 2], [1, 3, 4, 0, 2, 1, 4, 0, 0, 2], [1, 3, 4, 0, 2, 1, 4, 0, 0, 2]]\n"
     ]
    }
   ],
   "source": [
    "aList = [[]]*5\n",
    "\n",
    "print(aList)\n",
    "\n",
    "def add(s, d, aList):\n",
    "    aList[s].append(d)\n",
    "\n",
    "def bfs(s, aList):\n",
    "    queue = list()\n",
    "    visited = set()\n",
    "    queue.append(s)\n",
    "\n",
    "    while queue:\n",
    "        i = queue.pop(0)  \n",
    "        if i not in visited:\n",
    "            print(i, end=\" \")\n",
    "            visited.add(i)\n",
    "            for j in aList[i]:\n",
    "                queue.append(j)\n",
    "\n",
    "add(0, 1, aList)\n",
    "add(0, 3, aList)\n",
    "add(0, 4, aList)\n",
    "add(1, 0, aList)\n",
    "add(1, 2, aList)\n",
    "add(2, 1, aList)\n",
    "add(2, 4, aList)\n",
    "add(3, 0, aList)\n",
    "add(4, 0, aList)\n",
    "add(4, 2, aList)\n",
    "\n",
    "bfs(0, aList)\n",
    "print(aList)\n",
    "\n"
   ]
  },
  {
   "cell_type": "code",
   "execution_count": null,
   "id": "4843bf37",
   "metadata": {},
   "outputs": [],
   "source": []
  }
 ],
 "metadata": {
  "kernelspec": {
   "display_name": "Python 3 (ipykernel)",
   "language": "python",
   "name": "python3"
  },
  "language_info": {
   "codemirror_mode": {
    "name": "ipython",
    "version": 3
   },
   "file_extension": ".py",
   "mimetype": "text/x-python",
   "name": "python",
   "nbconvert_exporter": "python",
   "pygments_lexer": "ipython3",
   "version": "3.10.9"
  }
 },
 "nbformat": 4,
 "nbformat_minor": 5
}
