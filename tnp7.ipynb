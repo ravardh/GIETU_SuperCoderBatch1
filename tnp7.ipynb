{
 "cells": [
  {
   "cell_type": "code",
   "execution_count": 5,
   "id": "20d7cdbe-0ce5-4618-9f27-26f42be1b7a9",
   "metadata": {},
   "outputs": [
    {
     "name": "stdout",
     "output_type": "stream",
     "text": [
      "<__main__.node object at 0x0000015F112AA7D0>\n",
      "12 18 20 36 44 50 52 76 90 "
     ]
    }
   ],
   "source": [
    "class node:\n",
    "    def __init__(self,value):\n",
    "        self.data = value\n",
    "        self.left = None\n",
    "        self.right = None\n",
    "        self.height = 1\n",
    "\n",
    "class AVLTree(object):\n",
    "\n",
    "    def insert(self,root,value):\n",
    "        if root == None:\n",
    "            return node(value)\n",
    "        if(value<root.data):\n",
    "            root.left = self.insert(root.left,value)\n",
    "        elif value>root.data:\n",
    "            root.right = self.insert(root.right,value)\n",
    "        \n",
    "        root.height = 1 + max(self.ght(root.left),\n",
    "                              self.ght(root.right))\n",
    "\n",
    "\n",
    "        bl = self.bal(root)\n",
    "\n",
    "        if bl > 1 and value < root.left.data:\n",
    "            return self.leftrotate(root)\n",
    "\n",
    "        if bl > 1 and value > root.left.data:\n",
    "            root.left = self.rightrotate(root.left)\n",
    "            return self.leftrotate(root)\n",
    "\n",
    "        if bl < -1 and value > root.right.data:\n",
    "            return self.rightrotate(root)\n",
    "\n",
    "        if bl < -1 and value < root.right.data:\n",
    "            root.right = self.leftrotate(root.right)\n",
    "            return self.rightrotate(root)\n",
    "        return root\n",
    "\n",
    "    def ght(self,root):\n",
    "        if root == None:\n",
    "            return 0\n",
    "        return root.height\n",
    "\n",
    "    def bal(self,root):\n",
    "        if root == None:\n",
    "            return 0\n",
    "        return self.ght(root.left)-self.ght(root.right)\n",
    "\n",
    "    def leftrotate(self,A):\n",
    "        B = A.left\n",
    "        temp = B.right\n",
    "        B.right = A\n",
    "        A.left = temp\n",
    "\n",
    "        A.height = 1 + max(self.ght(A.left),\n",
    "                              self.ght(root.right))\n",
    "        B.height = 1 + max(self.ght(B.left),\n",
    "                              self.ght(root.right))\n",
    "        return B\n",
    "\n",
    "    def rightrotate(self,A):\n",
    "        B = A.right\n",
    "        temp = B.left\n",
    "        B.left = A\n",
    "        A.right = temp\n",
    "\n",
    "        A.height = 1 + max(self.ght(root.left),\n",
    "                              self.ght(root.right))\n",
    "        B.height = 1 + max(self.ght(root.left),\n",
    "                              self.ght(root.right))\n",
    "        return B\n",
    "\n",
    "    def inorder(self,root):\n",
    "        if root == None:\n",
    "            return\n",
    "        self.inorder(root.left)\n",
    "        print(root.data, end=\" \")\n",
    "        self.inorder(root.right)\n",
    "    \n",
    "\n",
    "tree = AVLTree()\n",
    "\n",
    "root = None\n",
    "V_L = [50 , 36, 12, 20, 76, 18, 44, 52, 90]\n",
    "for x in V_L:\n",
    "    root = tree.insert(root,x)\n",
    "\n",
    "print(root)\n",
    "\n",
    "tree.inorder(root)"
   ]
  },
  {
   "cell_type": "code",
   "execution_count": null,
   "id": "6e79c1f0-9890-41dd-b921-28d92645903b",
   "metadata": {},
   "outputs": [],
   "source": []
  },
  {
   "cell_type": "code",
   "execution_count": null,
   "id": "dd4fb3e7-4139-49f3-9291-e0bc92aad259",
   "metadata": {},
   "outputs": [],
   "source": []
  },
  {
   "cell_type": "code",
   "execution_count": null,
   "id": "90bfc7dc-0d3a-4139-9545-84254f54493c",
   "metadata": {},
   "outputs": [],
   "source": []
  },
  {
   "cell_type": "code",
   "execution_count": null,
   "id": "b64037b3-e00b-4f9c-9066-2346a27ff5d0",
   "metadata": {},
   "outputs": [],
   "source": []
  },
  {
   "cell_type": "code",
   "execution_count": null,
   "id": "5fbde151-232c-4026-87b7-2e936857d111",
   "metadata": {},
   "outputs": [],
   "source": []
  },
  {
   "cell_type": "code",
   "execution_count": null,
   "id": "4f6a8c50-e563-45ab-b4c9-7b244689786a",
   "metadata": {},
   "outputs": [],
   "source": []
  },
  {
   "cell_type": "code",
   "execution_count": null,
   "id": "f635e4e5-a7fa-4e59-abec-77fa5f794b58",
   "metadata": {},
   "outputs": [],
   "source": []
  },
  {
   "cell_type": "code",
   "execution_count": null,
   "id": "c94373e5-0993-4f07-b6d8-36349ceb11ea",
   "metadata": {},
   "outputs": [],
   "source": []
  },
  {
   "cell_type": "code",
   "execution_count": null,
   "id": "5f31a54a-30a0-4ffa-a2d7-fcd72876b0b4",
   "metadata": {},
   "outputs": [],
   "source": []
  },
  {
   "cell_type": "code",
   "execution_count": null,
   "id": "15177bf0-8127-4822-a079-864d0e86b77e",
   "metadata": {},
   "outputs": [],
   "source": []
  }
 ],
 "metadata": {
  "kernelspec": {
   "display_name": "Python 3 (ipykernel)",
   "language": "python",
   "name": "python3"
  },
  "language_info": {
   "codemirror_mode": {
    "name": "ipython",
    "version": 3
   },
   "file_extension": ".py",
   "mimetype": "text/x-python",
   "name": "python",
   "nbconvert_exporter": "python",
   "pygments_lexer": "ipython3",
   "version": "3.11.4"
  }
 },
 "nbformat": 4,
 "nbformat_minor": 5
}
