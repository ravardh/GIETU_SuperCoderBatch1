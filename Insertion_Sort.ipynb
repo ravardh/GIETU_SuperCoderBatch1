{
 "cells": [
  {
   "cell_type": "code",
   "execution_count": 4,
   "id": "233ce8e0-d2f8-4a31-9d89-5bcfecdd3ed1",
   "metadata": {},
   "outputs": [
    {
     "data": {
      "text/plain": [
       "[1, 2, 3, 4, 5, 6, 7, 8, 9]"
      ]
     },
     "execution_count": 4,
     "metadata": {},
     "output_type": "execute_result"
    }
   ],
   "source": [
    "#insertion sort\n",
    "l=[4,8,7,1,9,2,3,6,5]\n",
    "for i in range(1,len(l)):\n",
    "    index=i\n",
    "    for j in range(i,-1,-1):\n",
    "        if(l[j]>=l[index]):\n",
    "            l[j],l[index]=l[index],l[j]\n",
    "            index=j\n",
    "l\n",
    "            \n"
   ]
  },
  {
   "cell_type": "code",
   "execution_count": null,
   "id": "d97342b7-2b82-4775-b093-a6d16712f35e",
   "metadata": {},
   "outputs": [],
   "source": []
  }
 ],
 "metadata": {
  "kernelspec": {
   "display_name": "Python 3 (ipykernel)",
   "language": "python",
   "name": "python3"
  },
  "language_info": {
   "codemirror_mode": {
    "name": "ipython",
    "version": 3
   },
   "file_extension": ".py",
   "mimetype": "text/x-python",
   "name": "python",
   "nbconvert_exporter": "python",
   "pygments_lexer": "ipython3",
   "version": "3.12.1"
  }
 },
 "nbformat": 4,
 "nbformat_minor": 5
}
