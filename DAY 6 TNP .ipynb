{
 "cells": [
  {
   "cell_type": "markdown",
   "id": "3d17e4f7",
   "metadata": {},
   "source": [
    "# leaf node"
   ]
  },
  {
   "cell_type": "code",
   "execution_count": 4,
   "id": "d70e46d0",
   "metadata": {},
   "outputs": [
    {
     "name": "stdout",
     "output_type": "stream",
     "text": [
      "Leaf node in given binary tree  is :\n"
     ]
    }
   ],
   "source": [
    "class Node:\n",
    "    def __init__(self, data):\n",
    "        self.data = data\n",
    "        self.left = None\n",
    "        self.right = None\n",
    "\n",
    "def leaf(root):\n",
    "    if root is None:    \n",
    "        return False \n",
    "    if (root.left == None) and (root.right == None):\n",
    "        return \n",
    "        print(root.data)\n",
    "    else:\n",
    "        return False\n",
    "root = Node(20)\n",
    "root.left = Node(32)\n",
    "root.right = Node(10)\n",
    "root.left.left = Node(15)\n",
    "root.left.right = Node(12)\n",
    "root.right.left = Node(8)\n",
    "root.right.right = Node(24)\n",
    "root.left.left.left = Node(4)\n",
    "root.left.right.left = Node(50)\n",
    "root.left.right.right = Node(6)\n",
    "root.right.right.left = Node(16)\n",
    "root.right.right.right = Node(2)\n",
    "root.left.right.left.left = Node(40)\n",
    "root.left.right.left.right = Node(35)\n",
    "    \n",
    "    \n",
    "print(\"Leaf node in given binary tree  is :\",)\n",
    "# print(root.data)"
   ]
  },
  {
   "cell_type": "code",
   "execution_count": 9,
   "id": "30adcd42",
   "metadata": {},
   "outputs": [
    {
     "name": "stdout",
     "output_type": "stream",
     "text": [
      "4 15 32 20 10 24 2 None\n"
     ]
    }
   ],
   "source": [
    "class node:\n",
    "    def __init__(self, data = None):\n",
    "        self.data = data\n",
    "        self.left = None\n",
    "        self.right = None\n",
    "        self.key = 0\n",
    "\n",
    "def topView(root):\n",
    "    Q = [root]\n",
    "    key = 0\n",
    "    root.key = key\n",
    "    tv = {}\n",
    "\n",
    "    while len(Q) > 0:\n",
    "        current = Q.pop(0)\n",
    "        key = current.key\n",
    "        if current != None:\n",
    "            if key not in tv:\n",
    "                tv[key] = current.data\n",
    "\n",
    "            if current.left != None:\n",
    "                Q.append(current.left)\n",
    "                current.left.key = key - 1\n",
    "            if current.right != None:\n",
    "                Q.append(current.right)\n",
    "                current.right.key = key + 1\n",
    "    \n",
    "    for x in sorted(tv.keys()):\n",
    "        print(tv[x], end = \" \")\n",
    "\n",
    "root = node(20)\n",
    "root.left = node(32)\n",
    "root.right = node(10)\n",
    "root.left.left = node(15)\n",
    "root.left.right = node(12)\n",
    "root.right.left = node(8)\n",
    "root.right.right = node(24)\n",
    "root.left.left.left = node(4)\n",
    "root.left.right.left = node(50)\n",
    "root.left.right.right = node(6)\n",
    "root.right.right.left = node(16)\n",
    "root.right.right.right = node(2)\n",
    "root.left.right.left.left = node(48)\n",
    "root.left.right.left.right = node(35)\n",
    "\n",
    "print(topView(root))\n",
    "\n",
    "def findHeight(root):\n",
    "    if root == None: return 0\n",
    "\n",
    "    right_height = findHeight(root.right)\n",
    "    left_height = findHeight(root.left)\n",
    "\n",
    "    return max(right_height, left_height) + 1\n",
    "\n",
    "def leafNode(root):\n",
    "    if root == None: return 0\n",
    "\n",
    "    if root.left == None and root.right == None: return root.data\n",
    "\n",
    "    return 0"
   ]
  },
  {
   "cell_type": "code",
   "execution_count": null,
   "id": "9e80732b",
   "metadata": {},
   "outputs": [],
   "source": []
  }
 ],
 "metadata": {
  "kernelspec": {
   "display_name": "Python 3 (ipykernel)",
   "language": "python",
   "name": "python3"
  },
  "language_info": {
   "codemirror_mode": {
    "name": "ipython",
    "version": 3
   },
   "file_extension": ".py",
   "mimetype": "text/x-python",
   "name": "python",
   "nbconvert_exporter": "python",
   "pygments_lexer": "ipython3",
   "version": "3.11.3"
  }
 },
 "nbformat": 4,
 "nbformat_minor": 5
}
