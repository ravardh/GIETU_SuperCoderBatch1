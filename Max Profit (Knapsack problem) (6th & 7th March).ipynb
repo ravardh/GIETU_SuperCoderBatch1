{
 "cells": [
  {
   "cell_type": "code",
   "execution_count": null,
   "id": "7e6fd2fb",
   "metadata": {},
   "outputs": [],
   "source": [
    "def max_profit(weight, price, capacity):\n",
    "    n = len(weight)\n",
    "    m = [[0] * (capacity+1) for i in range(n+1)]\n",
    "\n",
    "    for i in range(1, n+1):\n",
    "        for w in range(1, capacity+1):\n",
    "            if weights[i-1] <= w:\n",
    "                m[i][w] = max(m[i-1][w], m[i-1][w - weights[i-1]] + prices[i-1])\n",
    "            else:\n",
    "                m[i][w] = m[i-1][w]\n",
    "\n",
    "    return m[n][capacity]\n",
    "    \n",
    "weight = [2, 3, 5, 7, 1, 4, 1]\n",
    "price = [10, 5, 15, 7, 6, 18, 3]\n",
    "capacity = 15\n",
    "\n",
    "print(\"Max Profit : \", max_profit(weight, price, capacity))"
   ]
  }
 ],
 "metadata": {
  "kernelspec": {
   "display_name": "Python 3 (ipykernel)",
   "language": "python",
   "name": "python3"
  },
  "language_info": {
   "codemirror_mode": {
    "name": "ipython",
    "version": 3
   },
   "file_extension": ".py",
   "mimetype": "text/x-python",
   "name": "python",
   "nbconvert_exporter": "python",
   "pygments_lexer": "ipython3",
   "version": "3.11.3"
  }
 },
 "nbformat": 4,
 "nbformat_minor": 5
}
