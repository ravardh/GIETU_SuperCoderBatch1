{
 "cells": [
  {
   "cell_type": "code",
   "execution_count": null,
   "metadata": {},
   "outputs": [],
   "source": []
  },
  {
   "cell_type": "code",
   "execution_count": 1,
   "metadata": {},
   "outputs": [
    {
     "name": "stdout",
     "output_type": "stream",
     "text": [
      "Following is the Depth First Traversal (starting from vertex 0)\n",
      "0 3 4 5 2 7 8 9 6 1 "
     ]
    }
   ],
   "source": [
    "class Graph:\n",
    "    def __init__(self, value):\n",
    "        self.value = value\n",
    "        self.adj = [[] for i in range(value)]\n",
    "\n",
    "    def addEdge(self, u, v):\n",
    "        self.adj[u].append(v)\n",
    "\n",
    "    def DFSUtil(self, u, visited):\n",
    "        visited[u] = True\n",
    "        print(u, end=\" \")\n",
    "\n",
    "        for i in self.adj[u]:\n",
    "            if not visited[i]:\n",
    "                self.DFSUtil(i, visited)\n",
    "\n",
    "    def DFS(self):\n",
    "        visited = [False] * self.V\n",
    "\n",
    "        for i in range(self.V):\n",
    "            if not visited[i]:\n",
    "                self.DFSUtil(i, visited)\n",
    "\n",
    "# Create a graph\n",
    "g = Graph(10)\n",
    "\n",
    "g.addEdge(0, 3)                                                                             \n",
    "g.addEdge(0, 2)\n",
    "g.addEdge(0, 6)\n",
    "g.addEdge(3, 4)\n",
    "g.addEdge(3, 5)\n",
    "g.addEdge(2, 7)\n",
    "g.addEdge(7, 8)\n",
    "g.addEdge(7, 9)\n",
    "\n",
    "print(\"DFS : \")\n",
    "g.DFS()\n"
   ]
  }
 ],
 "metadata": {
  "kernelspec": {
   "display_name": "Python 3",
   "language": "python",
   "name": "python3"
  },
  "language_info": {
   "codemirror_mode": {
    "name": "ipython",
    "version": 3
   },
   "file_extension": ".py",
   "mimetype": "text/x-python",
   "name": "python",
   "nbconvert_exporter": "python",
   "pygments_lexer": "ipython3",
   "version": "3.10.4"
  }
 },
 "nbformat": 4,
 "nbformat_minor": 2
}
