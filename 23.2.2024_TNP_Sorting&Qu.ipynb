{
 "cells": [
  {
   "cell_type": "code",
   "execution_count": 4,
   "id": "8a772c96",
   "metadata": {},
   "outputs": [
    {
     "name": "stdout",
     "output_type": "stream",
     "text": [
      "[0, 4, 23, 56, 234, 443]\n"
     ]
    }
   ],
   "source": [
    "# QUICK_SORT\n",
    "\n",
    "def find(arr, s, e):\n",
    "    p = arr[e]\n",
    "    j = s - 1\n",
    "    for i in range(s, e):\n",
    "        if arr[i] < p:\n",
    "            j = j + 1\n",
    "            arr[i], arr[j] = arr[j], arr[i]\n",
    "    j = j + 1\n",
    "    arr[j], arr[e] = arr[e], arr[j]\n",
    "    return j\n",
    "\n",
    "\n",
    "def quicksort(arr, s, e):\n",
    "    if s < e:\n",
    "        pi = find(arr, s, e)\n",
    "        quicksort(arr, s, pi - 1)\n",
    "        quicksort(arr, pi + 1, e)\n",
    "\n",
    "\n",
    "if __name__ == '__main__':\n",
    "    arr = [23, 4, 443, 234, 56, 0]\n",
    "    quicksort(arr, 0, len(arr) - 1)\n",
    "    print(arr)\n"
   ]
  },
  {
   "cell_type": "code",
   "execution_count": 9,
   "id": "2c46eabc",
   "metadata": {},
   "outputs": [
    {
     "name": "stdout",
     "output_type": "stream",
     "text": [
      "[1, 2, 5, 5, 6, 9]\n"
     ]
    }
   ],
   "source": [
    "def merge_sort(arr):\n",
    "    if len(arr) > 1:\n",
    "        mid = len(arr) // 2\n",
    "        left_half = arr[:mid]\n",
    "        right_half = arr[mid:]\n",
    "\n",
    "        merge_sort(left_half)\n",
    "        merge_sort(right_half)\n",
    "\n",
    "        i = j = k = 0\n",
    "\n",
    "        while i < len(left_half) and j < len(right_half):\n",
    "            if left_half[i] < right_half[j]:\n",
    "                arr[k] = left_half[i]\n",
    "                i += 1\n",
    "            else:\n",
    "                arr[k] = right_half[j]\n",
    "                j += 1\n",
    "            k += 1\n",
    "\n",
    "        while i < len(left_half):\n",
    "            arr[k] = left_half[i]\n",
    "            i += 1\n",
    "            k += 1\n",
    "\n",
    "        while j < len(right_half):\n",
    "            arr[k] = right_half[j]\n",
    "            j += 1\n",
    "            k += 1\n",
    "\n",
    "\n",
    "\n",
    "my_list = [5, 2, 9, 1, 5, 6]\n",
    "merge_sort(my_list)\n",
    "print(my_list)"
   ]
  },
  {
   "cell_type": "code",
   "execution_count": 12,
   "id": "b3d9b847",
   "metadata": {},
   "outputs": [
    {
     "name": "stdout",
     "output_type": "stream",
     "text": [
      "Enter the number of consecutive numbers you want to find the sum for: 3\n",
      "The greatest sum is 24 and the 3 numbers are (8, 9, 7)\n"
     ]
    }
   ],
   "source": [
    "ar = [5, 4, 2, 6, 3, 8, 9, 7, 4, 7, 3, 6, 9, 8, 2, 4, 6, 8, 6, 2, 3, 4, 5, 1, 4, 2]\n",
    "n = len(ar)\n",
    "max_sum = float('-inf')\n",
    "x = int(input(\"Enter the number of consecutive numbers you want to find the sum for: \"))\n",
    "\n",
    "if x > n:\n",
    "    print(\"Invalid input. The array doesn't have enough numbers.\")\n",
    "else:\n",
    "    max_triplet = None\n",
    "    for i in range(n - (x - 1)):\n",
    "        current_sum = sum(ar[i:i + x])\n",
    "        if current_sum > max_sum:\n",
    "            max_sum = current_sum\n",
    "            max_triplet = tuple(ar[i:i + x])\n",
    "\n",
    "    print(f\"The greatest sum is {max_sum} and the {x} numbers are {max_triplet}\")\n"
   ]
  },
  {
   "cell_type": "code",
   "execution_count": null,
   "id": "cca7efcf",
   "metadata": {},
   "outputs": [],
   "source": []
  }
 ],
 "metadata": {
  "kernelspec": {
   "display_name": "Python 3 (ipykernel)",
   "language": "python",
   "name": "python3"
  },
  "language_info": {
   "codemirror_mode": {
    "name": "ipython",
    "version": 3
   },
   "file_extension": ".py",
   "mimetype": "text/x-python",
   "name": "python",
   "nbconvert_exporter": "python",
   "pygments_lexer": "ipython3",
   "version": "3.10.9"
  }
 },
 "nbformat": 4,
 "nbformat_minor": 5
}
