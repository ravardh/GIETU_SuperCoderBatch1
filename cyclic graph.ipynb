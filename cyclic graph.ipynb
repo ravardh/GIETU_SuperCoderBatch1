{
 "cells": [
  {
   "cell_type": "code",
   "execution_count": 1,
   "id": "2210730e",
   "metadata": {},
   "outputs": [
    {
     "name": "stdout",
     "output_type": "stream",
     "text": [
      "[[(1, 2, 1)], [(2, 1, 1)]]\n",
      "Does the graph contain a cycle? False\n"
     ]
    }
   ],
   "source": [
    "def DFS_cycle(start, graph, visited, parent):\n",
    "    visited[start - 1] = True\n",
    "\n",
    "    for i in graph[start - 1]:\n",
    "        if not visited[i[1] - 1]:\n",
    "            parent[i[1] - 1] = start\n",
    "            if DFS_cycle(i[1], graph, visited, parent):\n",
    "                return True\n",
    "        elif parent[start - 1] != i[1]:\n",
    "            return True\n",
    "\n",
    "    return False\n",
    "\n",
    "\n",
    "def has_cycle(graph):\n",
    "    v = len(graph)\n",
    "    visited = [False] * v\n",
    "    parent = [-1] * v\n",
    "\n",
    "    for i in range(v):\n",
    "        if not visited[i]:\n",
    "            if DFS_cycle(i + 1, graph, visited, parent):\n",
    "                return True\n",
    "\n",
    "    return False\n",
    "\n",
    "def create_graph(graph,source,destination,weight=1):\n",
    "    graph[source-1].append((source,destination,weight))\n",
    "\n",
    "v = 2  #11\n",
    "graph = [[] for _ in range(v)]\n",
    "\n",
    "create_graph(graph, 1, 2)\n",
    "create_graph(graph, 2, 1)\n",
    "\n",
    "\n",
    "\n",
    "print(graph)\n",
    "print(\"Does the graph contain a cycle?\", has_cycle(graph))"
   ]
  },
  {
   "cell_type": "code",
   "execution_count": null,
   "id": "63b2b590",
   "metadata": {},
   "outputs": [],
   "source": []
  }
 ],
 "metadata": {
  "kernelspec": {
   "display_name": "Python 3 (ipykernel)",
   "language": "python",
   "name": "python3"
  },
  "language_info": {
   "codemirror_mode": {
    "name": "ipython",
    "version": 3
   },
   "file_extension": ".py",
   "mimetype": "text/x-python",
   "name": "python",
   "nbconvert_exporter": "python",
   "pygments_lexer": "ipython3",
   "version": "3.11.3"
  }
 },
 "nbformat": 4,
 "nbformat_minor": 5
}
