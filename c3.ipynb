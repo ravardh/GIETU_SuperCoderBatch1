{
 "cells": [
  {
   "cell_type": "code",
   "execution_count": 1,
   "id": "e3419d90",
   "metadata": {},
   "outputs": [
    {
     "name": "stdout",
     "output_type": "stream",
     "text": [
      "[1, 2, 3, 4, 5, 6, 7, 8]\n"
     ]
    }
   ],
   "source": [
    "# quicksort\n",
    "def find(arr, s, e):\n",
    "    pi = arr[e]\n",
    "    j = s - 1\n",
    "    for i in range(s, e):  # Changed the loop range\n",
    "        if arr[i] < pi:\n",
    "            j = j + 1\n",
    "            arr[i], arr[j] = arr[j], arr[i]\n",
    "    j = j + 1\n",
    "    arr[j], arr[e] = arr[e], arr[j]\n",
    "    return j\n",
    "\n",
    "def quickSort(arr, s, e):\n",
    "    if s < e:\n",
    "        pi = find(arr, s, e)\n",
    "        quickSort(arr, s, pi - 1)\n",
    "        quickSort(arr, pi + 1, e)  # Corrected the index for the second recursive call\n",
    "\n",
    "if __name__ == '__main__':\n",
    "    arr = [1, 8, 3, 5, 6, 2, 7, 4]  # Modified the array for testing\n",
    "    quickSort(arr, 0, len(arr) - 1)\n",
    "    print(arr)\n"
   ]
  },
  {
   "cell_type": "code",
   "execution_count": 2,
   "id": "3ffc8fb8",
   "metadata": {
    "scrolled": true
   },
   "outputs": [
    {
     "name": "stdout",
     "output_type": "stream",
     "text": [
      "[2, 3, 4, 5, 6, 7, 8, 9]\n"
     ]
    }
   ],
   "source": [
    "def merge_sort(arr, lo, ro):\n",
    "    if lo < ro:\n",
    "        m = lo + (ro - lo) // 2\n",
    "        merge_sort(arr, lo, m)\n",
    "        merge_sort(arr, m + 1, ro)\n",
    "        merge(arr, lo, m, ro)\n",
    "\n",
    "def merge(arr, lo, m, ro):\n",
    "    l = m - lo + 1\n",
    "    r = ro - m\n",
    "\n",
    "    left_arr = arr[lo:lo + l]\n",
    "    right_arr = arr[m + 1:m + 1 + r]\n",
    "\n",
    "    li = ri = 0\n",
    "    k = lo\n",
    "\n",
    "    while li < l and ri < r:\n",
    "        if left_arr[li] <= right_arr[ri]:\n",
    "            arr[k] = left_arr[li]\n",
    "            li += 1\n",
    "        else:\n",
    "            arr[k] = right_arr[ri]\n",
    "            ri += 1\n",
    "        k += 1\n",
    "\n",
    "    while li < l:\n",
    "        arr[k] = left_arr[li]\n",
    "        li += 1\n",
    "        k += 1\n",
    "\n",
    "    while ri < r:\n",
    "        arr[k] = right_arr[ri]\n",
    "        ri += 1\n",
    "        k += 1\n",
    "\n",
    "def main():\n",
    "    arr = [5, 4, 2, 6, 3, 8, 9, 7]\n",
    "    merge_sort(arr, 0, len(arr) - 1)\n",
    "    print(arr)\n",
    "\n",
    "if __name__ == \"__main__\":\n",
    "    main()\n"
   ]
  },
  {
   "cell_type": "code",
   "execution_count": 6,
   "id": "447c249f",
   "metadata": {},
   "outputs": [
    {
     "name": "stdout",
     "output_type": "stream",
     "text": [
      "20\n"
     ]
    }
   ],
   "source": [
    "#find the max sum of k consecutive elements in the array\n",
    " def maximumSum(A, N, K):\n",
    "    max_sum = 0\n",
    "    \n",
    "    for i in range(N - K + 1):\n",
    "        dupl_arr = A[i:i + K]\n",
    "        dupl_arr.sort()\n",
    "        flag = True\n",
    "        for j in range(1, K): \n",
    "            if (dupl_arr[j] - dupl_arr[j - 1] != 1):\n",
    "                flag = False\n",
    "                break\n",
    "        if (flag):\n",
    "            curr_sum = sum(dupl_arr)\n",
    "            max_sum = max(max_sum, curr_sum)\n",
    "    \n",
    "    return max_sum\n",
    "\n",
    "if __name__ == '__main__':\n",
    "    arr = [5, 4, 2, 6, 3, 8, 9, 7, 4, 7, 3, 6, 9, 8, 2, 4, 6, 8, 6, 2, 3, 4, 5, 1, 4, 2]\n",
    "    K = 5\n",
    "    N = len(arr)\n",
    "    print(maximumSum(arr, N, K))\n",
    "\n"
   ]
  },
  {
   "cell_type": "code",
   "execution_count": null,
   "id": "7b7fd195",
   "metadata": {},
   "outputs": [],
   "source": []
  }
 ],
 "metadata": {
  "kernelspec": {
   "display_name": "Python 3 (ipykernel)",
   "language": "python",
   "name": "python3"
  },
  "language_info": {
   "codemirror_mode": {
    "name": "ipython",
    "version": 3
   },
   "file_extension": ".py",
   "mimetype": "text/x-python",
   "name": "python",
   "nbconvert_exporter": "python",
   "pygments_lexer": "ipython3",
   "version": "3.11.4"
  }
 },
 "nbformat": 4,
 "nbformat_minor": 5
}
