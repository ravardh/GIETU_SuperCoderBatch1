{
 "cells": [
  {
   "cell_type": "code",
   "execution_count": 1,
   "id": "deb03613",
   "metadata": {},
   "outputs": [
    {
     "name": "stdout",
     "output_type": "stream",
     "text": [
      "10 \n",
      "9 14 \n",
      "5 12 17 \n",
      "2 7 15 \n",
      "3 8 "
     ]
    }
   ],
   "source": [
    "#BST CONSTRUCTION\n",
    "\n",
    "arr = [10, 14, 17, 9, 5, 15, 12, 7, 8, 2, 3]\n",
    "\n",
    "class TreeNode:\n",
    "    def __init__(self, data):\n",
    "        self.data = data\n",
    "        self.left = None\n",
    "        self.right = None\n",
    "\n",
    "def bst_insert(root, data):\n",
    "    if root is None:\n",
    "        return TreeNode(data)\n",
    "\n",
    "    if data < root.data:\n",
    "        root.left = bst_insert(root.left, data)\n",
    "        \n",
    "    elif data > root.data:\n",
    "        root.right = bst_insert(root.right, data)\n",
    "\n",
    "    return root\n",
    "\n",
    "def construct_bst(arr):\n",
    "    if not arr:\n",
    "        return None\n",
    "\n",
    "    root = TreeNode(arr[0])\n",
    "    for i in range(1, len(arr)):\n",
    "        root = bst_insert(root, arr[i])\n",
    "\n",
    "    return root\n",
    "\n",
    "def levelorder(root):\n",
    "    queue=[]\n",
    "    queue.append(root)\n",
    "    queue.append(None)\n",
    "    while len(queue)>1:\n",
    "        front=queue.pop(0)\n",
    "        if front is not None:\n",
    "            print(front.data,end=\" \")\n",
    "            if front.left!=None:\n",
    "                queue.append(front.left)\n",
    "            if front.right!=None:\n",
    "                queue.append(front.right)\n",
    "        else:\n",
    "            print()\n",
    "            queue.append(None)\n",
    "            \n",
    "root = construct_bst(arr)\n",
    "levelorder(root)"
   ]
  },
  {
   "cell_type": "code",
   "execution_count": 2,
   "id": "d47d5efd",
   "metadata": {},
   "outputs": [
    {
     "name": "stdout",
     "output_type": "stream",
     "text": [
      "The left view of the tree is: \n",
      "9\n",
      "7\n",
      "6\n",
      "5\n",
      "17\n"
     ]
    }
   ],
   "source": [
    "#LEFT VIEW TREE\n",
    "\n",
    "class TreeNode:\n",
    "    def __init__(self,data):\n",
    "        self.data=data\n",
    "        self.left=None\n",
    "        self.right=None\n",
    "        self.key=0\n",
    "        \n",
    "def leftView(root):\n",
    "    q=[]\n",
    "    q.append(root)\n",
    "    q.append(None)\n",
    "    print(root.data)\n",
    "    while len(q)>1:\n",
    "        curr=q.pop(0)\n",
    "        if(curr!=None):\n",
    "            if(curr.left):\n",
    "                q.append(curr.left)\n",
    "            if(curr.right):\n",
    "                q.append(curr.right)\n",
    "        if(curr==None):\n",
    "           print(q[0].data)\n",
    "           q.append(None)\n",
    "           \n",
    "root=TreeNode(9)\n",
    "root.left=TreeNode(7)\n",
    "root.right=TreeNode(1)\n",
    "root.left.left=TreeNode(6)\n",
    "root.left.right=TreeNode(4)\n",
    "root.right.left=TreeNode(3)\n",
    "root.right.right=TreeNode(2)\n",
    "root.left.left.right=TreeNode(5)\n",
    "root.right.left.left=TreeNode(10)\n",
    "root.right.left.right=TreeNode(12)\n",
    "root.right.left.right.right=TreeNode(17)\n",
    "\n",
    "print(\"The LEFT view of the tree is: \")\n",
    "leftView(root)"
   ]
  },
  {
   "cell_type": "code",
   "execution_count": 3,
   "id": "3f757732",
   "metadata": {},
   "outputs": [
    {
     "name": "stdout",
     "output_type": "stream",
     "text": [
      "The RIGHT view of the tree is: \n",
      "9\n",
      "1\n",
      "2\n",
      "12\n",
      "17\n"
     ]
    }
   ],
   "source": [
    "# RIGHT VIEW TREE\n",
    "\n",
    "class TreeNode:\n",
    "    def __init__(self,data):\n",
    "        self.data=data\n",
    "        self.left=None\n",
    "        self.right=None\n",
    "        self.key=0\n",
    "        \n",
    "def rightView(root):\n",
    "    q=[]\n",
    "    q.append(root)\n",
    "    q.append(None)\n",
    "    print(root.data)\n",
    "    while len(q)>1:\n",
    "        curr=q.pop(0)\n",
    "        if(curr!=None):\n",
    "            if(curr.left):\n",
    "                q.append(curr.left)\n",
    "            if(curr.right):\n",
    "                q.append(curr.right)\n",
    "        if(curr==None):\n",
    "           print(q[len(q)-1].data)\n",
    "           q.append(None)\n",
    "           \n",
    "root=TreeNode(9)\n",
    "root.left=TreeNode(7)\n",
    "root.right=TreeNode(1)\n",
    "root.left.left=TreeNode(6)\n",
    "root.left.right=TreeNode(4)\n",
    "root.right.left=TreeNode(3)\n",
    "root.right.right=TreeNode(2)\n",
    "root.left.left.right=TreeNode(5)\n",
    "root.right.left.left=TreeNode(10)\n",
    "root.right.left.right=TreeNode(12)\n",
    "root.right.left.right.right=TreeNode(17)\n",
    "\n",
    "print(\"The RIGHT view of the tree is: \")\n",
    "rightView(root)"
   ]
  },
  {
   "cell_type": "code",
   "execution_count": null,
   "id": "349fa097",
   "metadata": {},
   "outputs": [],
   "source": []
  }
 ],
 "metadata": {
  "kernelspec": {
   "display_name": "Python 3 (ipykernel)",
   "language": "python",
   "name": "python3"
  },
  "language_info": {
   "codemirror_mode": {
    "name": "ipython",
    "version": 3
   },
   "file_extension": ".py",
   "mimetype": "text/x-python",
   "name": "python",
   "nbconvert_exporter": "python",
   "pygments_lexer": "ipython3",
   "version": "3.11.5"
  }
 },
 "nbformat": 4,
 "nbformat_minor": 5
}
