{
 "cells": [
  {
   "cell_type": "code",
   "execution_count": null,
   "id": "bd93d178",
   "metadata": {},
   "outputs": [],
   "source": [
    "\n",
    "from collections import defaultdict\n",
    "import heapq\n",
    "\n",
    "class Graph:\n",
    "    def __init__(self):\n",
    "        self.adj_list = defaultdict(list)\n",
    "\n",
    "    def add_edge(self, u, v, weight):\n",
    "        self.adj_list[u].append((v, weight))\n",
    "        self.adj_list[v].append((u, weight))  # Undirected graph\n",
    "\n",
    "    def prim_mst(self, start):\n",
    "        visited = set()\n",
    "        min_heap = [(0, start)]  # (weight, node)\n",
    "        mst_weight = 0\n",
    "        mst_edges = []\n",
    "\n",
    "        while min_heap:\n",
    "            weight, node = heapq.heappop(min_heap)\n",
    "            if node not in visited:\n",
    "                visited.add(node)\n",
    "                mst_weight += weight\n",
    "                for neighbor, neighbor_weight in self.adj_list[node]:\n",
    "                    if neighbor not in visited:\n",
    "                        heapq.heappush(min_heap, (neighbor_weight, neighbor))\n",
    "                        mst_edges.append((node, neighbor, neighbor_weight))\n",
    "\n",
    "        return mst_weight, mst_edges\n",
    "\n",
    "# Example usage:\n",
    "g = Graph()\n",
    "g.add_edge('A', 'B', 4)\n",
    "g.add_edge('A', 'C', 1)\n",
    "g.add_edge('B', 'C', 2)\n",
    "g.add_edge('B', 'D', 5)\n",
    "g.add_edge('C', 'D', 3)\n",
    "\n",
    "start_node = 'A'\n",
    "mst_weight, mst_edges = g.prim_mst(start_node)\n",
    "print(\"Minimum Spanning Tree Weight:\", mst_weight)\n",
    "print(\"Minimum Spanning Tree Edges:\")\n",
    "for edge in mst_edges:\n",
    "    print(edge)"
   ]
  }
 ],
 "metadata": {
  "kernelspec": {
   "display_name": "Python 3 (ipykernel)",
   "language": "python",
   "name": "python3"
  },
  "language_info": {
   "codemirror_mode": {
    "name": "ipython",
    "version": 3
   },
   "file_extension": ".py",
   "mimetype": "text/x-python",
   "name": "python",
   "nbconvert_exporter": "python",
   "pygments_lexer": "ipython3",
   "version": "3.11.3"
  }
 },
 "nbformat": 4,
 "nbformat_minor": 5
}
