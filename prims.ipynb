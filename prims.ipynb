{
 "cells": [
  {
   "cell_type": "code",
   "execution_count": 1,
   "id": "d64d9405-4a9e-482e-81a5-72d762b152a2",
   "metadata": {},
   "outputs": [
    {
     "name": "stdout",
     "output_type": "stream",
     "text": [
      "Minimum Spanning Tree:\n",
      "Edge: 1-5 Weight: 4\n",
      "Edge: 5-4 Weight: 1\n",
      "Edge: 4-3 Weight: 3\n",
      "Edge: 3-2 Weight: 2\n",
      "Edge: 4-6 Weight: 7\n",
      "Edge: 4-8 Weight: 10\n",
      "Edge: 8-7 Weight: 9\n",
      "Total Weight: 36\n"
     ]
    }
   ],
   "source": [
    "import heapq\n",
    "\n",
    "def prim(graph):\n",
    "    num_vertices = len(graph)\n",
    "    min_spanning_tree = []\n",
    "    visited = [False] * num_vertices\n",
    "    min_heap = []  \n",
    "    start_vertex = '1'\n",
    "    visited[int(start_vertex) - 1] = True\n",
    "    total_weight = 0\n",
    "    predecessor = {vertex: None for vertex in graph}\n",
    "\n",
    "    for neighbor, neighbor_weight in graph[start_vertex]:\n",
    "        heapq.heappush(min_heap, (neighbor_weight, start_vertex, neighbor))\n",
    "\n",
    "    while min_heap:\n",
    "        weight, src, dest = heapq.heappop(min_heap)\n",
    "        if not visited[int(dest) - 1]:\n",
    "            visited[int(dest) - 1] = True\n",
    "            min_spanning_tree.append((weight, src, dest))\n",
    "            total_weight += weight\n",
    "            for neighbor, neighbor_weight in graph[dest]:\n",
    "                if not visited[int(neighbor) - 1]:\n",
    "                    heapq.heappush(min_heap, (neighbor_weight, dest, neighbor))\n",
    "                    predecessor[neighbor] = dest\n",
    "\n",
    "    return min_spanning_tree, total_weight\n",
    "\n",
    "graph = {\n",
    "    '1': [('2', 6), ('3', 5), ('5', 4)],\n",
    "    '5': [('1', 4), ('4', 1), ('6', 8)],\n",
    "    '6': [('5', 8), ('4', 7)],\n",
    "    '4': [('3', 3), ('5', 1), ('8', 10), ('6', 7)],\n",
    "    '8': [('4', 10), ('7', 9)],\n",
    "    '7': [('3', 11), ('8', 9)],\n",
    "    '3': [('1', 5), ('4', 3), ('7', 11), ('2', 2)],\n",
    "    '2': [('1', 6), ('3', 2)],\n",
    "}\n",
    "\n",
    "min_spanning_tree, total_weight = prim(graph)\n",
    "print(\"Minimum Spanning Tree:\")\n",
    "for weight, src, dest in min_spanning_tree:\n",
    "    print(f\"Edge: {src}-{dest} Weight: {weight}\")\n",
    "print(f\"Total Weight: {total_weight}\")\n"
   ]
  },
  {
   "cell_type": "code",
   "execution_count": null,
   "id": "76839a91-699b-43a5-bb73-2589e209784b",
   "metadata": {},
   "outputs": [],
   "source": []
  }
 ],
 "metadata": {
  "kernelspec": {
   "display_name": "Python 3 (ipykernel)",
   "language": "python",
   "name": "python3"
  },
  "language_info": {
   "codemirror_mode": {
    "name": "ipython",
    "version": 3
   },
   "file_extension": ".py",
   "mimetype": "text/x-python",
   "name": "python",
   "nbconvert_exporter": "python",
   "pygments_lexer": "ipython3",
   "version": "3.10.0"
  }
 },
 "nbformat": 4,
 "nbformat_minor": 5
}
