{
 "cells": [
  {
   "cell_type": "code",
   "execution_count": 1,
   "id": "0b410901",
   "metadata": {},
   "outputs": [
    {
     "name": "stdout",
     "output_type": "stream",
     "text": [
      "DFS Traversal starting from node 4: [4, 5, 6, 9, 8, 10, 1, 2, 3, 7, 11]\n"
     ]
    }
   ],
   "source": [
    "class Graph:\n",
    "    def __init__(self):\n",
    "        self.graph = {}\n",
    "\n",
    "    def add_edge(self, u, v):\n",
    "        if u not in self.graph:\n",
    "            self.graph[u] = []\n",
    "        self.graph[u].append(v)\n",
    "\n",
    "    def dfs(self, start, visited=None, traversal=None):\n",
    "        if visited is None:\n",
    "            visited = set()\n",
    "        if traversal is None:\n",
    "            traversal = []\n",
    "\n",
    "        visited.add(start)\n",
    "        traversal.append(start)\n",
    "\n",
    "        if start in self.graph:\n",
    "            for neighbor in self.graph[start]:\n",
    "                if neighbor not in visited:\n",
    "                    self.dfs(neighbor, visited, traversal)\n",
    "\n",
    "        return traversal\n",
    "\n",
    "g = Graph()\n",
    "\n",
    "g.add_edge(1,2)\n",
    "g.add_edge(1,3)\n",
    "g.add_edge(1,10)\n",
    "g.add_edge(2,4)\n",
    "g.add_edge(3,7)\n",
    "g.add_edge(4,5)\n",
    "g.add_edge(4,7)\n",
    "g.add_edge(5,4)\n",
    "g.add_edge(5,6)\n",
    "g.add_edge(6,9)\n",
    "g.add_edge(6,10)\n",
    "g.add_edge(7,3)\n",
    "g.add_edge(7,4)\n",
    "g.add_edge(7,11)\n",
    "g.add_edge(8,4)\n",
    "g.add_edge(8,9)\n",
    "g.add_edge(9,6)\n",
    "g.add_edge(9,8)\n",
    "g.add_edge(10,1)\n",
    "g.add_edge(10,6)\n",
    "\n",
    "print(\"DFS Traversal starting from node 4:\", g.dfs(4))"
   ]
  }
 ],
 "metadata": {
  "kernelspec": {
   "display_name": "Python 3 (ipykernel)",
   "language": "python",
   "name": "python3"
  },
  "language_info": {
   "codemirror_mode": {
    "name": "ipython",
    "version": 3
   },
   "file_extension": ".py",
   "mimetype": "text/x-python",
   "name": "python",
   "nbconvert_exporter": "python",
   "pygments_lexer": "ipython3",
   "version": "3.11.3"
  }
 },
 "nbformat": 4,
 "nbformat_minor": 5
}
