{
 "cells": [
  {
   "cell_type": "code",
   "execution_count": 1,
   "id": "f430915f",
   "metadata": {},
   "outputs": [
    {
     "name": "stdout",
     "output_type": "stream",
     "text": [
      "Height of Tree :  5\n"
     ]
    }
   ],
   "source": [
    "# Height of a binary tree\n",
    "\n",
    "class Node:\n",
    "  def __init__(self, data):\n",
    "        self.data = data\n",
    "        self.left = None\n",
    "        self.right = None\n",
    "\n",
    "def height(root):\n",
    "    if root == None:\n",
    "        return 0\n",
    "    \n",
    "    return max(height(root.left), height(root.right)) + 1\n",
    "\n",
    "root = Node(9)\n",
    "\n",
    "root.left = Node(7)\n",
    "root.right = Node(1)\n",
    "\n",
    "root.left.left = Node(6)\n",
    "root.left.right = Node(4)\n",
    "root.right.left = Node(3)\n",
    "root.right.right = Node(2)\n",
    "\n",
    "root.left.left.right = Node(5)\n",
    "root.right.left.left = Node(11)\n",
    "root.right.left.right = Node(12)\n",
    "\n",
    "root.right.left.right.right = Node(17)\n",
    "\n",
    "print(\"Height of Tree : \", height(root))"
   ]
  }
 ],
 "metadata": {
  "kernelspec": {
   "display_name": "Python 3 (ipykernel)",
   "language": "python",
   "name": "python3"
  },
  "language_info": {
   "codemirror_mode": {
    "name": "ipython",
    "version": 3
   },
   "file_extension": ".py",
   "mimetype": "text/x-python",
   "name": "python",
   "nbconvert_exporter": "python",
   "pygments_lexer": "ipython3",
   "version": "3.11.3"
  }
 },
 "nbformat": 4,
 "nbformat_minor": 5
}
