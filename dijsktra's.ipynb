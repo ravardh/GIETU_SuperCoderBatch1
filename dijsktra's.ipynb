{
 "cells": [
  {
   "cell_type": "code",
   "execution_count": 1,
   "id": "4f5eddbc",
   "metadata": {},
   "outputs": [
    {
     "name": "stdout",
     "output_type": "stream",
     "text": [
      "Shortest distances from node 1:\n",
      "{'1': 0, '2': 4, '3': 12, '4': 19, '5': 21, '6': 11, '7': 9, '8': 8, '9': 14}\n"
     ]
    }
   ],
   "source": [
    "import heapq\n",
    "\n",
    "def dijkstra(graph, start):\n",
    "    \n",
    "    distances = {node: float('inf') for node in graph}\n",
    "    distances[start] = 0\n",
    "    pq = [(0, start)]\n",
    "\n",
    "    while pq:\n",
    "        current_distance, current_node = heapq.heappop(pq)\n",
    "\n",
    "        if current_distance > distances[current_node]:\n",
    "            continue\n",
    "\n",
    "        for neighbor, weight in graph[current_node].items():\n",
    "            distance = current_distance + weight\n",
    "            if distance < distances[neighbor]:\n",
    "                distances[neighbor] = distance\n",
    "                heapq.heappush(pq, (distance, neighbor))\n",
    "\n",
    "    return distances\n",
    "\n",
    "\n",
    "graph = {\n",
    "    '1': {'2': 4, '8': 8},\n",
    "    '2': {'1': 4, '8': 11, '3': 8},\n",
    "    '3': {'2': 8, '9': 2, '6': 4, '4': 7},\n",
    "    '4': {'6': 14, '5': 9},\n",
    "    '5': {'4': 9, '6': 10},\n",
    "    '6': {'4': 14,'5': 10, '3': 4, '7': 2},\n",
    "    '7': {'9': 6,'6': 2, '8': 1},\n",
    "    '8': {'1': 8,'2': 11,'9': 7,'7': 1},\n",
    "    '9': {'3': 2,'7': 6,'8':7}\n",
    "}\n",
    "\n",
    "start_node = '1'\n",
    "shortest_distances = dijkstra(graph, start_node)\n",
    "print(\"Shortest distances from node\", start_node + \":\")\n",
    "print(shortest_distances)\n"
   ]
  },
  {
   "cell_type": "code",
   "execution_count": null,
   "id": "c6ec8500",
   "metadata": {},
   "outputs": [],
   "source": []
  }
 ],
 "metadata": {
  "kernelspec": {
   "display_name": "Python 3 (ipykernel)",
   "language": "python",
   "name": "python3"
  },
  "language_info": {
   "codemirror_mode": {
    "name": "ipython",
    "version": 3
   },
   "file_extension": ".py",
   "mimetype": "text/x-python",
   "name": "python",
   "nbconvert_exporter": "python",
   "pygments_lexer": "ipython3",
   "version": "3.10.9"
  }
 },
 "nbformat": 4,
 "nbformat_minor": 5
}
