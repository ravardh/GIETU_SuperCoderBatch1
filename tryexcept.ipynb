{
 "cells": [
  {
   "cell_type": "code",
   "execution_count": 3,
   "id": "073c7c88",
   "metadata": {},
   "outputs": [
    {
     "name": "stdout",
     "output_type": "stream",
     "text": [
      "3\n",
      "Invalid positon\n"
     ]
    }
   ],
   "source": [
    "d={1:'Yeswanth',2:'Virat'}\n",
    "try:\n",
    "    pos=int(input())\n",
    "    print(d[pos])\n",
    "except Exception:\n",
    "    print(\"Invalid positon\")\n",
    "    "
   ]
  },
  {
   "cell_type": "code",
   "execution_count": null,
   "id": "47a326f1",
   "metadata": {},
   "outputs": [],
   "source": []
  }
 ],
 "metadata": {
  "kernelspec": {
   "display_name": "Python 3 (ipykernel)",
   "language": "python",
   "name": "python3"
  },
  "language_info": {
   "codemirror_mode": {
    "name": "ipython",
    "version": 3
   },
   "file_extension": ".py",
   "mimetype": "text/x-python",
   "name": "python",
   "nbconvert_exporter": "python",
   "pygments_lexer": "ipython3",
   "version": "3.11.1"
  }
 },
 "nbformat": 4,
 "nbformat_minor": 5
}
