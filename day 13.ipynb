{
 "cells": [
  {
   "cell_type": "code",
   "execution_count": 19,
   "metadata": {},
   "outputs": [
    {
     "name": "stdout",
     "output_type": "stream",
     "text": [
      "[1, 2, 3, 4, 5, 6, 7, 8, 9]\n"
     ]
    }
   ],
   "source": [
    "def convert_to_adj_list(graph):\n",
    "    adj_list = {}\n",
    "    for edge in graph:\n",
    "        node1, node2 = edge\n",
    "        if node1 not in adj_list:\n",
    "            adj_list[node1] = []\n",
    "        if node2 not in adj_list:\n",
    "            adj_list[node2] = []\n",
    "        adj_list[node1].append(node2)\n",
    "        adj_list[node2].append(node1)  # Assuming the graph is undirected\n",
    "\n",
    "    return adj_list\n",
    "\n",
    "def bfs(adj_list, start):\n",
    "    visited = set()\n",
    "    queue = [start]\n",
    "\n",
    "    while queue:\n",
    "        current_node = queue.pop(0)\n",
    "        visited.add(current_node)\n",
    "        for neighbor in adj_list[current_node]:\n",
    "            if neighbor not in visited:\n",
    "                queue.append(neighbor)\n",
    "\n",
    "    return list(visited)\n",
    "\n",
    "graph = [[(1,2),(1,3),(1,9)],[(2,1),(2,4)],[(3,1),(3,8)],[(4,2),(4,5),(4,6)],[(5,4)],[(6,4),(6,7)],[(7,6),(7,8)],[(8,9),(8,3),(8,7)],[(9,1),(9,8)]\n",
    "\n",
    "adj_list = convert_to_adj_list(graph)\n",
    "visited_nodes = bfs(adj_list, 2) \n",
    "print(visited_nodes)\n"
   ]
  },
  {
   "cell_type": "code",
   "execution_count": 5,
   "metadata": {},
   "outputs": [
    {
     "name": "stdout",
     "output_type": "stream",
     "text": [
      "1 2 3 9 4 8 5 6 7 "
     ]
    }
   ],
   "source": [
    "class Graph:\n",
    "    def __init__(self,v):\n",
    "        self.v = v\n",
    "        self.adj_list = [[] for _ in range(v)]\n",
    "\n",
    "    def add_edge(self,s,d,w):\n",
    "        self.adj_list[s-1].append((s,d,w))\n",
    "        \n",
    "    def bfs(self, start):\n",
    "        visited = set()\n",
    "        queue = [start]\n",
    "        while queue:\n",
    "            node = queue.pop(0)\n",
    "            if node not in visited:\n",
    "                print(node, end=\" \")\n",
    "                visited.add(node)\n",
    "                for i in range(len(self.adj_list[node-1])):\n",
    "                    x=self.adj_list[node-1][i][1]\n",
    "                    if x not in visited:\n",
    "                        queue.append(x)\n",
    "                \n",
    "       \n",
    "graph = Graph(9)\n",
    "graph.add_edge(1,2,1)\n",
    "graph.add_edge(1,3,1)\n",
    "graph.add_edge(1,9,1)\n",
    "graph.add_edge(2,4,1)\n",
    "graph.add_edge(2,1,1)\n",
    "graph.add_edge(3,1,1)\n",
    "graph.add_edge(3,8,1)\n",
    "graph.add_edge(4,5,1)\n",
    "graph.add_edge(4,6,1)\n",
    "graph.add_edge(4,2,1)\n",
    "graph.add_edge(5,4,1)\n",
    "graph.add_edge(6,4,1)\n",
    "graph.add_edge(6,7,1)\n",
    "graph.add_edge(7,6,1)\n",
    "graph.add_edge(7,8,1)\n",
    "graph.add_edge(8,3,1)\n",
    "graph.add_edge(8,9,1)\n",
    "graph.add_edge(9,1,1)\n",
    "graph.add_edge(9,8,1)\n",
    "\n",
    "\n",
    "graph.bfs(1)"
   ]
  },
  {
   "cell_type": "code",
   "execution_count": null,
   "metadata": {},
   "outputs": [],
   "source": []
  },
  {
   "cell_type": "code",
   "execution_count": null,
   "metadata": {},
   "outputs": [],
   "source": []
  }
 ],
 "metadata": {
  "kernelspec": {
   "display_name": "Python 3",
   "language": "python",
   "name": "python3"
  },
  "language_info": {
   "codemirror_mode": {
    "name": "ipython",
    "version": 3
   },
   "file_extension": ".py",
   "mimetype": "text/x-python",
   "name": "python",
   "nbconvert_exporter": "python",
   "pygments_lexer": "ipython3",
   "version": "3.8.5"
  }
 },
 "nbformat": 4,
 "nbformat_minor": 4
}
