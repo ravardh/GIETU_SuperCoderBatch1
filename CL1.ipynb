{
 "cells": [
  {
   "cell_type": "code",
   "id": "d75aa74e-d65b-45bc-9395-63e8043075e0",
   "metadata": {},
   "source": [
    "num1=int(input(\"Enter number 1:\"))\n",
    "num2=int(input(\"Enter number 2:\"))\n",
    "calc=input(\"Enter input:\")\n",
    "match calc:\n",
    "    case \"add\":\n",
    "        print(\"Addition is\",num1+num2)\n",
    "    case \"sub\":\n",
    "        print(\"Sub is\",num1-num2)\n",
    "    case \"mul\":\n",
    "        print(\"mul is\",num1*num2)\n",
    "    case \"div\":\n",
    "        print(\"div is\",num1/num2)\n",
    "    case\"_\":\n",
    "        println(\"wrong\")\n",
    "        "
   ]
  },
  {
   "cell_type": "code",
   "execution_count": null,
   "id": "40f7321c-7e30-4394-85bc-7fd18520d4ee",
   "metadata": {},
   "outputs": [],
   "source": []
  },
  {
   "cell_type": "markdown",
   "id": "36094d82-bf1d-4e4e-9db3-5d5448278173",
   "metadata": {},
   "source": []
  }
 ],
 "metadata": {
  "kernelspec": {
   "display_name": "Python 3 (ipykernel)",
   "language": "python",
   "name": "python3"
  },
  "language_info": {
   "codemirror_mode": {
    "name": "ipython",
    "version": 3
   },
   "file_extension": ".py",
   "mimetype": "text/x-python",
   "name": "python",
   "nbconvert_exporter": "python",
   "pygments_lexer": "ipython3",
   "version": "3.12.2"
  }
 },
 "nbformat": 4,
 "nbformat_minor": 5
}
