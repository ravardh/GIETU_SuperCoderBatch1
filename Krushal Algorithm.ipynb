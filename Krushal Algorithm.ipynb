{
 "cells": [
  {
   "cell_type": "code",
   "execution_count": 3,
   "id": "2c791409",
   "metadata": {},
   "outputs": [
    {
     "ename": "IndexError",
     "evalue": "list index out of range",
     "output_type": "error",
     "traceback": [
      "\u001b[1;31m---------------------------------------------------------------------------\u001b[0m",
      "\u001b[1;31mIndexError\u001b[0m                                Traceback (most recent call last)",
      "Cell \u001b[1;32mIn[3], line 59\u001b[0m\n\u001b[0;32m     57\u001b[0m g\u001b[38;5;241m.\u001b[39madd_edge(\u001b[38;5;241m1\u001b[39m, \u001b[38;5;241m3\u001b[39m, \u001b[38;5;241m20\u001b[39m)\n\u001b[0;32m     58\u001b[0m g\u001b[38;5;241m.\u001b[39madd_edge(\u001b[38;5;241m2\u001b[39m, \u001b[38;5;241m3\u001b[39m, \u001b[38;5;241m30\u001b[39m)\n\u001b[1;32m---> 59\u001b[0m g\u001b[38;5;241m.\u001b[39madd_edge(\u001b[38;5;241m2\u001b[39m, \u001b[38;5;241m4\u001b[39m, \u001b[38;5;241m5\u001b[39m)\n\u001b[0;32m     61\u001b[0m mst \u001b[38;5;241m=\u001b[39m kruskal_mst(g)\n\u001b[0;32m     62\u001b[0m total_weight \u001b[38;5;241m=\u001b[39m \u001b[38;5;28msum\u001b[39m(edge[\u001b[38;5;241m2\u001b[39m] \u001b[38;5;28;01mfor\u001b[39;00m edge \u001b[38;5;129;01min\u001b[39;00m mst)\n",
      "Cell \u001b[1;32mIn[3], line 9\u001b[0m, in \u001b[0;36mGraph.add_edge\u001b[1;34m(self, s, d, w)\u001b[0m\n\u001b[0;32m      7\u001b[0m \u001b[38;5;28;01mdef\u001b[39;00m \u001b[38;5;21madd_edge\u001b[39m(\u001b[38;5;28mself\u001b[39m, s, d, w):\n\u001b[0;32m      8\u001b[0m     \u001b[38;5;28mself\u001b[39m\u001b[38;5;241m.\u001b[39madj_list[s]\u001b[38;5;241m.\u001b[39mappend((s, d, w))\n\u001b[1;32m----> 9\u001b[0m     \u001b[38;5;28mself\u001b[39m\u001b[38;5;241m.\u001b[39madj_list[d]\u001b[38;5;241m.\u001b[39mappend((d, s, w))\n",
      "\u001b[1;31mIndexError\u001b[0m: list index out of range"
     ]
    }
   ],
   "source": [
    "class Graph:\n",
    "    def __init__(self,v):\n",
    "        self.v = v\n",
    "        self.adj_list=[[] for _ in range(v)]\n",
    "        self.visited=set()\n",
    "\n",
    "    def add_edge(self, s, d, w):\n",
    "        self.adj_list[s].append((s, d, w))\n",
    "        self.adj_list[d].append((d, s, w))\n",
    "\n",
    "\n",
    "def find(parent, i):\n",
    "    if parent[i] == i:\n",
    "        return i\n",
    "    return find(parent, parent[i])\n",
    "\n",
    "def union(parent, rank, x, y):\n",
    "    x_root = find(parent, x)\n",
    "    y_root = find(parent, y)\n",
    "\n",
    "    if rank[x_root] < rank[y_root]:\n",
    "        parent[x_root] = y_root\n",
    "    elif rank[x_root] > rank[y_root]:\n",
    "        parent[y_root] = x_root\n",
    "    else:\n",
    "        parent[y_root] = x_root\n",
    "        rank[x_root] += 1\n",
    "\n",
    "def kruskal_mst(graph):\n",
    "    result = []\n",
    "    i = 0\n",
    "    e = 0\n",
    "    graph.adj_list.sort(key=lambda x: x[2])\n",
    "\n",
    "    parent = []\n",
    "    rank = []\n",
    "\n",
    "    for node in range(graph.v):\n",
    "        parent.append(node)\n",
    "        rank.append(0)\n",
    "\n",
    "    while e < graph.v - 1:\n",
    "        s, d, w = graph.adj_list[i]\n",
    "        i += 1\n",
    "        x = find(parent, s - 1)\n",
    "        y = find(parent, d - 1)\n",
    "\n",
    "        if x != y:\n",
    "            e += 1\n",
    "            result.append((s, d, w))\n",
    "            union(parent, rank, x, y)\n",
    "\n",
    "    return result\n",
    "\n",
    "g = Graph(4)\n",
    "g.add_edge(1, 2, 10)\n",
    "g.add_edge(1, 3, 20)\n",
    "g.add_edge(2, 3, 30)\n",
    "g.add_edge(2, 4, 5)\n",
    "\n",
    "mst = kruskal_mst(g)\n",
    "total_weight = sum(edge[2] for edge in mst)\n",
    "\n",
    "print(\"Edges of Minimum Spanning Tree:\")\n",
    "for edge in mst:\n",
    "    print(edge)\n",
    "print(\"Total weight of Minimum Spanning Tree:\", total_weight)"
   ]
  },
  {
   "cell_type": "code",
   "execution_count": null,
   "id": "19f24fcb",
   "metadata": {},
   "outputs": [],
   "source": []
  }
 ],
 "metadata": {
  "kernelspec": {
   "display_name": "Python 3 (ipykernel)",
   "language": "python",
   "name": "python3"
  },
  "language_info": {
   "codemirror_mode": {
    "name": "ipython",
    "version": 3
   },
   "file_extension": ".py",
   "mimetype": "text/x-python",
   "name": "python",
   "nbconvert_exporter": "python",
   "pygments_lexer": "ipython3",
   "version": "3.11.3"
  }
 },
 "nbformat": 4,
 "nbformat_minor": 5
}
