{
 "cells": [
  {
   "cell_type": "code",
   "execution_count": 5,
   "id": "0526f4bf",
   "metadata": {},
   "outputs": [
    {
     "name": "stdout",
     "output_type": "stream",
     "text": [
      "[1, 6, 11, 14]\n"
     ]
    }
   ],
   "source": [
    "#longest pattern search\n",
    "d='AABCCAABCCAABCABC'\n",
    "p=[]\n",
    "for i in range(0,len(d)-2):\n",
    "    if d[i]=='A':\n",
    "        if d[i+1]=='B':\n",
    "            if d[i+2]=='C':\n",
    "                p.append(i)\n",
    "print(p)\n",
    "            "
   ]
  },
  {
   "cell_type": "code",
   "execution_count": 1,
   "id": "6785dba2",
   "metadata": {},
   "outputs": [
    {
     "name": "stdout",
     "output_type": "stream",
     "text": [
      "[5]\n"
     ]
    }
   ],
   "source": [
    "d = 'ABCADABCDABC'\n",
    "p = []\n",
    "max_length = 0\n",
    "current_length = 0\n",
    "\n",
    "for i in range(len(d)):\n",
    "    if d[i:i+4] == 'ABCD':\n",
    "        current_length += 4\n",
    "    else:\n",
    "        current_length = 0\n",
    "\n",
    "    if current_length > max_length:\n",
    "        max_length = current_length\n",
    "        p = [i]\n",
    "    elif current_length == max_length and max_length > 0:\n",
    "        p.append(i - max_length + 1)\n",
    "\n",
    "print(p)\n"
   ]
  },
  {
   "cell_type": "code",
   "execution_count": 2,
   "id": "c490ee2c",
   "metadata": {},
   "outputs": [
    {
     "name": "stdout",
     "output_type": "stream",
     "text": [
      "Found pattern at index 3\n",
      "Found pattern at index 10\n",
      "Found pattern at index 16\n"
     ]
    }
   ],
   "source": [
    "def KMPSearch(pat, data):\n",
    "\tM = len(pat)\n",
    "\tN = len(data)\n",
    "\t\n",
    "\tlps = [0]*M\n",
    "\tj = 0 \n",
    "\t\n",
    "\tLPS(pat, M, lps)\n",
    "\n",
    "\ti = 0 \n",
    "\twhile (N - i) >= (M - j):\n",
    "\t\tif pat[j] == data[i]:\n",
    "\t\t\ti += 1\n",
    "\t\t\tj += 1\n",
    "\n",
    "\t\tif j == M:\n",
    "\t\t\tprint(\"Found pattern at index \" + str(i-j))\n",
    "\t\t\tj = lps[j-1]\n",
    "\n",
    "\t\telif i < N and pat[j] != data[i]:\n",
    "\t\t\tif j != 0:\n",
    "\t\t\t\tj = lps[j-1]\n",
    "\t\t\telse:\n",
    "\t\t\t\ti += 1\n",
    "\n",
    "\n",
    "\n",
    "def LPS(pat, M, lps):\n",
    "\tlen = 0 \n",
    "\n",
    "\tlps[0] = 0 \n",
    "\ti = 1\n",
    "\n",
    "\t\n",
    "\twhile i < M:\n",
    "\t\tif pat[i] == pat[len]:\n",
    "\t\t\tlen += 1\n",
    "\t\t\tlps[i] = len\n",
    "\t\t\ti += 1\n",
    "\t\telse:\n",
    "\t\t\tif len != 0:\n",
    "\t\t\t\tlen = lps[len-1]\n",
    "\t\t\telse:\n",
    "\t\t\t\tlps[i] = 0\n",
    "\t\t\t\ti += 1\n",
    "\n",
    "\n",
    "# Driver code\n",
    "if __name__ == '__main__':\n",
    "\tdata = \"ABAABABCABABABCAABABCABAC\"\n",
    "\tpat = \"ABABC\"\n",
    "\tKMPSearch(pat, data)"
   ]
  },
  {
   "cell_type": "code",
   "execution_count": 3,
   "id": "63a9894e",
   "metadata": {},
   "outputs": [
    {
     "name": "stdout",
     "output_type": "stream",
     "text": [
      "1 -> 2 -> 3 -> None\n"
     ]
    }
   ],
   "source": [
    "#linked list\n",
    "class Node:\n",
    "    def __init__(self, data ):\n",
    "        self.data = data\n",
    "        self.next = None\n",
    "\n",
    "class LinkedList:\n",
    "    def __init__(self):\n",
    "        self.head = None\n",
    "\n",
    "    def append(self, data):\n",
    "        new_node = Node(data)\n",
    "        if not self.head:\n",
    "            self.head = new_node\n",
    "            return\n",
    "        last_node = self.head\n",
    "        while last_node.next:\n",
    "            last_node = last_node.next\n",
    "        last_node.next = new_node\n",
    "\n",
    "    def display(self):\n",
    "        current = self.head\n",
    "        while current:\n",
    "            print(current.data, end=\" -> \")\n",
    "            current = current.next\n",
    "        print(\"None\")\n",
    "\n",
    "\n",
    "my_linked_list = LinkedList()\n",
    "my_linked_list.append(1)\n",
    "my_linked_list.append(2)\n",
    "my_linked_list.append(3)\n",
    "\n",
    "my_linked_list.display()\n"
   ]
  },
  {
   "cell_type": "code",
   "execution_count": 37,
   "id": "5b175651",
   "metadata": {},
   "outputs": [
    {
     "name": "stdout",
     "output_type": "stream",
     "text": [
      "3->5->none\n"
     ]
    }
   ],
   "source": [
    "class Node:\n",
    "    def __init__(self,data):\n",
    "        self.data=data\n",
    "        self.next=None\n",
    "class LinkedList:\n",
    "    def __init__(self):\n",
    "        self.head=None\n",
    "    def insertatbegin(self,data):\n",
    "        new_node=Node(data)\n",
    "        self.head=new_node\n",
    "    def insertatend(self,data):\n",
    "        new_node = Node(data)\n",
    "        last_node = self.head\n",
    "        while last_node.next:\n",
    "            last_node = last_node.next\n",
    "        last_node.next = new_node\n",
    "    def insertatposition(self,data,position):\n",
    "        new_node=Node(data)\n",
    "        if position==0:\n",
    "            new_node.next=self.head\n",
    "            self.head=new_node\n",
    "        current=self.head\n",
    "        for i in range(position-1):\n",
    "            current=current.next\n",
    "        new_node.next=current.next\n",
    "        current.next=new_node\n",
    "    def deleteatbegin(self):\n",
    "        self.head=self.head.next\n",
    "    def deleteatend(self):\n",
    "        current=self.head\n",
    "        while current.next.next:\n",
    "            current=current.next\n",
    "        current.next=None\n",
    "    def deleteatposition(self,position):\n",
    "        if position==0:\n",
    "            self.head=self.head.next\n",
    "            return\n",
    "        current=self.head\n",
    "        for i in range(position-1):\n",
    "            current.next=current.next.next\n",
    "       \n",
    "        \n",
    "    def display(self):\n",
    "        current=self.head\n",
    "        while current:\n",
    "            print(current.data,end=\"->\")\n",
    "            current=current.next\n",
    "        print(\"none\")\n",
    "a=LinkedList()\n",
    "a.insertatbegin(2)\n",
    "a.insertatposition(3,1)\n",
    "a.insertatposition(4,2)\n",
    "a.insertatposition(5,3)\n",
    "a.insertatend(6)\n",
    "a.deleteatbegin()\n",
    "a.deleteatend()\n",
    "a.deleteatposition(2)\n",
    "a.display()\n",
    "    "
   ]
  },
  {
   "cell_type": "code",
   "execution_count": null,
   "id": "cf6be363",
   "metadata": {},
   "outputs": [],
   "source": []
  },
  {
   "cell_type": "code",
   "execution_count": null,
   "id": "69b6b647",
   "metadata": {},
   "outputs": [],
   "source": []
  }
 ],
 "metadata": {
  "kernelspec": {
   "display_name": "Python 3 (ipykernel)",
   "language": "python",
   "name": "python3"
  },
  "language_info": {
   "codemirror_mode": {
    "name": "ipython",
    "version": 3
   },
   "file_extension": ".py",
   "mimetype": "text/x-python",
   "name": "python",
   "nbconvert_exporter": "python",
   "pygments_lexer": "ipython3",
   "version": "3.10.9"
  }
 },
 "nbformat": 4,
 "nbformat_minor": 5
}
