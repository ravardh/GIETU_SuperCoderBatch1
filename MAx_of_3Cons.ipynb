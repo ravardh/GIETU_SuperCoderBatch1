{
 "cells": [
  {
   "cell_type": "code",
   "execution_count": 20,
   "id": "5602bbc9-50b5-49e6-b248-af7f508a9b0b",
   "metadata": {},
   "outputs": [
    {
     "name": "stdout",
     "output_type": "stream",
     "text": [
      "24 8 9 7\n"
     ]
    }
   ],
   "source": [
    "l=[5,4,2,6,3,8,9,7,4,7,3,6,9,8,2,4,6,8,6,2,3,4,5,1,4,2]\n",
    "Sum=0\n",
    "x,y,z=0,0,0\n",
    "for i in range(len(l)-2):\n",
    "    sum=0\n",
    "    sum=l[i]+l[i+1]+l[i+2]\n",
    "    if(Sum<=sum):\n",
    "        Sum=sum\n",
    "        x,y,z=l[i],l[i+1],l[i+2]\n",
    "print(Sum,x,y,z)"
   ]
  },
  {
   "cell_type": "code",
   "execution_count": 36,
   "id": "1db08f8d-b001-4996-a674-30434c8dffe1",
   "metadata": {},
   "outputs": [
    {
     "name": "stdin",
     "output_type": "stream",
     "text": [
      " 3\n"
     ]
    },
    {
     "name": "stdout",
     "output_type": "stream",
     "text": [
      "25\n"
     ]
    }
   ],
   "source": [
    "l=[5,4,2,6,3,8,9,7,4,7,3,6,9,8,2,4,6,8,6,2,3,4,5,1,4,2,11,12]\n",
    "n=int(input())\n",
    "Sum=0\n",
    "for i in range(len(l)-(n-1)):\n",
    "    sum=0\n",
    "    for j in range(i,i+n):\n",
    "        sum+=l[j]\n",
    "    if(Sum<=sum):\n",
    "        Sum=sum\n",
    "print(Sum)\n",
    "        "
   ]
  },
  {
   "cell_type": "code",
   "execution_count": 54,
   "id": "32a675ba-2a8d-45d0-a11d-0d04e6703a89",
   "metadata": {},
   "outputs": [
    {
     "name": "stdout",
     "output_type": "stream",
     "text": [
      "28\n"
     ]
    },
    {
     "name": "stdin",
     "output_type": "stream",
     "text": [
      " 3\n"
     ]
    },
    {
     "data": {
      "text/plain": [
       "25"
      ]
     },
     "execution_count": 54,
     "metadata": {},
     "output_type": "execute_result"
    }
   ],
   "source": [
    "l=[5,4,2,6,3,8,9,7,4,7,3,6,9,8,2,4,6,8,6,2,3,4,5,1,4,2,11,12]\n",
    "print(len(l))\n",
    "n=int(input())\n",
    "Sum=0\n",
    "for i in range(n):\n",
    "    Sum+=l[i]\n",
    "window=Sum\n",
    "for j in range(len(l)-(n)):\n",
    "    window=(window-l[j])+l[j+(n)]\n",
    "    if(window>Sum):\n",
    "        Sum=window\n",
    "Sum\n",
    "        \n",
    "    \n",
    "    "
   ]
  },
  {
   "cell_type": "code",
   "execution_count": null,
   "id": "61b818a0-85db-4916-9e35-839d244cb527",
   "metadata": {},
   "outputs": [],
   "source": []
  }
 ],
 "metadata": {
  "kernelspec": {
   "display_name": "Python 3 (ipykernel)",
   "language": "python",
   "name": "python3"
  },
  "language_info": {
   "codemirror_mode": {
    "name": "ipython",
    "version": 3
   },
   "file_extension": ".py",
   "mimetype": "text/x-python",
   "name": "python",
   "nbconvert_exporter": "python",
   "pygments_lexer": "ipython3",
   "version": "3.12.1"
  }
 },
 "nbformat": 4,
 "nbformat_minor": 5
}
