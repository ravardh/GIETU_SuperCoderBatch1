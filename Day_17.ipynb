{
 "cells": [
  {
   "cell_type": "code",
   "execution_count": 1,
   "id": "ba435491-14e1-4751-8789-e4555394ca03",
   "metadata": {},
   "outputs": [
    {
     "name": "stdout",
     "output_type": "stream",
     "text": [
      "Vertex   Distance from Source\n",
      "0 \t\t 0\n",
      "1 \t\t 1\n",
      "2 \t\t 3\n",
      "3 \t\t 5\n",
      "4 \t\t 0\n",
      "5 \t\t 4\n",
      "6 \t\t 3\n"
     ]
    }
   ],
   "source": [
    "class Graph:\n",
    "    def __init__(self, vertices):\n",
    "        self.V = vertices\n",
    "        self.graph = []\n",
    "\n",
    "    def addEdge(self, u, v, w):\n",
    "        self.graph.append([u, v, w])\n",
    "\n",
    "    def bellmanFord(self, src):\n",
    "        \n",
    "        distance = [float(\"Inf\")] * self.V\n",
    "        distance[src] = 0\n",
    "\n",
    "        for _ in range(self.V - 1):\n",
    "            for u, v, w in self.graph:\n",
    "                if distance[u] != float(\"Inf\") and distance[u] + w < distance[v]:\n",
    "                    distance[v] = distance[u] + w\n",
    "\n",
    "        for u, v, w in self.graph:\n",
    "            if distance[u] != float(\"Inf\") and distance[u] + w < distance[v]:\n",
    "                print(\"Graph contains negative weight cycle\")\n",
    "                return\n",
    "        print(\"Vertex   Distance from Source\")\n",
    "        for i in range(self.V):\n",
    "            print(f\"{i} \\t\\t {distance[i]}\")\n",
    "\n",
    "edges = [(0, 1, 6), (0, 2, 5), (0, 3, 5), (1, 4, -1), (2, 1, -2), (2, 4, 1), (3, 2, -2), (3, 5, -1), (4, 6, 3), (5, 6, 3)]\n",
    "num_vertices = 7  \n",
    "\n",
    "graph = Graph(num_vertices)\n",
    "for edge in edges:\n",
    "    graph.addEdge(edge[0], edge[1], edge[2])\n",
    "\n",
    "source_vertex = 0  \n",
    "graph.bellmanFord(source_vertex)"
   ]
  },
  {
   "cell_type": "code",
   "execution_count": null,
   "id": "85396a4d-c3bb-48e0-941f-057265d6bbe0",
   "metadata": {},
   "outputs": [],
   "source": []
  }
 ],
 "metadata": {
  "kernelspec": {
   "display_name": "Python 3 (ipykernel)",
   "language": "python",
   "name": "python3"
  },
  "language_info": {
   "codemirror_mode": {
    "name": "ipython",
    "version": 3
   },
   "file_extension": ".py",
   "mimetype": "text/x-python",
   "name": "python",
   "nbconvert_exporter": "python",
   "pygments_lexer": "ipython3",
   "version": "3.11.5"
  }
 },
 "nbformat": 4,
 "nbformat_minor": 5
}
