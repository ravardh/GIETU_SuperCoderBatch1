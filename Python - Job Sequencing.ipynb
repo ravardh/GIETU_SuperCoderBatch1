{
 "cells": [
  {
   "cell_type": "code",
   "execution_count": 1,
   "id": "61c9d4d2",
   "metadata": {},
   "outputs": [
    {
     "name": "stdout",
     "output_type": "stream",
     "text": [
      "['h', 'f', 'e', 'b', 'd', 'c']\n"
     ]
    }
   ],
   "source": [
    "arr = [['a',4,20], \n",
    "              ['b',5,60],\n",
    "              ['c',6,70],\n",
    "              ['d',6,65],\n",
    "              ['e',4,25],\n",
    "              ['f',2,80],\n",
    "              ['g',2,10],\n",
    "              ['h',4,22],\n",
    "        ]\n",
    " \n",
    "n = len(arr)\n",
    "\n",
    "for i in range(n):\n",
    "   for j in range(n-1-i):\n",
    "     if arr[j][2]<arr[j+1][2]:\n",
    "       arr[j],arr[j+1]=arr[j+1],arr[j]\n",
    "       \n",
    "visited=[False]*max(job[1] for job in arr)\n",
    "\n",
    "jobs=['-1']*len(visited)\n",
    "\n",
    "for i in range(len(arr)):\n",
    "   for j in range(arr[i][1],-1,-1):\n",
    "       if visited[j-1]==False:\n",
    "           jobs[j-1]=arr[i][0]\n",
    "           visited[j-1]=True\n",
    "           break\n",
    "print(jobs)\n",
    "        "
   ]
  }
 ],
 "metadata": {
  "kernelspec": {
   "display_name": "Python 3 (ipykernel)",
   "language": "python",
   "name": "python3"
  },
  "language_info": {
   "codemirror_mode": {
    "name": "ipython",
    "version": 3
   },
   "file_extension": ".py",
   "mimetype": "text/x-python",
   "name": "python",
   "nbconvert_exporter": "python",
   "pygments_lexer": "ipython3",
   "version": "3.11.4"
  }
 },
 "nbformat": 4,
 "nbformat_minor": 5
}
