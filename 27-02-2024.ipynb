{
 "cells": [
  {
   "cell_type": "code",
   "execution_count": 3,
   "id": "473396e3",
   "metadata": {},
   "outputs": [
    {
     "name": "stdout",
     "output_type": "stream",
     "text": [
      "4\n",
      "5\n",
      "0\n",
      "6\n",
      "16\n",
      "2\n",
      "45\n",
      "34\n"
     ]
    }
   ],
   "source": [
    "#Print Leaf Node\n",
    "class Node:\n",
    "    def __init__(self,info):\n",
    "        self.data = info\n",
    "        self.left = None\n",
    "        self.right = None\n",
    "root=Node(20) \n",
    "root.left =Node(32)\n",
    "root.right=Node(20) \n",
    "\n",
    "root.left.left =Node(15)\n",
    "root.left.right =Node(12)\n",
    "root.right.left=Node(8) \n",
    "root.right.right=Node(24)\n",
    "\n",
    "root.left.left.left =Node(4)\n",
    "root.left.left.right =Node(5)\n",
    "root.left.right.left =Node(0)\n",
    "root.left.right.right =Node(6)\n",
    "root.right.left.left=Node(16) \n",
    "root.right.left.right=Node(2) \n",
    "root.right.right.left=Node(45)\n",
    "root.right.right.right=Node(34)\n",
    "\n",
    "def leafNode(root):\n",
    "    if root.left==None and root.right==None:\n",
    "        print(root.data)\n",
    "    else:\n",
    "        leafNode(root.left)\n",
    "        leafNode(root.right)\n",
    "    \n",
    "leafNode(root)    \n",
    "    "
   ]
  },
  {
   "cell_type": "code",
   "execution_count": null,
   "id": "aa887163",
   "metadata": {},
   "outputs": [],
   "source": [
    "#Top View"
   ]
  }
 ],
 "metadata": {
  "kernelspec": {
   "display_name": "Python 3 (ipykernel)",
   "language": "python",
   "name": "python3"
  },
  "language_info": {
   "codemirror_mode": {
    "name": "ipython",
    "version": 3
   },
   "file_extension": ".py",
   "mimetype": "text/x-python",
   "name": "python",
   "nbconvert_exporter": "python",
   "pygments_lexer": "ipython3",
   "version": "3.9.12"
  }
 },
 "nbformat": 4,
 "nbformat_minor": 5
}
