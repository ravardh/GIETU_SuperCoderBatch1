{
 "cells": [
  {
   "cell_type": "markdown",
   "id": "3e7f2fe0",
   "metadata": {},
   "source": [
    "# Top Down Approach"
   ]
  },
  {
   "cell_type": "code",
   "execution_count": null,
   "id": "1cb79bfe",
   "metadata": {
    "vscode": {
     "languageId": "plaintext"
    }
   },
   "outputs": [],
   "source": [
    "class TreeNode:\n",
    "    def __init__(self,data):\n",
    "        self.data=data\n",
    "        self.left=None\n",
    "        self.right=None\n",
    "        self.key=0\n",
    "        \n",
    "def topView(root):\n",
    "    q=[root]\n",
    "    key=0\n",
    "    root.key=key\n",
    "    tv=dict()\n",
    "    while len(q)>0:\n",
    "        cur=q.pop(0)\n",
    "        key=cur.key\n",
    "        if key not in tv:\n",
    "            tv[key]=cur.data\n",
    "        if cur.left:\n",
    "            q.append(cur.left)\n",
    "            cur.left.key=key-1\n",
    "        if cur.right:\n",
    "            q.append(cur.right)\n",
    "            cur.right.key=key+1\n",
    "    for x in sorted(tv):\n",
    "        print(tv[x],end=\" \")\n",
    "        \n",
    "root=TreeNode(1)\n",
    "root.left=TreeNode(2)\n",
    "root.right=TreeNode(3)\n",
    "root.left.right=TreeNode(4)\n",
    "root.left.right.right=TreeNode(5)\n",
    "root.left.right.right.right=TreeNode(6)\n",
    "\n",
    "print(\"The top view of the tree is: \")\n",
    "topView(root)"
   ]
  },
  {
   "cell_type": "markdown",
   "id": "50049e9f",
   "metadata": {},
   "source": [
    "# Height and Leaf Node"
   ]
  },
  {
   "cell_type": "code",
   "execution_count": null,
   "id": "8ab7e5ee",
   "metadata": {
    "vscode": {
     "languageId": "plaintext"
    }
   },
   "outputs": [],
   "source": [
    "class node:\n",
    "    def __init__(self, info):\n",
    "        self.info = info\n",
    "        self.left = None\n",
    "        self.right = None\n",
    "\n",
    "def findheight(root):\n",
    "    if root == None:\n",
    "        return 0\n",
    "    right_height = findheight(root.right)\n",
    "    left_height = findheight(root.left)\n",
    "    height = max(left_height, right_height) + 1\n",
    "    return height\n",
    "\n",
    "def leafnode(root):\n",
    "    if root is None:\n",
    "        return\n",
    "    if root.left == None and root.right == None:\n",
    "        print(root.info)\n",
    "    else:\n",
    "        leafnode(root.left)\n",
    "        leafnode(root.right)\n",
    "        \n",
    "root = node(20)\n",
    "root.left = node(32)\n",
    "root.right = node(10)\n",
    "\n",
    "root.left.left = node(15)\n",
    "root.left.right = node(12)\n",
    "root.right.left = node(8)\n",
    "root.right.right = node(24)\n",
    "\n",
    "root.left.left.left = node(4)\n",
    "root.left.right.left = node(50)\n",
    "root.left.right.right = node(6)\n",
    "root.right.right.left = node(16)\n",
    "root.right.right.right = node(2)\n",
    "\n",
    "root.left.right.left.left = node(40)\n",
    "root.left.right.left.right = node(35)\n",
    "\n",
    "\n",
    "        \n",
    "\n",
    "print(\"height of tree\")   \n",
    "print(findheight(root))\n",
    "print(\"Leaf node\")\n",
    "leafnode(root)"
   ]
  }
 ],
 "metadata": {
  "kernelspec": {
   "display_name": "Python 3 (ipykernel)",
   "language": "python",
   "name": "python3"
  },
  "language_info": {
   "codemirror_mode": {
    "name": "ipython",
    "version": 3
   },
   "file_extension": ".py",
   "mimetype": "text/x-python",
   "name": "python",
   "nbconvert_exporter": "python",
   "pygments_lexer": "ipython3",
   "version": "3.10.9"
  }
 },
 "nbformat": 4,
 "nbformat_minor": 5
}
