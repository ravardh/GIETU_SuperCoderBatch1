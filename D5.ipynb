{
 "cells": [
  {
   "cell_type": "code",
   "execution_count": 3,
   "id": "bbbc44c7-9eff-4ce8-84b4-597073b5d885",
   "metadata": {},
   "outputs": [
    {
     "name": "stdout",
     "output_type": "stream",
     "text": [
      "[1, 3, 4, 5, 6, 8, 9]\n"
     ]
    }
   ],
   "source": [
    "#Quick sort\n",
    "\n",
    "def find(arr,s,e):\n",
    "    p=arr[e]\n",
    "    j=s-1\n",
    "    for i in range(s,e):\n",
    "        if arr[i]<p:\n",
    "            j=j+1\n",
    "            arr[i],arr[j]=arr[j],arr[i]\n",
    "    arr[j+1],arr[e]=arr[e],arr[j+1]\n",
    "    return j+1\n",
    "    \n",
    "def quickSort(arr,s,e):\n",
    "    if s<e:\n",
    "        pi=find(arr,s,e)\n",
    "        quickSort(arr,s,pi-1)\n",
    "        quickSort(arr,pi+1,e)\n",
    "\n",
    "if __name__==\"__main__\":\n",
    "    arr=[3,6,4,1,8,5,9]\n",
    "    quickSort(arr,0,len(arr)-1)\n",
    "    print(arr)\n",
    "\n",
    "    "
   ]
  },
  {
   "cell_type": "code",
   "execution_count": 4,
   "id": "ebe728a5-4310-429e-ab42-b1563bb45583",
   "metadata": {},
   "outputs": [
    {
     "name": "stdout",
     "output_type": "stream",
     "text": [
      "Sorted array is:\n",
      "5 6 7 11 12 13 "
     ]
    }
   ],
   "source": [
    "#Merge sort\n",
    "\n",
    "def merge(arr, l, m, r):\n",
    "    n1 = m - l + 1\n",
    "    n2 = r - m\n",
    "    L = [0] * n1\n",
    "    R = [0] * n2\n",
    "    for i in range(n1):\n",
    "        L[i] = arr[l + i]\n",
    "    for j in range(n2):\n",
    "        R[j] = arr[m + 1 + j]\n",
    "    i = 0\n",
    "    j = 0\n",
    "    k = l\n",
    "    while i < n1 and j < n2:\n",
    "        if L[i] <= R[j]:\n",
    "            arr[k] = L[i]\n",
    "            i += 1\n",
    "        else:\n",
    "            arr[k] = R[j]\n",
    "            j += 1\n",
    "        k += 1\n",
    "    while i < n1:\n",
    "        arr[k] = L[i]\n",
    "        i += 1\n",
    "        k += 1\n",
    "\n",
    "    while j < n2:\n",
    "        arr[k] = R[j]\n",
    "        j += 1\n",
    "        k += 1\n",
    "\n",
    "def mergeSort(arr, l, r):\n",
    "    if l < r:\n",
    "        m = l + (r - l) // 2\n",
    "        mergeSort(arr, l, m)\n",
    "        mergeSort(arr, m + 1, r)\n",
    "        merge(arr, l, m, r)\n",
    "\n",
    "arr = [12, 11, 13, 5, 6, 7]\n",
    "n = len(arr)\n",
    "mergeSort(arr, 0, n - 1)\n",
    "print(\"Sorted array is:\")\n",
    "for i in range(n):\n",
    "    print(\"%d\" % arr[i], end=\" \")\n",
    "\n"
   ]
  },
  {
   "cell_type": "code",
   "execution_count": 5,
   "id": "99732071-3c4d-4777-ac3c-4708533dee32",
   "metadata": {},
   "outputs": [
    {
     "name": "stdout",
     "output_type": "stream",
     "text": [
      "max_sum: 24\n"
     ]
    }
   ],
   "source": [
    "#maximum of sum of 3 consecutive element of an array\n",
    "\n",
    "arr=[5,4,2,6,3,8,9,7,4,7,3,6,9,8,2,4,6,8,6,2,3,4,5,1,4,2]\n",
    "l=[]\n",
    "max=0\n",
    "for i in arr:\n",
    "    l.append(arr[i]+arr[i+1]+arr[i+2])\n",
    "for j in l:\n",
    "    if j>max:\n",
    "        max=j\n",
    "print(\"max_sum:\",max)"
   ]
  },
  {
   "cell_type": "code",
   "execution_count": 7,
   "id": "324655d1-fd5c-41cb-9f27-cfeb45e91e46",
   "metadata": {},
   "outputs": [
    {
     "name": "stdin",
     "output_type": "stream",
     "text": [
      "Enter a no 3\n"
     ]
    },
    {
     "name": "stdout",
     "output_type": "stream",
     "text": [
      "Maximum_sum: 24\n"
     ]
    }
   ],
   "source": [
    "#maximum of sum of user input consecutive element of an array\n",
    "\n",
    "def max_sum_consecutive(arr, n):\n",
    "    max_sum = float('-inf')\n",
    "    current_sum = 0  \n",
    "    for i in range(len(arr)):\n",
    "        current_sum += arr[i]\n",
    "        if i >= n:\n",
    "            current_sum -= arr[i - n]\n",
    "        max_sum = max(max_sum, current_sum)\n",
    "    return max_sum\n",
    "\n",
    "arr = [5, 4, 2, 6, 3, 8, 9, 7, 4, 7, 3, 6, 9, 8, 2, 4, 6, 8, 6, 2, 3, 4, 5, 1, 4, 2]\n",
    "n =int(input(\"Enter a no\"))\n",
    "res = max_sum_consecutive(arr, n)\n",
    "print(\"Maximum_sum:\",res)\n"
   ]
  },
  {
   "cell_type": "code",
   "execution_count": null,
   "id": "33323fb1-5369-4085-b8a7-0b17567e9572",
   "metadata": {},
   "outputs": [],
   "source": []
  }
 ],
 "metadata": {
  "kernelspec": {
   "display_name": "Python 3 (ipykernel)",
   "language": "python",
   "name": "python3"
  },
  "language_info": {
   "codemirror_mode": {
    "name": "ipython",
    "version": 3
   },
   "file_extension": ".py",
   "mimetype": "text/x-python",
   "name": "python",
   "nbconvert_exporter": "python",
   "pygments_lexer": "ipython3",
   "version": "3.11.4"
  }
 },
 "nbformat": 4,
 "nbformat_minor": 5
}
