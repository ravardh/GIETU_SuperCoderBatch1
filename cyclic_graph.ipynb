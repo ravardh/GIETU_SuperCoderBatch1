{
 "cells": [
  {
   "cell_type": "code",
   "execution_count": 7,
   "id": "9518295a",
   "metadata": {},
   "outputs": [
    {
     "name": "stdout",
     "output_type": "stream",
     "text": [
      "Cycle is there\n"
     ]
    }
   ],
   "source": [
    "def DFS(start, graph, visited, parent):\n",
    "    visited[start - 1] = True\n",
    "    for i in graph[start - 1]:\n",
    "        if not visited[i[1] - 1]:\n",
    "            parent[i[1] - 1] = start\n",
    "            if DFS(i[1], graph, visited, parent):\n",
    "                return True\n",
    "        elif parent[start - 1] != i[1]:\n",
    "            return True\n",
    "    return False\n",
    "\n",
    "def create_graph(graph, source, destination, weight=1):\n",
    "    graph[source - 1].append((source, destination, weight))\n",
    "\n",
    "v = 7 \n",
    "graph = [[] for _ in range(v)]\n",
    "\n",
    "\n",
    "create_graph(graph,1,2)\n",
    "create_graph(graph,1,3)\n",
    "create_graph(graph,2,1)\n",
    "create_graph(graph,2,4)\n",
    "create_graph(graph,3,1)\n",
    "create_graph(graph,3,4)\n",
    "create_graph(graph,4,2)\n",
    "create_graph(graph,4,3)\n",
    "create_graph(graph,5,3)\n",
    "create_graph(graph,5,6)\n",
    "create_graph(graph,6,5)\n",
    "create_graph(graph,6,7)\n",
    "create_graph(graph,7,6)\n",
    "\n",
    "visited = [False] * len(graph)\n",
    "parent = [0] * len(graph)\n",
    "\n",
    "dfs = DFS(1, graph, visited, parent)\n",
    "if dfs:\n",
    "    print(\"Cycle is there\")\n",
    "else:\n",
    "    print(\"No cycle\")\n"
   ]
  },
  {
   "cell_type": "code",
   "execution_count": null,
   "id": "f98bf95c",
   "metadata": {},
   "outputs": [],
   "source": []
  }
 ],
 "metadata": {
  "kernelspec": {
   "display_name": "Python 3 (ipykernel)",
   "language": "python",
   "name": "python3"
  },
  "language_info": {
   "codemirror_mode": {
    "name": "ipython",
    "version": 3
   },
   "file_extension": ".py",
   "mimetype": "text/x-python",
   "name": "python",
   "nbconvert_exporter": "python",
   "pygments_lexer": "ipython3",
   "version": "3.11.3"
  }
 },
 "nbformat": 4,
 "nbformat_minor": 5
}
