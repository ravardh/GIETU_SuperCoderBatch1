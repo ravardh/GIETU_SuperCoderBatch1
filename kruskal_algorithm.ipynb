{
  "nbformat": 4,
  "nbformat_minor": 0,
  "metadata": {
    "colab": {
      "provenance": [],
      "authorship_tag": "ABX9TyMQJ6ft5CDdAslx5cH2ICZi",
      "include_colab_link": true
    },
    "kernelspec": {
      "name": "python3",
      "display_name": "Python 3"
    },
    "language_info": {
      "name": "python"
    }
  },
  "cells": [
    {
      "cell_type": "markdown",
      "metadata": {
        "id": "view-in-github",
        "colab_type": "text"
      },
      "source": [
        "<a href=\"https://colab.research.google.com/github/ravardh/GIETU_SuperCoderBatch1/blob/Ashish_21cse101/kruskal_algorithm.ipynb\" target=\"_parent\"><img src=\"https://colab.research.google.com/assets/colab-badge.svg\" alt=\"Open In Colab\"/></a>"
      ]
    },
    {
      "cell_type": "code",
      "execution_count": 1,
      "metadata": {
        "colab": {
          "base_uri": "https://localhost:8080/"
        },
        "id": "DrzAJcGJxGv0",
        "outputId": "a2b724ec-ad36-4716-c3f9-a714430c725b"
      },
      "outputs": [
        {
          "output_type": "stream",
          "name": "stdout",
          "text": [
            "Minimum Spanning Tree:\n",
            "('A', 'B', 1)\n",
            "('B', 'C', 2)\n",
            "('C', 'D', 3)\n",
            "('D', 'E', 4)\n"
          ]
        }
      ],
      "source": [
        "class UnionFind:\n",
        "    def __init__(self, vertices):\n",
        "        self.parent = {v: v for v in vertices}\n",
        "        self.rank = {v: 0 for v in vertices}\n",
        "\n",
        "    def find(self, vertex):\n",
        "        if self.parent[vertex] != vertex:\n",
        "            self.parent[vertex] = self.find(self.parent[vertex])\n",
        "        return self.parent[vertex]\n",
        "\n",
        "    def union(self, x, y):\n",
        "        root_x = self.find(x)\n",
        "        root_y = self.find(y)\n",
        "\n",
        "        if root_x == root_y:\n",
        "            return\n",
        "\n",
        "        if self.rank[root_x] < self.rank[root_y]:\n",
        "            self.parent[root_x] = root_y\n",
        "        elif self.rank[root_x] > self.rank[root_y]:\n",
        "            self.parent[root_y] = root_x\n",
        "        else:\n",
        "            self.parent[root_y] = root_x\n",
        "            self.rank[root_x] += 1\n",
        "\n",
        "def kruskal_algorithm(graph):\n",
        "    mst = []\n",
        "    vertices = set(graph.keys())\n",
        "    union_find = UnionFind(vertices)\n",
        "    edges = []\n",
        "\n",
        "    for vertex in graph:\n",
        "        for neighbor, weight in graph[vertex]:\n",
        "            edges.append((weight, vertex, neighbor))\n",
        "\n",
        "    edges.sort()\n",
        "\n",
        "    for edge in edges:\n",
        "        weight, vertex1, vertex2 = edge\n",
        "        if union_find.find(vertex1) != union_find.find(vertex2):\n",
        "            mst.append((vertex1, vertex2, weight))\n",
        "            union_find.union(vertex1, vertex2)\n",
        "\n",
        "    return mst\n",
        "\n",
        "graph = {\n",
        "    'A': [('B', 1), ('C', 5)],\n",
        "    'B': [('A', 1), ('C', 2)],\n",
        "    'C': [('B', 2), ('A', 5), ('D', 3)],\n",
        "    'D': [('C', 3), ('E', 4)],\n",
        "    'E': [('D', 4)]\n",
        "}\n",
        "\n",
        "minimum_spanning_tree = kruskal_algorithm(graph)\n",
        "print(\"Minimum Spanning Tree:\")\n",
        "for edge in minimum_spanning_tree:\n",
        "    print(edge)"
      ]
    },
    {
      "cell_type": "code",
      "source": [],
      "metadata": {
        "id": "U8iO-OF2xHXH"
      },
      "execution_count": null,
      "outputs": []
    }
  ]
}