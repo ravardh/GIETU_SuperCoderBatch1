{
 "cells": [
  {
   "cell_type": "markdown",
   "id": "d5404eb6",
   "metadata": {},
   "source": [
    "# Quick sort\n",
    "# take a pivot element among the elements of the array\n",
    "# need an index to partition the array\n",
    "# after partitioning the elements before the pivot element are considered as a diff. array and the elements after the pivot element as a diff. array"
   ]
  },
  {
   "cell_type": "code",
   "execution_count": 2,
   "id": "0c908e8a",
   "metadata": {},
   "outputs": [
    {
     "name": "stdout",
     "output_type": "stream",
     "text": [
      "[1, 3, 4, 5, 6, 7, 8, 9]\n"
     ]
    }
   ],
   "source": [
    "def find(ar,S,E):\n",
    "    P=ar[E]\n",
    "    j=S-1\n",
    "    for i in range(S,E-1):\n",
    "        if ar[i]<P:\n",
    "            j=j+1\n",
    "            ar[i],ar[j]=ar[j],ar[i] # or we can write j=j+1\n",
    "    ar[j+1],ar[E]=ar[E],ar[j+1]    # and keep it as ar[j]\n",
    "    return j+1\n",
    "def quicksort(ar,S,E):\n",
    "    if S<E:\n",
    "        p=find(ar,S,E)\n",
    "        quicksort(ar,S,p-1)\n",
    "        quicksort(ar,p+1,E)\n",
    "\n",
    "if __name__=='__main__':\n",
    "    ar=[4,8,3,7,5,1,9,6]\n",
    "    quicksort(ar,0,len(ar)-1)\n",
    "    print(ar)"
   ]
  },
  {
   "cell_type": "markdown",
   "id": "1d47f2dc",
   "metadata": {},
   "source": [
    "# Sum of three consecutive terms"
   ]
  },
  {
   "cell_type": "code",
   "execution_count": 3,
   "id": "31b6e61e",
   "metadata": {},
   "outputs": [
    {
     "name": "stdout",
     "output_type": "stream",
     "text": [
      "24\n"
     ]
    }
   ],
   "source": [
    "arr=[5,4,2,6,3,8,9,7,4,7,3,6,9,8,2,4,6,8,6,2,3,4,5,1,4,2]\n",
    "sum=[]\n",
    "for i in range(len(arr)-2):\n",
    "    n1=arr[i]\n",
    "    n2=arr[i+1]\n",
    "    n3=arr[i+2]\n",
    "    sum.append(n1+n2+n3)\n",
    "for i in range(len(sum)):\n",
    "    maximum=max(sum)\n",
    "print(maximum)"
   ]
  }
 ],
 "metadata": {
  "kernelspec": {
   "display_name": "Python 3 (ipykernel)",
   "language": "python",
   "name": "python3"
  },
  "language_info": {
   "codemirror_mode": {
    "name": "ipython",
    "version": 3
   },
   "file_extension": ".py",
   "mimetype": "text/x-python",
   "name": "python",
   "nbconvert_exporter": "python",
   "pygments_lexer": "ipython3",
   "version": "3.10.9"
  }
 },
 "nbformat": 4,
 "nbformat_minor": 5
}
