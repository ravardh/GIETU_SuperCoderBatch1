{
 "cells": [
  {
   "cell_type": "markdown",
   "metadata": {},
   "source": [
    "# Decision making\n",
    "*if else\n",
    "*Match case\n",
    "*if-else\n"
   ]
  },
  {
   "cell_type": "code",
   "execution_count": null,
   "metadata": {},
   "outputs": [],
   "source": [
    "a=int(input())\n",
    "b=int(input())\n",
    "c=int(input())\n",
    "if(a>b and a>c):\n",
    "    print(a)\n",
    "elif(b>c):\n",
    "    print(b)\n",
    "else:\n",
    "    print(c)"
   ]
  },
  {
   "cell_type": "markdown",
   "metadata": {},
   "source": [
    "# Match Case\n",
    "match case only accept constant values"
   ]
  },
  {
   "cell_type": "code",
   "execution_count": 10,
   "metadata": {},
   "outputs": [
    {
     "ename": "SyntaxError",
     "evalue": "invalid syntax (<ipython-input-10-3251a4f343d4>, line 3)",
     "output_type": "error",
     "traceback": [
      "\u001b[1;36m  File \u001b[1;32m\"<ipython-input-10-3251a4f343d4>\"\u001b[1;36m, line \u001b[1;32m3\u001b[0m\n\u001b[1;33m    match age:\u001b[0m\n\u001b[1;37m          ^\u001b[0m\n\u001b[1;31mSyntaxError\u001b[0m\u001b[1;31m:\u001b[0m invalid syntax\n"
     ]
    }
   ],
   "source": [
    "age=str(input(\"enter age\"))\n",
    "\n",
    "match age:\n",
    "    case 18:\n",
    "        print(\"per\")\n",
    "    case_if \"age\" < 18:\n",
    "        print(\"adult\")\n",
    "    case_if \"age\" > 18:\n",
    "        print(\"not adult\")"
   ]
  },
  {
   "cell_type": "code",
   "execution_count": null,
   "metadata": {},
   "outputs": [],
   "source": []
  },
  {
   "cell_type": "code",
   "execution_count": 4,
   "metadata": {},
   "outputs": [
    {
     "name": "stdout",
     "output_type": "stream",
     "text": [
      "enter a no.12\n",
      "enter a no.13\n",
      "what kind of operation\n",
      "addition/subtraction/floor division/multiplication/modulas/division\n",
      "subtraction\n",
      "-1.0\n"
     ]
    }
   ],
   "source": [
    "a=float(input(\"enter a no.\"))\n",
    "b=float(input(\"enter a no.\"))\n",
    "print(\"what kind of operation\")\n",
    "print(\"addition/subtraction/floor division/multiplication/modulas/division\")\n",
    "c=input()\n",
    "\n",
    "if(c==\"addition\"):\n",
    "    print(a+b)\n",
    "elif(c==\"subtraction\"):\n",
    "    print(a-b)\n",
    "elif(c==\"floor division\"):\n",
    "    print(a//b)\n",
    "elif(c==\"multiplication\"):\n",
    "    print(a*b)\n",
    "elif(c==\"modulas\"):\n",
    "    print(a%b)\n",
    "elif(c==\"division\"):\n",
    "    print(a/b)\n",
    "else:\n",
    "    print(\"correct option\")"
   ]
  },
  {
   "cell_type": "code",
   "execution_count": null,
   "metadata": {},
   "outputs": [],
   "source": []
  }
 ],
 "metadata": {
  "kernelspec": {
   "display_name": "Python 3",
   "language": "python",
   "name": "python3"
  },
  "language_info": {
   "codemirror_mode": {
    "name": "ipython",
    "version": 3
   },
   "file_extension": ".py",
   "mimetype": "text/x-python",
   "name": "python",
   "nbconvert_exporter": "python",
   "pygments_lexer": "ipython3",
   "version": "3.8.5"
  }
 },
 "nbformat": 4,
 "nbformat_minor": 4
}
