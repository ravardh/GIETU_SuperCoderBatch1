{
 "cells": [
  {
   "cell_type": "code",
   "execution_count": 1,
   "id": "5593a09d",
   "metadata": {},
   "outputs": [
    {
     "name": "stdout",
     "output_type": "stream",
     "text": [
      "Vertex \t Distance from Source\n",
      "0 \t 0\n",
      "1 \t 4\n",
      "2 \t 12\n",
      "3 \t 19\n",
      "4 \t 21\n",
      "5 \t 11\n",
      "6 \t 9\n",
      "7 \t 8\n",
      "8 \t 14\n"
     ]
    }
   ],
   "source": [
    "class Graph:\n",
    "    def __init__(self, vertices):\n",
    "        self.V = vertices\n",
    "        self.graph = [[0] * vertices for _ in range(vertices)]\n",
    "\n",
    "    def min_distance(self, dist, spt_set):\n",
    "        min_dist = float(\"inf\")\n",
    "        min_index = -1\n",
    "        for v in range(self.V):\n",
    "            if not spt_set[v] and dist[v] < min_dist:\n",
    "                min_dist = dist[v]\n",
    "                min_index = v\n",
    "        return min_index\n",
    "\n",
    "    def dijkstra(self, src):\n",
    "        dist = [float(\"inf\")] * self.V\n",
    "        dist[src] = 0\n",
    "        spt_set = [False] * self.V\n",
    "\n",
    "        for _ in range(self.V):\n",
    "            u = self.min_distance(dist, spt_set)\n",
    "            spt_set[u] = True\n",
    "\n",
    "            for v in range(self.V):\n",
    "                if (\n",
    "                    not spt_set[v]\n",
    "                    and self.graph[u][v]\n",
    "                    and dist[u] + self.graph[u][v] < dist[v]\n",
    "                ):\n",
    "                    dist[v] = dist[u] + self.graph[u][v]\n",
    "\n",
    "        return dist\n",
    "\n",
    "g = Graph(9)\n",
    "g.graph = [\n",
    "    [0, 4, 0, 0, 0, 0, 0, 8, 0],\n",
    "    [4, 0, 8, 0, 0, 0, 0, 11, 0],\n",
    "    [0, 8, 0, 7, 0, 4, 0, 0, 2],\n",
    "    [0, 0, 7, 0, 9, 14, 0, 0, 0],\n",
    "    [0, 0, 0, 9, 0, 10, 0, 0, 0],\n",
    "    [0, 0, 4, 14, 10, 0, 2, 0, 0],\n",
    "    [0, 0, 0, 0, 0, 2, 0, 1, 6],\n",
    "    [8, 11, 0, 0, 0, 0, 1, 0, 7],\n",
    "    [0, 0, 2, 0, 0, 0, 6, 7, 0],\n",
    "]\n",
    "\n",
    "source_vertex = 0\n",
    "shortest_distances = g.dijkstra(source_vertex)\n",
    "\n",
    "print(\"Vertex \\t Distance from Source\")\n",
    "for node in range(g.V):\n",
    "    print(f\"{node} \\t {shortest_distances[node]}\")"
   ]
  },
  {
   "cell_type": "code",
   "execution_count": null,
   "id": "35f546de",
   "metadata": {},
   "outputs": [],
   "source": []
  }
 ],
 "metadata": {
  "kernelspec": {
   "display_name": "Python 3 (ipykernel)",
   "language": "python",
   "name": "python3"
  },
  "language_info": {
   "codemirror_mode": {
    "name": "ipython",
    "version": 3
   },
   "file_extension": ".py",
   "mimetype": "text/x-python",
   "name": "python",
   "nbconvert_exporter": "python",
   "pygments_lexer": "ipython3",
   "version": "3.11.3"
  }
 },
 "nbformat": 4,
 "nbformat_minor": 5
}
