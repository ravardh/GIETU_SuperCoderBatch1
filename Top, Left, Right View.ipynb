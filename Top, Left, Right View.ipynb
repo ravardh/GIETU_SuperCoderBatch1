{
 "cells": [
  {
   "cell_type": "code",
   "execution_count": 21,
   "id": "d413cf6b",
   "metadata": {},
   "outputs": [
    {
     "name": "stdout",
     "output_type": "stream",
     "text": [
      "Left view is:\n",
      "9 7 6 5 17 \n",
      "9 7 6 5 17 \n",
      "Right view is:\n",
      "9 1 2 12 17 "
     ]
    }
   ],
   "source": [
    "class Node:\n",
    "    def __init__(self,data=None):\n",
    "        self.data=data\n",
    "        self.left=None\n",
    "        self.right=None\n",
    "def leftview(root):\n",
    "    Q=[root]\n",
    "    Q.append(None)\n",
    "    print(Q[0].data,end=\" \")\n",
    "    while len(Q)>0:\n",
    "        cur = Q.pop(0)\n",
    "        if cur == None:\n",
    "            if len(Q)>0:\n",
    "                print(Q[0].data,end=\" \")\n",
    "                Q.append(None)\n",
    "        else:\n",
    "            if cur.left != None:\n",
    "                Q.append(cur.left)\n",
    "            if cur.right != None:\n",
    "                Q.append(cur.right)\n",
    "def rightview(root):\n",
    "    Q=[root]\n",
    "    Q.append(None)\n",
    "    print(Q[0].data,end=\" \")\n",
    "    while len(Q)>0:\n",
    "        cur = Q.pop(0)\n",
    "        if cur == None:\n",
    "            if len(Q)>0:\n",
    "                print(Q[len(Q)-1].data,end=\" \")\n",
    "                Q.append(None)\n",
    "        else:\n",
    "            if cur.left != None:\n",
    "                Q.append(cur.left)\n",
    "            if cur.right != None:\n",
    "                Q.append(cur.right)\n",
    "def rec_left(root,level):\n",
    "    global max_level\n",
    "    if(root==None):\n",
    "        return\n",
    "    if(max_level<level):\n",
    "        print(root.data,end=\" \")\n",
    "        max_level=level\n",
    "    rec_left(root.left,level+1)\n",
    "    rec_left(root.right,level+1)\n",
    "max_level=0\n",
    "if __name__==\"__main__\":\n",
    "    root = Node(9)\n",
    "    root.left = Node(7)\n",
    "    root.right = Node(1)\n",
    "    root.left.left = Node(6)\n",
    "    root.left.right = Node(4)\n",
    "    root.right.left = Node(3)\n",
    "    root.right.right = Node(2)\n",
    "    root.left.left.right = Node(5)\n",
    "    root.right.left.left = Node(11)\n",
    "    root.right.left.right = Node(12)\n",
    "    root.right.left.right.right = Node(17)\n",
    "    print(\"Left view is:\")\n",
    "    leftview(root)\n",
    "    print()\n",
    "    rec_left(root,1)\n",
    "    print(\"\\nRight view is:\")\n",
    "    rightview(root)"
   ]
  },
  {
   "cell_type": "code",
   "execution_count": 22,
   "id": "7c56d302",
   "metadata": {},
   "outputs": [
    {
     "name": "stdout",
     "output_type": "stream",
     "text": [
      "The top view of the tree is: \n",
      "2 1 3 6 "
     ]
    }
   ],
   "source": [
    "class newNode:\n",
    "    def __init__(self, key):\n",
    "        self.data = key\n",
    "        self.left = None\n",
    "        self.right = None\n",
    "        self.hd = 0\n",
    "def topview(root):\n",
    " \n",
    "    if(root == None):\n",
    "        return\n",
    "    q = []\n",
    "    m = dict()\n",
    "    hd = 0\n",
    "    root.hd = hd\n",
    "    q.append(root)\n",
    "    while(len(q)):\n",
    "        root = q[0]\n",
    "        hd = root.hd\n",
    "        if hd not in m:\n",
    "            m[hd] = root.data\n",
    "        if(root.left):\n",
    "            root.left.hd = hd - 1\n",
    "            q.append(root.left)\n",
    " \n",
    "        if(root.right):\n",
    "            root.right.hd = hd + 1\n",
    "            q.append(root.right)\n",
    " \n",
    "        q.pop(0)\n",
    "    for i in sorted(m):\n",
    "        print(m[i], end=\" \")\n",
    "if __name__ == '__main__':\n",
    "    root = newNode(1)\n",
    "    root.left = newNode(2)\n",
    "    root.right = newNode(3)\n",
    "    root.left.right = newNode(4)\n",
    "    root.left.right.right = newNode(5)\n",
    "    root.left.right.right.right = newNode(6)\n",
    "    print(\"The top view of the tree is: \")\n",
    "    topview(root)\n"
   ]
  },
  {
   "cell_type": "code",
   "execution_count": null,
   "id": "e14b48d6",
   "metadata": {},
   "outputs": [],
   "source": []
  }
 ],
 "metadata": {
  "kernelspec": {
   "display_name": "Python 3 (ipykernel)",
   "language": "python",
   "name": "python3"
  },
  "language_info": {
   "codemirror_mode": {
    "name": "ipython",
    "version": 3
   },
   "file_extension": ".py",
   "mimetype": "text/x-python",
   "name": "python",
   "nbconvert_exporter": "python",
   "pygments_lexer": "ipython3",
   "version": "3.11.1"
  }
 },
 "nbformat": 4,
 "nbformat_minor": 5
}
