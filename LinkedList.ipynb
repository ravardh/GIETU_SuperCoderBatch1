{
 "cells": [
  {
   "cell_type": "code",
   "execution_count": 1,
   "id": "93e0f6ff",
   "metadata": {},
   "outputs": [
    {
     "name": "stdout",
     "output_type": "stream",
     "text": [
      "1 -> 2 -> 3 -> None\n"
     ]
    }
   ],
   "source": [
    "#LINKED LIST\n",
    "class Node:\n",
    "    def __init__(self, data ):\n",
    "        self.data = data\n",
    "        self.next = None\n",
    "\n",
    "class LinkedList:\n",
    "    def __init__(self):\n",
    "        self.head = None\n",
    "\n",
    "    def append(self, data):\n",
    "        new_node = Node(data)\n",
    "        if not self.head:\n",
    "            self.head = new_node\n",
    "            return\n",
    "        last_node = self.head\n",
    "        while last_node.next:\n",
    "            last_node = last_node.next\n",
    "        last_node.next = new_node\n",
    "\n",
    "    def display(self):\n",
    "        current = self.head\n",
    "        while current:\n",
    "            print(current.data, end=\" -> \")\n",
    "            current = current.next\n",
    "        print(\"None\")\n",
    "\n",
    "\n",
    "my_linked_list = LinkedList()\n",
    "my_linked_list.append(1)\n",
    "my_linked_list.append(2)\n",
    "my_linked_list.append(3)\n",
    "\n",
    "my_linked_list.display()"
   ]
  },
  {
   "cell_type": "code",
   "execution_count": 2,
   "id": "f6af9685",
   "metadata": {},
   "outputs": [
    {
     "name": "stdout",
     "output_type": "stream",
     "text": [
      "3->5->none\n"
     ]
    }
   ],
   "source": [
    "class Node:\n",
    "    def __init__(self,data):\n",
    "        self.data=data\n",
    "        self.next=None\n",
    "class LinkedList:\n",
    "    def __init__(self):\n",
    "        self.head=None\n",
    "    def insertatbegin(self,data):\n",
    "        new_node=Node(data)\n",
    "        self.head=new_node\n",
    "    def insertatend(self,data):\n",
    "        new_node = Node(data)\n",
    "        last_node = self.head\n",
    "        while last_node.next:\n",
    "            last_node = last_node.next\n",
    "        last_node.next = new_node\n",
    "    def insertatposition(self,data,position):\n",
    "        new_node=Node(data)\n",
    "        if position==0:\n",
    "            new_node.next=self.head\n",
    "            self.head=new_node\n",
    "        current=self.head\n",
    "        for i in range(position-1):\n",
    "            current=current.next\n",
    "        new_node.next=current.next\n",
    "        current.next=new_node\n",
    "    def deleteatbegin(self):\n",
    "        self.head=self.head.next\n",
    "    def deleteatend(self):\n",
    "        current=self.head\n",
    "        while current.next.next:\n",
    "            current=current.next\n",
    "        current.next=None\n",
    "    def deleteatposition(self,position):\n",
    "        if position==0:\n",
    "            self.head=self.head.next\n",
    "            return\n",
    "        current=self.head\n",
    "        for i in range(position-1):\n",
    "            current.next=current.next.next\n",
    "        \n",
    "    def display(self):\n",
    "        current=self.head\n",
    "        while current:\n",
    "            print(current.data,end=\"->\")\n",
    "            current=current.next\n",
    "        print(\"none\")\n",
    "a=LinkedList()\n",
    "a.insertatbegin(2)\n",
    "a.insertatposition(3,1)\n",
    "a.insertatposition(4,2)\n",
    "a.insertatposition(5,3)\n",
    "a.insertatend(6)\n",
    "a.deleteatbegin()\n",
    "a.deleteatend()\n",
    "a.deleteatposition(2)\n",
    "a.display()"
   ]
  },
  {
   "cell_type": "code",
   "execution_count": null,
   "id": "a4f4497e",
   "metadata": {},
   "outputs": [],
   "source": []
  }
 ],
 "metadata": {
  "kernelspec": {
   "display_name": "Python 3 (ipykernel)",
   "language": "python",
   "name": "python3"
  },
  "language_info": {
   "codemirror_mode": {
    "name": "ipython",
    "version": 3
   },
   "file_extension": ".py",
   "mimetype": "text/x-python",
   "name": "python",
   "nbconvert_exporter": "python",
   "pygments_lexer": "ipython3",
   "version": "3.11.5"
  }
 },
 "nbformat": 4,
 "nbformat_minor": 5
}
