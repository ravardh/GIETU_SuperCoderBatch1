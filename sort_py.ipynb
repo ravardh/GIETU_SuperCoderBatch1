{
 "cells": [
  {
   "cell_type": "code",
   "execution_count": 7,
   "id": "ac2438b3",
   "metadata": {},
   "outputs": [
    {
     "data": {
      "text/plain": [
       "[1, 3, 7, 8, 12, 23, 25, 45, 64, 67, 68, 90]"
      ]
     },
     "execution_count": 7,
     "metadata": {},
     "output_type": "execute_result"
    }
   ],
   "source": [
    "def bubblesort(arr):\n",
    "  m = len(arr)\n",
    "  for i in range(m-1):\n",
    "    for j in range(i, m):\n",
    "      if arr[i] > arr[j]:\n",
    "        arr[i], arr[j] = arr[j], arr[i]\n",
    "  return arr\n",
    "\n",
    "arr = [23,3,67,8,7,25,12,68,90,45,64,1]\n",
    "bubblesort(arr)"
   ]
  },
  {
   "cell_type": "code",
   "execution_count": 5,
   "id": "02f2d271",
   "metadata": {},
   "outputs": [
    {
     "data": {
      "text/plain": [
       "[1, 3, 7, 8, 12, 23, 25, 45, 64, 67, 68, 90]"
      ]
     },
     "execution_count": 5,
     "metadata": {},
     "output_type": "execute_result"
    }
   ],
   "source": [
    "def insertionsort(arr):\n",
    "  n = len(arr)\n",
    "  for i in range(n):\n",
    "    key = arr[i]\n",
    "    j = i - 1\n",
    "    while(j >= 0 and arr[j] > key):\n",
    "      arr[j + 1] = arr[j]\n",
    "      j -= 1\n",
    "    arr[j + 1] = key\n",
    "  return arr\n",
    "\n",
    "arr = [23,3,67,8,7,25,12,68,90,45,64,1]\n",
    "insertionsort(arr)"
   ]
  },
  {
   "cell_type": "code",
   "execution_count": 4,
   "id": "40b962c7",
   "metadata": {},
   "outputs": [
    {
     "data": {
      "text/plain": [
       "[1, 3, 7, 8, 12, 23, 25, 45, 64, 67, 68, 90]"
      ]
     },
     "execution_count": 4,
     "metadata": {},
     "output_type": "execute_result"
    }
   ],
   "source": [
    "def selectionsort(arr):\n",
    "  n = len(arr)\n",
    "  for i in range(n):\n",
    "    min = i\n",
    "    for j in range(i + 1, n):\n",
    "      if(arr[min] > arr[j]):\n",
    "        min = j\n",
    "    if(min != i):\n",
    "      arr[i], arr[min] = arr[min], arr[i]\n",
    "  return arr\n",
    "\n",
    "arr = [23,3,67,8,7,25,12,68,90,45,64,1]\n",
    "selectionsort(arr)"
   ]
  },
  {
   "cell_type": "code",
   "execution_count": null,
   "id": "d6934896",
   "metadata": {},
   "outputs": [],
   "source": []
  }
 ],
 "metadata": {
  "kernelspec": {
   "display_name": "Python 3 (ipykernel)",
   "language": "python",
   "name": "python3"
  },
  "language_info": {
   "codemirror_mode": {
    "name": "ipython",
    "version": 3
   },
   "file_extension": ".py",
   "mimetype": "text/x-python",
   "name": "python",
   "nbconvert_exporter": "python",
   "pygments_lexer": "ipython3",
   "version": "3.10.9"
  }
 },
 "nbformat": 4,
 "nbformat_minor": 5
}
