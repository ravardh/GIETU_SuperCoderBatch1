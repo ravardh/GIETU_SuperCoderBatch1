{
 "cells": [
  {
   "cell_type": "code",
   "execution_count": 1,
   "id": "a30f27ba",
   "metadata": {},
   "outputs": [
    {
     "name": "stdout",
     "output_type": "stream",
     "text": [
      "Left View : [9, 7, 6, 5, 17]\n"
     ]
    }
   ],
   "source": [
    "# Left View\n",
    "\n",
    "class Node:\n",
    "    def __init__(self, data):\n",
    "        self.data = data\n",
    "        self.left = None\n",
    "        self.right = None\n",
    "\n",
    "def left_view(root):\n",
    "    left = []\n",
    "    def inorder_traversal(node, level):\n",
    "        nonlocal left\n",
    "        if node is None:\n",
    "            return\n",
    "        if level == len(left):\n",
    "            left.append(node.data)\n",
    "        inorder_traversal(node.left, level + 1)\n",
    "        inorder_traversal(node.right, level + 1)  \n",
    "    inorder_traversal(root, 0)  \n",
    "    return left\n",
    "\n",
    "root = Node(9)\n",
    "\n",
    "root.left = Node(7)\n",
    "root.right = Node(1)\n",
    "\n",
    "root.left.left = Node(6)\n",
    "root.left.right = Node(4)\n",
    "root.right.left = Node(3)\n",
    "root.right.right = Node(2)\n",
    "\n",
    "root.left.left.right = Node(5)\n",
    "root.right.left.left = Node(11)\n",
    "root.right.left.right = Node(12)\n",
    "\n",
    "root.right.left.right.right = Node(17)\n",
    "\n",
    "print(\"Left View :\", left_view(root))"
   ]
  },
  {
   "cell_type": "code",
   "execution_count": 2,
   "id": "f4da8575",
   "metadata": {},
   "outputs": [
    {
     "name": "stdout",
     "output_type": "stream",
     "text": [
      "Right View : [9, 1, 2, 12, 17]\n"
     ]
    }
   ],
   "source": [
    "# Right View\n",
    "\n",
    "class Node:\n",
    "    def __init__(self, data):\n",
    "        self.data = data\n",
    "        self.left = None\n",
    "        self.right = None\n",
    "\n",
    "def right_view(root):\n",
    "    if root is None:\n",
    "        return []\n",
    "\n",
    "    result = []\n",
    "    queue = [root]\n",
    "\n",
    "    while queue:\n",
    "        level_size = len(queue)\n",
    "        for i in range(level_size):\n",
    "            current_node = queue.pop(0)\n",
    "\n",
    "            if i == level_size - 1:\n",
    "                result.append(current_node.data)\n",
    "            if current_node.left:\n",
    "                queue.append(current_node.left)\n",
    "            if current_node.right:\n",
    "                queue.append(current_node.right)\n",
    "\n",
    "    return result\n",
    "\n",
    "root = Node(9)\n",
    "\n",
    "root.left = Node(7)\n",
    "root.right = Node(1)\n",
    "\n",
    "root.left.left = Node(6)\n",
    "root.left.right = Node(4)\n",
    "root.right.left = Node(3)\n",
    "root.right.right = Node(2)\n",
    "\n",
    "root.left.left.right = Node(5)\n",
    "root.right.left.left = Node(11)\n",
    "root.right.left.right = Node(12)\n",
    "\n",
    "root.right.left.right.right = Node(17)\n",
    "\n",
    "print(\"Right View :\", right_view(root))"
   ]
  },
  {
   "cell_type": "code",
   "execution_count": null,
   "id": "95e7c0e6",
   "metadata": {},
   "outputs": [],
   "source": []
  }
 ],
 "metadata": {
  "kernelspec": {
   "display_name": "Python 3 (ipykernel)",
   "language": "python",
   "name": "python3"
  },
  "language_info": {
   "codemirror_mode": {
    "name": "ipython",
    "version": 3
   },
   "file_extension": ".py",
   "mimetype": "text/x-python",
   "name": "python",
   "nbconvert_exporter": "python",
   "pygments_lexer": "ipython3",
   "version": "3.11.3"
  }
 },
 "nbformat": 4,
 "nbformat_minor": 5
}
