{
 "cells": [
  {
   "cell_type": "code",
   "execution_count": 5,
   "id": "277f11f1-7c2d-4f3c-968c-dfbfbec042a8",
   "metadata": {},
   "outputs": [
    {
     "name": "stdin",
     "output_type": "stream",
     "text": [
      "Enter your 1st number 12\n",
      "Enter your 2nd number 45\n",
      "Enter which operation you want to do *\n"
     ]
    },
    {
     "name": "stdout",
     "output_type": "stream",
     "text": [
      "540\n",
      "None\n"
     ]
    }
   ],
   "source": [
    "def calculator(num1,num2,op):\n",
    "    match op:\n",
    "        case '+':\n",
    "             print(num1+num2)\n",
    "        case '-':\n",
    "             print(num1-num2)\n",
    "        case '/':\n",
    "             print(num1/num2)\n",
    "        case '%':\n",
    "             print(num1%num2)\n",
    "        case '*':\n",
    "             print(num1*num2)\n",
    "        case '//':\n",
    "             print(num1//num2)\n",
    "    \n",
    "num1=int(input(\"Enter your 1st number\"))\n",
    "num2=int(input(\"Enter your 2nd number\"))\n",
    "op=input(\"Enter which operation you want to do\")\n",
    "print(calculator(num1,num2,op))"
   ]
  },
  {
   "cell_type": "code",
   "execution_count": null,
   "id": "506b7278-83e6-4043-9f39-2cde7bf0e92f",
   "metadata": {},
   "outputs": [],
   "source": []
  },
  {
   "cell_type": "code",
   "execution_count": null,
   "id": "b953f4e7-9d66-4a4e-a773-26ac6abf41f9",
   "metadata": {},
   "outputs": [],
   "source": []
  }
 ],
 "metadata": {
  "kernelspec": {
   "display_name": "Python 3 (ipykernel)",
   "language": "python",
   "name": "python3"
  },
  "language_info": {
   "codemirror_mode": {
    "name": "ipython",
    "version": 3
   },
   "file_extension": ".py",
   "mimetype": "text/x-python",
   "name": "python",
   "nbconvert_exporter": "python",
   "pygments_lexer": "ipython3",
   "version": "3.11.4"
  }
 },
 "nbformat": 4,
 "nbformat_minor": 5
}
