{
 "cells": [
  {
   "cell_type": "code",
   "execution_count": 4,
   "id": "4b709649",
   "metadata": {},
   "outputs": [
    {
     "name": "stdout",
     "output_type": "stream",
     "text": [
      "Enter first number : 23\n",
      "Enter second number : 15\n",
      "Enter operator : -\n",
      "Difference is :  8\n"
     ]
    }
   ],
   "source": [
    "num1 = int(input(\"Enter first number : \"))\n",
    "num2 = int(input(\"Enter second number : \"))\n",
    "op = input(\"Enter operator : \")\n",
    "\n",
    "match op:\n",
    "    case '+':\n",
    "        print(\"Sum is : \",num1+num2)\n",
    "    case '-':\n",
    "        print(\"Difference is : \",num1-num2)\n",
    "    case '*':\n",
    "        print(\"Multiplication is : \",num1*num2)\n",
    "    case '/':\n",
    "        print(\"Division is : \",num1/num2)\n",
    "    case '%':\n",
    "        print(\"Modulous is : \",num1%num2)\n",
    "    case _:\n",
    "        print(\"Invalid Operator\")"
   ]
  },
  {
   "cell_type": "code",
   "execution_count": null,
   "id": "bddbb4c1",
   "metadata": {},
   "outputs": [],
   "source": []
  }
 ],
 "metadata": {
  "kernelspec": {
   "display_name": "Python 3 (ipykernel)",
   "language": "python",
   "name": "python3"
  },
  "language_info": {
   "codemirror_mode": {
    "name": "ipython",
    "version": 3
   },
   "file_extension": ".py",
   "mimetype": "text/x-python",
   "name": "python",
   "nbconvert_exporter": "python",
   "pygments_lexer": "ipython3",
   "version": "3.11.3"
  }
 },
 "nbformat": 4,
 "nbformat_minor": 5
}
