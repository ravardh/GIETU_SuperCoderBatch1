{
 "cells": [
  {
   "cell_type": "code",
   "execution_count": 1,
   "id": "617cb708",
   "metadata": {},
   "outputs": [
    {
     "name": "stdout",
     "output_type": "stream",
     "text": [
      "Enter first number: 23.5\n",
      "Enter second number: 2\n",
      "1. Add\n",
      "2. Subtract\n",
      "3. Multiply\n",
      "4. Divide\n",
      "5. Remainder\n",
      "Choose option: 3\n",
      "Multiplication is =  47.0\n",
      "If you want to do next calculation enter Yes/No: yes\n",
      "Enter first number: 198\n",
      "Enter second number: 3\n",
      "1. Add\n",
      "2. Subtract\n",
      "3. Multiply\n",
      "4. Divide\n",
      "5. Remainder\n",
      "Choose option: 4\n",
      "Division is =  66.0\n",
      "If you want to do next calculation enter Yes/No: no\n"
     ]
    }
   ],
   "source": [
    "while True:\n",
    "    a=float(input(\"Enter first number: \"))\n",
    "    b=float(input(\"Enter second number: \"))\n",
    "    print(\"1. Add\\n2. Subtract\\n3. Multiply\\n4. Divide\\n5. Remainder\")\n",
    "    ans=int(input(\"Choose option: \"))\n",
    "    match ans:\n",
    "        case 1:\n",
    "            print(\"Addition is = \",a+b)\n",
    "        case 2:\n",
    "            print(\"Subtraction is = \",a-b)\n",
    "        case 3:\n",
    "            print(\"Multiplication is = \",a*b)\n",
    "        case 4:\n",
    "            print(\"Division is = \",a/b) if b!=0 else print(\"Can't divisible by Zero\")\n",
    "        case 5:\n",
    "            print(\"Remainder is = \",a%b) if b!=0 else print(\"Can't divisible by Zero\")\n",
    "        case _:\n",
    "            print(\"Invalid input\")\n",
    "    x=input(\"If you want to do next calculation enter Yes/No: \")\n",
    "    if x.lower()==\"no\":\n",
    "        break"
   ]
  },
  {
   "cell_type": "code",
   "execution_count": null,
   "id": "d653d2a2",
   "metadata": {},
   "outputs": [],
   "source": []
  }
 ],
 "metadata": {
  "kernelspec": {
   "display_name": "Python 3 (ipykernel)",
   "language": "python",
   "name": "python3"
  },
  "language_info": {
   "codemirror_mode": {
    "name": "ipython",
    "version": 3
   },
   "file_extension": ".py",
   "mimetype": "text/x-python",
   "name": "python",
   "nbconvert_exporter": "python",
   "pygments_lexer": "ipython3",
   "version": "3.11.5"
  }
 },
 "nbformat": 4,
 "nbformat_minor": 5
}
