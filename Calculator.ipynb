{
 "cells": [
  {
   "cell_type": "code",
   "execution_count": 5,
   "id": "5265d2fa-768e-4929-854f-243b298de8ba",
   "metadata": {},
   "outputs": [
    {
     "name": "stdin",
     "output_type": "stream",
     "text": [
      "enter a: 1\n",
      "enter b: 2\n",
      "enter operator -\n"
     ]
    },
    {
     "name": "stdout",
     "output_type": "stream",
     "text": [
      "a-b: -1\n"
     ]
    }
   ],
   "source": [
    "a=int(input(\"enter a:\"))\n",
    "b=int(input(\"enter b:\"))\n",
    "c=input(\"enter operator\")\n",
    "match c:\n",
    "    case '+':\n",
    "        print(\"a+b:\",a+b)\n",
    "    case '-':\n",
    "        print(\"a-b:\",a-b)\n",
    "    case '*':\n",
    "        print(\"a*b:\",a*b)\n",
    "    case '/':\n",
    "        print(\"a/b:\",a/b)\n",
    "    case '//':\n",
    "        print(\"a//b:\",a//b)\n",
    "    case '%':\n",
    "        print(\"a%b:\",a%b)\n",
    "    case _:\n",
    "        print(\"Wrong operator\")\n"
   ]
  },
  {
   "cell_type": "code",
   "execution_count": null,
   "id": "9d073e25-1ca1-48e0-b9fe-5cfbf92e6185",
   "metadata": {},
   "outputs": [],
   "source": []
  }
 ],
 "metadata": {
  "kernelspec": {
   "display_name": "Python 3 (ipykernel)",
   "language": "python",
   "name": "python3"
  },
  "language_info": {
   "codemirror_mode": {
    "name": "ipython",
    "version": 3
   },
   "file_extension": ".py",
   "mimetype": "text/x-python",
   "name": "python",
   "nbconvert_exporter": "python",
   "pygments_lexer": "ipython3",
   "version": "3.12.1"
  }
 },
 "nbformat": 4,
 "nbformat_minor": 5
}
