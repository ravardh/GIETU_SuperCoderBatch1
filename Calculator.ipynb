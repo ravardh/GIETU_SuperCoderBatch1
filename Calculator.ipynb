{
 "cells": [
  {
   "cell_type": "code",
   "execution_count": 3,
   "id": "1eddcad5",
   "metadata": {},
   "outputs": [
    {
     "name": "stdout",
     "output_type": "stream",
     "text": [
      "Choose an operation\n",
      "1.Add \n",
      "2.Subtract \n",
      "3. Multiply \n",
      "4. Divide \n",
      "\n",
      "Enter your choice from 1, 2, 3, 43\n",
      "enter two numbers5 4\n",
      "5 * 4 = 20\n"
     ]
    }
   ],
   "source": [
    "#Calculator\n",
    "#Fun to add 2 numbers\n",
    "def add(num1,num2):\n",
    "    return num1+num2\n",
    "#Fun to subtract 2 numbers\n",
    "def sub(num1, num2):\n",
    "    return num1-num2\n",
    "#Fun to multiply 2 numbers\n",
    "def mul(num1,num2):\n",
    "    return num1*num2\n",
    "#Fun to divide 2 numbers\n",
    "def div(nunm1,num2):\n",
    "    return num1/num2\n",
    "print(\"Choose an operation\\n\"\n",
    "     \"1.Add \\n\"\n",
    "     \"2.Subtract \\n\"\n",
    "     \"3. Multiply \\n\"\n",
    "     \"4. Divide \\n\")\n",
    "choice=int(input(\"Enter your choice from 1, 2, 3, 4\"))\n",
    "n1,n2=[int(n1) for n1 in input(\"enter two numbers\").split()]\n",
    "if choice==1:\n",
    "    print(n1,\"+\",n2,\"=\",add(n1,n2))\n",
    "elif choice==2:\n",
    "    print(n1,\"-\",n2,\"=\",sub(n1,n2))\n",
    "elif choice==3:\n",
    "    print(n1,\"*\",n2,\"=\",mul(n1,n2))\n",
    "elif choice==4:\n",
    "    print(n1,\"/\",n2,\"=\",div(n1,n2))\n",
    "else:\n",
    "    print(\"Invalid choice\")"
   ]
  },
  {
   "cell_type": "code",
   "execution_count": null,
   "id": "d5968383",
   "metadata": {},
   "outputs": [],
   "source": []
  }
 ],
 "metadata": {
  "kernelspec": {
   "display_name": "Python 3 (ipykernel)",
   "language": "python",
   "name": "python3"
  },
  "language_info": {
   "codemirror_mode": {
    "name": "ipython",
    "version": 3
   },
   "file_extension": ".py",
   "mimetype": "text/x-python",
   "name": "python",
   "nbconvert_exporter": "python",
   "pygments_lexer": "ipython3",
   "version": "3.10.9"
  }
 },
 "nbformat": 4,
 "nbformat_minor": 5
}
