{
 "cells": [
  {
   "cell_type": "code",
   "execution_count": 12,
   "id": "d45f0a0d",
   "metadata": {},
   "outputs": [
    {
     "name": "stdout",
     "output_type": "stream",
     "text": [
      "15\n",
      "48\n",
      "Enter the operator:+\n",
      "63\n"
     ]
    }
   ],
   "source": [
    "a = int(input())\n",
    "b = int(input())\n",
    "op = input(\"Enter the operator:\")\n",
    "if(op == \"+\"):\n",
    "    print(a+b)\n",
    "elif(op == \"-\"):\n",
    "    print(a-b)\n",
    "elif(op == \"*\"):\n",
    "    print(a*b)\n",
    "elif(op == \"/\"):\n",
    "    print(a/b)\n",
    "else:\n",
    "    print(\"Invalid Operator\")\n"
   ]
  },
  {
   "cell_type": "code",
   "execution_count": null,
   "id": "33d9e631",
   "metadata": {},
   "outputs": [],
   "source": []
  }
 ],
 "metadata": {
  "kernelspec": {
   "display_name": "Python 3 (ipykernel)",
   "language": "python",
   "name": "python3"
  },
  "language_info": {
   "codemirror_mode": {
    "name": "ipython",
    "version": 3
   },
   "file_extension": ".py",
   "mimetype": "text/x-python",
   "name": "python",
   "nbconvert_exporter": "python",
   "pygments_lexer": "ipython3",
   "version": "3.11.3"
  }
 },
 "nbformat": 4,
 "nbformat_minor": 5
}
