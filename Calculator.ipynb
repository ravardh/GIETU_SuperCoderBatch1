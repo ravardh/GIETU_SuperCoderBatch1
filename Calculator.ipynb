{
 "cells": [
  {
   "cell_type": "code",
   "execution_count": 3,
   "id": "881470d5",
   "metadata": {},
   "outputs": [
    {
     "name": "stdout",
     "output_type": "stream",
     "text": [
      "Enter first number: 5\n",
      "Enter second number: 7\n",
      "Enter operator: +\n",
      "12\n"
     ]
    }
   ],
   "source": [
    "x = int(input(\"Enter first number: \"))\n",
    "y = int(input(\"Enter second number: \"))\n",
    "op = input(\"Enter operator: \")\n",
    "match op:\n",
    "    case '+':\n",
    "        print(x+y)\n",
    "    case '-':\n",
    "        print(x-y)\n",
    "    case '*':\n",
    "        print(x*y)\n",
    "    case '/':\n",
    "        print(x/y)\n",
    "    case '//':\n",
    "        print(x//y)\n",
    "    case '%':\n",
    "        print(x%y)\n",
    "    case '^':\n",
    "        print(x**y)\n",
    "    case _:\n",
    "        print(\"Invalid operator\")"
   ]
  },
  {
   "cell_type": "code",
   "execution_count": null,
   "id": "1de81301",
   "metadata": {},
   "outputs": [],
   "source": []
  }
 ],
 "metadata": {
  "kernelspec": {
   "display_name": "Python 3 (ipykernel)",
   "language": "python",
   "name": "python3"
  },
  "language_info": {
   "codemirror_mode": {
    "name": "ipython",
    "version": 3
   },
   "file_extension": ".py",
   "mimetype": "text/x-python",
   "name": "python",
   "nbconvert_exporter": "python",
   "pygments_lexer": "ipython3",
   "version": "3.11.5"
  }
 },
 "nbformat": 4,
 "nbformat_minor": 5
}
