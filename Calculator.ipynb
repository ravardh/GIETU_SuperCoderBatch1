{
 "cells": [
  {
   "cell_type": "code",
   "execution_count": 14,
   "id": "146f00ad",
   "metadata": {},
   "outputs": [
    {
     "name": "stdout",
     "output_type": "stream",
     "text": [
      "Enter for a=17\n",
      "enter for b=89\n",
      "Enter the operator=%\n",
      "Invalid Operator\n"
     ]
    }
   ],
   "source": [
    "a=int(input(\"Enter for a=\"))\n",
    "b=int(input(\"enter for b=\"))\n",
    "op=input(\"Enter the operator=\")\n",
    "if(op == \"+\"):\n",
    "    print(a+b)\n",
    "elif(op == \"-\"):\n",
    "    print(a-b)\n",
    "elif(op == \"*\"):\n",
    "    print(a*b)\n",
    "elif(op == \"/\"):\n",
    "    print(a/b)\n",
    "else:\n",
    "    print(\"Invalid Operator\")\n"
   ]
  },
  {
   "cell_type": "code",
   "execution_count": 13,
   "id": "f01f1362",
   "metadata": {},
   "outputs": [
    {
     "name": "stdout",
     "output_type": "stream",
     "text": [
      "Enter for a=15\n",
      "enter for b=47\n",
      "Enter the operator=+\n",
      "62\n"
     ]
    }
   ],
   "source": [
    "a=int(input(\"Enter for a=\"))\n",
    "b=int(input(\"enter for b=\"))\n",
    "op=input(\"Enter the operator=\")\n",
    "match op:\n",
    "    case \"*\":\n",
    "         print(a*b)\n",
    "    case \"+\":\n",
    "        print(a+b)\n",
    "    case \"/\":\n",
    "        print(a/b)\n",
    "    case \"//\":\n",
    "        print(a//b)\n",
    "    case _:\n",
    "        print(\"Invalid operator\")"
   ]
  },
  {
   "cell_type": "code",
   "execution_count": null,
   "id": "ccf4947b",
   "metadata": {},
   "outputs": [],
   "source": []
  }
 ],
 "metadata": {
  "kernelspec": {
   "display_name": "Python 3 (ipykernel)",
   "language": "python",
   "name": "python3"
  },
  "language_info": {
   "codemirror_mode": {
    "name": "ipython",
    "version": 3
   },
   "file_extension": ".py",
   "mimetype": "text/x-python",
   "name": "python",
   "nbconvert_exporter": "python",
   "pygments_lexer": "ipython3",
   "version": "3.11.3"
  }
 },
 "nbformat": 4,
 "nbformat_minor": 5
}
