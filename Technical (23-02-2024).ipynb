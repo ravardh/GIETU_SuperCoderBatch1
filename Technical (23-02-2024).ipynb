{
 "cells": [
  {
   "cell_type": "code",
   "execution_count": 1,
   "id": "a8345e3a",
   "metadata": {},
   "outputs": [
    {
     "name": "stdout",
     "output_type": "stream",
     "text": [
      "Sorted array :  [1, 2, 3, 4, 5, 6, 7, 8, 9]\n"
     ]
    }
   ],
   "source": [
    "# Quick Sort\n",
    "\n",
    "def find(array, start, end):\n",
    "  pi = array[end]\n",
    "  i = start\n",
    "  j = start-1\n",
    "  for i in range(start, end):\n",
    "    if(array[i] < pi):\n",
    "      j = j + 1\n",
    "      array[i], array[j] = array[j], array[i]\n",
    "  j = j+1\n",
    "  array[j], array[end] = array[end], array[j]\n",
    "  return j\n",
    "\n",
    "def quicksort(array, start, end):\n",
    "  if start < end:\n",
    "    pi = find(array, start, end)\n",
    "    quicksort(array, start, pi - 1)\n",
    "    quicksort(array, pi + 1, end)\n",
    "\n",
    "if __name__ == '__main__':\n",
    "  array = [4, 8, 2, 3, 7, 5, 1, 9, 6]\n",
    "  quicksort(array, 0, len(array)-1)\n",
    "  print(\"Sorted array : \", array)"
   ]
  },
  {
   "cell_type": "code",
   "execution_count": 2,
   "id": "5f98af02",
   "metadata": {},
   "outputs": [
    {
     "name": "stdout",
     "output_type": "stream",
     "text": [
      "Sorted array :  [1, 2, 3, 4, 5, 6, 7, 8, 9]\n"
     ]
    }
   ],
   "source": [
    "# Merge Sort\n",
    "\n",
    "def merge(arr1, arr2):\n",
    "  n1, n2 = len(arr1), len(arr2)\n",
    "  temp = [0]*(n1+n2)\n",
    "  idx = 0\n",
    "  i, j = 0, 0\n",
    "  while(i<n1 and j<n2):\n",
    "    if arr1[i]<=arr2[j]:\n",
    "      temp[idx] = arr1[i]\n",
    "      i+=1\n",
    "    else:\n",
    "      temp[idx] = arr2[j]\n",
    "      j+=1\n",
    "    idx+=1\n",
    "  \n",
    "  while(i<n1):\n",
    "    temp[idx] = arr1[i]\n",
    "    i+=1\n",
    "    idx+=1\n",
    "\n",
    "  while(j<n2):\n",
    "    temp[idx] = arr2[j]\n",
    "    j+=1\n",
    "    idx+=1\n",
    "\n",
    "  return temp\n",
    "\n",
    "# Function to mergesort 2 arrays\n",
    "def merge_sort(arr, lo, hi):\n",
    "  if lo == hi:\n",
    "    return [arr[lo]]\n",
    "  mid = lo + (hi-lo) // 2\n",
    "\n",
    "  left = merge_sort(arr, lo, mid)\n",
    "  right = merge_sort(arr, mid+1, hi)\n",
    "\n",
    "  return merge(left, right)\n",
    "\n",
    "# Driver Code\n",
    "if __name__ == '__main__':\n",
    "  array = [4, 8, 2, 3, 7, 5, 1, 9, 6]\n",
    "  print(\"Sorted array : \", merge_sort(array, 0, len(array)-1))"
   ]
  },
  {
   "cell_type": "code",
   "execution_count": null,
   "id": "7a5aa135",
   "metadata": {},
   "outputs": [],
   "source": [
    "arr_str = input(\"Enter the elements of the array \")\n",
    "arr_str_list = arr_str.split()\n",
    "arr = []\n",
    "\n",
    "for element in arr_str_list:\n",
    "    arr.append(int(element))\n",
    "\n",
    "sum_of_3 = []\n",
    "\n",
    "for i in range(len(arr)-2):\n",
    "    current_sum = sum(arr[i:i+3])\n",
    "    sum_of_3.append(current_sum)\n",
    "\n",
    "max_sum_of_3 = max(sum_of_3)\n",
    "\n",
    "print(\"Maximum sum of 3 consecutive terms:\", max_sum_of_3)"
   ]
  },
  {
   "cell_type": "code",
   "execution_count": 3,
   "id": "1552a6e3",
   "metadata": {},
   "outputs": [
    {
     "name": "stdout",
     "output_type": "stream",
     "text": [
      "enter the value of window: 4\n",
      "28\n"
     ]
    }
   ],
   "source": [
    "# Sliding window\n",
    "\n",
    "arr = [1, 3, 5, 2, 7, 4, 8, 9, 5, 3, 5, 7, 9, 3, 2, 0]\n",
    "k = int(input(\"enter the value of window: \"))\n",
    "sum = 0\n",
    "max = 0\n",
    "for i in range(k):\n",
    "    sum = sum+arr[i]\n",
    "max = sum\n",
    "for i in range(k, len(arr)):\n",
    "    sum = sum-arr[i-k]+arr[i]\n",
    "    if (sum > max):\n",
    "        max = sum\n",
    "print(max)"
   ]
  },
  {
   "cell_type": "code",
   "execution_count": null,
   "id": "3d32476b",
   "metadata": {},
   "outputs": [],
   "source": []
  }
 ],
 "metadata": {
  "kernelspec": {
   "display_name": "Python 3 (ipykernel)",
   "language": "python",
   "name": "python3"
  },
  "language_info": {
   "codemirror_mode": {
    "name": "ipython",
    "version": 3
   },
   "file_extension": ".py",
   "mimetype": "text/x-python",
   "name": "python",
   "nbconvert_exporter": "python",
   "pygments_lexer": "ipython3",
   "version": "3.11.3"
  }
 },
 "nbformat": 4,
 "nbformat_minor": 5
}
