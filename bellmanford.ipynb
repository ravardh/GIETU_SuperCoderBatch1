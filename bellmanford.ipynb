{
 "cells": [
  {
   "cell_type": "code",
   "execution_count": 1,
   "id": "23418a32",
   "metadata": {},
   "outputs": [
    {
     "name": "stdout",
     "output_type": "stream",
     "text": [
      "{\n",
      "  1: {2: 6, 3: 5, 4: 5}\n",
      "  2: {5: -1}\n",
      "  3: {2: -2, 5: 1}\n",
      "  4: {3: -2, 6: -1}\n",
      "  5: {7: 3}\n",
      "  6: {7: 3}\n",
      "  7: {7: 0}\n",
      "}\n",
      "\n",
      "[(1, 2), (1, 3), (1, 4), (2, 5), (3, 2), (3, 5), (4, 3), (4, 6), (5, 7), (6, 7), (7, 7)]\n",
      "{1: inf, 2: inf, 3: inf, 4: inf, 5: inf, 6: inf, 7: inf}\n",
      "Minimum Distance of vertice 1 from 1 is 0\n",
      "Minimum Distance of vertice 2 from 1 is 1\n",
      "Minimum Distance of vertice 3 from 1 is 3\n",
      "Minimum Distance of vertice 4 from 1 is 5\n",
      "Minimum Distance of vertice 5 from 1 is 0\n",
      "Minimum Distance of vertice 6 from 1 is 4\n",
      "Minimum Distance of vertice 7 from 1 is 3\n"
     ]
    }
   ],
   "source": [
    "class Graph:\n",
    "  def __init__(self, vertices):\n",
    "    self.graph = {}\n",
    "    self.V = vertices\n",
    "\n",
    "  def add_edge(self, u, v, w):\n",
    "    if u not in self.graph:\n",
    "      self.graph[u] = {}\n",
    "    self.graph[u][v] = w\n",
    "\n",
    "  def print_graph(self):\n",
    "    print(\"{\")\n",
    "    for i in self.graph:\n",
    "      print(f\"  {i}: {self.graph[i]}\")\n",
    "    print(\"}\")\n",
    "  \n",
    "  def bellman_ford(self, start): \n",
    "    edge_list = []\n",
    "    for i in self.graph:\n",
    "      for j in self.graph[i]:\n",
    "        edge_list.append((i, j))\n",
    "    print(edge_list)\n",
    "    \n",
    "    path = {}\n",
    "    for i in self.graph:\n",
    "      path[i] = float('inf')\n",
    "    print(path)\n",
    "    path[start] = 0\n",
    "    \n",
    "    for i in range(self.V - 1):\n",
    "      for j in edge_list:\n",
    "        s = path[j[0]]\n",
    "        path[j[1]] = min(path[j[1]], s+self.graph[j[0]][j[1]])\n",
    "\n",
    "\n",
    "    # print the distance\n",
    "    for i in self.graph:\n",
    "      print(f\"Minimum Distance of vertice {i} from {start} is {path[i]}\")\n",
    "\n",
    "g = Graph(7)\n",
    "g.add_edge(1, 2, 6)\n",
    "g.add_edge(1, 3, 5)\n",
    "g.add_edge(1, 4, 5)\n",
    "g.add_edge(2, 5, -1)\n",
    "g.add_edge(3, 2, -2)\n",
    "g.add_edge(3, 5, 1)\n",
    "g.add_edge(4, 3, -2)\n",
    "g.add_edge(4, 6, -1)\n",
    "g.add_edge(5, 7, 3)\n",
    "g.add_edge(6, 7, 3)\n",
    "g.add_edge(7, 7, 0)\n",
    "\n",
    "g.print_graph()\n",
    "print()\n",
    "# g.min_path(1)\n",
    "g.bellman_ford(1)"
   ]
  },
  {
   "cell_type": "code",
   "execution_count": null,
   "id": "e11cb853",
   "metadata": {},
   "outputs": [],
   "source": []
  }
 ],
 "metadata": {
  "kernelspec": {
   "display_name": "Python 3 (ipykernel)",
   "language": "python",
   "name": "python3"
  },
  "language_info": {
   "codemirror_mode": {
    "name": "ipython",
    "version": 3
   },
   "file_extension": ".py",
   "mimetype": "text/x-python",
   "name": "python",
   "nbconvert_exporter": "python",
   "pygments_lexer": "ipython3",
   "version": "3.10.9"
  }
 },
 "nbformat": 4,
 "nbformat_minor": 5
}
