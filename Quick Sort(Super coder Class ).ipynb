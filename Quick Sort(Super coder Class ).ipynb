{
 "cells": [
  {
   "cell_type": "code",
   "execution_count": 5,
   "id": "e0358069",
   "metadata": {},
   "outputs": [
    {
     "name": "stdout",
     "output_type": "stream",
     "text": [
      "[1, 2, 3, 4, 5, 6, 8, 9, 10, 12]\n"
     ]
    }
   ],
   "source": [
    "#QuickSort\n",
    "def find(ar,S,E):\n",
    "    P=ar[E]\n",
    "    j=S-1\n",
    "    for i in range(S,E):\n",
    "        if ar[i]<P:\n",
    "            j=j+1\n",
    "            ar[i],ar[j]=ar[j],ar[i]\n",
    "    ar[j+1],ar[E]=ar[E],ar[j+1]\n",
    "    return j+1\n",
    "def quickSort(ar,S,E):\n",
    "    if S<E:\n",
    "        pi=find(ar,S,E)\n",
    "        quickSort(ar,S,pi-1)\n",
    "        quickSort(ar,pi+1,E)\n",
    "if __name__ == '__main__':\n",
    "    ar = [4,6,8,5,2,1,3,9,12,10]\n",
    "    quickSort(ar,0,len(ar)-1)\n",
    "    print(ar)"
   ]
  },
  {
   "cell_type": "code",
   "execution_count": 4,
   "id": "f2ec05ba",
   "metadata": {},
   "outputs": [
    {
     "name": "stdout",
     "output_type": "stream",
     "text": [
      "[1, 2, 3, 4, 5, 6, 8, 9, 10, 12]\n"
     ]
    }
   ],
   "source": [
    "#QuickSort:\n",
    "def find(ar,S,E):\n",
    "    P=ar[E]\n",
    "    j=S-1\n",
    "    for i in range(S,E): # changed E-1 to E\n",
    "        if ar[i]<P:\n",
    "            j=j+1\n",
    "            ar[i],ar[j]=ar[j],ar[i]\n",
    "    ar[j+1],ar[E]=ar[E],ar[j+1]\n",
    "    return j+1\n",
    "def quickSort(ar,S,E):\n",
    "    if S<E:\n",
    "        pi=find(ar,S,E)\n",
    "        quickSort(ar,S,pi-1)\n",
    "        quickSort(ar,pi+1,E)\n",
    "if __name__ == '__main__':\n",
    "    ar = [4,6,8,5,2,1,3,9,12,10]\n",
    "    quickSort(ar,0,len(ar)-1)\n",
    "    print(ar)\n"
   ]
  },
  {
   "cell_type": "code",
   "execution_count": null,
   "id": "9db5fa2a",
   "metadata": {},
   "outputs": [],
   "source": []
  }
 ],
 "metadata": {
  "kernelspec": {
   "display_name": "Python 3 (ipykernel)",
   "language": "python",
   "name": "python3"
  },
  "language_info": {
   "codemirror_mode": {
    "name": "ipython",
    "version": 3
   },
   "file_extension": ".py",
   "mimetype": "text/x-python",
   "name": "python",
   "nbconvert_exporter": "python",
   "pygments_lexer": "ipython3",
   "version": "3.11.3"
  }
 },
 "nbformat": 4,
 "nbformat_minor": 5
}
