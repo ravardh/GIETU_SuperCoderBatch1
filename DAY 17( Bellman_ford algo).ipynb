{
 "cells": [
  {
   "cell_type": "markdown",
   "id": "6147b104",
   "metadata": {},
   "source": [
    " Bellman_ford algo"
   ]
  },
  {
   "cell_type": "code",
   "execution_count": null,
   "id": "6c4343e1",
   "metadata": {},
   "outputs": [],
   "source": [
    "class Graph:\n",
    "  def __init__(self, vertices):\n",
    "    self.graph = {}\n",
    "    self.V = vertices\n",
    "\n",
    "  def add_edge(self, u, v, w):\n",
    "    self.graph.setdefault(u, {})[v] = w\n",
    "\n",
    "  def print_graph(self):\n",
    "    print(\"{\")\n",
    "    for i in self.graph:\n",
    "      print(f\"  {i}: {self.graph[i]}\")\n",
    "    print(\"}\")\n",
    "\n",
    "  def bellman_ford(self, start):\n",
    "    path = {i: float('inf') for i in range(1, self.V + 1)}\n",
    "    path[start] = 0\n",
    "    \n",
    "    for _ in range(self.V - 1):\n",
    "      for u in self.graph:\n",
    "        for v, weight in self.graph[u].items():\n",
    "          path[v] = min(path[v], path[u] + weight)\n",
    "\n",
    "    for i in range(1, self.V + 1):\n",
    "      print(f\"Minimum Distance of vertex {i} from {start} is {path[i]}\")\n",
    "\n",
    "g = Graph(7)\n",
    "g.add_edge(1, 2, 6)\n",
    "g.add_edge(1, 3, 5)\n",
    "g.add_edge(1, 4, 5)\n",
    "g.add_edge(2, 5, -1)\n",
    "g.add_edge(3, 2, -2)\n",
    "g.add_edge(3, 5, 1)\n",
    "g.add_edge(4, 3, -2)\n",
    "g.add_edge(4, 6, -1)\n",
    "g.add_edge(5, 7, 3)\n",
    "g.add_edge(6, 7, 3)\n",
    "g.add_edge(7, 7, 0)\n",
    "\n",
    "g.print_graph()\n",
    "print()\n",
    "g.bellman_ford(1)\n"
   ]
  },
  {
   "cell_type": "code",
   "execution_count": null,
   "id": "5537edec",
   "metadata": {},
   "outputs": [],
   "source": []
  }
 ],
 "metadata": {
  "kernelspec": {
   "display_name": "Python 3 (ipykernel)",
   "language": "python",
   "name": "python3"
  },
  "language_info": {
   "codemirror_mode": {
    "name": "ipython",
    "version": 3
   },
   "file_extension": ".py",
   "mimetype": "text/x-python",
   "name": "python",
   "nbconvert_exporter": "python",
   "pygments_lexer": "ipython3",
   "version": "3.10.9"
  }
 },
 "nbformat": 4,
 "nbformat_minor": 5
}
