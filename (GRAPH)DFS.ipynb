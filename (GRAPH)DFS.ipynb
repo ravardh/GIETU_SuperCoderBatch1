{
 "cells": [
  {
   "cell_type": "code",
   "execution_count": 1,
   "id": "8d355941",
   "metadata": {},
   "outputs": [
    {
     "name": "stdout",
     "output_type": "stream",
     "text": [
      "DFS Traversal starting from vertex 11:\n",
      "4\n",
      "5\n",
      "6\n",
      "9\n",
      "8\n",
      "7\n",
      "11\n"
     ]
    }
   ],
   "source": [
    "class Graph:\n",
    "    def __init__(self, vertices):\n",
    "        self.graph = [[] for _ in range(vertices)]\n",
    "\n",
    "    def add_edge(self, sn, en):\n",
    "        self.graph[sn].append(en)\n",
    "\n",
    "    def dfs(self, start, visited=None):\n",
    "        if visited is None:\n",
    "            visited = set()\n",
    "\n",
    "        if start not in visited:\n",
    "            print(start)\n",
    "            visited.add(start)\n",
    "\n",
    "            if start < len(self.graph):  \n",
    "                for child in self.graph[start]:\n",
    "                    self.dfs(child, visited)\n",
    "\n",
    "\n",
    "g = Graph(10)   \n",
    "g.add_edge(1, 2)\n",
    "g.add_edge(1, 3)\n",
    "g.add_edge(1, 10)\n",
    "g.add_edge(2, 4)\n",
    "g.add_edge(4, 5)\n",
    "g.add_edge(4, 8)\n",
    "g.add_edge(5, 6)\n",
    "g.add_edge(6, 9)\n",
    "g.add_edge(4, 7)\n",
    "g.add_edge(8, 9)\n",
    "g.add_edge(9, 6)\n",
    "g.add_edge(1, 3)\n",
    "g.add_edge(3, 8)\n",
    "g.add_edge(7, 11)\n",
    "\n",
    "print(\"DFS Traversal starting from vertex 11:\")\n",
    "g.dfs(4)\n"
   ]
  },
  {
   "cell_type": "code",
   "execution_count": null,
   "id": "adc69e39",
   "metadata": {},
   "outputs": [],
   "source": []
  }
 ],
 "metadata": {
  "kernelspec": {
   "display_name": "Python 3 (ipykernel)",
   "language": "python",
   "name": "python3"
  },
  "language_info": {
   "codemirror_mode": {
    "name": "ipython",
    "version": 3
   },
   "file_extension": ".py",
   "mimetype": "text/x-python",
   "name": "python",
   "nbconvert_exporter": "python",
   "pygments_lexer": "ipython3",
   "version": "3.11.3"
  }
 },
 "nbformat": 4,
 "nbformat_minor": 5
}
