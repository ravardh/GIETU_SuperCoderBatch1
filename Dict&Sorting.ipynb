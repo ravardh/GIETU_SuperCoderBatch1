{
  "nbformat": 4,
  "nbformat_minor": 0,
  "metadata": {
    "colab": {
      "provenance": []
    },
    "kernelspec": {
      "name": "python3",
      "display_name": "Python 3"
    },
    "language_info": {
      "name": "python"
    }
  },
  "cells": [
    {
      "cell_type": "code",
      "execution_count": 6,
      "metadata": {
        "colab": {
          "base_uri": "https://localhost:8080/"
        },
        "id": "jKi1vpumBy31",
        "outputId": "a54eb9c3-549c-41dd-baa9-6efde361e395"
      },
      "outputs": [
        {
          "output_type": "stream",
          "name": "stdout",
          "text": [
            "Enter key:3\n",
            "key out of bound\n",
            "end\n"
          ]
        }
      ],
      "source": [
        "dict={1:\"megha\",2:'meggie'}\n",
        "i=int(input(\"Enter key:\"))\n",
        "try:\n",
        "    print(dict[i])\n",
        "except:\n",
        "    print(\"key out of bound\")\n",
        "finally:\n",
        "  print(\"end\")"
      ]
    },
    {
      "cell_type": "code",
      "source": [
        "#Bubble Sort\n",
        "arr=[2,3,54,1]\n",
        "n=len(arr)\n",
        "for i in range(n-1):\n",
        "  for j in range(0, n-i-1):\n",
        "    if arr[j] > arr[j + 1]:\n",
        "      arr[j], arr[j + 1] = arr[j + 1], arr[j]\n",
        "print(\"Sorted array:\")\n",
        "for i in range(len(arr)):\n",
        "    print(arr[i], end=\" \")\n",
        "\n"
      ],
      "metadata": {
        "colab": {
          "base_uri": "https://localhost:8080/"
        },
        "id": "McU94fhMEgsS",
        "outputId": "e0510d28-2c44-44dd-f28d-34fef314e9b6"
      },
      "execution_count": 3,
      "outputs": [
        {
          "output_type": "stream",
          "name": "stdout",
          "text": [
            "Sorted array:\n",
            "1 2 3 54 "
          ]
        }
      ]
    },
    {
      "cell_type": "code",
      "source": [
        "#Insertion Sort\n",
        "arr = [12, 11, 13, 5, 6]\n",
        "for i in range(1, len(arr)):\n",
        "\n",
        "\t\tp = arr[i]\n",
        "\t\tj = i-1\n",
        "\t\twhile j >= 0 and p < arr[j] :\n",
        "\t\t\t\tarr[j + 1] = arr[j]\n",
        "\t\t\t\tj =j-1\n",
        "\t\tarr[j + 1] = p\n",
        "for i in range(len(arr)):\n",
        "\tprint (arr[i])\n"
      ],
      "metadata": {
        "colab": {
          "base_uri": "https://localhost:8080/"
        },
        "id": "0EyNUaZj6E9b",
        "outputId": "1a0b7c7f-642d-441d-acec-d1cd95124b68"
      },
      "execution_count": 5,
      "outputs": [
        {
          "output_type": "stream",
          "name": "stdout",
          "text": [
            "5\n",
            "6\n",
            "11\n",
            "12\n",
            "13\n"
          ]
        }
      ]
    },
    {
      "cell_type": "code",
      "source": [],
      "metadata": {
        "id": "Zqu5cZOU7fwi"
      },
      "execution_count": null,
      "outputs": []
    }
  ]
}