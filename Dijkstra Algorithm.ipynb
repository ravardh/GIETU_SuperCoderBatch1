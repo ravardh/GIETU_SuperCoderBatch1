{
 "cells": [
  {
   "cell_type": "code",
   "execution_count": 13,
   "id": "54c5a9f4",
   "metadata": {},
   "outputs": [
    {
     "name": "stdout",
     "output_type": "stream",
     "text": [
      "Shortest distances from 3\n",
      "1 : 12\n",
      "2 : 8\n",
      "3 : 0\n",
      "4 : 7\n",
      "5 : 14\n",
      "6 : 4\n",
      "7 : 6\n",
      "8 : 7\n",
      "9 : 2\n"
     ]
    }
   ],
   "source": [
    "def dijkstra(graph, src):\n",
    "    dist = {}\n",
    "    \n",
    "    for node in graph:\n",
    "        dist[node] = float('inf')\n",
    "        \n",
    "    dist[src] = 0\n",
    "    visited = []\n",
    "\n",
    "    while len(visited) < len(graph):\n",
    "        u = None\n",
    "        \n",
    "        for node in graph:\n",
    "            if node not in visited:\n",
    "                if u is None or dist[node] < dist[u]:\n",
    "                    u = node\n",
    "        visited.append(u)\n",
    "\n",
    "        for v, weight in graph[u].items():\n",
    "            if dist[u] + weight < dist[v]:\n",
    "                dist[v] = dist[u] + weight\n",
    "\n",
    "    return dist\n",
    "\n",
    "\n",
    "graph = {\n",
    "    1: {2: 4, 8: 8},\n",
    "    2: {1: 4, 3: 8, 8: 11},\n",
    "    3: {2: 8, 4: 7, 6: 4, 9: 2},\n",
    "    4: {3: 7, 5: 9, 6: 14},\n",
    "    5: {4: 9, 6: 10},\n",
    "    6: {3: 4, 4: 14, 5: 10, 7: 2},\n",
    "    7: {6: 2, 8: 1, 9: 6},\n",
    "    8: {1: 8, 2: 11, 7: 1, 9: 7},\n",
    "    9: {3: 2, 7: 6, 8: 7},\n",
    "}\n",
    "\n",
    "source = 3\n",
    "shortest_distances = dijkstra(graph, source)\n",
    "\n",
    "print(\"Shortest distances from\", source)\n",
    "\n",
    "for node, distance in shortest_distances.items():\n",
    "    print(node, \":\", distance)"
   ]
  },
  {
   "cell_type": "code",
   "execution_count": null,
   "id": "d44e0421",
   "metadata": {},
   "outputs": [],
   "source": []
  }
 ],
 "metadata": {
  "kernelspec": {
   "display_name": "Python 3 (ipykernel)",
   "language": "python",
   "name": "python3"
  },
  "language_info": {
   "codemirror_mode": {
    "name": "ipython",
    "version": 3
   },
   "file_extension": ".py",
   "mimetype": "text/x-python",
   "name": "python",
   "nbconvert_exporter": "python",
   "pygments_lexer": "ipython3",
   "version": "3.11.3"
  }
 },
 "nbformat": 4,
 "nbformat_minor": 5
}
