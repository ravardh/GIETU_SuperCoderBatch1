{
 "cells": [
  {
   "cell_type": "code",
   "execution_count": 2,
   "id": "e1e2f3a4-c33b-4aef-a321-456d6dbb5378",
   "metadata": {},
   "outputs": [
    {
     "data": {
      "text/plain": [
       "24"
      ]
     },
     "execution_count": 2,
     "metadata": {},
     "output_type": "execute_result"
    }
   ],
   "source": [
    "ar=[5,4,2,6,3,8,9,7,4,7,3,6,9,8,2,4,6,8,6,2,3,4,5,1,4,2]\n",
    "l=[]\n",
    "length=len(ar)\n",
    "for i in range(length-3):\n",
    "    sum=ar[i]+ar[i+1]+ar[i+2]\n",
    "    l.append(sum)\n",
    "max(l)"
   ]
  },
  {
   "cell_type": "code",
   "execution_count": 11,
   "id": "e0b1d7e6-a8d8-4d7a-bcb1-3636b1d1255b",
   "metadata": {},
   "outputs": [
    {
     "name": "stdin",
     "output_type": "stream",
     "text": [
      " 3\n"
     ]
    },
    {
     "data": {
      "text/plain": [
       "24"
      ]
     },
     "execution_count": 11,
     "metadata": {},
     "output_type": "execute_result"
    }
   ],
   "source": [
    "ar=[5,4,2,6,3,8,9,7,4,7,3,6,9,8,2,4,6,8,6,2,3,4,5,1,4,2]\n",
    "k=int(input())\n",
    "sum,s=0,0\n",
    "out=[]\n",
    "length=len(ar)\n",
    "for i in range(length-k+1):\n",
    "    for j in range(i,k+i):\n",
    "        sum=sum+ar[j]\n",
    "    if(s<sum):\n",
    "        s=sum\n",
    "    out.append(s)\n",
    "    sum=0\n",
    "s"
   ]
  },
  {
   "cell_type": "code",
   "execution_count": 13,
   "id": "ff54032d-00af-4a37-8847-ee4d499f6bb9",
   "metadata": {},
   "outputs": [
    {
     "name": "stdin",
     "output_type": "stream",
     "text": [
      " 3\n"
     ]
    },
    {
     "data": {
      "text/plain": [
       "24"
      ]
     },
     "execution_count": 13,
     "metadata": {},
     "output_type": "execute_result"
    }
   ],
   "source": [
    "ar=[5,4,2,6,3,8,9,7,4,7,3,6,9,8,2,4,6,8,6,2,3,4,5,1,4,2,11,12]\n",
    "k=int(input())\n",
    "length=len(ar)\n",
    "sum=0\n",
    "for i in range(k):\n",
    "    sum+=ar[i]\n",
    "window=sum\n",
    "for j in range(length-k):\n",
    "    if(window>sum):\n",
    "        sum=window\n",
    "    window=window-ar[j]+ar[j+k]\n",
    "sum"
   ]
  },
  {
   "cell_type": "code",
   "execution_count": null,
   "id": "d468aff3-4f16-4b42-b65b-1d103732196c",
   "metadata": {},
   "outputs": [],
   "source": []
  }
 ],
 "metadata": {
  "kernelspec": {
   "display_name": "Python 3 (ipykernel)",
   "language": "python",
   "name": "python3"
  },
  "language_info": {
   "codemirror_mode": {
    "name": "ipython",
    "version": 3
   },
   "file_extension": ".py",
   "mimetype": "text/x-python",
   "name": "python",
   "nbconvert_exporter": "python",
   "pygments_lexer": "ipython3",
   "version": "3.10.0"
  }
 },
 "nbformat": 4,
 "nbformat_minor": 5
}
