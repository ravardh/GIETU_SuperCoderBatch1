{
 "cells": [
  {
   "cell_type": "code",
   "execution_count": 23,
   "id": "a358b81b-0f59-49b5-8325-9216d6038ce5",
   "metadata": {},
   "outputs": [
    {
     "name": "stdin",
     "output_type": "stream",
     "text": [
      "Enter 1st integer 8\n",
      "Enter 2nd integer 2\n",
      "Enter operator  %\n"
     ]
    },
    {
     "name": "stdout",
     "output_type": "stream",
     "text": [
      "Remainder will be  0\n"
     ]
    }
   ],
   "source": [
    "num1=int(input(\"Enter 1st integer\"))\n",
    "num2=int(input(\"Enter 2nd integer\"))\n",
    "op=input(\"Enter operator \")\n",
    "if op=='+':\n",
    "    print(\"Adiition of two integer will be \",num1+num2)\n",
    "elif op=='-':\n",
    "    print(\"Subtraction of two integer will be \",num1-num2)\n",
    "elif op=='*':\n",
    "    print(\"Multiplication of two integer will be \",num1*num2)\n",
    "elif op=='/':\n",
    "    print(\"Division of two integer will be \",num1/num2)\n",
    "elif op=='%':\n",
    "    print(\"Remainder will be \",num1%num2)\n",
    "else:\n",
    "    print(\"Wrong Input\")"
   ]
  },
  {
   "cell_type": "code",
   "execution_count": null,
   "id": "393d6bf2-0a31-49c0-a794-4ff587ac4cce",
   "metadata": {},
   "outputs": [],
   "source": []
  }
 ],
 "metadata": {
  "kernelspec": {
   "display_name": "Python 3 (ipykernel)",
   "language": "python",
   "name": "python3"
  },
  "language_info": {
   "codemirror_mode": {
    "name": "ipython",
    "version": 3
   },
   "file_extension": ".py",
   "mimetype": "text/x-python",
   "name": "python",
   "nbconvert_exporter": "python",
   "pygments_lexer": "ipython3",
   "version": "3.11.4"
  }
 },
 "nbformat": 4,
 "nbformat_minor": 5
}
