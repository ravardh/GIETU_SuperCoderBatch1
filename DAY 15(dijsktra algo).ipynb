{
 "cells": [
  {
   "cell_type": "code",
   "execution_count": null,
   "id": "ca8a3740",
   "metadata": {},
   "outputs": [],
   "source": [
    "dijsktra algo"
   ]
  },
  {
   "cell_type": "code",
   "execution_count": 1,
   "id": "e61468b3",
   "metadata": {},
   "outputs": [
    {
     "name": "stdout",
     "output_type": "stream",
     "text": [
      "1: {2: 4, 8: 8}\n",
      "2: {1: 4, 3: 8, 8: 11}\n",
      "8: {1: 8, 2: 11, 7: 1, 9: 7}\n",
      "3: {2: 8, 4: 7, 6: 4, 9: 2}\n",
      "4: {3: 7, 5: 9, 6: 14}\n",
      "6: {3: 4, 4: 14, 5: 10, 7: 2}\n",
      "9: {3: 2, 7: 6, 8: 7}\n",
      "5: {4: 9, 6: 10}\n",
      "7: {6: 2, 8: 1, 9: 6}\n",
      "\n",
      "Minimum Distance of vertex 1 from 3 is 12\n",
      "Minimum Distance of vertex 2 from 3 is 8\n",
      "Minimum Distance of vertex 8 from 3 is 7\n",
      "Minimum Distance of vertex 3 from 3 is 0\n",
      "Minimum Distance of vertex 4 from 3 is 7\n",
      "Minimum Distance of vertex 6 from 3 is 4\n",
      "Minimum Distance of vertex 9 from 3 is 2\n",
      "Minimum Distance of vertex 5 from 3 is 14\n",
      "Minimum Distance of vertex 7 from 3 is 6\n"
     ]
    }
   ],
   "source": [
    "class Graph:\n",
    "  def __init__(self, vertices):\n",
    "    self.graph = {}\n",
    "    self.V = vertices\n",
    "\n",
    "  def add_edge(self, u, v, w):\n",
    "    self.graph.setdefault(u, {})[v] = w\n",
    "    self.graph.setdefault(v, {})[u] = w\n",
    "\n",
    "  def print_graph(self):\n",
    "    for i in self.graph:\n",
    "      print(f\"{i}: {self.graph[i]}\")\n",
    "\n",
    "  def dijsktra(self, start):\n",
    "    d = {i: float('inf') for i in self.graph}\n",
    "    path = {i: float('inf') for i in self.graph}\n",
    "    path[start] = 0\n",
    "    k = start\n",
    "\n",
    "    while d:\n",
    "      v = path[k]\n",
    "      for i in self.graph[k]:\n",
    "        if i in d:\n",
    "          d[i] = min(d[i], v + self.graph[k][i])\n",
    "          path[i] = d[i]\n",
    "      del d[k]\n",
    "      if d:\n",
    "        k = min(d, key=d.get)\n",
    "\n",
    "    for i in self.graph:\n",
    "      print(f\"Minimum Distance of vertex {i} from {start} is {path[i]}\")\n",
    "\n",
    "g = Graph(9)\n",
    "g.add_edge(1, 2, 4)\n",
    "g.add_edge(1, 8, 8)\n",
    "g.add_edge(2, 3, 8)\n",
    "g.add_edge(2, 8, 11)\n",
    "g.add_edge(3, 4, 7)\n",
    "g.add_edge(3, 6, 4)\n",
    "g.add_edge(3, 9, 2)\n",
    "g.add_edge(4, 5, 9)\n",
    "g.add_edge(4, 6, 14)\n",
    "g.add_edge(5, 6, 10)\n",
    "g.add_edge(6, 7, 2)\n",
    "g.add_edge(7, 8, 1)\n",
    "g.add_edge(7, 9, 6)\n",
    "g.add_edge(8, 9, 7)\n",
    "\n",
    "g.print_graph()\n",
    "print()\n",
    "g.dijsktra(3)\n"
   ]
  },
  {
   "cell_type": "code",
   "execution_count": null,
   "id": "487a36b4",
   "metadata": {},
   "outputs": [],
   "source": []
  }
 ],
 "metadata": {
  "kernelspec": {
   "display_name": "Python 3 (ipykernel)",
   "language": "python",
   "name": "python3"
  },
  "language_info": {
   "codemirror_mode": {
    "name": "ipython",
    "version": 3
   },
   "file_extension": ".py",
   "mimetype": "text/x-python",
   "name": "python",
   "nbconvert_exporter": "python",
   "pygments_lexer": "ipython3",
   "version": "3.10.9"
  }
 },
 "nbformat": 4,
 "nbformat_minor": 5
}
