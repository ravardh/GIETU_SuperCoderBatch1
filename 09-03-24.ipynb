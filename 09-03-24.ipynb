{
 "cells": [
  {
   "cell_type": "markdown",
   "id": "094e0cc6",
   "metadata": {},
   "source": [
    "# Dijkstra : Find shortest path"
   ]
  },
  {
   "cell_type": "code",
   "execution_count": 1,
   "id": "fe868d12",
   "metadata": {},
   "outputs": [
    {
     "name": "stdout",
     "output_type": "stream",
     "text": [
      "Enter the start node: 1\n",
      "Enter the destination node: 9\n",
      "The shortest distance from node 1 to node 9 is:  14\n",
      "The path is:  [1, 2, 3, 9]\n"
     ]
    }
   ],
   "source": [
    "def dijkstra(graph, start, end):\n",
    "    distances = {node: float('inf') for node in graph}\n",
    "    distances[start] = 0\n",
    "    previous_nodes = {node: None for node in graph}\n",
    "    unvisited = graph.copy()\n",
    "\n",
    "    while unvisited:\n",
    "        current_node = min(unvisited, key=lambda node: distances[node])\n",
    "        unvisited.pop(current_node)\n",
    "\n",
    "        if current_node == end:\n",
    "            break\n",
    "\n",
    "        for neighbor, weight in graph[current_node]:\n",
    "            new_distance = distances[current_node] + weight\n",
    "            if new_distance < distances[neighbor]:\n",
    "                distances[neighbor] = new_distance\n",
    "                previous_nodes[neighbor] = current_node\n",
    "\n",
    "    path, current_node = [], end\n",
    "    while previous_nodes[current_node] is not None:\n",
    "        path.insert(0, current_node)\n",
    "        current_node = previous_nodes[current_node]\n",
    "    if path:\n",
    "        path.insert(0, current_node)\n",
    "    return distances[end], path\n",
    "\n",
    "graph = {\n",
    "    1: [(2, 4), (8, 8)],\n",
    "    2: [(3, 8), (8, 11)],\n",
    "    3: [(2, 8), (4, 7), (6, 4), (9, 2)],\n",
    "    4: [(3, 7), (5, 9), (6, 14)],\n",
    "    5: [(4, 9), (6, 10)],\n",
    "    6: [(5, 10), (3, 4), (7, 2)],\n",
    "    7: [(6, 2), (9, 6), (8, 1)],\n",
    "    8: [(1, 8), (2, 11), (9, 7)],\n",
    "    9: [(8, 7), (3, 2), (7, 6)]\n",
    "}\n",
    "\n",
    "start = int(input(\"Enter the start node: \"))\n",
    "end = int(input(\"Enter the destination node: \"))\n",
    "distance, path = dijkstra(graph, start, end)\n",
    "print(f\"The shortest distance from node {start} to node {end} is: \", distance)\n",
    "print(\"The path is: \", path)"
   ]
  },
  {
   "cell_type": "code",
   "execution_count": 2,
   "id": "d5ea844f",
   "metadata": {},
   "outputs": [
    {
     "name": "stdout",
     "output_type": "stream",
     "text": [
      "[0, 4, 12, 19, 21, 11, 9, 8, 14]\n"
     ]
    }
   ],
   "source": [
    "# TO all the other nodes\n",
    "class Graph:\n",
    "    def __init__(self, graph):\n",
    "        self.graph = graph\n",
    "        \n",
    "    def dijkstra(self, s):\n",
    "        Dic = {}\n",
    "        for i in self.graph:\n",
    "            Dic[i] = float('inf')\n",
    "        Dic[s] = 0\n",
    "        l = [0] * len(self.graph)\n",
    "\n",
    "        while len(Dic) > 0:\n",
    "            minimum = float('inf')\n",
    "            k = 0\n",
    "            for i in Dic:\n",
    "                if minimum > Dic[i]:\n",
    "                    minimum = Dic[i]\n",
    "                    k = i\n",
    "            for i in range(len(self.graph[k])):\n",
    "                if self.graph[k][i][0] in Dic:\n",
    "                    if Dic[self.graph[k][i][0]] > self.graph[k][i][1] + minimum:\n",
    "                        Dic[self.graph[k][i][0]] = self.graph[k][i][1] + minimum\n",
    "            Dic.pop(k)\n",
    "            l[k-1] = minimum\n",
    "\n",
    "        print(l)\n",
    "\n",
    "\n",
    "if __name__ == \"__main__\":\n",
    "    graph = {\n",
    "        1: [(2, 4), (8, 8)],\n",
    "        2: [(3, 8), (8, 11), (1, 4)],\n",
    "        3: [(2, 8), (4, 7), (9, 2), (6, 4)],\n",
    "        4: [(3, 7), (5, 9), (6, 14)],\n",
    "        5: [(4, 9), (6, 10)],\n",
    "        6: [(4, 14), (5, 10), (3, 4), (7, 2)],\n",
    "        7: [(6, 2), (9, 6), (8, 1)],\n",
    "        8: [(9, 7), (7, 1), (2, 11), (1, 8)],\n",
    "        9: [(3, 2), (7, 6), (8, 7)]\n",
    "    }\n",
    "    g = Graph(graph)\n",
    "    s = 1\n",
    "    g.dijkstra(s)\n"
   ]
  },
  {
   "cell_type": "code",
   "execution_count": null,
   "id": "8cf9fd6a",
   "metadata": {},
   "outputs": [],
   "source": []
  }
 ],
 "metadata": {
  "kernelspec": {
   "display_name": "Python 3 (ipykernel)",
   "language": "python",
   "name": "python3"
  },
  "language_info": {
   "codemirror_mode": {
    "name": "ipython",
    "version": 3
   },
   "file_extension": ".py",
   "mimetype": "text/x-python",
   "name": "python",
   "nbconvert_exporter": "python",
   "pygments_lexer": "ipython3",
   "version": "3.7.9"
  }
 },
 "nbformat": 4,
 "nbformat_minor": 5
}
