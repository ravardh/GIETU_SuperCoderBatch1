{
 "cells": [
  {
   "cell_type": "code",
   "execution_count": 1,
   "id": "548467f3-8039-49fb-b490-bd9749a7171e",
   "metadata": {},
   "outputs": [
    {
     "name": "stdout",
     "output_type": "stream",
     "text": [
      "Maximum price: 54\n",
      "Included items:\n",
      "Price: 18 \tWeight: 4\n",
      "Price: 6 \tWeight: 1\n",
      "Price: 15 \tWeight: 5\n",
      "Price: 5 \tWeight: 3\n",
      "Price: 10 \tWeight: 2\n"
     ]
    }
   ],
   "source": [
    "def knapsack(items, capacity):\n",
    "    n = len(items)\n",
    "    dp = [[0]*(capacity+1) for _ in range (n+1)]\n",
    "    for i in range(1, n+1):\n",
    "        for w in range(1, capacity+1):\n",
    "            if items[i-1][1]>w:\n",
    "                dp[i][w] = dp[i-1][w]\n",
    "            else:\n",
    "                dp[i][w] = max(dp[i-1][w], items[i-1][0]+dp[i-1][w-items[i-1][1]])\n",
    "    included_items = []\n",
    "    w = capacity\n",
    "    for i in range(n, 0, -1):\n",
    "        if dp[i][w] != dp[i-1][w]:\n",
    "            included_items.append(items[i-1])\n",
    "            w -= items[i-1][1]\n",
    "    return dp[n][capacity], included_items\n",
    "    \n",
    "items = [(10, 2), (5, 3), (15, 5), (7, 7), (6, 1), (18, 4), (3, 1)]\n",
    "capacity = 15\n",
    "max_price, included_items = knapsack(items, capacity)\n",
    "print(\"Maximum price:\", max_price)\n",
    "print(\"Included items:\")\n",
    "for price, weight in included_items:\n",
    "    print(\"Price:\", price, \"\\tWeight:\", weight)"
   ]
  },
  {
   "cell_type": "code",
   "execution_count": 2,
   "id": "1beecbc1-dace-4383-a764-af7fa6ed23d4",
   "metadata": {},
   "outputs": [
    {
     "name": "stdout",
     "output_type": "stream",
     "text": [
      "54\n"
     ]
    }
   ],
   "source": [
    "def knapSack(W, wt, val, n):\n",
    "    K = [[0 for x in range(W + 1)] for x in range(n + 1)]\n",
    "    \n",
    "    for i in range(n + 1):\n",
    "        for w in range(W + 1):\n",
    "            if i == 0 or w == 0:\n",
    "                K[i][w] = 0\n",
    "            elif wt[i-1] <= w:\n",
    "                K[i][w] = max(val[i-1] + K[i-1][w-wt[i-1]], K[i-1][w])\n",
    "            else:\n",
    "                K[i][w] = K[i-1][w]\n",
    "    \n",
    "    return K[n][W]\n",
    "\n",
    "val = [10,5,15,7,6,18,3]\n",
    "wt = [2,3,5,7,1,4,1]\n",
    "W = 15\n",
    "n = len(val)\n",
    "print(knapSack(W, wt, val, n))"
   ]
  },
  {
   "cell_type": "code",
   "execution_count": null,
   "id": "79a47b98-c5a5-4686-af52-b8107c43f263",
   "metadata": {},
   "outputs": [],
   "source": []
  }
 ],
 "metadata": {
  "kernelspec": {
   "display_name": "Python 3 (ipykernel)",
   "language": "python",
   "name": "python3"
  },
  "language_info": {
   "codemirror_mode": {
    "name": "ipython",
    "version": 3
   },
   "file_extension": ".py",
   "mimetype": "text/x-python",
   "name": "python",
   "nbconvert_exporter": "python",
   "pygments_lexer": "ipython3",
   "version": "3.11.5"
  }
 },
 "nbformat": 4,
 "nbformat_minor": 5
}
