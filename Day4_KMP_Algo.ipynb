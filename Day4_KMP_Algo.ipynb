{
  "nbformat": 4,
  "nbformat_minor": 0,
  "metadata": {
    "colab": {
      "provenance": [],
      "authorship_tag": "ABX9TyMRG24eO8GyQYVANPl7P/Yp",
      "include_colab_link": true
    },
    "kernelspec": {
      "name": "python3",
      "display_name": "Python 3"
    },
    "language_info": {
      "name": "python"
    }
  },
  "cells": [
    {
      "cell_type": "markdown",
      "metadata": {
        "id": "view-in-github",
        "colab_type": "text"
      },
      "source": [
        "<a href=\"https://colab.research.google.com/github/ravardh/GIETU_SuperCoderBatch1/blob/Ashish_21cse101/Day4_KMP_Algo.ipynb\" target=\"_parent\"><img src=\"https://colab.research.google.com/assets/colab-badge.svg\" alt=\"Open In Colab\"/></a>"
      ]
    },
    {
      "cell_type": "code",
      "source": [
        "#pattern\n",
        "\n",
        "string = \"ABAABABCABABABCAABABCABAC\"\n",
        "Pattern = \"ABABC\"\n",
        "\n",
        "count = 0\n",
        "for i in range(len(string)-len(Pattern)+1):\n",
        "    if string[i:i+len(Pattern)] == Pattern:\n",
        "        count += 1\n",
        "print(count)"
      ],
      "metadata": {
        "colab": {
          "base_uri": "https://localhost:8080/"
        },
        "id": "kuWVHis6LU_N",
        "outputId": "b86654ca-6702-4321-9476-2731004ae96d"
      },
      "execution_count": null,
      "outputs": [
        {
          "output_type": "stream",
          "name": "stdout",
          "text": [
            "3\n"
          ]
        }
      ]
    },
    {
      "cell_type": "code",
      "source": [
        "#KMP Algorithm\n",
        "\n",
        "def KMPSearch(pat, data):\n",
        "\tM = len(pat)\n",
        "\tN = len(data)\n",
        "\n",
        "\tlps = [0]*M\n",
        "\tj = 0\n",
        "\n",
        "\tLPS(pat, M, lps)\n",
        "\n",
        "\ti = 0\n",
        "\twhile (N - i) >= (M - j):\n",
        "\t\tif pat[j] == data[i]:\n",
        "\t\t\ti += 1\n",
        "\t\t\tj += 1\n",
        "\n",
        "\t\tif j == M:\n",
        "\t\t\tprint(\"Found pattern at index \" + str(i-j))\n",
        "\t\t\tj = lps[j-1]\n",
        "\n",
        "\t\telif i < N and pat[j] != data[i]:\n",
        "\t\t\tif j != 0:\n",
        "\t\t\t\tj = lps[j-1]\n",
        "\t\t\telse:\n",
        "\t\t\t\ti += 1\n",
        "\n",
        "def LPS(pat, M, lps):\n",
        "\tlen = 0\n",
        "\n",
        "\tlps[0] = 0\n",
        "\ti = 1\n",
        "  while i < M:\n",
        "\t\tif pat[i] == pat[len]:\n",
        "\t\t\tlen += 1\n",
        "\t\t\tlps[i] = len\n",
        "\t\t\ti += 1\n",
        "\t\telse:\n",
        "\t\t\tif len != 0:\n",
        "\t\t\t\tlen = lps[len-1]\n",
        "\t\t\telse:\n",
        "\t\t\t\tlps[i] = 0\n",
        "\t\t\t\ti += 1\n",
        "\n",
        "# Driver code\n",
        "if __name__ == '__main__':\n",
        "\tdata = \"ABAABABCABABABCAABABCABAC\"\n",
        "\tpat = \"ABABC\"\n",
        "\tKMPSearch(pat, data)"
      ],
      "metadata": {
        "colab": {
          "base_uri": "https://localhost:8080/"
        },
        "id": "g8iTXi8wOqOi",
        "outputId": "44f406ff-be5c-495c-f7fa-ad78801e1e44"
      },
      "execution_count": null,
      "outputs": [
        {
          "output_type": "stream",
          "name": "stdout",
          "text": [
            "Found pattern at index 3\n",
            "Found pattern at index 10\n",
            "Found pattern at index 16\n"
          ]
        }
      ]
    },
    {
      "cell_type": "code",
      "source": [],
      "metadata": {
        "id": "Uh4aJNtoWIA1"
      },
      "execution_count": null,
      "outputs": []
    }
  ]
}