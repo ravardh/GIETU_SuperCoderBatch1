{
 "cells": [
  {
   "cell_type": "code",
   "execution_count": 6,
   "id": "2dbc68d8",
   "metadata": {},
   "outputs": [
    {
     "name": "stdout",
     "output_type": "stream",
     "text": [
      "5\n",
      "0\n",
      "/\n",
      "Zero Division Error\n"
     ]
    }
   ],
   "source": [
    "a=int(input())\n",
    "b=int(input())\n",
    "oper=input()\n",
    "match oper:\n",
    "    case \"+\":\n",
    "        print(a+b)\n",
    "    case \"-\":\n",
    "        print(a-b)\n",
    "    case \"*\":\n",
    "        print(a*b)\n",
    "    case \"/\":\n",
    "        if b!=0:\n",
    "            print(a/b)\n",
    "        else:\n",
    "            print(\"Zero Division Error\")\n",
    "    case \"%\":\n",
    "        print(a%b)\n",
    "    case \"**\":\n",
    "        print(a**b)\n",
    "    case \"_\":\n",
    "        print(\"Invalid operator\")\n",
    "        "
   ]
  },
  {
   "cell_type": "code",
   "execution_count": null,
   "id": "26166749",
   "metadata": {},
   "outputs": [],
   "source": []
  }
 ],
 "metadata": {
  "kernelspec": {
   "display_name": "Python 3 (ipykernel)",
   "language": "python",
   "name": "python3"
  },
  "language_info": {
   "codemirror_mode": {
    "name": "ipython",
    "version": 3
   },
   "file_extension": ".py",
   "mimetype": "text/x-python",
   "name": "python",
   "nbconvert_exporter": "python",
   "pygments_lexer": "ipython3",
   "version": "3.11.3"
  }
 },
 "nbformat": 4,
 "nbformat_minor": 5
}
