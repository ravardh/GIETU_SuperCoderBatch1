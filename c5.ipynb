{
 "cells": [
  {
   "cell_type": "code",
   "execution_count": 4,
   "id": "42fa1e2b",
   "metadata": {},
   "outputs": [
    {
     "name": "stdout",
     "output_type": "stream",
     "text": [
      "<__main__.node object at 0x0000026ABC87D990>\n",
      "20\n"
     ]
    }
   ],
   "source": [
    "class node:\n",
    "    def __init__(self,info=None):\n",
    "        self.data=info\n",
    "        self.left=None\n",
    "        self.right=None\n",
    "root=node(20)\n",
    "root.left=node(32)\n",
    "root.right=node(10)\n",
    "root.left.left=node(15)\n",
    "root.left.right=node(12)\n",
    "root.right.left=node(8)\n",
    "root.right.right=node(24)\n",
    "root.left.left.left=node(4)\n",
    "root.left.right.left=node(50)\n",
    "root.left.right.right=node(6)\n",
    "root.right.right.left=node(16)\n",
    "root.right.right.right=node(2)\n",
    "root.left.right.left.left=node(40)\n",
    "root.left.right.left.right=node(35)\n",
    "print(root)\n",
    "print(root.data)"
   ]
  },
  {
   "cell_type": "code",
   "execution_count": 11,
   "id": "0ac3032c",
   "metadata": {},
   "outputs": [
    {
     "name": "stdout",
     "output_type": "stream",
     "text": [
      "20 32 15 4 12 50 40 35 6 10 8 24 16 2 "
     ]
    }
   ],
   "source": [
    "class Node:\n",
    "    def __init__(self, info=None):\n",
    "        self.data = info\n",
    "        self.left = None\n",
    "        self.right = None\n",
    "\n",
    "def preorder(root):\n",
    "    if root == None:\n",
    "        return\n",
    "    print(root.data, end=\" \")\n",
    "    preorder(root.left)\n",
    "    preorder(root.right)\n",
    "\n",
    "root = Node(20)\n",
    "root.left = Node(32)\n",
    "root.right = Node(10)\n",
    "root.left.left = Node(15)\n",
    "root.left.right = Node(12)\n",
    "root.right.left = Node(8)\n",
    "root.right.right = Node(24)\n",
    "root.left.left.left = Node(4)\n",
    "root.left.right.left = Node(50)\n",
    "root.left.right.right = Node(6)\n",
    "root.right.right.left = Node(16)\n",
    "root.right.right.right = Node(2)\n",
    "root.left.right.left.left = Node(40)\n",
    "root.left.right.left.right = Node(35)\n",
    "\n",
    "preorder(root)\n"
   ]
  },
  {
   "cell_type": "code",
   "execution_count": 14,
   "id": "339cd052",
   "metadata": {},
   "outputs": [
    {
     "name": "stdout",
     "output_type": "stream",
     "text": [
      "\n",
      " level order traversal\n",
      "20 \n",
      "32 10 \n",
      "15 12 8 24 \n",
      "4 50 6 16 2 \n",
      "40 35 \n"
     ]
    }
   ],
   "source": [
    "class Node:\n",
    "    def __init__(self, info=None):\n",
    "        self.data = info\n",
    "        self.left = None\n",
    "        self.right = None\n",
    "\n",
    "def preorder(root):\n",
    "    if root == None:\n",
    "        return\n",
    "    print(root.data, end=\" \")\n",
    "    preorder(root.left)\n",
    "    preorder(root.right)\n",
    "def levelorder(root):\n",
    "    q=[root]\n",
    "    q.append(None)\n",
    "    while len(q)>0:\n",
    "        cur=q.pop(0)\n",
    "        if cur == None:\n",
    "            print()\n",
    "            if len(q)>0:\n",
    "                q.append(None)\n",
    "        else: \n",
    "            print(cur.data, end=\" \")\n",
    "            if cur.left !=None:\n",
    "                q.append(cur.left)\n",
    "            if cur.right !=None:\n",
    "                q.append(cur.right)    \n",
    "        \n",
    "    \n",
    "\n",
    "\n",
    "root = Node(20)\n",
    "root.left = Node(32)\n",
    "root.right = Node(10)\n",
    "root.left.left = Node(15)\n",
    "root.left.right = Node(12)\n",
    "root.right.left = Node(8)\n",
    "root.right.right = Node(24)\n",
    "root.left.left.left = Node(4)\n",
    "root.left.right.left = Node(50)\n",
    "root.left.right.right = Node(6)\n",
    "root.right.right.left = Node(16)\n",
    "root.right.right.right = Node(2)\n",
    "root.left.right.left.left = Node(40)\n",
    "root.left.right.left.right = Node(35)\n",
    "\n",
    "#preorder(root)\n",
    "print(\"\\n level order traversal\")\n",
    "levelorder(root)"
   ]
  },
  {
   "cell_type": "code",
   "execution_count": null,
   "id": "35000499",
   "metadata": {},
   "outputs": [],
   "source": []
  }
 ],
 "metadata": {
  "kernelspec": {
   "display_name": "Python 3 (ipykernel)",
   "language": "python",
   "name": "python3"
  },
  "language_info": {
   "codemirror_mode": {
    "name": "ipython",
    "version": 3
   },
   "file_extension": ".py",
   "mimetype": "text/x-python",
   "name": "python",
   "nbconvert_exporter": "python",
   "pygments_lexer": "ipython3",
   "version": "3.11.4"
  }
 },
 "nbformat": 4,
 "nbformat_minor": 5
}
