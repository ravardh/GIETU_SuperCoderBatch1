{
 "cells": [
  {
   "cell_type": "code",
   "execution_count": 3,
   "id": "aabae93d",
   "metadata": {},
   "outputs": [
    {
     "name": "stdout",
     "output_type": "stream",
     "text": [
      "<__main__.node object at 0x000001F304ABA450>\n",
      "20\n"
     ]
    }
   ],
   "source": [
    "class node:\n",
    "    def __init__(self,info=None):\n",
    "        self.data=info\n",
    "        self.left=None\n",
    "        self.right=None\n",
    "    root=node(20)\n",
    "    root.left=node(32)\n",
    "    root.right=node(10)\n",
    "    root.left.left=node(15)\n",
    "    root.left.right=node(12)\n",
    "    root.right.left=node(8)\n",
    "    root.right.right=node(24)\n",
    "    root.left.left.left=node(4)\n",
    "    root.left.right.left=node(50)\n",
    "    root.left.right.right=node(6)\n",
    "    root.right.right.left=node(16)\n",
    "    root.right.right.right=node(2)\n",
    "    root.left.right.left.left=node(40)\n",
    "    root.left.right.left.right=node(35)\n",
    "    print(root)\n",
    "    print(root.data)"
   ]
  },
  {
   "cell_type": "code",
   "execution_count": 4,
   "id": "92e8ba21",
   "metadata": {},
   "outputs": [
    {
     "name": "stdout",
     "output_type": "stream",
     "text": [
      "20 32 15 4 12 50 40 35 6 10 8 24 16 2 "
     ]
    }
   ],
   "source": [
    "class node:\n",
    "    def __init__(self,info=None):\n",
    "        self.data=info\n",
    "        self.left=None\n",
    "        self.right=None\n",
    "def preorder(root):\n",
    "    if root==None:\n",
    "        return\n",
    "    print(root.data,end=\" \")\n",
    "    preorder(root.left)\n",
    "    preorder(root.right)\n",
    "\n",
    "root = node(20)\n",
    "root.left=node(32)\n",
    "root.right=node(10)\n",
    "root.left.left=node(15)\n",
    "root.left.right=node(12)\n",
    "root.right.left=node(8)\n",
    "root.right.right=node(24)\n",
    "root.left.left.left=node(4)\n",
    "root.left.right.left=node(50)\n",
    "root.left.right.right=node(6)\n",
    "root.right.right.left=node(16)\n",
    "root.right.right.right=node(2)\n",
    "root.left.right.left.left=node(40)\n",
    "root.left.right.left.right=node(35)\n",
    "# print(root)\n",
    "# print(root.data)\n",
    "preorder(root)"
   ]
  },
  {
   "cell_type": "code",
   "execution_count": 14,
   "id": "adb73435",
   "metadata": {},
   "outputs": [
    {
     "name": "stdout",
     "output_type": "stream",
     "text": [
      "4 15 32 40 50 35 12 6 20 8 10 16 24 2 "
     ]
    }
   ],
   "source": [
    "class node:\n",
    "    def __init__(self,info=None):\n",
    "        self.data=info\n",
    "        self.left=None\n",
    "        self.right=None\n",
    "def inorder(root):\n",
    "    if root==None:\n",
    "        return\n",
    "    inorder(root.left)\n",
    "    print(root.data,end=\" \")\n",
    "    inorder(root.right)\n",
    "\n",
    "    root=node(20)\n",
    "    root.left=node(32)\n",
    "    root.right=node(10)\n",
    "    root.left.left=node(15)\n",
    "    root.left.right=node(12)\n",
    "    root.right.left=node(8)\n",
    "    root.right.right=node(24)\n",
    "    root.left.left.left=node(4)\n",
    "    root.left.right.left=node(50)\n",
    "    root.left.right.right=node(6)\n",
    "    root.right.right.left=node(16)\n",
    "    root.right.right.right=node(2)\n",
    "    root.left.right.left.left=node(40)\n",
    "    root.left.right.left.right=node(35)\n",
    "#     print(root)\n",
    "#     print(root.data)\n",
    "inorder(root)\n",
    "       "
   ]
  },
  {
   "cell_type": "code",
   "execution_count": 15,
   "id": "4c981a9f",
   "metadata": {},
   "outputs": [
    {
     "name": "stdout",
     "output_type": "stream",
     "text": [
      "32 15 4 12 50 40 35 6 10 8 24 16 2 20 "
     ]
    }
   ],
   "source": [
    "class node:\n",
    "    def __init__(self,info=None):\n",
    "        self.data=info\n",
    "        self.left=None\n",
    "        self.right=None\n",
    "def postorder(root):\n",
    "    if root==None:\n",
    "        return\n",
    "    \n",
    "    preorder(root.left)\n",
    "    preorder(root.right)\n",
    "    print(root.data,end=\" \")\n",
    "\n",
    "root = node(20)\n",
    "root.left=node(32)\n",
    "root.right=node(10)\n",
    "root.left.left=node(15)\n",
    "root.left.right=node(12)\n",
    "root.right.left=node(8)\n",
    "root.right.right=node(24)\n",
    "root.left.left.left=node(4)\n",
    "root.left.right.left=node(50)\n",
    "root.left.right.right=node(6)\n",
    "root.right.right.left=node(16)\n",
    "root.right.right.right=node(2)\n",
    "root.left.right.left.left=node(40)\n",
    "root.left.right.left.right=node(35)\n",
    "# print(root)\n",
    "# print(root.data)\n",
    "postorder(root)"
   ]
  },
  {
   "cell_type": "code",
   "execution_count": null,
   "id": "9d81d769",
   "metadata": {},
   "outputs": [],
   "source": []
  },
  {
   "cell_type": "code",
   "execution_count": null,
   "id": "9db898df",
   "metadata": {},
   "outputs": [],
   "source": []
  }
 ],
 "metadata": {
  "kernelspec": {
   "display_name": "Python 3 (ipykernel)",
   "language": "python",
   "name": "python3"
  },
  "language_info": {
   "codemirror_mode": {
    "name": "ipython",
    "version": 3
   },
   "file_extension": ".py",
   "mimetype": "text/x-python",
   "name": "python",
   "nbconvert_exporter": "python",
   "pygments_lexer": "ipython3",
   "version": "3.11.4"
  }
 },
 "nbformat": 4,
 "nbformat_minor": 5
}
