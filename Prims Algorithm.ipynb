{
 "cells": [
  {
   "cell_type": "code",
   "execution_count": 1,
   "id": "9e9dcd53",
   "metadata": {},
   "outputs": [
    {
     "name": "stdout",
     "output_type": "stream",
     "text": [
      "(1, 2, 10)\n",
      "(2, 4, 5)\n",
      "(1, 3, 20)\n",
      "35\n"
     ]
    }
   ],
   "source": [
    "import heapq\n",
    "\n",
    "class Graph:\n",
    "    def __init__(self, v):\n",
    "        self.v = v\n",
    "        self.adj_list = [[] for _ in range(v)]\n",
    "        self.visited = set()\n",
    "\n",
    "    def add_edge(self, s, d, w):\n",
    "        self.adj_list[s - 1].append((s, d, w))\n",
    "        self.adj_list[d - 1].append((d, s, w))\n",
    "\n",
    "    def prim_mst(self):\n",
    "        mst = []\n",
    "        total_weight = 0\n",
    "        start_vertex = 1\n",
    "        self.visited.add(start_vertex)\n",
    "        pq = [(weight, start_vertex, dest) for start, dest, weight in self.adj_list[start_vertex - 1]]\n",
    "        heapq.heapify(pq)\n",
    "\n",
    "        while pq:\n",
    "            weight, src, dest = heapq.heappop(pq)\n",
    "            if dest not in self.visited:\n",
    "                mst.append((src, dest, weight))\n",
    "                total_weight += weight\n",
    "                self.visited.add(dest)\n",
    "                for neighbor in self.adj_list[dest - 1]:\n",
    "                    if neighbor[1] not in self.visited:\n",
    "                        heapq.heappush(pq, (neighbor[2], neighbor[0], neighbor[1]))\n",
    "\n",
    "        return mst, total_weight\n",
    "\n",
    "g = Graph(4)\n",
    "g.add_edge(1, 2, 10)\n",
    "g.add_edge(1, 3, 20)\n",
    "g.add_edge(2, 3, 30)\n",
    "g.add_edge(2, 4, 5)\n",
    "\n",
    "mst, total_weight = g.prim_mst()\n",
    "for edge in mst:\n",
    "    print(edge)\n",
    "print(total_weight)"
   ]
  },
  {
   "cell_type": "code",
   "execution_count": null,
   "id": "c84c1f1d",
   "metadata": {},
   "outputs": [],
   "source": []
  }
 ],
 "metadata": {
  "kernelspec": {
   "display_name": "Python 3 (ipykernel)",
   "language": "python",
   "name": "python3"
  },
  "language_info": {
   "codemirror_mode": {
    "name": "ipython",
    "version": 3
   },
   "file_extension": ".py",
   "mimetype": "text/x-python",
   "name": "python",
   "nbconvert_exporter": "python",
   "pygments_lexer": "ipython3",
   "version": "3.11.3"
  }
 },
 "nbformat": 4,
 "nbformat_minor": 5
}
