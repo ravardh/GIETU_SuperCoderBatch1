{
 "cells": [
  {
   "cell_type": "code",
   "execution_count": 2,
   "id": "731273ee",
   "metadata": {},
   "outputs": [
    {
     "name": "stdout",
     "output_type": "stream",
     "text": [
      "[[(1, 2, 1), (1, 3, 1)], [(2, 3, 1), (2, 4, 1)], [(3, 1, 1), (3, 2, 1)], [(4, 2, 1)]]\n",
      "1\n",
      "2\n",
      "3\n",
      "4\n"
     ]
    }
   ],
   "source": [
    "def bfs(start):\n",
    "    Q = []\n",
    "    Q=[start]\n",
    "    visit = [False] * len(graph)\n",
    "    visit[start - 1] = True\n",
    "\n",
    "    while Q:\n",
    "        cur = Q.pop(0)\n",
    "        print(cur)\n",
    "\n",
    "        for n in graph[cur - 1]:\n",
    "            if not visit[n[1]-1]==True:\n",
    "                Q.append(n[1])\n",
    "                visit[n[1]-1] = True\n",
    "                \n",
    "def create_graph(graph, src, dst, wt=1):\n",
    "    graph[src - 1].append((src, dst, wt))\n",
    "v = 4\n",
    "graph = [[] for _ in range(v)]\n",
    "\n",
    "for i in range(v):\n",
    "    graph[i] = []\n",
    "\n",
    "create_graph(graph, 1, 2)\n",
    "create_graph(graph, 1, 3)\n",
    "create_graph(graph, 2, 3)\n",
    "create_graph(graph, 2, 4)\n",
    "create_graph(graph, 3, 1)\n",
    "create_graph(graph, 3, 2)\n",
    "create_graph(graph, 4, 2)\n",
    "\n",
    "print(graph)\n",
    "\n",
    "bfs(1)\n"
   ]
  },
  {
   "cell_type": "code",
   "execution_count": null,
   "id": "6a7f3e66",
   "metadata": {},
   "outputs": [],
   "source": []
  }
 ],
 "metadata": {
  "kernelspec": {
   "display_name": "Python 3 (ipykernel)",
   "language": "python",
   "name": "python3"
  },
  "language_info": {
   "codemirror_mode": {
    "name": "ipython",
    "version": 3
   },
   "file_extension": ".py",
   "mimetype": "text/x-python",
   "name": "python",
   "nbconvert_exporter": "python",
   "pygments_lexer": "ipython3",
   "version": "3.11.3"
  }
 },
 "nbformat": 4,
 "nbformat_minor": 5
}
