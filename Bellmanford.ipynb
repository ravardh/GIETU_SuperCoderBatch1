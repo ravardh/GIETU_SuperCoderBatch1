{
 "cells": [
  {
   "cell_type": "code",
   "execution_count": 1,
   "id": "24b9f8df",
   "metadata": {},
   "outputs": [
    {
     "name": "stdout",
     "output_type": "stream",
     "text": [
      "Vertex Distance from Source\n",
      "1\t\t0\n",
      "2\t\t3\n",
      "3\t\t5\n",
      "4\t\t5\n",
      "5\t\t2\n",
      "6\t\t4\n",
      "7\t\t5\n"
     ]
    }
   ],
   "source": [
    "class Graph:\n",
    "    def __init__(self, vertices):\n",
    "        self.V = vertices\n",
    "        self.graph = []\n",
    "\n",
    "    def edge(self, u, v, w):\n",
    "        self.graph.append([u, v, w])\n",
    "\n",
    "    def printArr(self, dist):\n",
    "        print(\"Vertex Distance from Source\")\n",
    "        for i in range(self.V):\n",
    "            print(f\"{i+1}\\t\\t{dist[i]}\")\n",
    "\n",
    "    def BellmanFord(self, src):\n",
    "\n",
    "        dist = [float(\"Inf\")] * self.V\n",
    "        dist[src-1] = 0\n",
    "\n",
    "        for _ in range(self.V - 1):\n",
    "            for u, v, w in self.graph:\n",
    "                if dist[u-1] != float(\"Inf\") and dist[u-1] + w < dist[v-1]:\n",
    "                    dist[v-1] = dist[u-1] + w\n",
    "\n",
    "        self.printArr(dist)\n",
    "\n",
    "\n",
    "\n",
    "g = Graph(7)\n",
    "g.edge(1, 2, 6)\n",
    "g.edge(1, 3, 5)\n",
    "g.edge(1, 4, 5)\n",
    "\n",
    "g.edge(2, 5, -1)\n",
    "\n",
    "g.edge(3, 5, 1)\n",
    "g.edge(3, 2, -2)\n",
    "\n",
    "g.edge(4, 6, -1)\n",
    "\n",
    "g.edge(5, 7, 3)\n",
    "\n",
    "g.edge(6, 7, 3)\n",
    "\n",
    "g.BellmanFord(1)"
   ]
  },
  {
   "cell_type": "code",
   "execution_count": null,
   "id": "462cb9b8",
   "metadata": {},
   "outputs": [],
   "source": []
  }
 ],
 "metadata": {
  "kernelspec": {
   "display_name": "Python 3 (ipykernel)",
   "language": "python",
   "name": "python3"
  },
  "language_info": {
   "codemirror_mode": {
    "name": "ipython",
    "version": 3
   },
   "file_extension": ".py",
   "mimetype": "text/x-python",
   "name": "python",
   "nbconvert_exporter": "python",
   "pygments_lexer": "ipython3",
   "version": "3.11.3"
  }
 },
 "nbformat": 4,
 "nbformat_minor": 5
}
