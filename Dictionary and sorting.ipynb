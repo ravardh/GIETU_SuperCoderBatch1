{
 "cells": [
  {
   "cell_type": "code",
   "execution_count": 1,
   "id": "00a4e68c",
   "metadata": {},
   "outputs": [
    {
     "name": "stdout",
     "output_type": "stream",
     "text": [
      "{1: 'Kriti', 2: 'Barsha'}\n",
      "{1: 'Kriti', 2: 'Barsha', 3: 'Anusha'}\n",
      "{1: 'Kritika', 2: 'Barsha', 3: 'Anusha', 4: 'Harshita', 5: 'Jubuli'}\n",
      "Enter a key to get the value5\n",
      "Jubuli\n",
      "Enter a key to get the value9\n",
      "Key error exception\n",
      "Code executed\n"
     ]
    }
   ],
   "source": [
    "# Dictionary\n",
    "# Key and value pairs\n",
    "d={1:\"Kriti\",2:\"Barsha\"}\n",
    "print(d)\n",
    " \n",
    "#update- add new element with new key\n",
    "d.update({3:\"Anusha\"})\n",
    "print(d)\n",
    "d.update({4:\"Harshita\"})\n",
    "d.update({5:\"Jubuli\"})\n",
    "\n",
    "#update- update old element with old key\n",
    "\n",
    "d.update({1:\"Kritika\"})\n",
    "print(d)\n",
    "\n",
    "#Keyerror exception\n",
    "key=int(input(\"Enter a key to get the value\"))\n",
    "if key in d.keys():\n",
    "    print(d[key])\n",
    "else:\n",
    "    print(\"Key Error\")\n",
    "\n",
    "#Exception handling\n",
    "key=int(input(\"Enter a key to get the value\"))\n",
    "try:\n",
    "    print(d[key])\n",
    "except:\n",
    "    print(\"Key error exception\")\n",
    "finally:\n",
    "    print(\"Code executed\")"
   ]
  },
  {
   "cell_type": "markdown",
   "id": "2e082a20",
   "metadata": {},
   "source": [
    "# Insertion sort"
   ]
  },
  {
   "cell_type": "code",
   "execution_count": 2,
   "id": "3806d6e6",
   "metadata": {},
   "outputs": [
    {
     "name": "stdout",
     "output_type": "stream",
     "text": [
      "[4, 7, 8, 9]\n"
     ]
    }
   ],
   "source": [
    "arr=[4,9,8,7]\n",
    "for i in range(1,len(arr)):\n",
    "    key = arr[i]  \n",
    "    j = i-1\n",
    "    while j >= 0 and key < arr[j]:  \n",
    "        arr[j+1] = arr[j]  \n",
    "        j -= 1\n",
    "    arr[j+1] = key\n",
    "print(arr) "
   ]
  },
  {
   "cell_type": "code",
   "execution_count": 3,
   "id": "07a919aa",
   "metadata": {},
   "outputs": [
    {
     "name": "stdout",
     "output_type": "stream",
     "text": [
      "[4, 7, 8, 9]\n"
     ]
    }
   ],
   "source": [
    "arr=[4,9,8,7]\n",
    "for i in range(1,len(arr)): \n",
    "    for j in range(i-1,-1,-1):\n",
    "        if(arr[i]<arr[j]):\n",
    "            arr[i],arr[j]=arr[j],arr[i]\n",
    "            i-=1\n",
    "            j-=1\n",
    "print(arr)"
   ]
  },
  {
   "cell_type": "markdown",
   "id": "57318924",
   "metadata": {},
   "source": [
    "# Bubble sort"
   ]
  },
  {
   "cell_type": "code",
   "execution_count": 4,
   "id": "30f5374d",
   "metadata": {},
   "outputs": [
    {
     "name": "stdout",
     "output_type": "stream",
     "text": [
      "[10, 19, 20, 24, 35, 47, 51]\n"
     ]
    }
   ],
   "source": [
    "arr=[24,51,19,20,10,35,47]\n",
    "for i in range(len(arr)-1):\n",
    "    for j in range(0,len(arr)-1-i):\n",
    "        if arr[j] > arr[j+1]:\n",
    "            arr[j],arr[j+1]=arr[j+1],arr[j]\n",
    "print(arr)"
   ]
  },
  {
   "cell_type": "markdown",
   "id": "5c87d66e",
   "metadata": {},
   "source": [
    "# Selection sort"
   ]
  },
  {
   "cell_type": "code",
   "execution_count": 7,
   "id": "f99a2c19",
   "metadata": {},
   "outputs": [
    {
     "name": "stdout",
     "output_type": "stream",
     "text": [
      "[13, 19, 23, 26, 34, 53, 75, 76]\n"
     ]
    }
   ],
   "source": [
    "arr=[75,53,26,76,34,23,19,13]\n",
    "for index in range(len(arr)):\n",
    "        min_index = index\n",
    " \n",
    "        for j in range(index + 1, len(arr)):\n",
    "            if arr[j] < arr[min_index]:\n",
    "                min_index = j\n",
    "        (arr[index], arr[min_index]) = (arr[min_index], arr[index])\n",
    "print(arr)\n",
    " "
   ]
  },
  {
   "cell_type": "code",
   "execution_count": null,
   "id": "64464a38",
   "metadata": {},
   "outputs": [],
   "source": []
  }
 ],
 "metadata": {
  "kernelspec": {
   "display_name": "Python 3 (ipykernel)",
   "language": "python",
   "name": "python3"
  },
  "language_info": {
   "codemirror_mode": {
    "name": "ipython",
    "version": 3
   },
   "file_extension": ".py",
   "mimetype": "text/x-python",
   "name": "python",
   "nbconvert_exporter": "python",
   "pygments_lexer": "ipython3",
   "version": "3.10.9"
  }
 },
 "nbformat": 4,
 "nbformat_minor": 5
}
