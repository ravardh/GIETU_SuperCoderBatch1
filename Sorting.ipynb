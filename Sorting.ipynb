{
  "nbformat": 4,
  "nbformat_minor": 0,
  "metadata": {
    "colab": {
      "provenance": []
    },
    "kernelspec": {
      "name": "python3",
      "display_name": "Python 3"
    },
    "language_info": {
      "name": "python"
    }
  },
  "cells": [
    {
      "cell_type": "markdown",
      "source": [
        "# Selection Sort"
      ],
      "metadata": {
        "id": "i8SxHVwPGjn9"
      }
    },
    {
      "cell_type": "code",
      "execution_count": 3,
      "metadata": {
        "colab": {
          "base_uri": "https://localhost:8080/"
        },
        "id": "LkXfL5XMFTX3",
        "outputId": "2f3c0eec-90de-4c41-da73-78cccd4f2e97"
      },
      "outputs": [
        {
          "output_type": "stream",
          "name": "stdout",
          "text": [
            "Sorted Array in Ascending Order is :\n",
            "[1, 2, 6, 7]\n"
          ]
        }
      ],
      "source": [
        "def selectionSort(array, size):\n",
        "\n",
        "\tfor s in range(size):\n",
        "\t\tmin_idx = s\n",
        "\n",
        "\t\tfor i in range(s + 1, size):\n",
        "\n",
        "\t\t\t# for minimum element in each loop\n",
        "\t\t\tif array[i] < array[min_idx]:\n",
        "\t\t\t\tmin_idx = i\n",
        "\n",
        "\t\t# Arranging min at the correct position\n",
        "\t\t(array[s], array[min_idx]) = (array[min_idx], array[s])\n",
        "\n",
        "# Driver code\n",
        "data = [ 7, 2, 1, 6 ]\n",
        "size = len(data)\n",
        "selectionSort(data, size)\n",
        "\n",
        "print('Sorted Array in Ascending Order is :')\n",
        "print(data)\n"
      ]
    },
    {
      "cell_type": "markdown",
      "source": [
        "# Bubble Sort"
      ],
      "metadata": {
        "id": "YbwPwkcWIq2c"
      }
    },
    {
      "cell_type": "code",
      "source": [
        "def bubbleSort(arr):\n",
        "\n",
        "\tn = len(arr)\n",
        "\n",
        "\t# Traverse all element in an array\n",
        "\tfor i in range(n):\n",
        "\t\tfor j in range(0, n - i - 1):\n",
        "\n",
        "\t\t\t# Swap the elements if the element found is greater than the adjacent element\n",
        "\t\t\tif arr[j] > arr[j + 1]:\n",
        "\t\t\t\tarr[j], arr[j + 1] = arr[j + 1], arr[j]\n",
        "\n",
        "arr = [ 7, 2, 1, 6 ]\n",
        "\n",
        "bubbleSort(arr)\n",
        "\n",
        "print(\"Sorted array is:\")\n",
        "for i in range(len(arr)):\n",
        "\tprint(\"%d\" % arr[i])\n"
      ],
      "metadata": {
        "colab": {
          "base_uri": "https://localhost:8080/"
        },
        "id": "Y-xlCGJpHfer",
        "outputId": "e97d21bc-910f-4193-a65f-b5daf233199e"
      },
      "execution_count": 5,
      "outputs": [
        {
          "output_type": "stream",
          "name": "stdout",
          "text": [
            "Sorted array is:\n",
            "1\n",
            "2\n",
            "6\n",
            "7\n"
          ]
        }
      ]
    },
    {
      "cell_type": "markdown",
      "source": [
        "# Insertion Sort"
      ],
      "metadata": {
        "id": "EQYthudgKPpK"
      }
    },
    {
      "cell_type": "code",
      "source": [
        "def insertion_sort(list1):\n",
        "\n",
        "\t\tfor i in range(1, len(list1)):\n",
        "\n",
        "\t\t\ta = list1[i]\n",
        "\n",
        "\t\t\t# which are greater to one position ahead of their current position\n",
        "\t\t\tj = i - 1\n",
        "\n",
        "\t\t\twhile j >= 0 and a < list1[j]:\n",
        "\t\t\t\tlist1[j + 1] = list1[j]\n",
        "\t\t\t\tj -= 1\n",
        "\n",
        "\t\t\tlist1[j + 1] = a\n",
        "\n",
        "\t\treturn list1\n",
        "\n",
        "# Driver code\n",
        "list1 = [ 7, 2, 1, 6 ]\n",
        "print(\"The unsorted list is:\", list1)\n",
        "print(\"The sorted new list is:\", insertion_sort(list1))\n"
      ],
      "metadata": {
        "colab": {
          "base_uri": "https://localhost:8080/"
        },
        "id": "iP4g7La_In2J",
        "outputId": "08898263-228d-492f-fd4e-5abc906dc2d6"
      },
      "execution_count": 6,
      "outputs": [
        {
          "output_type": "stream",
          "name": "stdout",
          "text": [
            "The unsorted list is: [7, 2, 1, 6]\n",
            "The sorted new list is: [1, 2, 6, 7]\n"
          ]
        }
      ]
    },
    {
      "cell_type": "code",
      "source": [],
      "metadata": {
        "id": "Ano4BbHBNpe5"
      },
      "execution_count": null,
      "outputs": []
    }
  ]
}