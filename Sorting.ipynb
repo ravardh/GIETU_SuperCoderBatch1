{
 "cells": [
  {
   "cell_type": "code",
   "execution_count": 1,
   "id": "4194d0a4-1f5d-44ad-b716-5667c850fb2e",
   "metadata": {},
   "outputs": [
    {
     "data": {
      "text/plain": [
       "[12, 14, 32, 34, 44, 45, 57, 89]"
      ]
     },
     "execution_count": 1,
     "metadata": {},
     "output_type": "execute_result"
    }
   ],
   "source": [
    "def bubblesort(arr):\n",
    "  n = len(arr)\n",
    "  for i in range(n-1):\n",
    "    for j in range(i, n):\n",
    "      if arr[i] > arr[j]:\n",
    "        arr[i], arr[j] = arr[j], arr[i]\n",
    "  return arr\n",
    "\n",
    "arr = [40,58,10,69,25,7,2]\n",
    "bubblesort(arr)"
   ]
  },
  {
   "cell_type": "code",
   "execution_count": 2,
   "id": "84e42c0a-d7ad-4b55-b072-bf39adf42b94",
   "metadata": {},
   "outputs": [
    {
     "data": {
      "text/plain": [
       "[12, 14, 32, 34, 44, 45, 57, 89]"
      ]
     },
     "execution_count": 2,
     "metadata": {},
     "output_type": "execute_result"
    }
   ],
   "source": [
    "def insertionsort(arr):\n",
    "  n = len(arr)\n",
    "  for i in range(n):\n",
    "    key = arr[i]\n",
    "    j = i - 1\n",
    "    while(j >= 0 and arr[j] > key):\n",
    "      arr[j + 1] = arr[j]\n",
    "      j -= 1\n",
    "    arr[j + 1] = key\n",
    "  return arr\n",
    "\n",
    "arr = [32, 14, 44, 57, 12, 34, 89, 45]\n",
    "insertionsort(arr)"
   ]
  },
  {
   "cell_type": "code",
   "execution_count": 3,
   "id": "78a2aa79-b170-40d4-805f-165e3d818d88",
   "metadata": {},
   "outputs": [
    {
     "data": {
      "text/plain": [
       "[12, 14, 32, 34, 44, 45, 57, 89]"
      ]
     },
     "execution_count": 3,
     "metadata": {},
     "output_type": "execute_result"
    }
   ],
   "source": [
    "def selectionsort(arr):\n",
    "  n = len(arr)\n",
    "  for i in range(n):\n",
    "    min = i\n",
    "    for j in range(i + 1, n):\n",
    "      if(arr[min] > arr[j]):\n",
    "        min = j\n",
    "    if(min != i):\n",
    "      arr[i], arr[min] = arr[min], arr[i]\n",
    "  return arr\n",
    "\n",
    "arr = [32, 14, 44, 57, 12, 34, 89, 45]\n",
    "selectionsort(arr)"
   ]
  },
  {
   "cell_type": "code",
   "execution_count": null,
   "id": "bf78cded-09b6-4482-b7ef-6ff843971968",
   "metadata": {},
   "outputs": [],
   "source": []
  }
 ],
 "metadata": {
  "kernelspec": {
   "display_name": "Python 3 (ipykernel)",
   "language": "python",
   "name": "python3"
  },
  "language_info": {
   "codemirror_mode": {
    "name": "ipython",
    "version": 3
   },
   "file_extension": ".py",
   "mimetype": "text/x-python",
   "name": "python",
   "nbconvert_exporter": "python",
   "pygments_lexer": "ipython3",
   "version": "3.11.4"
  }
 },
 "nbformat": 4,
 "nbformat_minor": 5
}
