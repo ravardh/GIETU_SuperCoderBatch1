{
 "cells": [
  {
   "cell_type": "code",
   "execution_count": 1,
   "id": "8215d4fc",
   "metadata": {},
   "outputs": [
    {
     "name": "stdout",
     "output_type": "stream",
     "text": [
      "[-83, -9, -3, 2, 5, 6, 8, 9, 10]\n"
     ]
    }
   ],
   "source": [
    "#Selection sort\n",
    "l = [-3,-83,8,10,9,2,-9,6,5]\n",
    "\n",
    "def selectionSort(l):\n",
    "    n = len(l)\n",
    "    for i in range(n):\n",
    "        pos = i\n",
    "        for j in range(i+1,n):\n",
    "            if l[j] < l[pos]:\n",
    "                pos = j\n",
    "\n",
    "        l[i],l[pos] = l[pos],l[i]\n",
    "    return l\n",
    "\n",
    "print(selectionSort(l))"
   ]
  },
  {
   "cell_type": "code",
   "execution_count": 2,
   "id": "04f69e9a",
   "metadata": {},
   "outputs": [
    {
     "name": "stdout",
     "output_type": "stream",
     "text": [
      "[-23, -3, 1, 2, 3, 5, 7, 9, 10]\n"
     ]
    }
   ],
   "source": [
    "#Insertion sort\n",
    "l = [-3,7,10,1,9,2,3,-23,5]\n",
    "\n",
    "def insertionSort(l):\n",
    "    n = len(l)\n",
    "    for i in range(n):\n",
    "        pos = i\n",
    "        while pos > 0 and l[pos]<l[pos-1]:\n",
    "            l[pos],l[pos-1] = l[pos-1],l[pos]\n",
    "            pos -= 1\n",
    "    return l\n",
    "\n",
    "print(insertionSort(l))"
   ]
  },
  {
   "cell_type": "code",
   "execution_count": null,
   "id": "db1c462c",
   "metadata": {},
   "outputs": [],
   "source": []
  }
 ],
 "metadata": {
  "kernelspec": {
   "display_name": "Python 3 (ipykernel)",
   "language": "python",
   "name": "python3"
  },
  "language_info": {
   "codemirror_mode": {
    "name": "ipython",
    "version": 3
   },
   "file_extension": ".py",
   "mimetype": "text/x-python",
   "name": "python",
   "nbconvert_exporter": "python",
   "pygments_lexer": "ipython3",
   "version": "3.11.5"
  }
 },
 "nbformat": 4,
 "nbformat_minor": 5
}
