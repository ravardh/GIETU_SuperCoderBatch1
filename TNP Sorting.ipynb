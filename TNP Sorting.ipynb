{
 "cells": [
  {
   "cell_type": "code",
   "execution_count": 1,
   "id": "e9a87415",
   "metadata": {},
   "outputs": [
    {
     "name": "stdout",
     "output_type": "stream",
     "text": [
      "[1, 2, 5, 7, 9]\n"
     ]
    }
   ],
   "source": [
    "def insertion_sort(data):\n",
    "    \n",
    "    if not isinstance(data, list):\n",
    "        raise TypeError(\"Input data must be a list.\")\n",
    "\n",
    "    if len(data) <= 1:\n",
    "        return data\n",
    "    \n",
    "    for i in range(1, len(data)):\n",
    "        key = data[i]  \n",
    "        j = i - 1      \n",
    "\n",
    "        while j >= 0 and key < data[j]:\n",
    "            data[j + 1] = data[j]\n",
    "            j -= 1\n",
    "\n",
    "        data[j + 1] = key\n",
    "\n",
    "    return data\n",
    "\n",
    "my_list = [5, 2, 9, 1, 7]\n",
    "sorted_list = insertion_sort(my_list.copy()) \n",
    "print(sorted_list)"
   ]
  },
  {
   "cell_type": "code",
   "execution_count": 2,
   "id": "f830a19d",
   "metadata": {},
   "outputs": [
    {
     "name": "stdout",
     "output_type": "stream",
     "text": [
      "Enter space-separated numbers for Selection Sort: 23 4 343 3 323 4334 \n",
      "Selection Sort: [3, 4, 23, 323, 343, 4334]\n"
     ]
    }
   ],
   "source": [
    "def selection_sort(arr):\n",
    "    n = len(arr)\n",
    "    for i in range(n - 1):\n",
    "        min_index = i\n",
    "        for j in range(i + 1, n):\n",
    "            if arr[j] < arr[min_index]:\n",
    "                min_index = j\n",
    "        arr[i], arr[min_index] = arr[min_index], arr[i]\n",
    "\n",
    "selection_input = list(map(int, input(\"Enter space-separated numbers for Selection Sort: \").split()))\n",
    "selection_sort(selection_input)\n",
    "print(\"Selection Sort:\", selection_input)\n"
   ]
  },
  {
   "cell_type": "code",
   "execution_count": 3,
   "id": "d743593a",
   "metadata": {},
   "outputs": [
    {
     "name": "stdout",
     "output_type": "stream",
     "text": [
      "Enter space-separated numbers for Bubble Sort: 3433 4 34 332 2344 3\n",
      "Bubble Sort: [3, 4, 34, 332, 2344, 3433]\n"
     ]
    }
   ],
   "source": [
    "def bubble_sort(arr):\n",
    "    n = len(arr)\n",
    "    for i in range(n):\n",
    "        for j in range(0, n-i-1):\n",
    "            if arr[j] > arr[j+1]:\n",
    "                arr[j], arr[j+1] = arr[j+1], arr[j]\n",
    "\n",
    "\n",
    "bubble_input = list(map(int, input(\"Enter space-separated numbers for Bubble Sort: \").split()))\n",
    "bubble_sort(bubble_input)\n",
    "print(\"Bubble Sort:\", bubble_input)\n"
   ]
  },
  {
   "cell_type": "code",
   "execution_count": null,
   "id": "465535d9",
   "metadata": {},
   "outputs": [],
   "source": []
  }
 ],
 "metadata": {
  "kernelspec": {
   "display_name": "Python 3 (ipykernel)",
   "language": "python",
   "name": "python3"
  },
  "language_info": {
   "codemirror_mode": {
    "name": "ipython",
    "version": 3
   },
   "file_extension": ".py",
   "mimetype": "text/x-python",
   "name": "python",
   "nbconvert_exporter": "python",
   "pygments_lexer": "ipython3",
   "version": "3.10.9"
  }
 },
 "nbformat": 4,
 "nbformat_minor": 5
}
