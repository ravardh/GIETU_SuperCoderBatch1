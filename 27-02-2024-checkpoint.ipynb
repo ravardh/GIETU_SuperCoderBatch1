{
 "cells": [
  {
   "cell_type": "code",
   "execution_count": 1,
   "id": "59965db5",
   "metadata": {},
   "outputs": [
    {
     "name": "stdout",
     "output_type": "stream",
     "text": [
      "The top view of the tree is: \n",
      "2 1 3 6 "
     ]
    }
   ],
   "source": [
    "class TreeNode:\n",
    "    def __init__(self,data):\n",
    "        self.data=data\n",
    "        self.left=None\n",
    "        self.right=None\n",
    "        self.key=0\n",
    "        \n",
    "def topView(root):\n",
    "    q=[root]\n",
    "    key=0\n",
    "    root.key=key\n",
    "    tv=dict()\n",
    "    while len(q)>0:\n",
    "        cur=q.pop(0)\n",
    "        key=cur.key\n",
    "        if key not in tv:\n",
    "            tv[key]=cur.data\n",
    "        if cur.left:\n",
    "            q.append(cur.left)\n",
    "            cur.left.key=key-1\n",
    "        if cur.right:\n",
    "            q.append(cur.right)\n",
    "            cur.right.key=key+1\n",
    "    for x in sorted(tv):\n",
    "        print(tv[x],end=\" \")\n",
    "        \n",
    "root=TreeNode(1)\n",
    "root.left=TreeNode(2)\n",
    "root.right=TreeNode(3)\n",
    "root.left.right=TreeNode(4)\n",
    "root.left.right.right=TreeNode(5)\n",
    "root.left.right.right.right=TreeNode(6)\n",
    "\n",
    "print(\"The top view of the tree is: \")\n",
    "topView(root)"
   ]
  },
  {
   "cell_type": "code",
   "execution_count": null,
   "id": "8396641e",
   "metadata": {},
   "outputs": [],
   "source": []
  }
 ],
 "metadata": {
  "kernelspec": {
   "display_name": "Python 3 (ipykernel)",
   "language": "python",
   "name": "python3"
  },
  "language_info": {
   "codemirror_mode": {
    "name": "ipython",
    "version": 3
   },
   "file_extension": ".py",
   "mimetype": "text/x-python",
   "name": "python",
   "nbconvert_exporter": "python",
   "pygments_lexer": "ipython3",
   "version": "3.10.9"
  }
 },
 "nbformat": 4,
 "nbformat_minor": 5
}
