{
 "cells": [
  {
   "cell_type": "code",
   "execution_count": 1,
   "id": "940910b9",
   "metadata": {},
   "outputs": [
    {
     "name": "stdout",
     "output_type": "stream",
     "text": [
      "[8,5,4,7,6,2,5,7,3,4]\n",
      "3\n",
      "17\n"
     ]
    }
   ],
   "source": [
    "arr=eval(input())\n",
    "k=int(input())\n",
    "sum=0\n",
    "for i in range(k):\n",
    "    sum=sum+arr[i]\n",
    "window=sum\n",
    "for i in range(0,len(arr)-k):\n",
    "    if window>sum:\n",
    "        sum=window\n",
    "    window=window-arr[i]+arr[i+k]\n",
    "print(sum)"
   ]
  },
  {
   "cell_type": "code",
   "execution_count": null,
   "id": "1713ceaf",
   "metadata": {},
   "outputs": [],
   "source": []
  }
 ],
 "metadata": {
  "kernelspec": {
   "display_name": "Python 3 (ipykernel)",
   "language": "python",
   "name": "python3"
  },
  "language_info": {
   "codemirror_mode": {
    "name": "ipython",
    "version": 3
   },
   "file_extension": ".py",
   "mimetype": "text/x-python",
   "name": "python",
   "nbconvert_exporter": "python",
   "pygments_lexer": "ipython3",
   "version": "3.11.5"
  }
 },
 "nbformat": 4,
 "nbformat_minor": 5
}
