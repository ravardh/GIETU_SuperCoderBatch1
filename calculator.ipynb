{
 "cells": [
  {
   "cell_type": "code",
   "execution_count": 1,
   "id": "d5854dd9",
   "metadata": {},
   "outputs": [
    {
     "name": "stdout",
     "output_type": "stream",
     "text": [
      "Enter first number: 5\n",
      "Enter second number: 4\n",
      "Enter operator (+, -, *, /, %, **): **\n",
      "625\n"
     ]
    }
   ],
   "source": [
    "def calculator(operator, a, b):\n",
    "   \n",
    "\n",
    "    match operator:\n",
    "        case '+':\n",
    "            print(a + b)\n",
    "        case '-':\n",
    "            print(a - b)\n",
    "        case '*':\n",
    "            print(a * b)\n",
    "        case '/':\n",
    "            if b == 0:\n",
    "                print(\"Error: Division by zero\")\n",
    "            else:\n",
    "                print(a / b)\n",
    "        case '%':\n",
    "            if b == 0:\n",
    "                print(\"Error: Modulo by zero\")\n",
    "            else:\n",
    "                print(a % b)\n",
    "        case '**':\n",
    "            print(a ** b)\n",
    "        case _:\n",
    "            print(\"Invalid operator\")\n",
    "\n",
    "# Get user input for numbers and operator\n",
    "while True:\n",
    "    try:\n",
    "        a = int(input(\"Enter first number: \"))\n",
    "        b = int(input(\"Enter second number: \"))\n",
    "        operator = input(\"Enter operator (+, -, *, /, %, **): \")\n",
    "        break\n",
    "    except ValueError:\n",
    "        print(\"Invalid input. Please enter numbers and a valid operator.\")\n",
    "\n",
    "# Run the calculator function\n",
    "calculator(operator, a, b)"
   ]
  },
  {
   "cell_type": "code",
   "execution_count": null,
   "id": "50a97fb6",
   "metadata": {},
   "outputs": [],
   "source": []
  }
 ],
 "metadata": {
  "kernelspec": {
   "display_name": "Python 3 (ipykernel)",
   "language": "python",
   "name": "python3"
  },
  "language_info": {
   "codemirror_mode": {
    "name": "ipython",
    "version": 3
   },
   "file_extension": ".py",
   "mimetype": "text/x-python",
   "name": "python",
   "nbconvert_exporter": "python",
   "pygments_lexer": "ipython3",
   "version": "3.10.9"
  }
 },
 "nbformat": 4,
 "nbformat_minor": 5
}
