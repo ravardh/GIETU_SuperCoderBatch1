{
 "cells": [
  {
   "cell_type": "code",
   "execution_count": 1,
   "id": "b1a39d33-71a9-49db-aea1-992a14176068",
   "metadata": {},
   "outputs": [
    {
     "name": "stdin",
     "output_type": "stream",
     "text": [
      "enter a 2\n",
      "enter b 4\n",
      "enter operator *\n"
     ]
    },
    {
     "name": "stdout",
     "output_type": "stream",
     "text": [
      "a*b: 8\n"
     ]
    }
   ],
   "source": [
    "a=int(input(\"enter a\"))\n",
    "b=int(input(\"enter b\"))\n",
    "c=input(\"enter operator\")\n",
    "match c:\n",
    "    case '+':\n",
    "        print(\"a+b:\",a+b)\n",
    "    case '-':\n",
    "        print(\"a-b:\",a-b)\n",
    "    case '*':\n",
    "        print(\"a*b:\",a*b)\n",
    "    case '/':\n",
    "        print(\"a/b:\",a/b)\n",
    "    case '//':\n",
    "        print(\"a//b:\",a//b)\n",
    "    case  '%':\n",
    "        print(\"a%b:\",a%b)\n",
    "    case _:\n",
    "        print(\"wrong operator\")"
   ]
  },
  {
   "cell_type": "code",
   "execution_count": null,
   "id": "ee49c7a0-fafa-41c6-bab9-7c2b52484527",
   "metadata": {},
   "outputs": [],
   "source": []
  }
 ],
 "metadata": {
  "kernelspec": {
   "display_name": "Python 3 (ipykernel)",
   "language": "python",
   "name": "python3"
  },
  "language_info": {
   "codemirror_mode": {
    "name": "ipython",
    "version": 3
   },
   "file_extension": ".py",
   "mimetype": "text/x-python",
   "name": "python",
   "nbconvert_exporter": "python",
   "pygments_lexer": "ipython3",
   "version": "3.10.0"
  }
 },
 "nbformat": 4,
 "nbformat_minor": 5
}
