{
 "cells": [
  {
   "cell_type": "code",
   "execution_count": 1,
   "id": "338d47a4",
   "metadata": {},
   "outputs": [
    {
     "name": "stdout",
     "output_type": "stream",
     "text": [
      "Enter the operator=*\n",
      "Enter for a=10\n",
      "enter for b=2\n",
      "20\n"
     ]
    }
   ],
   "source": [
    "op=input(\"Enter the operator=\")\n",
    "a=int(input(\"Enter for a=\"))\n",
    "b=int(input(\"enter for b=\"))\n",
    "if(op == \"*\"):\n",
    "    print(a*b)\n",
    "elif(op == \"+\"):\n",
    "    print(a+b)\n",
    "elif(op == \"/\"):\n",
    "    print(a/b)\n",
    "elif(op == \"//\"):\n",
    "    print(a//b)\n",
    "else:\n",
    "    print(\"Invalid operator\")"
   ]
  },
  {
   "cell_type": "code",
   "execution_count": 2,
   "id": "7e4f3212",
   "metadata": {},
   "outputs": [
    {
     "name": "stdout",
     "output_type": "stream",
     "text": [
      "Enter the operator=+\n",
      "Enter for a=10\n",
      "enter for b=20\n",
      "30\n"
     ]
    }
   ],
   "source": [
    "op=input(\"Enter the operator=\")\n",
    "a=int(input(\"Enter for a=\"))\n",
    "b=int(input(\"enter for b=\"))\n",
    "match op:\n",
    "    case \"*\":\n",
    "         print(a*b)\n",
    "    case \"+\":\n",
    "        print(a+b)\n",
    "    case \"/\":\n",
    "        print(a/b)\n",
    "    case \"//\":\n",
    "        print(a//b)\n",
    "    case _:\n",
    "        print(\"Invalid operator\")"
   ]
  },
  {
   "cell_type": "code",
   "execution_count": null,
   "id": "847ba9db",
   "metadata": {},
   "outputs": [],
   "source": []
  }
 ],
 "metadata": {
  "kernelspec": {
   "display_name": "Python 3 (ipykernel)",
   "language": "python",
   "name": "python3"
  },
  "language_info": {
   "codemirror_mode": {
    "name": "ipython",
    "version": 3
   },
   "file_extension": ".py",
   "mimetype": "text/x-python",
   "name": "python",
   "nbconvert_exporter": "python",
   "pygments_lexer": "ipython3",
   "version": "3.11.3"
  }
 },
 "nbformat": 4,
 "nbformat_minor": 5
}
