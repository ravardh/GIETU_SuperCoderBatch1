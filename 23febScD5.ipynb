{
 "cells": [
  {
   "cell_type": "code",
   "execution_count": null,
   "id": "e9473fdf",
   "metadata": {},
   "outputs": [],
   "source": [
    "#QUICK SORT\n",
    "\n",
    "def find(ar,S,E):\n",
    "    P=ar[E]\n",
    "    j=S-1\n",
    "    for i in range(S,E-1):\n",
    "        if(ar[i]<P):\n",
    "            j=j+1\n",
    "            ar[i],ar[j]=ar[j],ar[i]\n",
    "    j=j+1\n",
    "    ar[j],ar[e], = ar[e],ar[j]\n",
    "    return j\n",
    "\n",
    "\n",
    "\n",
    "def quickSort(ar,S,E):\n",
    "    if S<E:\n",
    "        pi=find(ar,S,E)\n",
    "        quickSort(ar,S,pi-1)\n",
    "        quickSort(ar,pi+1,E)\n",
    "        \n",
    "\n",
    "if __name__ == '__main__':\n",
    "    ar = [23, 4, 443, 234, 56, 0]\n",
    "    quicksort(ar, 0, len(ar) - 1)\n",
    "    print(ar)"
   ]
  },
  {
   "cell_type": "code",
   "execution_count": 6,
   "id": "95d4c68b",
   "metadata": {},
   "outputs": [
    {
     "name": "stdout",
     "output_type": "stream",
     "text": [
      "The greatest sum is 24 and the triplet is (8, 9, 7)\n"
     ]
    },
    {
     "data": {
      "text/plain": [
       "''"
      ]
     },
     "execution_count": 6,
     "metadata": {},
     "output_type": "execute_result"
    }
   ],
   "source": [
    "#find sum of 3 consecutive terms and find out the greatest #(sum value and the three numbers)\n",
    "#ar=[5,4,2,6,3,8,9,7,4,7,3,6,9,8,2,4,6,8,6,2,3,4,5,1,4,2]\n",
    "\n",
    "'''\n",
    "ar=[5,4,2,6,3,8,9,7,4,7,3,6,9,8,2,4,6,8,6,2,3,4,5,1,4,2]\n",
    "n = len(ar)\n",
    "max_sum = float('-inf')\n",
    "max_triplet = None\n",
    "for i in range(n-2):\n",
    "    current_sum = ar[i] + ar[i+1] + ar[i+2]\n",
    "    if current_sum > max_sum:\n",
    "        max_sum = current_sum\n",
    "        max_triplet = (ar[i], ar[i+1], ar[i+2])\n",
    "\n",
    "print(f\"The greatest sum is {max_sum} and the triplet is {max_triplet}\")\n",
    "'''"
   ]
  },
  {
   "cell_type": "code",
   "execution_count": 2,
   "id": "19ff4e6d",
   "metadata": {},
   "outputs": [
    {
     "name": "stdout",
     "output_type": "stream",
     "text": [
      "Enter list numbers: 3 4 5 6 7 8 2 1\n",
      "Enter a number smaller than length of list: 4\n",
      "26\n"
     ]
    }
   ],
   "source": []
  }
 ],
 "metadata": {
  "kernelspec": {
   "display_name": "Python 3 (ipykernel)",
   "language": "python",
   "name": "python3"
  },
  "language_info": {
   "codemirror_mode": {
    "name": "ipython",
    "version": 3
   },
   "file_extension": ".py",
   "mimetype": "text/x-python",
   "name": "python",
   "nbconvert_exporter": "python",
   "pygments_lexer": "ipython3",
   "version": "3.10.9"
  }
 },
 "nbformat": 4,
 "nbformat_minor": 5
}
