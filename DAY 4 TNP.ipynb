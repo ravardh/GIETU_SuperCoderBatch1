{
 "cells": [
  {
   "cell_type": "markdown",
   "id": "3693a3d2",
   "metadata": {},
   "source": [
    "# KMP Algorithm"
   ]
  },
  {
   "cell_type": "code",
   "execution_count": 2,
   "id": "3666a76d",
   "metadata": {},
   "outputs": [
    {
     "name": "stdout",
     "output_type": "stream",
     "text": [
      "Found pattern at index 3\n",
      "Found pattern at index 10\n",
      "Found pattern at index 16\n"
     ]
    }
   ],
   "source": [
    "#KMP Algorithm\n",
    "\n",
    "def KMPSearch(pat, data):\n",
    "    M = len(pat)\n",
    "    N = len(data)\n",
    "\n",
    "    lps = [0]*M\n",
    "    j = 0 \n",
    "\t\n",
    "\tLPS(pat, M, lps)\n",
    "\n",
    "\ti = 0 \n",
    "\twhile (N - i) >= (M - j):\n",
    "\t\tif pat[j] == data[i]:\n",
    "\t\t\ti += 1\n",
    "\t\t\tj += 1\n",
    "\n",
    "\t\tif j == M:\n",
    "\t\t\tprint(\"Found pattern at index \" + str(i-j))\n",
    "\t\t\tj = lps[j-1]\n",
    "\n",
    "\t\telif i < N and pat[j] != data[i]:\n",
    "\t\t\tif j != 0:\n",
    "\t\t\t\tj = lps[j-1]\n",
    "\t\t\telse:\n",
    "\t\t\t\ti += 1\n",
    "\n",
    "\n",
    "\n",
    "def LPS(pat, M, lps):\n",
    "\tlen = 0 \n",
    "\n",
    "\tlps[0] = 0 \n",
    "\ti = 1\n",
    "\n",
    "\t\n",
    "\twhile i < M:\n",
    "\t\tif pat[i] == pat[len]:\n",
    "\t\t\tlen += 1\n",
    "\t\t\tlps[i] = len\n",
    "\t\t\ti += 1\n",
    "\t\telse:\n",
    "\t\t\tif len != 0:\n",
    "\t\t\t\tlen = lps[len-1]\n",
    "\t\t\telse:\n",
    "\t\t\t\tlps[i] = 0\n",
    "\t\t\t\ti += 1\n",
    "\n",
    "\n",
    "# Driver code\n",
    "if __name__ == '__main__':\n",
    "\tdata = \"ABAABABCABABABCAABABCABAC\"\n",
    "\tpat = \"ABABC\"\n",
    "\tKMPSearch(pat, data)\n",
    "    "
   ]
  },
  {
   "cell_type": "markdown",
   "id": "948f9f6d",
   "metadata": {},
   "source": [
    "# LINKED LIST"
   ]
  },
  {
   "cell_type": "code",
   "execution_count": 9,
   "id": "455c1d99",
   "metadata": {},
   "outputs": [
    {
     "name": "stdout",
     "output_type": "stream",
     "text": [
      "1\n",
      "<__main__.node object at 0x00000212448F0E10>\n",
      "2\n",
      "<__main__.node object at 0x00000212448F1290>\n",
      "3\n",
      "<__main__.node object at 0x00000212448D6810>\n",
      "4\n",
      "<__main__.node object at 0x00000212448D6710>\n",
      "5\n",
      "<__main__.node object at 0x00000212448D6850>\n",
      "6\n",
      "None\n"
     ]
    }
   ],
   "source": [
    "class node:\n",
    "    def __init__(self,data=None):\n",
    "        self.data=data\n",
    "        self.next=None\n",
    "\n",
    "        \n",
    "n1=node(1)\n",
    "n2=node(2)\n",
    "n3=node(3)\n",
    "n4=node(4)\n",
    "n5=node(5)\n",
    "n6=node(6)\n",
    "n7=node(7)\n",
    "\n",
    "start = n1\n",
    "n1.next=n2\n",
    "n2.next=n3\n",
    "n3.next=n4\n",
    "n4.next=n5\n",
    "n5.next=n6\n",
    "\n",
    "cur= start\n",
    "\n",
    "while cur:\n",
    "    print(cur.data)\n",
    "    cur=cur.next\n",
    "    print(cur)"
   ]
  },
  {
   "cell_type": "code",
   "execution_count": null,
   "id": "a46549c0",
   "metadata": {},
   "outputs": [],
   "source": []
  }
 ],
 "metadata": {
  "kernelspec": {
   "display_name": "Python 3 (ipykernel)",
   "language": "python",
   "name": "python3"
  },
  "language_info": {
   "codemirror_mode": {
    "name": "ipython",
    "version": 3
   },
   "file_extension": ".py",
   "mimetype": "text/x-python",
   "name": "python",
   "nbconvert_exporter": "python",
   "pygments_lexer": "ipython3",
   "version": "3.11.3"
  }
 },
 "nbformat": 4,
 "nbformat_minor": 5
}
