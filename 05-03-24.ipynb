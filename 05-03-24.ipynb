{
 "cells": [
  {
   "cell_type": "code",
   "execution_count": 35,
   "id": "7c451693",
   "metadata": {},
   "outputs": [
    {
     "name": "stdout",
     "output_type": "stream",
     "text": [
      "[[2, 3, 10], [1, 4], [1, 7], [2, 5, 7, 8], [4, 6], [5, 9, 10], [3, 4, 11], [4, 9], [6, 8], [1, 6], [7]]\n",
      "Vertex 1: [2, 3, 10]\n",
      "Vertex 2: [1, 4]\n",
      "Vertex 3: [1, 7]\n",
      "Vertex 4: [2, 5, 7, 8]\n",
      "Vertex 5: [4, 6]\n",
      "Vertex 6: [5, 9, 10]\n",
      "Vertex 7: [3, 4, 11]\n",
      "Vertex 8: [4, 9]\n",
      "Vertex 9: [6, 8]\n",
      "Vertex 10: [1, 6]\n",
      "Vertex 11: [7]\n",
      "DFS traversal starting from vertex 1:\n",
      "1 8 4 2 3 5 6 7 10 9 11 12 "
     ]
    }
   ],
   "source": [
    "class Graph:\n",
    "    def __init__(self, v):\n",
    "        self.v = v\n",
    "        self.adj_list = [[] for _ in range(v)]\n",
    "\n",
    "    def add_edge(self, s, d):\n",
    "        self.adj_list[s-1].append(d)\n",
    "\n",
    "    def dfs(self, vertex, visited):\n",
    "        visited.add(vertex)\n",
    "        print(vertex + 1, end=' ')  # Adjust the printed vertex\n",
    "\n",
    "        for neighbor in self.adj_list[vertex - 1]:  # Adjust index here\n",
    "            if neighbor not in visited:\n",
    "                self.dfs(neighbor, visited)\n",
    "\n",
    "    def dfs_traversal(self, start):\n",
    "        visited = set()\n",
    "        self.dfs(start-1, visited)\n",
    "\n",
    "    def display_graph(self):\n",
    "        print(self.adj_list)\n",
    "        for vertex in range(self.v):\n",
    "            neighbors = self.adj_list[vertex]\n",
    "            print(f\"Vertex {vertex + 1}: {neighbors}\")  # Adjust vertex numbering\n",
    "\n",
    "graph = Graph(11)\n",
    "graph.add_edge(1, 2)\n",
    "graph.add_edge(1, 3)\n",
    "graph.add_edge(1, 10)\n",
    "graph.add_edge(2, 1)\n",
    "graph.add_edge(2, 4)\n",
    "graph.add_edge(3, 1)\n",
    "graph.add_edge(3, 7)\n",
    "graph.add_edge(4, 2)\n",
    "graph.add_edge(4, 5)\n",
    "graph.add_edge(4, 7)\n",
    "graph.add_edge(4, 8)\n",
    "graph.add_edge(5, 4)\n",
    "graph.add_edge(5, 6)\n",
    "graph.add_edge(6, 5)\n",
    "graph.add_edge(6, 9)\n",
    "graph.add_edge(6, 10)\n",
    "graph.add_edge(7, 3)\n",
    "graph.add_edge(7, 4)\n",
    "graph.add_edge(7, 11)\n",
    "graph.add_edge(8, 4)\n",
    "graph.add_edge(8, 9)\n",
    "graph.add_edge(9, 6)\n",
    "graph.add_edge(9, 8)\n",
    "graph.add_edge(10, 1)\n",
    "graph.add_edge(10, 6)\n",
    "graph.add_edge(11, 7)\n",
    "graph.display_graph()\n",
    "\n",
    "print(\"DFS traversal starting from vertex 1:\")\n",
    "graph.dfs_traversal(1)"
   ]
  },
  {
   "cell_type": "code",
   "execution_count": null,
   "id": "15d84937",
   "metadata": {},
   "outputs": [],
   "source": []
  }
 ],
 "metadata": {
  "kernelspec": {
   "display_name": "Python 3 (ipykernel)",
   "language": "python",
   "name": "python3"
  },
  "language_info": {
   "codemirror_mode": {
    "name": "ipython",
    "version": 3
   },
   "file_extension": ".py",
   "mimetype": "text/x-python",
   "name": "python",
   "nbconvert_exporter": "python",
   "pygments_lexer": "ipython3",
   "version": "3.7.9"
  }
 },
 "nbformat": 4,
 "nbformat_minor": 5
}
