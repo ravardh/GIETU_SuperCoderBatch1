{
 "cells": [
  {
   "cell_type": "code",
   "execution_count": 1,
   "id": "2a5c3428",
   "metadata": {},
   "outputs": [
    {
     "name": "stdout",
     "output_type": "stream",
     "text": [
      "The top view of the tree is: \n",
      "2 1 3 6 "
     ]
    }
   ],
   "source": [
    "class TreeNode:\n",
    "    def __init__(self,data):\n",
    "        self.data=data\n",
    "        self.left=None\n",
    "        self.right=None\n",
    "        self.key=0\n",
    "        \n",
    "def topView(root):\n",
    "    q=[root]\n",
    "    key=0\n",
    "    root.key=key\n",
    "    tv=dict()\n",
    "    while len(q)>0:\n",
    "        cur=q.pop(0)\n",
    "        key=cur.key\n",
    "        if key not in tv:\n",
    "            tv[key]=cur.data\n",
    "        if cur.left:\n",
    "            q.append(cur.left)\n",
    "            cur.left.key=key-1\n",
    "        if cur.right:\n",
    "            q.append(cur.right)\n",
    "            cur.right.key=key+1\n",
    "    for x in sorted(tv):\n",
    "        print(tv[x],end=\" \")\n",
    "        \n",
    "root=TreeNode(1)\n",
    "root.left=TreeNode(2)\n",
    "root.right=TreeNode(3)\n",
    "root.left.right=TreeNode(4)\n",
    "root.left.right.right=TreeNode(5)\n",
    "root.left.right.right.right=TreeNode(6)\n",
    "\n",
    "print(\"The top view of the tree is: \")\n",
    "topView(root)"
   ]
  },
  {
   "cell_type": "code",
   "execution_count": 5,
   "id": "000dd172",
   "metadata": {},
   "outputs": [
    {
     "name": "stdout",
     "output_type": "stream",
     "text": [
      "20 \n",
      "32 10 \n",
      "15 12 8 24 \n",
      "4 50 6 16 16 \n",
      "40 35 \n",
      "Right view: [20, 10, 24, 16, 35]\n"
     ]
    }
   ],
   "source": [
    "class Node:\n",
    "    def __init__(self, info):\n",
    "        self.info = info\n",
    "        self.left = None\n",
    "        self.right = None\n",
    "\n",
    "def levelorder(root):\n",
    "    Q = [root]\n",
    "    Q.append(None)\n",
    "    while len(Q) > 0:\n",
    "        cur = Q.pop(0)\n",
    "        if cur == None:\n",
    "            print()\n",
    "            if len(Q) > 0:\n",
    "                Q.append(None)\n",
    "        else:\n",
    "            print(cur.info, end=' ')\n",
    "            if cur.left != None:\n",
    "                Q.append(cur.left)\n",
    "            if cur.right != None:\n",
    "                Q.append(cur.right)\n",
    "\n",
    "def right_view(root):\n",
    "    result = []\n",
    "\n",
    "    def dfs(node, level):\n",
    "        nonlocal result\n",
    "        if node is None:\n",
    "            return\n",
    "        if level == len(result):\n",
    "            result.append(node.info)\n",
    "        # Traverse right child first for the right view\n",
    "        dfs(node.right, level + 1)\n",
    "        dfs(node.left, level + 1)\n",
    "\n",
    "    dfs(root, 0)\n",
    "    return result\n",
    "\n",
    "root = Node(20)\n",
    "root.left = Node(32)\n",
    "root.right = Node(10)\n",
    "# level2\n",
    "root.left.left = Node(15)\n",
    "root.left.right = Node(12)\n",
    "root.right.left = Node(8)\n",
    "root.right.right = Node(24)\n",
    "# level3\n",
    "root.left.left.left = Node(4)\n",
    "root.left.right.left = Node(50)\n",
    "root.left.right.right = Node(6)\n",
    "root.right.right.left = Node(16)\n",
    "root.right.right.right = Node(16)\n",
    "root.left.right.left.left = Node(40)\n",
    "root.left.right.left.right = Node(35)\n",
    "\n",
    "levelorder(root)\n",
    "print(\"Right view:\", right_view(root))"
   ]
  },
  {
   "cell_type": "code",
   "execution_count": null,
   "id": "3ed397d4",
   "metadata": {},
   "outputs": [],
   "source": [
    "#binary search tree\n"
   ]
  }
 ],
 "metadata": {
  "kernelspec": {
   "display_name": "Python 3 (ipykernel)",
   "language": "python",
   "name": "python3"
  },
  "language_info": {
   "codemirror_mode": {
    "name": "ipython",
    "version": 3
   },
   "file_extension": ".py",
   "mimetype": "text/x-python",
   "name": "python",
   "nbconvert_exporter": "python",
   "pygments_lexer": "ipython3",
   "version": "3.11.3"
  }
 },
 "nbformat": 4,
 "nbformat_minor": 5
}
