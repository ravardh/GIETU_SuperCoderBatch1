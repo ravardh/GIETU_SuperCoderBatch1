{
 "cells": [
  {
   "cell_type": "code",
   "execution_count": 10,
   "id": "bef7b949",
   "metadata": {},
   "outputs": [
    {
     "name": "stdout",
     "output_type": "stream",
     "text": [
      "BFS Traversal starting from node 1: [1, 2, 3, 9, 4, 8, 5, 6, 7]\n"
     ]
    }
   ],
   "source": [
    "class Graph:\n",
    "    def __init__(self):\n",
    "        self.graph = {}\n",
    "\n",
    "    def add_edge(self, u, v):\n",
    "        if u not in self.graph:\n",
    "            self.graph[u] = []\n",
    "        self.graph[u].append(v)\n",
    "\n",
    "    def bfs(self, start):\n",
    "        visited = set()\n",
    "        queue = [start]\n",
    "        traversal = []\n",
    "\n",
    "        while queue:\n",
    "            node = queue.pop(0)\n",
    "            if node not in visited:\n",
    "                traversal.append(node)\n",
    "                visited.add(node)\n",
    "                if node in self.graph:\n",
    "                    for neighbor in self.graph[node]:\n",
    "                        if neighbor not in visited:\n",
    "                            queue.append(neighbor)\n",
    "\n",
    "        return traversal\n",
    "\n",
    "g = Graph()\n",
    "g.add_edge(1,2)\n",
    "g.add_edge(1,3)\n",
    "g.add_edge(1,9)\n",
    "g.add_edge(2,4)\n",
    "g.add_edge(3,8)\n",
    "g.add_edge(4,5)\n",
    "g.add_edge(4,6)\n",
    "g.add_edge(6,7)\n",
    "g.add_edge(7,8)\n",
    "g.add_edge(8,9)\n",
    "\n",
    "print(\"BFS Traversal starting from node 1:\", g.bfs(1))"
   ]
  },
  {
   "cell_type": "code",
   "execution_count": null,
   "id": "472a4d41",
   "metadata": {},
   "outputs": [],
   "source": []
  }
 ],
 "metadata": {
  "kernelspec": {
   "display_name": "Python 3 (ipykernel)",
   "language": "python",
   "name": "python3"
  },
  "language_info": {
   "codemirror_mode": {
    "name": "ipython",
    "version": 3
   },
   "file_extension": ".py",
   "mimetype": "text/x-python",
   "name": "python",
   "nbconvert_exporter": "python",
   "pygments_lexer": "ipython3",
   "version": "3.11.3"
  }
 },
 "nbformat": 4,
 "nbformat_minor": 5
}
