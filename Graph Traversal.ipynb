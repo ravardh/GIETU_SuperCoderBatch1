{
 "cells": [
  {
   "cell_type": "code",
   "execution_count": null,
   "id": "5ea289a4",
   "metadata": {},
   "outputs": [],
   "source": [
    "class Graph:\n",
    "    def _init_(self, v):\n",
    "        self.v = v\n",
    "        self.adj_list = [[] for _ in range(v)]\n",
    "\n",
    "    def add_edge(self, s, d):\n",
    "        self.adj_list[s].append(d)\n",
    "\n",
    "    def bfs(self, start):\n",
    "        visited = set()\n",
    "        queue = [start]\n",
    "        visited.add(start)\n",
    "\n",
    "        while queue:\n",
    "            vertex = queue.pop(0)\n",
    "            print(vertex, end=' ')\n",
    "\n",
    "            for neighbor in self.adj_list[vertex]:\n",
    "                if neighbor not in visited:\n",
    "                    queue.append(neighbor)\n",
    "                    visited.add(neighbor)\n",
    "\n",
    "    def display_graph(self):\n",
    "        print(self.adj_list)\n",
    "        for vertex in range(self.v):\n",
    "            neighbors = self.adj_list[vertex]\n",
    "            print(f\"Vertex {vertex}: {neighbors}\")\n",
    "\n",
    "graph = Graph(9)\n",
    "graph.add_edge(0, 1)\n",
    "graph.add_edge(0, 2)\n",
    "graph.add_edge(0, 8)\n",
    "graph.add_edge(1, 0)\n",
    "graph.add_edge(1, 3)\n",
    "graph.add_edge(2, 0)\n",
    "graph.add_edge(2, 7)\n",
    "graph.add_edge(3, 1)\n",
    "graph.add_edge(3, 4)\n",
    "graph.add_edge(3, 5)\n",
    "graph.add_edge(4, 3)\n",
    "graph.add_edge(5, 3)\n",
    "graph.add_edge(5, 6)\n",
    "graph.add_edge(6, 7)\n",
    "graph.add_edge(6, 5)\n",
    "graph.add_edge(7, 2)\n",
    "graph.add_edge(7, 6)\n",
    "graph.add_edge(7, 8)\n",
    "graph.add_edge(8, 0)\n",
    "graph.add_edge(8, 7)\n",
    "graph.display_graph()\n",
    "\n",
    "print(\"BFS traversal starting from vertex 0:\")\n",
    "graph.bfs(0)"
   ]
  }
 ],
 "metadata": {
  "kernelspec": {
   "display_name": "Python 3 (ipykernel)",
   "language": "python",
   "name": "python3"
  },
  "language_info": {
   "codemirror_mode": {
    "name": "ipython",
    "version": 3
   },
   "file_extension": ".py",
   "mimetype": "text/x-python",
   "name": "python",
   "nbconvert_exporter": "python",
   "pygments_lexer": "ipython3",
   "version": "3.11.5"
  }
 },
 "nbformat": 4,
 "nbformat_minor": 5
}
