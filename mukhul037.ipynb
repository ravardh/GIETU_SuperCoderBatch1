{
 "cells": [
  {
   "cell_type": "code",
   "execution_count": 1,
   "id": "77e16a6b",
   "metadata": {},
   "outputs": [
    {
     "name": "stdout",
     "output_type": "stream",
     "text": [
      "[1, 34, 77, 5.4, 'Raj', 82, 9.9]\n",
      "<class 'list'>\n"
     ]
    }
   ],
   "source": [
    "a=[1,34,77,5.4,'Raj',82,9.9]\n",
    "print(a)\n",
    "print(type(a))"
   ]
  },
  {
   "cell_type": "code",
   "execution_count": 3,
   "id": "967b2752",
   "metadata": {},
   "outputs": [
    {
     "name": "stdout",
     "output_type": "stream",
     "text": [
      "{1: 'mukhul', 2: 'Sai'}\n",
      "{1: 'mukhul', 2: 'Sai', 3: 'Kishna'}\n",
      "{1: 'ml', 2: 'Sai', 3: 'Kishna'}\n"
     ]
    }
   ],
   "source": [
    "#Dictionary\n",
    "#key and values\n",
    "d={1:\"mukhul\",2:'Sai'}\n",
    "print(d)\n",
    "d.update({3:\"Kishna\"})\n",
    "print(d)\n",
    "# update odl element with new element\n",
    "d.update({1:'ml'})\n",
    "print(d)"
   ]
  },
  {
   "cell_type": "code",
   "execution_count": 7,
   "id": "6daf87b5",
   "metadata": {},
   "outputs": [
    {
     "name": "stdout",
     "output_type": "stream",
     "text": [
      "mr\n",
      "sailada\n",
      "mukhul\n",
      "Enter any Key: 3\n",
      "mukhul\n"
     ]
    }
   ],
   "source": [
    "d={1: 'mr', 2: 'sailada', 3: 'mukhul'}\n",
    "for x in d.values():\n",
    "    print(x)\n",
    "s=int(input(\"Enter any Key: \"))\n",
    "if(s in d.keys()):\n",
    "    print(d[s])\n",
    "else:\n",
    "    print(d[s])"
   ]
  },
  {
   "cell_type": "markdown",
   "id": "d065022b",
   "metadata": {},
   "source": []
  },
  {
   "cell_type": "code",
   "execution_count": 13,
   "id": "2700b961",
   "metadata": {},
   "outputs": [
    {
     "name": "stdout",
     "output_type": "stream",
     "text": [
      "Sorted Array in Ascending Order is :\n",
      "[7, 2, 1, 6]\n"
     ]
    }
   ],
   "source": [
    "def selectionSort(array, size):\n",
    "\n",
    "    for s in range(size):\n",
    "        min_idx = s\n",
    "    for i in range(s + 1, size):\n",
    "           if array[i] < array[min_idx]:\n",
    "                min_idx = i\n",
    "    (array[s], array[min_idx]) = (array[min_idx], array[s])\n",
    "data = [ 7, 2, 1, 6 ]\n",
    "size = len(data)\n",
    "selectionSort(data, size)\n",
    "print('Sorted Array in Ascending Order is :')\n",
    "print(data)\n"
   ]
  },
  {
   "cell_type": "code",
   "execution_count": 14,
   "id": "d613f53c",
   "metadata": {},
   "outputs": [
    {
     "name": "stdout",
     "output_type": "stream",
     "text": [
      "Sorted array is:\n",
      "1\n",
      "2\n",
      "6\n",
      "7\n"
     ]
    }
   ],
   "source": [
    "def bubbleSort(arr):\n",
    "\n",
    "    n = len(arr)\n",
    "    for i in range(n):\n",
    "        for j in range(0, n - i - 1):\n",
    "            if arr[j] > arr[j + 1]:\n",
    "                arr[j], arr[j + 1] = arr[j + 1], arr[j]\n",
    "arr = [ 7, 2, 1, 6 ]\n",
    "bubbleSort(arr)\n",
    "print(\"Sorted array is:\")\n",
    "for i in range(len(arr)):\n",
    "    print(\"%d\" % arr[i])\n"
   ]
  },
  {
   "cell_type": "code",
   "execution_count": 19,
   "id": "791cd4d9",
   "metadata": {},
   "outputs": [
    {
     "name": "stdout",
     "output_type": "stream",
     "text": [
      "The unsorted list is: [7, 2, 1, 6]\n",
      "The sorted new list is: [1, 2, 6, 7]\n"
     ]
    }
   ],
   "source": [
    "def insertion_sort(list1):\n",
    "        for i in range(1, len(list1)):\n",
    "            a = list1[i]\n",
    "            j = i - 1\n",
    "            while j >= 0 and a < list1[j]:\n",
    "                list1[j + 1] = list1[j]\n",
    "                j -= 1\n",
    "            list1[j + 1] = a\n",
    "        return list1\n",
    "list1 = [ 7, 2, 1, 6 ]\n",
    "print(\"The unsorted list is:\", list1)\n",
    "print(\"The sorted new list is:\", insertion_sort(list1))"
   ]
  },
  {
   "cell_type": "code",
   "execution_count": null,
   "id": "fc05d4e8",
   "metadata": {},
   "outputs": [],
   "source": []
  }
 ],
 "metadata": {
  "kernelspec": {
   "display_name": "Python 3 (ipykernel)",
   "language": "python",
   "name": "python3"
  },
  "language_info": {
   "codemirror_mode": {
    "name": "ipython",
    "version": 3
   },
   "file_extension": ".py",
   "mimetype": "text/x-python",
   "name": "python",
   "nbconvert_exporter": "python",
   "pygments_lexer": "ipython3",
   "version": "3.9.12"
  }
 },
 "nbformat": 4,
 "nbformat_minor": 5
}
