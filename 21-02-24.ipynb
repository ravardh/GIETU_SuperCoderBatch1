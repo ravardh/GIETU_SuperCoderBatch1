{
 "cells": [
  {
   "cell_type": "markdown",
   "id": "243aaaad-6f0c-41a2-95c4-7f33cb4a0733",
   "metadata": {},
   "source": [
    "Rohit kumar sahoo\n"
   ]
  },
  {
   "cell_type": "code",
   "execution_count": 1,
   "id": "04e246b3-a66d-4710-9f5e-69c8fbd222d1",
   "metadata": {},
   "outputs": [
    {
     "name": "stdout",
     "output_type": "stream",
     "text": [
      "hello world\n"
     ]
    }
   ],
   "source": [
    "print(\"hello world\")\n"
   ]
  },
  {
   "cell_type": "code",
   "execution_count": 3,
   "id": "80918d85-eaf7-4350-b0ae-c91c0be62c7e",
   "metadata": {},
   "outputs": [
    {
     "name": "stdout",
     "output_type": "stream",
     "text": [
      "6\n"
     ]
    }
   ],
   "source": [
    "_x = 6\n",
    "print(_x)"
   ]
  },
  {
   "cell_type": "code",
   "execution_count": 5,
   "id": "ed22d0ef-c942-4186-a264-3b5563ca5874",
   "metadata": {},
   "outputs": [
    {
     "name": "stdout",
     "output_type": "stream",
     "text": [
      "9\n"
     ]
    }
   ],
   "source": [
    "__init__ = 9\n",
    "print(__init__)"
   ]
  },
  {
   "cell_type": "code",
   "execution_count": 7,
   "id": "f33d3495-56de-4dae-8ec5-2ee3053c33af",
   "metadata": {},
   "outputs": [
    {
     "name": "stdout",
     "output_type": "stream",
     "text": [
      "<class 'float'>\n"
     ]
    }
   ],
   "source": [
    "a=1.0000000000000000000\n",
    "print(type(a))"
   ]
  },
  {
   "cell_type": "code",
   "execution_count": 9,
   "id": "2d78461e-1e31-4231-86b1-2feb0442e699",
   "metadata": {},
   "outputs": [
    {
     "name": "stdout",
     "output_type": "stream",
     "text": [
      "False\n"
     ]
    }
   ],
   "source": [
    "print(3<1>0)"
   ]
  },
  {
   "cell_type": "code",
   "execution_count": 14,
   "id": "d696a543-b657-4a44-b9b4-24e684db6f64",
   "metadata": {},
   "outputs": [
    {
     "name": "stdout",
     "output_type": "stream",
     "text": [
      "ffff\tkk\n"
     ]
    }
   ],
   "source": [
    "print(\"ffff\\tkk\")"
   ]
  },
  {
   "cell_type": "code",
   "execution_count": 21,
   "id": "8002b6e6-7b8c-407c-a7f6-3dcde20ec5b6",
   "metadata": {},
   "outputs": [
    {
     "ename": "SyntaxError",
     "evalue": "invalid syntax (2407908673.py, line 5)",
     "output_type": "error",
     "traceback": [
      "\u001b[1;36m  Input \u001b[1;32mIn [21]\u001b[1;36m\u001b[0m\n\u001b[1;33m    match op:\u001b[0m\n\u001b[1;37m          ^\u001b[0m\n\u001b[1;31mSyntaxError\u001b[0m\u001b[1;31m:\u001b[0m invalid syntax\n"
     ]
    }
   ],
   "source": [
    "op= input(\"Enter the operator [ + , - ....]\")\n",
    "a = int(input(\"Enter first number\"))\n",
    "b = int(input(\"Enter second number\"))\n",
    "\n",
    "match op:\n",
    "    case \"+\":\n",
    "        print(a+b)\n",
    "    case \"-\":\n",
    "        print(a-b)\n",
    "    case \"*\":\n",
    "       print(a*b)\n",
    "    case \"/\":\n",
    "        print(a/b)\n",
    "    case \"//\":\n",
    "        print(a//b)\n",
    "    case \"%\":\n",
    "        print(a%b)\n",
    "    \n"
   ]
  },
  {
   "cell_type": "code",
   "execution_count": null,
   "id": "d85d668b-1c8f-439b-8ec6-b7a17747bb72",
   "metadata": {},
   "outputs": [],
   "source": []
  }
 ],
 "metadata": {
  "kernelspec": {
   "display_name": "Python 3 (ipykernel)",
   "language": "python",
   "name": "python3"
  },
  "language_info": {
   "codemirror_mode": {
    "name": "ipython",
    "version": 3
   },
   "file_extension": ".py",
   "mimetype": "text/x-python",
   "name": "python",
   "nbconvert_exporter": "python",
   "pygments_lexer": "ipython3",
   "version": "3.9.12"
  }
 },
 "nbformat": 4,
 "nbformat_minor": 5
}
