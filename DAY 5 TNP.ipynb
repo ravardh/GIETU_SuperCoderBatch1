{
 "cells": [
  {
   "cell_type": "markdown",
   "id": "525dd284",
   "metadata": {},
   "source": [
    "# Tree"
   ]
  },
  {
   "cell_type": "code",
   "execution_count": 7,
   "id": "295c68a0",
   "metadata": {},
   "outputs": [
    {
     "name": "stdout",
     "output_type": "stream",
     "text": [
      "<__main__.Node object at 0x00000289EC69CF50>\n",
      "20\n"
     ]
    }
   ],
   "source": [
    "class Node:\n",
    "    def __init__(self,info=None):\n",
    "        self.data=info;\n",
    "        self.left=None;\n",
    "        self.right=None;\n",
    "#     root=root(20)\n",
    "#     root.left=node(32)\n",
    "#     root.right=node(10)\n",
    "    \n",
    "    \n",
    "root = Node(20)\n",
    "root.left = Node(32)\n",
    "root.right = Node(10)\n",
    "root.left.left = Node(15)\n",
    "root.left.right = Node(12)\n",
    "root.right.left = Node(8)\n",
    "root.right.right = Node(24)\n",
    "root.left.left.left = Node(4)\n",
    "root.left.right.left = Node(50)\n",
    "root.left.right.right = Node(6)\n",
    "root.right.right.left = Node(16)\n",
    "root.right.right.right = Node(2)\n",
    "root.left.right.left.left = Node(40)\n",
    "root.left.right.left.right = Node(35)\n",
    "\n",
    "print(root)\n",
    "print(root.data)"
   ]
  },
  {
   "cell_type": "code",
   "execution_count": 13,
   "id": "b775c028",
   "metadata": {},
   "outputs": [
    {
     "name": "stdout",
     "output_type": "stream",
     "text": [
      "20 32 15 4 12 50 40 35 6 10 8 24 16 2 "
     ]
    }
   ],
   "source": [
    "class Node:\n",
    "    def __init__(self, info=None):\n",
    "        self.data = info\n",
    "        self.left = None\n",
    "        self.right = None\n",
    "\n",
    "def preorder(root):\n",
    "    if root == None:\n",
    "        return\n",
    "    print(root.data, end=\" \")\n",
    "    preorder(root.left)\n",
    "    preorder(root.right)\n",
    "\n",
    "root = Node(20)\n",
    "root.left = Node(32)\n",
    "root.right = Node(10)\n",
    "root.left.left = Node(15)\n",
    "root.left.right = Node(12)\n",
    "root.right.left = Node(8)\n",
    "root.right.right = Node(24)\n",
    "root.left.left.left = Node(4)\n",
    "root.left.right.left = Node(50)\n",
    "root.left.right.right = Node(6)\n",
    "root.right.right.left = Node(16)\n",
    "root.right.right.right = Node(2)\n",
    "root.left.right.left.left = Node(40)\n",
    "root.left.right.left.right = Node(35)\n",
    "\n",
    "preorder(root)"
   ]
  },
  {
   "cell_type": "code",
   "execution_count": 22,
   "id": "b2651008",
   "metadata": {},
   "outputs": [
    {
     "name": "stdout",
     "output_type": "stream",
     "text": [
      "<__main__.node object at 0x00000289ED451E90>\n",
      "20\n",
      "\n",
      "Preorder Traversal 20 32 15 4 12 50 40 35 6 10 8 24 16 2 \n",
      "\n",
      "Inorder Traversal 4 15 32 40 50 35 12 6 20 8 10 16 24 2 \n",
      "\n",
      "Postorder Traversal 4 15 40 35 50 6 12 32 8 16 2 24 10 20 \n",
      "\n",
      "Levelorder Traversal\n",
      "---**********--- \n",
      "20 \n",
      "32 10 \n",
      "15 12 8 24 \n",
      "4 50 6 16 2 \n",
      "40 35 \n",
      "---**********--- \n"
     ]
    }
   ],
   "source": [
    "class node:\n",
    "    def __init__(self,info=None):\n",
    "        self.data = info\n",
    "        self.left = None\n",
    "        self.right = None\n",
    "\n",
    "\n",
    "def preorder(root): #root, left, right\n",
    "    if root==None: #Base case\n",
    "        return\n",
    "    print(root.data, end=\" \") #Executabale Statement to print Root data\n",
    "    preorder(root.left) #recursive Call for left child\n",
    "    preorder(root.right) #recursive Call for right child\n",
    "    \n",
    "\n",
    "def inorder(root): #root, left, right\n",
    "    if root==None: #Base case\n",
    "        return\n",
    "    inorder(root.left) #recursive Call for left child\n",
    "    print(root.data, end=\" \") #Executabale Statement to print Root data\n",
    "    inorder(root.right) #recursive Call for right child\n",
    "\n",
    "def postorder(root): #root, left, right\n",
    "    if root==None: #Base case\n",
    "        return\n",
    "    postorder(root.left) #recursive Call for left child\n",
    "    postorder(root.right) #recursive Call for right child\n",
    "    print(root.data, end=\" \") #Executabale Statement to print Root data\n",
    "    \n",
    "def levelorder(root):\n",
    "    Q=[root]\n",
    "    Q.append(None)\n",
    "    while len(Q)>0:\n",
    "        cur = Q.pop(0)\n",
    "        if cur == None:\n",
    "            print()\n",
    "            if len(Q)>0:\n",
    "                Q.append(None)\n",
    "        else:\n",
    "            print(cur.data, end = \" \")\n",
    "            if cur.left != None:\n",
    "                Q.append(cur.left)\n",
    "            if cur.right != None:\n",
    "                Q.append(cur.right)\n",
    "            \n",
    "            \n",
    "\n",
    "root = node(20)\n",
    "\n",
    "root.left = node(32)\n",
    "root.right = node(10)\n",
    "\n",
    "root.left.left = node(15)\n",
    "root.left.right = node(12)\n",
    "root.right.left = node(8)\n",
    "root.right.right = node(24)\n",
    "\n",
    "root.left.left.left = node(4)\n",
    "root.left.right.left = node(50)\n",
    "root.left.right.right = node(6)\n",
    "root.right.right.left = node(16)\n",
    "root.right.right.right = node(2)\n",
    "\n",
    "root.left.right.left.left = node(40)\n",
    "root.left.right.left.right = node(35)\n",
    "\n",
    "print(root)\n",
    "print(root.data)\n",
    "print(\"\\nPreorder Traversal\", end=\" \")\n",
    "preorder(root)\n",
    "print(\"\\n\\nInorder Traversal\", end=\" \")\n",
    "inorder(root)\n",
    "print(\"\\n\\nPostorder Traversal\", end=\" \")\n",
    "postorder(root)\n",
    "\n",
    "print(\"\\n\\nLevelorder Traversal\")\n",
    "print(\"---**********--- \")\n",
    "levelorder(root)\n",
    "print(\"---**********--- \")"
   ]
  },
  {
   "cell_type": "code",
   "execution_count": null,
   "id": "e7f79a88",
   "metadata": {},
   "outputs": [],
   "source": []
  }
 ],
 "metadata": {
  "kernelspec": {
   "display_name": "Python 3 (ipykernel)",
   "language": "python",
   "name": "python3"
  },
  "language_info": {
   "codemirror_mode": {
    "name": "ipython",
    "version": 3
   },
   "file_extension": ".py",
   "mimetype": "text/x-python",
   "name": "python",
   "nbconvert_exporter": "python",
   "pygments_lexer": "ipython3",
   "version": "3.11.3"
  }
 },
 "nbformat": 4,
 "nbformat_minor": 5
}
