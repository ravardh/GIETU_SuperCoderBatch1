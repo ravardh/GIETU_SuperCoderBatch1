{
  "nbformat": 4,
  "nbformat_minor": 0,
  "metadata": {
    "colab": {
      "provenance": []
    },
    "kernelspec": {
      "name": "python3",
      "display_name": "Python 3"
    },
    "language_info": {
      "name": "python"
    }
  },
  "cells": [
    {
      "cell_type": "code",
      "execution_count": null,
      "metadata": {
        "id": "Wm2STUnBgSva"
      },
      "outputs": [],
      "source": [
        "\n",
        "\n",
        "class Node:\n",
        "\tdef __init__(self, item):\n",
        "\t\tself.data = item\n",
        "\t\tself.left = None\n",
        "\t\tself.right = None\n",
        "\n",
        "def rightViewUtil(root, level, max_level):\n",
        "\n",
        "\tif root is None:\n",
        "\t\treturn\n",
        "\tif (max_level[0] < level):\n",
        "\t\tprint \"%d \" % (root.data),\n",
        "\t\tmax_level[0] = level\n",
        "\trightViewUtil(root.right, level+1, max_level)\n",
        "\trightViewUtil(root.left, level+1, max_level)\n",
        "\n",
        "\n",
        "def rightView(root):\n",
        "\tmax_level = [0]\n",
        "\trightViewUtil(root, 1, max_level)\n",
        "\n",
        "root = Node(1)\n",
        "root.left = Node(2)\n",
        "root.right = Node(3)\n",
        "root.left.left = Node(4)\n",
        "root.left.right = Node(5)\n",
        "root.right.left = Node(6)\n",
        "root.right.right = Node(7)\n",
        "root.right.left.right = Node(8)\n",
        "\n",
        "rightView(root)"
      ]
    }
  ]
}