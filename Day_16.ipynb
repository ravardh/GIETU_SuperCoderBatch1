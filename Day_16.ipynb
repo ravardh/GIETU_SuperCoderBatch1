{
 "cells": [
  {
   "cell_type": "code",
   "execution_count": 1,
   "id": "686d3a94-50f5-4c7c-ac4e-dbed58d8a305",
   "metadata": {},
   "outputs": [
    {
     "name": "stdout",
     "output_type": "stream",
     "text": [
      "The shortest distance from node 2 to node 1 is:  4\n",
      "The shortest distance from node 2 to node 2 is:  0\n",
      "The shortest distance from node 2 to node 3 is:  8\n",
      "The shortest distance from node 2 to node 4 is:  15\n",
      "The shortest distance from node 2 to node 5 is:  22\n",
      "The shortest distance from node 2 to node 6 is:  12\n",
      "The shortest distance from node 2 to node 7 is:  12\n",
      "The shortest distance from node 2 to node 8 is:  11\n",
      "The shortest distance from node 2 to node 9 is:  10\n"
     ]
    }
   ],
   "source": [
    "def dijkstra(graph, start):\n",
    "    distances = {node: float('infinity') for node in graph}\n",
    "    distances[start] = 0\n",
    "    previous_nodes = {node: None for node in graph}\n",
    "    unvisited = graph.copy()\n",
    "    \n",
    "    while unvisited:\n",
    "        current_node = min(unvisited, key=lambda node: distances[node])\n",
    "        unvisited.pop(current_node)\n",
    "\n",
    "        for neighbor, weight in graph[current_node]:\n",
    "            new_distance = distances[current_node] + weight\n",
    "            if new_distance < distances[neighbor]:\n",
    "                distances[neighbor] = new_distance\n",
    "                previous_nodes[neighbor] = current_node\n",
    "\n",
    "    return distances\n",
    "\n",
    "graph = {\n",
    "    1: [(2, 4), (8, 8)],\n",
    "    2: [(1, 4), (3, 8), (8, 11)],\n",
    "    3: [(2, 8), (4, 7), (6, 4), (9, 2)],\n",
    "    4: [(3, 7), (5, 9), (6, 14)],\n",
    "    5: [(4, 9), (6, 10)],\n",
    "    6: [(5, 10), (3, 4), (7, 2), (4, 14)],\n",
    "    7: [(6, 2), (9, 6), (8, 1)],\n",
    "    8: [(1, 8), (2, 11),(7, 1), (9, 7)],\n",
    "    9: [(8, 7), (3, 2), (7, 6)]\n",
    "}\n",
    "\n",
    "start = 2\n",
    "distances = dijkstra(graph, start)\n",
    "\n",
    "for node, distance in distances.items():\n",
    "    print(f\"The shortest distance from node {start} to node {node} is: \", distance)\n"
   ]
  },
  {
   "cell_type": "code",
   "execution_count": null,
   "id": "74743846-96f2-4367-9afe-a3cdd9a8a307",
   "metadata": {},
   "outputs": [],
   "source": []
  }
 ],
 "metadata": {
  "kernelspec": {
   "display_name": "Python 3 (ipykernel)",
   "language": "python",
   "name": "python3"
  },
  "language_info": {
   "codemirror_mode": {
    "name": "ipython",
    "version": 3
   },
   "file_extension": ".py",
   "mimetype": "text/x-python",
   "name": "python",
   "nbconvert_exporter": "python",
   "pygments_lexer": "ipython3",
   "version": "3.11.5"
  }
 },
 "nbformat": 4,
 "nbformat_minor": 5
}
