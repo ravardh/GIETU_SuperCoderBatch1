{
 "cells": [
  {
   "cell_type": "code",
   "execution_count": 2,
   "id": "cf6b2834",
   "metadata": {},
   "outputs": [
    {
     "name": "stdout",
     "output_type": "stream",
     "text": [
      "\n",
      "left view\n",
      "9 7 6 5 17 "
     ]
    }
   ],
   "source": [
    "class node:\n",
    "    def __init__(self,key):\n",
    "        self.data = 0\n",
    "        self.left = None\n",
    "        self.right = None\n",
    "        self.key=key\n",
    "        \n",
    "def leftview(root):\n",
    "    if root == None:\n",
    "        return\n",
    "    result=[]\n",
    "    queue = [(root)]\n",
    "    while queue:\n",
    "        level_size = len(queue)\n",
    "        for i in range(level_size):\n",
    "            current = queue.pop(0)\n",
    "            if i == 0:\n",
    "                result.append(current.key)\n",
    "            if current.left:\n",
    "                queue.append(current.left)\n",
    "            if current.right:\n",
    "                queue.append(current.right)\n",
    "\n",
    "    for key in result:\n",
    "        print(key, end=\" \")\n",
    "            \n",
    "root = node(9)\n",
    "\n",
    "root.left = node(7)\n",
    "root.right = node(1)\n",
    "\n",
    "root.left.left = node(6)\n",
    "root.left.right = node(4)\n",
    "root.right.left = node(3)\n",
    "root.right.right = node(2)\n",
    "\n",
    "root.left.left.right = node(5)\n",
    "root.right.left.left = node(2)\n",
    "root.right.left.right = node(12)\n",
    "\n",
    "root.right.left.right.right = node(17)\n",
    "\n",
    "\n",
    "print(\"\\nleft view\")\n",
    "leftview(root)"
   ]
  },
  {
   "cell_type": "code",
   "execution_count": null,
   "id": "4ae53822",
   "metadata": {},
   "outputs": [],
   "source": []
  }
 ],
 "metadata": {
  "kernelspec": {
   "display_name": "Python 3 (ipykernel)",
   "language": "python",
   "name": "python3"
  },
  "language_info": {
   "codemirror_mode": {
    "name": "ipython",
    "version": 3
   },
   "file_extension": ".py",
   "mimetype": "text/x-python",
   "name": "python",
   "nbconvert_exporter": "python",
   "pygments_lexer": "ipython3",
   "version": "3.10.9"
  }
 },
 "nbformat": 4,
 "nbformat_minor": 5
}
