{
 "cells": [
  {
   "cell_type": "code",
   "execution_count": 3,
   "id": "913b139c",
   "metadata": {},
   "outputs": [
    {
     "name": "stdout",
     "output_type": "stream",
     "text": [
      "Maximum Value: 54\n",
      "Selected Items: [0, 1, 2, 4, 5]\n"
     ]
    }
   ],
   "source": [
    "def knapsack(weights, values, capacity):\n",
    "    n = len(weights)\n",
    "\n",
    "    dp = [[0 for _ in range(capacity + 1)] for _ in range(n + 1)]\n",
    "\n",
    "\n",
    "    for i in range(1, n + 1):\n",
    "        for w in range(1, capacity + 1):\n",
    "            if weights[i - 1] <= w:\n",
    "                dp[i][w] = max(values[i - 1] + dp[i - 1][w - weights[i - 1]], dp[i - 1][w])\n",
    "            else:\n",
    "                dp[i][w] = dp[i - 1][w]\n",
    "\n",
    "   \n",
    "    max_value = dp[n][capacity]\n",
    "\n",
    "  \n",
    "    selected_items = []\n",
    "    w = capacity\n",
    "    for i in range(n, 0, -1):\n",
    "        if dp[i][w] != dp[i - 1][w]:\n",
    "            selected_items.append(i - 1)\n",
    "            w -= weights[i - 1]\n",
    "\n",
    "    return max_value, selected_items[::-1]  \n",
    "\n",
    "\n",
    "weights = [2,3,5,7,1,4,1]\n",
    "values = [10,5,15,7,6,18,3]\n",
    "capacity = 15\n",
    "max_value, selected_items = knapsack(weights, values, capacity)\n",
    "\n",
    "print(\"Maximum Value:\", max_value)\n",
    "print(\"Selected Items:\", selected_items)\n"
   ]
  },
  {
   "cell_type": "code",
   "execution_count": null,
   "id": "76ee2dd0",
   "metadata": {},
   "outputs": [],
   "source": []
  }
 ],
 "metadata": {
  "kernelspec": {
   "display_name": "Python 3 (ipykernel)",
   "language": "python",
   "name": "python3"
  },
  "language_info": {
   "codemirror_mode": {
    "name": "ipython",
    "version": 3
   },
   "file_extension": ".py",
   "mimetype": "text/x-python",
   "name": "python",
   "nbconvert_exporter": "python",
   "pygments_lexer": "ipython3",
   "version": "3.9.12"
  }
 },
 "nbformat": 4,
 "nbformat_minor": 5
}
