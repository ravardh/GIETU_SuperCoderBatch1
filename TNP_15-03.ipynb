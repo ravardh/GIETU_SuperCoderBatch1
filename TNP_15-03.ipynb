{
 "cells": [
  {
   "cell_type": "code",
   "execution_count": 4,
   "id": "de0d7439-6427-46c5-a97d-f6b2f123d8da",
   "metadata": {},
   "outputs": [
    {
     "name": "stdout",
     "output_type": "stream",
     "text": [
      "Graph contains cycle\n"
     ]
    }
   ],
   "source": [
    "from collections import defaultdict\n",
    "\n",
    "class Graph:\n",
    "    def __init__(self, vertices):\n",
    "        self.graph = defaultdict(list)\n",
    "        self.V = vertices\n",
    "\n",
    "    def add_edge(self, u, v):\n",
    "        self.graph[u].append(v)\n",
    "\n",
    "    def is_cyclic_util(self, v, visited, rec_stack):\n",
    "        visited[v] = True\n",
    "        rec_stack[v] = True\n",
    "\n",
    "        for neighbor in self.graph[v]:\n",
    "            if not visited[neighbor]:\n",
    "                if self.is_cyclic_util(neighbor, visited, rec_stack):\n",
    "                    return True\n",
    "            elif rec_stack[neighbor]:\n",
    "                return True\n",
    "\n",
    "        rec_stack[v] = False\n",
    "        return False\n",
    "\n",
    "    def is_cyclic(self):\n",
    "        visited = [False] * self.V\n",
    "        rec_stack = [False] * self.V\n",
    "        for node in range(self.V):\n",
    "            if not visited[node]:\n",
    "                if self.is_cyclic_util(node, visited, rec_stack):\n",
    "                    return True\n",
    "        return False\n",
    "\n",
    "if __name__ == \"__main__\":\n",
    "    \n",
    "    graph.add_edge(1, 2)\n",
    "    graph.add_edge(1, 10)\n",
    "    graph.add_edge(2, 1)\n",
    "    graph.add_edge(2, 4)\n",
    "    graph.add_edge(3, 4)\n",
    "    graph.add_edge(4, 2)\n",
    "    graph.add_edge(5, 3)\n",
    "    graph.add_edge(5, 6)\n",
    "    graph.add_edge(6, 5)\n",
    "    graph.add_edge(6, 7)\n",
    "    graph.add_edge(7, 6)\n",
    "\n",
    "\n",
    "    if graph.is_cyclic():\n",
    "        print(\"Graph contains cycle\")\n",
    "    else:\n",
    "        print(\"Graph does not contain cycle\")\n"
   ]
  },
  {
   "cell_type": "code",
   "execution_count": 9,
   "id": "0409f735-2793-4a2a-9a92-fcd1f3bacc76",
   "metadata": {},
   "outputs": [
    {
     "name": "stdout",
     "output_type": "stream",
     "text": [
      "Does the graph contain a cycle? True\n"
     ]
    }
   ],
   "source": [
    "def DFS_cycle(start, graph, visited, parent):\n",
    "    visited[start - 1] = True\n",
    "\n",
    "    for i in graph[start - 1]:\n",
    "        if not visited[i[1] - 1]:\n",
    "            parent[i[1] - 1] = start\n",
    "            if DFS_cycle(i[1], graph, visited, parent):\n",
    "                return True\n",
    "        elif parent[start - 1] != i[1]:\n",
    "            return True\n",
    "\n",
    "    return False\n",
    "\n",
    "\n",
    "def has_cycle(graph):\n",
    "    v = len(graph)\n",
    "    visited = [False] * v\n",
    "    parent = [-1] * v\n",
    "\n",
    "    for i in range(v):\n",
    "        if not visited[i]:\n",
    "            if DFS_cycle(i + 1, graph, visited, parent):\n",
    "                return True\n",
    "\n",
    "    return False\n",
    "\n",
    "def create_graph(graph, source, destination, weight=1):\n",
    "    graph[source - 1].append((source, destination, weight))\n",
    "\n",
    "# Corrected graph creation\n",
    "v = 11  # Number of vertices\n",
    "graph = [[] for _ in range(v)]\n",
    "\n",
    "create_graph(graph, 1, 2)\n",
    "create_graph(graph, 2, 4)\n",
    "create_graph(graph, 3, 7)\n",
    "create_graph(graph, 4, 5)\n",
    "create_graph(graph, 5, 6)\n",
    "create_graph(graph, 6, 9)\n",
    "create_graph(graph, 7, 11)\n",
    "create_graph(graph, 8, 4)\n",
    "create_graph(graph, 9, 8)\n",
    "create_graph(graph, 10, 6)\n",
    "create_graph(graph, 11, 7)\n",
    "\n",
    "print(\"Does the graph contain a cycle?\", has_cycle(graph))\n"
   ]
  },
  {
   "cell_type": "code",
   "execution_count": 10,
   "id": "881c22e5-4fea-4bba-9d70-9a073e324b2c",
   "metadata": {},
   "outputs": [
    {
     "name": "stdout",
     "output_type": "stream",
     "text": [
      "Maximum Profit: 110\n",
      "Job Sequence: ['j1', 'j6', 'j5', 'j2']\n"
     ]
    }
   ],
   "source": [
    "def job_sequencing(job_code, profit, deadline):\n",
    "    n = len(profit)\n",
    "    max_deadline = max(deadline)\n",
    "    \n",
    "    jobs = [(job_code[i], profit[i], deadline[i]) for i in range(n)]\n",
    "    \n",
    "    jobs.sort(key=lambda x: x[1], reverse=True)\n",
    "\n",
    "    \n",
    "    result = [None] * max_deadline\n",
    "    slots = [False] * max_deadline\n",
    "\n",
    "    \n",
    "    for job in jobs:\n",
    "        for i in range(min(max_deadline - 1, job[2] - 1), -1, -1):\n",
    "            if slots[i] is False:\n",
    "                result[i] = job[0]\n",
    "                slots[i] = True\n",
    "                break\n",
    "\n",
    "    max_profit = 0\n",
    "    job_sequence = []\n",
    "    for i in range(max_deadline):\n",
    "        if result[i] is not None:\n",
    "            max_profit += profit[job_code.index(result[i])]\n",
    "            job_sequence.append(result[i])\n",
    "\n",
    "    return max_profit, job_sequence\n",
    "\n",
    "# Given data\n",
    "job_code = ['j1', 'j2', 'j3', 'j4', 'j5', 'j6', 'j7']\n",
    "profit = [20, 30, 15, 12, 35, 25, 5]\n",
    "deadline = [2, 4, 3, 1, 3, 4, 2]\n",
    "\n",
    "max_profit, job_sequence = job_sequencing(job_code, profit, deadline)\n",
    "print(\"Maximum Profit:\", max_profit)\n",
    "print(\"Job Sequence:\", job_sequence)\n"
   ]
  },
  {
   "cell_type": "code",
   "execution_count": null,
   "id": "b51343ca-6d0e-42cd-af62-734d4c386b48",
   "metadata": {},
   "outputs": [],
   "source": []
  }
 ],
 "metadata": {
  "kernelspec": {
   "display_name": "Python 3 (ipykernel)",
   "language": "python",
   "name": "python3"
  },
  "language_info": {
   "codemirror_mode": {
    "name": "ipython",
    "version": 3
   },
   "file_extension": ".py",
   "mimetype": "text/x-python",
   "name": "python",
   "nbconvert_exporter": "python",
   "pygments_lexer": "ipython3",
   "version": "3.10.4"
  }
 },
 "nbformat": 4,
 "nbformat_minor": 5
}
