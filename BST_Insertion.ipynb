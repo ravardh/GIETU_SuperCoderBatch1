{
  "nbformat": 4,
  "nbformat_minor": 0,
  "metadata": {
    "colab": {
      "provenance": [],
      "authorship_tag": "ABX9TyNKztprTCv6sqLAOULALL6V",
      "include_colab_link": true
    },
    "kernelspec": {
      "name": "python3",
      "display_name": "Python 3"
    },
    "language_info": {
      "name": "python"
    }
  },
  "cells": [
    {
      "cell_type": "markdown",
      "metadata": {
        "id": "view-in-github",
        "colab_type": "text"
      },
      "source": [
        "<a href=\"https://colab.research.google.com/github/ravardh/GIETU_SuperCoderBatch1/blob/Ashish_21cse101/BST_Insertion.ipynb\" target=\"_parent\"><img src=\"https://colab.research.google.com/assets/colab-badge.svg\" alt=\"Open In Colab\"/></a>"
      ]
    },
    {
      "cell_type": "code",
      "execution_count": 1,
      "metadata": {
        "colab": {
          "base_uri": "https://localhost:8080/"
        },
        "id": "LI8WXErx8pDt",
        "outputId": "b578fc6e-c7fa-46da-98d8-71145a8c4d4e"
      },
      "outputs": [
        {
          "output_type": "stream",
          "name": "stdout",
          "text": [
            "Inorder Traversal :  2 3 5 7 8 9 10 12 14 15 17 \n",
            "Preorder Traversal :  10 9 5 2 3 7 8 14 12 17 15 \n",
            "Postorder Traversal :  3 2 8 7 5 9 12 15 17 14 10 \n",
            "Levelorder Traversal : \n",
            "10 \n",
            "9 14 \n",
            "5 12 17 \n",
            "2 7 15 \n",
            "3 8 \n"
          ]
        }
      ],
      "source": [
        "# Binary Search Tree\n",
        "\n",
        "class Node:\n",
        "    def __init__(self, key):\n",
        "        self.key = key\n",
        "        self.left = None\n",
        "        self.right = None\n",
        "\n",
        "def inorder(root):\n",
        "    if root == None:\n",
        "        return\n",
        "    inorder(root.left)\n",
        "    print(root.key,end = \" \")\n",
        "    inorder(root.right)\n",
        "\n",
        "def preorder(root):\n",
        "    if root == None:\n",
        "        return\n",
        "    print(root.key,end = \" \")\n",
        "    preorder(root.left)\n",
        "    preorder(root.right)\n",
        "\n",
        "def postorder(root):\n",
        "    if root == None:\n",
        "        return\n",
        "    postorder(root.left)\n",
        "    postorder(root.right)\n",
        "    print(root.key,end = \" \")\n",
        "\n",
        "def levelorder(root):\n",
        "    Q = [root]\n",
        "    Q.append(None)\n",
        "    while len(Q) != 0:\n",
        "      cur = Q.pop(0)\n",
        "      if cur == None:\n",
        "        print()\n",
        "        if len(Q) != 0:\n",
        "          Q.append(None)\n",
        "      else:\n",
        "        print(cur.key, end = \" \")\n",
        "        if cur.left != None:\n",
        "          Q.append(cur.left)\n",
        "        if cur.right != None:\n",
        "          Q.append(cur.right)\n",
        "\n",
        "def insert(node, key):\n",
        "    if node is None:\n",
        "        return Node(key)\n",
        "\n",
        "    if key < node.key:\n",
        "        node.left = insert(node.left, key)\n",
        "    else:\n",
        "        node.right = insert(node.right, key)\n",
        "\n",
        "    return node\n",
        "\n",
        "root = None\n",
        "root = insert(root, 10)\n",
        "root = insert(root, 14)\n",
        "root = insert(root, 17)\n",
        "root = insert(root, 9)\n",
        "root = insert(root, 5)\n",
        "root = insert(root, 15)\n",
        "root = insert(root, 12)\n",
        "root = insert(root, 7)\n",
        "root = insert(root, 8)\n",
        "root = insert(root, 2)\n",
        "root = insert(root, 3)\n",
        "\n",
        "print(\"Inorder Traversal : \", end = ' ')\n",
        "inorder(root)\n",
        "\n",
        "print(\"\\nPreorder Traversal : \", end = ' ')\n",
        "preorder(root)\n",
        "\n",
        "print(\"\\nPostorder Traversal : \", end = ' ')\n",
        "postorder(root)\n",
        "\n",
        "print(\"\\nLevelorder Traversal : \")\n",
        "levelorder(root)"
      ]
    }
  ]
}