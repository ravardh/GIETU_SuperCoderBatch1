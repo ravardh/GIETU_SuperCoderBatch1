{
 "cells": [
  {
   "cell_type": "code",
   "execution_count": 5,
   "id": "64ff0d55-1d1a-4a13-8c2f-7de35b0e6428",
   "metadata": {},
   "outputs": [
    {
     "name": "stdin",
     "output_type": "stream",
     "text": [
      " 18\n"
     ]
    },
    {
     "name": "stdout",
     "output_type": "stream",
     "text": [
      "perfect age\n"
     ]
    }
   ],
   "source": [
    "age=int(input())\n",
    "match age:\n",
    "    case 18:\n",
    "        print(\"perfect age\")\n",
    "    case _ if age>18:\n",
    "        print(\"adult\")\n",
    "    case _ if age<18:\n",
    "        print(\"not adult\")\n"
   ]
  },
  {
   "cell_type": "code",
   "execution_count": 6,
   "id": "2a80698e-1eab-4920-8eaf-39be756a72b2",
   "metadata": {},
   "outputs": [
    {
     "name": "stdin",
     "output_type": "stream",
     "text": [
      " 12\n",
      " 4\n",
      "enter the operator +\n"
     ]
    },
    {
     "name": "stdout",
     "output_type": "stream",
     "text": [
      "16\n"
     ]
    }
   ],
   "source": [
    "num1=int(input())\n",
    "num2=int(input())\n",
    "operator=input(\"enter the operator\")\n",
    "match operator:\n",
    "    case \"+\":\n",
    "        print(num1+num2)\n",
    "    case \"-\":\n",
    "        print(num1-num2)\n",
    "    case \"*\":\n",
    "        print(num1*num2)\n",
    "    case \"/\":\n",
    "        print(num1/num2)\n",
    "    case \"%\":\n",
    "        print(num1%num2)\n"
   ]
  },
  {
   "cell_type": "code",
   "execution_count": 8,
   "id": "47f53415-53ea-414f-b16f-2ac3379fa0a2",
   "metadata": {},
   "outputs": [
    {
     "name": "stdout",
     "output_type": "stream",
     "text": [
      "Aeiswariya panigrahi\n"
     ]
    }
   ],
   "source": [
    "name=\"aeiswariya panigrahi\"\n",
    "print(name.capitalize())"
   ]
  },
  {
   "cell_type": "code",
   "execution_count": null,
   "id": "54e3f449-e5ee-4013-9f1e-76e57beb6495",
   "metadata": {},
   "outputs": [],
   "source": []
  }
 ],
 "metadata": {
  "kernelspec": {
   "display_name": "Python 3 (ipykernel)",
   "language": "python",
   "name": "python3"
  },
  "language_info": {
   "codemirror_mode": {
    "name": "ipython",
    "version": 3
   },
   "file_extension": ".py",
   "mimetype": "text/x-python",
   "name": "python",
   "nbconvert_exporter": "python",
   "pygments_lexer": "ipython3",
   "version": "3.11.4"
  }
 },
 "nbformat": 4,
 "nbformat_minor": 5
}
