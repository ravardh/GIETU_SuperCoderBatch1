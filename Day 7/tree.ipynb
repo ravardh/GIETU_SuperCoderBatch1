{
 "cells": [
  {
   "cell_type": "code",
   "execution_count": 3,
   "metadata": {},
   "outputs": [],
   "source": [
    "class Node:\n",
    "  def __init__(self, data=None) -> None:\n",
    "    self.data = data\n",
    "    self.left = None\n",
    "    self.right = None\n",
    "\n",
    "root = Node(20)\n",
    "\n",
    "root.left = Node(32)\n",
    "root.left.left = Node(15)\n",
    "root.left.right = Node(12)\n",
    "root.left.left.left = Node(4)\n",
    "root.left.right.left = Node(50)\n",
    "root.left.right.right = Node(6)\n",
    "root.left.right.left.left = Node(40)\n",
    "root.left.right.left.right = Node(35)\n",
    "\n",
    "root.right = Node(10)\n",
    "root.right.left = Node(8)\n",
    "root.right.right = Node(24)\n",
    "root.right.right.left = Node(16)\n",
    "root.right.right.right = Node(2)\n"
   ]
  },
  {
   "cell_type": "code",
   "execution_count": 12,
   "metadata": {},
   "outputs": [
    {
     "name": "stdout",
     "output_type": "stream",
     "text": [
      "5\n"
     ]
    }
   ],
   "source": [
    "# HEIGHT/DEPTH\n",
    "def height(root):\n",
    "  if root == None:\n",
    "    return 0\n",
    "  if root.left == None and root.right == None:  # Child\n",
    "    return 1\n",
    "  return max(height(root.left), height(root.right))+1\n",
    "\n",
    "print(height(root))"
   ]
  },
  {
   "cell_type": "code",
   "execution_count": 15,
   "metadata": {},
   "outputs": [
    {
     "name": "stdout",
     "output_type": "stream",
     "text": [
      "4\n",
      "40\n",
      "35\n",
      "6\n",
      "8\n",
      "16\n",
      "2\n"
     ]
    }
   ],
   "source": [
    "# LEAF NODE\n",
    "def leaf_node(root):\n",
    "  if root==None:\n",
    "    return\n",
    "  if root.left == None and root.right == None:\n",
    "    print(root.data)\n",
    "  leaf_node(root.left)\n",
    "  leaf_node(root.right)\n",
    "\n",
    "leaf_node(root)"
   ]
  },
  {
   "cell_type": "code",
   "execution_count": 16,
   "metadata": {},
   "outputs": [],
   "source": [
    "class N0de:\n",
    "  def __init__(self, data=None) -> None:\n",
    "    self.data = data\n",
    "    self.left = None\n",
    "    self.right = None\n",
    "    self.key = 0\n",
    "\n",
    "r00t = N0de(20)\n",
    "\n",
    "r00t.left = N0de(32)\n",
    "r00t.left.left = N0de(15)\n",
    "r00t.left.right = N0de(12)\n",
    "r00t.left.left.left = N0de(4)\n",
    "r00t.left.right.left = N0de(50)\n",
    "r00t.left.right.right = N0de(6)\n",
    "r00t.left.right.left.left = N0de(40)\n",
    "r00t.left.right.left.right = N0de(35)\n",
    "\n",
    "r00t.right = N0de(10)\n",
    "r00t.right.left = N0de(8)\n",
    "r00t.right.right = N0de(24)\n",
    "r00t.right.right.left = N0de(16)\n",
    "r00t.right.right.right = N0de(2)"
   ]
  },
  {
   "cell_type": "code",
   "execution_count": 17,
   "metadata": {},
   "outputs": [
    {
     "name": "stdout",
     "output_type": "stream",
     "text": [
      "4 15 32 20 10 24 2 "
     ]
    }
   ],
   "source": [
    "# TopView\n",
    "def top_view(root):\n",
    "  q = [root]\n",
    "  tv = {}\n",
    "\n",
    "  while len(q)>0:\n",
    "    cur = q.pop(0)\n",
    "    key = cur.key\n",
    "    if key not in tv:\n",
    "      tv[key] = cur.data\n",
    "    if cur.left != None:\n",
    "      q.append(cur.left)\n",
    "      cur.left.key = key - 1\n",
    "    if cur.right != None:\n",
    "      q.append(cur.right)\n",
    "      cur.right.key = key + 1\n",
    "    \n",
    "  for x in sorted(tv.keys()):\n",
    "    print(tv[x], end=\" \")\n",
    "\n",
    "top_view(r00t)"
   ]
  },
  {
   "cell_type": "code",
   "execution_count": 18,
   "metadata": {},
   "outputs": [
    {
     "name": "stdout",
     "output_type": "stream",
     "text": [
      "4 40 50 35 16 24 2 "
     ]
    }
   ],
   "source": [
    "# Bottom View\n",
    "def bot_view(root):\n",
    "  q = [root]\n",
    "  tv = {}\n",
    "\n",
    "  while len(q)>0:\n",
    "    cur = q.pop(0)\n",
    "    key = cur.key\n",
    "    tv[key] = cur.data\n",
    "    if cur.left != None:\n",
    "      q.append(cur.left)\n",
    "      cur.left.key = key - 1\n",
    "    if cur.right != None:\n",
    "      q.append(cur.right)\n",
    "      cur.right.key = key + 1\n",
    "    \n",
    "  for x in sorted(tv.keys()):\n",
    "    print(tv[x], end=\" \")\n",
    "  \n",
    "bot_view(r00t)"
   ]
  }
 ],
 "metadata": {
  "kernelspec": {
   "display_name": "Python 3",
   "language": "python",
   "name": "python3"
  },
  "language_info": {
   "codemirror_mode": {
    "name": "ipython",
    "version": 3
   },
   "file_extension": ".py",
   "mimetype": "text/x-python",
   "name": "python",
   "nbconvert_exporter": "python",
   "pygments_lexer": "ipython3",
   "version": "3.9.13"
  }
 },
 "nbformat": 4,
 "nbformat_minor": 2
}
