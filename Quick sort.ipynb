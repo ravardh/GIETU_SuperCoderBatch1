{
 "cells": [
  {
   "cell_type": "code",
   "execution_count": 8,
   "id": "80df5a07-da01-432e-bc91-8a815f0a6f5a",
   "metadata": {},
   "outputs": [
    {
     "name": "stdout",
     "output_type": "stream",
     "text": [
      "[1, 2, 3, 4, 5, 6, 7, 8, 9]\n"
     ]
    }
   ],
   "source": [
    "#quicksort\n",
    "def partition(l,p,r):\n",
    "    i=p-1\n",
    "    x=l[r]\n",
    "    for j in range(p,r):\n",
    "        if(l[j]<=x):\n",
    "            i+=1\n",
    "            l[i],l[j]=l[j],l[i]\n",
    "    l[i+1],l[r]=l[r],l[i+1]\n",
    "    return i+1\n",
    "def quick_sort(l,p,r):\n",
    "    if(p<r):\n",
    "        q=partition(l,p,r)\n",
    "        quick_sort(l,p,q-1)\n",
    "        quick_sort(l,q+1,r)\n",
    "l=[4,8,7,1,9,2,3,6,5]\n",
    "length=len(l)\n",
    "quick_sort(l,0,length-1)\n",
    "print(l)"
   ]
  },
  {
   "cell_type": "code",
   "execution_count": null,
   "id": "ede618bb-55ac-4880-9554-fcbedb210358",
   "metadata": {},
   "outputs": [],
   "source": []
  }
 ],
 "metadata": {
  "kernelspec": {
   "display_name": "Python 3 (ipykernel)",
   "language": "python",
   "name": "python3"
  },
  "language_info": {
   "codemirror_mode": {
    "name": "ipython",
    "version": 3
   },
   "file_extension": ".py",
   "mimetype": "text/x-python",
   "name": "python",
   "nbconvert_exporter": "python",
   "pygments_lexer": "ipython3",
   "version": "3.10.0"
  }
 },
 "nbformat": 4,
 "nbformat_minor": 5
}
