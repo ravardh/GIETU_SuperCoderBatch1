{
 "cells": [
  {
   "cell_type": "code",
   "execution_count": 65,
   "id": "25ef5d06-e669-48ca-a21f-d6df06ecbbb7",
   "metadata": {},
   "outputs": [
    {
     "name": "stdout",
     "output_type": "stream",
     "text": [
      "[0, 0, 0, 0, 0, 0, 0, 0, 0, 0, 0, 0, 0, 0, 0, 0]\n",
      "[0, 0, 10, 10, 10, 10, 10, 10, 10, 10, 10, 10, 10, 10, 10, 10]\n",
      "[0, 0, 10, 10, 10, 15, 15, 15, 15, 15, 15, 15, 15, 15, 15, 15]\n",
      "[0, 0, 10, 10, 10, 15, 15, 25, 25, 25, 30, 30, 30, 30, 30, 30]\n",
      "[0, 0, 10, 10, 10, 15, 15, 25, 25, 25, 30, 30, 30, 30, 32, 32]\n",
      "[0, 3, 10, 13, 13, 15, 18, 25, 28, 28, 30, 33, 33, 33, 33, 35]\n",
      "[0, 6, 10, 16, 19, 19, 21, 25, 31, 34, 34, 36, 39, 39, 39, 39]\n",
      "[0, 6, 10, 16, 19, 24, 28, 34, 37, 37, 39, 43, 49, 52, 52, 54]\n",
      "Max Profit: 54\n"
     ]
    }
   ],
   "source": [
    "#KnapSack\n",
    "def knapSack(k,c):\n",
    "    l=[[] for _ in range(len(k)+1)]\n",
    "    for i in range(c+1):\n",
    "        l[0].append(0)\n",
    "    for i in range(1,len(k)+1):\n",
    "        l[i].append(0)\n",
    "    x=1\n",
    "    for i in range(len(k)):\n",
    "        for j in range(1,c+1):\n",
    "            if j>=k[i][1]:\n",
    "                l[x].append((max(l[x-1][j],l[x-1][j-k[i][1]]+k[i][0])))\n",
    "            else:\n",
    "                l[x].append(l[x-1][j])     \n",
    "        x+=1\n",
    "    for i in l:\n",
    "        print(i)\n",
    "    print(\"Max Profit:\",l[len(k)][c])\n",
    "if __name__ ==\"__main__\":\n",
    "    #[P,W]\n",
    "    P=[[10,2],[5,3],[15,5],[7,7],[3,1],[6,1],[18,4]]\n",
    "    c=15\n",
    "    knapSack(P,c)\n",
    "    "
   ]
  },
  {
   "cell_type": "code",
   "execution_count": null,
   "id": "d7153602-d24a-4fc7-8030-bd3dac308f47",
   "metadata": {},
   "outputs": [],
   "source": [
    "#dijastra\n"
   ]
  },
  {
   "cell_type": "code",
   "execution_count": null,
   "id": "6ed1c064-3f9c-4085-a5d8-ca7246b41606",
   "metadata": {},
   "outputs": [],
   "source": []
  }
 ],
 "metadata": {
  "kernelspec": {
   "display_name": "Python 3 (ipykernel)",
   "language": "python",
   "name": "python3"
  },
  "language_info": {
   "codemirror_mode": {
    "name": "ipython",
    "version": 3
   },
   "file_extension": ".py",
   "mimetype": "text/x-python",
   "name": "python",
   "nbconvert_exporter": "python",
   "pygments_lexer": "ipython3",
   "version": "3.12.1"
  }
 },
 "nbformat": 4,
 "nbformat_minor": 5
}
