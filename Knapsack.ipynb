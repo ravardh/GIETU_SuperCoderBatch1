{
 "cells": [
  {
   "cell_type": "code",
   "execution_count": 6,
   "id": "67fe7f72-29a1-4de9-bcd3-a32f97e239d6",
   "metadata": {},
   "outputs": [
    {
     "name": "stdout",
     "output_type": "stream",
     "text": [
      "[[0, 0, 0, 0, 0, 0, 0, 0, 0, 0, 0, 0, 0, 0, 0, 0], [0, 0, 10, 10, 10, 10, 10, 10, 10, 10, 10, 10, 10, 10, 10, 10], [0, 0, 10, 10, 10, 15, 15, 15, 15, 15, 15, 15, 15, 15, 15, 15], [0, 0, 10, 10, 10, 15, 15, 25, 25, 25, 30, 30, 30, 30, 30, 30], [0, 0, 10, 10, 10, 15, 15, 25, 25, 25, 30, 30, 30, 30, 32, 32], [0, 6, 10, 16, 16, 16, 21, 25, 31, 31, 31, 36, 36, 36, 36, 38], [0, 6, 10, 16, 18, 24, 28, 34, 34, 34, 39, 43, 49, 49, 49, 54], [0, 6, 10, 16, 19, 24, 28, 34, 37, 37, 39, 43, 49, 52, 52, 54]]\n"
     ]
    }
   ],
   "source": [
    "#KnapSack\n",
    "def knapSack(k,c):\n",
    "    l=[[] for _ in range(len(k)+1)]\n",
    "    for i in range(c+1):\n",
    "        l[0].append(0)\n",
    "    for i in range(1,len(k)+1):\n",
    "        l[i].append(0)\n",
    "    x=1\n",
    "    for i in range(len(k)):\n",
    "        for j in range(1,c+1):\n",
    "            if j>=k[i][1]:\n",
    "                l[x].append((max(l[x-1][j],l[x-1][j-k[i][1]]+k[i][0])))\n",
    "            else:\n",
    "                l[x].append(l[x-1][j])     \n",
    "        x+=1\n",
    "    print(l)\n",
    "if __name__==\"__main__\":\n",
    "    P=[[10,2],[5,3],[15,5],[7,7],[6,1],[18,4],[3,1]]\n",
    "    c=15\n",
    "    knapSack(P,c)"
   ]
  },
  {
   "cell_type": "code",
   "execution_count": null,
   "id": "75f1dfff-a1d7-4a52-ada6-f0825b7e6414",
   "metadata": {},
   "outputs": [],
   "source": []
  }
 ],
 "metadata": {
  "kernelspec": {
   "display_name": "Python 3 (ipykernel)",
   "language": "python",
   "name": "python3"
  },
  "language_info": {
   "codemirror_mode": {
    "name": "ipython",
    "version": 3
   },
   "file_extension": ".py",
   "mimetype": "text/x-python",
   "name": "python",
   "nbconvert_exporter": "python",
   "pygments_lexer": "ipython3",
   "version": "3.10.0"
  }
 },
 "nbformat": 4,
 "nbformat_minor": 5
}
