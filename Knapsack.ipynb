{
  "nbformat": 4,
  "nbformat_minor": 0,
  "metadata": {
    "colab": {
      "provenance": [],
      "authorship_tag": "ABX9TyOzMBXJGuhXWGHtejTYUj3G",
      "include_colab_link": true
    },
    "kernelspec": {
      "name": "python3",
      "display_name": "Python 3"
    },
    "language_info": {
      "name": "python"
    }
  },
  "cells": [
    {
      "cell_type": "markdown",
      "metadata": {
        "id": "view-in-github",
        "colab_type": "text"
      },
      "source": [
        "<a href=\"https://colab.research.google.com/github/ravardh/GIETU_SuperCoderBatch1/blob/Mousumi_21cseaiml026/Knapsack.ipynb\" target=\"_parent\"><img src=\"https://colab.research.google.com/assets/colab-badge.svg\" alt=\"Open In Colab\"/></a>"
      ]
    },
    {
      "cell_type": "code",
      "source": [
        "def knapSack(c,wt,p,n):\n",
        "    M=[]\n",
        "    for i in range(n+1):\n",
        "        row=[]\n",
        "        for w in range(c+1):\n",
        "            row.append(0)\n",
        "        M.append(row)\n",
        "\n",
        "    for i in range(n+1):\n",
        "        for j in range(c+1):\n",
        "            if i==0 or j==0:\n",
        "                M[i][j]=0\n",
        "            elif wt[i-1]<=j:\n",
        "                M[i][j]=max(p[i-1]+M[i-1][j-wt[i-1]],M[i-1][j])\n",
        "            else:\n",
        "                M[i][j]=M[i-1][j]\n",
        "\n",
        "    return M[n][c]\n",
        "\n",
        "profit=[10,5,15,7,6,18,3]\n",
        "weight=[2,3,5,7,1,4,7]\n",
        "c=15\n",
        "n=len(profit)\n",
        "print(knapSack(c,weight,profit,n))\n"
      ],
      "metadata": {
        "colab": {
          "base_uri": "https://localhost:8080/"
        },
        "id": "adPcqs1DgF7_",
        "outputId": "b46692a2-85a3-427b-a8ee-498dedc4a7b9"
      },
      "execution_count": 3,
      "outputs": [
        {
          "output_type": "stream",
          "name": "stdout",
          "text": [
            "54\n"
          ]
        }
      ]
    },
    {
      "cell_type": "code",
      "source": [],
      "metadata": {
        "id": "I6anjnmbgwvt"
      },
      "execution_count": null,
      "outputs": []
    }
  ]
}