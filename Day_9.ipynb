{
 "cells": [
  {
   "cell_type": "code",
   "execution_count": 1,
   "id": "f68c9a2c-224c-454c-806e-46abf2ecae0f",
   "metadata": {},
   "outputs": [
    {
     "name": "stdout",
     "output_type": "stream",
     "text": [
      "9\n",
      "7\n",
      "6\n",
      "5\n",
      "17\n"
     ]
    }
   ],
   "source": [
    "#Left view \n",
    "class node:\n",
    "    def __init__(self, key):\n",
    "        self.data = key\n",
    "        self.left = None\n",
    "        self.right = None\n",
    "\n",
    "def leftViewRec(root, level, ml):\n",
    "    if root is None:\n",
    "        return\n",
    "\n",
    "    if (ml[0] < level):\n",
    "        print(root.data)\n",
    "        ml[0] = level\n",
    "\n",
    "    leftViewRec(root.left, level+1, ml)\n",
    "    leftViewRec(root.right, level+1, ml)\n",
    "\n",
    "def leftView(root):\n",
    "    ml = [0]\n",
    "    leftViewRec(root, 1, ml)\n",
    "\n",
    "root = node(9)\n",
    "\n",
    "root.left = node(7)\n",
    "root.right = node(1)\n",
    "\n",
    "root.left.left = node(6)\n",
    "root.left.right = node(4)\n",
    "root.right.left = node(3)\n",
    "root.right.right = node(2)\n",
    "\n",
    "root.left.left.right = node(5)\n",
    "root.right.left.left = node(11)\n",
    "root.right.left.right = node(12)\n",
    "\n",
    "root.right.left.right.right = node(17)\n",
    "\n",
    "leftView(root)"
   ]
  },
  {
   "cell_type": "code",
   "execution_count": 2,
   "id": "af60f2d0-7fb3-4f1d-910d-61347e99acb3",
   "metadata": {},
   "outputs": [
    {
     "name": "stdout",
     "output_type": "stream",
     "text": [
      "9\n",
      "1\n",
      "2\n",
      "12\n",
      "17\n"
     ]
    }
   ],
   "source": [
    "#Right view\n",
    "class node:\n",
    "    def __init__(self, key):\n",
    "        self.data = key\n",
    "        self.left = None\n",
    "        self.right = None\n",
    "\n",
    "def rightViewRec(root, level, ml):\n",
    "    if root is None:\n",
    "        return\n",
    "\n",
    "    if (ml[0] < level):\n",
    "        print(root.data)\n",
    "        ml[0] = level\n",
    "\n",
    "    rightViewRec(root.right, level + 1, ml)\n",
    "    rightViewRec(root.left, level + 1, ml)\n",
    "\n",
    "def rightView(root):\n",
    "    ml = [0]\n",
    "    rightViewRec(root, 1, ml)\n",
    "\n",
    "root = node(9)\n",
    "\n",
    "root.left = node(7)\n",
    "root.right = node(1)\n",
    "\n",
    "root.left.left = node(6)\n",
    "root.left.right = node(4)\n",
    "root.right.left = node(3)\n",
    "root.right.right = node(2)\n",
    "\n",
    "root.left.left.right = node(5)\n",
    "root.right.left.left = node(11)\n",
    "root.right.left.right = node(12)\n",
    "\n",
    "root.right.left.right.right = node(17)\n",
    "\n",
    "rightView(root)"
   ]
  },
  {
   "cell_type": "code",
   "execution_count": 3,
   "id": "ff5aff5c-49df-42e9-a1a0-162e5d3dd688",
   "metadata": {},
   "outputs": [
    {
     "name": "stdout",
     "output_type": "stream",
     "text": [
      "2\n",
      "3\n",
      "5\n",
      "7\n",
      "8\n",
      "9\n",
      "10\n",
      "12\n",
      "14\n",
      "15\n",
      "17\n"
     ]
    }
   ],
   "source": [
    "class node:\n",
    "    def __init__(self, key):\n",
    "        self.left = None\n",
    "        self.right = None\n",
    "        self.data = key\n",
    "\n",
    "\n",
    "def insert(root, key):\n",
    "    if root is None:\n",
    "        return node(key)\n",
    "    else:\n",
    "        if root.data < key:\n",
    "            root.right = insert(root.right, key)\n",
    "        else:\n",
    "            root.left = insert(root.left, key)\n",
    "    return root\n",
    "    \n",
    "def inOrder(root):\n",
    "    if root:\n",
    "        inOrder(root.left)\n",
    "        print(root.data)\n",
    "        inOrder(root.right)\n",
    "        \n",
    "def binarySearchTree(arr):\n",
    "    r = node(arr[0])\n",
    "    for i in arr[1:]:\n",
    "        r = insert(r, i)\n",
    "    return r\n",
    "    \n",
    "arr = [10, 14, 17, 9, 5, 15, 12, 7, 8, 2, 3]\n",
    "root = binarySearchTree(arr)\n",
    "inOrder(root)"
   ]
  },
  {
   "cell_type": "code",
   "execution_count": null,
   "id": "6b331180-2651-4dc0-ac69-b33eb6389b3c",
   "metadata": {},
   "outputs": [],
   "source": []
  }
 ],
 "metadata": {
  "kernelspec": {
   "display_name": "Python 3 (ipykernel)",
   "language": "python",
   "name": "python3"
  },
  "language_info": {
   "codemirror_mode": {
    "name": "ipython",
    "version": 3
   },
   "file_extension": ".py",
   "mimetype": "text/x-python",
   "name": "python",
   "nbconvert_exporter": "python",
   "pygments_lexer": "ipython3",
   "version": "3.11.5"
  }
 },
 "nbformat": 4,
 "nbformat_minor": 5
}
