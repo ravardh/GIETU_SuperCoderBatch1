{
 "cells": [
  {
   "cell_type": "code",
   "execution_count": 2,
   "id": "a0151f79",
   "metadata": {},
   "outputs": [
    {
     "name": "stdout",
     "output_type": "stream",
     "text": [
      "BFS Traversal starting from vertex 1:\n",
      "1 2 3 4 8 5 6 9 7 "
     ]
    }
   ],
   "source": [
    "class Graph:\n",
    "    def __init__(self, num_vertices):\n",
    "        self.graph = [[] for _ in range(num_vertices)]\n",
    "\n",
    "    def add_edge(self, u, v):\n",
    "        self.graph[u].append(v)\n",
    "\n",
    "    def bfs(self, start):\n",
    "        num_vertices = len(self.graph)\n",
    "        visited = [False] * num_vertices\n",
    "        queue = [start]\n",
    "\n",
    "        while queue:\n",
    "            vertex = queue.pop(0)\n",
    "\n",
    "            if not visited[vertex]:\n",
    "                print(vertex, end=\" \")\n",
    "                visited[vertex] = True\n",
    "\n",
    "                queue.extend(neighbor for neighbor in self.graph[vertex] if not visited[neighbor])\n",
    "\n",
    "g = Graph(10)\n",
    "g.add_edge(1, 2)\n",
    "g.add_edge(2, 4)\n",
    "g.add_edge(4, 5)\n",
    "g.add_edge(4, 6)\n",
    "g.add_edge(6, 7)\n",
    "g.add_edge(7, 8)\n",
    "g.add_edge(8, 9)\n",
    "g.add_edge(9, 1)\n",
    "g.add_edge(1, 3)\n",
    "g.add_edge(3, 8)\n",
    "\n",
    "print(\"BFS Traversal starting from vertex 1:\")\n",
    "g.bfs(1)\n"
   ]
  },
  {
   "cell_type": "code",
   "execution_count": null,
   "id": "38d3ce79",
   "metadata": {},
   "outputs": [],
   "source": []
  }
 ],
 "metadata": {
  "kernelspec": {
   "display_name": "Python 3 (ipykernel)",
   "language": "python",
   "name": "python3"
  },
  "language_info": {
   "codemirror_mode": {
    "name": "ipython",
    "version": 3
   },
   "file_extension": ".py",
   "mimetype": "text/x-python",
   "name": "python",
   "nbconvert_exporter": "python",
   "pygments_lexer": "ipython3",
   "version": "3.11.3"
  }
 },
 "nbformat": 4,
 "nbformat_minor": 5
}
