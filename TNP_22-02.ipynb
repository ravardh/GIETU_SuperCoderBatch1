{
 "cells": [
  {
   "cell_type": "code",
   "execution_count": 16,
   "id": "07cf38df-bf17-4b67-8755-60b23d7d09a4",
   "metadata": {},
   "outputs": [
    {
     "name": "stdout",
     "output_type": "stream",
     "text": [
      "[1, 2, 3.06, 4, 5, 'abdul', 21]\n",
      "7\n",
      "<class 'list'>\n",
      "[1, 2, 3.06, 4, 5, 'abdul', 21, 'salam']\n"
     ]
    }
   ],
   "source": [
    "#list\n",
    "list=[1,2,3.06,4,5,\"abdul\",21]\n",
    "print(list)\n",
    "a=len(list)\n",
    "print(a)\n",
    "print(type(list))\n",
    "list.append(\"salam\")\n",
    "print(list)\n",
    "\n",
    "\n",
    "\n",
    "\n"
   ]
  },
  {
   "cell_type": "code",
   "execution_count": 1,
   "id": "ee5dddc6-8c2d-4893-98ad-d4762d15e3af",
   "metadata": {},
   "outputs": [
    {
     "name": "stdout",
     "output_type": "stream",
     "text": [
      "Before updating:\n",
      "{439: 'Abdul', 2: 'hrushi'}\n",
      "After adding a new key-value pair:\n",
      "{439: 'Abdul', 2: 'hrushi', 3: 'Ahuti'}\n",
      "After updating value:\n",
      "{439: 'Abdul', 2: 'hrushikesh sahu', 3: 'Ahuti'}\n"
     ]
    }
   ],
   "source": [
    "# Dictionary\n",
    "# Key and value pairs\n",
    "my_dict = {439: \"Abdul\", 2: \"hrushi\"}\n",
    "\n",
    "print(\"Before updating:\")\n",
    "print(my_dict)\n",
    "\n",
    "# Add a new element\n",
    "my_dict.update({3: \"Ahuti\"})\n",
    "\n",
    "print(\"After adding a new key-value pair:\")\n",
    "print(my_dict)\n",
    "\n",
    "# Update the value of a key\n",
    "my_dict.update({2: \"hrushikesh sahu\"})\n",
    "\n",
    "print(\"After updating value:\")\n",
    "print(my_dict)\n"
   ]
  },
  {
   "cell_type": "code",
   "execution_count": 3,
   "id": "ea709036-a0fd-4f98-907a-c72ae068d073",
   "metadata": {},
   "outputs": [
    {
     "name": "stdout",
     "output_type": "stream",
     "text": [
      "Keys: dict_keys([439, 2, 3])\n",
      "Values: dict_values(['Abdul', 'hrushi', 'Ahuti'])\n"
     ]
    },
    {
     "name": "stdin",
     "output_type": "stream",
     "text": [
      "Enter any key: 11\n"
     ]
    },
    {
     "name": "stdout",
     "output_type": "stream",
     "text": [
      "key is not presnt\n"
     ]
    }
   ],
   "source": [
    "d = {439: 'Abdul', 2: 'hrushi', 3: 'Ahuti'}\n",
    "\n",
    "# Get the keys of the dictionary\n",
    "b = d.keys()\n",
    "print(\"Keys:\", b)\n",
    "\n",
    "# Get the values of the dictionary\n",
    "c = d.values()\n",
    "print(\"Values:\", c)\n",
    "\n",
    "# Take input from the user\n",
    "s = int(input(\"Enter any key:\"))\n",
    "try:\n",
    "    print(d[s])\n",
    "except KeyError:\n",
    "    print(\"key is not presnt\")"
   ]
  },
  {
   "cell_type": "code",
   "execution_count": 2,
   "id": "e84fe732-638e-4be8-8c09-59100363a147",
   "metadata": {},
   "outputs": [
    {
     "name": "stdout",
     "output_type": "stream",
     "text": [
      "Keys: dict_keys([439, 2, 3])\n",
      "Values: dict_values(['Abdul', 'hrushi', 'Ahuti'])\n"
     ]
    },
    {
     "name": "stdin",
     "output_type": "stream",
     "text": [
      "Enter any key: 323\n"
     ]
    },
    {
     "name": "stdout",
     "output_type": "stream",
     "text": [
      "key not found\n"
     ]
    }
   ],
   "source": [
    "d = {439: 'Abdul', 2: 'hrushi', 3: 'Ahuti'}\n",
    "b = d.keys()\n",
    "print(\"Keys:\", b)\n",
    "c = d.values()\n",
    "print(\"Values:\", c)\n",
    "#using if-else\n",
    "\n",
    "s = int(input(\"Enter any key:\"))\n",
    "if s in d:\n",
    "    print(\"key is there and its value is\")\n",
    "else:\n",
    "    print(\"key not found\")"
   ]
  },
  {
   "cell_type": "code",
   "execution_count": 3,
   "id": "a19b9b38-a8df-466b-b8a7-7cb6c18db83e",
   "metadata": {},
   "outputs": [
    {
     "name": "stdout",
     "output_type": "stream",
     "text": [
      "2024-02-22 09:48:31.949122\n"
     ]
    }
   ],
   "source": [
    "import datetime\n",
    "x=datetime.datetime.now()\n",
    "print(x)"
   ]
  },
  {
   "cell_type": "code",
   "execution_count": 2,
   "id": "36a21c75-0e89-4683-acfb-5696897dcc89",
   "metadata": {},
   "outputs": [
    {
     "name": "stdin",
     "output_type": "stream",
     "text": [
      "enter the key: 454\n"
     ]
    },
    {
     "name": "stdout",
     "output_type": "stream",
     "text": [
      "key not found\n",
      "code executed\n"
     ]
    }
   ],
   "source": [
    "\n",
    "d = {1: 'Abdul', 2: 'hrushi', 3: 'Ahuti'}\n",
    "s=int(input(\"enter the key:\"))\n",
    "try:\n",
    "    print(d[s])\n",
    "except:\n",
    "      print(\"key not found\")\n",
    "finally:\n",
    "    print(\"code executed\")\n",
    "\n",
    "\n",
    "\n",
    "\n",
    "\n",
    "\n"
   ]
  },
  {
   "cell_type": "code",
   "execution_count": 6,
   "id": "cb747f3f-e1f0-4c7d-b2eb-8757f79c4e63",
   "metadata": {},
   "outputs": [
    {
     "name": "stdout",
     "output_type": "stream",
     "text": [
      "The array after sorting in Ascending Order by selection sort is:\n",
      "[-783, -398, -92, -2, 0, 43, 45, 121, 439, 481, 1433]\n"
     ]
    }
   ],
   "source": [
    "#selection sort\n",
    "\n",
    "def selectionSort(array, size):\n",
    "\t\n",
    "\tfor ind in range(size):\n",
    "\t\tmin_index = ind\n",
    "\n",
    "\t\tfor j in range(ind + 1, size):\n",
    "\t\t\t\n",
    "\t\t\tif array[j] < array[min_index]:\n",
    "\t\t\t\tmin_index = j\n",
    "\t\t\n",
    "\t\t(array[ind], array[min_index]) = (array[min_index], array[ind])\n",
    "\n",
    "arr = [-2, 45, 0, 43,1433,-398,121,-92,439,481,-783]\n",
    "size = len(arr)\n",
    "selectionSort(arr, size)\n",
    "print('The array after sorting in Ascending Order by selection sort is:')\n",
    "print(arr)\n"
   ]
  },
  {
   "cell_type": "code",
   "execution_count": 5,
   "id": "2d322810-c9d6-4a3d-8d6d-36b95c505ce3",
   "metadata": {},
   "outputs": [
    {
     "name": "stdout",
     "output_type": "stream",
     "text": [
      "[-13, 0, 2, 6, 12, 13, 38, 45, 91]\n"
     ]
    }
   ],
   "source": [
    "#insertion sort\n",
    "def insertionSort(arr):\n",
    "\tn = len(arr) # Get the length of the array\n",
    "\t\n",
    "\tif n <= 1:\n",
    "\t\treturn \n",
    "\tfor i in range(1, n): \n",
    "\t\tkey = arr[i] \n",
    "\t\tj = i-1\n",
    "\t\twhile j >= 0 and key < arr[j]:\n",
    "\t\t\tarr[j+1] = arr[j] \n",
    "\t\t\tj -= 1\n",
    "\t\tarr[j+1] = key \n",
    "\n",
    "# Sorting the array [12, 11, 13, 5, 6] \n",
    "arr = [12, -13,0,38,91, 13, 45,2, 6]\n",
    "insertionSort(arr)\n",
    "print(arr)\n"
   ]
  },
  {
   "cell_type": "code",
   "execution_count": 8,
   "id": "cd465daf-34b4-4476-a5d2-74692d9ced51",
   "metadata": {},
   "outputs": [
    {
     "name": "stdout",
     "output_type": "stream",
     "text": [
      "Sorted array is:\n",
      "-12 -1  0  8  11  22  25  34  64  90 "
     ]
    }
   ],
   "source": [
    "#bubble sort\n",
    "\n",
    "def bubbleSort(arr):\n",
    "\tn = len(arr)\n",
    "\tswapped = False\n",
    "\t# Traverse thrrough the array\n",
    "\tfor i in range(n-1):\n",
    "\t\n",
    "\t\tfor j in range(0, n-i-1):\n",
    "\t\t\tif arr[j] > arr[j + 1]:\n",
    "\t\t\t\tswapped = True\n",
    "\t\t\t\tarr[j], arr[j + 1] = arr[j + 1], arr[j]\n",
    "\t\t\n",
    "\t\tif not swapped:\n",
    "\t\t\treturn\n",
    "\n",
    "arr = [64, 34, 25, 8,0,-1,-12, 22, 11, 90]\n",
    "\n",
    "bubbleSort(arr)\n",
    "\n",
    "print(\"Sorted array is:\")\n",
    "for i in range(len(arr)):\n",
    "\tprint(\"% d\" % arr[i], end=\" \")\n"
   ]
  },
  {
   "cell_type": "code",
   "execution_count": null,
   "id": "620fd3c1-7a3f-4a1d-a9b9-e67d31f6cd18",
   "metadata": {},
   "outputs": [],
   "source": []
  }
 ],
 "metadata": {
  "kernelspec": {
   "display_name": "Python 3 (ipykernel)",
   "language": "python",
   "name": "python3"
  },
  "language_info": {
   "codemirror_mode": {
    "name": "ipython",
    "version": 3
   },
   "file_extension": ".py",
   "mimetype": "text/x-python",
   "name": "python",
   "nbconvert_exporter": "python",
   "pygments_lexer": "ipython3",
   "version": "3.10.4"
  }
 },
 "nbformat": 4,
 "nbformat_minor": 5
}
