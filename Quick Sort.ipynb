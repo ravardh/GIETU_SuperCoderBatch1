{
 "cells": [
  {
   "cell_type": "code",
   "execution_count": 1,
   "id": "197eeba7",
   "metadata": {},
   "outputs": [
    {
     "name": "stdout",
     "output_type": "stream",
     "text": [
      "[1, 2, 3, 4, 5, 6, 7, 8, 9]\n"
     ]
    }
   ],
   "source": [
    "def find(ar,S,E):\n",
    "    P=ar[E]\n",
    "    j=S-1\n",
    "    for i in range(S,E):\n",
    "        if(ar[i]<P):\n",
    "            j=j+1\n",
    "            ar[i],ar[j]=ar[j],ar[i]\n",
    "    j+=1        \n",
    "    ar[j],ar[E]=ar[E],ar[j] \n",
    "    return j\n",
    "\n",
    "def quickSort(ar,S,E):\n",
    "    if S<E:\n",
    "        pi=find(ar,S,E)\n",
    "        quickSort(ar,S,pi-1)\n",
    "        quickSort(ar,pi+1,E)\n",
    "\n",
    "if __name__ == '__main__':\n",
    "    ar=[4,8,2,3,7,5,1,9,6]\n",
    "    quickSort(ar,0,len(ar)-1)\n",
    "    print(ar)"
   ]
  },
  {
   "cell_type": "code",
   "execution_count": null,
   "id": "0a9ff831",
   "metadata": {},
   "outputs": [],
   "source": []
  },
  {
   "cell_type": "code",
   "execution_count": null,
   "id": "a6a12e62",
   "metadata": {},
   "outputs": [],
   "source": []
  }
 ],
 "metadata": {
  "kernelspec": {
   "display_name": "Python 3 (ipykernel)",
   "language": "python",
   "name": "python3"
  },
  "language_info": {
   "codemirror_mode": {
    "name": "ipython",
    "version": 3
   },
   "file_extension": ".py",
   "mimetype": "text/x-python",
   "name": "python",
   "nbconvert_exporter": "python",
   "pygments_lexer": "ipython3",
   "version": "3.11.5"
  }
 },
 "nbformat": 4,
 "nbformat_minor": 5
}
