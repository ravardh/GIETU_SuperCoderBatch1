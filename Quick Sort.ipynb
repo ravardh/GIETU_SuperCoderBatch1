{
 "cells": [
  {
   "cell_type": "code",
   "execution_count": 12,
   "id": "81c7f6fe",
   "metadata": {},
   "outputs": [
    {
     "data": {
      "text/plain": [
       "[1, 2, 3, 4, 5, 6, 7, 8, 9]"
      ]
     },
     "execution_count": 12,
     "metadata": {},
     "output_type": "execute_result"
    }
   ],
   "source": [
    "#Quick sort\n",
    "def partition(l,p,r):\n",
    "    i=p-1\n",
    "    x=l[r]\n",
    "    for j in range(p,r):\n",
    "        if(l[j]<=x):\n",
    "            i+=1\n",
    "            l[i],l[j]=l[j],l[i]\n",
    "    l[i+1],l[r]=l[r],l[i+1]\n",
    "    return i+1\n",
    "def quick_sort(l,p,r):\n",
    "    if(p<r):\n",
    "        q=partition(l,p,r)\n",
    "        quick_sort(l,p,q-1)\n",
    "        quick_sort(l,q+1,r)\n",
    "l=[4,8,7,1,9,2,3,6,5]\n",
    "length=len(l)\n",
    "quick_sort(l,0,length-1)\n",
    "l"
   ]
  },
  {
   "cell_type": "code",
   "execution_count": null,
   "id": "474f4c35",
   "metadata": {},
   "outputs": [],
   "source": []
  }
 ],
 "metadata": {
  "kernelspec": {
   "display_name": "Python 3 (ipykernel)",
   "language": "python",
   "name": "python3"
  },
  "language_info": {
   "codemirror_mode": {
    "name": "ipython",
    "version": 3
   },
   "file_extension": ".py",
   "mimetype": "text/x-python",
   "name": "python",
   "nbconvert_exporter": "python",
   "pygments_lexer": "ipython3",
   "version": "3.11.1"
  }
 },
 "nbformat": 4,
 "nbformat_minor": 5
}
