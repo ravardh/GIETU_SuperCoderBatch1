{
 "cells": [
  {
   "cell_type": "code",
   "execution_count": 3,
   "id": "f3c73892",
   "metadata": {},
   "outputs": [
    {
     "name": "stdout",
     "output_type": "stream",
     "text": [
      "[15, 8, 0, 7, 14, 4, 6, 7, 2]\n"
     ]
    }
   ],
   "source": [
    "def dijkstra(graph,list,distance,s):\n",
    "    distance[s] = 0\n",
    "    while len(distance)!=0:\n",
    "        min_val = min(distance.values())\n",
    "        keys = [i for i in distance if distance[i]==min_val]\n",
    "        key = keys[0]\n",
    "        distance.pop(key)\n",
    "        list[key-1]=min_val\n",
    "        for  i in range(len(graph[key-1])):\n",
    "            x = graph[key-1][i][1]\n",
    "            d = graph[key-1][i][2]\n",
    "            if x in distance.keys():\n",
    "                if distance[x]>min_val+d:\n",
    "                    distance[x]=min_val+d\n",
    "        \n",
    "        \n",
    "def create_graph(graph,source,destination,weight):\n",
    "    graph[source-1].append((source,destination,weight))   \n",
    "    \n",
    "v = 9\n",
    "graph = [[] for _ in range(v)]\n",
    "for i in range(v):\n",
    "    graph[i] = [ ]\n",
    "\n",
    "create_graph(graph,1,2,4)\n",
    "create_graph(graph,1,8,8)\n",
    "create_graph(graph,2,3,8)\n",
    "create_graph(graph,2,8,11)\n",
    "create_graph(graph,3,2,8)\n",
    "create_graph(graph,3,9,2)\n",
    "create_graph(graph,3,4,7)\n",
    "create_graph(graph,3,6,4)\n",
    "create_graph(graph,4,3,7)\n",
    "create_graph(graph,4,5,9)\n",
    "create_graph(graph,4,6,14)\n",
    "create_graph(graph,5,6,10)\n",
    "create_graph(graph,5,4,9)\n",
    "create_graph(graph,6,3,4)\n",
    "create_graph(graph,6,4,14)\n",
    "create_graph(graph,6,5,10)\n",
    "create_graph(graph,6,7,2)\n",
    "create_graph(graph,7,6,2)\n",
    "create_graph(graph,7,8,1)\n",
    "create_graph(graph,7,9,6)\n",
    "create_graph(graph,8,1,8)\n",
    "create_graph(graph,8,2,11)\n",
    "create_graph(graph,8,7,1)\n",
    "create_graph(graph,8,9,7)\n",
    "create_graph(graph,9,3,2)\n",
    "create_graph(graph,9,7,6)\n",
    "create_graph(graph,9,8,7)\n",
    "\n",
    "\n",
    "list = [0 for _ in range(v)]\n",
    "distance = {}\n",
    "for i in range(1,v+1):\n",
    "    distance[i]=float('inf')\n",
    "\n",
    "dijkstra(graph,list,distance,3)\n",
    "\n",
    "print(list)"
   ]
  }
 ],
 "metadata": {
  "kernelspec": {
   "display_name": "Python 3 (ipykernel)",
   "language": "python",
   "name": "python3"
  },
  "language_info": {
   "codemirror_mode": {
    "name": "ipython",
    "version": 3
   },
   "file_extension": ".py",
   "mimetype": "text/x-python",
   "name": "python",
   "nbconvert_exporter": "python",
   "pygments_lexer": "ipython3",
   "version": "3.11.3"
  }
 },
 "nbformat": 4,
 "nbformat_minor": 5
}
