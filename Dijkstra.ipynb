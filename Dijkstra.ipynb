{
 "cells": [
  {
   "cell_type": "code",
   "execution_count": 1,
   "id": "cba2e542-3620-4a3e-8f65-1b6196d81f42",
   "metadata": {},
   "outputs": [
    {
     "name": "stdout",
     "output_type": "stream",
     "text": [
      "[12, 8, 0, 7, 14, 4, 6, 7, 2]\n",
      "3 -> 1 12\n",
      "3 -> 2 8\n",
      "3 -> 3 0\n",
      "3 -> 4 7\n",
      "3 -> 5 14\n",
      "3 -> 6 4\n",
      "3 -> 7 6\n",
      "3 -> 8 7\n",
      "3 -> 9 2\n"
     ]
    }
   ],
   "source": [
    "#dijkstra\n",
    "class Graph:\n",
    "    def __init__(self,v=None):\n",
    "        self.v=v\n",
    "        self.graph=[[] for _ in range(v)]\n",
    "    def add_edge(self,u,v,W):\n",
    "        self.graph[u-1].append([v,W])\n",
    "        self.graph[v-1].append([u,W])\n",
    "        \n",
    "def dijkstra(s,graph):\n",
    "    Dic={}\n",
    "    for i in range(1,len(graph)+1):\n",
    "        Dic[i]=float('inf')\n",
    "    Dic[s]=0\n",
    "    l=[[] for _ in range(len(graph))]\n",
    "    \n",
    "    while(len(Dic)>0):\n",
    "        min=float('inf')\n",
    "        k=0\n",
    "        for i in Dic:\n",
    "            if(min>Dic[i]):\n",
    "                min=Dic[i]\n",
    "                k=i\n",
    "        for i in range(len(graph[k-1])):\n",
    "            if(graph[k-1][i][0] in Dic):\n",
    "                if(Dic[graph[k-1][i][0]]>graph[k-1][i][1]+min):\n",
    "                    Dic[graph[k-1][i][0]]=graph[k-1][i][1]+min\n",
    "        Dic.pop(k)\n",
    "        l[k-1]=min\n",
    "    print(l)\n",
    "    for i in range(len(l)):\n",
    "        print(s,\"->\",i+1,l[i])\n",
    "if __name__==\"__main__\":\n",
    "    g=Graph(9)\n",
    "    g.add_edge(1,2,4)\n",
    "    g.add_edge(1,8,8)\n",
    "    g.add_edge(2,3,8)\n",
    "    g.add_edge(2,8,11)\n",
    "    g.add_edge(3,4,7)\n",
    "    g.add_edge(3,6,4)\n",
    "    g.add_edge(3,9,2)\n",
    "    g.add_edge(4,5,9)\n",
    "    g.add_edge(4,6,14)\n",
    "    g.add_edge(5,6,10)\n",
    "    g.add_edge(6,7,2)\n",
    "    g.add_edge(7,9,6)\n",
    "    g.add_edge(8,9,7)\n",
    "    g.add_edge(8,7,1)\n",
    "    s=3\n",
    "    dijkstra(s,g.graph)"
   ]
  },
  {
   "cell_type": "code",
   "execution_count": null,
   "id": "0556a6bc-1459-4459-95ae-4508d48c5258",
   "metadata": {},
   "outputs": [],
   "source": []
  }
 ],
 "metadata": {
  "kernelspec": {
   "display_name": "Python 3 (ipykernel)",
   "language": "python",
   "name": "python3"
  },
  "language_info": {
   "codemirror_mode": {
    "name": "ipython",
    "version": 3
   },
   "file_extension": ".py",
   "mimetype": "text/x-python",
   "name": "python",
   "nbconvert_exporter": "python",
   "pygments_lexer": "ipython3",
   "version": "3.10.0"
  }
 },
 "nbformat": 4,
 "nbformat_minor": 5
}
