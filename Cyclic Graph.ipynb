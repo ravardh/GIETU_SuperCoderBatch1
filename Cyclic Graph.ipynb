{
 "cells": [
  {
   "cell_type": "markdown",
   "id": "004306bb",
   "metadata": {},
   "source": [
    "# Checking whether the graph is cyclic or not"
   ]
  },
  {
   "cell_type": "code",
   "execution_count": 1,
   "id": "ffa0e9a5",
   "metadata": {},
   "outputs": [
    {
     "name": "stdout",
     "output_type": "stream",
     "text": [
      "Enter the no. of vertices8\n",
      "Adjacency List:\n",
      "0 -> 1, 2\n",
      "1 -> 0, 3\n",
      "2 -> 3, 0, 4\n",
      "3 -> 1, 2\n",
      "4 -> 2, 5\n",
      "5 -> 4, 6\n",
      "6 -> 5\n",
      "7 -> \n"
     ]
    }
   ],
   "source": [
    "num_vertices=int(input(\"Enter the no. of vertices\"))\n",
    "adjacency_list = [[] for i in range(num_vertices)]\n",
    "def add_edge(parent,child):\n",
    "    adjacency_list[parent].append(child)\n",
    "add_edge(0, 1)\n",
    "add_edge(1,0)\n",
    "add_edge(1,3)\n",
    "add_edge(3,1)\n",
    "add_edge(2,3)\n",
    "add_edge(3,2)\n",
    "add_edge(2,0)\n",
    "add_edge(0,2)\n",
    "add_edge(2,4)\n",
    "add_edge(4,2)\n",
    "add_edge(4,5)\n",
    "add_edge(5,4)\n",
    "add_edge(5,6)\n",
    "add_edge(6,5)\n",
    "\n",
    "print(\"Adjacency List:\")\n",
    "for i, adjacent_vertices in enumerate(adjacency_list):\n",
    "    print(f\"{i} -> {', '.join(map(str, adjacent_vertices))}\")"
   ]
  },
  {
   "cell_type": "code",
   "execution_count": 4,
   "id": "ca5e8967",
   "metadata": {},
   "outputs": [
    {
     "name": "stdout",
     "output_type": "stream",
     "text": [
      "[[(1, 2, 1)], [(2, 1, 1)]]\n",
      "Does the graph contain a cycle? False\n"
     ]
    }
   ],
   "source": [
    "def DFS_cycle(start, graph, visited, parent):\n",
    "    visited[start - 1] = True\n",
    "\n",
    "    for i in graph[start - 1]:\n",
    "        if not visited[i[1] - 1]:\n",
    "            parent[i[1] - 1] = start\n",
    "            if DFS_cycle(i[1], graph, visited, parent):\n",
    "                return True\n",
    "        elif parent[start - 1] != i[1]:\n",
    "            return True\n",
    "\n",
    "    return False\n",
    "\n",
    "\n",
    "def has_cycle(graph):\n",
    "    v = len(graph)\n",
    "    visited = [False] * v\n",
    "    parent = [-1] * v\n",
    "\n",
    "    for i in range(v):\n",
    "        if not visited[i]:\n",
    "            if DFS_cycle(i + 1, graph, visited, parent):\n",
    "                return True\n",
    "\n",
    "    return False\n",
    "\n",
    "def create_graph(graph,source,destination,weight=1):\n",
    "    graph[source-1].append((source,destination,weight))\n",
    "\n",
    "v = 2  #11\n",
    "graph = [[] for _ in range(v)]\n",
    "\n",
    "create_graph(graph, 1, 2)\n",
    "create_graph(graph, 2, 1)\n",
    "\n",
    "#create_graph(graph, 1, 2)\n",
    "#create_graph(graph, 1, 3)\n",
    "#create_graph(graph, 1, 10)\n",
    "#create_graph(graph, 2, 1)\n",
    "#create_graph(graph, 2, 4)\n",
    "#create_graph(graph, 3, 1)\n",
    "#create_graph(graph, 3, 7)\n",
    "#create_graph(graph, 4, 2)\n",
    "#create_graph(graph, 4, 5)\n",
    "#create_graph(graph, 4, 7)\n",
    "#create_graph(graph, 4, 8)\n",
    "#create_graph(graph, 5, 4)\n",
    "#create_graph(graph, 5, 6)\n",
    "#create_graph(graph, 6, 5)\n",
    "#create_graph(graph, 6, 10)\n",
    "#create_graph(graph, 6, 9)\n",
    "#create_graph(graph, 7, 3)\n",
    "#create_graph(graph, 7, 4)\n",
    "#create_graph(graph, 7, 11)\n",
    "#create_graph(graph, 8, 4)\n",
    "#create_graph(graph, 8, 9)\n",
    "#create_graph(graph, 9, 6)\n",
    "#create_graph(graph, 9, 8)\n",
    "#create_graph(graph, 10, 1)\n",
    "#create_graph(graph, 10, 6)\n",
    "#create_graph(graph, 11, 7)\n",
    "\n",
    "print(graph)\n",
    "print(\"Does the graph contain a cycle?\", has_cycle(graph))"
   ]
  },
  {
   "cell_type": "code",
   "execution_count": null,
   "id": "f8042230",
   "metadata": {},
   "outputs": [],
   "source": []
  }
 ],
 "metadata": {
  "kernelspec": {
   "display_name": "Python 3 (ipykernel)",
   "language": "python",
   "name": "python3"
  },
  "language_info": {
   "codemirror_mode": {
    "name": "ipython",
    "version": 3
   },
   "file_extension": ".py",
   "mimetype": "text/x-python",
   "name": "python",
   "nbconvert_exporter": "python",
   "pygments_lexer": "ipython3",
   "version": "3.10.9"
  }
 },
 "nbformat": 4,
 "nbformat_minor": 5
}
