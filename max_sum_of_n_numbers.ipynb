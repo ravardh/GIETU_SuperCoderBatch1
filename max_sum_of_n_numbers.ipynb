{
 "cells": [
  {
   "cell_type": "code",
   "execution_count": 2,
   "id": "967ae264",
   "metadata": {},
   "outputs": [
    {
     "name": "stdout",
     "output_type": "stream",
     "text": [
      "Enter the range:5\n",
      "The maximum sum is: 35\n"
     ]
    }
   ],
   "source": [
    "arr = [5,4,2,6,3,8,9,7,4,7,3,6,9,8,2,4,6,8,6,2,3,4,5,1,4,2]\n",
    "n = len(arr)\n",
    "k = int(input(\"Enter the range:\"))\n",
    "sum = 0\n",
    "for i in range(0,k):\n",
    "    sum = sum+arr[i]\n",
    "window = sum\n",
    "for i in range(0,n-k):\n",
    "    if(window>sum):\n",
    "        sum = window\n",
    "    window = window - arr[i] + arr[i+k]\n",
    "print(\"The maximum sum is:\",sum)\n"
   ]
  },
  {
   "cell_type": "code",
   "execution_count": null,
   "id": "a87c9b6c",
   "metadata": {},
   "outputs": [],
   "source": []
  }
 ],
 "metadata": {
  "kernelspec": {
   "display_name": "Python 3 (ipykernel)",
   "language": "python",
   "name": "python3"
  },
  "language_info": {
   "codemirror_mode": {
    "name": "ipython",
    "version": 3
   },
   "file_extension": ".py",
   "mimetype": "text/x-python",
   "name": "python",
   "nbconvert_exporter": "python",
   "pygments_lexer": "ipython3",
   "version": "3.11.3"
  }
 },
 "nbformat": 4,
 "nbformat_minor": 5
}
