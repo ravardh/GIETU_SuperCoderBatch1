{
 "cells": [
  {
   "cell_type": "code",
   "execution_count": 33,
   "id": "a90bc2e2",
   "metadata": {},
   "outputs": [
    {
     "name": "stdout",
     "output_type": "stream",
     "text": [
      "Vertices:\n",
      "1 -> (2, 4), (8, 8)\n",
      "2 -> (8, 11), (3, 8), (1, 4)\n",
      "3 -> (9, 2), (2, 8), (4, 7)\n",
      "4 -> (6, 14), (5, 9), (3, 7)\n",
      "5 -> (4, 9), (6, 10)\n",
      "6 -> (4, 14), (5, 10), (7, 2)\n",
      "7 -> (9, 6), (6, 2), (8, 1)\n",
      "8 -> (9, 7), (7, 1), (1, 8)\n",
      "9 -> (7, 6), (3, 2), (8, 7)\n"
     ]
    }
   ],
   "source": [
    "num_vertices = 9\n",
    "starting_vertex = 1\n",
    "vertices = [(i, []) for i in range(num_vertices+1)]\n",
    "\n",
    "def add_edge(start, destin, weight):\n",
    "    vertices[start][1].append((destin, weight))\n",
    "     \n",
    "add_edge(1, 2, 4)\n",
    "add_edge(1, 8, 8)\n",
    "add_edge(2, 8, 11)\n",
    "add_edge(2, 3, 8)\n",
    "add_edge(2, 1, 4)\n",
    "add_edge(3, 9, 2)\n",
    "add_edge(3, 2, 8)\n",
    "add_edge(3, 4, 7)\n",
    "add_edge(7, 9, 6)\n",
    "add_edge(8, 9, 7)\n",
    "add_edge(8, 7, 1)\n",
    "add_edge(8, 1, 8)\n",
    "add_edge(4, 6, 14)\n",
    "add_edge(4, 5, 9)\n",
    "add_edge(5, 4, 9)\n",
    "add_edge(5, 6, 10)\n",
    "add_edge(7, 6, 2)\n",
    "add_edge(7, 8, 1)\n",
    "add_edge(6, 4, 14)\n",
    "add_edge(6, 5, 10)\n",
    "add_edge(6, 7, 2)\n",
    "add_edge(4, 3, 7)\n",
    "add_edge(9, 7, 6)\n",
    "add_edge(9, 3, 2)\n",
    "add_edge(9, 8, 7)\n",
    " \n",
    "print(\"Vertices:\")\n",
    "for vertex in vertices[starting_vertex:]:\n",
    "    vertex_num, adjacency_list = vertex\n",
    "    print(f\"{vertex_num} -> {', '.join(map(lambda x: f'({x[0]}, {x[1]})', adjacency_list))}\")\n"
   ]
  },
  {
   "cell_type": "code",
   "execution_count": null,
   "id": "c0aab67f",
   "metadata": {},
   "outputs": [],
   "source": []
  }
 ],
 "metadata": {
  "kernelspec": {
   "display_name": "Python 3 (ipykernel)",
   "language": "python",
   "name": "python3"
  },
  "language_info": {
   "codemirror_mode": {
    "name": "ipython",
    "version": 3
   },
   "file_extension": ".py",
   "mimetype": "text/x-python",
   "name": "python",
   "nbconvert_exporter": "python",
   "pygments_lexer": "ipython3",
   "version": "3.10.9"
  }
 },
 "nbformat": 4,
 "nbformat_minor": 5
}
