{
 "cells": [
  {
   "cell_type": "code",
   "execution_count": 4,
   "id": "dfb33fea-a373-4d59-93d2-04049b0b6fe9",
   "metadata": {},
   "outputs": [
    {
     "name": "stdout",
     "output_type": "stream",
     "text": [
      "[1, 2, 3, 4, 5, 6, 7, 8, 9]\n"
     ]
    }
   ],
   "source": [
    "#insertionsort\n",
    "l=[4,8,7,1,9,2,3,6,5]\n",
    "length=len(l)\n",
    "for i in range(1,length):\n",
    "    k=i\n",
    "    for j in range(i,-1,-1):\n",
    "        if(l[k]<=l[j]):\n",
    "            l[k],l[j]=l[j],l[k]\n",
    "            k=j\n",
    "print(l)"
   ]
  },
  {
   "cell_type": "code",
   "execution_count": null,
   "id": "450ef49f-09d6-4649-8ec7-d399b866b8e3",
   "metadata": {},
   "outputs": [],
   "source": []
  }
 ],
 "metadata": {
  "kernelspec": {
   "display_name": "Python 3 (ipykernel)",
   "language": "python",
   "name": "python3"
  },
  "language_info": {
   "codemirror_mode": {
    "name": "ipython",
    "version": 3
   },
   "file_extension": ".py",
   "mimetype": "text/x-python",
   "name": "python",
   "nbconvert_exporter": "python",
   "pygments_lexer": "ipython3",
   "version": "3.10.0"
  }
 },
 "nbformat": 4,
 "nbformat_minor": 5
}
