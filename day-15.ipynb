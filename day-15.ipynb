{
 "cells": [
  {
   "cell_type": "code",
   "execution_count": 20,
   "id": "c0272e33",
   "metadata": {},
   "outputs": [
    {
     "name": "stdout",
     "output_type": "stream",
     "text": [
      "54\n"
     ]
    }
   ],
   "source": [
    "def knapsack(price, weights, capacity):\n",
    "    n = len(weights)\n",
    "    mat = [[0] * (capacity + 1) for _ in range(n + 1)]\n",
    "    for i in range(1, n + 1):\n",
    "        for w in range(1,capacity + 1):\n",
    "            if weights[i - 1] <= w:\n",
    "                mat[i][w] = max(price[i-1] + mat[i-1][w-weights[i-1]],mat[i-1][w])\n",
    "            else:\n",
    "                mat[i][w] = mat[i - 1][w]\n",
    "                \n",
    "    return mat[n][capacity]\n",
    "price = [10,5,15,7,6,18,3]\n",
    "weights = [2,3,5,7,1,4,1]\n",
    "capacity = 15 \n",
    "print(knapsack(price, weights, capacity))"
   ]
  },
  {
   "cell_type": "code",
   "execution_count": null,
   "id": "615afa8e",
   "metadata": {},
   "outputs": [],
   "source": []
  }
 ],
 "metadata": {
  "kernelspec": {
   "display_name": "Python 3 (ipykernel)",
   "language": "python",
   "name": "python3"
  },
  "language_info": {
   "codemirror_mode": {
    "name": "ipython",
    "version": 3
   },
   "file_extension": ".py",
   "mimetype": "text/x-python",
   "name": "python",
   "nbconvert_exporter": "python",
   "pygments_lexer": "ipython3",
   "version": "3.10.9"
  }
 },
 "nbformat": 4,
 "nbformat_minor": 5
}
