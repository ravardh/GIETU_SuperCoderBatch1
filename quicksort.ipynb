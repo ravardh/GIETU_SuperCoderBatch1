{
 "cells": [
  {
   "cell_type": "code",
   "execution_count": 11,
   "id": "3d152bcb",
   "metadata": {},
   "outputs": [
    {
     "name": "stdout",
     "output_type": "stream",
     "text": [
      "[1, 2, 3, 4, 5, 6, 7, 8, 9]\n"
     ]
    }
   ],
   "source": [
    "#QUICK_SORT algorithm\n",
    "def find(arr,S,E):\n",
    "    p = arr[E]\n",
    "    i = S\n",
    "    j = S - 1\n",
    "    for i in range(S,E):\n",
    "        if arr[i] < p:\n",
    "            j = j + 1\n",
    "            arr[i], arr[j] = arr[j], arr[i]\n",
    "    j = j + 1\n",
    "    arr[j], arr[E] = arr[E], arr[j]\n",
    "    return j\n",
    "\n",
    "def quicksort(arr,S,E):\n",
    "    if S < E:\n",
    "        pi = find(arr, S, E)\n",
    "        quicksort(arr,S,pi - 1)\n",
    "        quicksort(arr,pi + 1,E)\n",
    "\n",
    "if __name__ == '__main__':\n",
    "    arr = [4, 8, 2, 3, 7, 5, 1, 9, 6]\n",
    "    quicksort(arr, 0, len(arr) - 1)\n",
    "    print(arr)"
   ]
  },
  {
   "cell_type": "code",
   "execution_count": 13,
   "id": "88e4a08d",
   "metadata": {},
   "outputs": [
    {
     "name": "stdout",
     "output_type": "stream",
     "text": [
      "[11, 12, 11, 17, 20, 24, 20, 18, 14, 16, 18, 23, 19, 14, 12, 18, 20, 16, 11, 9, 12, 10, 10, 7]\n"
     ]
    }
   ],
   "source": [
    "#consequitve sum of three numbers\n",
    "arr = [5,4,2,6,3,8,9,7,4,7,3,6,9,8,2,4,6,8,6,2,3,4,5,1,4,2]\n",
    "\n",
    "def consecutive_sum_of_three(arr):\n",
    "    result = []\n",
    "    for i in range(len(arr) - 2):\n",
    "        current_sum = arr[i] + arr[i + 1] + arr[i + 2]\n",
    "        result.append(current_sum)\n",
    "    return result\n",
    "\n",
    "\n",
    "result = consecutive_sum_of_three(arr)\n",
    "print(result)\n"
   ]
  },
  {
   "cell_type": "code",
   "execution_count": null,
   "id": "9d043021",
   "metadata": {},
   "outputs": [],
   "source": []
  }
 ],
 "metadata": {
  "kernelspec": {
   "display_name": "Python 3 (ipykernel)",
   "language": "python",
   "name": "python3"
  },
  "language_info": {
   "codemirror_mode": {
    "name": "ipython",
    "version": 3
   },
   "file_extension": ".py",
   "mimetype": "text/x-python",
   "name": "python",
   "nbconvert_exporter": "python",
   "pygments_lexer": "ipython3",
   "version": "3.11.3"
  }
 },
 "nbformat": 4,
 "nbformat_minor": 5
}
