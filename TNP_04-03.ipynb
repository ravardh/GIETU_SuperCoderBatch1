{
 "cells": [
  {
   "cell_type": "code",
   "execution_count": 2,
   "id": "dc39479e-1f75-41ff-b5fc-ddc33adc3abb",
   "metadata": {},
   "outputs": [
    {
     "name": "stdout",
     "output_type": "stream",
     "text": [
      "start coding\n"
     ]
    }
   ],
   "source": [
    "#GRAPHS\n",
    "#BFS:similar to level order traversal\n"
   ]
  },
  {
   "cell_type": "code",
   "execution_count": 11,
   "id": "a95a0f09-103e-46dd-9a80-1db5448faf28",
   "metadata": {},
   "outputs": [
    {
     "name": "stdout",
     "output_type": "stream",
     "text": [
      "BFS Traversal:\n",
      "2 1 4 3 9 5 6 8 7 "
     ]
    }
   ],
   "source": [
    "from collections import defaultdict, deque\n",
    "\n",
    "class Graph:\n",
    "    def __init__(self):\n",
    "        self.graph = defaultdict(list)\n",
    "\n",
    "    def add_edge(self, u, v):\n",
    "        self.graph[u].append(v)\n",
    "\n",
    "    def bfs(self, start):\n",
    "        visited = set()\n",
    "        queue = deque([start])\n",
    "        visited.add(start)\n",
    "\n",
    "        while queue:\n",
    "            vertex = queue.popleft()\n",
    "            print(vertex, end=' ')\n",
    "          \n",
    "            for neighbor in self.graph[vertex]:\n",
    "                if neighbor not in visited:\n",
    "                    queue.append(neighbor)\n",
    "                    visited.add(neighbor)\n",
    "\n",
    "# Create graph instance\n",
    "g = Graph()\n",
    "\n",
    "# Add edges\n",
    "g.add_edge(1, 2)\n",
    "g.add_edge(1, 3)\n",
    "g.add_edge(1, 9)\n",
    "g.add_edge(2, 1)\n",
    "g.add_edge(2, 4)\n",
    "g.add_edge(3, 1)\n",
    "g.add_edge(3, 8)\n",
    "g.add_edge(4, 2)\n",
    "g.add_edge(4, 5)\n",
    "g.add_edge(4, 6)\n",
    "g.add_edge(5, 4)\n",
    "g.add_edge(6, 4)\n",
    "g.add_edge(6, 7)\n",
    "g.add_edge(7, 6)\n",
    "g.add_edge(7, 8)\n",
    "g.add_edge(8, 7)\n",
    "g.add_edge(8, 9)\n",
    "g.add_edge(8, 3)\n",
    "g.add_edge(9, 8)\n",
    "g.add_edge(9, 1)\n",
    "\n",
    "# Perform BFS starting from node 1 \n",
    "print(\"BFS Traversal:\")\n",
    "g.bfs(2)\n"
   ]
  },
  {
   "cell_type": "code",
   "execution_count": 1,
   "id": "98274180-6eff-442d-9007-42ddfc87c5a5",
   "metadata": {},
   "outputs": [
    {
     "name": "stdout",
     "output_type": "stream",
     "text": [
      "BFS Traversal:\n",
      "1 2 3 9 4 8 5 6 7 "
     ]
    }
   ],
   "source": [
    "from collections import deque\n",
    "\n",
    "class Graph:\n",
    "    def __init__(self, num_vertices):\n",
    "        self.num_vertices = num_vertices\n",
    "        self.adj_matrix = [[0] * num_vertices for _ in range(num_vertices)]\n",
    "\n",
    "    def add_edge(self, u, v):\n",
    "        self.adj_matrix[u - 1][v - 1] = 1\n",
    "        self.adj_matrix[v - 1][u - 1] = 1  # Assuming the graph is undirected\n",
    "\n",
    "    def bfs(self, start):\n",
    "        visited = [False] * self.num_vertices\n",
    "        queue = deque([start - 1])\n",
    "        visited[start - 1] = True\n",
    "\n",
    "        while queue:\n",
    "            vertex = queue.popleft()\n",
    "            print(vertex + 1, end=' ')  # Convert back to 1-based index\n",
    "\n",
    "            for neighbor in range(self.num_vertices):\n",
    "                if self.adj_matrix[vertex][neighbor] == 1 and not visited[neighbor]:\n",
    "                    queue.append(neighbor)\n",
    "                    visited[neighbor] = True\n",
    "\n",
    "# Create graph instance\n",
    "g = Graph(9)  # Assuming 9 vertices based on the given edges\n",
    "\n",
    "# Add edges\n",
    "g.add_edge(1, 2)\n",
    "g.add_edge(1, 3)\n",
    "g.add_edge(1, 9)\n",
    "g.add_edge(2, 4)\n",
    "g.add_edge(3, 8)\n",
    "g.add_edge(4, 5)\n",
    "g.add_edge(4, 6)\n",
    "g.add_edge(6, 7)\n",
    "g.add_edge(7, 8)\n",
    "g.add_edge(8, 9)\n",
    "\n",
    "# Perform BFS starting from node 1 \n",
    "print(\"BFS Traversal:\")\n",
    "g.bfs(1)\n"
   ]
  },
  {
   "cell_type": "code",
   "execution_count": null,
   "id": "d97f9ba3-694d-4d41-bc0a-57aeabf11a10",
   "metadata": {},
   "outputs": [],
   "source": []
  }
 ],
 "metadata": {
  "kernelspec": {
   "display_name": "Python 3 (ipykernel)",
   "language": "python",
   "name": "python3"
  },
  "language_info": {
   "codemirror_mode": {
    "name": "ipython",
    "version": 3
   },
   "file_extension": ".py",
   "mimetype": "text/x-python",
   "name": "python",
   "nbconvert_exporter": "python",
   "pygments_lexer": "ipython3",
   "version": "3.10.4"
  }
 },
 "nbformat": 4,
 "nbformat_minor": 5
}
