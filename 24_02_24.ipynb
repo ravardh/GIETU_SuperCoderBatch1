{
  "nbformat": 4,
  "nbformat_minor": 0,
  "metadata": {
    "colab": {
      "provenance": []
    },
    "kernelspec": {
      "name": "python3",
      "display_name": "Python 3"
    },
    "language_info": {
      "name": "python"
    }
  },
  "cells": [
    {
      "cell_type": "markdown",
      "source": [
        "# Find Substring in String (Brute Force)"
      ],
      "metadata": {
        "id": "osnEYMO9Nm0p"
      }
    },
    {
      "cell_type": "code",
      "execution_count": null,
      "metadata": {
        "colab": {
          "base_uri": "https://localhost:8080/"
        },
        "id": "OIc63vcMKSX6",
        "outputId": "beec07f7-138f-4e38-c7d1-85a2c7692de5"
      },
      "outputs": [
        {
          "output_type": "stream",
          "name": "stdout",
          "text": [
            "Substring found at indices: [3, 10, 16]\n"
          ]
        }
      ],
      "source": [
        "def find_all_substrings(data, pat):\n",
        "    n = len(data)\n",
        "    m = len(pat)\n",
        "    indices = []\n",
        "\n",
        "    for i in range(n - m + 1):\n",
        "        j = 0\n",
        "        while (j < m):\n",
        "            if (data[i + j] != pat[j]):\n",
        "                break\n",
        "            j += 1\n",
        "        if (j == m):\n",
        "            indices.append(i)\n",
        "    return indices\n",
        "\n",
        "data = \"ABAABABCABABABCAABABCABAC\"\n",
        "pat = \"ABABC\"\n",
        "indices = find_all_substrings(data, pat)\n",
        "if indices:\n",
        "    print(\"Substring found at indices:\", indices)\n",
        "else:\n",
        "    print(\"Substring not found\")\n"
      ]
    },
    {
      "cell_type": "markdown",
      "source": [
        "# KMP Algorithm"
      ],
      "metadata": {
        "id": "94LXj42lWVe1"
      }
    },
    {
      "cell_type": "code",
      "source": [
        "def KMPSearch(pat, data):\n",
        "\tM = len(pat)\n",
        "\tN = len(data)\n",
        "\n",
        "\tlps = [0]*M\n",
        "\tj = 0\n",
        "\n",
        "\tLPS(pat, M, lps)\n",
        "\n",
        "\ti = 0\n",
        "\twhile (N - i) >= (M - j):\n",
        "\t\tif pat[j] == data[i]:\n",
        "\t\t\ti += 1\n",
        "\t\t\tj += 1\n",
        "\n",
        "\t\tif j == M:\n",
        "\t\t\tprint(\"Found pattern at index \" + str(i-j))\n",
        "\t\t\tj = lps[j-1]\n",
        "\n",
        "\t\telif i < N and pat[j] != data[i]:\n",
        "\t\t\tif j != 0:\n",
        "\t\t\t\tj = lps[j-1]\n",
        "\t\t\telse:\n",
        "\t\t\t\ti += 1\n",
        "\n",
        "\n",
        "\n",
        "def LPS(pat, M, lps):\n",
        "\tlen = 0\n",
        "\n",
        "\tlps[0] = 0\n",
        "\ti = 1\n",
        "\n",
        "\n",
        "\twhile i < M:\n",
        "\t\tif pat[i] == pat[len]:\n",
        "\t\t\tlen += 1\n",
        "\t\t\tlps[i] = len\n",
        "\t\t\ti += 1\n",
        "\t\telse:\n",
        "\t\t\tif len != 0:\n",
        "\t\t\t\tlen = lps[len-1]\n",
        "\t\t\telse:\n",
        "\t\t\t\tlps[i] = 0\n",
        "\t\t\t\ti += 1\n",
        "\n",
        "\n",
        "# Driver code\n",
        "if __name__ == '__main__':\n",
        "\tdata = \"ABAABABCABABABCAABABCABAC\"\n",
        "\tpat = \"ABABC\"\n",
        "\tKMPSearch(pat, data)"
      ],
      "metadata": {
        "colab": {
          "base_uri": "https://localhost:8080/"
        },
        "id": "E9V7jcxoMQ7R",
        "outputId": "a36690a5-813f-48eb-a72f-f5bba8794b42"
      },
      "execution_count": null,
      "outputs": [
        {
          "output_type": "stream",
          "name": "stdout",
          "text": [
            "Found pattern at index 3\n",
            "Found pattern at index 10\n",
            "Found pattern at index 16\n"
          ]
        }
      ]
    },
    {
      "cell_type": "code",
      "source": [],
      "metadata": {
        "id": "WrXm7NfsWajZ"
      },
      "execution_count": null,
      "outputs": []
    }
  ]
}