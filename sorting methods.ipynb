{
 "cells": [
  {
   "cell_type": "code",
   "execution_count": 4,
   "id": "70e60ff8",
   "metadata": {},
   "outputs": [
    {
     "name": "stdout",
     "output_type": "stream",
     "text": [
      "The Bubble sort is: [1, 2, 3, 4, 5, 6, 7, 8, 9]\n"
     ]
    }
   ],
   "source": [
    "list = [4,7,8,1,9,2,3,6,5]\n",
    "n = len(list)\n",
    "for j in range(0,n-1):\n",
    "    for i in range(0,n-1):\n",
    "        if(list[i]>list[i+1]):\n",
    "            list[i],list[i+1] = list[i+1],list[i]\n",
    "print(\"The Bubble sort is:\",list)"
   ]
  },
  {
   "cell_type": "code",
   "execution_count": 5,
   "id": "bc4549a2",
   "metadata": {},
   "outputs": [
    {
     "name": "stdout",
     "output_type": "stream",
     "text": [
      "The Insertion sort is: [1, 2, 3, 4, 5, 6, 7, 8, 9]\n"
     ]
    }
   ],
   "source": [
    "list = [4,7,8,1,9,2,3,6,5] \n",
    "n = len(list)\n",
    "for i in range(0,n):\n",
    "    for j in range(0,i):\n",
    "        if(list[i]<list[j]):\n",
    "            list[i],list[j] = list[j],list[i]\n",
    "print(\"The Insertion sort is:\",list)"
   ]
  },
  {
   "cell_type": "code",
   "execution_count": 6,
   "id": "f92a229f",
   "metadata": {},
   "outputs": [
    {
     "name": "stdout",
     "output_type": "stream",
     "text": [
      "The Selection sort is: [1, 2, 3, 4, 5, 6, 7, 8, 9]\n"
     ]
    }
   ],
   "source": [
    "list = [4,7,8,1,9,2,3,6,5]\n",
    "n = len(list)\n",
    "for i in range(0,n):\n",
    "    for j in range(i+1,n):\n",
    "        if(list[i]>=list[j]):\n",
    "            list[i],list[j]=list[j],list[i]\n",
    "print(\"The Selection sort is:\",list)"
   ]
  },
  {
   "cell_type": "code",
   "execution_count": null,
   "id": "758e3a13",
   "metadata": {},
   "outputs": [],
   "source": []
  }
 ],
 "metadata": {
  "kernelspec": {
   "display_name": "Python 3 (ipykernel)",
   "language": "python",
   "name": "python3"
  },
  "language_info": {
   "codemirror_mode": {
    "name": "ipython",
    "version": 3
   },
   "file_extension": ".py",
   "mimetype": "text/x-python",
   "name": "python",
   "nbconvert_exporter": "python",
   "pygments_lexer": "ipython3",
   "version": "3.11.3"
  }
 },
 "nbformat": 4,
 "nbformat_minor": 5
}
