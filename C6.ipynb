{
 "cells": [
  {
   "cell_type": "code",
   "execution_count": 1,
   "id": "2130ae8b",
   "metadata": {},
   "outputs": [
    {
     "name": "stdout",
     "output_type": "stream",
     "text": [
      "20 32 15 4 40 "
     ]
    }
   ],
   "source": [
    "class node:\n",
    "    def __init__(self,info=None):\n",
    "        self.data=info\n",
    "        self.left=None\n",
    "        self.right=None\n",
    "def leftViewUtil(root, level, max_level):\n",
    "    if root is None:\n",
    "        return\n",
    "    if (max_level[0] < level):\n",
    "        print (root.data, end = \" \")\n",
    "        max_level[0] = level\n",
    "    leftViewUtil(root.left, level + 1, max_level)\n",
    "    leftViewUtil(root.right, level + 1, max_level)\n",
    "def leftView(root):\n",
    "    max_level = [0]\n",
    "    leftViewUtil(root, 1, max_level)\n",
    "if __name__ == '__main__':\n",
    "    root=node(20)\n",
    "root.left=node(32)\n",
    "root.right=node(10)\n",
    "root.left.left=node(15)\n",
    "root.left.right=node(12)\n",
    "root.right.left=node(8)\n",
    "root.right.right=node(24)\n",
    "root.left.left.left=node(4)\n",
    "root.left.right.left=node(50)\n",
    "root.left.right.right=node(6)\n",
    "root.right.right.left=node(16)\n",
    "root.right.right.right=node(2)\n",
    "root.left.right.left.left=node(40)\n",
    "root.left.right.left.right=node(35)\n",
    "leftView(root) "
   ]
  },
  {
   "cell_type": "code",
   "execution_count": 2,
   "id": "e079ca47",
   "metadata": {},
   "outputs": [
    {
     "name": "stdout",
     "output_type": "stream",
     "text": [
      "2 8 10 "
     ]
    }
   ],
   "source": [
    "class Node:\n",
    "    def __init__(self, key):\n",
    "        self.key = key\n",
    "        self.left = None\n",
    "        self.right = None\n",
    "def insert(node, key):\n",
    "    if node is None:\n",
    "        return Node(key)\n",
    "    if key < node.key:\n",
    "        node.left = insert(node.left, key)\n",
    "    elif key > node.key:\n",
    "        node.right = insert(node.right, key)\n",
    "        return node\n",
    "def inorder(root): \n",
    "    if root is not None:\n",
    "        inorder(root.left)\n",
    "        print(root.key, end=\" \")\n",
    "        inorder(root.right)\n",
    "if __name__ == '__main__':\n",
    "    root=None\n",
    "    root=insert(root,10)\n",
    "    insert(root,9)\n",
    "    insert(root,14)\n",
    "    insert(root,5)\n",
    "    insert(root,12)\n",
    "    insert(root,17)\n",
    "    insert(root,2)\n",
    "    insert(root,7)\n",
    "    insert(root,15)\n",
    "    insert(root,3)\n",
    "    insert(root,8)\n",
    "    inorder(root)"
   ]
  },
  {
   "cell_type": "code",
   "execution_count": null,
   "id": "520d0efb",
   "metadata": {},
   "outputs": [],
   "source": [
    "  "
   ]
  }
 ],
 "metadata": {
  "kernelspec": {
   "display_name": "Python 3.11.4 64-bit",
   "language": "python",
   "name": "python3"
  },
  "language_info": {
   "codemirror_mode": {
    "name": "ipython",
    "version": 3
   },
   "file_extension": ".py",
   "mimetype": "text/x-python",
   "name": "python",
   "nbconvert_exporter": "python",
   "pygments_lexer": "ipython3",
   "version": "3.11.4"
  },
  "vscode": {
   "interpreter": {
    "hash": "5238573367df39f7286bb46f9ff5f08f63a01a80960060ce41e3c79b190280fa"
   }
  }
 },
 "nbformat": 4,
 "nbformat_minor": 5
}
