{
 "cells": [
  {
   "cell_type": "code",
   "execution_count": 2,
   "id": "2389af53",
   "metadata": {},
   "outputs": [
    {
     "name": "stdout",
     "output_type": "stream",
     "text": [
      "Shortest distances from vertex 1: {'1': 0, '2': 4, '8': 8, '3': 12, '7': 9, '9': 15, '4': 19, '6': 11, '5': 21}\n"
     ]
    }
   ],
   "source": [
    "graph = {\n",
    "    '1': {'2': 4, '8': 8},\n",
    "    '2': {'1': 4, '8': 11, '3': 8},\n",
    "    '8': {'1': 8, '2': 11, '7': 1 , '9':7},\n",
    "    '3': {'2': 8, '4': 7},\n",
    "    '7': {'8': 1, '9': 6 , '6': 2},\n",
    "    '9': {'3': 2 , '7': 6 ,},\n",
    "    '4': {'6': 14 , '5': 9},\n",
    "    '6': {'4': 14 , '5': 10},\n",
    "    '5': {'4': 9 , '6': 10}\n",
    "}\n",
    "\n",
    "\n",
    "start_vertex = '1'\n",
    "\n",
    "\n",
    "distances = {vertex: float('inf') for vertex in graph}\n",
    "distances[start_vertex] = 0\n",
    "\n",
    "\n",
    "visited = set()\n",
    "\n",
    "while len(visited) < len(graph):\n",
    "   \n",
    "    min_distance = float('inf')\n",
    "    current_vertex = None\n",
    "    \n",
    "    for vertex, distance in distances.items():\n",
    "        if vertex not in visited and distance < min_distance:\n",
    "            min_distance = distance\n",
    "            current_vertex = vertex\n",
    "\n",
    "    visited.add(current_vertex)\n",
    "    \n",
    "   \n",
    "    for neighbor, weight in graph[current_vertex].items():\n",
    "        distance_to_neighbor = distances[current_vertex] + weight\n",
    "        distances[neighbor] = min(distances[neighbor], distance_to_neighbor)\n",
    "\n",
    "\n",
    "print(f\"Shortest distances from vertex {start_vertex}: {distances}\")"
   ]
  },
  {
   "cell_type": "code",
   "execution_count": null,
   "id": "357b2684",
   "metadata": {},
   "outputs": [],
   "source": []
  }
 ],
 "metadata": {
  "kernelspec": {
   "display_name": "Python 3 (ipykernel)",
   "language": "python",
   "name": "python3"
  },
  "language_info": {
   "codemirror_mode": {
    "name": "ipython",
    "version": 3
   },
   "file_extension": ".py",
   "mimetype": "text/x-python",
   "name": "python",
   "nbconvert_exporter": "python",
   "pygments_lexer": "ipython3",
   "version": "3.11.4"
  }
 },
 "nbformat": 4,
 "nbformat_minor": 5
}
