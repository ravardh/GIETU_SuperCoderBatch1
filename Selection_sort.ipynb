{
 "cells": [
  {
   "cell_type": "code",
   "execution_count": 1,
   "id": "6b90a296-592e-4b09-a256-434bc9067726",
   "metadata": {},
   "outputs": [
    {
     "data": {
      "text/plain": [
       "[1, 2, 3, 4, 5, 6, 7, 8, 9]"
      ]
     },
     "execution_count": 1,
     "metadata": {},
     "output_type": "execute_result"
    }
   ],
   "source": [
    "#selection sort\n",
    "l=[4,8,7,1,9,2,3,6,5]\n",
    "def swap(l,index,i):\n",
    "    temp=l[index]\n",
    "    l[index]=l[i]\n",
    "    l[i]=temp\n",
    "for i in range(len(l)-1):\n",
    "    index=i\n",
    "    for j in range(i+1,len(l)):\n",
    "        if(l[index]>=l[j]):\n",
    "            index=j\n",
    "    swap(l,index,i)\n",
    "l\n",
    "            \n"
   ]
  },
  {
   "cell_type": "code",
   "execution_count": null,
   "id": "4a9bcd13-dc53-4a58-8623-7c23e7298dd8",
   "metadata": {},
   "outputs": [],
   "source": []
  }
 ],
 "metadata": {
  "kernelspec": {
   "display_name": "Python 3 (ipykernel)",
   "language": "python",
   "name": "python3"
  },
  "language_info": {
   "codemirror_mode": {
    "name": "ipython",
    "version": 3
   },
   "file_extension": ".py",
   "mimetype": "text/x-python",
   "name": "python",
   "nbconvert_exporter": "python",
   "pygments_lexer": "ipython3",
   "version": "3.12.1"
  }
 },
 "nbformat": 4,
 "nbformat_minor": 5
}
