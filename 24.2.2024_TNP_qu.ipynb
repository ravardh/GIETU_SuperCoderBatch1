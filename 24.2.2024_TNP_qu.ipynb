{
 "cells": [
  {
   "cell_type": "code",
   "execution_count": 3,
   "id": "a147bd6d",
   "metadata": {},
   "outputs": [
    {
     "name": "stdout",
     "output_type": "stream",
     "text": [
      "The number of occurrences of 'ABCA' in 'ABAABCABACABCABABABCABC' is: 3\n"
     ]
    }
   ],
   "source": [
    "#Driver Code \n",
    "\n",
    "data = \"ABAABCABACABCABABABCABC\"\n",
    "part=\"ABCA\"\n",
    "\n",
    "occurrences = data.count(part)\n",
    "print(f\"The number of occurrences of '{part}' in '{data}' is: {occurrences}\")\n",
    "\n",
    "\n"
   ]
  },
  {
   "cell_type": "code",
   "execution_count": null,
   "id": "cbdae53d",
   "metadata": {},
   "outputs": [],
   "source": [
    "def count_occurrences(data, part):\n",
    "    occurrences = 0\n",
    "    i = 0\n",
    "\n",
    "    while i < len(data):\n",
    "        index = data.find(part, i)\n",
    "        if index == -1:\n",
    "            break\n",
    "        occurrences += 1\n",
    "        i = index + 1\n",
    "\n",
    "    return occurrences\n",
    "\n",
    "data = \"ABAABCABACABCABABABCABC\"\n",
    "part = \"ABC\"\n",
    "result = count_occurrences(data, part)\n",
    "\n",
    "print(f\"The number of occurrences of '{part}' in '{data}' is: {result}\")\n"
   ]
  },
  {
   "cell_type": "code",
   "execution_count": 5,
   "id": "37764c12",
   "metadata": {},
   "outputs": [
    {
     "name": "stdout",
     "output_type": "stream",
     "text": [
      "Found pattern at index 3\n",
      "Found pattern at index 10\n",
      "Found pattern at index 16\n"
     ]
    }
   ],
   "source": [
    "#KMP Algorithm \n",
    "\n",
    "def KMPSearch(pat, data):\n",
    "    M = len(pat)\n",
    "    N = len(data)\n",
    "    \n",
    "    lps = [0] * M\n",
    "    j = 0 \n",
    "    \n",
    "    LPS(pat, M, lps)\n",
    "\n",
    "    i = 0 \n",
    "    while (N - i) >= (M - j):\n",
    "        if pat[j] == data[i]:\n",
    "            i += 1\n",
    "            j += 1\n",
    "\n",
    "        if j == M:\n",
    "            print(\"Found pattern at index \" + str(i - j))\n",
    "            j = lps[j - 1]\n",
    "\n",
    "        elif i < N and pat[j] != data[i]:\n",
    "            if j != 0:\n",
    "                j = lps[j - 1]\n",
    "            else:\n",
    "                i += 1\n",
    "\n",
    "def LPS(pat, M, lps):\n",
    "    length = 0 \n",
    "\n",
    "    lps[0] = 0 \n",
    "    i = 1\n",
    "    \n",
    "    while i < M:\n",
    "        if pat[i] == pat[length]:\n",
    "            length += 1\n",
    "            lps[i] = length\n",
    "            i += 1\n",
    "        else:\n",
    "            if length != 0:\n",
    "                length = lps[length - 1]\n",
    "            else:\n",
    "                lps[i] = 0\n",
    "                i += 1\n",
    "\n",
    "# Driver code\n",
    "if __name__ == '__main__':\n",
    "    data = \"ABAABABCABABABCAABABCABAC\"\n",
    "    pat = \"ABABC\"\n",
    "    KMPSearch(pat, data)\n"
   ]
  },
  {
   "cell_type": "code",
   "execution_count": null,
   "id": "af14b8d4",
   "metadata": {},
   "outputs": [],
   "source": []
  }
 ],
 "metadata": {
  "kernelspec": {
   "display_name": "Python 3 (ipykernel)",
   "language": "python",
   "name": "python3"
  },
  "language_info": {
   "codemirror_mode": {
    "name": "ipython",
    "version": 3
   },
   "file_extension": ".py",
   "mimetype": "text/x-python",
   "name": "python",
   "nbconvert_exporter": "python",
   "pygments_lexer": "ipython3",
   "version": "3.10.9"
  }
 },
 "nbformat": 4,
 "nbformat_minor": 5
}
