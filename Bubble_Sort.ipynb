{
 "cells": [
  {
   "cell_type": "code",
   "execution_count": null,
   "id": "12d420ef-19a3-4f27-8744-11fb2a50ff1e",
   "metadata": {},
   "outputs": [],
   "source": [
    "#Bubble sort\n",
    "l=[4,8,7,1,9,2,3,6,5]\n",
    "for i in range(len(l)-1):\n",
    "    for j in range(0,len(l)-1-i):\n",
    "        if(l[j]>=l[j+1]):\n",
    "            l[j],l[j+1]=l[j+1],l[j]\n",
    "l"
   ]
  }
 ],
 "metadata": {
  "kernelspec": {
   "display_name": "Python 3 (ipykernel)",
   "language": "python",
   "name": "python3"
  },
  "language_info": {
   "codemirror_mode": {
    "name": "ipython",
    "version": 3
   },
   "file_extension": ".py",
   "mimetype": "text/x-python",
   "name": "python",
   "nbconvert_exporter": "python",
   "pygments_lexer": "ipython3",
   "version": "3.12.1"
  }
 },
 "nbformat": 4,
 "nbformat_minor": 5
}
