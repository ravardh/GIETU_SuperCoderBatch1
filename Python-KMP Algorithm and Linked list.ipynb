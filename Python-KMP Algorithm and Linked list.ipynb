{
 "cells": [
  {
   "cell_type": "code",
   "execution_count": 1,
   "id": "3738566b",
   "metadata": {},
   "outputs": [
    {
     "name": "stdout",
     "output_type": "stream",
     "text": [
      "[5]\n"
     ]
    }
   ],
   "source": [
    "#LONGEST PATTERN SEARCH\n",
    "d = 'ABCADABCDABC'\n",
    "p = []\n",
    "max_length = 0\n",
    "current_length = 0\n",
    "\n",
    "for i in range(len(d)):\n",
    "    if d[i:i+4] == 'ABCD':\n",
    "        current_length += 4\n",
    "    else:\n",
    "        current_length = 0\n",
    "\n",
    "    if current_length > max_length:\n",
    "        max_length = current_length\n",
    "        p = [i]\n",
    "    elif current_length == max_length and max_length > 0:\n",
    "        p.append(i - max_length + 1)\n",
    "\n",
    "print(p)"
   ]
  },
  {
   "cell_type": "code",
   "execution_count": 14,
   "id": "07c2fe0a",
   "metadata": {},
   "outputs": [
    {
     "name": "stdout",
     "output_type": "stream",
     "text": [
      "Found pattern at index 3\n",
      "Found pattern at index 10\n",
      "Found pattern at index 16\n"
     ]
    }
   ],
   "source": [
    "#KMP ALGORITHM\n",
    "def KMPSearch(pat, data):\n",
    "    M = len(pat)\n",
    "    N = len(data)\n",
    "    lps = [0]*M\n",
    "    j = 0 \n",
    "\n",
    "    LPS(pat, M, lps)\n",
    "\n",
    "    i = 0 \n",
    "    while (N - i) >= (M - j):\n",
    "        if pat[j] == data[i]:\n",
    "            i += 1\n",
    "            j += 1\n",
    "\n",
    "        if j == M:\n",
    "            print(\"Found pattern at index \" + str(i-j))\n",
    "            j = lps[j-1]\n",
    "\n",
    "        elif i < N and pat[j] != data[i]:\n",
    "            if j != 0:\n",
    "                j = lps[j-1]\n",
    "            else:\n",
    "                i += 1\n",
    "\n",
    "\n",
    "def LPS(pat, M, lps):\n",
    "    len = 0\n",
    "    lps[0] = 0 \n",
    "    i = 1\n",
    "\n",
    "    while i < M:\n",
    "        if pat[i] == pat[len]:\n",
    "            len += 1\n",
    "            lps[i] = len\n",
    "            i += 1\n",
    "        else:\n",
    "            if len != 0:\n",
    "                len = lps[len-1]\n",
    "            else:\n",
    "                lps[i] = 0\n",
    "                i += 1\n",
    "\n",
    "\n",
    "# Driver code\n",
    "if __name__ == '__main__':\n",
    "    data = \"ABAABABCABABABCAABABCABAC\"\n",
    "    pat = \"ABABC\"\n",
    "    KMPSearch(pat, data)"
   ]
  },
  {
   "cell_type": "code",
   "execution_count": 15,
   "id": "23198188",
   "metadata": {},
   "outputs": [
    {
     "name": "stdout",
     "output_type": "stream",
     "text": [
      "1 -> 2 -> 3 -> None\n"
     ]
    }
   ],
   "source": [
    "#LINKED LIST\n",
    "class Node:\n",
    "    def __init__(self, data ):\n",
    "        self.data = data\n",
    "        self.next = None\n",
    "\n",
    "class LinkedList:\n",
    "    def __init__(self):\n",
    "        self.head = None\n",
    "\n",
    "    def append(self, data):\n",
    "        new_node = Node(data)\n",
    "        if not self.head:\n",
    "            self.head = new_node\n",
    "            return\n",
    "        last_node = self.head\n",
    "        while last_node.next:\n",
    "            last_node = last_node.next\n",
    "        last_node.next = new_node\n",
    "\n",
    "    def display(self):\n",
    "        current = self.head\n",
    "        while current:\n",
    "            print(current.data, end=\" -> \")\n",
    "            current = current.next\n",
    "        print(\"None\")\n",
    "\n",
    "\n",
    "my_linked_list = LinkedList()\n",
    "my_linked_list.append(1)\n",
    "my_linked_list.append(2)\n",
    "my_linked_list.append(3)\n",
    "\n",
    "my_linked_list.display()"
   ]
  },
  {
   "cell_type": "code",
   "execution_count": 16,
   "id": "299461ef",
   "metadata": {},
   "outputs": [
    {
     "name": "stdout",
     "output_type": "stream",
     "text": [
      "3->5->none\n"
     ]
    }
   ],
   "source": [
    "class Node:\n",
    "    def __init__(self,data):\n",
    "        self.data=data\n",
    "        self.next=None\n",
    "class LinkedList:\n",
    "    def __init__(self):\n",
    "        self.head=None\n",
    "    def insertatbegin(self,data):\n",
    "        new_node=Node(data)\n",
    "        self.head=new_node\n",
    "    def insertatend(self,data):\n",
    "        new_node = Node(data)\n",
    "        last_node = self.head\n",
    "        while last_node.next:\n",
    "            last_node = last_node.next\n",
    "        last_node.next = new_node\n",
    "    def insertatposition(self,data,position):\n",
    "        new_node=Node(data)\n",
    "        if position==0:\n",
    "            new_node.next=self.head\n",
    "            self.head=new_node\n",
    "        current=self.head\n",
    "        for i in range(position-1):\n",
    "            current=current.next\n",
    "        new_node.next=current.next\n",
    "        current.next=new_node\n",
    "    def deleteatbegin(self):\n",
    "        self.head=self.head.next\n",
    "    def deleteatend(self):\n",
    "        current=self.head\n",
    "        while current.next.next:\n",
    "            current=current.next\n",
    "        current.next=None\n",
    "    def deleteatposition(self,position):\n",
    "        if position==0:\n",
    "            self.head=self.head.next\n",
    "            return\n",
    "        current=self.head\n",
    "        for i in range(position-1):\n",
    "            current.next=current.next.next\n",
    "       \n",
    "        \n",
    "    def display(self):\n",
    "        current=self.head\n",
    "        while current:\n",
    "            print(current.data,end=\"->\")\n",
    "            current=current.next\n",
    "        print(\"none\")\n",
    "a=LinkedList()\n",
    "a.insertatbegin(2)\n",
    "a.insertatposition(3,1)\n",
    "a.insertatposition(4,2)\n",
    "a.insertatposition(5,3)\n",
    "a.insertatend(6)\n",
    "a.deleteatbegin()\n",
    "a.deleteatend()\n",
    "a.deleteatposition(2)\n",
    "a.display()\n",
    "    "
   ]
  },
  {
   "cell_type": "code",
   "execution_count": null,
   "id": "47873e32",
   "metadata": {},
   "outputs": [],
   "source": []
  }
 ],
 "metadata": {
  "kernelspec": {
   "display_name": "Python 3 (ipykernel)",
   "language": "python",
   "name": "python3"
  },
  "language_info": {
   "codemirror_mode": {
    "name": "ipython",
    "version": 3
   },
   "file_extension": ".py",
   "mimetype": "text/x-python",
   "name": "python",
   "nbconvert_exporter": "python",
   "pygments_lexer": "ipython3",
   "version": "3.11.4"
  }
 },
 "nbformat": 4,
 "nbformat_minor": 5
}
