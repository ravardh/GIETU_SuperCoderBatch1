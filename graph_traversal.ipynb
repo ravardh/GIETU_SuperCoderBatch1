{
  "nbformat": 4,
  "nbformat_minor": 0,
  "metadata": {
    "colab": {
      "provenance": []
    },
    "kernelspec": {
      "name": "python3",
      "display_name": "Python 3"
    },
    "language_info": {
      "name": "python"
    }
  },
  "cells": [
    {
      "cell_type": "code",
      "execution_count": 1,
      "metadata": {
        "id": "w0mczeQTjyjr"
      },
      "outputs": [],
      "source": [
        "#4/3/2024"
      ]
    },
    {
      "cell_type": "code",
      "source": [
        "graph = {\n",
        "  '5' : ['3','7'],\n",
        "  '3' : ['2', '4'],\n",
        "  '7' : ['8'],\n",
        "  '2' : [],\n",
        "  '4' : ['8'],\n",
        "  '8' : []\n",
        "}\n",
        "visited = []\n",
        "queue = []\n",
        "def bfs(visited, graph, node):\n",
        "  visited.append(node)\n",
        "  queue.append(node)\n",
        "  while queue:\n",
        "    m = queue.pop(0)\n",
        "    print (m, end = \" \")\n",
        "    for neighbour in graph[m]:\n",
        "      if neighbour not in visited:\n",
        "        visited.append(neighbour)\n",
        "        queue.append(neighbour)\n",
        "print(\"BFS\")\n",
        "bfs(visited, graph, '5')"
      ],
      "metadata": {
        "colab": {
          "base_uri": "https://localhost:8080/"
        },
        "id": "_nW3GSqglnN1",
        "outputId": "52ce47d9-8f56-4483-ad0c-b14750cea7ac"
      },
      "execution_count": 9,
      "outputs": [
        {
          "output_type": "stream",
          "name": "stdout",
          "text": [
            "BFS\n",
            "5 3 7 2 4 8 "
          ]
        }
      ]
    },
    {
      "cell_type": "code",
      "source": [
        "graph = {\n",
        "  '5' : ['3','7'],\n",
        "  '3' : ['2', '4'],\n",
        "  '7' : ['8'],\n",
        "  '2' : [],\n",
        "  '4' : ['8'],\n",
        "  '8' : []\n",
        "}\n",
        "visited = set()\n",
        "def dfs(visited, graph, node):\n",
        "    if node not in visited:\n",
        "        print (node, end=\" \")\n",
        "        visited.add(node)\n",
        "        for neighbour in graph[node]:\n",
        "            dfs(visited, graph, neighbour)\n",
        "print(\"DFS\")\n",
        "dfs(visited, graph, '5')"
      ],
      "metadata": {
        "colab": {
          "base_uri": "https://localhost:8080/"
        },
        "id": "aqjZafaUqHjf",
        "outputId": "fc9a972e-bcb8-4197-e2f8-5b324a421474"
      },
      "execution_count": 10,
      "outputs": [
        {
          "output_type": "stream",
          "name": "stdout",
          "text": [
            "DFS\n",
            "5 3 2 4 8 7 "
          ]
        }
      ]
    },
    {
      "cell_type": "code",
      "source": [
        "aList = [[]]*5\n",
        "\n",
        "print(aList)\n",
        "\n",
        "def add(s, d, aList):\n",
        "    aList[s].append(d)\n",
        "\n",
        "def bfs(s, aList):\n",
        "    queue = list()\n",
        "    visited = set()\n",
        "    queue.append(s)\n",
        "\n",
        "    while queue:\n",
        "        i = queue.pop(0)\n",
        "        if i not in visited:\n",
        "            print(i, end=\" \")\n",
        "            visited.add(i)\n",
        "            for j in aList[i]:\n",
        "                queue.append(j)\n",
        "\n",
        "add(0, 1, aList)\n",
        "add(0, 3, aList)\n",
        "add(0, 4, aList)\n",
        "add(1, 0, aList)\n",
        "add(1, 2, aList)\n",
        "add(2, 1, aList)\n",
        "add(2, 4, aList)\n",
        "add(3, 0, aList)\n",
        "add(4, 0, aList)\n",
        "add(4, 2, aList)\n",
        "\n",
        "bfs(0, aList)\n",
        "print(aList)"
      ],
      "metadata": {
        "colab": {
          "base_uri": "https://localhost:8080/"
        },
        "id": "Bpt5NCSR5P15",
        "outputId": "a439540f-c517-4223-9404-fd7202fd6a54"
      },
      "execution_count": 20,
      "outputs": [
        {
          "output_type": "stream",
          "name": "stdout",
          "text": [
            "[[], [], [], [], []]\n",
            "0 1 3 4 2 [[1, 3, 4, 0, 2, 1, 4, 0, 0, 2], [1, 3, 4, 0, 2, 1, 4, 0, 0, 2], [1, 3, 4, 0, 2, 1, 4, 0, 0, 2], [1, 3, 4, 0, 2, 1, 4, 0, 0, 2], [1, 3, 4, 0, 2, 1, 4, 0, 0, 2]]\n"
          ]
        }
      ]
    },
    {
      "cell_type": "code",
      "source": [
        "aList = [[]]*5\n",
        "\n",
        "print(aList)\n",
        "\n",
        "def add(s, d, aList):\n",
        "    aList[s].append(d)\n",
        "\n",
        "def dfs(node, aList, visited):\n",
        "    if node not in visited:\n",
        "        print(node, end=\" \")\n",
        "        visited.add(node)\n",
        "        for neighbor in aList[node]:\n",
        "            dfs(neighbor, aList, visited)\n",
        "\n",
        "def dfs_traversal(start, aList):\n",
        "    visited = set()\n",
        "    dfs(start, aList, visited)\n",
        "\n",
        "add(0, 1, aList)\n",
        "add(0, 3, aList)\n",
        "add(0, 4, aList)\n",
        "add(1, 0, aList)\n",
        "add(1, 2, aList)\n",
        "add(2, 1, aList)\n",
        "add(2, 4, aList)\n",
        "add(3, 0, aList)\n",
        "add(4, 0, aList)\n",
        "add(4, 2, aList)\n",
        "\n",
        "print(\"DFS starting from node 0:\")\n",
        "dfs_traversal(0, aList)\n",
        "print(aList)"
      ],
      "metadata": {
        "colab": {
          "base_uri": "https://localhost:8080/"
        },
        "id": "q65lmr9d6nSC",
        "outputId": "9a03e190-7e9f-456d-f1fc-e0d67ec2cb74"
      },
      "execution_count": 21,
      "outputs": [
        {
          "output_type": "stream",
          "name": "stdout",
          "text": [
            "[[], [], [], [], []]\n",
            "DFS starting from node 0:\n",
            "0 1 3 4 2 [[1, 3, 4, 0, 2, 1, 4, 0, 0, 2], [1, 3, 4, 0, 2, 1, 4, 0, 0, 2], [1, 3, 4, 0, 2, 1, 4, 0, 0, 2], [1, 3, 4, 0, 2, 1, 4, 0, 0, 2], [1, 3, 4, 0, 2, 1, 4, 0, 0, 2]]\n"
          ]
        }
      ]
    },
    {
      "cell_type": "code",
      "source": [],
      "metadata": {
        "id": "EJULW68a6r8Q"
      },
      "execution_count": null,
      "outputs": []
    }
  ]
}