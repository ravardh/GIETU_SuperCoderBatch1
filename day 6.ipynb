{
 "cells": [
  {
   "cell_type": "markdown",
   "metadata": {},
   "source": [
    "# KMP algorithm"
   ]
  },
  {
   "cell_type": "code",
   "execution_count": 7,
   "metadata": {},
   "outputs": [
    {
     "name": "stdout",
     "output_type": "stream",
     "text": [
      "3\n",
      "[2, 11, 16]\n"
     ]
    }
   ],
   "source": [
    "s1=\"ABABCABACBCABCABABCABACB\"\n",
    "s2=\"ABC\"\n",
    "sol=[]\n",
    "count=0\n",
    "for i in range(0,len(s1)):\n",
    "    if(s1[i:i+len(s2)]==s2):\n",
    "        count+=1\n",
    "        sol.append(i)\n",
    "print(count)\n",
    "print(sol)"
   ]
  },
  {
   "cell_type": "code",
   "execution_count": 9,
   "metadata": {},
   "outputs": [
    {
     "name": "stdout",
     "output_type": "stream",
     "text": [
      "Found pattern at index 3\n",
      "Found pattern at index 10\n",
      "Found pattern at index 16\n"
     ]
    }
   ],
   "source": [
    "#KMP Algorithm\n",
    "\n",
    "\n",
    "def KMPSearch(pat, data):\n",
    "    M = len(pat)\n",
    "    N = len(data)\n",
    "    \n",
    "    lps = [0]*M\n",
    "    j = 0 \n",
    "    \n",
    "    LPS(pat, M, lps)\n",
    "\n",
    "    i = 0 \n",
    "    while (N - i) >= (M - j):\n",
    "        if pat[j] == data[i]:\n",
    "            i += 1\n",
    "            j += 1\n",
    "\n",
    "        if j == M:\n",
    "            print(\"Found pattern at index \" + str(i-j))\n",
    "            j = lps[j-1]\n",
    "\n",
    "        elif i < N and pat[j] != data[i]:\n",
    "            if j != 0:\n",
    "                j = lps[j-1]\n",
    "            else:\n",
    "                i += 1\n",
    "\n",
    "\n",
    "\n",
    "def LPS(pat, M, lps):\n",
    "    len = 0 \n",
    "\n",
    "    lps[0] = 0 \n",
    "    i = 1\n",
    "\n",
    "    \n",
    "    while i < M:\n",
    "        if pat[i] == pat[len]:\n",
    "            len += 1\n",
    "            lps[i] = len\n",
    "            i += 1\n",
    "        else:\n",
    "            if len != 0:\n",
    "                len = lps[len-1]\n",
    "            else:\n",
    "                lps[i] = 0\n",
    "                i += 1\n",
    "\n",
    "\n",
    "# Driver code\n",
    "if __name__ == '__main__':\n",
    "    data = \"ABAABABCABABABCAABABCABAC\"\n",
    "    pat = \"ABABC\"\n",
    "    KMPSearch(pat, data)  "
   ]
  },
  {
   "cell_type": "code",
   "execution_count": 12,
   "metadata": {},
   "outputs": [
    {
     "name": "stdout",
     "output_type": "stream",
     "text": [
      "<__main__.node object at 0x0000029ADD7ECD00>\n",
      "1\n",
      "<__main__.node object at 0x0000029ADD7ECC10>\n",
      "2\n",
      "<__main__.node object at 0x0000029ADD7EC220>\n",
      "3\n",
      "<__main__.node object at 0x0000029ADD7EC7F0>\n",
      "4\n",
      "<__main__.node object at 0x0000029ADD7ECF40>\n",
      "5\n",
      "<__main__.node object at 0x0000029ADD7EC100>\n",
      "6\n",
      "None\n"
     ]
    }
   ],
   "source": [
    "class node:\n",
    "    def __init__(self,data=None):\n",
    "        self.data=data\n",
    "        self.next = None\n",
    "        \n",
    "n1=node(1)\n",
    "n2=node(2)\n",
    "n3=node(3)\n",
    "n4=node(4)\n",
    "n5=node(5)\n",
    "n6=node(6)\n",
    "\n",
    "start = n1\n",
    "\n",
    "n1.next=n2\n",
    "n2.next=n3\n",
    "n3.next=n4\n",
    "n4.next=n5\n",
    "n5.next=n6\n",
    "print(start)\n",
    "cur=start\n",
    "while cur:\n",
    "    print(cur.data)\n",
    "    cur = cur.next\n",
    "    print(cur)"
   ]
  },
  {
   "cell_type": "code",
   "execution_count": 9,
   "metadata": {},
   "outputs": [
    {
     "name": "stdout",
     "output_type": "stream",
     "text": [
      "5->5->none\n"
     ]
    }
   ],
   "source": [
    "class Node:\n",
    "    def __init__(self,data):\n",
    "        self.data=data\n",
    "        self.next=None\n",
    "class LinkedList:\n",
    "    def __init__(self):\n",
    "        self.head=None\n",
    "    def insertatbegin(self,data):\n",
    "        new_node=Node(data)\n",
    "        self.head=new_node\n",
    "    def insertatend(self,data):\n",
    "        new_node = Node(data)\n",
    "        last_node = self.head\n",
    "        while last_node.next:\n",
    "            last_node = last_node.next\n",
    "        last_node.next = new_node\n",
    "    def insertatposition(self,data,position):\n",
    "        new_node=Node(data)\n",
    "        if position==0:\n",
    "            new_node.next=self.head\n",
    "            self.head=new_node\n",
    "        current=self.head\n",
    "        for i in range(position-1):\n",
    "            current=current.next\n",
    "        new_node.next=current.next\n",
    "        current.next=new_node\n",
    "    def deleteatbegin(self):\n",
    "        self.head=self.head.next\n",
    "    def deleteatend(self):\n",
    "        current=self.head\n",
    "        while current.next.next:\n",
    "            current=current.next\n",
    "        current.next=None\n",
    "    def deleteatposition(self,position):\n",
    "        if position==0:\n",
    "            self.head=self.head.next\n",
    "            return\n",
    "        current=self.head\n",
    "        for i in range(position-1):\n",
    "            current.next=current.next.next\n",
    "       \n",
    "        \n",
    "    def display(self):\n",
    "        current=self.head\n",
    "        while current:\n",
    "            print(current.data,end=\"->\")\n",
    "            current=current.next\n",
    "        print(\"none\")\n",
    "a=LinkedList()\n",
    "a.insertatbegin(2)\n",
    "a.insertatposition(5,1)\n",
    "a.insertatposition(8,2)\n",
    "a.insertatposition(5,3)\n",
    "a.insertatend(9)\n",
    "a.deleteatbegin()\n",
    "a.deleteatend()\n",
    "a.deleteatposition(2)\n",
    "a.display()"
   ]
  },
  {
   "cell_type": "code",
   "execution_count": null,
   "metadata": {},
   "outputs": [],
   "source": []
  }
 ],
 "metadata": {
  "kernelspec": {
   "display_name": "Python 3",
   "language": "python",
   "name": "python3"
  },
  "language_info": {
   "codemirror_mode": {
    "name": "ipython",
    "version": 3
   },
   "file_extension": ".py",
   "mimetype": "text/x-python",
   "name": "python",
   "nbconvert_exporter": "python",
   "pygments_lexer": "ipython3",
   "version": "3.8.5"
  }
 },
 "nbformat": 4,
 "nbformat_minor": 4
}
